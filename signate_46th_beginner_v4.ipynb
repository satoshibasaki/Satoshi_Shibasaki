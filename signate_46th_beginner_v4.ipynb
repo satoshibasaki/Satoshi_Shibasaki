{
  "nbformat": 4,
  "nbformat_minor": 0,
  "metadata": {
    "colab": {
      "provenance": [],
      "authorship_tag": "ABX9TyM7R27O60oiNJpG818ywjn2",
      "include_colab_link": true
    },
    "kernelspec": {
      "name": "python3",
      "display_name": "Python 3"
    },
    "language_info": {
      "name": "python"
    }
  },
  "cells": [
    {
      "cell_type": "markdown",
      "metadata": {
        "id": "view-in-github",
        "colab_type": "text"
      },
      "source": [
        "<a href=\"https://colab.research.google.com/github/satoshibasaki/competition/blob/main/signate_46th_beginner_v4.ipynb\" target=\"_parent\"><img src=\"https://colab.research.google.com/assets/colab-badge.svg\" alt=\"Open In Colab\"/></a>"
      ]
    },
    {
      "cell_type": "markdown",
      "source": [
        "# 【第46回_Beginner限定コンペ】携帯電話の機能データからの価格帯分類\n"
      ],
      "metadata": {
        "id": "aZ5bX_-3YJSE"
      }
    },
    {
      "cell_type": "markdown",
      "source": [
        "携帯電話の機能から販売価格を分類しよう！"
      ],
      "metadata": {
        "id": "7nRJ2KleYQfn"
      }
    },
    {
      "cell_type": "markdown",
      "source": [
        "## ライブラリの読み込み"
      ],
      "metadata": {
        "id": "-eLWRGvhYEN1"
      }
    },
    {
      "cell_type": "code",
      "source": [
        "!pip install optuna optuna-integration catboost"
      ],
      "metadata": {
        "colab": {
          "base_uri": "https://localhost:8080/"
        },
        "id": "qdpEvLeSdqHG",
        "outputId": "f7132ca0-5ac7-4aa7-b39f-6292537f7a80"
      },
      "execution_count": 3,
      "outputs": [
        {
          "output_type": "stream",
          "name": "stdout",
          "text": [
            "Requirement already satisfied: optuna in /usr/local/lib/python3.10/dist-packages (3.6.1)\n",
            "Requirement already satisfied: optuna-integration in /usr/local/lib/python3.10/dist-packages (3.6.0)\n",
            "Collecting catboost\n",
            "  Downloading catboost-1.2.5-cp310-cp310-manylinux2014_x86_64.whl (98.2 MB)\n",
            "\u001b[2K     \u001b[90m━━━━━━━━━━━━━━━━━━━━━━━━━━━━━━━━━━━━━━━━\u001b[0m \u001b[32m98.2/98.2 MB\u001b[0m \u001b[31m4.5 MB/s\u001b[0m eta \u001b[36m0:00:00\u001b[0m\n",
            "\u001b[?25hRequirement already satisfied: alembic>=1.5.0 in /usr/local/lib/python3.10/dist-packages (from optuna) (1.13.1)\n",
            "Requirement already satisfied: colorlog in /usr/local/lib/python3.10/dist-packages (from optuna) (6.8.2)\n",
            "Requirement already satisfied: numpy in /usr/local/lib/python3.10/dist-packages (from optuna) (1.25.2)\n",
            "Requirement already satisfied: packaging>=20.0 in /usr/local/lib/python3.10/dist-packages (from optuna) (24.0)\n",
            "Requirement already satisfied: sqlalchemy>=1.3.0 in /usr/local/lib/python3.10/dist-packages (from optuna) (2.0.30)\n",
            "Requirement already satisfied: tqdm in /usr/local/lib/python3.10/dist-packages (from optuna) (4.66.4)\n",
            "Requirement already satisfied: PyYAML in /usr/local/lib/python3.10/dist-packages (from optuna) (6.0.1)\n",
            "Requirement already satisfied: graphviz in /usr/local/lib/python3.10/dist-packages (from catboost) (0.20.3)\n",
            "Requirement already satisfied: matplotlib in /usr/local/lib/python3.10/dist-packages (from catboost) (3.7.1)\n",
            "Requirement already satisfied: pandas>=0.24 in /usr/local/lib/python3.10/dist-packages (from catboost) (2.0.3)\n",
            "Requirement already satisfied: scipy in /usr/local/lib/python3.10/dist-packages (from catboost) (1.11.4)\n",
            "Requirement already satisfied: plotly in /usr/local/lib/python3.10/dist-packages (from catboost) (5.15.0)\n",
            "Requirement already satisfied: six in /usr/local/lib/python3.10/dist-packages (from catboost) (1.16.0)\n",
            "Requirement already satisfied: Mako in /usr/local/lib/python3.10/dist-packages (from alembic>=1.5.0->optuna) (1.3.5)\n",
            "Requirement already satisfied: typing-extensions>=4 in /usr/local/lib/python3.10/dist-packages (from alembic>=1.5.0->optuna) (4.11.0)\n",
            "Requirement already satisfied: python-dateutil>=2.8.2 in /usr/local/lib/python3.10/dist-packages (from pandas>=0.24->catboost) (2.8.2)\n",
            "Requirement already satisfied: pytz>=2020.1 in /usr/local/lib/python3.10/dist-packages (from pandas>=0.24->catboost) (2023.4)\n",
            "Requirement already satisfied: tzdata>=2022.1 in /usr/local/lib/python3.10/dist-packages (from pandas>=0.24->catboost) (2024.1)\n",
            "Requirement already satisfied: greenlet!=0.4.17 in /usr/local/lib/python3.10/dist-packages (from sqlalchemy>=1.3.0->optuna) (3.0.3)\n",
            "Requirement already satisfied: contourpy>=1.0.1 in /usr/local/lib/python3.10/dist-packages (from matplotlib->catboost) (1.2.1)\n",
            "Requirement already satisfied: cycler>=0.10 in /usr/local/lib/python3.10/dist-packages (from matplotlib->catboost) (0.12.1)\n",
            "Requirement already satisfied: fonttools>=4.22.0 in /usr/local/lib/python3.10/dist-packages (from matplotlib->catboost) (4.51.0)\n",
            "Requirement already satisfied: kiwisolver>=1.0.1 in /usr/local/lib/python3.10/dist-packages (from matplotlib->catboost) (1.4.5)\n",
            "Requirement already satisfied: pillow>=6.2.0 in /usr/local/lib/python3.10/dist-packages (from matplotlib->catboost) (9.4.0)\n",
            "Requirement already satisfied: pyparsing>=2.3.1 in /usr/local/lib/python3.10/dist-packages (from matplotlib->catboost) (3.1.2)\n",
            "Requirement already satisfied: tenacity>=6.2.0 in /usr/local/lib/python3.10/dist-packages (from plotly->catboost) (8.3.0)\n",
            "Requirement already satisfied: MarkupSafe>=0.9.2 in /usr/local/lib/python3.10/dist-packages (from Mako->alembic>=1.5.0->optuna) (2.1.5)\n",
            "Installing collected packages: catboost\n",
            "Successfully installed catboost-1.2.5\n"
          ]
        }
      ]
    },
    {
      "cell_type": "code",
      "source": [
        "import pandas as pd\n",
        "import numpy as np\n",
        "import matplotlib.pyplot as plt\n",
        "import seaborn as sns\n",
        "from sklearn.model_selection import train_test_split\n",
        "from sklearn.preprocessing import StandardScaler\n",
        "from sklearn.model_selection import cross_val_score\n",
        "from sklearn.metrics import accuracy_score, f1_score\n",
        "from xgboost import XGBClassifier\n",
        "from sklearn.svm import SVC\n",
        "# from lightgbm import LGBMClassifier\n",
        "import lightgbm as lgb\n",
        "import catboost as cb\n",
        "from sklearn.ensemble import RandomForestClassifier, VotingClassifier\n",
        "import optuna\n",
        "import optuna.visualization as vis\n",
        "# import optuna.integration.lightgbm as lgb\n",
        "from optuna.integration import CatBoostPruningCallback"
      ],
      "metadata": {
        "id": "lG4f0bqmYDNB"
      },
      "execution_count": 4,
      "outputs": []
    },
    {
      "cell_type": "markdown",
      "source": [
        "## データの読み込み"
      ],
      "metadata": {
        "id": "rflpRsu4YTiq"
      }
    },
    {
      "cell_type": "code",
      "source": [
        "from google.colab import drive\n",
        "drive.mount('/content/drive')"
      ],
      "metadata": {
        "colab": {
          "base_uri": "https://localhost:8080/"
        },
        "id": "o9JX7iweRWft",
        "outputId": "0a8a9649-6134-4532-e0fc-19b2c56987c8"
      },
      "execution_count": 5,
      "outputs": [
        {
          "output_type": "stream",
          "name": "stdout",
          "text": [
            "Mounted at /content/drive\n"
          ]
        }
      ]
    },
    {
      "cell_type": "code",
      "execution_count": 6,
      "metadata": {
        "id": "_I5xXGftRPki"
      },
      "outputs": [],
      "source": [
        "dir = \"/content/drive/MyDrive/Data/signate_46th_begginer\"\n",
        "df_train_all = pd.read_csv(dir + '/train.csv')\n",
        "df_test = pd.read_csv(dir + '/test.csv')\n",
        "df_test_id = df_test[\"id\"]\n",
        "sample_submission = pd.read_csv(dir + '/sample_submission.csv')"
      ]
    },
    {
      "cell_type": "markdown",
      "source": [
        "テストデータセットとサンプルファイルのデータ数が合わない。\n",
        "\n",
        "id=1 がサンプルには無いのが原因。"
      ],
      "metadata": {
        "id": "VNCEmDrofrgJ"
      }
    },
    {
      "cell_type": "markdown",
      "source": [
        "## データの前処理"
      ],
      "metadata": {
        "id": "AZB2BHL_xQ2F"
      }
    },
    {
      "cell_type": "code",
      "source": [
        "# id は不要なので落とす\n",
        "df_train_all = df_train_all.drop('id', axis=1)\n",
        "df_test = df_test.drop('id', axis=1)\n",
        "\n",
        "# ターゲット変数 y は分けておく\n",
        "y = df_train_all[\"price_range\"]\n",
        "X = df_train_all.drop(\"price_range\", axis=1)  # ここから特徴量は X, df_test に対して作成・追加する"
      ],
      "metadata": {
        "id": "aQdarQdoQNfN"
      },
      "execution_count": 7,
      "outputs": []
    },
    {
      "cell_type": "markdown",
      "source": [
        "### 新しい特徴量の作成・追加"
      ],
      "metadata": {
        "id": "hZFWs7Qfo2DJ"
      }
    },
    {
      "cell_type": "code",
      "source": [
        "# スクリーン面積: sc_area\n",
        "X[\"sc_area\"] = np.multiply(X[\"sc_h\"], X[\"sc_w\"])\n",
        "df_test[\"sc_area\"] = np.multiply(df_test[\"sc_h\"], df_test[\"sc_w\"])\n",
        "\n",
        "# 画面比率: sc_ratio => NG (inf)\n",
        "# X[\"sc_ratio\"] = np.divide(X[\"sc_h\"], X[\"sc_w\"])\n",
        "# df_test[\"sc_ratio\"] = np.divide(df_test[\"sc_h\"], df_test[\"sc_w\"])\n",
        "\n",
        "# 連続通信時間比: talk_time_ratio\n",
        "# X[\"talk_time_ratio\"] = X[\"talk_time\"] / X[\"battery_power\"]\n",
        "# df_test[\"talk_time_ratio\"] = df_test[\"talk_time\"] / df_test[\"battery_power\"]\n",
        "\n",
        "# ピクセル密度: px_density => 値が大きすぎてNG (inf)\n",
        "# X[\"px_density\"] = np.divide(np.multiply(X[\"px_height\"], X[\"px_width\"]), X[\"sc_area\"])\n",
        "# df_test[\"px_density\"] = np.divide(np.multiply(df_test[\"px_height\"], df_test[\"px_width\"]), df_test[\"sc_area\"])\n",
        "\n",
        "# プロセッサ速度指数: ps_idx\n",
        "X[\"ps_idx\"] = np.multiply(X[\"clock_speed\"], X[\"n_cores\"])\n",
        "df_test[\"ps_idx\"] = np.multiply(df_test[\"clock_speed\"], df_test[\"n_cores\"])\n",
        "\n",
        "# コア当たりのRAM: ram_per_core\n",
        "# X[\"ram_per_core\"] = np.divide(X[\"ram\"], X[\"n_cores\"])\n",
        "# df_test[\"ram_per_core\"] = np.divide(df_test[\"ram\"], df_test[\"n_cores\"])\n",
        "\n",
        "# メモリ効率: mem_eff\n",
        "# X[\"mem_eff\"] = np.divide(X[\"ram\"], X[\"mobile_wt\"])\n",
        "# df_test[\"mem_eff\"] = np.divide(df_test[\"ram\"], df_test[\"mobile_wt\"])\n",
        "\n",
        "# ストレージ効率: str_eff\n",
        "# X[\"str_eff\"] = np.divide(X[\"int_memory\"], X[\"mobile_wt\"])\n",
        "# df_test[\"str_eff\"] = np.divide(df_test[\"int_memory\"], df_test[\"mobile_wt\"])\n",
        "\n",
        "# バッテリー密度: bp_wt\n",
        "# X[\"bp_wt\"] = np.divide(X[\"battery_power\"], X[\"mobile_wt\"])\n",
        "# df_test[\"bp_wt\"] = np.divide(df_test[\"battery_power\"], df_test[\"mobile_wt\"])\n",
        "\n",
        "# カメラ品質指数: cq_idx\n",
        "X[\"cq_idx\"] = X[\"pc\"] + X[\"fc\"]\n",
        "df_test[\"cq_idx\"] = df_test[\"pc\"] + df_test[\"fc\"]\n",
        "\n",
        "# 通信機能数: conn_ft_cnt\n",
        "X[\"conn_ft_cnt\"] = X[\"blue\"] + X[\"four_g\"] + X[\"three_g\"] + X[\"wifi\"]\n",
        "df_test[\"conn_ft_cnt\"] = df_test[\"blue\"] + df_test[\"four_g\"] + df_test[\"three_g\"] + df_test[\"wifi\"]\n",
        "\n",
        "# 全体の機能数: all_ft_cnt\n",
        "X[\"all_ft_cnt\"] = X[\"blue\"] + X[\"dual_sim\"]+ X[\"touch_screen\"] + X[\"four_g\"] + X[\"three_g\"] + X[\"wifi\"]\n",
        "df_test[\"all_ft_cnt\"] = df_test[\"blue\"]+ df_test[\"dual_sim\"]+ df_test[\"touch_screen\"] + df_test[\"four_g\"] + df_test[\"three_g\"] + df_test[\"wifi\"]"
      ],
      "metadata": {
        "id": "vJlL70xGDJKb"
      },
      "execution_count": 8,
      "outputs": []
    },
    {
      "cell_type": "code",
      "source": [
        "# 特徴量同士の相関関係を表示\n",
        "# corr = X.corr()\n",
        "# plt.figure(figsize=(10, 8))  # サイズを大きく設定\n",
        "# sns.heatmap(corr, annot=True, annot_kws={\"size\":6}, cmap='coolwarm')\n",
        "# plt.show()"
      ],
      "metadata": {
        "id": "mqhh2IZmq2hQ"
      },
      "execution_count": 9,
      "outputs": []
    },
    {
      "cell_type": "markdown",
      "source": [
        "### 特徴量の尺度を揃える"
      ],
      "metadata": {
        "id": "t1f13or63xnM"
      }
    },
    {
      "cell_type": "code",
      "source": [
        "std_columns = ['battery_power', 'clock_speed', 'fc',\n",
        "        'int_memory', 'm_dep', 'mobile_wt', 'n_cores', 'pc',\n",
        "        'px_height', 'px_width', 'ram', 'sc_h', 'sc_w', 'talk_time', 'sc_area',\n",
        "        'ps_idx', 'cq_idx', 'conn_ft_cnt', 'all_ft_cnt',\n",
        "        ]\n",
        "\n",
        "# Standardize training data\n",
        "sc = StandardScaler().fit(X[std_columns])\n",
        "# X_train[std_columns] = sc.transform(X_train[std_columns])\n",
        "X[std_columns] = sc.transform(X[std_columns])\n",
        "\n",
        "# Standardize validation data\n",
        "# X_valid[std_columns] = sc.transform(X_valid[std_columns])\n",
        "\n",
        "# Standardize test data\n",
        "df_test[std_columns] = sc.transform(df_test[std_columns])"
      ],
      "metadata": {
        "id": "ciqaPGA62gjt"
      },
      "execution_count": 10,
      "outputs": []
    },
    {
      "cell_type": "markdown",
      "source": [
        "### データセットを訓練・検証データに分割"
      ],
      "metadata": {
        "id": "KtsbfzAY30No"
      }
    },
    {
      "cell_type": "code",
      "source": [
        "X_train, X_valid, y_train, y_valid = train_test_split(X, y, test_size=0.2, random_state=42, stratify=y)"
      ],
      "metadata": {
        "id": "IK16SYuKYro9"
      },
      "execution_count": 11,
      "outputs": []
    },
    {
      "cell_type": "markdown",
      "source": [
        "## Optuna でモデルのハイパーパラメータをチューニングする"
      ],
      "metadata": {
        "id": "TkXVYzgzb9Se"
      }
    },
    {
      "cell_type": "markdown",
      "source": [
        "### 1. ランダムフォレスト"
      ],
      "metadata": {
        "id": "fy1SxVKUFf3o"
      }
    },
    {
      "cell_type": "code",
      "source": [
        "def rf_objective(trial):\n",
        "\n",
        "    # 調整したいハイパーパラメータの範囲\n",
        "    max_depth = trial.suggest_int(\"max_depth\", 2, 32)\n",
        "    n_estimators = trial.suggest_int(\"n_estimators\", 10, 200)\n",
        "    min_samples_split = trial.suggest_int(\"min_samples_split\", 2, 20)\n",
        "    min_samples_leaf = trial.suggest_int(\"min_samples_leaf\", 1, 20)\n",
        "\n",
        "    # モデルの定義\n",
        "    cls = RandomForestClassifier(\n",
        "        max_depth=max_depth,\n",
        "        n_estimators=n_estimators,\n",
        "        min_samples_split=min_samples_split,\n",
        "        min_samples_leaf=min_samples_leaf,\n",
        "        random_state=42\n",
        "    )\n",
        "\n",
        "    score = cross_val_score(cls, X, y, cv=5, scoring='f1_macro')\n",
        "    f1_score = score.mean()\n",
        "    return score.mean()\n",
        "\n",
        "study = optuna.create_study(direction='maximize')\n",
        "study.optimize(rf_objective, n_trials=100)\n",
        "\n",
        "print('Best trial: , ', study.best_trial.params)\n",
        "print('Best score: , ', study.best_trial.value)"
      ],
      "metadata": {
        "colab": {
          "base_uri": "https://localhost:8080/"
        },
        "id": "jxA6QoK2bxkO",
        "outputId": "31ae5cbf-7aeb-441f-c7f2-c1a72a84b561"
      },
      "execution_count": null,
      "outputs": [
        {
          "output_type": "stream",
          "name": "stderr",
          "text": [
            "[I 2024-05-23 23:16:22,346] A new study created in memory with name: no-name-55e0b6bd-f92a-4aaa-86f8-a5b97f24296d\n",
            "[I 2024-05-23 23:16:24,535] Trial 0 finished with value: 0.42198926499421174 and parameters: {'max_depth': 4, 'n_estimators': 111, 'min_samples_split': 7, 'min_samples_leaf': 3}. Best is trial 0 with value: 0.42198926499421174.\n",
            "[I 2024-05-23 23:16:25,773] Trial 1 finished with value: 0.45181148963561774 and parameters: {'max_depth': 12, 'n_estimators': 67, 'min_samples_split': 10, 'min_samples_leaf': 9}. Best is trial 1 with value: 0.45181148963561774.\n",
            "[I 2024-05-23 23:16:28,697] Trial 2 finished with value: 0.4539271677665225 and parameters: {'max_depth': 26, 'n_estimators': 186, 'min_samples_split': 13, 'min_samples_leaf': 15}. Best is trial 2 with value: 0.4539271677665225.\n",
            "[I 2024-05-23 23:16:30,148] Trial 3 finished with value: 0.4592756165246613 and parameters: {'max_depth': 26, 'n_estimators': 89, 'min_samples_split': 18, 'min_samples_leaf': 4}. Best is trial 3 with value: 0.4592756165246613.\n",
            "[I 2024-05-23 23:16:32,500] Trial 4 finished with value: 0.4400247577578115 and parameters: {'max_depth': 5, 'n_estimators': 199, 'min_samples_split': 12, 'min_samples_leaf': 13}. Best is trial 3 with value: 0.4592756165246613.\n",
            "[I 2024-05-23 23:16:32,802] Trial 5 finished with value: 0.43689392744103506 and parameters: {'max_depth': 4, 'n_estimators': 23, 'min_samples_split': 18, 'min_samples_leaf': 9}. Best is trial 3 with value: 0.4592756165246613.\n",
            "[I 2024-05-23 23:16:34,939] Trial 6 finished with value: 0.45894354862367337 and parameters: {'max_depth': 22, 'n_estimators': 126, 'min_samples_split': 14, 'min_samples_leaf': 4}. Best is trial 3 with value: 0.4592756165246613.\n",
            "[I 2024-05-23 23:16:37,940] Trial 7 finished with value: 0.4565406995567269 and parameters: {'max_depth': 10, 'n_estimators': 136, 'min_samples_split': 18, 'min_samples_leaf': 9}. Best is trial 3 with value: 0.4592756165246613.\n",
            "[I 2024-05-23 23:16:40,576] Trial 8 finished with value: 0.4595536537864654 and parameters: {'max_depth': 10, 'n_estimators': 118, 'min_samples_split': 20, 'min_samples_leaf': 1}. Best is trial 8 with value: 0.4595536537864654.\n",
            "[I 2024-05-23 23:16:41,628] Trial 9 finished with value: 0.4527434897464178 and parameters: {'max_depth': 29, 'n_estimators': 54, 'min_samples_split': 16, 'min_samples_leaf': 1}. Best is trial 8 with value: 0.4595536537864654.\n",
            "[I 2024-05-23 23:16:43,668] Trial 10 finished with value: 0.44766713086758275 and parameters: {'max_depth': 17, 'n_estimators': 153, 'min_samples_split': 2, 'min_samples_leaf': 20}. Best is trial 8 with value: 0.4595536537864654.\n",
            "[I 2024-05-23 23:16:45,069] Trial 11 finished with value: 0.45604768574400917 and parameters: {'max_depth': 32, 'n_estimators': 80, 'min_samples_split': 20, 'min_samples_leaf': 5}. Best is trial 8 with value: 0.4595536537864654.\n",
            "[I 2024-05-23 23:16:46,710] Trial 12 finished with value: 0.460231298163085 and parameters: {'max_depth': 19, 'n_estimators': 89, 'min_samples_split': 19, 'min_samples_leaf': 1}. Best is trial 12 with value: 0.460231298163085.\n",
            "[I 2024-05-23 23:16:49,226] Trial 13 finished with value: 0.46420773346473476 and parameters: {'max_depth': 17, 'n_estimators': 161, 'min_samples_split': 20, 'min_samples_leaf': 1}. Best is trial 13 with value: 0.46420773346473476.\n",
            "[I 2024-05-23 23:16:52,959] Trial 14 finished with value: 0.46288632314207145 and parameters: {'max_depth': 19, 'n_estimators': 167, 'min_samples_split': 9, 'min_samples_leaf': 6}. Best is trial 13 with value: 0.46420773346473476.\n",
            "[I 2024-05-23 23:16:56,156] Trial 15 finished with value: 0.4568824192186442 and parameters: {'max_depth': 15, 'n_estimators': 173, 'min_samples_split': 7, 'min_samples_leaf': 6}. Best is trial 13 with value: 0.46420773346473476.\n",
            "[I 2024-05-23 23:16:58,849] Trial 16 finished with value: 0.46039039281840066 and parameters: {'max_depth': 22, 'n_estimators': 158, 'min_samples_split': 8, 'min_samples_leaf': 6}. Best is trial 13 with value: 0.46420773346473476.\n",
            "[I 2024-05-23 23:17:01,363] Trial 17 finished with value: 0.457551712940202 and parameters: {'max_depth': 21, 'n_estimators': 146, 'min_samples_split': 4, 'min_samples_leaf': 7}. Best is trial 13 with value: 0.46420773346473476.\n",
            "[I 2024-05-23 23:17:04,298] Trial 18 finished with value: 0.46302005858424283 and parameters: {'max_depth': 12, 'n_estimators': 170, 'min_samples_split': 10, 'min_samples_leaf': 11}. Best is trial 13 with value: 0.46420773346473476.\n",
            "[I 2024-05-23 23:17:08,388] Trial 19 finished with value: 0.46417085796225244 and parameters: {'max_depth': 13, 'n_estimators': 184, 'min_samples_split': 16, 'min_samples_leaf': 13}. Best is trial 13 with value: 0.46420773346473476.\n",
            "[I 2024-05-23 23:17:11,353] Trial 20 finished with value: 0.4546705325358831 and parameters: {'max_depth': 8, 'n_estimators': 200, 'min_samples_split': 15, 'min_samples_leaf': 15}. Best is trial 13 with value: 0.46420773346473476.\n",
            "[I 2024-05-23 23:17:13,919] Trial 21 finished with value: 0.46667689610199214 and parameters: {'max_depth': 14, 'n_estimators': 179, 'min_samples_split': 16, 'min_samples_leaf': 13}. Best is trial 21 with value: 0.46667689610199214.\n",
            "[I 2024-05-23 23:17:16,709] Trial 22 finished with value: 0.46210204326846877 and parameters: {'max_depth': 16, 'n_estimators': 178, 'min_samples_split': 16, 'min_samples_leaf': 16}. Best is trial 21 with value: 0.46667689610199214.\n",
            "[I 2024-05-23 23:17:19,413] Trial 23 finished with value: 0.45512727124001573 and parameters: {'max_depth': 13, 'n_estimators': 186, 'min_samples_split': 17, 'min_samples_leaf': 12}. Best is trial 21 with value: 0.46667689610199214.\n",
            "[I 2024-05-23 23:17:22,347] Trial 24 finished with value: 0.4405868848848158 and parameters: {'max_depth': 7, 'n_estimators': 143, 'min_samples_split': 14, 'min_samples_leaf': 17}. Best is trial 21 with value: 0.46667689610199214.\n",
            "[I 2024-05-23 23:17:24,973] Trial 25 finished with value: 0.47059340276321826 and parameters: {'max_depth': 15, 'n_estimators': 159, 'min_samples_split': 16, 'min_samples_leaf': 13}. Best is trial 25 with value: 0.47059340276321826.\n",
            "[I 2024-05-23 23:17:26,763] Trial 26 finished with value: 0.4564162057473629 and parameters: {'max_depth': 18, 'n_estimators': 132, 'min_samples_split': 12, 'min_samples_leaf': 18}. Best is trial 25 with value: 0.47059340276321826.\n",
            "[I 2024-05-23 23:17:29,631] Trial 27 finished with value: 0.46749033668619555 and parameters: {'max_depth': 15, 'n_estimators': 151, 'min_samples_split': 20, 'min_samples_leaf': 14}. Best is trial 25 with value: 0.47059340276321826.\n",
            "[I 2024-05-23 23:17:31,110] Trial 28 finished with value: 0.46025656684804395 and parameters: {'max_depth': 15, 'n_estimators': 101, 'min_samples_split': 17, 'min_samples_leaf': 13}. Best is trial 25 with value: 0.47059340276321826.\n",
            "[I 2024-05-23 23:17:32,823] Trial 29 finished with value: 0.46252862933235406 and parameters: {'max_depth': 10, 'n_estimators': 104, 'min_samples_split': 14, 'min_samples_leaf': 14}. Best is trial 25 with value: 0.47059340276321826.\n",
            "[I 2024-05-23 23:17:35,492] Trial 30 finished with value: 0.4582760823998009 and parameters: {'max_depth': 24, 'n_estimators': 121, 'min_samples_split': 19, 'min_samples_leaf': 19}. Best is trial 25 with value: 0.47059340276321826.\n",
            "[I 2024-05-23 23:17:38,649] Trial 31 finished with value: 0.4625058302158367 and parameters: {'max_depth': 15, 'n_estimators': 151, 'min_samples_split': 20, 'min_samples_leaf': 11}. Best is trial 25 with value: 0.47059340276321826.\n",
            "[I 2024-05-23 23:17:41,014] Trial 32 finished with value: 0.4564274404579109 and parameters: {'max_depth': 20, 'n_estimators': 166, 'min_samples_split': 19, 'min_samples_leaf': 10}. Best is trial 25 with value: 0.47059340276321826.\n",
            "[I 2024-05-23 23:17:43,244] Trial 33 finished with value: 0.45601231682073606 and parameters: {'max_depth': 16, 'n_estimators': 158, 'min_samples_split': 17, 'min_samples_leaf': 15}. Best is trial 25 with value: 0.47059340276321826.\n",
            "[I 2024-05-23 23:17:45,403] Trial 34 finished with value: 0.46051794795892825 and parameters: {'max_depth': 13, 'n_estimators': 137, 'min_samples_split': 15, 'min_samples_leaf': 17}. Best is trial 25 with value: 0.47059340276321826.\n",
            "[I 2024-05-23 23:17:49,044] Trial 35 finished with value: 0.4584938109849289 and parameters: {'max_depth': 18, 'n_estimators': 190, 'min_samples_split': 12, 'min_samples_leaf': 12}. Best is trial 25 with value: 0.47059340276321826.\n",
            "[I 2024-05-23 23:17:52,777] Trial 36 finished with value: 0.4640432903993211 and parameters: {'max_depth': 14, 'n_estimators': 164, 'min_samples_split': 18, 'min_samples_leaf': 14}. Best is trial 25 with value: 0.47059340276321826.\n",
            "[I 2024-05-23 23:17:54,764] Trial 37 finished with value: 0.30447072339177617 and parameters: {'max_depth': 2, 'n_estimators': 177, 'min_samples_split': 20, 'min_samples_leaf': 10}. Best is trial 25 with value: 0.47059340276321826.\n",
            "[I 2024-05-23 23:17:55,134] Trial 38 finished with value: 0.433202214730554 and parameters: {'max_depth': 11, 'n_estimators': 21, 'min_samples_split': 11, 'min_samples_leaf': 12}. Best is trial 25 with value: 0.47059340276321826.\n",
            "[I 2024-05-23 23:17:57,843] Trial 39 finished with value: 0.4583882333164464 and parameters: {'max_depth': 8, 'n_estimators': 191, 'min_samples_split': 13, 'min_samples_leaf': 8}. Best is trial 25 with value: 0.47059340276321826.\n",
            "[I 2024-05-23 23:17:58,766] Trial 40 finished with value: 0.458492846096995 and parameters: {'max_depth': 18, 'n_estimators': 60, 'min_samples_split': 18, 'min_samples_leaf': 15}. Best is trial 25 with value: 0.47059340276321826.\n",
            "[I 2024-05-23 23:18:01,488] Trial 41 finished with value: 0.46417085796225244 and parameters: {'max_depth': 13, 'n_estimators': 184, 'min_samples_split': 16, 'min_samples_leaf': 13}. Best is trial 25 with value: 0.47059340276321826.\n",
            "[I 2024-05-23 23:18:04,921] Trial 42 finished with value: 0.4657589628289244 and parameters: {'max_depth': 12, 'n_estimators': 180, 'min_samples_split': 15, 'min_samples_leaf': 14}. Best is trial 25 with value: 0.47059340276321826.\n",
            "[I 2024-05-23 23:18:05,902] Trial 43 finished with value: 0.452186493217984 and parameters: {'max_depth': 16, 'n_estimators': 38, 'min_samples_split': 15, 'min_samples_leaf': 14}. Best is trial 25 with value: 0.47059340276321826.\n",
            "[I 2024-05-23 23:18:09,087] Trial 44 finished with value: 0.46056792419014847 and parameters: {'max_depth': 10, 'n_estimators': 157, 'min_samples_split': 19, 'min_samples_leaf': 16}. Best is trial 25 with value: 0.47059340276321826.\n",
            "[I 2024-05-23 23:18:11,414] Trial 45 finished with value: 0.4594726658810462 and parameters: {'max_depth': 11, 'n_estimators': 146, 'min_samples_split': 17, 'min_samples_leaf': 3}. Best is trial 25 with value: 0.47059340276321826.\n",
            "[I 2024-05-23 23:18:13,484] Trial 46 finished with value: 0.4630183749026532 and parameters: {'max_depth': 24, 'n_estimators': 112, 'min_samples_split': 13, 'min_samples_leaf': 16}. Best is trial 25 with value: 0.47059340276321826.\n",
            "[I 2024-05-23 23:18:15,297] Trial 47 finished with value: 0.4544872652753689 and parameters: {'max_depth': 6, 'n_estimators': 129, 'min_samples_split': 18, 'min_samples_leaf': 9}. Best is trial 25 with value: 0.47059340276321826.\n",
            "[I 2024-05-23 23:18:18,244] Trial 48 finished with value: 0.45267641893183386 and parameters: {'max_depth': 17, 'n_estimators': 176, 'min_samples_split': 20, 'min_samples_leaf': 12}. Best is trial 25 with value: 0.47059340276321826.\n",
            "[I 2024-05-23 23:18:22,283] Trial 49 finished with value: 0.4648445554042243 and parameters: {'max_depth': 14, 'n_estimators': 193, 'min_samples_split': 19, 'min_samples_leaf': 14}. Best is trial 25 with value: 0.47059340276321826.\n",
            "[I 2024-05-23 23:18:25,435] Trial 50 finished with value: 0.4629510014132173 and parameters: {'max_depth': 14, 'n_estimators': 195, 'min_samples_split': 15, 'min_samples_leaf': 14}. Best is trial 25 with value: 0.47059340276321826.\n",
            "[I 2024-05-23 23:18:28,057] Trial 51 finished with value: 0.45937014272186705 and parameters: {'max_depth': 12, 'n_estimators': 179, 'min_samples_split': 19, 'min_samples_leaf': 11}. Best is trial 25 with value: 0.47059340276321826.\n",
            "[I 2024-05-23 23:18:30,332] Trial 52 finished with value: 0.4668655961176141 and parameters: {'max_depth': 14, 'n_estimators': 163, 'min_samples_split': 20, 'min_samples_leaf': 13}. Best is trial 25 with value: 0.47059340276321826.\n",
            "[I 2024-05-23 23:18:33,551] Trial 53 finished with value: 0.45235093693950396 and parameters: {'max_depth': 9, 'n_estimators': 196, 'min_samples_split': 18, 'min_samples_leaf': 13}. Best is trial 25 with value: 0.47059340276321826.\n",
            "[I 2024-05-23 23:18:37,003] Trial 54 finished with value: 0.4543478136545569 and parameters: {'max_depth': 14, 'n_estimators': 170, 'min_samples_split': 17, 'min_samples_leaf': 15}. Best is trial 25 with value: 0.47059340276321826.\n",
            "[I 2024-05-23 23:18:39,142] Trial 55 finished with value: 0.46579640519576077 and parameters: {'max_depth': 12, 'n_estimators': 153, 'min_samples_split': 19, 'min_samples_leaf': 14}. Best is trial 25 with value: 0.47059340276321826.\n",
            "[I 2024-05-23 23:18:41,247] Trial 56 finished with value: 0.4668973604982187 and parameters: {'max_depth': 11, 'n_estimators': 139, 'min_samples_split': 5, 'min_samples_leaf': 13}. Best is trial 25 with value: 0.47059340276321826.\n",
            "[I 2024-05-23 23:18:43,224] Trial 57 finished with value: 0.4668973604982187 and parameters: {'max_depth': 11, 'n_estimators': 139, 'min_samples_split': 5, 'min_samples_leaf': 13}. Best is trial 25 with value: 0.47059340276321826.\n",
            "[I 2024-05-23 23:18:45,163] Trial 58 finished with value: 0.45825929824547246 and parameters: {'max_depth': 11, 'n_estimators': 140, 'min_samples_split': 5, 'min_samples_leaf': 12}. Best is trial 25 with value: 0.47059340276321826.\n",
            "[I 2024-05-23 23:18:47,390] Trial 59 finished with value: 0.44721353687579146 and parameters: {'max_depth': 8, 'n_estimators': 124, 'min_samples_split': 4, 'min_samples_leaf': 10}. Best is trial 25 with value: 0.47059340276321826.\n",
            "[I 2024-05-23 23:18:50,768] Trial 60 finished with value: 0.45636134512607524 and parameters: {'max_depth': 9, 'n_estimators': 150, 'min_samples_split': 6, 'min_samples_leaf': 13}. Best is trial 25 with value: 0.47059340276321826.\n",
            "[I 2024-05-23 23:18:53,138] Trial 61 finished with value: 0.4634563985626971 and parameters: {'max_depth': 15, 'n_estimators': 134, 'min_samples_split': 2, 'min_samples_leaf': 13}. Best is trial 25 with value: 0.47059340276321826.\n",
            "[I 2024-05-23 23:18:55,380] Trial 62 finished with value: 0.4673093243043939 and parameters: {'max_depth': 12, 'n_estimators': 152, 'min_samples_split': 8, 'min_samples_leaf': 11}. Best is trial 25 with value: 0.47059340276321826.\n",
            "[I 2024-05-23 23:18:57,104] Trial 63 finished with value: 0.4512918719701421 and parameters: {'max_depth': 16, 'n_estimators': 113, 'min_samples_split': 8, 'min_samples_leaf': 11}. Best is trial 25 with value: 0.47059340276321826.\n",
            "[I 2024-05-23 23:18:59,860] Trial 64 finished with value: 0.4611065926996738 and parameters: {'max_depth': 11, 'n_estimators': 162, 'min_samples_split': 4, 'min_samples_leaf': 12}. Best is trial 25 with value: 0.47059340276321826.\n",
            "[I 2024-05-23 23:19:02,648] Trial 65 finished with value: 0.45817737929945823 and parameters: {'max_depth': 9, 'n_estimators': 141, 'min_samples_split': 6, 'min_samples_leaf': 11}. Best is trial 25 with value: 0.47059340276321826.\n",
            "[I 2024-05-23 23:19:06,052] Trial 66 finished with value: 0.46285556471072287 and parameters: {'max_depth': 13, 'n_estimators': 153, 'min_samples_split': 3, 'min_samples_leaf': 16}. Best is trial 25 with value: 0.47059340276321826.\n",
            "[I 2024-05-23 23:19:08,314] Trial 67 finished with value: 0.4652353534216994 and parameters: {'max_depth': 17, 'n_estimators': 147, 'min_samples_split': 9, 'min_samples_leaf': 13}. Best is trial 25 with value: 0.47059340276321826.\n",
            "[I 2024-05-23 23:19:10,983] Trial 68 finished with value: 0.4562661987138214 and parameters: {'max_depth': 29, 'n_estimators': 170, 'min_samples_split': 6, 'min_samples_leaf': 8}. Best is trial 25 with value: 0.47059340276321826.\n",
            "[I 2024-05-23 23:19:13,701] Trial 69 finished with value: 0.4569116900301175 and parameters: {'max_depth': 19, 'n_estimators': 159, 'min_samples_split': 5, 'min_samples_leaf': 10}. Best is trial 25 with value: 0.47059340276321826.\n",
            "[I 2024-05-23 23:19:16,607] Trial 70 finished with value: 0.45474682467495453 and parameters: {'max_depth': 15, 'n_estimators': 128, 'min_samples_split': 7, 'min_samples_leaf': 15}. Best is trial 25 with value: 0.47059340276321826.\n",
            "[I 2024-05-23 23:19:20,127] Trial 71 finished with value: 0.4638865673155331 and parameters: {'max_depth': 12, 'n_estimators': 157, 'min_samples_split': 10, 'min_samples_leaf': 14}. Best is trial 25 with value: 0.47059340276321826.\n",
            "[I 2024-05-23 23:19:22,021] Trial 72 finished with value: 0.46694340122341077 and parameters: {'max_depth': 12, 'n_estimators': 96, 'min_samples_split': 5, 'min_samples_leaf': 12}. Best is trial 25 with value: 0.47059340276321826.\n",
            "[I 2024-05-23 23:19:23,310] Trial 73 finished with value: 0.4612093948753073 and parameters: {'max_depth': 10, 'n_estimators': 82, 'min_samples_split': 5, 'min_samples_leaf': 12}. Best is trial 25 with value: 0.47059340276321826.\n",
            "[I 2024-05-23 23:19:24,907] Trial 74 finished with value: 0.45763418432721925 and parameters: {'max_depth': 14, 'n_estimators': 95, 'min_samples_split': 7, 'min_samples_leaf': 11}. Best is trial 25 with value: 0.47059340276321826.\n",
            "[I 2024-05-23 23:19:25,173] Trial 75 finished with value: 0.45458104569323304 and parameters: {'max_depth': 12, 'n_estimators': 10, 'min_samples_split': 3, 'min_samples_leaf': 13}. Best is trial 25 with value: 0.47059340276321826.\n",
            "[I 2024-05-23 23:19:27,030] Trial 76 finished with value: 0.4614351003000706 and parameters: {'max_depth': 13, 'n_estimators': 118, 'min_samples_split': 8, 'min_samples_leaf': 12}. Best is trial 25 with value: 0.47059340276321826.\n",
            "[I 2024-05-23 23:19:28,701] Trial 77 finished with value: 0.4551248420415769 and parameters: {'max_depth': 15, 'n_estimators': 74, 'min_samples_split': 11, 'min_samples_leaf': 9}. Best is trial 25 with value: 0.47059340276321826.\n",
            "[I 2024-05-23 23:19:29,986] Trial 78 finished with value: 0.45758393262582464 and parameters: {'max_depth': 7, 'n_estimators': 92, 'min_samples_split': 3, 'min_samples_leaf': 15}. Best is trial 25 with value: 0.47059340276321826.\n",
            "[I 2024-05-23 23:19:32,731] Trial 79 finished with value: 0.4654472609013737 and parameters: {'max_depth': 11, 'n_estimators': 144, 'min_samples_split': 9, 'min_samples_leaf': 13}. Best is trial 25 with value: 0.47059340276321826.\n",
            "[I 2024-05-23 23:19:36,123] Trial 80 finished with value: 0.4575311094719666 and parameters: {'max_depth': 17, 'n_estimators': 166, 'min_samples_split': 6, 'min_samples_leaf': 12}. Best is trial 25 with value: 0.47059340276321826.\n",
            "[I 2024-05-23 23:19:38,371] Trial 81 finished with value: 0.4618714170352683 and parameters: {'max_depth': 13, 'n_estimators': 154, 'min_samples_split': 20, 'min_samples_leaf': 14}. Best is trial 25 with value: 0.47059340276321826.\n",
            "[I 2024-05-23 23:19:40,336] Trial 82 finished with value: 0.46490005589880107 and parameters: {'max_depth': 10, 'n_estimators': 138, 'min_samples_split': 5, 'min_samples_leaf': 14}. Best is trial 25 with value: 0.47059340276321826.\n",
            "[I 2024-05-23 23:19:43,076] Trial 83 finished with value: 0.45496281216170925 and parameters: {'max_depth': 16, 'n_estimators': 173, 'min_samples_split': 4, 'min_samples_leaf': 11}. Best is trial 25 with value: 0.47059340276321826.\n",
            "[I 2024-05-23 23:19:45,191] Trial 84 finished with value: 0.4561059019583066 and parameters: {'max_depth': 12, 'n_estimators': 149, 'min_samples_split': 20, 'min_samples_leaf': 17}. Best is trial 25 with value: 0.47059340276321826.\n",
            "[I 2024-05-23 23:19:48,644] Trial 85 finished with value: 0.45505618794454106 and parameters: {'max_depth': 14, 'n_estimators': 162, 'min_samples_split': 19, 'min_samples_leaf': 15}. Best is trial 25 with value: 0.47059340276321826.\n",
            "[I 2024-05-23 23:19:50,669] Trial 86 finished with value: 0.4620499525195208 and parameters: {'max_depth': 10, 'n_estimators': 108, 'min_samples_split': 20, 'min_samples_leaf': 13}. Best is trial 25 with value: 0.47059340276321826.\n",
            "[I 2024-05-23 23:19:52,896] Trial 87 finished with value: 0.45360725454923356 and parameters: {'max_depth': 11, 'n_estimators': 132, 'min_samples_split': 14, 'min_samples_leaf': 12}. Best is trial 25 with value: 0.47059340276321826.\n",
            "[I 2024-05-23 23:19:55,195] Trial 88 finished with value: 0.469038899433185 and parameters: {'max_depth': 13, 'n_estimators': 168, 'min_samples_split': 19, 'min_samples_leaf': 13}. Best is trial 25 with value: 0.47059340276321826.\n",
            "[I 2024-05-23 23:19:56,659] Trial 89 finished with value: 0.4540321574249241 and parameters: {'max_depth': 14, 'n_estimators': 100, 'min_samples_split': 16, 'min_samples_leaf': 11}. Best is trial 25 with value: 0.47059340276321826.\n",
            "[I 2024-05-23 23:19:59,992] Trial 90 finished with value: 0.4500125160695066 and parameters: {'max_depth': 15, 'n_estimators': 185, 'min_samples_split': 18, 'min_samples_leaf': 10}. Best is trial 25 with value: 0.47059340276321826.\n",
            "[I 2024-05-23 23:20:03,881] Trial 91 finished with value: 0.46579640519576077 and parameters: {'max_depth': 12, 'n_estimators': 153, 'min_samples_split': 19, 'min_samples_leaf': 14}. Best is trial 25 with value: 0.47059340276321826.\n",
            "[I 2024-05-23 23:20:06,717] Trial 92 finished with value: 0.4697982016743283 and parameters: {'max_depth': 13, 'n_estimators': 167, 'min_samples_split': 19, 'min_samples_leaf': 13}. Best is trial 25 with value: 0.47059340276321826.\n",
            "[I 2024-05-23 23:20:09,275] Trial 93 finished with value: 0.4697982016743283 and parameters: {'max_depth': 13, 'n_estimators': 167, 'min_samples_split': 20, 'min_samples_leaf': 13}. Best is trial 25 with value: 0.47059340276321826.\n",
            "[I 2024-05-23 23:20:12,452] Trial 94 finished with value: 0.468164908330617 and parameters: {'max_depth': 13, 'n_estimators': 170, 'min_samples_split': 20, 'min_samples_leaf': 13}. Best is trial 25 with value: 0.47059340276321826.\n",
            "[I 2024-05-23 23:20:15,613] Trial 95 finished with value: 0.45364309675092285 and parameters: {'max_depth': 9, 'n_estimators': 173, 'min_samples_split': 20, 'min_samples_leaf': 12}. Best is trial 25 with value: 0.47059340276321826.\n",
            "[I 2024-05-23 23:20:19,269] Trial 96 finished with value: 0.4697982016743283 and parameters: {'max_depth': 13, 'n_estimators': 167, 'min_samples_split': 18, 'min_samples_leaf': 13}. Best is trial 25 with value: 0.47059340276321826.\n",
            "[I 2024-05-23 23:20:21,942] Trial 97 finished with value: 0.47069390011351286 and parameters: {'max_depth': 13, 'n_estimators': 166, 'min_samples_split': 18, 'min_samples_leaf': 13}. Best is trial 97 with value: 0.47069390011351286.\n",
            "[I 2024-05-23 23:20:24,693] Trial 98 finished with value: 0.461437883206694 and parameters: {'max_depth': 13, 'n_estimators': 169, 'min_samples_split': 18, 'min_samples_leaf': 12}. Best is trial 97 with value: 0.47069390011351286.\n",
            "[I 2024-05-23 23:20:27,312] Trial 99 finished with value: 0.45634441235551215 and parameters: {'max_depth': 13, 'n_estimators': 188, 'min_samples_split': 17, 'min_samples_leaf': 15}. Best is trial 97 with value: 0.47069390011351286.\n"
          ]
        },
        {
          "output_type": "stream",
          "name": "stdout",
          "text": [
            "Best trial: ,  {'max_depth': 13, 'n_estimators': 166, 'min_samples_split': 18, 'min_samples_leaf': 13}\n",
            "Best score: ,  0.47069390011351286\n"
          ]
        }
      ]
    },
    {
      "cell_type": "code",
      "source": [
        "# 探索履歴のプロット\n",
        "opt_history = vis.plot_optimization_history(study)\n",
        "opt_history.show()\n",
        "\n",
        "# ハイパーパラメータの重要度のプロット\n",
        "param_importances = vis.plot_param_importances(study)\n",
        "param_importances.show()"
      ],
      "metadata": {
        "colab": {
          "base_uri": "https://localhost:8080/",
          "height": 1000
        },
        "id": "qYiHgCr_BfM1",
        "outputId": "3ddaf87a-00f9-468c-dd0c-3bc7f9d58dba"
      },
      "execution_count": null,
      "outputs": [
        {
          "output_type": "display_data",
          "data": {
            "text/html": [
              "<html>\n",
              "<head><meta charset=\"utf-8\" /></head>\n",
              "<body>\n",
              "    <div>            <script src=\"https://cdnjs.cloudflare.com/ajax/libs/mathjax/2.7.5/MathJax.js?config=TeX-AMS-MML_SVG\"></script><script type=\"text/javascript\">if (window.MathJax && window.MathJax.Hub && window.MathJax.Hub.Config) {window.MathJax.Hub.Config({SVG: {font: \"STIX-Web\"}});}</script>                <script type=\"text/javascript\">window.PlotlyConfig = {MathJaxConfig: 'local'};</script>\n",
              "        <script charset=\"utf-8\" src=\"https://cdn.plot.ly/plotly-2.24.1.min.js\"></script>                <div id=\"d579800f-3d34-499b-a7be-183227744c74\" class=\"plotly-graph-div\" style=\"height:525px; width:100%;\"></div>            <script type=\"text/javascript\">                                    window.PLOTLYENV=window.PLOTLYENV || {};                                    if (document.getElementById(\"d579800f-3d34-499b-a7be-183227744c74\")) {                    Plotly.newPlot(                        \"d579800f-3d34-499b-a7be-183227744c74\",                        [{\"mode\":\"markers\",\"name\":\"Objective Value\",\"x\":[0,1,2,3,4,5,6,7,8,9,10,11,12,13,14,15,16,17,18,19,20,21,22,23,24,25,26,27,28,29,30,31,32,33,34,35,36,37,38,39,40,41,42,43,44,45,46,47,48,49,50,51,52,53,54,55,56,57,58,59,60,61,62,63,64,65,66,67,68,69,70,71,72,73,74,75,76,77,78,79,80,81,82,83,84,85,86,87,88,89,90,91,92,93,94,95,96,97,98,99],\"y\":[0.42198926499421174,0.45181148963561774,0.4539271677665225,0.4592756165246613,0.4400247577578115,0.43689392744103506,0.45894354862367337,0.4565406995567269,0.4595536537864654,0.4527434897464178,0.44766713086758275,0.45604768574400917,0.460231298163085,0.46420773346473476,0.46288632314207145,0.4568824192186442,0.46039039281840066,0.457551712940202,0.46302005858424283,0.46417085796225244,0.4546705325358831,0.46667689610199214,0.46210204326846877,0.45512727124001573,0.4405868848848158,0.47059340276321826,0.4564162057473629,0.46749033668619555,0.46025656684804395,0.46252862933235406,0.4582760823998009,0.4625058302158367,0.4564274404579109,0.45601231682073606,0.46051794795892825,0.4584938109849289,0.4640432903993211,0.30447072339177617,0.433202214730554,0.4583882333164464,0.458492846096995,0.46417085796225244,0.4657589628289244,0.452186493217984,0.46056792419014847,0.4594726658810462,0.4630183749026532,0.4544872652753689,0.45267641893183386,0.4648445554042243,0.4629510014132173,0.45937014272186705,0.4668655961176141,0.45235093693950396,0.4543478136545569,0.46579640519576077,0.4668973604982187,0.4668973604982187,0.45825929824547246,0.44721353687579146,0.45636134512607524,0.4634563985626971,0.4673093243043939,0.4512918719701421,0.4611065926996738,0.45817737929945823,0.46285556471072287,0.4652353534216994,0.4562661987138214,0.4569116900301175,0.45474682467495453,0.4638865673155331,0.46694340122341077,0.4612093948753073,0.45763418432721925,0.45458104569323304,0.4614351003000706,0.4551248420415769,0.45758393262582464,0.4654472609013737,0.4575311094719666,0.4618714170352683,0.46490005589880107,0.45496281216170925,0.4561059019583066,0.45505618794454106,0.4620499525195208,0.45360725454923356,0.469038899433185,0.4540321574249241,0.4500125160695066,0.46579640519576077,0.4697982016743283,0.4697982016743283,0.468164908330617,0.45364309675092285,0.4697982016743283,0.47069390011351286,0.461437883206694,0.45634441235551215],\"type\":\"scatter\"},{\"mode\":\"lines\",\"name\":\"Best Value\",\"x\":[0,1,2,3,4,5,6,7,8,9,10,11,12,13,14,15,16,17,18,19,20,21,22,23,24,25,26,27,28,29,30,31,32,33,34,35,36,37,38,39,40,41,42,43,44,45,46,47,48,49,50,51,52,53,54,55,56,57,58,59,60,61,62,63,64,65,66,67,68,69,70,71,72,73,74,75,76,77,78,79,80,81,82,83,84,85,86,87,88,89,90,91,92,93,94,95,96,97,98,99],\"y\":[0.42198926499421174,0.45181148963561774,0.4539271677665225,0.4592756165246613,0.4592756165246613,0.4592756165246613,0.4592756165246613,0.4592756165246613,0.4595536537864654,0.4595536537864654,0.4595536537864654,0.4595536537864654,0.460231298163085,0.46420773346473476,0.46420773346473476,0.46420773346473476,0.46420773346473476,0.46420773346473476,0.46420773346473476,0.46420773346473476,0.46420773346473476,0.46667689610199214,0.46667689610199214,0.46667689610199214,0.46667689610199214,0.47059340276321826,0.47059340276321826,0.47059340276321826,0.47059340276321826,0.47059340276321826,0.47059340276321826,0.47059340276321826,0.47059340276321826,0.47059340276321826,0.47059340276321826,0.47059340276321826,0.47059340276321826,0.47059340276321826,0.47059340276321826,0.47059340276321826,0.47059340276321826,0.47059340276321826,0.47059340276321826,0.47059340276321826,0.47059340276321826,0.47059340276321826,0.47059340276321826,0.47059340276321826,0.47059340276321826,0.47059340276321826,0.47059340276321826,0.47059340276321826,0.47059340276321826,0.47059340276321826,0.47059340276321826,0.47059340276321826,0.47059340276321826,0.47059340276321826,0.47059340276321826,0.47059340276321826,0.47059340276321826,0.47059340276321826,0.47059340276321826,0.47059340276321826,0.47059340276321826,0.47059340276321826,0.47059340276321826,0.47059340276321826,0.47059340276321826,0.47059340276321826,0.47059340276321826,0.47059340276321826,0.47059340276321826,0.47059340276321826,0.47059340276321826,0.47059340276321826,0.47059340276321826,0.47059340276321826,0.47059340276321826,0.47059340276321826,0.47059340276321826,0.47059340276321826,0.47059340276321826,0.47059340276321826,0.47059340276321826,0.47059340276321826,0.47059340276321826,0.47059340276321826,0.47059340276321826,0.47059340276321826,0.47059340276321826,0.47059340276321826,0.47059340276321826,0.47059340276321826,0.47059340276321826,0.47059340276321826,0.47059340276321826,0.47069390011351286,0.47069390011351286,0.47069390011351286],\"type\":\"scatter\"},{\"marker\":{\"color\":\"#cccccc\"},\"mode\":\"markers\",\"name\":\"Infeasible Trial\",\"showlegend\":false,\"x\":[],\"y\":[],\"type\":\"scatter\"}],                        {\"title\":{\"text\":\"Optimization History Plot\"},\"xaxis\":{\"title\":{\"text\":\"Trial\"}},\"yaxis\":{\"title\":{\"text\":\"Objective Value\"}},\"template\":{\"data\":{\"histogram2dcontour\":[{\"type\":\"histogram2dcontour\",\"colorbar\":{\"outlinewidth\":0,\"ticks\":\"\"},\"colorscale\":[[0.0,\"#0d0887\"],[0.1111111111111111,\"#46039f\"],[0.2222222222222222,\"#7201a8\"],[0.3333333333333333,\"#9c179e\"],[0.4444444444444444,\"#bd3786\"],[0.5555555555555556,\"#d8576b\"],[0.6666666666666666,\"#ed7953\"],[0.7777777777777778,\"#fb9f3a\"],[0.8888888888888888,\"#fdca26\"],[1.0,\"#f0f921\"]]}],\"choropleth\":[{\"type\":\"choropleth\",\"colorbar\":{\"outlinewidth\":0,\"ticks\":\"\"}}],\"histogram2d\":[{\"type\":\"histogram2d\",\"colorbar\":{\"outlinewidth\":0,\"ticks\":\"\"},\"colorscale\":[[0.0,\"#0d0887\"],[0.1111111111111111,\"#46039f\"],[0.2222222222222222,\"#7201a8\"],[0.3333333333333333,\"#9c179e\"],[0.4444444444444444,\"#bd3786\"],[0.5555555555555556,\"#d8576b\"],[0.6666666666666666,\"#ed7953\"],[0.7777777777777778,\"#fb9f3a\"],[0.8888888888888888,\"#fdca26\"],[1.0,\"#f0f921\"]]}],\"heatmap\":[{\"type\":\"heatmap\",\"colorbar\":{\"outlinewidth\":0,\"ticks\":\"\"},\"colorscale\":[[0.0,\"#0d0887\"],[0.1111111111111111,\"#46039f\"],[0.2222222222222222,\"#7201a8\"],[0.3333333333333333,\"#9c179e\"],[0.4444444444444444,\"#bd3786\"],[0.5555555555555556,\"#d8576b\"],[0.6666666666666666,\"#ed7953\"],[0.7777777777777778,\"#fb9f3a\"],[0.8888888888888888,\"#fdca26\"],[1.0,\"#f0f921\"]]}],\"heatmapgl\":[{\"type\":\"heatmapgl\",\"colorbar\":{\"outlinewidth\":0,\"ticks\":\"\"},\"colorscale\":[[0.0,\"#0d0887\"],[0.1111111111111111,\"#46039f\"],[0.2222222222222222,\"#7201a8\"],[0.3333333333333333,\"#9c179e\"],[0.4444444444444444,\"#bd3786\"],[0.5555555555555556,\"#d8576b\"],[0.6666666666666666,\"#ed7953\"],[0.7777777777777778,\"#fb9f3a\"],[0.8888888888888888,\"#fdca26\"],[1.0,\"#f0f921\"]]}],\"contourcarpet\":[{\"type\":\"contourcarpet\",\"colorbar\":{\"outlinewidth\":0,\"ticks\":\"\"}}],\"contour\":[{\"type\":\"contour\",\"colorbar\":{\"outlinewidth\":0,\"ticks\":\"\"},\"colorscale\":[[0.0,\"#0d0887\"],[0.1111111111111111,\"#46039f\"],[0.2222222222222222,\"#7201a8\"],[0.3333333333333333,\"#9c179e\"],[0.4444444444444444,\"#bd3786\"],[0.5555555555555556,\"#d8576b\"],[0.6666666666666666,\"#ed7953\"],[0.7777777777777778,\"#fb9f3a\"],[0.8888888888888888,\"#fdca26\"],[1.0,\"#f0f921\"]]}],\"surface\":[{\"type\":\"surface\",\"colorbar\":{\"outlinewidth\":0,\"ticks\":\"\"},\"colorscale\":[[0.0,\"#0d0887\"],[0.1111111111111111,\"#46039f\"],[0.2222222222222222,\"#7201a8\"],[0.3333333333333333,\"#9c179e\"],[0.4444444444444444,\"#bd3786\"],[0.5555555555555556,\"#d8576b\"],[0.6666666666666666,\"#ed7953\"],[0.7777777777777778,\"#fb9f3a\"],[0.8888888888888888,\"#fdca26\"],[1.0,\"#f0f921\"]]}],\"mesh3d\":[{\"type\":\"mesh3d\",\"colorbar\":{\"outlinewidth\":0,\"ticks\":\"\"}}],\"scatter\":[{\"fillpattern\":{\"fillmode\":\"overlay\",\"size\":10,\"solidity\":0.2},\"type\":\"scatter\"}],\"parcoords\":[{\"type\":\"parcoords\",\"line\":{\"colorbar\":{\"outlinewidth\":0,\"ticks\":\"\"}}}],\"scatterpolargl\":[{\"type\":\"scatterpolargl\",\"marker\":{\"colorbar\":{\"outlinewidth\":0,\"ticks\":\"\"}}}],\"bar\":[{\"error_x\":{\"color\":\"#2a3f5f\"},\"error_y\":{\"color\":\"#2a3f5f\"},\"marker\":{\"line\":{\"color\":\"#E5ECF6\",\"width\":0.5},\"pattern\":{\"fillmode\":\"overlay\",\"size\":10,\"solidity\":0.2}},\"type\":\"bar\"}],\"scattergeo\":[{\"type\":\"scattergeo\",\"marker\":{\"colorbar\":{\"outlinewidth\":0,\"ticks\":\"\"}}}],\"scatterpolar\":[{\"type\":\"scatterpolar\",\"marker\":{\"colorbar\":{\"outlinewidth\":0,\"ticks\":\"\"}}}],\"histogram\":[{\"marker\":{\"pattern\":{\"fillmode\":\"overlay\",\"size\":10,\"solidity\":0.2}},\"type\":\"histogram\"}],\"scattergl\":[{\"type\":\"scattergl\",\"marker\":{\"colorbar\":{\"outlinewidth\":0,\"ticks\":\"\"}}}],\"scatter3d\":[{\"type\":\"scatter3d\",\"line\":{\"colorbar\":{\"outlinewidth\":0,\"ticks\":\"\"}},\"marker\":{\"colorbar\":{\"outlinewidth\":0,\"ticks\":\"\"}}}],\"scattermapbox\":[{\"type\":\"scattermapbox\",\"marker\":{\"colorbar\":{\"outlinewidth\":0,\"ticks\":\"\"}}}],\"scatterternary\":[{\"type\":\"scatterternary\",\"marker\":{\"colorbar\":{\"outlinewidth\":0,\"ticks\":\"\"}}}],\"scattercarpet\":[{\"type\":\"scattercarpet\",\"marker\":{\"colorbar\":{\"outlinewidth\":0,\"ticks\":\"\"}}}],\"carpet\":[{\"aaxis\":{\"endlinecolor\":\"#2a3f5f\",\"gridcolor\":\"white\",\"linecolor\":\"white\",\"minorgridcolor\":\"white\",\"startlinecolor\":\"#2a3f5f\"},\"baxis\":{\"endlinecolor\":\"#2a3f5f\",\"gridcolor\":\"white\",\"linecolor\":\"white\",\"minorgridcolor\":\"white\",\"startlinecolor\":\"#2a3f5f\"},\"type\":\"carpet\"}],\"table\":[{\"cells\":{\"fill\":{\"color\":\"#EBF0F8\"},\"line\":{\"color\":\"white\"}},\"header\":{\"fill\":{\"color\":\"#C8D4E3\"},\"line\":{\"color\":\"white\"}},\"type\":\"table\"}],\"barpolar\":[{\"marker\":{\"line\":{\"color\":\"#E5ECF6\",\"width\":0.5},\"pattern\":{\"fillmode\":\"overlay\",\"size\":10,\"solidity\":0.2}},\"type\":\"barpolar\"}],\"pie\":[{\"automargin\":true,\"type\":\"pie\"}]},\"layout\":{\"autotypenumbers\":\"strict\",\"colorway\":[\"#636efa\",\"#EF553B\",\"#00cc96\",\"#ab63fa\",\"#FFA15A\",\"#19d3f3\",\"#FF6692\",\"#B6E880\",\"#FF97FF\",\"#FECB52\"],\"font\":{\"color\":\"#2a3f5f\"},\"hovermode\":\"closest\",\"hoverlabel\":{\"align\":\"left\"},\"paper_bgcolor\":\"white\",\"plot_bgcolor\":\"#E5ECF6\",\"polar\":{\"bgcolor\":\"#E5ECF6\",\"angularaxis\":{\"gridcolor\":\"white\",\"linecolor\":\"white\",\"ticks\":\"\"},\"radialaxis\":{\"gridcolor\":\"white\",\"linecolor\":\"white\",\"ticks\":\"\"}},\"ternary\":{\"bgcolor\":\"#E5ECF6\",\"aaxis\":{\"gridcolor\":\"white\",\"linecolor\":\"white\",\"ticks\":\"\"},\"baxis\":{\"gridcolor\":\"white\",\"linecolor\":\"white\",\"ticks\":\"\"},\"caxis\":{\"gridcolor\":\"white\",\"linecolor\":\"white\",\"ticks\":\"\"}},\"coloraxis\":{\"colorbar\":{\"outlinewidth\":0,\"ticks\":\"\"}},\"colorscale\":{\"sequential\":[[0.0,\"#0d0887\"],[0.1111111111111111,\"#46039f\"],[0.2222222222222222,\"#7201a8\"],[0.3333333333333333,\"#9c179e\"],[0.4444444444444444,\"#bd3786\"],[0.5555555555555556,\"#d8576b\"],[0.6666666666666666,\"#ed7953\"],[0.7777777777777778,\"#fb9f3a\"],[0.8888888888888888,\"#fdca26\"],[1.0,\"#f0f921\"]],\"sequentialminus\":[[0.0,\"#0d0887\"],[0.1111111111111111,\"#46039f\"],[0.2222222222222222,\"#7201a8\"],[0.3333333333333333,\"#9c179e\"],[0.4444444444444444,\"#bd3786\"],[0.5555555555555556,\"#d8576b\"],[0.6666666666666666,\"#ed7953\"],[0.7777777777777778,\"#fb9f3a\"],[0.8888888888888888,\"#fdca26\"],[1.0,\"#f0f921\"]],\"diverging\":[[0,\"#8e0152\"],[0.1,\"#c51b7d\"],[0.2,\"#de77ae\"],[0.3,\"#f1b6da\"],[0.4,\"#fde0ef\"],[0.5,\"#f7f7f7\"],[0.6,\"#e6f5d0\"],[0.7,\"#b8e186\"],[0.8,\"#7fbc41\"],[0.9,\"#4d9221\"],[1,\"#276419\"]]},\"xaxis\":{\"gridcolor\":\"white\",\"linecolor\":\"white\",\"ticks\":\"\",\"title\":{\"standoff\":15},\"zerolinecolor\":\"white\",\"automargin\":true,\"zerolinewidth\":2},\"yaxis\":{\"gridcolor\":\"white\",\"linecolor\":\"white\",\"ticks\":\"\",\"title\":{\"standoff\":15},\"zerolinecolor\":\"white\",\"automargin\":true,\"zerolinewidth\":2},\"scene\":{\"xaxis\":{\"backgroundcolor\":\"#E5ECF6\",\"gridcolor\":\"white\",\"linecolor\":\"white\",\"showbackground\":true,\"ticks\":\"\",\"zerolinecolor\":\"white\",\"gridwidth\":2},\"yaxis\":{\"backgroundcolor\":\"#E5ECF6\",\"gridcolor\":\"white\",\"linecolor\":\"white\",\"showbackground\":true,\"ticks\":\"\",\"zerolinecolor\":\"white\",\"gridwidth\":2},\"zaxis\":{\"backgroundcolor\":\"#E5ECF6\",\"gridcolor\":\"white\",\"linecolor\":\"white\",\"showbackground\":true,\"ticks\":\"\",\"zerolinecolor\":\"white\",\"gridwidth\":2}},\"shapedefaults\":{\"line\":{\"color\":\"#2a3f5f\"}},\"annotationdefaults\":{\"arrowcolor\":\"#2a3f5f\",\"arrowhead\":0,\"arrowwidth\":1},\"geo\":{\"bgcolor\":\"white\",\"landcolor\":\"#E5ECF6\",\"subunitcolor\":\"white\",\"showland\":true,\"showlakes\":true,\"lakecolor\":\"white\"},\"title\":{\"x\":0.05},\"mapbox\":{\"style\":\"light\"}}}},                        {\"responsive\": true}                    ).then(function(){\n",
              "                            \n",
              "var gd = document.getElementById('d579800f-3d34-499b-a7be-183227744c74');\n",
              "var x = new MutationObserver(function (mutations, observer) {{\n",
              "        var display = window.getComputedStyle(gd).display;\n",
              "        if (!display || display === 'none') {{\n",
              "            console.log([gd, 'removed!']);\n",
              "            Plotly.purge(gd);\n",
              "            observer.disconnect();\n",
              "        }}\n",
              "}});\n",
              "\n",
              "// Listen for the removal of the full notebook cells\n",
              "var notebookContainer = gd.closest('#notebook-container');\n",
              "if (notebookContainer) {{\n",
              "    x.observe(notebookContainer, {childList: true});\n",
              "}}\n",
              "\n",
              "// Listen for the clearing of the current output cell\n",
              "var outputEl = gd.closest('.output');\n",
              "if (outputEl) {{\n",
              "    x.observe(outputEl, {childList: true});\n",
              "}}\n",
              "\n",
              "                        })                };                            </script>        </div>\n",
              "</body>\n",
              "</html>"
            ]
          },
          "metadata": {}
        },
        {
          "output_type": "display_data",
          "data": {
            "text/html": [
              "<html>\n",
              "<head><meta charset=\"utf-8\" /></head>\n",
              "<body>\n",
              "    <div>            <script src=\"https://cdnjs.cloudflare.com/ajax/libs/mathjax/2.7.5/MathJax.js?config=TeX-AMS-MML_SVG\"></script><script type=\"text/javascript\">if (window.MathJax && window.MathJax.Hub && window.MathJax.Hub.Config) {window.MathJax.Hub.Config({SVG: {font: \"STIX-Web\"}});}</script>                <script type=\"text/javascript\">window.PlotlyConfig = {MathJaxConfig: 'local'};</script>\n",
              "        <script charset=\"utf-8\" src=\"https://cdn.plot.ly/plotly-2.24.1.min.js\"></script>                <div id=\"c6a6db7c-d8b7-46e9-b3b8-bbf61fb52321\" class=\"plotly-graph-div\" style=\"height:525px; width:100%;\"></div>            <script type=\"text/javascript\">                                    window.PLOTLYENV=window.PLOTLYENV || {};                                    if (document.getElementById(\"c6a6db7c-d8b7-46e9-b3b8-bbf61fb52321\")) {                    Plotly.newPlot(                        \"c6a6db7c-d8b7-46e9-b3b8-bbf61fb52321\",                        [{\"cliponaxis\":false,\"hovertemplate\":[\"min_samples_split (IntDistribution): 0.006529086715807375\\u003cextra\\u003e\\u003c\\u002fextra\\u003e\",\"min_samples_leaf (IntDistribution): 0.017663132382476566\\u003cextra\\u003e\\u003c\\u002fextra\\u003e\",\"n_estimators (IntDistribution): 0.09678674207327366\\u003cextra\\u003e\\u003c\\u002fextra\\u003e\",\"max_depth (IntDistribution): 0.8790210388284425\\u003cextra\\u003e\\u003c\\u002fextra\\u003e\"],\"name\":\"Objective Value\",\"orientation\":\"h\",\"text\":[\"\\u003c0.01\",\"0.02\",\"0.10\",\"0.88\"],\"textposition\":\"outside\",\"x\":[0.006529086715807375,0.017663132382476566,0.09678674207327366,0.8790210388284425],\"y\":[\"min_samples_split\",\"min_samples_leaf\",\"n_estimators\",\"max_depth\"],\"type\":\"bar\"}],                        {\"title\":{\"text\":\"Hyperparameter Importances\"},\"xaxis\":{\"title\":{\"text\":\"Hyperparameter Importance\"}},\"yaxis\":{\"title\":{\"text\":\"Hyperparameter\"}},\"template\":{\"data\":{\"histogram2dcontour\":[{\"type\":\"histogram2dcontour\",\"colorbar\":{\"outlinewidth\":0,\"ticks\":\"\"},\"colorscale\":[[0.0,\"#0d0887\"],[0.1111111111111111,\"#46039f\"],[0.2222222222222222,\"#7201a8\"],[0.3333333333333333,\"#9c179e\"],[0.4444444444444444,\"#bd3786\"],[0.5555555555555556,\"#d8576b\"],[0.6666666666666666,\"#ed7953\"],[0.7777777777777778,\"#fb9f3a\"],[0.8888888888888888,\"#fdca26\"],[1.0,\"#f0f921\"]]}],\"choropleth\":[{\"type\":\"choropleth\",\"colorbar\":{\"outlinewidth\":0,\"ticks\":\"\"}}],\"histogram2d\":[{\"type\":\"histogram2d\",\"colorbar\":{\"outlinewidth\":0,\"ticks\":\"\"},\"colorscale\":[[0.0,\"#0d0887\"],[0.1111111111111111,\"#46039f\"],[0.2222222222222222,\"#7201a8\"],[0.3333333333333333,\"#9c179e\"],[0.4444444444444444,\"#bd3786\"],[0.5555555555555556,\"#d8576b\"],[0.6666666666666666,\"#ed7953\"],[0.7777777777777778,\"#fb9f3a\"],[0.8888888888888888,\"#fdca26\"],[1.0,\"#f0f921\"]]}],\"heatmap\":[{\"type\":\"heatmap\",\"colorbar\":{\"outlinewidth\":0,\"ticks\":\"\"},\"colorscale\":[[0.0,\"#0d0887\"],[0.1111111111111111,\"#46039f\"],[0.2222222222222222,\"#7201a8\"],[0.3333333333333333,\"#9c179e\"],[0.4444444444444444,\"#bd3786\"],[0.5555555555555556,\"#d8576b\"],[0.6666666666666666,\"#ed7953\"],[0.7777777777777778,\"#fb9f3a\"],[0.8888888888888888,\"#fdca26\"],[1.0,\"#f0f921\"]]}],\"heatmapgl\":[{\"type\":\"heatmapgl\",\"colorbar\":{\"outlinewidth\":0,\"ticks\":\"\"},\"colorscale\":[[0.0,\"#0d0887\"],[0.1111111111111111,\"#46039f\"],[0.2222222222222222,\"#7201a8\"],[0.3333333333333333,\"#9c179e\"],[0.4444444444444444,\"#bd3786\"],[0.5555555555555556,\"#d8576b\"],[0.6666666666666666,\"#ed7953\"],[0.7777777777777778,\"#fb9f3a\"],[0.8888888888888888,\"#fdca26\"],[1.0,\"#f0f921\"]]}],\"contourcarpet\":[{\"type\":\"contourcarpet\",\"colorbar\":{\"outlinewidth\":0,\"ticks\":\"\"}}],\"contour\":[{\"type\":\"contour\",\"colorbar\":{\"outlinewidth\":0,\"ticks\":\"\"},\"colorscale\":[[0.0,\"#0d0887\"],[0.1111111111111111,\"#46039f\"],[0.2222222222222222,\"#7201a8\"],[0.3333333333333333,\"#9c179e\"],[0.4444444444444444,\"#bd3786\"],[0.5555555555555556,\"#d8576b\"],[0.6666666666666666,\"#ed7953\"],[0.7777777777777778,\"#fb9f3a\"],[0.8888888888888888,\"#fdca26\"],[1.0,\"#f0f921\"]]}],\"surface\":[{\"type\":\"surface\",\"colorbar\":{\"outlinewidth\":0,\"ticks\":\"\"},\"colorscale\":[[0.0,\"#0d0887\"],[0.1111111111111111,\"#46039f\"],[0.2222222222222222,\"#7201a8\"],[0.3333333333333333,\"#9c179e\"],[0.4444444444444444,\"#bd3786\"],[0.5555555555555556,\"#d8576b\"],[0.6666666666666666,\"#ed7953\"],[0.7777777777777778,\"#fb9f3a\"],[0.8888888888888888,\"#fdca26\"],[1.0,\"#f0f921\"]]}],\"mesh3d\":[{\"type\":\"mesh3d\",\"colorbar\":{\"outlinewidth\":0,\"ticks\":\"\"}}],\"scatter\":[{\"fillpattern\":{\"fillmode\":\"overlay\",\"size\":10,\"solidity\":0.2},\"type\":\"scatter\"}],\"parcoords\":[{\"type\":\"parcoords\",\"line\":{\"colorbar\":{\"outlinewidth\":0,\"ticks\":\"\"}}}],\"scatterpolargl\":[{\"type\":\"scatterpolargl\",\"marker\":{\"colorbar\":{\"outlinewidth\":0,\"ticks\":\"\"}}}],\"bar\":[{\"error_x\":{\"color\":\"#2a3f5f\"},\"error_y\":{\"color\":\"#2a3f5f\"},\"marker\":{\"line\":{\"color\":\"#E5ECF6\",\"width\":0.5},\"pattern\":{\"fillmode\":\"overlay\",\"size\":10,\"solidity\":0.2}},\"type\":\"bar\"}],\"scattergeo\":[{\"type\":\"scattergeo\",\"marker\":{\"colorbar\":{\"outlinewidth\":0,\"ticks\":\"\"}}}],\"scatterpolar\":[{\"type\":\"scatterpolar\",\"marker\":{\"colorbar\":{\"outlinewidth\":0,\"ticks\":\"\"}}}],\"histogram\":[{\"marker\":{\"pattern\":{\"fillmode\":\"overlay\",\"size\":10,\"solidity\":0.2}},\"type\":\"histogram\"}],\"scattergl\":[{\"type\":\"scattergl\",\"marker\":{\"colorbar\":{\"outlinewidth\":0,\"ticks\":\"\"}}}],\"scatter3d\":[{\"type\":\"scatter3d\",\"line\":{\"colorbar\":{\"outlinewidth\":0,\"ticks\":\"\"}},\"marker\":{\"colorbar\":{\"outlinewidth\":0,\"ticks\":\"\"}}}],\"scattermapbox\":[{\"type\":\"scattermapbox\",\"marker\":{\"colorbar\":{\"outlinewidth\":0,\"ticks\":\"\"}}}],\"scatterternary\":[{\"type\":\"scatterternary\",\"marker\":{\"colorbar\":{\"outlinewidth\":0,\"ticks\":\"\"}}}],\"scattercarpet\":[{\"type\":\"scattercarpet\",\"marker\":{\"colorbar\":{\"outlinewidth\":0,\"ticks\":\"\"}}}],\"carpet\":[{\"aaxis\":{\"endlinecolor\":\"#2a3f5f\",\"gridcolor\":\"white\",\"linecolor\":\"white\",\"minorgridcolor\":\"white\",\"startlinecolor\":\"#2a3f5f\"},\"baxis\":{\"endlinecolor\":\"#2a3f5f\",\"gridcolor\":\"white\",\"linecolor\":\"white\",\"minorgridcolor\":\"white\",\"startlinecolor\":\"#2a3f5f\"},\"type\":\"carpet\"}],\"table\":[{\"cells\":{\"fill\":{\"color\":\"#EBF0F8\"},\"line\":{\"color\":\"white\"}},\"header\":{\"fill\":{\"color\":\"#C8D4E3\"},\"line\":{\"color\":\"white\"}},\"type\":\"table\"}],\"barpolar\":[{\"marker\":{\"line\":{\"color\":\"#E5ECF6\",\"width\":0.5},\"pattern\":{\"fillmode\":\"overlay\",\"size\":10,\"solidity\":0.2}},\"type\":\"barpolar\"}],\"pie\":[{\"automargin\":true,\"type\":\"pie\"}]},\"layout\":{\"autotypenumbers\":\"strict\",\"colorway\":[\"#636efa\",\"#EF553B\",\"#00cc96\",\"#ab63fa\",\"#FFA15A\",\"#19d3f3\",\"#FF6692\",\"#B6E880\",\"#FF97FF\",\"#FECB52\"],\"font\":{\"color\":\"#2a3f5f\"},\"hovermode\":\"closest\",\"hoverlabel\":{\"align\":\"left\"},\"paper_bgcolor\":\"white\",\"plot_bgcolor\":\"#E5ECF6\",\"polar\":{\"bgcolor\":\"#E5ECF6\",\"angularaxis\":{\"gridcolor\":\"white\",\"linecolor\":\"white\",\"ticks\":\"\"},\"radialaxis\":{\"gridcolor\":\"white\",\"linecolor\":\"white\",\"ticks\":\"\"}},\"ternary\":{\"bgcolor\":\"#E5ECF6\",\"aaxis\":{\"gridcolor\":\"white\",\"linecolor\":\"white\",\"ticks\":\"\"},\"baxis\":{\"gridcolor\":\"white\",\"linecolor\":\"white\",\"ticks\":\"\"},\"caxis\":{\"gridcolor\":\"white\",\"linecolor\":\"white\",\"ticks\":\"\"}},\"coloraxis\":{\"colorbar\":{\"outlinewidth\":0,\"ticks\":\"\"}},\"colorscale\":{\"sequential\":[[0.0,\"#0d0887\"],[0.1111111111111111,\"#46039f\"],[0.2222222222222222,\"#7201a8\"],[0.3333333333333333,\"#9c179e\"],[0.4444444444444444,\"#bd3786\"],[0.5555555555555556,\"#d8576b\"],[0.6666666666666666,\"#ed7953\"],[0.7777777777777778,\"#fb9f3a\"],[0.8888888888888888,\"#fdca26\"],[1.0,\"#f0f921\"]],\"sequentialminus\":[[0.0,\"#0d0887\"],[0.1111111111111111,\"#46039f\"],[0.2222222222222222,\"#7201a8\"],[0.3333333333333333,\"#9c179e\"],[0.4444444444444444,\"#bd3786\"],[0.5555555555555556,\"#d8576b\"],[0.6666666666666666,\"#ed7953\"],[0.7777777777777778,\"#fb9f3a\"],[0.8888888888888888,\"#fdca26\"],[1.0,\"#f0f921\"]],\"diverging\":[[0,\"#8e0152\"],[0.1,\"#c51b7d\"],[0.2,\"#de77ae\"],[0.3,\"#f1b6da\"],[0.4,\"#fde0ef\"],[0.5,\"#f7f7f7\"],[0.6,\"#e6f5d0\"],[0.7,\"#b8e186\"],[0.8,\"#7fbc41\"],[0.9,\"#4d9221\"],[1,\"#276419\"]]},\"xaxis\":{\"gridcolor\":\"white\",\"linecolor\":\"white\",\"ticks\":\"\",\"title\":{\"standoff\":15},\"zerolinecolor\":\"white\",\"automargin\":true,\"zerolinewidth\":2},\"yaxis\":{\"gridcolor\":\"white\",\"linecolor\":\"white\",\"ticks\":\"\",\"title\":{\"standoff\":15},\"zerolinecolor\":\"white\",\"automargin\":true,\"zerolinewidth\":2},\"scene\":{\"xaxis\":{\"backgroundcolor\":\"#E5ECF6\",\"gridcolor\":\"white\",\"linecolor\":\"white\",\"showbackground\":true,\"ticks\":\"\",\"zerolinecolor\":\"white\",\"gridwidth\":2},\"yaxis\":{\"backgroundcolor\":\"#E5ECF6\",\"gridcolor\":\"white\",\"linecolor\":\"white\",\"showbackground\":true,\"ticks\":\"\",\"zerolinecolor\":\"white\",\"gridwidth\":2},\"zaxis\":{\"backgroundcolor\":\"#E5ECF6\",\"gridcolor\":\"white\",\"linecolor\":\"white\",\"showbackground\":true,\"ticks\":\"\",\"zerolinecolor\":\"white\",\"gridwidth\":2}},\"shapedefaults\":{\"line\":{\"color\":\"#2a3f5f\"}},\"annotationdefaults\":{\"arrowcolor\":\"#2a3f5f\",\"arrowhead\":0,\"arrowwidth\":1},\"geo\":{\"bgcolor\":\"white\",\"landcolor\":\"#E5ECF6\",\"subunitcolor\":\"white\",\"showland\":true,\"showlakes\":true,\"lakecolor\":\"white\"},\"title\":{\"x\":0.05},\"mapbox\":{\"style\":\"light\"}}}},                        {\"responsive\": true}                    ).then(function(){\n",
              "                            \n",
              "var gd = document.getElementById('c6a6db7c-d8b7-46e9-b3b8-bbf61fb52321');\n",
              "var x = new MutationObserver(function (mutations, observer) {{\n",
              "        var display = window.getComputedStyle(gd).display;\n",
              "        if (!display || display === 'none') {{\n",
              "            console.log([gd, 'removed!']);\n",
              "            Plotly.purge(gd);\n",
              "            observer.disconnect();\n",
              "        }}\n",
              "}});\n",
              "\n",
              "// Listen for the removal of the full notebook cells\n",
              "var notebookContainer = gd.closest('#notebook-container');\n",
              "if (notebookContainer) {{\n",
              "    x.observe(notebookContainer, {childList: true});\n",
              "}}\n",
              "\n",
              "// Listen for the clearing of the current output cell\n",
              "var outputEl = gd.closest('.output');\n",
              "if (outputEl) {{\n",
              "    x.observe(outputEl, {childList: true});\n",
              "}}\n",
              "\n",
              "                        })                };                            </script>        </div>\n",
              "</body>\n",
              "</html>"
            ]
          },
          "metadata": {}
        },
        {
          "output_type": "stream",
          "name": "stderr",
          "text": [
            "[W 2024-05-24 00:52:24,695] You need to set up the pruning feature to utilize `plot_intermediate_values()`\n"
          ]
        },
        {
          "output_type": "display_data",
          "data": {
            "text/html": [
              "<html>\n",
              "<head><meta charset=\"utf-8\" /></head>\n",
              "<body>\n",
              "    <div>            <script src=\"https://cdnjs.cloudflare.com/ajax/libs/mathjax/2.7.5/MathJax.js?config=TeX-AMS-MML_SVG\"></script><script type=\"text/javascript\">if (window.MathJax && window.MathJax.Hub && window.MathJax.Hub.Config) {window.MathJax.Hub.Config({SVG: {font: \"STIX-Web\"}});}</script>                <script type=\"text/javascript\">window.PlotlyConfig = {MathJaxConfig: 'local'};</script>\n",
              "        <script charset=\"utf-8\" src=\"https://cdn.plot.ly/plotly-2.24.1.min.js\"></script>                <div id=\"72d86068-22f9-401e-8189-53eec97c96af\" class=\"plotly-graph-div\" style=\"height:525px; width:100%;\"></div>            <script type=\"text/javascript\">                                    window.PLOTLYENV=window.PLOTLYENV || {};                                    if (document.getElementById(\"72d86068-22f9-401e-8189-53eec97c96af\")) {                    Plotly.newPlot(                        \"72d86068-22f9-401e-8189-53eec97c96af\",                        [],                        {\"showlegend\":false,\"title\":{\"text\":\"Intermediate Values Plot\"},\"xaxis\":{\"title\":{\"text\":\"Step\"}},\"yaxis\":{\"title\":{\"text\":\"Intermediate Value\"}},\"template\":{\"data\":{\"histogram2dcontour\":[{\"type\":\"histogram2dcontour\",\"colorbar\":{\"outlinewidth\":0,\"ticks\":\"\"},\"colorscale\":[[0.0,\"#0d0887\"],[0.1111111111111111,\"#46039f\"],[0.2222222222222222,\"#7201a8\"],[0.3333333333333333,\"#9c179e\"],[0.4444444444444444,\"#bd3786\"],[0.5555555555555556,\"#d8576b\"],[0.6666666666666666,\"#ed7953\"],[0.7777777777777778,\"#fb9f3a\"],[0.8888888888888888,\"#fdca26\"],[1.0,\"#f0f921\"]]}],\"choropleth\":[{\"type\":\"choropleth\",\"colorbar\":{\"outlinewidth\":0,\"ticks\":\"\"}}],\"histogram2d\":[{\"type\":\"histogram2d\",\"colorbar\":{\"outlinewidth\":0,\"ticks\":\"\"},\"colorscale\":[[0.0,\"#0d0887\"],[0.1111111111111111,\"#46039f\"],[0.2222222222222222,\"#7201a8\"],[0.3333333333333333,\"#9c179e\"],[0.4444444444444444,\"#bd3786\"],[0.5555555555555556,\"#d8576b\"],[0.6666666666666666,\"#ed7953\"],[0.7777777777777778,\"#fb9f3a\"],[0.8888888888888888,\"#fdca26\"],[1.0,\"#f0f921\"]]}],\"heatmap\":[{\"type\":\"heatmap\",\"colorbar\":{\"outlinewidth\":0,\"ticks\":\"\"},\"colorscale\":[[0.0,\"#0d0887\"],[0.1111111111111111,\"#46039f\"],[0.2222222222222222,\"#7201a8\"],[0.3333333333333333,\"#9c179e\"],[0.4444444444444444,\"#bd3786\"],[0.5555555555555556,\"#d8576b\"],[0.6666666666666666,\"#ed7953\"],[0.7777777777777778,\"#fb9f3a\"],[0.8888888888888888,\"#fdca26\"],[1.0,\"#f0f921\"]]}],\"heatmapgl\":[{\"type\":\"heatmapgl\",\"colorbar\":{\"outlinewidth\":0,\"ticks\":\"\"},\"colorscale\":[[0.0,\"#0d0887\"],[0.1111111111111111,\"#46039f\"],[0.2222222222222222,\"#7201a8\"],[0.3333333333333333,\"#9c179e\"],[0.4444444444444444,\"#bd3786\"],[0.5555555555555556,\"#d8576b\"],[0.6666666666666666,\"#ed7953\"],[0.7777777777777778,\"#fb9f3a\"],[0.8888888888888888,\"#fdca26\"],[1.0,\"#f0f921\"]]}],\"contourcarpet\":[{\"type\":\"contourcarpet\",\"colorbar\":{\"outlinewidth\":0,\"ticks\":\"\"}}],\"contour\":[{\"type\":\"contour\",\"colorbar\":{\"outlinewidth\":0,\"ticks\":\"\"},\"colorscale\":[[0.0,\"#0d0887\"],[0.1111111111111111,\"#46039f\"],[0.2222222222222222,\"#7201a8\"],[0.3333333333333333,\"#9c179e\"],[0.4444444444444444,\"#bd3786\"],[0.5555555555555556,\"#d8576b\"],[0.6666666666666666,\"#ed7953\"],[0.7777777777777778,\"#fb9f3a\"],[0.8888888888888888,\"#fdca26\"],[1.0,\"#f0f921\"]]}],\"surface\":[{\"type\":\"surface\",\"colorbar\":{\"outlinewidth\":0,\"ticks\":\"\"},\"colorscale\":[[0.0,\"#0d0887\"],[0.1111111111111111,\"#46039f\"],[0.2222222222222222,\"#7201a8\"],[0.3333333333333333,\"#9c179e\"],[0.4444444444444444,\"#bd3786\"],[0.5555555555555556,\"#d8576b\"],[0.6666666666666666,\"#ed7953\"],[0.7777777777777778,\"#fb9f3a\"],[0.8888888888888888,\"#fdca26\"],[1.0,\"#f0f921\"]]}],\"mesh3d\":[{\"type\":\"mesh3d\",\"colorbar\":{\"outlinewidth\":0,\"ticks\":\"\"}}],\"scatter\":[{\"fillpattern\":{\"fillmode\":\"overlay\",\"size\":10,\"solidity\":0.2},\"type\":\"scatter\"}],\"parcoords\":[{\"type\":\"parcoords\",\"line\":{\"colorbar\":{\"outlinewidth\":0,\"ticks\":\"\"}}}],\"scatterpolargl\":[{\"type\":\"scatterpolargl\",\"marker\":{\"colorbar\":{\"outlinewidth\":0,\"ticks\":\"\"}}}],\"bar\":[{\"error_x\":{\"color\":\"#2a3f5f\"},\"error_y\":{\"color\":\"#2a3f5f\"},\"marker\":{\"line\":{\"color\":\"#E5ECF6\",\"width\":0.5},\"pattern\":{\"fillmode\":\"overlay\",\"size\":10,\"solidity\":0.2}},\"type\":\"bar\"}],\"scattergeo\":[{\"type\":\"scattergeo\",\"marker\":{\"colorbar\":{\"outlinewidth\":0,\"ticks\":\"\"}}}],\"scatterpolar\":[{\"type\":\"scatterpolar\",\"marker\":{\"colorbar\":{\"outlinewidth\":0,\"ticks\":\"\"}}}],\"histogram\":[{\"marker\":{\"pattern\":{\"fillmode\":\"overlay\",\"size\":10,\"solidity\":0.2}},\"type\":\"histogram\"}],\"scattergl\":[{\"type\":\"scattergl\",\"marker\":{\"colorbar\":{\"outlinewidth\":0,\"ticks\":\"\"}}}],\"scatter3d\":[{\"type\":\"scatter3d\",\"line\":{\"colorbar\":{\"outlinewidth\":0,\"ticks\":\"\"}},\"marker\":{\"colorbar\":{\"outlinewidth\":0,\"ticks\":\"\"}}}],\"scattermapbox\":[{\"type\":\"scattermapbox\",\"marker\":{\"colorbar\":{\"outlinewidth\":0,\"ticks\":\"\"}}}],\"scatterternary\":[{\"type\":\"scatterternary\",\"marker\":{\"colorbar\":{\"outlinewidth\":0,\"ticks\":\"\"}}}],\"scattercarpet\":[{\"type\":\"scattercarpet\",\"marker\":{\"colorbar\":{\"outlinewidth\":0,\"ticks\":\"\"}}}],\"carpet\":[{\"aaxis\":{\"endlinecolor\":\"#2a3f5f\",\"gridcolor\":\"white\",\"linecolor\":\"white\",\"minorgridcolor\":\"white\",\"startlinecolor\":\"#2a3f5f\"},\"baxis\":{\"endlinecolor\":\"#2a3f5f\",\"gridcolor\":\"white\",\"linecolor\":\"white\",\"minorgridcolor\":\"white\",\"startlinecolor\":\"#2a3f5f\"},\"type\":\"carpet\"}],\"table\":[{\"cells\":{\"fill\":{\"color\":\"#EBF0F8\"},\"line\":{\"color\":\"white\"}},\"header\":{\"fill\":{\"color\":\"#C8D4E3\"},\"line\":{\"color\":\"white\"}},\"type\":\"table\"}],\"barpolar\":[{\"marker\":{\"line\":{\"color\":\"#E5ECF6\",\"width\":0.5},\"pattern\":{\"fillmode\":\"overlay\",\"size\":10,\"solidity\":0.2}},\"type\":\"barpolar\"}],\"pie\":[{\"automargin\":true,\"type\":\"pie\"}]},\"layout\":{\"autotypenumbers\":\"strict\",\"colorway\":[\"#636efa\",\"#EF553B\",\"#00cc96\",\"#ab63fa\",\"#FFA15A\",\"#19d3f3\",\"#FF6692\",\"#B6E880\",\"#FF97FF\",\"#FECB52\"],\"font\":{\"color\":\"#2a3f5f\"},\"hovermode\":\"closest\",\"hoverlabel\":{\"align\":\"left\"},\"paper_bgcolor\":\"white\",\"plot_bgcolor\":\"#E5ECF6\",\"polar\":{\"bgcolor\":\"#E5ECF6\",\"angularaxis\":{\"gridcolor\":\"white\",\"linecolor\":\"white\",\"ticks\":\"\"},\"radialaxis\":{\"gridcolor\":\"white\",\"linecolor\":\"white\",\"ticks\":\"\"}},\"ternary\":{\"bgcolor\":\"#E5ECF6\",\"aaxis\":{\"gridcolor\":\"white\",\"linecolor\":\"white\",\"ticks\":\"\"},\"baxis\":{\"gridcolor\":\"white\",\"linecolor\":\"white\",\"ticks\":\"\"},\"caxis\":{\"gridcolor\":\"white\",\"linecolor\":\"white\",\"ticks\":\"\"}},\"coloraxis\":{\"colorbar\":{\"outlinewidth\":0,\"ticks\":\"\"}},\"colorscale\":{\"sequential\":[[0.0,\"#0d0887\"],[0.1111111111111111,\"#46039f\"],[0.2222222222222222,\"#7201a8\"],[0.3333333333333333,\"#9c179e\"],[0.4444444444444444,\"#bd3786\"],[0.5555555555555556,\"#d8576b\"],[0.6666666666666666,\"#ed7953\"],[0.7777777777777778,\"#fb9f3a\"],[0.8888888888888888,\"#fdca26\"],[1.0,\"#f0f921\"]],\"sequentialminus\":[[0.0,\"#0d0887\"],[0.1111111111111111,\"#46039f\"],[0.2222222222222222,\"#7201a8\"],[0.3333333333333333,\"#9c179e\"],[0.4444444444444444,\"#bd3786\"],[0.5555555555555556,\"#d8576b\"],[0.6666666666666666,\"#ed7953\"],[0.7777777777777778,\"#fb9f3a\"],[0.8888888888888888,\"#fdca26\"],[1.0,\"#f0f921\"]],\"diverging\":[[0,\"#8e0152\"],[0.1,\"#c51b7d\"],[0.2,\"#de77ae\"],[0.3,\"#f1b6da\"],[0.4,\"#fde0ef\"],[0.5,\"#f7f7f7\"],[0.6,\"#e6f5d0\"],[0.7,\"#b8e186\"],[0.8,\"#7fbc41\"],[0.9,\"#4d9221\"],[1,\"#276419\"]]},\"xaxis\":{\"gridcolor\":\"white\",\"linecolor\":\"white\",\"ticks\":\"\",\"title\":{\"standoff\":15},\"zerolinecolor\":\"white\",\"automargin\":true,\"zerolinewidth\":2},\"yaxis\":{\"gridcolor\":\"white\",\"linecolor\":\"white\",\"ticks\":\"\",\"title\":{\"standoff\":15},\"zerolinecolor\":\"white\",\"automargin\":true,\"zerolinewidth\":2},\"scene\":{\"xaxis\":{\"backgroundcolor\":\"#E5ECF6\",\"gridcolor\":\"white\",\"linecolor\":\"white\",\"showbackground\":true,\"ticks\":\"\",\"zerolinecolor\":\"white\",\"gridwidth\":2},\"yaxis\":{\"backgroundcolor\":\"#E5ECF6\",\"gridcolor\":\"white\",\"linecolor\":\"white\",\"showbackground\":true,\"ticks\":\"\",\"zerolinecolor\":\"white\",\"gridwidth\":2},\"zaxis\":{\"backgroundcolor\":\"#E5ECF6\",\"gridcolor\":\"white\",\"linecolor\":\"white\",\"showbackground\":true,\"ticks\":\"\",\"zerolinecolor\":\"white\",\"gridwidth\":2}},\"shapedefaults\":{\"line\":{\"color\":\"#2a3f5f\"}},\"annotationdefaults\":{\"arrowcolor\":\"#2a3f5f\",\"arrowhead\":0,\"arrowwidth\":1},\"geo\":{\"bgcolor\":\"white\",\"landcolor\":\"#E5ECF6\",\"subunitcolor\":\"white\",\"showland\":true,\"showlakes\":true,\"lakecolor\":\"white\"},\"title\":{\"x\":0.05},\"mapbox\":{\"style\":\"light\"}}}},                        {\"responsive\": true}                    ).then(function(){\n",
              "                            \n",
              "var gd = document.getElementById('72d86068-22f9-401e-8189-53eec97c96af');\n",
              "var x = new MutationObserver(function (mutations, observer) {{\n",
              "        var display = window.getComputedStyle(gd).display;\n",
              "        if (!display || display === 'none') {{\n",
              "            console.log([gd, 'removed!']);\n",
              "            Plotly.purge(gd);\n",
              "            observer.disconnect();\n",
              "        }}\n",
              "}});\n",
              "\n",
              "// Listen for the removal of the full notebook cells\n",
              "var notebookContainer = gd.closest('#notebook-container');\n",
              "if (notebookContainer) {{\n",
              "    x.observe(notebookContainer, {childList: true});\n",
              "}}\n",
              "\n",
              "// Listen for the clearing of the current output cell\n",
              "var outputEl = gd.closest('.output');\n",
              "if (outputEl) {{\n",
              "    x.observe(outputEl, {childList: true});\n",
              "}}\n",
              "\n",
              "                        })                };                            </script>        </div>\n",
              "</body>\n",
              "</html>"
            ]
          },
          "metadata": {}
        }
      ]
    },
    {
      "cell_type": "code",
      "source": [
        "# ベストパラメータを使ってモデルの訓練\n",
        "\n",
        "# Best trial: ,  {'max_depth': 13, 'n_estimators': 166, 'min_samples_split': 18, 'min_samples_leaf': 13}\n",
        "# Best score: ,  0.47069390011351286\n",
        "\n",
        "params = {'max_depth': 13,\n",
        "          'n_estimators': 166,\n",
        "          'min_samples_split': 18,\n",
        "          'min_samples_leaf': 13}\n",
        "\n",
        "rf = RandomForestClassifier(**params, random_state=42, n_jobs=-1)\n",
        "# rf_results = evaluate_model(rf, X, y)\n",
        "rf.fit(X, y)\n",
        "\n",
        "# テストデータでの推論\n",
        "rf_pred = rf.predict(df_test)\n",
        "# print(rf_pred.shape)\n",
        "# print(rf_pred)"
      ],
      "metadata": {
        "colab": {
          "base_uri": "https://localhost:8080/"
        },
        "id": "NTrCXtCc_GYd",
        "outputId": "966dc897-2749-4c65-bcaa-59f2cc22c5a4"
      },
      "execution_count": null,
      "outputs": [
        {
          "output_type": "stream",
          "name": "stdout",
          "text": [
            "(800,)\n",
            "[3 1 3 1 1 3 3 3 3 1 1 2 1 1 2 3 1 3 0 1 3 1 2 1 1 1 1 1 3 2 0 3 2 2 0 2 0\n",
            " 0 1 0 3 3 1 1 2 2 3 1 2 2 2 2 1 1 1 1 2 1 3 2 1 0 1 3 2 2 2 2 1 1 3 3 3 2\n",
            " 3 1 1 0 2 1 1 1 0 2 2 3 3 1 1 0 3 1 1 3 1 2 1 1 2 2 0 1 0 1 2 0 3 2 3 1 2\n",
            " 0 2 1 1 3 3 1 2 1 2 3 1 2 0 1 2 2 0 1 1 3 3 2 2 1 0 2 1 3 2 3 1 3 2 3 1 1\n",
            " 2 0 2 3 2 2 3 1 2 2 1 2 2 3 1 1 2 3 1 3 1 1 2 3 3 3 2 1 3 1 2 2 1 2 0 2 2\n",
            " 2 1 3 3 1 1 1 2 3 1 0 3 1 1 1 3 2 1 2 2 3 2 1 1 0 1 3 1 1 1 2 2 2 3 3 1 0\n",
            " 1 1 1 1 1 2 1 1 2 1 2 1 3 1 1 2 2 1 1 0 0 0 3 3 0 1 2 3 0 3 2 1 0 2 0 1 3\n",
            " 0 3 2 3 2 1 3 2 3 1 2 1 1 1 3 1 3 1 1 2 1 1 2 1 3 2 0 2 3 0 3 1 2 1 3 1 3\n",
            " 2 1 2 1 1 1 3 3 1 2 2 1 1 3 0 1 1 2 2 1 1 2 0 1 2 1 2 1 3 2 1 1 1 2 1 1 1\n",
            " 1 3 1 3 2 2 2 3 1 1 3 3 3 1 1 3 3 2 2 3 0 3 1 0 1 2 1 3 1 1 1 1 1 2 0 1 3\n",
            " 1 0 3 2 0 1 3 3 3 1 1 2 1 1 1 2 1 2 3 2 1 3 2 1 3 1 3 2 3 2 1 0 3 0 1 3 3\n",
            " 2 1 2 1 0 1 3 2 1 1 2 1 3 3 2 1 1 1 1 1 3 0 3 3 1 1 1 2 0 2 2 1 3 3 3 1 2\n",
            " 1 3 3 2 1 1 1 1 2 2 3 2 0 3 2 1 2 1 2 2 2 3 2 0 3 0 1 2 1 2 0 3 3 2 1 0 2\n",
            " 0 2 2 2 3 3 1 3 3 2 0 0 2 1 1 1 2 3 3 1 3 0 1 2 1 3 2 1 2 1 2 1 1 2 1 0 3\n",
            " 0 2 1 1 1 3 2 3 2 3 2 1 3 2 0 2 2 3 2 2 1 2 1 1 2 1 1 1 0 2 2 1 1 2 1 2 3\n",
            " 2 2 3 1 1 3 1 3 1 2 1 2 1 1 1 0 0 1 1 2 3 1 2 1 1 1 3 3 2 1 3 1 3 2 1 3 1\n",
            " 1 2 1 0 1 1 3 1 2 2 0 3 2 3 1 3 1 1 1 3 1 0 1 1 1 1 1 1 1 1 1 2 3 3 2 1 2\n",
            " 2 1 1 0 0 3 2 1 3 3 2 3 2 2 1 1 3 1 0 2 1 3 1 1 1 1 1 3 3 0 1 2 1 1 1 1 1\n",
            " 1 1 0 1 2 2 1 3 1 2 1 0 1 1 2 2 3 1 1 2 2 1 0 2 1 2 3 1 2 3 3 1 3 1 2 1 3\n",
            " 1 1 1 1 2 1 1 1 2 1 0 3 2 0 1 2 2 1 1 3 1 1 1 0 3 3 3 3 3 0 1 3 2 1 0 2 3\n",
            " 3 1 1 0 1 3 0 3 1 2 1 3 2 3 1 1 2 2 1 2 3 2 2 3 3 1 1 3 1 0 1 2 0 2 1 1 1\n",
            " 1 1 3 3 1 1 3 0 1 1 1 0 1 3 2 1 1 3 3 1 2 2 2]\n"
          ]
        }
      ]
    },
    {
      "cell_type": "markdown",
      "source": [
        "### 2. SVC"
      ],
      "metadata": {
        "id": "ifyerFEHF100"
      }
    },
    {
      "cell_type": "code",
      "source": [
        "def svc_objective(trial):\n",
        "\n",
        "    # 調整したいハイパーパラメータの範囲\n",
        "    kernel = trial.suggest_categorical('kernel', ['linear', 'rbf'])\n",
        "    params = {\n",
        "        'C': trial.suggest_float('C', 1e-6, 1e2, log=True),\n",
        "        'kernel': kernel\n",
        "    }\n",
        "\n",
        "    # モデルの定義\n",
        "    cls = SVC(**params, random_state=42)\n",
        "\n",
        "    score = cross_val_score(cls, X, y, cv=5, scoring='f1_macro')\n",
        "    f1_score = score.mean()\n",
        "    return score.mean()\n",
        "\n",
        "study = optuna.create_study(direction='maximize')\n",
        "study.optimize(svc_objective, n_trials=100)\n",
        "\n",
        "print('Best trial: ', study.best_trial.params)\n",
        "print('Best score: ', study.best_trial.value)"
      ],
      "metadata": {
        "colab": {
          "base_uri": "https://localhost:8080/"
        },
        "outputId": "ae995e8e-3177-4ad4-dade-20e291816795",
        "id": "dPlldOOrF11C"
      },
      "execution_count": null,
      "outputs": [
        {
          "output_type": "stream",
          "name": "stderr",
          "text": [
            "[I 2024-05-24 01:05:48,305] A new study created in memory with name: no-name-f29a233b-7c8e-448d-ae60-1b403f16a758\n",
            "[I 2024-05-24 01:05:48,750] Trial 0 finished with value: 0.35337904692495353 and parameters: {'kernel': 'rbf', 'C': 0.2306451718788334}. Best is trial 0 with value: 0.35337904692495353.\n",
            "[I 2024-05-24 01:05:49,123] Trial 1 finished with value: 0.4007004261610317 and parameters: {'kernel': 'linear', 'C': 0.21202713758748176}. Best is trial 1 with value: 0.4007004261610317.\n",
            "[I 2024-05-24 01:05:49,443] Trial 2 finished with value: 0.12962962962962962 and parameters: {'kernel': 'linear', 'C': 3.0236388132303163e-05}. Best is trial 1 with value: 0.4007004261610317.\n",
            "[I 2024-05-24 01:05:49,917] Trial 3 finished with value: 0.12962962962962962 and parameters: {'kernel': 'rbf', 'C': 0.006477490868455745}. Best is trial 1 with value: 0.4007004261610317.\n",
            "[I 2024-05-24 01:05:50,233] Trial 4 finished with value: 0.12962962962962962 and parameters: {'kernel': 'linear', 'C': 0.00013331473340199963}. Best is trial 1 with value: 0.4007004261610317.\n",
            "[I 2024-05-24 01:05:50,678] Trial 5 finished with value: 0.12962962962962962 and parameters: {'kernel': 'rbf', 'C': 1.7059618658758478e-06}. Best is trial 1 with value: 0.4007004261610317.\n",
            "[I 2024-05-24 01:05:51,004] Trial 6 finished with value: 0.12962962962962962 and parameters: {'kernel': 'linear', 'C': 4.904834763039415e-05}. Best is trial 1 with value: 0.4007004261610317.\n",
            "[I 2024-05-24 01:05:51,477] Trial 7 finished with value: 0.4256752347178619 and parameters: {'kernel': 'rbf', 'C': 2.804221565525569}. Best is trial 7 with value: 0.4256752347178619.\n",
            "[I 2024-05-24 01:05:51,945] Trial 8 finished with value: 0.12962962962962962 and parameters: {'kernel': 'rbf', 'C': 0.0082519897123857}. Best is trial 7 with value: 0.4256752347178619.\n",
            "[I 2024-05-24 01:05:52,256] Trial 9 finished with value: 0.12962962962962962 and parameters: {'kernel': 'linear', 'C': 1.7102002441694062e-06}. Best is trial 7 with value: 0.4256752347178619.\n",
            "[I 2024-05-24 01:05:53,012] Trial 10 finished with value: 0.3962518749221622 and parameters: {'kernel': 'rbf', 'C': 29.11572233048894}. Best is trial 7 with value: 0.4256752347178619.\n",
            "[I 2024-05-24 01:05:55,151] Trial 11 finished with value: 0.40540837564463195 and parameters: {'kernel': 'linear', 'C': 2.930124674060608}. Best is trial 7 with value: 0.4256752347178619.\n",
            "[I 2024-05-24 01:06:05,210] Trial 12 finished with value: 0.40649911840834363 and parameters: {'kernel': 'linear', 'C': 26.552747192529605}. Best is trial 7 with value: 0.4256752347178619.\n",
            "[I 2024-05-24 01:06:05,884] Trial 13 finished with value: 0.3962518749221622 and parameters: {'kernel': 'rbf', 'C': 88.31893896602409}. Best is trial 7 with value: 0.4256752347178619.\n",
            "[I 2024-05-24 01:06:06,338] Trial 14 finished with value: 0.4226107259447982 and parameters: {'kernel': 'rbf', 'C': 1.8195567874735896}. Best is trial 7 with value: 0.4256752347178619.\n",
            "[I 2024-05-24 01:06:06,785] Trial 15 finished with value: 0.43999127495110696 and parameters: {'kernel': 'rbf', 'C': 0.6671681456522693}. Best is trial 15 with value: 0.43999127495110696.\n",
            "[I 2024-05-24 01:06:07,234] Trial 16 finished with value: 0.2845550548434248 and parameters: {'kernel': 'rbf', 'C': 0.13143151934189876}. Best is trial 15 with value: 0.43999127495110696.\n",
            "[I 2024-05-24 01:06:07,754] Trial 17 finished with value: 0.4217733830213864 and parameters: {'kernel': 'rbf', 'C': 2.7425999599007262}. Best is trial 15 with value: 0.43999127495110696.\n",
            "[I 2024-05-24 01:06:08,515] Trial 18 finished with value: 0.12962962962962962 and parameters: {'kernel': 'rbf', 'C': 0.002069511025384299}. Best is trial 15 with value: 0.43999127495110696.\n",
            "[I 2024-05-24 01:06:09,258] Trial 19 finished with value: 0.2849954774028031 and parameters: {'kernel': 'rbf', 'C': 0.08420446696576588}. Best is trial 15 with value: 0.43999127495110696.\n",
            "[I 2024-05-24 01:06:09,969] Trial 20 finished with value: 0.4271884085214527 and parameters: {'kernel': 'rbf', 'C': 1.4335271400137644}. Best is trial 15 with value: 0.43999127495110696.\n",
            "[I 2024-05-24 01:06:11,741] Trial 21 finished with value: 0.42355804893892135 and parameters: {'kernel': 'rbf', 'C': 2.3887917012369053}. Best is trial 15 with value: 0.43999127495110696.\n",
            "[I 2024-05-24 01:06:12,449] Trial 22 finished with value: 0.44088851137593715 and parameters: {'kernel': 'rbf', 'C': 0.6385019234642577}. Best is trial 22 with value: 0.44088851137593715.\n",
            "[I 2024-05-24 01:06:13,030] Trial 23 finished with value: 0.28094233089464193 and parameters: {'kernel': 'rbf', 'C': 0.03872362727646132}. Best is trial 22 with value: 0.44088851137593715.\n",
            "[I 2024-05-24 01:06:13,452] Trial 24 finished with value: 0.44019446733859 and parameters: {'kernel': 'rbf', 'C': 0.6315374975562777}. Best is trial 22 with value: 0.44088851137593715.\n",
            "[I 2024-05-24 01:06:13,905] Trial 25 finished with value: 0.12962962962962962 and parameters: {'kernel': 'rbf', 'C': 0.0012878484642490494}. Best is trial 22 with value: 0.44088851137593715.\n",
            "[I 2024-05-24 01:06:14,326] Trial 26 finished with value: 0.4385611706308417 and parameters: {'kernel': 'rbf', 'C': 0.621531256247255}. Best is trial 22 with value: 0.44088851137593715.\n",
            "[I 2024-05-24 01:06:14,989] Trial 27 finished with value: 0.39871161562344937 and parameters: {'kernel': 'rbf', 'C': 12.276167165179}. Best is trial 22 with value: 0.44088851137593715.\n",
            "[I 2024-05-24 01:06:15,468] Trial 28 finished with value: 0.22225504794820156 and parameters: {'kernel': 'rbf', 'C': 0.025867875717472153}. Best is trial 22 with value: 0.44088851137593715.\n",
            "[I 2024-05-24 01:06:15,906] Trial 29 finished with value: 0.4193929184340172 and parameters: {'kernel': 'rbf', 'C': 0.3672283410694024}. Best is trial 22 with value: 0.44088851137593715.\n",
            "[I 2024-05-24 01:06:16,556] Trial 30 finished with value: 0.39875298111952395 and parameters: {'kernel': 'rbf', 'C': 14.359059564509076}. Best is trial 22 with value: 0.44088851137593715.\n",
            "[I 2024-05-24 01:06:16,990] Trial 31 finished with value: 0.4385611706308417 and parameters: {'kernel': 'rbf', 'C': 0.6235709410203685}. Best is trial 22 with value: 0.44088851137593715.\n",
            "[I 2024-05-24 01:06:17,421] Trial 32 finished with value: 0.39814733850197 and parameters: {'kernel': 'rbf', 'C': 0.30844229096885795}. Best is trial 22 with value: 0.44088851137593715.\n",
            "[I 2024-05-24 01:06:18,133] Trial 33 finished with value: 0.2844288943134437 and parameters: {'kernel': 'rbf', 'C': 0.04988960037003962}. Best is trial 22 with value: 0.44088851137593715.\n",
            "[I 2024-05-24 01:06:18,571] Trial 34 finished with value: 0.4442900468309068 and parameters: {'kernel': 'rbf', 'C': 0.9328008054983591}. Best is trial 34 with value: 0.4442900468309068.\n",
            "[I 2024-05-24 01:06:19,194] Trial 35 finished with value: 0.4053587763017198 and parameters: {'kernel': 'rbf', 'C': 7.539929760072352}. Best is trial 34 with value: 0.4442900468309068.\n",
            "[I 2024-05-24 01:06:19,566] Trial 36 finished with value: 0.4038307670126464 and parameters: {'kernel': 'linear', 'C': 0.16706336647770034}. Best is trial 34 with value: 0.4442900468309068.\n",
            "[I 2024-05-24 01:06:20,037] Trial 37 finished with value: 0.12962962962962962 and parameters: {'kernel': 'rbf', 'C': 0.01845098306990242}. Best is trial 34 with value: 0.4442900468309068.\n",
            "[I 2024-05-24 01:06:20,483] Trial 38 finished with value: 0.4417809610955138 and parameters: {'kernel': 'rbf', 'C': 0.8427672811680278}. Best is trial 34 with value: 0.4442900468309068.\n",
            "[I 2024-05-24 01:06:20,801] Trial 39 finished with value: 0.29798403206464863 and parameters: {'kernel': 'linear', 'C': 0.003083378712659754}. Best is trial 34 with value: 0.4442900468309068.\n",
            "[I 2024-05-24 01:06:21,273] Trial 40 finished with value: 0.12962962962962962 and parameters: {'kernel': 'rbf', 'C': 0.0006287292140463646}. Best is trial 34 with value: 0.4442900468309068.\n",
            "[I 2024-05-24 01:06:21,713] Trial 41 finished with value: 0.44519627508802806 and parameters: {'kernel': 'rbf', 'C': 0.7749289355113496}. Best is trial 41 with value: 0.44519627508802806.\n",
            "[I 2024-05-24 01:06:22,330] Trial 42 finished with value: 0.40520610298250936 and parameters: {'kernel': 'rbf', 'C': 7.333959167285085}. Best is trial 41 with value: 0.44519627508802806.\n",
            "[I 2024-05-24 01:06:22,750] Trial 43 finished with value: 0.44756972551062385 and parameters: {'kernel': 'rbf', 'C': 0.7465422835699946}. Best is trial 43 with value: 0.44756972551062385.\n",
            "[I 2024-05-24 01:06:23,462] Trial 44 finished with value: 0.2849954774028031 and parameters: {'kernel': 'rbf', 'C': 0.08161302849376863}. Best is trial 43 with value: 0.44756972551062385.\n",
            "[I 2024-05-24 01:06:24,337] Trial 45 finished with value: 0.4076432878437967 and parameters: {'kernel': 'rbf', 'C': 5.238867682591048}. Best is trial 43 with value: 0.44756972551062385.\n",
            "[I 2024-05-24 01:07:01,407] Trial 46 finished with value: 0.4065361983287593 and parameters: {'kernel': 'linear', 'C': 64.14437243126692}. Best is trial 43 with value: 0.44756972551062385.\n",
            "[I 2024-05-24 01:07:01,852] Trial 47 finished with value: 0.4437466243065192 and parameters: {'kernel': 'rbf', 'C': 1.1829334034654628}. Best is trial 43 with value: 0.44756972551062385.\n",
            "[I 2024-05-24 01:07:02,288] Trial 48 finished with value: 0.42640250116639644 and parameters: {'kernel': 'rbf', 'C': 1.442438602268598}. Best is trial 43 with value: 0.44756972551062385.\n",
            "[I 2024-05-24 01:07:02,605] Trial 49 finished with value: 0.12962962962962962 and parameters: {'kernel': 'linear', 'C': 6.258321493034511e-06}. Best is trial 43 with value: 0.44756972551062385.\n",
            "[I 2024-05-24 01:07:03,044] Trial 50 finished with value: 0.31482910845662043 and parameters: {'kernel': 'rbf', 'C': 0.19397196253989743}. Best is trial 43 with value: 0.44756972551062385.\n",
            "[I 2024-05-24 01:07:03,464] Trial 51 finished with value: 0.4482166016129193 and parameters: {'kernel': 'rbf', 'C': 0.7580324742948333}. Best is trial 51 with value: 0.4482166016129193.\n",
            "[I 2024-05-24 01:07:03,989] Trial 52 finished with value: 0.4081107160958597 and parameters: {'kernel': 'rbf', 'C': 4.344046368147403}. Best is trial 51 with value: 0.4482166016129193.\n",
            "[I 2024-05-24 01:07:04,458] Trial 53 finished with value: 0.3990539261149434 and parameters: {'kernel': 'rbf', 'C': 0.31714673857192544}. Best is trial 51 with value: 0.4482166016129193.\n",
            "[I 2024-05-24 01:07:04,885] Trial 54 finished with value: 0.4424506014756469 and parameters: {'kernel': 'rbf', 'C': 0.9123556446985209}. Best is trial 51 with value: 0.4482166016129193.\n",
            "[I 2024-05-24 01:07:05,561] Trial 55 finished with value: 0.3962518749221622 and parameters: {'kernel': 'rbf', 'C': 29.48146300559283}. Best is trial 51 with value: 0.4482166016129193.\n",
            "[I 2024-05-24 01:07:06,012] Trial 56 finished with value: 0.12962962962962962 and parameters: {'kernel': 'rbf', 'C': 0.01282832395068338}. Best is trial 51 with value: 0.4482166016129193.\n",
            "[I 2024-05-24 01:07:06,465] Trial 57 finished with value: 0.4215018937562526 and parameters: {'kernel': 'rbf', 'C': 1.8395656840587808}. Best is trial 51 with value: 0.4482166016129193.\n",
            "[I 2024-05-24 01:07:06,907] Trial 58 finished with value: 0.2838606920959087 and parameters: {'kernel': 'rbf', 'C': 0.07135370127320953}. Best is trial 51 with value: 0.4482166016129193.\n",
            "[I 2024-05-24 01:07:07,360] Trial 59 finished with value: 0.4292454794222921 and parameters: {'kernel': 'rbf', 'C': 1.4109490773260591}. Best is trial 51 with value: 0.4482166016129193.\n",
            "[I 2024-05-24 01:07:07,700] Trial 60 finished with value: 0.40534662628303836 and parameters: {'kernel': 'linear', 'C': 0.12455424697399055}. Best is trial 51 with value: 0.4482166016129193.\n",
            "[I 2024-05-24 01:07:08,278] Trial 61 finished with value: 0.44423678948141865 and parameters: {'kernel': 'rbf', 'C': 0.7981579145197583}. Best is trial 51 with value: 0.4482166016129193.\n",
            "[I 2024-05-24 01:07:09,006] Trial 62 finished with value: 0.4348312534735158 and parameters: {'kernel': 'rbf', 'C': 1.0765698086223958}. Best is trial 51 with value: 0.4482166016129193.\n",
            "[I 2024-05-24 01:07:09,801] Trial 63 finished with value: 0.4211885296228416 and parameters: {'kernel': 'rbf', 'C': 2.7175921044711635}. Best is trial 51 with value: 0.4482166016129193.\n",
            "[I 2024-05-24 01:07:10,522] Trial 64 finished with value: 0.4256641599296126 and parameters: {'kernel': 'rbf', 'C': 0.44191798974477886}. Best is trial 51 with value: 0.4482166016129193.\n",
            "[I 2024-05-24 01:07:11,260] Trial 65 finished with value: 0.35211392308850276 and parameters: {'kernel': 'rbf', 'C': 0.22820713699324144}. Best is trial 51 with value: 0.4482166016129193.\n",
            "[I 2024-05-24 01:07:12,098] Trial 66 finished with value: 0.4134975078453803 and parameters: {'kernel': 'rbf', 'C': 4.081924083439432}. Best is trial 51 with value: 0.4482166016129193.\n",
            "[I 2024-05-24 01:07:12,943] Trial 67 finished with value: 0.3991882975422386 and parameters: {'kernel': 'rbf', 'C': 14.908198825429258}. Best is trial 51 with value: 0.4482166016129193.\n",
            "[I 2024-05-24 01:07:13,391] Trial 68 finished with value: 0.4200314486256171 and parameters: {'kernel': 'rbf', 'C': 0.43083222317949527}. Best is trial 51 with value: 0.4482166016129193.\n",
            "[I 2024-05-24 01:07:13,831] Trial 69 finished with value: 0.4444771256622939 and parameters: {'kernel': 'rbf', 'C': 0.7931269969250231}. Best is trial 51 with value: 0.4482166016129193.\n",
            "[I 2024-05-24 01:07:14,277] Trial 70 finished with value: 0.2845550548434248 and parameters: {'kernel': 'rbf', 'C': 0.13315494967143093}. Best is trial 51 with value: 0.4482166016129193.\n",
            "[I 2024-05-24 01:07:14,731] Trial 71 finished with value: 0.43738975120482226 and parameters: {'kernel': 'rbf', 'C': 1.0948424828760108}. Best is trial 51 with value: 0.4482166016129193.\n",
            "[I 2024-05-24 01:07:15,182] Trial 72 finished with value: 0.4232242603330166 and parameters: {'kernel': 'rbf', 'C': 2.1408171370819344}. Best is trial 51 with value: 0.4482166016129193.\n",
            "[I 2024-05-24 01:07:15,621] Trial 73 finished with value: 0.4434590742485717 and parameters: {'kernel': 'rbf', 'C': 0.8148424668813116}. Best is trial 51 with value: 0.4482166016129193.\n",
            "[I 2024-05-24 01:07:16,042] Trial 74 finished with value: 0.4225502684171336 and parameters: {'kernel': 'rbf', 'C': 0.41649818217986867}. Best is trial 51 with value: 0.4482166016129193.\n",
            "[I 2024-05-24 01:07:16,662] Trial 75 finished with value: 0.4053587763017198 and parameters: {'kernel': 'rbf', 'C': 7.5184331075199555}. Best is trial 51 with value: 0.4482166016129193.\n",
            "[I 2024-05-24 01:07:17,115] Trial 76 finished with value: 0.28273465782089746 and parameters: {'kernel': 'rbf', 'C': 0.04217458309153429}. Best is trial 51 with value: 0.4482166016129193.\n",
            "[I 2024-05-24 01:07:17,646] Trial 77 finished with value: 0.41925827208676597 and parameters: {'kernel': 'rbf', 'C': 3.7578533707557082}. Best is trial 51 with value: 0.4482166016129193.\n",
            "[I 2024-05-24 01:07:18,064] Trial 78 finished with value: 0.44077953162439887 and parameters: {'kernel': 'rbf', 'C': 0.6728902762180059}. Best is trial 51 with value: 0.4482166016129193.\n",
            "[I 2024-05-24 01:07:18,475] Trial 79 finished with value: 0.39864825630476314 and parameters: {'kernel': 'linear', 'C': 0.2962930051854254}. Best is trial 51 with value: 0.4482166016129193.\n",
            "[I 2024-05-24 01:07:18,935] Trial 80 finished with value: 0.42157907774667047 and parameters: {'kernel': 'rbf', 'C': 2.2889357552850793}. Best is trial 51 with value: 0.4482166016129193.\n",
            "[I 2024-05-24 01:07:19,378] Trial 81 finished with value: 0.44175289236139037 and parameters: {'kernel': 'rbf', 'C': 0.9620754550819569}. Best is trial 51 with value: 0.4482166016129193.\n",
            "[I 2024-05-24 01:07:19,845] Trial 82 finished with value: 0.4434898541663824 and parameters: {'kernel': 'rbf', 'C': 0.9538063862454181}. Best is trial 51 with value: 0.4482166016129193.\n",
            "[I 2024-05-24 01:07:20,286] Trial 83 finished with value: 0.12962962962962962 and parameters: {'kernel': 'rbf', 'C': 0.00013920000594407005}. Best is trial 51 with value: 0.4482166016129193.\n",
            "[I 2024-05-24 01:07:20,736] Trial 84 finished with value: 0.42692152959535035 and parameters: {'kernel': 'rbf', 'C': 0.5080954169699438}. Best is trial 51 with value: 0.4482166016129193.\n",
            "[I 2024-05-24 01:07:21,175] Trial 85 finished with value: 0.35751047234292027 and parameters: {'kernel': 'rbf', 'C': 0.2349688914429794}. Best is trial 51 with value: 0.4482166016129193.\n",
            "[I 2024-05-24 01:07:21,646] Trial 86 finished with value: 0.427227909258532 and parameters: {'kernel': 'rbf', 'C': 1.4823274690963733}. Best is trial 51 with value: 0.4482166016129193.\n",
            "[I 2024-05-24 01:07:22,242] Trial 87 finished with value: 0.4050167922855647 and parameters: {'kernel': 'rbf', 'C': 6.234341443781009}. Best is trial 51 with value: 0.4482166016129193.\n",
            "[I 2024-05-24 01:07:22,823] Trial 88 finished with value: 0.28345321242339805 and parameters: {'kernel': 'rbf', 'C': 0.10406342243695064}. Best is trial 51 with value: 0.4482166016129193.\n",
            "[I 2024-05-24 01:07:23,635] Trial 89 finished with value: 0.41984526785170073 and parameters: {'kernel': 'rbf', 'C': 3.0681120685415033}. Best is trial 51 with value: 0.4482166016129193.\n",
            "[I 2024-05-24 01:07:24,334] Trial 90 finished with value: 0.4483449607237124 and parameters: {'kernel': 'rbf', 'C': 0.7253529746614299}. Best is trial 90 with value: 0.4483449607237124.\n",
            "[I 2024-05-24 01:07:25,050] Trial 91 finished with value: 0.4417809610955138 and parameters: {'kernel': 'rbf', 'C': 0.8445224793615371}. Best is trial 90 with value: 0.4483449607237124.\n",
            "[I 2024-05-24 01:07:25,804] Trial 92 finished with value: 0.43335942215673223 and parameters: {'kernel': 'rbf', 'C': 1.3666111358159967}. Best is trial 90 with value: 0.4483449607237124.\n",
            "[I 2024-05-24 01:07:26,519] Trial 93 finished with value: 0.4385611706308417 and parameters: {'kernel': 'rbf', 'C': 0.6241065411910236}. Best is trial 90 with value: 0.4483449607237124.\n",
            "[I 2024-05-24 01:07:27,479] Trial 94 finished with value: 0.39791373725167856 and parameters: {'kernel': 'rbf', 'C': 10.527117732605891}. Best is trial 90 with value: 0.4483449607237124.\n",
            "[I 2024-05-24 01:07:27,949] Trial 95 finished with value: 0.29583980669356846 and parameters: {'kernel': 'rbf', 'C': 0.17299919497543506}. Best is trial 90 with value: 0.4483449607237124.\n",
            "[I 2024-05-24 01:07:28,388] Trial 96 finished with value: 0.39368441062913434 and parameters: {'kernel': 'rbf', 'C': 0.29692729985013777}. Best is trial 90 with value: 0.4483449607237124.\n",
            "[I 2024-05-24 01:07:29,426] Trial 97 finished with value: 0.40441796592383633 and parameters: {'kernel': 'linear', 'C': 2.3300616919603194}. Best is trial 90 with value: 0.4483449607237124.\n",
            "[I 2024-05-24 01:07:30,100] Trial 98 finished with value: 0.39480511849188843 and parameters: {'kernel': 'rbf', 'C': 20.677590204299374}. Best is trial 90 with value: 0.4483449607237124.\n",
            "[I 2024-05-24 01:07:30,536] Trial 99 finished with value: 0.4443993139560204 and parameters: {'kernel': 'rbf', 'C': 0.7938725215217591}. Best is trial 90 with value: 0.4483449607237124.\n"
          ]
        },
        {
          "output_type": "stream",
          "name": "stdout",
          "text": [
            "Best trial: ,  {'kernel': 'rbf', 'C': 0.7253529746614299}\n",
            "Best score: ,  0.4483449607237124\n"
          ]
        }
      ]
    },
    {
      "cell_type": "code",
      "source": [
        "# 探索履歴のプロット\n",
        "opt_history = vis.plot_optimization_history(study)\n",
        "opt_history.show()\n",
        "\n",
        "# ハイパーパラメータの重要度のプロット\n",
        "param_importances = vis.plot_param_importances(study)\n",
        "param_importances.show()"
      ],
      "metadata": {
        "colab": {
          "base_uri": "https://localhost:8080/",
          "height": 1000
        },
        "outputId": "9e118dda-a5b2-45dc-8fee-bde68fa95e19",
        "collapsed": true,
        "id": "sIOOjKfvF11C"
      },
      "execution_count": null,
      "outputs": [
        {
          "output_type": "display_data",
          "data": {
            "text/html": [
              "<html>\n",
              "<head><meta charset=\"utf-8\" /></head>\n",
              "<body>\n",
              "    <div>            <script src=\"https://cdnjs.cloudflare.com/ajax/libs/mathjax/2.7.5/MathJax.js?config=TeX-AMS-MML_SVG\"></script><script type=\"text/javascript\">if (window.MathJax && window.MathJax.Hub && window.MathJax.Hub.Config) {window.MathJax.Hub.Config({SVG: {font: \"STIX-Web\"}});}</script>                <script type=\"text/javascript\">window.PlotlyConfig = {MathJaxConfig: 'local'};</script>\n",
              "        <script charset=\"utf-8\" src=\"https://cdn.plot.ly/plotly-2.24.1.min.js\"></script>                <div id=\"d4d98621-4c19-4607-8c8e-8b97b52a2297\" class=\"plotly-graph-div\" style=\"height:525px; width:100%;\"></div>            <script type=\"text/javascript\">                                    window.PLOTLYENV=window.PLOTLYENV || {};                                    if (document.getElementById(\"d4d98621-4c19-4607-8c8e-8b97b52a2297\")) {                    Plotly.newPlot(                        \"d4d98621-4c19-4607-8c8e-8b97b52a2297\",                        [{\"mode\":\"markers\",\"name\":\"Objective Value\",\"x\":[0,1,2,3,4,5,6,7,8,9,10,11,12,13,14,15,16,17,18,19,20,21,22,23,24,25,26,27,28,29,30,31,32,33,34,35,36,37,38,39,40,41,42,43,44,45,46,47,48,49,50,51,52,53,54,55,56,57,58,59,60,61,62,63,64,65,66,67,68,69,70,71,72,73,74,75,76,77,78,79,80,81,82,83,84,85,86,87,88,89,90,91,92,93,94,95,96,97,98,99],\"y\":[0.35337904692495353,0.4007004261610317,0.12962962962962962,0.12962962962962962,0.12962962962962962,0.12962962962962962,0.12962962962962962,0.4256752347178619,0.12962962962962962,0.12962962962962962,0.3962518749221622,0.40540837564463195,0.40649911840834363,0.3962518749221622,0.4226107259447982,0.43999127495110696,0.2845550548434248,0.4217733830213864,0.12962962962962962,0.2849954774028031,0.4271884085214527,0.42355804893892135,0.44088851137593715,0.28094233089464193,0.44019446733859,0.12962962962962962,0.4385611706308417,0.39871161562344937,0.22225504794820156,0.4193929184340172,0.39875298111952395,0.4385611706308417,0.39814733850197,0.2844288943134437,0.4442900468309068,0.4053587763017198,0.4038307670126464,0.12962962962962962,0.4417809610955138,0.29798403206464863,0.12962962962962962,0.44519627508802806,0.40520610298250936,0.44756972551062385,0.2849954774028031,0.4076432878437967,0.4065361983287593,0.4437466243065192,0.42640250116639644,0.12962962962962962,0.31482910845662043,0.4482166016129193,0.4081107160958597,0.3990539261149434,0.4424506014756469,0.3962518749221622,0.12962962962962962,0.4215018937562526,0.2838606920959087,0.4292454794222921,0.40534662628303836,0.44423678948141865,0.4348312534735158,0.4211885296228416,0.4256641599296126,0.35211392308850276,0.4134975078453803,0.3991882975422386,0.4200314486256171,0.4444771256622939,0.2845550548434248,0.43738975120482226,0.4232242603330166,0.4434590742485717,0.4225502684171336,0.4053587763017198,0.28273465782089746,0.41925827208676597,0.44077953162439887,0.39864825630476314,0.42157907774667047,0.44175289236139037,0.4434898541663824,0.12962962962962962,0.42692152959535035,0.35751047234292027,0.427227909258532,0.4050167922855647,0.28345321242339805,0.41984526785170073,0.4483449607237124,0.4417809610955138,0.43335942215673223,0.4385611706308417,0.39791373725167856,0.29583980669356846,0.39368441062913434,0.40441796592383633,0.39480511849188843,0.4443993139560204],\"type\":\"scatter\"},{\"mode\":\"lines\",\"name\":\"Best Value\",\"x\":[0,1,2,3,4,5,6,7,8,9,10,11,12,13,14,15,16,17,18,19,20,21,22,23,24,25,26,27,28,29,30,31,32,33,34,35,36,37,38,39,40,41,42,43,44,45,46,47,48,49,50,51,52,53,54,55,56,57,58,59,60,61,62,63,64,65,66,67,68,69,70,71,72,73,74,75,76,77,78,79,80,81,82,83,84,85,86,87,88,89,90,91,92,93,94,95,96,97,98,99],\"y\":[0.35337904692495353,0.4007004261610317,0.4007004261610317,0.4007004261610317,0.4007004261610317,0.4007004261610317,0.4007004261610317,0.4256752347178619,0.4256752347178619,0.4256752347178619,0.4256752347178619,0.4256752347178619,0.4256752347178619,0.4256752347178619,0.4256752347178619,0.43999127495110696,0.43999127495110696,0.43999127495110696,0.43999127495110696,0.43999127495110696,0.43999127495110696,0.43999127495110696,0.44088851137593715,0.44088851137593715,0.44088851137593715,0.44088851137593715,0.44088851137593715,0.44088851137593715,0.44088851137593715,0.44088851137593715,0.44088851137593715,0.44088851137593715,0.44088851137593715,0.44088851137593715,0.4442900468309068,0.4442900468309068,0.4442900468309068,0.4442900468309068,0.4442900468309068,0.4442900468309068,0.4442900468309068,0.44519627508802806,0.44519627508802806,0.44756972551062385,0.44756972551062385,0.44756972551062385,0.44756972551062385,0.44756972551062385,0.44756972551062385,0.44756972551062385,0.44756972551062385,0.4482166016129193,0.4482166016129193,0.4482166016129193,0.4482166016129193,0.4482166016129193,0.4482166016129193,0.4482166016129193,0.4482166016129193,0.4482166016129193,0.4482166016129193,0.4482166016129193,0.4482166016129193,0.4482166016129193,0.4482166016129193,0.4482166016129193,0.4482166016129193,0.4482166016129193,0.4482166016129193,0.4482166016129193,0.4482166016129193,0.4482166016129193,0.4482166016129193,0.4482166016129193,0.4482166016129193,0.4482166016129193,0.4482166016129193,0.4482166016129193,0.4482166016129193,0.4482166016129193,0.4482166016129193,0.4482166016129193,0.4482166016129193,0.4482166016129193,0.4482166016129193,0.4482166016129193,0.4482166016129193,0.4482166016129193,0.4482166016129193,0.4482166016129193,0.4483449607237124,0.4483449607237124,0.4483449607237124,0.4483449607237124,0.4483449607237124,0.4483449607237124,0.4483449607237124,0.4483449607237124,0.4483449607237124,0.4483449607237124],\"type\":\"scatter\"},{\"marker\":{\"color\":\"#cccccc\"},\"mode\":\"markers\",\"name\":\"Infeasible Trial\",\"showlegend\":false,\"x\":[],\"y\":[],\"type\":\"scatter\"}],                        {\"title\":{\"text\":\"Optimization History Plot\"},\"xaxis\":{\"title\":{\"text\":\"Trial\"}},\"yaxis\":{\"title\":{\"text\":\"Objective Value\"}},\"template\":{\"data\":{\"histogram2dcontour\":[{\"type\":\"histogram2dcontour\",\"colorbar\":{\"outlinewidth\":0,\"ticks\":\"\"},\"colorscale\":[[0.0,\"#0d0887\"],[0.1111111111111111,\"#46039f\"],[0.2222222222222222,\"#7201a8\"],[0.3333333333333333,\"#9c179e\"],[0.4444444444444444,\"#bd3786\"],[0.5555555555555556,\"#d8576b\"],[0.6666666666666666,\"#ed7953\"],[0.7777777777777778,\"#fb9f3a\"],[0.8888888888888888,\"#fdca26\"],[1.0,\"#f0f921\"]]}],\"choropleth\":[{\"type\":\"choropleth\",\"colorbar\":{\"outlinewidth\":0,\"ticks\":\"\"}}],\"histogram2d\":[{\"type\":\"histogram2d\",\"colorbar\":{\"outlinewidth\":0,\"ticks\":\"\"},\"colorscale\":[[0.0,\"#0d0887\"],[0.1111111111111111,\"#46039f\"],[0.2222222222222222,\"#7201a8\"],[0.3333333333333333,\"#9c179e\"],[0.4444444444444444,\"#bd3786\"],[0.5555555555555556,\"#d8576b\"],[0.6666666666666666,\"#ed7953\"],[0.7777777777777778,\"#fb9f3a\"],[0.8888888888888888,\"#fdca26\"],[1.0,\"#f0f921\"]]}],\"heatmap\":[{\"type\":\"heatmap\",\"colorbar\":{\"outlinewidth\":0,\"ticks\":\"\"},\"colorscale\":[[0.0,\"#0d0887\"],[0.1111111111111111,\"#46039f\"],[0.2222222222222222,\"#7201a8\"],[0.3333333333333333,\"#9c179e\"],[0.4444444444444444,\"#bd3786\"],[0.5555555555555556,\"#d8576b\"],[0.6666666666666666,\"#ed7953\"],[0.7777777777777778,\"#fb9f3a\"],[0.8888888888888888,\"#fdca26\"],[1.0,\"#f0f921\"]]}],\"heatmapgl\":[{\"type\":\"heatmapgl\",\"colorbar\":{\"outlinewidth\":0,\"ticks\":\"\"},\"colorscale\":[[0.0,\"#0d0887\"],[0.1111111111111111,\"#46039f\"],[0.2222222222222222,\"#7201a8\"],[0.3333333333333333,\"#9c179e\"],[0.4444444444444444,\"#bd3786\"],[0.5555555555555556,\"#d8576b\"],[0.6666666666666666,\"#ed7953\"],[0.7777777777777778,\"#fb9f3a\"],[0.8888888888888888,\"#fdca26\"],[1.0,\"#f0f921\"]]}],\"contourcarpet\":[{\"type\":\"contourcarpet\",\"colorbar\":{\"outlinewidth\":0,\"ticks\":\"\"}}],\"contour\":[{\"type\":\"contour\",\"colorbar\":{\"outlinewidth\":0,\"ticks\":\"\"},\"colorscale\":[[0.0,\"#0d0887\"],[0.1111111111111111,\"#46039f\"],[0.2222222222222222,\"#7201a8\"],[0.3333333333333333,\"#9c179e\"],[0.4444444444444444,\"#bd3786\"],[0.5555555555555556,\"#d8576b\"],[0.6666666666666666,\"#ed7953\"],[0.7777777777777778,\"#fb9f3a\"],[0.8888888888888888,\"#fdca26\"],[1.0,\"#f0f921\"]]}],\"surface\":[{\"type\":\"surface\",\"colorbar\":{\"outlinewidth\":0,\"ticks\":\"\"},\"colorscale\":[[0.0,\"#0d0887\"],[0.1111111111111111,\"#46039f\"],[0.2222222222222222,\"#7201a8\"],[0.3333333333333333,\"#9c179e\"],[0.4444444444444444,\"#bd3786\"],[0.5555555555555556,\"#d8576b\"],[0.6666666666666666,\"#ed7953\"],[0.7777777777777778,\"#fb9f3a\"],[0.8888888888888888,\"#fdca26\"],[1.0,\"#f0f921\"]]}],\"mesh3d\":[{\"type\":\"mesh3d\",\"colorbar\":{\"outlinewidth\":0,\"ticks\":\"\"}}],\"scatter\":[{\"fillpattern\":{\"fillmode\":\"overlay\",\"size\":10,\"solidity\":0.2},\"type\":\"scatter\"}],\"parcoords\":[{\"type\":\"parcoords\",\"line\":{\"colorbar\":{\"outlinewidth\":0,\"ticks\":\"\"}}}],\"scatterpolargl\":[{\"type\":\"scatterpolargl\",\"marker\":{\"colorbar\":{\"outlinewidth\":0,\"ticks\":\"\"}}}],\"bar\":[{\"error_x\":{\"color\":\"#2a3f5f\"},\"error_y\":{\"color\":\"#2a3f5f\"},\"marker\":{\"line\":{\"color\":\"#E5ECF6\",\"width\":0.5},\"pattern\":{\"fillmode\":\"overlay\",\"size\":10,\"solidity\":0.2}},\"type\":\"bar\"}],\"scattergeo\":[{\"type\":\"scattergeo\",\"marker\":{\"colorbar\":{\"outlinewidth\":0,\"ticks\":\"\"}}}],\"scatterpolar\":[{\"type\":\"scatterpolar\",\"marker\":{\"colorbar\":{\"outlinewidth\":0,\"ticks\":\"\"}}}],\"histogram\":[{\"marker\":{\"pattern\":{\"fillmode\":\"overlay\",\"size\":10,\"solidity\":0.2}},\"type\":\"histogram\"}],\"scattergl\":[{\"type\":\"scattergl\",\"marker\":{\"colorbar\":{\"outlinewidth\":0,\"ticks\":\"\"}}}],\"scatter3d\":[{\"type\":\"scatter3d\",\"line\":{\"colorbar\":{\"outlinewidth\":0,\"ticks\":\"\"}},\"marker\":{\"colorbar\":{\"outlinewidth\":0,\"ticks\":\"\"}}}],\"scattermapbox\":[{\"type\":\"scattermapbox\",\"marker\":{\"colorbar\":{\"outlinewidth\":0,\"ticks\":\"\"}}}],\"scatterternary\":[{\"type\":\"scatterternary\",\"marker\":{\"colorbar\":{\"outlinewidth\":0,\"ticks\":\"\"}}}],\"scattercarpet\":[{\"type\":\"scattercarpet\",\"marker\":{\"colorbar\":{\"outlinewidth\":0,\"ticks\":\"\"}}}],\"carpet\":[{\"aaxis\":{\"endlinecolor\":\"#2a3f5f\",\"gridcolor\":\"white\",\"linecolor\":\"white\",\"minorgridcolor\":\"white\",\"startlinecolor\":\"#2a3f5f\"},\"baxis\":{\"endlinecolor\":\"#2a3f5f\",\"gridcolor\":\"white\",\"linecolor\":\"white\",\"minorgridcolor\":\"white\",\"startlinecolor\":\"#2a3f5f\"},\"type\":\"carpet\"}],\"table\":[{\"cells\":{\"fill\":{\"color\":\"#EBF0F8\"},\"line\":{\"color\":\"white\"}},\"header\":{\"fill\":{\"color\":\"#C8D4E3\"},\"line\":{\"color\":\"white\"}},\"type\":\"table\"}],\"barpolar\":[{\"marker\":{\"line\":{\"color\":\"#E5ECF6\",\"width\":0.5},\"pattern\":{\"fillmode\":\"overlay\",\"size\":10,\"solidity\":0.2}},\"type\":\"barpolar\"}],\"pie\":[{\"automargin\":true,\"type\":\"pie\"}]},\"layout\":{\"autotypenumbers\":\"strict\",\"colorway\":[\"#636efa\",\"#EF553B\",\"#00cc96\",\"#ab63fa\",\"#FFA15A\",\"#19d3f3\",\"#FF6692\",\"#B6E880\",\"#FF97FF\",\"#FECB52\"],\"font\":{\"color\":\"#2a3f5f\"},\"hovermode\":\"closest\",\"hoverlabel\":{\"align\":\"left\"},\"paper_bgcolor\":\"white\",\"plot_bgcolor\":\"#E5ECF6\",\"polar\":{\"bgcolor\":\"#E5ECF6\",\"angularaxis\":{\"gridcolor\":\"white\",\"linecolor\":\"white\",\"ticks\":\"\"},\"radialaxis\":{\"gridcolor\":\"white\",\"linecolor\":\"white\",\"ticks\":\"\"}},\"ternary\":{\"bgcolor\":\"#E5ECF6\",\"aaxis\":{\"gridcolor\":\"white\",\"linecolor\":\"white\",\"ticks\":\"\"},\"baxis\":{\"gridcolor\":\"white\",\"linecolor\":\"white\",\"ticks\":\"\"},\"caxis\":{\"gridcolor\":\"white\",\"linecolor\":\"white\",\"ticks\":\"\"}},\"coloraxis\":{\"colorbar\":{\"outlinewidth\":0,\"ticks\":\"\"}},\"colorscale\":{\"sequential\":[[0.0,\"#0d0887\"],[0.1111111111111111,\"#46039f\"],[0.2222222222222222,\"#7201a8\"],[0.3333333333333333,\"#9c179e\"],[0.4444444444444444,\"#bd3786\"],[0.5555555555555556,\"#d8576b\"],[0.6666666666666666,\"#ed7953\"],[0.7777777777777778,\"#fb9f3a\"],[0.8888888888888888,\"#fdca26\"],[1.0,\"#f0f921\"]],\"sequentialminus\":[[0.0,\"#0d0887\"],[0.1111111111111111,\"#46039f\"],[0.2222222222222222,\"#7201a8\"],[0.3333333333333333,\"#9c179e\"],[0.4444444444444444,\"#bd3786\"],[0.5555555555555556,\"#d8576b\"],[0.6666666666666666,\"#ed7953\"],[0.7777777777777778,\"#fb9f3a\"],[0.8888888888888888,\"#fdca26\"],[1.0,\"#f0f921\"]],\"diverging\":[[0,\"#8e0152\"],[0.1,\"#c51b7d\"],[0.2,\"#de77ae\"],[0.3,\"#f1b6da\"],[0.4,\"#fde0ef\"],[0.5,\"#f7f7f7\"],[0.6,\"#e6f5d0\"],[0.7,\"#b8e186\"],[0.8,\"#7fbc41\"],[0.9,\"#4d9221\"],[1,\"#276419\"]]},\"xaxis\":{\"gridcolor\":\"white\",\"linecolor\":\"white\",\"ticks\":\"\",\"title\":{\"standoff\":15},\"zerolinecolor\":\"white\",\"automargin\":true,\"zerolinewidth\":2},\"yaxis\":{\"gridcolor\":\"white\",\"linecolor\":\"white\",\"ticks\":\"\",\"title\":{\"standoff\":15},\"zerolinecolor\":\"white\",\"automargin\":true,\"zerolinewidth\":2},\"scene\":{\"xaxis\":{\"backgroundcolor\":\"#E5ECF6\",\"gridcolor\":\"white\",\"linecolor\":\"white\",\"showbackground\":true,\"ticks\":\"\",\"zerolinecolor\":\"white\",\"gridwidth\":2},\"yaxis\":{\"backgroundcolor\":\"#E5ECF6\",\"gridcolor\":\"white\",\"linecolor\":\"white\",\"showbackground\":true,\"ticks\":\"\",\"zerolinecolor\":\"white\",\"gridwidth\":2},\"zaxis\":{\"backgroundcolor\":\"#E5ECF6\",\"gridcolor\":\"white\",\"linecolor\":\"white\",\"showbackground\":true,\"ticks\":\"\",\"zerolinecolor\":\"white\",\"gridwidth\":2}},\"shapedefaults\":{\"line\":{\"color\":\"#2a3f5f\"}},\"annotationdefaults\":{\"arrowcolor\":\"#2a3f5f\",\"arrowhead\":0,\"arrowwidth\":1},\"geo\":{\"bgcolor\":\"white\",\"landcolor\":\"#E5ECF6\",\"subunitcolor\":\"white\",\"showland\":true,\"showlakes\":true,\"lakecolor\":\"white\"},\"title\":{\"x\":0.05},\"mapbox\":{\"style\":\"light\"}}}},                        {\"responsive\": true}                    ).then(function(){\n",
              "                            \n",
              "var gd = document.getElementById('d4d98621-4c19-4607-8c8e-8b97b52a2297');\n",
              "var x = new MutationObserver(function (mutations, observer) {{\n",
              "        var display = window.getComputedStyle(gd).display;\n",
              "        if (!display || display === 'none') {{\n",
              "            console.log([gd, 'removed!']);\n",
              "            Plotly.purge(gd);\n",
              "            observer.disconnect();\n",
              "        }}\n",
              "}});\n",
              "\n",
              "// Listen for the removal of the full notebook cells\n",
              "var notebookContainer = gd.closest('#notebook-container');\n",
              "if (notebookContainer) {{\n",
              "    x.observe(notebookContainer, {childList: true});\n",
              "}}\n",
              "\n",
              "// Listen for the clearing of the current output cell\n",
              "var outputEl = gd.closest('.output');\n",
              "if (outputEl) {{\n",
              "    x.observe(outputEl, {childList: true});\n",
              "}}\n",
              "\n",
              "                        })                };                            </script>        </div>\n",
              "</body>\n",
              "</html>"
            ]
          },
          "metadata": {}
        },
        {
          "output_type": "display_data",
          "data": {
            "text/html": [
              "<html>\n",
              "<head><meta charset=\"utf-8\" /></head>\n",
              "<body>\n",
              "    <div>            <script src=\"https://cdnjs.cloudflare.com/ajax/libs/mathjax/2.7.5/MathJax.js?config=TeX-AMS-MML_SVG\"></script><script type=\"text/javascript\">if (window.MathJax && window.MathJax.Hub && window.MathJax.Hub.Config) {window.MathJax.Hub.Config({SVG: {font: \"STIX-Web\"}});}</script>                <script type=\"text/javascript\">window.PlotlyConfig = {MathJaxConfig: 'local'};</script>\n",
              "        <script charset=\"utf-8\" src=\"https://cdn.plot.ly/plotly-2.24.1.min.js\"></script>                <div id=\"c1236ac0-8511-49fe-85b8-df2ad3bf0b7e\" class=\"plotly-graph-div\" style=\"height:525px; width:100%;\"></div>            <script type=\"text/javascript\">                                    window.PLOTLYENV=window.PLOTLYENV || {};                                    if (document.getElementById(\"c1236ac0-8511-49fe-85b8-df2ad3bf0b7e\")) {                    Plotly.newPlot(                        \"c1236ac0-8511-49fe-85b8-df2ad3bf0b7e\",                        [{\"cliponaxis\":false,\"hovertemplate\":[\"kernel (CategoricalDistribution): 0.22848647244708956\\u003cextra\\u003e\\u003c\\u002fextra\\u003e\",\"C (FloatDistribution): 0.7715135275529105\\u003cextra\\u003e\\u003c\\u002fextra\\u003e\"],\"name\":\"Objective Value\",\"orientation\":\"h\",\"text\":[\"0.23\",\"0.77\"],\"textposition\":\"outside\",\"x\":[0.22848647244708956,0.7715135275529105],\"y\":[\"kernel\",\"C\"],\"type\":\"bar\"}],                        {\"title\":{\"text\":\"Hyperparameter Importances\"},\"xaxis\":{\"title\":{\"text\":\"Hyperparameter Importance\"}},\"yaxis\":{\"title\":{\"text\":\"Hyperparameter\"}},\"template\":{\"data\":{\"histogram2dcontour\":[{\"type\":\"histogram2dcontour\",\"colorbar\":{\"outlinewidth\":0,\"ticks\":\"\"},\"colorscale\":[[0.0,\"#0d0887\"],[0.1111111111111111,\"#46039f\"],[0.2222222222222222,\"#7201a8\"],[0.3333333333333333,\"#9c179e\"],[0.4444444444444444,\"#bd3786\"],[0.5555555555555556,\"#d8576b\"],[0.6666666666666666,\"#ed7953\"],[0.7777777777777778,\"#fb9f3a\"],[0.8888888888888888,\"#fdca26\"],[1.0,\"#f0f921\"]]}],\"choropleth\":[{\"type\":\"choropleth\",\"colorbar\":{\"outlinewidth\":0,\"ticks\":\"\"}}],\"histogram2d\":[{\"type\":\"histogram2d\",\"colorbar\":{\"outlinewidth\":0,\"ticks\":\"\"},\"colorscale\":[[0.0,\"#0d0887\"],[0.1111111111111111,\"#46039f\"],[0.2222222222222222,\"#7201a8\"],[0.3333333333333333,\"#9c179e\"],[0.4444444444444444,\"#bd3786\"],[0.5555555555555556,\"#d8576b\"],[0.6666666666666666,\"#ed7953\"],[0.7777777777777778,\"#fb9f3a\"],[0.8888888888888888,\"#fdca26\"],[1.0,\"#f0f921\"]]}],\"heatmap\":[{\"type\":\"heatmap\",\"colorbar\":{\"outlinewidth\":0,\"ticks\":\"\"},\"colorscale\":[[0.0,\"#0d0887\"],[0.1111111111111111,\"#46039f\"],[0.2222222222222222,\"#7201a8\"],[0.3333333333333333,\"#9c179e\"],[0.4444444444444444,\"#bd3786\"],[0.5555555555555556,\"#d8576b\"],[0.6666666666666666,\"#ed7953\"],[0.7777777777777778,\"#fb9f3a\"],[0.8888888888888888,\"#fdca26\"],[1.0,\"#f0f921\"]]}],\"heatmapgl\":[{\"type\":\"heatmapgl\",\"colorbar\":{\"outlinewidth\":0,\"ticks\":\"\"},\"colorscale\":[[0.0,\"#0d0887\"],[0.1111111111111111,\"#46039f\"],[0.2222222222222222,\"#7201a8\"],[0.3333333333333333,\"#9c179e\"],[0.4444444444444444,\"#bd3786\"],[0.5555555555555556,\"#d8576b\"],[0.6666666666666666,\"#ed7953\"],[0.7777777777777778,\"#fb9f3a\"],[0.8888888888888888,\"#fdca26\"],[1.0,\"#f0f921\"]]}],\"contourcarpet\":[{\"type\":\"contourcarpet\",\"colorbar\":{\"outlinewidth\":0,\"ticks\":\"\"}}],\"contour\":[{\"type\":\"contour\",\"colorbar\":{\"outlinewidth\":0,\"ticks\":\"\"},\"colorscale\":[[0.0,\"#0d0887\"],[0.1111111111111111,\"#46039f\"],[0.2222222222222222,\"#7201a8\"],[0.3333333333333333,\"#9c179e\"],[0.4444444444444444,\"#bd3786\"],[0.5555555555555556,\"#d8576b\"],[0.6666666666666666,\"#ed7953\"],[0.7777777777777778,\"#fb9f3a\"],[0.8888888888888888,\"#fdca26\"],[1.0,\"#f0f921\"]]}],\"surface\":[{\"type\":\"surface\",\"colorbar\":{\"outlinewidth\":0,\"ticks\":\"\"},\"colorscale\":[[0.0,\"#0d0887\"],[0.1111111111111111,\"#46039f\"],[0.2222222222222222,\"#7201a8\"],[0.3333333333333333,\"#9c179e\"],[0.4444444444444444,\"#bd3786\"],[0.5555555555555556,\"#d8576b\"],[0.6666666666666666,\"#ed7953\"],[0.7777777777777778,\"#fb9f3a\"],[0.8888888888888888,\"#fdca26\"],[1.0,\"#f0f921\"]]}],\"mesh3d\":[{\"type\":\"mesh3d\",\"colorbar\":{\"outlinewidth\":0,\"ticks\":\"\"}}],\"scatter\":[{\"fillpattern\":{\"fillmode\":\"overlay\",\"size\":10,\"solidity\":0.2},\"type\":\"scatter\"}],\"parcoords\":[{\"type\":\"parcoords\",\"line\":{\"colorbar\":{\"outlinewidth\":0,\"ticks\":\"\"}}}],\"scatterpolargl\":[{\"type\":\"scatterpolargl\",\"marker\":{\"colorbar\":{\"outlinewidth\":0,\"ticks\":\"\"}}}],\"bar\":[{\"error_x\":{\"color\":\"#2a3f5f\"},\"error_y\":{\"color\":\"#2a3f5f\"},\"marker\":{\"line\":{\"color\":\"#E5ECF6\",\"width\":0.5},\"pattern\":{\"fillmode\":\"overlay\",\"size\":10,\"solidity\":0.2}},\"type\":\"bar\"}],\"scattergeo\":[{\"type\":\"scattergeo\",\"marker\":{\"colorbar\":{\"outlinewidth\":0,\"ticks\":\"\"}}}],\"scatterpolar\":[{\"type\":\"scatterpolar\",\"marker\":{\"colorbar\":{\"outlinewidth\":0,\"ticks\":\"\"}}}],\"histogram\":[{\"marker\":{\"pattern\":{\"fillmode\":\"overlay\",\"size\":10,\"solidity\":0.2}},\"type\":\"histogram\"}],\"scattergl\":[{\"type\":\"scattergl\",\"marker\":{\"colorbar\":{\"outlinewidth\":0,\"ticks\":\"\"}}}],\"scatter3d\":[{\"type\":\"scatter3d\",\"line\":{\"colorbar\":{\"outlinewidth\":0,\"ticks\":\"\"}},\"marker\":{\"colorbar\":{\"outlinewidth\":0,\"ticks\":\"\"}}}],\"scattermapbox\":[{\"type\":\"scattermapbox\",\"marker\":{\"colorbar\":{\"outlinewidth\":0,\"ticks\":\"\"}}}],\"scatterternary\":[{\"type\":\"scatterternary\",\"marker\":{\"colorbar\":{\"outlinewidth\":0,\"ticks\":\"\"}}}],\"scattercarpet\":[{\"type\":\"scattercarpet\",\"marker\":{\"colorbar\":{\"outlinewidth\":0,\"ticks\":\"\"}}}],\"carpet\":[{\"aaxis\":{\"endlinecolor\":\"#2a3f5f\",\"gridcolor\":\"white\",\"linecolor\":\"white\",\"minorgridcolor\":\"white\",\"startlinecolor\":\"#2a3f5f\"},\"baxis\":{\"endlinecolor\":\"#2a3f5f\",\"gridcolor\":\"white\",\"linecolor\":\"white\",\"minorgridcolor\":\"white\",\"startlinecolor\":\"#2a3f5f\"},\"type\":\"carpet\"}],\"table\":[{\"cells\":{\"fill\":{\"color\":\"#EBF0F8\"},\"line\":{\"color\":\"white\"}},\"header\":{\"fill\":{\"color\":\"#C8D4E3\"},\"line\":{\"color\":\"white\"}},\"type\":\"table\"}],\"barpolar\":[{\"marker\":{\"line\":{\"color\":\"#E5ECF6\",\"width\":0.5},\"pattern\":{\"fillmode\":\"overlay\",\"size\":10,\"solidity\":0.2}},\"type\":\"barpolar\"}],\"pie\":[{\"automargin\":true,\"type\":\"pie\"}]},\"layout\":{\"autotypenumbers\":\"strict\",\"colorway\":[\"#636efa\",\"#EF553B\",\"#00cc96\",\"#ab63fa\",\"#FFA15A\",\"#19d3f3\",\"#FF6692\",\"#B6E880\",\"#FF97FF\",\"#FECB52\"],\"font\":{\"color\":\"#2a3f5f\"},\"hovermode\":\"closest\",\"hoverlabel\":{\"align\":\"left\"},\"paper_bgcolor\":\"white\",\"plot_bgcolor\":\"#E5ECF6\",\"polar\":{\"bgcolor\":\"#E5ECF6\",\"angularaxis\":{\"gridcolor\":\"white\",\"linecolor\":\"white\",\"ticks\":\"\"},\"radialaxis\":{\"gridcolor\":\"white\",\"linecolor\":\"white\",\"ticks\":\"\"}},\"ternary\":{\"bgcolor\":\"#E5ECF6\",\"aaxis\":{\"gridcolor\":\"white\",\"linecolor\":\"white\",\"ticks\":\"\"},\"baxis\":{\"gridcolor\":\"white\",\"linecolor\":\"white\",\"ticks\":\"\"},\"caxis\":{\"gridcolor\":\"white\",\"linecolor\":\"white\",\"ticks\":\"\"}},\"coloraxis\":{\"colorbar\":{\"outlinewidth\":0,\"ticks\":\"\"}},\"colorscale\":{\"sequential\":[[0.0,\"#0d0887\"],[0.1111111111111111,\"#46039f\"],[0.2222222222222222,\"#7201a8\"],[0.3333333333333333,\"#9c179e\"],[0.4444444444444444,\"#bd3786\"],[0.5555555555555556,\"#d8576b\"],[0.6666666666666666,\"#ed7953\"],[0.7777777777777778,\"#fb9f3a\"],[0.8888888888888888,\"#fdca26\"],[1.0,\"#f0f921\"]],\"sequentialminus\":[[0.0,\"#0d0887\"],[0.1111111111111111,\"#46039f\"],[0.2222222222222222,\"#7201a8\"],[0.3333333333333333,\"#9c179e\"],[0.4444444444444444,\"#bd3786\"],[0.5555555555555556,\"#d8576b\"],[0.6666666666666666,\"#ed7953\"],[0.7777777777777778,\"#fb9f3a\"],[0.8888888888888888,\"#fdca26\"],[1.0,\"#f0f921\"]],\"diverging\":[[0,\"#8e0152\"],[0.1,\"#c51b7d\"],[0.2,\"#de77ae\"],[0.3,\"#f1b6da\"],[0.4,\"#fde0ef\"],[0.5,\"#f7f7f7\"],[0.6,\"#e6f5d0\"],[0.7,\"#b8e186\"],[0.8,\"#7fbc41\"],[0.9,\"#4d9221\"],[1,\"#276419\"]]},\"xaxis\":{\"gridcolor\":\"white\",\"linecolor\":\"white\",\"ticks\":\"\",\"title\":{\"standoff\":15},\"zerolinecolor\":\"white\",\"automargin\":true,\"zerolinewidth\":2},\"yaxis\":{\"gridcolor\":\"white\",\"linecolor\":\"white\",\"ticks\":\"\",\"title\":{\"standoff\":15},\"zerolinecolor\":\"white\",\"automargin\":true,\"zerolinewidth\":2},\"scene\":{\"xaxis\":{\"backgroundcolor\":\"#E5ECF6\",\"gridcolor\":\"white\",\"linecolor\":\"white\",\"showbackground\":true,\"ticks\":\"\",\"zerolinecolor\":\"white\",\"gridwidth\":2},\"yaxis\":{\"backgroundcolor\":\"#E5ECF6\",\"gridcolor\":\"white\",\"linecolor\":\"white\",\"showbackground\":true,\"ticks\":\"\",\"zerolinecolor\":\"white\",\"gridwidth\":2},\"zaxis\":{\"backgroundcolor\":\"#E5ECF6\",\"gridcolor\":\"white\",\"linecolor\":\"white\",\"showbackground\":true,\"ticks\":\"\",\"zerolinecolor\":\"white\",\"gridwidth\":2}},\"shapedefaults\":{\"line\":{\"color\":\"#2a3f5f\"}},\"annotationdefaults\":{\"arrowcolor\":\"#2a3f5f\",\"arrowhead\":0,\"arrowwidth\":1},\"geo\":{\"bgcolor\":\"white\",\"landcolor\":\"#E5ECF6\",\"subunitcolor\":\"white\",\"showland\":true,\"showlakes\":true,\"lakecolor\":\"white\"},\"title\":{\"x\":0.05},\"mapbox\":{\"style\":\"light\"}}}},                        {\"responsive\": true}                    ).then(function(){\n",
              "                            \n",
              "var gd = document.getElementById('c1236ac0-8511-49fe-85b8-df2ad3bf0b7e');\n",
              "var x = new MutationObserver(function (mutations, observer) {{\n",
              "        var display = window.getComputedStyle(gd).display;\n",
              "        if (!display || display === 'none') {{\n",
              "            console.log([gd, 'removed!']);\n",
              "            Plotly.purge(gd);\n",
              "            observer.disconnect();\n",
              "        }}\n",
              "}});\n",
              "\n",
              "// Listen for the removal of the full notebook cells\n",
              "var notebookContainer = gd.closest('#notebook-container');\n",
              "if (notebookContainer) {{\n",
              "    x.observe(notebookContainer, {childList: true});\n",
              "}}\n",
              "\n",
              "// Listen for the clearing of the current output cell\n",
              "var outputEl = gd.closest('.output');\n",
              "if (outputEl) {{\n",
              "    x.observe(outputEl, {childList: true});\n",
              "}}\n",
              "\n",
              "                        })                };                            </script>        </div>\n",
              "</body>\n",
              "</html>"
            ]
          },
          "metadata": {}
        }
      ]
    },
    {
      "cell_type": "code",
      "source": [
        "# ベストパラメータを使ってモデルの訓練\n",
        "\n",
        "# Best trial: ,  {'kernel': 'rbf', 'C': 0.7253529746614299}\n",
        "# Best score: ,  0.4483449607237124\n",
        "\n",
        "params = {'C': 0.7253529746614299,\n",
        "          'kernel': 'rbf'}\n",
        "\n",
        "svc = SVC(**params, probability=True, random_state=42)\n",
        "# rf_results = evaluate_model(rf, X, y)\n",
        "svc.fit(X, y)\n",
        "\n",
        "# テストデータでの推論\n",
        "svc_pred = svc.predict(df_test)\n",
        "\n",
        "# print(svc_pred.shape)\n",
        "# print(svc_pred)"
      ],
      "metadata": {
        "id": "wZnClA0aJZ_U"
      },
      "execution_count": null,
      "outputs": []
    },
    {
      "cell_type": "markdown",
      "source": [
        "### 3. XGBoost"
      ],
      "metadata": {
        "id": "yfujTPaIczEQ"
      }
    },
    {
      "cell_type": "code",
      "source": [
        "def xgb_objective(trial):\n",
        "\n",
        "    # 調整したいハイパーパラメータの範囲\n",
        "    params = {\n",
        "        'learning_rate': trial.suggest_float('learning_rate', 0.01, 0.3, log=True),\n",
        "        'min_child_weight': trial.suggest_int('min_child_weight', 2, 8),\n",
        "        'max_depth': trial.suggest_int('max_depth', 1, 4),\n",
        "        'colsample_bytree': trial.suggest_float('colsample_bytree', 0.2, 1.0),\n",
        "        'subsample': trial.suggest_float('subsample', 0.2, 1.0),\n",
        "        'reg_alpha': trial.suggest_float('reg_alpha', 0.001, 0.1, log=True),\n",
        "        'reg_lambda': trial.suggest_float('reg_lambda', 0.001, 0.1, log=True),\n",
        "        'gamma': trial.suggest_float('gamma', 0.0001, 0.1, log=True),\n",
        "    }\n",
        "\n",
        "    # モデルの定義\n",
        "    cls = XGBClassifier(**params, objective='multiclass', random_state=42, n_jobs=-1)\n",
        "\n",
        "    score = cross_val_score(cls, X, y, cv=5, scoring='f1_macro')\n",
        "    f1_score = score.mean()\n",
        "    return score.mean()\n",
        "\n",
        "study = optuna.create_study(direction='maximize')\n",
        "study.optimize(xgb_objective, n_trials=100)\n",
        "\n",
        "print('Best trial: ', study.best_trial.params)\n",
        "print('Best score: ', study.best_trial.value)"
      ],
      "metadata": {
        "colab": {
          "base_uri": "https://localhost:8080/"
        },
        "outputId": "962a7941-ade1-4eea-e1ca-4d602ac75ef1",
        "id": "KoH0qCm8cxd2"
      },
      "execution_count": null,
      "outputs": [
        {
          "output_type": "stream",
          "name": "stderr",
          "text": [
            "[I 2024-05-24 21:34:57,826] A new study created in memory with name: no-name-65668db2-cfc5-4091-b0eb-cbe564f91b3c\n",
            "[I 2024-05-24 21:34:58,688] Trial 0 finished with value: 0.43504435127499475 and parameters: {'learning_rate': 0.01396808031100182, 'min_child_weight': 4, 'max_depth': 2, 'colsample_bytree': 0.9939550785703735, 'subsample': 0.5892207348340746, 'reg_alpha': 0.06304092413606736, 'reg_lambda': 0.0012005248082420073, 'gamma': 0.0009411814436477706}. Best is trial 0 with value: 0.43504435127499475.\n",
            "[I 2024-05-24 21:34:59,727] Trial 1 finished with value: 0.4542157663258587 and parameters: {'learning_rate': 0.11533602460488761, 'min_child_weight': 3, 'max_depth': 3, 'colsample_bytree': 0.8754996475460597, 'subsample': 0.9110647299381514, 'reg_alpha': 0.0055692184650854544, 'reg_lambda': 0.017020711970240132, 'gamma': 0.04800226852175068}. Best is trial 1 with value: 0.4542157663258587.\n",
            "[I 2024-05-24 21:35:01,031] Trial 2 finished with value: 0.459227983315205 and parameters: {'learning_rate': 0.12111192010551076, 'min_child_weight': 5, 'max_depth': 4, 'colsample_bytree': 0.9664687522632038, 'subsample': 0.6782909413649689, 'reg_alpha': 0.01926628152168581, 'reg_lambda': 0.016845087093138558, 'gamma': 0.009432131289550765}. Best is trial 2 with value: 0.459227983315205.\n",
            "[I 2024-05-24 21:35:01,657] Trial 3 finished with value: 0.45717500534716377 and parameters: {'learning_rate': 0.03282439684156419, 'min_child_weight': 5, 'max_depth': 2, 'colsample_bytree': 0.4030643567690036, 'subsample': 0.4417761060154459, 'reg_alpha': 0.01831084582616439, 'reg_lambda': 0.0927760375150887, 'gamma': 0.005740747605134761}. Best is trial 2 with value: 0.459227983315205.\n",
            "[I 2024-05-24 21:35:02,216] Trial 4 finished with value: 0.4539653339964662 and parameters: {'learning_rate': 0.055438927529106716, 'min_child_weight': 5, 'max_depth': 1, 'colsample_bytree': 0.9028407739023936, 'subsample': 0.39961948032559685, 'reg_alpha': 0.07273580532656448, 'reg_lambda': 0.011941681931259412, 'gamma': 0.0002924653348399278}. Best is trial 2 with value: 0.459227983315205.\n",
            "[I 2024-05-24 21:35:02,729] Trial 5 finished with value: 0.45152880830647657 and parameters: {'learning_rate': 0.12714842009518756, 'min_child_weight': 8, 'max_depth': 1, 'colsample_bytree': 0.448128658631344, 'subsample': 0.5642905137855576, 'reg_alpha': 0.002271806490097657, 'reg_lambda': 0.015243143910467634, 'gamma': 0.009672416852222499}. Best is trial 2 with value: 0.459227983315205.\n",
            "[I 2024-05-24 21:35:06,009] Trial 6 finished with value: 0.45415314100529514 and parameters: {'learning_rate': 0.06315482429752663, 'min_child_weight': 4, 'max_depth': 3, 'colsample_bytree': 0.8184743956626928, 'subsample': 0.9090558723115267, 'reg_alpha': 0.009568803997339087, 'reg_lambda': 0.01804743210144022, 'gamma': 0.006575728010684443}. Best is trial 2 with value: 0.459227983315205.\n",
            "[I 2024-05-24 21:35:07,578] Trial 7 finished with value: 0.4674044481219658 and parameters: {'learning_rate': 0.0915907238609959, 'min_child_weight': 4, 'max_depth': 4, 'colsample_bytree': 0.5494715434916098, 'subsample': 0.8634292883067012, 'reg_alpha': 0.005315041526904872, 'reg_lambda': 0.00273554076781126, 'gamma': 0.05409761719421273}. Best is trial 7 with value: 0.4674044481219658.\n",
            "[I 2024-05-24 21:35:08,374] Trial 8 finished with value: 0.4680394701199641 and parameters: {'learning_rate': 0.07484770826414784, 'min_child_weight': 5, 'max_depth': 3, 'colsample_bytree': 0.3287265679333123, 'subsample': 0.8897546667007374, 'reg_alpha': 0.003805506647730175, 'reg_lambda': 0.007739806966666077, 'gamma': 0.07597497645470463}. Best is trial 8 with value: 0.4680394701199641.\n",
            "[I 2024-05-24 21:35:09,097] Trial 9 finished with value: 0.4625743759576656 and parameters: {'learning_rate': 0.15680564602380037, 'min_child_weight': 5, 'max_depth': 2, 'colsample_bytree': 0.7364103240644913, 'subsample': 0.38406906698512855, 'reg_alpha': 0.0032406440812350673, 'reg_lambda': 0.006736998813503126, 'gamma': 0.09702248701588369}. Best is trial 8 with value: 0.4680394701199641.\n",
            "[I 2024-05-24 21:35:09,814] Trial 10 finished with value: 0.44467907435717546 and parameters: {'learning_rate': 0.022033109599903348, 'min_child_weight': 7, 'max_depth': 3, 'colsample_bytree': 0.23445373682648263, 'subsample': 0.7593843512639125, 'reg_alpha': 0.0013187292405150196, 'reg_lambda': 0.06056043731435886, 'gamma': 0.00013129055659599282}. Best is trial 8 with value: 0.4680394701199641.\n",
            "[I 2024-05-24 21:35:10,954] Trial 11 finished with value: 0.4621940165106899 and parameters: {'learning_rate': 0.2522618528040235, 'min_child_weight': 2, 'max_depth': 4, 'colsample_bytree': 0.5794671906521066, 'subsample': 0.9941756265755621, 'reg_alpha': 0.005446782232951156, 'reg_lambda': 0.0029734467643211257, 'gamma': 0.03166638637376377}. Best is trial 8 with value: 0.4680394701199641.\n",
            "[I 2024-05-24 21:35:11,849] Trial 12 finished with value: 0.4607524067133733 and parameters: {'learning_rate': 0.06608902357246366, 'min_child_weight': 7, 'max_depth': 4, 'colsample_bytree': 0.2602073582800054, 'subsample': 0.7991859092411465, 'reg_alpha': 0.0015100007021873025, 'reg_lambda': 0.0031936139848547577, 'gamma': 0.039999559998753646}. Best is trial 8 with value: 0.4680394701199641.\n",
            "[I 2024-05-24 21:35:13,000] Trial 13 finished with value: 0.46192515908461373 and parameters: {'learning_rate': 0.032547676600576614, 'min_child_weight': 3, 'max_depth': 4, 'colsample_bytree': 0.5769965732931738, 'subsample': 0.817343747472801, 'reg_alpha': 0.005088293395199942, 'reg_lambda': 0.004692937500453202, 'gamma': 0.0990594522019613}. Best is trial 8 with value: 0.4680394701199641.\n",
            "[I 2024-05-24 21:35:13,787] Trial 14 finished with value: 0.458464642745521 and parameters: {'learning_rate': 0.08305683090209788, 'min_child_weight': 6, 'max_depth': 3, 'colsample_bytree': 0.42745782362963125, 'subsample': 0.22362676478015175, 'reg_alpha': 0.014220836859822773, 'reg_lambda': 0.0012337866670946791, 'gamma': 0.018928884799647334}. Best is trial 8 with value: 0.4680394701199641.\n",
            "[I 2024-05-24 21:35:14,778] Trial 15 finished with value: 0.4512181673100032 and parameters: {'learning_rate': 0.03744875296796002, 'min_child_weight': 4, 'max_depth': 4, 'colsample_bytree': 0.3317746131070583, 'subsample': 0.9925271618669882, 'reg_alpha': 0.002828446309172227, 'reg_lambda': 0.0021655984899798643, 'gamma': 0.0015979964842775937}. Best is trial 8 with value: 0.4680394701199641.\n",
            "[I 2024-05-24 21:35:15,734] Trial 16 finished with value: 0.4693966556573786 and parameters: {'learning_rate': 0.25909170644666923, 'min_child_weight': 6, 'max_depth': 3, 'colsample_bytree': 0.6924436072161902, 'subsample': 0.7022781847313078, 'reg_alpha': 0.010287934745075297, 'reg_lambda': 0.032237654473534744, 'gamma': 0.018076657816709262}. Best is trial 16 with value: 0.4693966556573786.\n",
            "[I 2024-05-24 21:35:16,761] Trial 17 finished with value: 0.4646889861468935 and parameters: {'learning_rate': 0.272090000572112, 'min_child_weight': 6, 'max_depth': 3, 'colsample_bytree': 0.6965371350895089, 'subsample': 0.6962701497951673, 'reg_alpha': 0.02946883685241808, 'reg_lambda': 0.035510072805322875, 'gamma': 0.019398134244218757}. Best is trial 16 with value: 0.4693966556573786.\n",
            "[I 2024-05-24 21:35:19,601] Trial 18 finished with value: 0.46585301513816113 and parameters: {'learning_rate': 0.1861935107461484, 'min_child_weight': 6, 'max_depth': 2, 'colsample_bytree': 0.7025011094222425, 'subsample': 0.6734812625412884, 'reg_alpha': 0.009476900268700003, 'reg_lambda': 0.03293551557377624, 'gamma': 0.0018781103423248157}. Best is trial 16 with value: 0.4693966556573786.\n",
            "[I 2024-05-24 21:35:21,388] Trial 19 finished with value: 0.4434753216676392 and parameters: {'learning_rate': 0.010218136545757997, 'min_child_weight': 7, 'max_depth': 3, 'colsample_bytree': 0.5079373118081909, 'subsample': 0.49114882963497863, 'reg_alpha': 0.02536158006911832, 'reg_lambda': 0.008065667059120936, 'gamma': 0.014937961495230174}. Best is trial 16 with value: 0.4693966556573786.\n",
            "[I 2024-05-24 21:35:22,119] Trial 20 finished with value: 0.4659579397427535 and parameters: {'learning_rate': 0.19055525633239742, 'min_child_weight': 8, 'max_depth': 2, 'colsample_bytree': 0.6584585455772156, 'subsample': 0.7356975871721736, 'reg_alpha': 0.04474858275687306, 'reg_lambda': 0.029910270749765242, 'gamma': 0.0037739055828641247}. Best is trial 16 with value: 0.4693966556573786.\n",
            "[I 2024-05-24 21:35:23,214] Trial 21 finished with value: 0.48025194122100245 and parameters: {'learning_rate': 0.10773304026948358, 'min_child_weight': 3, 'max_depth': 4, 'colsample_bytree': 0.5167697504742282, 'subsample': 0.8628254286201753, 'reg_alpha': 0.0040862830280031836, 'reg_lambda': 0.005435544611804015, 'gamma': 0.04968425015051057}. Best is trial 21 with value: 0.48025194122100245.\n",
            "[I 2024-05-24 21:35:24,038] Trial 22 finished with value: 0.46215532227557266 and parameters: {'learning_rate': 0.04417918463608869, 'min_child_weight': 2, 'max_depth': 3, 'colsample_bytree': 0.34741094943202044, 'subsample': 0.8855219663330393, 'reg_alpha': 0.0035625260067984675, 'reg_lambda': 0.004872320664577596, 'gamma': 0.02862682532474858}. Best is trial 21 with value: 0.48025194122100245.\n",
            "[I 2024-05-24 21:35:24,920] Trial 23 finished with value: 0.47107718049929026 and parameters: {'learning_rate': 0.08185941918587328, 'min_child_weight': 3, 'max_depth': 3, 'colsample_bytree': 0.4906611353653317, 'subsample': 0.8248127339789961, 'reg_alpha': 0.007985015281567207, 'reg_lambda': 0.009826271493097238, 'gamma': 0.0630430474663499}. Best is trial 21 with value: 0.48025194122100245.\n",
            "[I 2024-05-24 21:35:26,078] Trial 24 finished with value: 0.46683444468559687 and parameters: {'learning_rate': 0.29511724699976755, 'min_child_weight': 3, 'max_depth': 4, 'colsample_bytree': 0.6391853226463361, 'subsample': 0.6278721416666664, 'reg_alpha': 0.007539920010266873, 'reg_lambda': 0.0052167423906176865, 'gamma': 0.02590800668539064}. Best is trial 21 with value: 0.48025194122100245.\n",
            "[I 2024-05-24 21:35:26,967] Trial 25 finished with value: 0.4680988118094211 and parameters: {'learning_rate': 0.15457352493548926, 'min_child_weight': 2, 'max_depth': 3, 'colsample_bytree': 0.5039658718956701, 'subsample': 0.791923112656111, 'reg_alpha': 0.010947138195004839, 'reg_lambda': 0.010860481970308021, 'gamma': 0.05466732816427577}. Best is trial 21 with value: 0.48025194122100245.\n",
            "[I 2024-05-24 21:35:28,281] Trial 26 finished with value: 0.47456691490427394 and parameters: {'learning_rate': 0.22784551578977602, 'min_child_weight': 3, 'max_depth': 4, 'colsample_bytree': 0.7788808805585086, 'subsample': 0.8286201240220107, 'reg_alpha': 0.0020695464682665326, 'reg_lambda': 0.02631358596869081, 'gamma': 0.012216794758624779}. Best is trial 21 with value: 0.48025194122100245.\n",
            "[I 2024-05-24 21:35:29,603] Trial 27 finished with value: 0.4543472054490362 and parameters: {'learning_rate': 0.09949248873559235, 'min_child_weight': 3, 'max_depth': 4, 'colsample_bytree': 0.7881728929687744, 'subsample': 0.9620654758190239, 'reg_alpha': 0.0011090426941270412, 'reg_lambda': 0.023875141100347833, 'gamma': 0.012715668980114565}. Best is trial 21 with value: 0.48025194122100245.\n",
            "[I 2024-05-24 21:35:30,703] Trial 28 finished with value: 0.47065435018546253 and parameters: {'learning_rate': 0.19539375884388382, 'min_child_weight': 3, 'max_depth': 4, 'colsample_bytree': 0.4952628304618644, 'subsample': 0.8409567714852791, 'reg_alpha': 0.0019402357729075787, 'reg_lambda': 0.04543517648379602, 'gamma': 0.06289146316117489}. Best is trial 21 with value: 0.48025194122100245.\n",
            "[I 2024-05-24 21:35:36,224] Trial 29 finished with value: 0.4437314747740425 and parameters: {'learning_rate': 0.022636085739701967, 'min_child_weight': 4, 'max_depth': 4, 'colsample_bytree': 0.6218495709623041, 'subsample': 0.5861835552308367, 'reg_alpha': 0.002244003212266022, 'reg_lambda': 0.011285141716854607, 'gamma': 0.003305497794984778}. Best is trial 21 with value: 0.48025194122100245.\n",
            "[I 2024-05-24 21:35:41,116] Trial 30 finished with value: 0.46062533434850483 and parameters: {'learning_rate': 0.14716009307534847, 'min_child_weight': 2, 'max_depth': 4, 'colsample_bytree': 0.7579877399489359, 'subsample': 0.9524186944536102, 'reg_alpha': 0.0017550626777314315, 'reg_lambda': 0.0010826110786428202, 'gamma': 0.0059567551442844275}. Best is trial 21 with value: 0.48025194122100245.\n",
            "[I 2024-05-24 21:35:44,583] Trial 31 finished with value: 0.4719112375873287 and parameters: {'learning_rate': 0.21500139771844365, 'min_child_weight': 3, 'max_depth': 4, 'colsample_bytree': 0.4917149247702954, 'subsample': 0.8361668178932377, 'reg_alpha': 0.0021251807020142705, 'reg_lambda': 0.04898486849602532, 'gamma': 0.05286104464304511}. Best is trial 21 with value: 0.48025194122100245.\n",
            "[I 2024-05-24 21:35:47,347] Trial 32 finished with value: 0.4664763211909525 and parameters: {'learning_rate': 0.2225257968765672, 'min_child_weight': 3, 'max_depth': 4, 'colsample_bytree': 0.47843790829318816, 'subsample': 0.7743759584146654, 'reg_alpha': 0.0010157357474876146, 'reg_lambda': 0.05708744294623703, 'gamma': 0.037395264395286947}. Best is trial 21 with value: 0.48025194122100245.\n",
            "[I 2024-05-24 21:35:51,031] Trial 33 finished with value: 0.47892413483591323 and parameters: {'learning_rate': 0.20736608030539463, 'min_child_weight': 3, 'max_depth': 4, 'colsample_bytree': 0.5408185623923036, 'subsample': 0.8449248414424919, 'reg_alpha': 0.0025969958884197396, 'reg_lambda': 0.07712316574184107, 'gamma': 0.027529432166249673}. Best is trial 21 with value: 0.48025194122100245.\n",
            "[I 2024-05-24 21:35:52,072] Trial 34 finished with value: 0.4656171977783119 and parameters: {'learning_rate': 0.11152147197973176, 'min_child_weight': 2, 'max_depth': 4, 'colsample_bytree': 0.3878422998555664, 'subsample': 0.9342137917104486, 'reg_alpha': 0.0026858836606889263, 'reg_lambda': 0.05724356381206553, 'gamma': 0.010555106949170895}. Best is trial 21 with value: 0.48025194122100245.\n",
            "[I 2024-05-24 21:35:53,441] Trial 35 finished with value: 0.4825702349240638 and parameters: {'learning_rate': 0.21875654701658445, 'min_child_weight': 4, 'max_depth': 4, 'colsample_bytree': 0.9904167231470266, 'subsample': 0.8576856955464338, 'reg_alpha': 0.004209692455857907, 'reg_lambda': 0.09592460882040156, 'gamma': 0.025123029391014563}. Best is trial 35 with value: 0.4825702349240638.\n",
            "[I 2024-05-24 21:35:54,885] Trial 36 finished with value: 0.47648529191469235 and parameters: {'learning_rate': 0.134776795762701, 'min_child_weight': 4, 'max_depth': 4, 'colsample_bytree': 0.9896633223307215, 'subsample': 0.7513518826181973, 'reg_alpha': 0.003858948882130997, 'reg_lambda': 0.09353970465821738, 'gamma': 0.0005186922552622087}. Best is trial 35 with value: 0.4825702349240638.\n",
            "[I 2024-05-24 21:35:56,289] Trial 37 finished with value: 0.47538180622373793 and parameters: {'learning_rate': 0.1322141472059226, 'min_child_weight': 4, 'max_depth': 4, 'colsample_bytree': 0.9895614351626524, 'subsample': 0.7294810055504395, 'reg_alpha': 0.003913368813504841, 'reg_lambda': 0.09088863409909376, 'gamma': 0.0006805391380241974}. Best is trial 35 with value: 0.4825702349240638.\n",
            "[I 2024-05-24 21:35:56,926] Trial 38 finished with value: 0.4542932091427911 and parameters: {'learning_rate': 0.17010803399677618, 'min_child_weight': 4, 'max_depth': 1, 'colsample_bytree': 0.9225122521256042, 'subsample': 0.6472972969053342, 'reg_alpha': 0.0045348651105759285, 'reg_lambda': 0.07899357278662016, 'gamma': 0.0005394845632084929}. Best is trial 35 with value: 0.4825702349240638.\n",
            "[I 2024-05-24 21:35:58,286] Trial 39 finished with value: 0.4635672460806995 and parameters: {'learning_rate': 0.11200757567834976, 'min_child_weight': 4, 'max_depth': 4, 'colsample_bytree': 0.8459861340505546, 'subsample': 0.9028136617705195, 'reg_alpha': 0.006057216693003112, 'reg_lambda': 0.07359089217047547, 'gamma': 0.00020577107362620265}. Best is trial 35 with value: 0.4825702349240638.\n",
            "[I 2024-05-24 21:35:59,655] Trial 40 finished with value: 0.4692852394387967 and parameters: {'learning_rate': 0.13798104495750496, 'min_child_weight': 4, 'max_depth': 4, 'colsample_bytree': 0.95591419519512, 'subsample': 0.5339413244805031, 'reg_alpha': 0.0066110440410233435, 'reg_lambda': 0.09267796896640831, 'gamma': 0.0003563978444314661}. Best is trial 35 with value: 0.4825702349240638.\n",
            "[I 2024-05-24 21:36:04,069] Trial 41 finished with value: 0.4700868346684274 and parameters: {'learning_rate': 0.12670494132069765, 'min_child_weight': 4, 'max_depth': 4, 'colsample_bytree': 0.9929928845455486, 'subsample': 0.7383189646749895, 'reg_alpha': 0.004104954392832, 'reg_lambda': 0.09232211205222332, 'gamma': 0.0006964691186909911}. Best is trial 35 with value: 0.4825702349240638.\n",
            "[I 2024-05-24 21:36:05,404] Trial 42 finished with value: 0.47473097781914114 and parameters: {'learning_rate': 0.1058728971112208, 'min_child_weight': 5, 'max_depth': 4, 'colsample_bytree': 0.8871420929119989, 'subsample': 0.8673983059738201, 'reg_alpha': 0.003192499324602152, 'reg_lambda': 0.06944960647126265, 'gamma': 0.001247677885374806}. Best is trial 35 with value: 0.4825702349240638.\n",
            "[I 2024-05-24 21:36:06,776] Trial 43 finished with value: 0.47937602606641094 and parameters: {'learning_rate': 0.1654790848939391, 'min_child_weight': 5, 'max_depth': 4, 'colsample_bytree': 0.9335200366978605, 'subsample': 0.7288381420679325, 'reg_alpha': 0.004029491247155467, 'reg_lambda': 0.041062609230455877, 'gamma': 0.0008225139575594179}. Best is trial 35 with value: 0.4825702349240638.\n",
            "[I 2024-05-24 21:36:08,119] Trial 44 finished with value: 0.45898827836502515 and parameters: {'learning_rate': 0.17390571570337848, 'min_child_weight': 5, 'max_depth': 4, 'colsample_bytree': 0.9369414205629383, 'subsample': 0.7538897863171303, 'reg_alpha': 0.002709159841997965, 'reg_lambda': 0.04389992714113754, 'gamma': 0.0003894038884823454}. Best is trial 35 with value: 0.4825702349240638.\n",
            "[I 2024-05-24 21:36:09,458] Trial 45 finished with value: 0.4668491296506101 and parameters: {'learning_rate': 0.23114950912631696, 'min_child_weight': 5, 'max_depth': 4, 'colsample_bytree': 0.876752654174223, 'subsample': 0.9186656142270224, 'reg_alpha': 0.09219598179430129, 'reg_lambda': 0.019182782085671507, 'gamma': 0.00010115534655087852}. Best is trial 35 with value: 0.4825702349240638.\n",
            "[I 2024-05-24 21:36:10,562] Trial 46 finished with value: 0.4753774476271485 and parameters: {'learning_rate': 0.15601242810991128, 'min_child_weight': 5, 'max_depth': 4, 'colsample_bytree': 0.5410475990812067, 'subsample': 0.7873529010454485, 'reg_alpha': 0.004566743548219338, 'reg_lambda': 0.06425033238479418, 'gamma': 0.0023422472353753876}. Best is trial 35 with value: 0.4825702349240638.\n",
            "[I 2024-05-24 21:36:11,661] Trial 47 finished with value: 0.46025690213514564 and parameters: {'learning_rate': 0.06337541872194585, 'min_child_weight': 4, 'max_depth': 3, 'colsample_bytree': 0.9584941792981995, 'subsample': 0.8612914354543048, 'reg_alpha': 0.0015544979369931725, 'reg_lambda': 0.09917790283187561, 'gamma': 0.00017067048091960326}. Best is trial 35 with value: 0.4825702349240638.\n",
            "[I 2024-05-24 21:36:13,108] Trial 48 finished with value: 0.4757597752414887 and parameters: {'learning_rate': 0.08808894468209612, 'min_child_weight': 3, 'max_depth': 4, 'colsample_bytree': 0.9284893327205749, 'subsample': 0.6519019499860416, 'reg_alpha': 0.0031643143346523446, 'reg_lambda': 0.014477812051849464, 'gamma': 0.007640595684281768}. Best is trial 35 with value: 0.4825702349240638.\n",
            "[I 2024-05-24 21:36:16,331] Trial 49 finished with value: 0.45988215952778455 and parameters: {'learning_rate': 0.2976759072083839, 'min_child_weight': 4, 'max_depth': 4, 'colsample_bytree': 0.8593701625918905, 'subsample': 0.6983459078366355, 'reg_alpha': 0.013333148933591254, 'reg_lambda': 0.0501419556654382, 'gamma': 0.0012495162955553037}. Best is trial 35 with value: 0.4825702349240638.\n",
            "[I 2024-05-24 21:36:18,455] Trial 50 finished with value: 0.45599933848369234 and parameters: {'learning_rate': 0.05221793376645863, 'min_child_weight': 4, 'max_depth': 3, 'colsample_bytree': 0.8170179888796745, 'subsample': 0.2343838107431886, 'reg_alpha': 0.0049561696099101, 'reg_lambda': 0.0792381437037318, 'gamma': 0.0008697077977108409}. Best is trial 35 with value: 0.4825702349240638.\n",
            "[I 2024-05-24 21:36:19,871] Trial 51 finished with value: 0.468028725719109 and parameters: {'learning_rate': 0.09037187527313284, 'min_child_weight': 3, 'max_depth': 4, 'colsample_bytree': 0.9195103906519853, 'subsample': 0.6473161029334328, 'reg_alpha': 0.0031934213151086134, 'reg_lambda': 0.015118062318191404, 'gamma': 0.007784566856798888}. Best is trial 35 with value: 0.4825702349240638.\n",
            "[I 2024-05-24 21:36:21,300] Trial 52 finished with value: 0.4604620437839664 and parameters: {'learning_rate': 0.12078548002894192, 'min_child_weight': 3, 'max_depth': 4, 'colsample_bytree': 0.9981424535473069, 'subsample': 0.6135782854237934, 'reg_alpha': 0.0025634565351187293, 'reg_lambda': 0.03917651682046826, 'gamma': 0.040656760316586944}. Best is trial 35 with value: 0.4825702349240638.\n",
            "[I 2024-05-24 21:36:22,765] Trial 53 finished with value: 0.45609845588111375 and parameters: {'learning_rate': 0.07636941791441111, 'min_child_weight': 2, 'max_depth': 4, 'colsample_bytree': 0.9065741125865682, 'subsample': 0.6694987867157465, 'reg_alpha': 0.006793062295910293, 'reg_lambda': 0.003759533896558189, 'gamma': 0.004185188993863849}. Best is trial 35 with value: 0.4825702349240638.\n",
            "[I 2024-05-24 21:36:23,929] Trial 54 finished with value: 0.47353822831870984 and parameters: {'learning_rate': 0.09627831596734406, 'min_child_weight': 3, 'max_depth': 4, 'colsample_bytree': 0.5442199378804958, 'subsample': 0.7097865362240418, 'reg_alpha': 0.003421117364745317, 'reg_lambda': 0.0017320095428932309, 'gamma': 0.004702539304403281}. Best is trial 35 with value: 0.4825702349240638.\n",
            "[I 2024-05-24 21:36:25,288] Trial 55 finished with value: 0.4794540297244566 and parameters: {'learning_rate': 0.20341588385819848, 'min_child_weight': 5, 'max_depth': 4, 'colsample_bytree': 0.9606795608589996, 'subsample': 0.772616858199723, 'reg_alpha': 0.005647042811081211, 'reg_lambda': 0.0071339983774609, 'gamma': 0.022040395638681657}. Best is trial 35 with value: 0.4825702349240638.\n",
            "[I 2024-05-24 21:36:26,389] Trial 56 finished with value: 0.46552034743988085 and parameters: {'learning_rate': 0.20815572409659808, 'min_child_weight': 5, 'max_depth': 4, 'colsample_bytree': 0.5850775810413916, 'subsample': 0.8696288805028292, 'reg_alpha': 0.005667412519177604, 'reg_lambda': 0.007405373544580443, 'gamma': 0.08058416633375377}. Best is trial 35 with value: 0.4825702349240638.\n",
            "[I 2024-05-24 21:36:26,975] Trial 57 finished with value: 0.4511258062742729 and parameters: {'learning_rate': 0.2539234377442002, 'min_child_weight': 5, 'max_depth': 1, 'colsample_bytree': 0.44591952177416116, 'subsample': 0.7999566110099268, 'reg_alpha': 0.0045089052737719215, 'reg_lambda': 0.0041446728452585475, 'gamma': 0.021881322410953082}. Best is trial 35 with value: 0.4825702349240638.\n",
            "[I 2024-05-24 21:36:28,195] Trial 58 finished with value: 0.47403102511344086 and parameters: {'learning_rate': 0.17329266262692394, 'min_child_weight': 6, 'max_depth': 3, 'colsample_bytree': 0.965977061630055, 'subsample': 0.7555152996718071, 'reg_alpha': 0.00874816834483114, 'reg_lambda': 0.0055330901886383975, 'gamma': 0.03500222369090378}. Best is trial 35 with value: 0.4825702349240638.\n",
            "[I 2024-05-24 21:36:32,005] Trial 59 finished with value: 0.47115883145990106 and parameters: {'learning_rate': 0.19175741757501627, 'min_child_weight': 5, 'max_depth': 2, 'colsample_bytree': 0.8365579322770419, 'subsample': 0.8065580068392029, 'reg_alpha': 0.0039350943645773805, 'reg_lambda': 0.0024671447966473805, 'gamma': 0.02424024472853718}. Best is trial 35 with value: 0.4825702349240638.\n",
            "[I 2024-05-24 21:36:32,989] Trial 60 finished with value: 0.4843437417371025 and parameters: {'learning_rate': 0.14486385401381416, 'min_child_weight': 6, 'max_depth': 4, 'colsample_bytree': 0.3923374343285243, 'subsample': 0.8447427174442159, 'reg_alpha': 0.005531783663559291, 'reg_lambda': 0.005977081226955029, 'gamma': 0.017336020031214434}. Best is trial 60 with value: 0.4843437417371025.\n",
            "[I 2024-05-24 21:36:33,924] Trial 61 finished with value: 0.47806508791379676 and parameters: {'learning_rate': 0.1447416459795554, 'min_child_weight': 6, 'max_depth': 4, 'colsample_bytree': 0.2944369191240383, 'subsample': 0.7733258932218064, 'reg_alpha': 0.005595127285418817, 'reg_lambda': 0.009240713382650763, 'gamma': 0.01573118341599681}. Best is trial 60 with value: 0.4843437417371025.\n",
            "[I 2024-05-24 21:36:34,894] Trial 62 finished with value: 0.46702161217650523 and parameters: {'learning_rate': 0.16374018195550688, 'min_child_weight': 6, 'max_depth': 4, 'colsample_bytree': 0.28925946733438046, 'subsample': 0.8500113109570637, 'reg_alpha': 0.007178875901909919, 'reg_lambda': 0.005788037484368387, 'gamma': 0.01613961097934705}. Best is trial 60 with value: 0.4843437417371025.\n",
            "[I 2024-05-24 21:36:35,837] Trial 63 finished with value: 0.46969012901278545 and parameters: {'learning_rate': 0.14164771219337546, 'min_child_weight': 7, 'max_depth': 4, 'colsample_bytree': 0.21073663118126718, 'subsample': 0.8865078168818108, 'reg_alpha': 0.005667824306642596, 'reg_lambda': 0.009249480318115535, 'gamma': 0.029417731974602367}. Best is trial 60 with value: 0.4843437417371025.\n",
            "[I 2024-05-24 21:36:36,819] Trial 64 finished with value: 0.4748666821401867 and parameters: {'learning_rate': 0.2542023979708445, 'min_child_weight': 6, 'max_depth': 4, 'colsample_bytree': 0.38488733648816675, 'subsample': 0.9248262375876332, 'reg_alpha': 0.011473677228742658, 'reg_lambda': 0.006445332188663767, 'gamma': 0.015857338477641172}. Best is trial 60 with value: 0.4843437417371025.\n",
            "[I 2024-05-24 21:36:37,756] Trial 65 finished with value: 0.46757483403483846 and parameters: {'learning_rate': 0.1957806913481766, 'min_child_weight': 7, 'max_depth': 4, 'colsample_bytree': 0.2991972149429589, 'subsample': 0.8086816267253846, 'reg_alpha': 0.008671615688435892, 'reg_lambda': 0.00907712767391207, 'gamma': 0.021634921369891164}. Best is trial 60 with value: 0.4843437417371025.\n",
            "[I 2024-05-24 21:36:38,754] Trial 66 finished with value: 0.47515589072483644 and parameters: {'learning_rate': 0.23130655361301447, 'min_child_weight': 6, 'max_depth': 4, 'colsample_bytree': 0.4049168051748699, 'subsample': 0.8358388114925654, 'reg_alpha': 0.005007236222614974, 'reg_lambda': 0.004281722875901501, 'gamma': 0.013092768754241061}. Best is trial 60 with value: 0.4843437417371025.\n",
            "[I 2024-05-24 21:36:39,732] Trial 67 finished with value: 0.4649335988573675 and parameters: {'learning_rate': 0.18013371363866418, 'min_child_weight': 6, 'max_depth': 4, 'colsample_bytree': 0.3498461400609057, 'subsample': 0.7778077385504134, 'reg_alpha': 0.0062845358553277, 'reg_lambda': 0.006626051056754231, 'gamma': 0.04642603888371002}. Best is trial 60 with value: 0.4843437417371025.\n",
            "[I 2024-05-24 21:36:40,862] Trial 68 finished with value: 0.46099775307030677 and parameters: {'learning_rate': 0.1471363127762396, 'min_child_weight': 5, 'max_depth': 4, 'colsample_bytree': 0.5289532515171108, 'subsample': 0.9645870422349532, 'reg_alpha': 0.002579859286068685, 'reg_lambda': 0.013011717822478366, 'gamma': 0.010333261641920891}. Best is trial 60 with value: 0.4843437417371025.\n",
            "[I 2024-05-24 21:36:41,666] Trial 69 finished with value: 0.456067452046142 and parameters: {'learning_rate': 0.12075638250528951, 'min_child_weight': 6, 'max_depth': 3, 'colsample_bytree': 0.26236432613781624, 'subsample': 0.8916555287269516, 'reg_alpha': 0.0077501814126956685, 'reg_lambda': 0.003638110526318562, 'gamma': 0.07342780275110271}. Best is trial 60 with value: 0.4843437417371025.\n",
            "[I 2024-05-24 21:36:45,107] Trial 70 finished with value: 0.46680388627044955 and parameters: {'learning_rate': 0.28168576899850317, 'min_child_weight': 7, 'max_depth': 4, 'colsample_bytree': 0.6102163639311371, 'subsample': 0.7221280333403295, 'reg_alpha': 0.004266468174296018, 'reg_lambda': 0.008171417941763931, 'gamma': 0.03204299130518446}. Best is trial 60 with value: 0.4843437417371025.\n",
            "[I 2024-05-24 21:36:47,424] Trial 71 finished with value: 0.46630590355756363 and parameters: {'learning_rate': 0.20797064998700904, 'min_child_weight': 5, 'max_depth': 4, 'colsample_bytree': 0.9506387548757399, 'subsample': 0.7647518291599062, 'reg_alpha': 0.003609324132689753, 'reg_lambda': 0.0807027172211912, 'gamma': 0.018488928801073536}. Best is trial 60 with value: 0.4843437417371025.\n",
            "[I 2024-05-24 21:36:52,679] Trial 72 finished with value: 0.4698674899476748 and parameters: {'learning_rate': 0.13582417550706327, 'min_child_weight': 4, 'max_depth': 4, 'colsample_bytree': 0.9791985405695047, 'subsample': 0.8181325743958372, 'reg_alpha': 0.004980473877176186, 'reg_lambda': 0.06345841323680011, 'gamma': 0.046161261387492866}. Best is trial 60 with value: 0.4843437417371025.\n",
            "[I 2024-05-24 21:37:01,929] Trial 73 finished with value: 0.48220850066634047 and parameters: {'learning_rate': 0.15587583381359793, 'min_child_weight': 6, 'max_depth': 4, 'colsample_bytree': 0.46919370244346126, 'subsample': 0.857995838824868, 'reg_alpha': 0.0029301498774970862, 'reg_lambda': 0.021423581413842617, 'gamma': 0.00048031125622725635}. Best is trial 60 with value: 0.4843437417371025.\n",
            "[I 2024-05-24 21:37:07,611] Trial 74 finished with value: 0.4765016251867049 and parameters: {'learning_rate': 0.15805273116050733, 'min_child_weight': 6, 'max_depth': 4, 'colsample_bytree': 0.47194499963706527, 'subsample': 0.9449396267756316, 'reg_alpha': 0.002394599318555253, 'reg_lambda': 0.017791178106083008, 'gamma': 0.02610002428825232}. Best is trial 60 with value: 0.4843437417371025.\n",
            "[I 2024-05-24 21:37:14,710] Trial 75 finished with value: 0.47296256227211925 and parameters: {'learning_rate': 0.2029601167954561, 'min_child_weight': 7, 'max_depth': 4, 'colsample_bytree': 0.5689083243071815, 'subsample': 0.8648353146772583, 'reg_alpha': 0.0029670809749703293, 'reg_lambda': 0.010552057802651161, 'gamma': 0.013494528039364484}. Best is trial 60 with value: 0.4843437417371025.\n",
            "[I 2024-05-24 21:37:18,151] Trial 76 finished with value: 0.4778225974502456 and parameters: {'learning_rate': 0.23180961241749418, 'min_child_weight': 6, 'max_depth': 4, 'colsample_bytree': 0.44242729745981535, 'subsample': 0.9805176454096778, 'reg_alpha': 0.0017637749608329265, 'reg_lambda': 0.02989208956547838, 'gamma': 0.00030153138966508596}. Best is trial 60 with value: 0.4843437417371025.\n",
            "[I 2024-05-24 21:37:19,185] Trial 77 finished with value: 0.4853790238220156 and parameters: {'learning_rate': 0.17964828925687254, 'min_child_weight': 6, 'max_depth': 4, 'colsample_bytree': 0.4647134741868461, 'subsample': 0.9085743188601628, 'reg_alpha': 0.003629497289302513, 'reg_lambda': 0.020008893020220495, 'gamma': 0.04120774703721249}. Best is trial 77 with value: 0.4853790238220156.\n",
            "[I 2024-05-24 21:37:19,867] Trial 78 finished with value: 0.45838499076582506 and parameters: {'learning_rate': 0.1824650746254581, 'min_child_weight': 5, 'max_depth': 2, 'colsample_bytree': 0.41569331478467425, 'subsample': 0.9074956206847588, 'reg_alpha': 0.0034948360363919856, 'reg_lambda': 0.02464207311627692, 'gamma': 0.0025525436341522403}. Best is trial 77 with value: 0.4853790238220156.\n",
            "[I 2024-05-24 21:37:20,895] Trial 79 finished with value: 0.47299670550410405 and parameters: {'learning_rate': 0.27136119238595896, 'min_child_weight': 8, 'max_depth': 4, 'colsample_bytree': 0.528590716505028, 'subsample': 0.8495048370900535, 'reg_alpha': 0.002259629513894884, 'reg_lambda': 0.02318077265931138, 'gamma': 0.06673740388543428}. Best is trial 77 with value: 0.4853790238220156.\n",
            "[I 2024-05-24 21:37:21,989] Trial 80 finished with value: 0.45104020055627736 and parameters: {'learning_rate': 0.02553343302796558, 'min_child_weight': 6, 'max_depth': 4, 'colsample_bytree': 0.4717275444333731, 'subsample': 0.8774748923750112, 'reg_alpha': 0.0018744191165949286, 'reg_lambda': 0.021896159678843716, 'gamma': 0.09841662550758491}. Best is trial 77 with value: 0.4853790238220156.\n",
            "[I 2024-05-24 21:37:23,031] Trial 81 finished with value: 0.47108777186266926 and parameters: {'learning_rate': 0.1651286352998154, 'min_child_weight': 6, 'max_depth': 4, 'colsample_bytree': 0.5122461222546767, 'subsample': 0.8321606999473915, 'reg_alpha': 0.005499616081000895, 'reg_lambda': 0.011925011790342395, 'gamma': 0.038637442955899}. Best is trial 77 with value: 0.4853790238220156.\n",
            "[I 2024-05-24 21:37:24,009] Trial 82 finished with value: 0.47759935148987526 and parameters: {'learning_rate': 0.1494336475803252, 'min_child_weight': 6, 'max_depth': 4, 'colsample_bytree': 0.3739563116721404, 'subsample': 0.7820921596532262, 'reg_alpha': 0.004147428671969143, 'reg_lambda': 0.006110769251712747, 'gamma': 0.056593286576333696}. Best is trial 77 with value: 0.4853790238220156.\n",
            "[I 2024-05-24 21:37:25,103] Trial 83 finished with value: 0.4455749084064137 and parameters: {'learning_rate': 0.014809896955136412, 'min_child_weight': 7, 'max_depth': 4, 'colsample_bytree': 0.5644794462670064, 'subsample': 0.9313100026981179, 'reg_alpha': 0.0029351137928122595, 'reg_lambda': 0.007483892829135343, 'gamma': 0.02857395137343905}. Best is trial 77 with value: 0.4853790238220156.\n",
            "[I 2024-05-24 21:37:27,815] Trial 84 finished with value: 0.46733752048241045 and parameters: {'learning_rate': 0.110547725294829, 'min_child_weight': 6, 'max_depth': 4, 'colsample_bytree': 0.4392890749697891, 'subsample': 0.9059825103680595, 'reg_alpha': 0.004612831816912173, 'reg_lambda': 0.03760450377895763, 'gamma': 0.02199816316849693}. Best is trial 77 with value: 0.4853790238220156.\n",
            "[I 2024-05-24 21:37:30,323] Trial 85 finished with value: 0.4902677266384255 and parameters: {'learning_rate': 0.12383207707591747, 'min_child_weight': 5, 'max_depth': 4, 'colsample_bytree': 0.46905238052158094, 'subsample': 0.8236466968757384, 'reg_alpha': 0.003685214348877713, 'reg_lambda': 0.05253824861610229, 'gamma': 0.0002250569171273546}. Best is trial 85 with value: 0.4902677266384255.\n",
            "[I 2024-05-24 21:37:31,656] Trial 86 finished with value: 0.4731309552608436 and parameters: {'learning_rate': 0.1302086956076163, 'min_child_weight': 5, 'max_depth': 4, 'colsample_bytree': 0.46140902259697436, 'subsample': 0.8525712673351069, 'reg_alpha': 0.0035596317511299835, 'reg_lambda': 0.05364502814862209, 'gamma': 0.00021008901403755243}. Best is trial 85 with value: 0.4902677266384255.\n",
            "[I 2024-05-24 21:37:32,838] Trial 87 finished with value: 0.47588778071285126 and parameters: {'learning_rate': 0.10138043756211078, 'min_child_weight': 5, 'max_depth': 4, 'colsample_bytree': 0.6580899935667779, 'subsample': 0.8207712437740747, 'reg_alpha': 0.001477476955581488, 'reg_lambda': 0.04122082528054032, 'gamma': 0.0005516388766093494}. Best is trial 85 with value: 0.4902677266384255.\n",
            "[I 2024-05-24 21:37:33,891] Trial 88 finished with value: 0.46842472116104583 and parameters: {'learning_rate': 0.21951861767237854, 'min_child_weight': 5, 'max_depth': 4, 'colsample_bytree': 0.5154044604590041, 'subsample': 0.8963033525770128, 'reg_alpha': 0.0031346388173876874, 'reg_lambda': 0.07103614607763119, 'gamma': 0.00014629793253622582}. Best is trial 85 with value: 0.4902677266384255.\n",
            "[I 2024-05-24 21:37:34,767] Trial 89 finished with value: 0.4625217100882331 and parameters: {'learning_rate': 0.23955949812584595, 'min_child_weight': 5, 'max_depth': 3, 'colsample_bytree': 0.48915056193461365, 'subsample': 0.41474456328886855, 'reg_alpha': 0.002780635115378287, 'reg_lambda': 0.03130116946749598, 'gamma': 0.0002225350165446428}. Best is trial 85 with value: 0.4902677266384255.\n",
            "[I 2024-05-24 21:37:35,835] Trial 90 finished with value: 0.48164809337035397 and parameters: {'learning_rate': 0.18397800716606197, 'min_child_weight': 2, 'max_depth': 4, 'colsample_bytree': 0.43136962884949887, 'subsample': 0.8852799119221582, 'reg_alpha': 0.02037569670948164, 'reg_lambda': 0.0047494216104617785, 'gamma': 0.0003949267761023877}. Best is trial 85 with value: 0.4902677266384255.\n",
            "[I 2024-05-24 21:37:36,866] Trial 91 finished with value: 0.47082929782154537 and parameters: {'learning_rate': 0.18321841911110925, 'min_child_weight': 2, 'max_depth': 4, 'colsample_bytree': 0.3557457580254303, 'subsample': 0.8748231300196853, 'reg_alpha': 0.015248333775500783, 'reg_lambda': 0.004900515538076703, 'gamma': 0.00041872570314627276}. Best is trial 85 with value: 0.4902677266384255.\n",
            "[I 2024-05-24 21:37:37,965] Trial 92 finished with value: 0.4761249240188299 and parameters: {'learning_rate': 0.17134148798950222, 'min_child_weight': 2, 'max_depth': 4, 'colsample_bytree': 0.43186257208574047, 'subsample': 0.7979887620659517, 'reg_alpha': 0.04592099339574902, 'reg_lambda': 0.003185328716398887, 'gamma': 0.0002677034725976749}. Best is trial 85 with value: 0.4902677266384255.\n",
            "[I 2024-05-24 21:37:39,057] Trial 93 finished with value: 0.4662269553971011 and parameters: {'learning_rate': 0.1214533006634097, 'min_child_weight': 2, 'max_depth': 4, 'colsample_bytree': 0.4207198922903435, 'subsample': 0.8327375422859582, 'reg_alpha': 0.00394474512238747, 'reg_lambda': 0.08456489963505612, 'gamma': 0.0003443143529339121}. Best is trial 85 with value: 0.4902677266384255.\n",
            "[I 2024-05-24 21:37:41,522] Trial 94 finished with value: 0.4742512702313473 and parameters: {'learning_rate': 0.20119789487272882, 'min_child_weight': 3, 'max_depth': 4, 'colsample_bytree': 0.4596403259619572, 'subsample': 0.945591170512331, 'reg_alpha': 0.025293934939705658, 'reg_lambda': 0.019791004657727547, 'gamma': 0.00025032399296676306}. Best is trial 85 with value: 0.4902677266384255.\n",
            "[I 2024-05-24 21:37:44,337] Trial 95 finished with value: 0.4829428228173286 and parameters: {'learning_rate': 0.1584055870095742, 'min_child_weight': 4, 'max_depth': 4, 'colsample_bytree': 0.39759813541494055, 'subsample': 0.9129595567283125, 'reg_alpha': 0.018634017271156437, 'reg_lambda': 0.04622752309103663, 'gamma': 0.0004772638525214706}. Best is trial 85 with value: 0.4902677266384255.\n",
            "[I 2024-05-24 21:37:45,310] Trial 96 finished with value: 0.4669920610264864 and parameters: {'learning_rate': 0.15032686296060802, 'min_child_weight': 4, 'max_depth': 4, 'colsample_bytree': 0.323240943650535, 'subsample': 0.9657755615135226, 'reg_alpha': 0.02113495073882541, 'reg_lambda': 0.04858433835630418, 'gamma': 0.0004568811482774069}. Best is trial 85 with value: 0.4902677266384255.\n",
            "[I 2024-05-24 21:37:46,338] Trial 97 finished with value: 0.48581264540886615 and parameters: {'learning_rate': 0.16284545521878008, 'min_child_weight': 5, 'max_depth': 4, 'colsample_bytree': 0.40636994306637453, 'subsample': 0.9190625859383931, 'reg_alpha': 0.019766230294237814, 'reg_lambda': 0.005372149938087558, 'gamma': 0.0009445967305073408}. Best is trial 85 with value: 0.4902677266384255.\n",
            "[I 2024-05-24 21:37:47,346] Trial 98 finished with value: 0.4633913857296946 and parameters: {'learning_rate': 0.07050331142028457, 'min_child_weight': 5, 'max_depth': 4, 'colsample_bytree': 0.3697906017850391, 'subsample': 0.9975753418207145, 'reg_alpha': 0.019336429869403513, 'reg_lambda': 0.005074499722034094, 'gamma': 0.0010539321880748903}. Best is trial 85 with value: 0.4902677266384255.\n",
            "[I 2024-05-24 21:37:48,349] Trial 99 finished with value: 0.4779441593441477 and parameters: {'learning_rate': 0.12512953485657513, 'min_child_weight': 4, 'max_depth': 4, 'colsample_bytree': 0.3994895706512592, 'subsample': 0.9178436533911785, 'reg_alpha': 0.02305592674823245, 'reg_lambda': 0.004597179242194044, 'gamma': 0.0006440455360095613}. Best is trial 85 with value: 0.4902677266384255.\n"
          ]
        },
        {
          "output_type": "stream",
          "name": "stdout",
          "text": [
            "Best trial: ,  {'learning_rate': 0.12383207707591747, 'min_child_weight': 5, 'max_depth': 4, 'colsample_bytree': 0.46905238052158094, 'subsample': 0.8236466968757384, 'reg_alpha': 0.003685214348877713, 'reg_lambda': 0.05253824861610229, 'gamma': 0.0002250569171273546}\n",
            "Best score: ,  0.4902677266384255\n"
          ]
        }
      ]
    },
    {
      "cell_type": "code",
      "source": [
        "# 探索履歴のプロット\n",
        "opt_history = vis.plot_optimization_history(study)\n",
        "opt_history.show()\n",
        "\n",
        "# ハイパーパラメータの重要度のプロット\n",
        "param_importances = vis.plot_param_importances(study)\n",
        "param_importances.show()"
      ],
      "metadata": {
        "colab": {
          "base_uri": "https://localhost:8080/",
          "height": 1000
        },
        "outputId": "e7c37a1d-30ae-4728-897f-9c9baefaddb2",
        "collapsed": true,
        "id": "IjA-QSfmd8Ja"
      },
      "execution_count": null,
      "outputs": [
        {
          "output_type": "display_data",
          "data": {
            "text/html": [
              "<html>\n",
              "<head><meta charset=\"utf-8\" /></head>\n",
              "<body>\n",
              "    <div>            <script src=\"https://cdnjs.cloudflare.com/ajax/libs/mathjax/2.7.5/MathJax.js?config=TeX-AMS-MML_SVG\"></script><script type=\"text/javascript\">if (window.MathJax && window.MathJax.Hub && window.MathJax.Hub.Config) {window.MathJax.Hub.Config({SVG: {font: \"STIX-Web\"}});}</script>                <script type=\"text/javascript\">window.PlotlyConfig = {MathJaxConfig: 'local'};</script>\n",
              "        <script charset=\"utf-8\" src=\"https://cdn.plot.ly/plotly-2.24.1.min.js\"></script>                <div id=\"a2a5baa7-ff9b-4a46-91fd-98b7845821c1\" class=\"plotly-graph-div\" style=\"height:525px; width:100%;\"></div>            <script type=\"text/javascript\">                                    window.PLOTLYENV=window.PLOTLYENV || {};                                    if (document.getElementById(\"a2a5baa7-ff9b-4a46-91fd-98b7845821c1\")) {                    Plotly.newPlot(                        \"a2a5baa7-ff9b-4a46-91fd-98b7845821c1\",                        [{\"mode\":\"markers\",\"name\":\"Objective Value\",\"x\":[0,1,2,3,4,5,6,7,8,9,10,11,12,13,14,15,16,17,18,19,20,21,22,23,24,25,26,27,28,29,30,31,32,33,34,35,36,37,38,39,40,41,42,43,44,45,46,47,48,49,50,51,52,53,54,55,56,57,58,59,60,61,62,63,64,65,66,67,68,69,70,71,72,73,74,75,76,77,78,79,80,81,82,83,84,85,86,87,88,89,90,91,92,93,94,95,96,97,98,99],\"y\":[0.4474457417338537,0.46099339911022535,0.44820593296761624,0.4772883488717567,0.442277969096519,0.45595257804184114,0.4062026511428347,0.4571002527787014,0.46159699887129085,0.47352385562775695,0.4668404575664593,0.47727914962244383,0.4729023072462283,0.44220158036935153,0.4688466755957261,0.47869257299101065,0.4813978935212268,0.4436471016102308,0.4766937713922398,0.4706669912760912,0.4789534173725338,0.46704132394865727,0.4802147794304611,0.4793430808507094,0.4526956880404624,0.4528830961340864,0.46667735066940413,0.4679464579496121,0.4670082183951563,0.4494945628111953,0.47408882620104464,0.491854649903965,0.465332570863648,0.47128532166606396,0.4665713326936249,0.47098332027600043,0.46260367401139496,0.44386871506307957,0.4725583224745359,0.46906182957311,0.4652827231690922,0.48004353217559154,0.4813938512892687,0.4778816708264997,0.45207945714549885,0.4718405216045807,0.4832476131812872,0.4658951286308054,0.4501966961452549,0.4706018949957388,0.4586293659637269,0.47222179956003885,0.4715926377604392,0.47650376406470674,0.4781905581147935,0.48612575662691365,0.45456365442563695,0.4813845047117013,0.4704346977607803,0.463046855608086,0.46856732611806534,0.47163658151000953,0.46600287909348576,0.46392873110552924,0.4685289722697784,0.45235795781819216,0.46065156120411777,0.44280914526219395,0.4626766408737876,0.4779554122946525,0.4785507415054349,0.483963031940016,0.47343741083560786,0.4689359946823973,0.4762909478730585,0.47872942293070386,0.43860710785847334,0.47153121197572984,0.4788113169301972,0.4728688348598949,0.465106449736645,0.4758592757151213,0.47376039445400797,0.4755296233340264,0.4767367884472706,0.44757736985688085,0.46601550504249784,0.4749117252210427,0.4699196141911953,0.4869870084134099,0.48119974449730873,0.47164629580788364,0.4818419402858739,0.48941209300065236,0.46247595974122097,0.4810426594697189,0.46678355217909234,0.4669795837837841,0.47216031687812726,0.47322141882044566],\"type\":\"scatter\"},{\"mode\":\"lines\",\"name\":\"Best Value\",\"x\":[0,1,2,3,4,5,6,7,8,9,10,11,12,13,14,15,16,17,18,19,20,21,22,23,24,25,26,27,28,29,30,31,32,33,34,35,36,37,38,39,40,41,42,43,44,45,46,47,48,49,50,51,52,53,54,55,56,57,58,59,60,61,62,63,64,65,66,67,68,69,70,71,72,73,74,75,76,77,78,79,80,81,82,83,84,85,86,87,88,89,90,91,92,93,94,95,96,97,98,99],\"y\":[0.4474457417338537,0.46099339911022535,0.46099339911022535,0.4772883488717567,0.4772883488717567,0.4772883488717567,0.4772883488717567,0.4772883488717567,0.4772883488717567,0.4772883488717567,0.4772883488717567,0.4772883488717567,0.4772883488717567,0.4772883488717567,0.4772883488717567,0.47869257299101065,0.4813978935212268,0.4813978935212268,0.4813978935212268,0.4813978935212268,0.4813978935212268,0.4813978935212268,0.4813978935212268,0.4813978935212268,0.4813978935212268,0.4813978935212268,0.4813978935212268,0.4813978935212268,0.4813978935212268,0.4813978935212268,0.4813978935212268,0.491854649903965,0.491854649903965,0.491854649903965,0.491854649903965,0.491854649903965,0.491854649903965,0.491854649903965,0.491854649903965,0.491854649903965,0.491854649903965,0.491854649903965,0.491854649903965,0.491854649903965,0.491854649903965,0.491854649903965,0.491854649903965,0.491854649903965,0.491854649903965,0.491854649903965,0.491854649903965,0.491854649903965,0.491854649903965,0.491854649903965,0.491854649903965,0.491854649903965,0.491854649903965,0.491854649903965,0.491854649903965,0.491854649903965,0.491854649903965,0.491854649903965,0.491854649903965,0.491854649903965,0.491854649903965,0.491854649903965,0.491854649903965,0.491854649903965,0.491854649903965,0.491854649903965,0.491854649903965,0.491854649903965,0.491854649903965,0.491854649903965,0.491854649903965,0.491854649903965,0.491854649903965,0.491854649903965,0.491854649903965,0.491854649903965,0.491854649903965,0.491854649903965,0.491854649903965,0.491854649903965,0.491854649903965,0.491854649903965,0.491854649903965,0.491854649903965,0.491854649903965,0.491854649903965,0.491854649903965,0.491854649903965,0.491854649903965,0.491854649903965,0.491854649903965,0.491854649903965,0.491854649903965,0.491854649903965,0.491854649903965,0.491854649903965],\"type\":\"scatter\"},{\"marker\":{\"color\":\"#cccccc\"},\"mode\":\"markers\",\"name\":\"Infeasible Trial\",\"showlegend\":false,\"x\":[],\"y\":[],\"type\":\"scatter\"}],                        {\"title\":{\"text\":\"Optimization History Plot\"},\"xaxis\":{\"title\":{\"text\":\"Trial\"}},\"yaxis\":{\"title\":{\"text\":\"Objective Value\"}},\"template\":{\"data\":{\"histogram2dcontour\":[{\"type\":\"histogram2dcontour\",\"colorbar\":{\"outlinewidth\":0,\"ticks\":\"\"},\"colorscale\":[[0.0,\"#0d0887\"],[0.1111111111111111,\"#46039f\"],[0.2222222222222222,\"#7201a8\"],[0.3333333333333333,\"#9c179e\"],[0.4444444444444444,\"#bd3786\"],[0.5555555555555556,\"#d8576b\"],[0.6666666666666666,\"#ed7953\"],[0.7777777777777778,\"#fb9f3a\"],[0.8888888888888888,\"#fdca26\"],[1.0,\"#f0f921\"]]}],\"choropleth\":[{\"type\":\"choropleth\",\"colorbar\":{\"outlinewidth\":0,\"ticks\":\"\"}}],\"histogram2d\":[{\"type\":\"histogram2d\",\"colorbar\":{\"outlinewidth\":0,\"ticks\":\"\"},\"colorscale\":[[0.0,\"#0d0887\"],[0.1111111111111111,\"#46039f\"],[0.2222222222222222,\"#7201a8\"],[0.3333333333333333,\"#9c179e\"],[0.4444444444444444,\"#bd3786\"],[0.5555555555555556,\"#d8576b\"],[0.6666666666666666,\"#ed7953\"],[0.7777777777777778,\"#fb9f3a\"],[0.8888888888888888,\"#fdca26\"],[1.0,\"#f0f921\"]]}],\"heatmap\":[{\"type\":\"heatmap\",\"colorbar\":{\"outlinewidth\":0,\"ticks\":\"\"},\"colorscale\":[[0.0,\"#0d0887\"],[0.1111111111111111,\"#46039f\"],[0.2222222222222222,\"#7201a8\"],[0.3333333333333333,\"#9c179e\"],[0.4444444444444444,\"#bd3786\"],[0.5555555555555556,\"#d8576b\"],[0.6666666666666666,\"#ed7953\"],[0.7777777777777778,\"#fb9f3a\"],[0.8888888888888888,\"#fdca26\"],[1.0,\"#f0f921\"]]}],\"heatmapgl\":[{\"type\":\"heatmapgl\",\"colorbar\":{\"outlinewidth\":0,\"ticks\":\"\"},\"colorscale\":[[0.0,\"#0d0887\"],[0.1111111111111111,\"#46039f\"],[0.2222222222222222,\"#7201a8\"],[0.3333333333333333,\"#9c179e\"],[0.4444444444444444,\"#bd3786\"],[0.5555555555555556,\"#d8576b\"],[0.6666666666666666,\"#ed7953\"],[0.7777777777777778,\"#fb9f3a\"],[0.8888888888888888,\"#fdca26\"],[1.0,\"#f0f921\"]]}],\"contourcarpet\":[{\"type\":\"contourcarpet\",\"colorbar\":{\"outlinewidth\":0,\"ticks\":\"\"}}],\"contour\":[{\"type\":\"contour\",\"colorbar\":{\"outlinewidth\":0,\"ticks\":\"\"},\"colorscale\":[[0.0,\"#0d0887\"],[0.1111111111111111,\"#46039f\"],[0.2222222222222222,\"#7201a8\"],[0.3333333333333333,\"#9c179e\"],[0.4444444444444444,\"#bd3786\"],[0.5555555555555556,\"#d8576b\"],[0.6666666666666666,\"#ed7953\"],[0.7777777777777778,\"#fb9f3a\"],[0.8888888888888888,\"#fdca26\"],[1.0,\"#f0f921\"]]}],\"surface\":[{\"type\":\"surface\",\"colorbar\":{\"outlinewidth\":0,\"ticks\":\"\"},\"colorscale\":[[0.0,\"#0d0887\"],[0.1111111111111111,\"#46039f\"],[0.2222222222222222,\"#7201a8\"],[0.3333333333333333,\"#9c179e\"],[0.4444444444444444,\"#bd3786\"],[0.5555555555555556,\"#d8576b\"],[0.6666666666666666,\"#ed7953\"],[0.7777777777777778,\"#fb9f3a\"],[0.8888888888888888,\"#fdca26\"],[1.0,\"#f0f921\"]]}],\"mesh3d\":[{\"type\":\"mesh3d\",\"colorbar\":{\"outlinewidth\":0,\"ticks\":\"\"}}],\"scatter\":[{\"fillpattern\":{\"fillmode\":\"overlay\",\"size\":10,\"solidity\":0.2},\"type\":\"scatter\"}],\"parcoords\":[{\"type\":\"parcoords\",\"line\":{\"colorbar\":{\"outlinewidth\":0,\"ticks\":\"\"}}}],\"scatterpolargl\":[{\"type\":\"scatterpolargl\",\"marker\":{\"colorbar\":{\"outlinewidth\":0,\"ticks\":\"\"}}}],\"bar\":[{\"error_x\":{\"color\":\"#2a3f5f\"},\"error_y\":{\"color\":\"#2a3f5f\"},\"marker\":{\"line\":{\"color\":\"#E5ECF6\",\"width\":0.5},\"pattern\":{\"fillmode\":\"overlay\",\"size\":10,\"solidity\":0.2}},\"type\":\"bar\"}],\"scattergeo\":[{\"type\":\"scattergeo\",\"marker\":{\"colorbar\":{\"outlinewidth\":0,\"ticks\":\"\"}}}],\"scatterpolar\":[{\"type\":\"scatterpolar\",\"marker\":{\"colorbar\":{\"outlinewidth\":0,\"ticks\":\"\"}}}],\"histogram\":[{\"marker\":{\"pattern\":{\"fillmode\":\"overlay\",\"size\":10,\"solidity\":0.2}},\"type\":\"histogram\"}],\"scattergl\":[{\"type\":\"scattergl\",\"marker\":{\"colorbar\":{\"outlinewidth\":0,\"ticks\":\"\"}}}],\"scatter3d\":[{\"type\":\"scatter3d\",\"line\":{\"colorbar\":{\"outlinewidth\":0,\"ticks\":\"\"}},\"marker\":{\"colorbar\":{\"outlinewidth\":0,\"ticks\":\"\"}}}],\"scattermapbox\":[{\"type\":\"scattermapbox\",\"marker\":{\"colorbar\":{\"outlinewidth\":0,\"ticks\":\"\"}}}],\"scatterternary\":[{\"type\":\"scatterternary\",\"marker\":{\"colorbar\":{\"outlinewidth\":0,\"ticks\":\"\"}}}],\"scattercarpet\":[{\"type\":\"scattercarpet\",\"marker\":{\"colorbar\":{\"outlinewidth\":0,\"ticks\":\"\"}}}],\"carpet\":[{\"aaxis\":{\"endlinecolor\":\"#2a3f5f\",\"gridcolor\":\"white\",\"linecolor\":\"white\",\"minorgridcolor\":\"white\",\"startlinecolor\":\"#2a3f5f\"},\"baxis\":{\"endlinecolor\":\"#2a3f5f\",\"gridcolor\":\"white\",\"linecolor\":\"white\",\"minorgridcolor\":\"white\",\"startlinecolor\":\"#2a3f5f\"},\"type\":\"carpet\"}],\"table\":[{\"cells\":{\"fill\":{\"color\":\"#EBF0F8\"},\"line\":{\"color\":\"white\"}},\"header\":{\"fill\":{\"color\":\"#C8D4E3\"},\"line\":{\"color\":\"white\"}},\"type\":\"table\"}],\"barpolar\":[{\"marker\":{\"line\":{\"color\":\"#E5ECF6\",\"width\":0.5},\"pattern\":{\"fillmode\":\"overlay\",\"size\":10,\"solidity\":0.2}},\"type\":\"barpolar\"}],\"pie\":[{\"automargin\":true,\"type\":\"pie\"}]},\"layout\":{\"autotypenumbers\":\"strict\",\"colorway\":[\"#636efa\",\"#EF553B\",\"#00cc96\",\"#ab63fa\",\"#FFA15A\",\"#19d3f3\",\"#FF6692\",\"#B6E880\",\"#FF97FF\",\"#FECB52\"],\"font\":{\"color\":\"#2a3f5f\"},\"hovermode\":\"closest\",\"hoverlabel\":{\"align\":\"left\"},\"paper_bgcolor\":\"white\",\"plot_bgcolor\":\"#E5ECF6\",\"polar\":{\"bgcolor\":\"#E5ECF6\",\"angularaxis\":{\"gridcolor\":\"white\",\"linecolor\":\"white\",\"ticks\":\"\"},\"radialaxis\":{\"gridcolor\":\"white\",\"linecolor\":\"white\",\"ticks\":\"\"}},\"ternary\":{\"bgcolor\":\"#E5ECF6\",\"aaxis\":{\"gridcolor\":\"white\",\"linecolor\":\"white\",\"ticks\":\"\"},\"baxis\":{\"gridcolor\":\"white\",\"linecolor\":\"white\",\"ticks\":\"\"},\"caxis\":{\"gridcolor\":\"white\",\"linecolor\":\"white\",\"ticks\":\"\"}},\"coloraxis\":{\"colorbar\":{\"outlinewidth\":0,\"ticks\":\"\"}},\"colorscale\":{\"sequential\":[[0.0,\"#0d0887\"],[0.1111111111111111,\"#46039f\"],[0.2222222222222222,\"#7201a8\"],[0.3333333333333333,\"#9c179e\"],[0.4444444444444444,\"#bd3786\"],[0.5555555555555556,\"#d8576b\"],[0.6666666666666666,\"#ed7953\"],[0.7777777777777778,\"#fb9f3a\"],[0.8888888888888888,\"#fdca26\"],[1.0,\"#f0f921\"]],\"sequentialminus\":[[0.0,\"#0d0887\"],[0.1111111111111111,\"#46039f\"],[0.2222222222222222,\"#7201a8\"],[0.3333333333333333,\"#9c179e\"],[0.4444444444444444,\"#bd3786\"],[0.5555555555555556,\"#d8576b\"],[0.6666666666666666,\"#ed7953\"],[0.7777777777777778,\"#fb9f3a\"],[0.8888888888888888,\"#fdca26\"],[1.0,\"#f0f921\"]],\"diverging\":[[0,\"#8e0152\"],[0.1,\"#c51b7d\"],[0.2,\"#de77ae\"],[0.3,\"#f1b6da\"],[0.4,\"#fde0ef\"],[0.5,\"#f7f7f7\"],[0.6,\"#e6f5d0\"],[0.7,\"#b8e186\"],[0.8,\"#7fbc41\"],[0.9,\"#4d9221\"],[1,\"#276419\"]]},\"xaxis\":{\"gridcolor\":\"white\",\"linecolor\":\"white\",\"ticks\":\"\",\"title\":{\"standoff\":15},\"zerolinecolor\":\"white\",\"automargin\":true,\"zerolinewidth\":2},\"yaxis\":{\"gridcolor\":\"white\",\"linecolor\":\"white\",\"ticks\":\"\",\"title\":{\"standoff\":15},\"zerolinecolor\":\"white\",\"automargin\":true,\"zerolinewidth\":2},\"scene\":{\"xaxis\":{\"backgroundcolor\":\"#E5ECF6\",\"gridcolor\":\"white\",\"linecolor\":\"white\",\"showbackground\":true,\"ticks\":\"\",\"zerolinecolor\":\"white\",\"gridwidth\":2},\"yaxis\":{\"backgroundcolor\":\"#E5ECF6\",\"gridcolor\":\"white\",\"linecolor\":\"white\",\"showbackground\":true,\"ticks\":\"\",\"zerolinecolor\":\"white\",\"gridwidth\":2},\"zaxis\":{\"backgroundcolor\":\"#E5ECF6\",\"gridcolor\":\"white\",\"linecolor\":\"white\",\"showbackground\":true,\"ticks\":\"\",\"zerolinecolor\":\"white\",\"gridwidth\":2}},\"shapedefaults\":{\"line\":{\"color\":\"#2a3f5f\"}},\"annotationdefaults\":{\"arrowcolor\":\"#2a3f5f\",\"arrowhead\":0,\"arrowwidth\":1},\"geo\":{\"bgcolor\":\"white\",\"landcolor\":\"#E5ECF6\",\"subunitcolor\":\"white\",\"showland\":true,\"showlakes\":true,\"lakecolor\":\"white\"},\"title\":{\"x\":0.05},\"mapbox\":{\"style\":\"light\"}}}},                        {\"responsive\": true}                    ).then(function(){\n",
              "                            \n",
              "var gd = document.getElementById('a2a5baa7-ff9b-4a46-91fd-98b7845821c1');\n",
              "var x = new MutationObserver(function (mutations, observer) {{\n",
              "        var display = window.getComputedStyle(gd).display;\n",
              "        if (!display || display === 'none') {{\n",
              "            console.log([gd, 'removed!']);\n",
              "            Plotly.purge(gd);\n",
              "            observer.disconnect();\n",
              "        }}\n",
              "}});\n",
              "\n",
              "// Listen for the removal of the full notebook cells\n",
              "var notebookContainer = gd.closest('#notebook-container');\n",
              "if (notebookContainer) {{\n",
              "    x.observe(notebookContainer, {childList: true});\n",
              "}}\n",
              "\n",
              "// Listen for the clearing of the current output cell\n",
              "var outputEl = gd.closest('.output');\n",
              "if (outputEl) {{\n",
              "    x.observe(outputEl, {childList: true});\n",
              "}}\n",
              "\n",
              "                        })                };                            </script>        </div>\n",
              "</body>\n",
              "</html>"
            ]
          },
          "metadata": {}
        },
        {
          "output_type": "display_data",
          "data": {
            "text/html": [
              "<html>\n",
              "<head><meta charset=\"utf-8\" /></head>\n",
              "<body>\n",
              "    <div>            <script src=\"https://cdnjs.cloudflare.com/ajax/libs/mathjax/2.7.5/MathJax.js?config=TeX-AMS-MML_SVG\"></script><script type=\"text/javascript\">if (window.MathJax && window.MathJax.Hub && window.MathJax.Hub.Config) {window.MathJax.Hub.Config({SVG: {font: \"STIX-Web\"}});}</script>                <script type=\"text/javascript\">window.PlotlyConfig = {MathJaxConfig: 'local'};</script>\n",
              "        <script charset=\"utf-8\" src=\"https://cdn.plot.ly/plotly-2.24.1.min.js\"></script>                <div id=\"6e5ac0f0-f24d-4407-add1-1da30de8e829\" class=\"plotly-graph-div\" style=\"height:525px; width:100%;\"></div>            <script type=\"text/javascript\">                                    window.PLOTLYENV=window.PLOTLYENV || {};                                    if (document.getElementById(\"6e5ac0f0-f24d-4407-add1-1da30de8e829\")) {                    Plotly.newPlot(                        \"6e5ac0f0-f24d-4407-add1-1da30de8e829\",                        [{\"cliponaxis\":false,\"hovertemplate\":[\"gamma (FloatDistribution): 0.006472665625747542\\u003cextra\\u003e\\u003c\\u002fextra\\u003e\",\"min_child_weight (IntDistribution): 0.011980414158820951\\u003cextra\\u003e\\u003c\\u002fextra\\u003e\",\"reg_alpha (FloatDistribution): 0.01402006607444518\\u003cextra\\u003e\\u003c\\u002fextra\\u003e\",\"colsample_bytree (FloatDistribution): 0.03724508102356054\\u003cextra\\u003e\\u003c\\u002fextra\\u003e\",\"reg_lambda (FloatDistribution): 0.04044053069716509\\u003cextra\\u003e\\u003c\\u002fextra\\u003e\",\"max_depth (IntDistribution): 0.19847986428521863\\u003cextra\\u003e\\u003c\\u002fextra\\u003e\",\"subsample (FloatDistribution): 0.25633763671762244\\u003cextra\\u003e\\u003c\\u002fextra\\u003e\",\"learning_rate (FloatDistribution): 0.4350237414174198\\u003cextra\\u003e\\u003c\\u002fextra\\u003e\"],\"name\":\"Objective Value\",\"orientation\":\"h\",\"text\":[\"\\u003c0.01\",\"0.01\",\"0.01\",\"0.04\",\"0.04\",\"0.20\",\"0.26\",\"0.44\"],\"textposition\":\"outside\",\"x\":[0.006472665625747542,0.011980414158820951,0.01402006607444518,0.03724508102356054,0.04044053069716509,0.19847986428521863,0.25633763671762244,0.4350237414174198],\"y\":[\"gamma\",\"min_child_weight\",\"reg_alpha\",\"colsample_bytree\",\"reg_lambda\",\"max_depth\",\"subsample\",\"learning_rate\"],\"type\":\"bar\"}],                        {\"title\":{\"text\":\"Hyperparameter Importances\"},\"xaxis\":{\"title\":{\"text\":\"Hyperparameter Importance\"}},\"yaxis\":{\"title\":{\"text\":\"Hyperparameter\"}},\"template\":{\"data\":{\"histogram2dcontour\":[{\"type\":\"histogram2dcontour\",\"colorbar\":{\"outlinewidth\":0,\"ticks\":\"\"},\"colorscale\":[[0.0,\"#0d0887\"],[0.1111111111111111,\"#46039f\"],[0.2222222222222222,\"#7201a8\"],[0.3333333333333333,\"#9c179e\"],[0.4444444444444444,\"#bd3786\"],[0.5555555555555556,\"#d8576b\"],[0.6666666666666666,\"#ed7953\"],[0.7777777777777778,\"#fb9f3a\"],[0.8888888888888888,\"#fdca26\"],[1.0,\"#f0f921\"]]}],\"choropleth\":[{\"type\":\"choropleth\",\"colorbar\":{\"outlinewidth\":0,\"ticks\":\"\"}}],\"histogram2d\":[{\"type\":\"histogram2d\",\"colorbar\":{\"outlinewidth\":0,\"ticks\":\"\"},\"colorscale\":[[0.0,\"#0d0887\"],[0.1111111111111111,\"#46039f\"],[0.2222222222222222,\"#7201a8\"],[0.3333333333333333,\"#9c179e\"],[0.4444444444444444,\"#bd3786\"],[0.5555555555555556,\"#d8576b\"],[0.6666666666666666,\"#ed7953\"],[0.7777777777777778,\"#fb9f3a\"],[0.8888888888888888,\"#fdca26\"],[1.0,\"#f0f921\"]]}],\"heatmap\":[{\"type\":\"heatmap\",\"colorbar\":{\"outlinewidth\":0,\"ticks\":\"\"},\"colorscale\":[[0.0,\"#0d0887\"],[0.1111111111111111,\"#46039f\"],[0.2222222222222222,\"#7201a8\"],[0.3333333333333333,\"#9c179e\"],[0.4444444444444444,\"#bd3786\"],[0.5555555555555556,\"#d8576b\"],[0.6666666666666666,\"#ed7953\"],[0.7777777777777778,\"#fb9f3a\"],[0.8888888888888888,\"#fdca26\"],[1.0,\"#f0f921\"]]}],\"heatmapgl\":[{\"type\":\"heatmapgl\",\"colorbar\":{\"outlinewidth\":0,\"ticks\":\"\"},\"colorscale\":[[0.0,\"#0d0887\"],[0.1111111111111111,\"#46039f\"],[0.2222222222222222,\"#7201a8\"],[0.3333333333333333,\"#9c179e\"],[0.4444444444444444,\"#bd3786\"],[0.5555555555555556,\"#d8576b\"],[0.6666666666666666,\"#ed7953\"],[0.7777777777777778,\"#fb9f3a\"],[0.8888888888888888,\"#fdca26\"],[1.0,\"#f0f921\"]]}],\"contourcarpet\":[{\"type\":\"contourcarpet\",\"colorbar\":{\"outlinewidth\":0,\"ticks\":\"\"}}],\"contour\":[{\"type\":\"contour\",\"colorbar\":{\"outlinewidth\":0,\"ticks\":\"\"},\"colorscale\":[[0.0,\"#0d0887\"],[0.1111111111111111,\"#46039f\"],[0.2222222222222222,\"#7201a8\"],[0.3333333333333333,\"#9c179e\"],[0.4444444444444444,\"#bd3786\"],[0.5555555555555556,\"#d8576b\"],[0.6666666666666666,\"#ed7953\"],[0.7777777777777778,\"#fb9f3a\"],[0.8888888888888888,\"#fdca26\"],[1.0,\"#f0f921\"]]}],\"surface\":[{\"type\":\"surface\",\"colorbar\":{\"outlinewidth\":0,\"ticks\":\"\"},\"colorscale\":[[0.0,\"#0d0887\"],[0.1111111111111111,\"#46039f\"],[0.2222222222222222,\"#7201a8\"],[0.3333333333333333,\"#9c179e\"],[0.4444444444444444,\"#bd3786\"],[0.5555555555555556,\"#d8576b\"],[0.6666666666666666,\"#ed7953\"],[0.7777777777777778,\"#fb9f3a\"],[0.8888888888888888,\"#fdca26\"],[1.0,\"#f0f921\"]]}],\"mesh3d\":[{\"type\":\"mesh3d\",\"colorbar\":{\"outlinewidth\":0,\"ticks\":\"\"}}],\"scatter\":[{\"fillpattern\":{\"fillmode\":\"overlay\",\"size\":10,\"solidity\":0.2},\"type\":\"scatter\"}],\"parcoords\":[{\"type\":\"parcoords\",\"line\":{\"colorbar\":{\"outlinewidth\":0,\"ticks\":\"\"}}}],\"scatterpolargl\":[{\"type\":\"scatterpolargl\",\"marker\":{\"colorbar\":{\"outlinewidth\":0,\"ticks\":\"\"}}}],\"bar\":[{\"error_x\":{\"color\":\"#2a3f5f\"},\"error_y\":{\"color\":\"#2a3f5f\"},\"marker\":{\"line\":{\"color\":\"#E5ECF6\",\"width\":0.5},\"pattern\":{\"fillmode\":\"overlay\",\"size\":10,\"solidity\":0.2}},\"type\":\"bar\"}],\"scattergeo\":[{\"type\":\"scattergeo\",\"marker\":{\"colorbar\":{\"outlinewidth\":0,\"ticks\":\"\"}}}],\"scatterpolar\":[{\"type\":\"scatterpolar\",\"marker\":{\"colorbar\":{\"outlinewidth\":0,\"ticks\":\"\"}}}],\"histogram\":[{\"marker\":{\"pattern\":{\"fillmode\":\"overlay\",\"size\":10,\"solidity\":0.2}},\"type\":\"histogram\"}],\"scattergl\":[{\"type\":\"scattergl\",\"marker\":{\"colorbar\":{\"outlinewidth\":0,\"ticks\":\"\"}}}],\"scatter3d\":[{\"type\":\"scatter3d\",\"line\":{\"colorbar\":{\"outlinewidth\":0,\"ticks\":\"\"}},\"marker\":{\"colorbar\":{\"outlinewidth\":0,\"ticks\":\"\"}}}],\"scattermapbox\":[{\"type\":\"scattermapbox\",\"marker\":{\"colorbar\":{\"outlinewidth\":0,\"ticks\":\"\"}}}],\"scatterternary\":[{\"type\":\"scatterternary\",\"marker\":{\"colorbar\":{\"outlinewidth\":0,\"ticks\":\"\"}}}],\"scattercarpet\":[{\"type\":\"scattercarpet\",\"marker\":{\"colorbar\":{\"outlinewidth\":0,\"ticks\":\"\"}}}],\"carpet\":[{\"aaxis\":{\"endlinecolor\":\"#2a3f5f\",\"gridcolor\":\"white\",\"linecolor\":\"white\",\"minorgridcolor\":\"white\",\"startlinecolor\":\"#2a3f5f\"},\"baxis\":{\"endlinecolor\":\"#2a3f5f\",\"gridcolor\":\"white\",\"linecolor\":\"white\",\"minorgridcolor\":\"white\",\"startlinecolor\":\"#2a3f5f\"},\"type\":\"carpet\"}],\"table\":[{\"cells\":{\"fill\":{\"color\":\"#EBF0F8\"},\"line\":{\"color\":\"white\"}},\"header\":{\"fill\":{\"color\":\"#C8D4E3\"},\"line\":{\"color\":\"white\"}},\"type\":\"table\"}],\"barpolar\":[{\"marker\":{\"line\":{\"color\":\"#E5ECF6\",\"width\":0.5},\"pattern\":{\"fillmode\":\"overlay\",\"size\":10,\"solidity\":0.2}},\"type\":\"barpolar\"}],\"pie\":[{\"automargin\":true,\"type\":\"pie\"}]},\"layout\":{\"autotypenumbers\":\"strict\",\"colorway\":[\"#636efa\",\"#EF553B\",\"#00cc96\",\"#ab63fa\",\"#FFA15A\",\"#19d3f3\",\"#FF6692\",\"#B6E880\",\"#FF97FF\",\"#FECB52\"],\"font\":{\"color\":\"#2a3f5f\"},\"hovermode\":\"closest\",\"hoverlabel\":{\"align\":\"left\"},\"paper_bgcolor\":\"white\",\"plot_bgcolor\":\"#E5ECF6\",\"polar\":{\"bgcolor\":\"#E5ECF6\",\"angularaxis\":{\"gridcolor\":\"white\",\"linecolor\":\"white\",\"ticks\":\"\"},\"radialaxis\":{\"gridcolor\":\"white\",\"linecolor\":\"white\",\"ticks\":\"\"}},\"ternary\":{\"bgcolor\":\"#E5ECF6\",\"aaxis\":{\"gridcolor\":\"white\",\"linecolor\":\"white\",\"ticks\":\"\"},\"baxis\":{\"gridcolor\":\"white\",\"linecolor\":\"white\",\"ticks\":\"\"},\"caxis\":{\"gridcolor\":\"white\",\"linecolor\":\"white\",\"ticks\":\"\"}},\"coloraxis\":{\"colorbar\":{\"outlinewidth\":0,\"ticks\":\"\"}},\"colorscale\":{\"sequential\":[[0.0,\"#0d0887\"],[0.1111111111111111,\"#46039f\"],[0.2222222222222222,\"#7201a8\"],[0.3333333333333333,\"#9c179e\"],[0.4444444444444444,\"#bd3786\"],[0.5555555555555556,\"#d8576b\"],[0.6666666666666666,\"#ed7953\"],[0.7777777777777778,\"#fb9f3a\"],[0.8888888888888888,\"#fdca26\"],[1.0,\"#f0f921\"]],\"sequentialminus\":[[0.0,\"#0d0887\"],[0.1111111111111111,\"#46039f\"],[0.2222222222222222,\"#7201a8\"],[0.3333333333333333,\"#9c179e\"],[0.4444444444444444,\"#bd3786\"],[0.5555555555555556,\"#d8576b\"],[0.6666666666666666,\"#ed7953\"],[0.7777777777777778,\"#fb9f3a\"],[0.8888888888888888,\"#fdca26\"],[1.0,\"#f0f921\"]],\"diverging\":[[0,\"#8e0152\"],[0.1,\"#c51b7d\"],[0.2,\"#de77ae\"],[0.3,\"#f1b6da\"],[0.4,\"#fde0ef\"],[0.5,\"#f7f7f7\"],[0.6,\"#e6f5d0\"],[0.7,\"#b8e186\"],[0.8,\"#7fbc41\"],[0.9,\"#4d9221\"],[1,\"#276419\"]]},\"xaxis\":{\"gridcolor\":\"white\",\"linecolor\":\"white\",\"ticks\":\"\",\"title\":{\"standoff\":15},\"zerolinecolor\":\"white\",\"automargin\":true,\"zerolinewidth\":2},\"yaxis\":{\"gridcolor\":\"white\",\"linecolor\":\"white\",\"ticks\":\"\",\"title\":{\"standoff\":15},\"zerolinecolor\":\"white\",\"automargin\":true,\"zerolinewidth\":2},\"scene\":{\"xaxis\":{\"backgroundcolor\":\"#E5ECF6\",\"gridcolor\":\"white\",\"linecolor\":\"white\",\"showbackground\":true,\"ticks\":\"\",\"zerolinecolor\":\"white\",\"gridwidth\":2},\"yaxis\":{\"backgroundcolor\":\"#E5ECF6\",\"gridcolor\":\"white\",\"linecolor\":\"white\",\"showbackground\":true,\"ticks\":\"\",\"zerolinecolor\":\"white\",\"gridwidth\":2},\"zaxis\":{\"backgroundcolor\":\"#E5ECF6\",\"gridcolor\":\"white\",\"linecolor\":\"white\",\"showbackground\":true,\"ticks\":\"\",\"zerolinecolor\":\"white\",\"gridwidth\":2}},\"shapedefaults\":{\"line\":{\"color\":\"#2a3f5f\"}},\"annotationdefaults\":{\"arrowcolor\":\"#2a3f5f\",\"arrowhead\":0,\"arrowwidth\":1},\"geo\":{\"bgcolor\":\"white\",\"landcolor\":\"#E5ECF6\",\"subunitcolor\":\"white\",\"showland\":true,\"showlakes\":true,\"lakecolor\":\"white\"},\"title\":{\"x\":0.05},\"mapbox\":{\"style\":\"light\"}}}},                        {\"responsive\": true}                    ).then(function(){\n",
              "                            \n",
              "var gd = document.getElementById('6e5ac0f0-f24d-4407-add1-1da30de8e829');\n",
              "var x = new MutationObserver(function (mutations, observer) {{\n",
              "        var display = window.getComputedStyle(gd).display;\n",
              "        if (!display || display === 'none') {{\n",
              "            console.log([gd, 'removed!']);\n",
              "            Plotly.purge(gd);\n",
              "            observer.disconnect();\n",
              "        }}\n",
              "}});\n",
              "\n",
              "// Listen for the removal of the full notebook cells\n",
              "var notebookContainer = gd.closest('#notebook-container');\n",
              "if (notebookContainer) {{\n",
              "    x.observe(notebookContainer, {childList: true});\n",
              "}}\n",
              "\n",
              "// Listen for the clearing of the current output cell\n",
              "var outputEl = gd.closest('.output');\n",
              "if (outputEl) {{\n",
              "    x.observe(outputEl, {childList: true});\n",
              "}}\n",
              "\n",
              "                        })                };                            </script>        </div>\n",
              "</body>\n",
              "</html>"
            ]
          },
          "metadata": {}
        }
      ]
    },
    {
      "cell_type": "code",
      "source": [
        "# ベストパラメータを使ってモデルの訓練\n",
        "\n",
        "# Best trial: {'learning_rate': 0.12383207707591747, 'min_child_weight': 5, 'max_depth': 4, 'colsample_bytree': 0.46905238052158094, 'subsample': 0.8236466968757384, 'reg_alpha': 0.003685214348877713, 'reg_lambda': 0.05253824861610229, 'gamma': 0.0002250569171273546}\n",
        "# Best score: 0.491854649903965\n",
        "\n",
        "params = {\n",
        "    'learning_rate': 0.12383207707591747,\n",
        "    'min_child_weight': 5,\n",
        "    'max_depth': 4,\n",
        "    'colsample_bytree': 0.46905238052158094,\n",
        "    'subsample': 0.8236466968757384,\n",
        "    'reg_alpha': 0.003685214348877713,\n",
        "    'reg_lambda': 0.05253824861610229,\n",
        "    'gamma': 0.0002250569171273546\n",
        "    }\n",
        "\n",
        "xgb_model = XGBClassifier(**params, objective='multiclass', random_state=42, n_jobs=-1)\n",
        "xgb_model.fit(X, y)\n",
        "\n",
        "# テストデータでの推論\n",
        "xgb_pred = xgb_model.predict(df_test)\n",
        "\n",
        "print(xgb_pred.shape)\n",
        "print(xgb_pred)"
      ],
      "metadata": {
        "colab": {
          "base_uri": "https://localhost:8080/"
        },
        "id": "pEvWtAGCeCOw",
        "outputId": "1dffc01a-abc0-4630-f6bd-ba68c4f3ef19"
      },
      "execution_count": 59,
      "outputs": [
        {
          "output_type": "stream",
          "name": "stdout",
          "text": [
            "(800,)\n",
            "[3 0 3 1 0 3 0 2 1 1 2 2 3 1 2 3 1 3 0 1 2 1 2 3 1 1 3 1 3 2 0 3 3 2 1 2 0\n",
            " 0 0 0 3 3 1 0 2 2 3 2 2 2 2 2 3 1 1 1 2 0 3 2 0 1 2 1 2 2 2 2 1 1 0 1 2 2\n",
            " 3 1 0 0 2 2 1 1 0 2 2 3 2 1 0 0 3 2 1 3 1 2 1 0 2 2 0 1 0 2 2 0 3 2 3 1 2\n",
            " 0 2 0 1 3 3 1 0 1 0 3 1 1 0 1 2 2 0 2 1 0 1 2 2 3 0 2 1 3 2 3 2 3 2 3 3 1\n",
            " 2 1 2 2 2 2 3 1 2 2 3 3 2 3 2 1 2 3 0 3 1 1 2 3 1 3 2 1 2 1 2 1 2 2 0 0 2\n",
            " 2 1 3 2 2 3 1 2 3 1 0 3 1 2 0 3 2 0 2 2 3 2 1 1 1 1 1 1 1 1 2 2 2 3 2 2 0\n",
            " 1 1 1 1 1 2 1 1 3 1 2 0 0 3 2 2 2 2 2 0 0 0 3 0 0 2 3 0 0 3 2 1 3 2 0 1 3\n",
            " 0 3 2 3 2 1 3 2 3 1 2 1 2 1 2 0 0 2 1 2 1 1 2 0 3 2 1 2 3 0 3 2 2 1 3 1 3\n",
            " 2 3 2 2 0 1 2 0 1 2 2 1 3 3 2 1 1 2 2 1 2 2 0 1 2 1 2 3 0 2 1 3 1 2 0 1 1\n",
            " 1 2 1 3 2 2 2 3 3 3 2 1 3 1 2 3 3 2 2 2 0 3 1 3 3 2 1 0 1 1 1 1 0 2 1 3 2\n",
            " 1 3 1 2 2 1 3 3 3 1 1 2 3 1 2 2 1 2 3 2 1 3 2 0 3 2 3 2 3 2 0 0 3 0 1 3 3\n",
            " 2 1 2 1 0 1 3 2 1 3 2 1 3 2 2 0 2 1 0 1 3 0 1 3 2 1 1 2 0 1 2 0 0 3 3 1 2\n",
            " 3 3 1 1 3 1 2 0 2 2 3 3 0 3 2 1 2 3 2 2 2 3 0 1 2 0 1 2 0 2 2 3 3 2 1 0 2\n",
            " 0 1 2 2 1 3 3 3 1 2 0 0 2 1 1 1 2 3 3 1 3 0 1 0 1 3 2 1 2 1 2 3 3 2 1 0 3\n",
            " 0 3 1 0 1 3 2 3 2 3 2 1 0 1 0 2 2 2 2 2 1 2 3 1 2 1 1 1 0 2 2 2 1 2 3 2 3\n",
            " 2 2 3 1 3 3 0 2 1 2 1 2 2 1 1 0 0 1 1 2 2 1 2 0 1 1 3 3 2 1 1 3 3 2 1 0 1\n",
            " 3 2 1 1 1 3 3 1 2 2 0 2 2 3 1 3 2 1 0 3 1 0 1 3 1 1 1 1 0 1 1 2 0 3 2 1 2\n",
            " 2 1 0 1 1 3 2 1 3 3 2 3 2 2 1 3 2 1 0 2 1 3 1 1 1 1 3 3 3 0 1 2 1 2 1 1 2\n",
            " 1 2 0 1 2 2 1 1 1 2 3 0 1 1 2 2 3 1 2 2 2 2 0 2 2 2 3 3 2 1 2 1 3 1 2 1 3\n",
            " 1 1 3 1 2 1 0 2 2 1 0 3 2 1 3 2 2 1 1 3 1 2 1 0 3 3 2 0 3 1 1 1 2 1 1 2 3\n",
            " 3 1 0 0 3 3 0 0 1 2 1 3 2 1 2 1 2 2 1 1 3 1 0 3 3 1 1 3 1 0 0 2 2 2 3 1 2\n",
            " 1 1 3 3 0 2 3 1 2 1 1 3 1 3 2 1 3 3 0 1 3 2 2]\n"
          ]
        }
      ]
    },
    {
      "cell_type": "markdown",
      "source": [
        "### 4. LightGBM"
      ],
      "metadata": {
        "id": "8sq_9LupgDdg"
      }
    },
    {
      "cell_type": "code",
      "source": [
        "import time\n",
        "start = time.time()\n",
        "\n",
        "def objective(trial):\n",
        "    X_train, X_valid, y_train, y_valid = train_test_split(X, y, test_size=0.2, random_state=42, stratify=y)\n",
        "    dtrain = lgb.Dataset(X_train, label=y_train)\n",
        "    dvalid = lgb.Dataset(X_valid, label=y_valid, reference=dtrain)\n",
        "\n",
        "    param = {\n",
        "        'objective': 'multiclass',\n",
        "        'metric': 'multi_logloss',\n",
        "        'num_class': 4,\n",
        "        'num_iterations': trial.suggest_int('num_iterations', 100, 1000),\n",
        "        'learning_rate': trial.suggest_float('learning_rate', 1e-3, 1.0, log=True),\n",
        "        'lambda_l1': trial.suggest_float('lambda_l1', 1e-8, 10.0),\n",
        "        'lambda_l2': trial.suggest_float('lambda_l2', 1e-8, 10.0),\n",
        "        'num_leaves': trial.suggest_int('num_leaves', 2, 256),\n",
        "        'feature_fraction': trial.suggest_float('feature_fraction', 0.4, 1.0),\n",
        "        'bagging_fraction': trial.suggest_float('bagging_fraction', 0.4, 1.0),\n",
        "        'bagging_freq': trial.suggest_int('bagging_freq', 1, 7),\n",
        "        'min_child_samples': trial.suggest_int('min_child_samples', 5, 100),\n",
        "        'random_state': 42,\n",
        "        'verbose': -1,\n",
        "        'n_jobs': -1\n",
        "    }\n",
        "\n",
        "    verbose_eval = 0\n",
        "\n",
        "    gbm = lgb.train(param, dtrain, valid_sets=[dvalid],\n",
        "                    callbacks=[\n",
        "            lgb.early_stopping(stopping_rounds=10, verbose=True),\n",
        "            lgb.log_evaluation(verbose_eval)\n",
        "        ])\n",
        "    preds = gbm.predict(X_valid).astype(np.float32)\n",
        "    pred_labels = np.argmax(preds, axis=1)\n",
        "    f1_macro = f1_score(y_valid, pred_labels, average='macro')\n",
        "    return f1_macro\n",
        "\n",
        "study = optuna.create_study(direction='maximize')\n",
        "# optuna.logging.set_verbosity(optuna.logging.CRITICAL)\n",
        "study.optimize(objective, n_trials=100)\n",
        "\n",
        "print('\\nNumber of finished trials:', len(study.trials))\n",
        "print('Best trial:', study.best_trial.params)\n",
        "print('Best score: ', study.best_trial.value)\n",
        "\n",
        "print(f'所要時間{time.time() - start}秒')"
      ],
      "metadata": {
        "colab": {
          "base_uri": "https://localhost:8080/"
        },
        "collapsed": true,
        "id": "1ccVbvlm3EBk",
        "outputId": "efa4e60d-0699-4e09-e0d6-f09fdb88e561"
      },
      "execution_count": null,
      "outputs": [
        {
          "output_type": "stream",
          "name": "stderr",
          "text": [
            "/usr/local/lib/python3.10/dist-packages/lightgbm/engine.py:172: UserWarning:\n",
            "\n",
            "Found `num_iterations` in params. Will use it instead of argument\n",
            "\n"
          ]
        },
        {
          "output_type": "stream",
          "name": "stdout",
          "text": [
            "Training until validation scores don't improve for 10 rounds\n",
            "Early stopping, best iteration is:\n",
            "[14]\tvalid_0's multi_logloss: 1.06621\n",
            "Training until validation scores don't improve for 10 rounds\n"
          ]
        },
        {
          "output_type": "stream",
          "name": "stderr",
          "text": [
            "/usr/local/lib/python3.10/dist-packages/lightgbm/engine.py:172: UserWarning:\n",
            "\n",
            "Found `num_iterations` in params. Will use it instead of argument\n",
            "\n"
          ]
        },
        {
          "output_type": "stream",
          "name": "stdout",
          "text": [
            "Did not meet early stopping. Best iteration is:\n",
            "[197]\tvalid_0's multi_logloss: 1.07456\n"
          ]
        },
        {
          "output_type": "stream",
          "name": "stderr",
          "text": [
            "/usr/local/lib/python3.10/dist-packages/lightgbm/engine.py:172: UserWarning:\n",
            "\n",
            "Found `num_iterations` in params. Will use it instead of argument\n",
            "\n"
          ]
        },
        {
          "output_type": "stream",
          "name": "stdout",
          "text": [
            "Training until validation scores don't improve for 10 rounds\n",
            "Early stopping, best iteration is:\n",
            "[181]\tvalid_0's multi_logloss: 1.04251\n"
          ]
        },
        {
          "output_type": "stream",
          "name": "stderr",
          "text": [
            "/usr/local/lib/python3.10/dist-packages/lightgbm/engine.py:172: UserWarning:\n",
            "\n",
            "Found `num_iterations` in params. Will use it instead of argument\n",
            "\n"
          ]
        },
        {
          "output_type": "stream",
          "name": "stdout",
          "text": [
            "Training until validation scores don't improve for 10 rounds\n",
            "Early stopping, best iteration is:\n",
            "[102]\tvalid_0's multi_logloss: 1.06159\n"
          ]
        },
        {
          "output_type": "stream",
          "name": "stderr",
          "text": [
            "/usr/local/lib/python3.10/dist-packages/lightgbm/engine.py:172: UserWarning:\n",
            "\n",
            "Found `num_iterations` in params. Will use it instead of argument\n",
            "\n"
          ]
        },
        {
          "output_type": "stream",
          "name": "stdout",
          "text": [
            "Training until validation scores don't improve for 10 rounds\n",
            "Did not meet early stopping. Best iteration is:\n",
            "[402]\tvalid_0's multi_logloss: 1.06058\n"
          ]
        },
        {
          "output_type": "stream",
          "name": "stderr",
          "text": [
            "/usr/local/lib/python3.10/dist-packages/lightgbm/engine.py:172: UserWarning:\n",
            "\n",
            "Found `num_iterations` in params. Will use it instead of argument\n",
            "\n"
          ]
        },
        {
          "output_type": "stream",
          "name": "stdout",
          "text": [
            "Training until validation scores don't improve for 10 rounds\n",
            "Did not meet early stopping. Best iteration is:\n",
            "[664]\tvalid_0's multi_logloss: 1.16288\n"
          ]
        },
        {
          "output_type": "stream",
          "name": "stderr",
          "text": [
            "/usr/local/lib/python3.10/dist-packages/lightgbm/engine.py:172: UserWarning:\n",
            "\n",
            "Found `num_iterations` in params. Will use it instead of argument\n",
            "\n"
          ]
        },
        {
          "output_type": "stream",
          "name": "stdout",
          "text": [
            "Training until validation scores don't improve for 10 rounds\n",
            "Did not meet early stopping. Best iteration is:\n",
            "[181]\tvalid_0's multi_logloss: 1.27719\n",
            "Training until validation scores don't improve for 10 rounds\n"
          ]
        },
        {
          "output_type": "stream",
          "name": "stderr",
          "text": [
            "/usr/local/lib/python3.10/dist-packages/lightgbm/engine.py:172: UserWarning:\n",
            "\n",
            "Found `num_iterations` in params. Will use it instead of argument\n",
            "\n"
          ]
        },
        {
          "output_type": "stream",
          "name": "stdout",
          "text": [
            "Early stopping, best iteration is:\n",
            "[209]\tvalid_0's multi_logloss: 1.04818\n",
            "Training until validation scores don't improve for 10 rounds\n",
            "Early stopping, best iteration is:\n",
            "[12]\tvalid_0's multi_logloss: 1.06365\n"
          ]
        },
        {
          "output_type": "stream",
          "name": "stderr",
          "text": [
            "/usr/local/lib/python3.10/dist-packages/lightgbm/engine.py:172: UserWarning:\n",
            "\n",
            "Found `num_iterations` in params. Will use it instead of argument\n",
            "\n",
            "/usr/local/lib/python3.10/dist-packages/lightgbm/engine.py:172: UserWarning:\n",
            "\n",
            "Found `num_iterations` in params. Will use it instead of argument\n",
            "\n"
          ]
        },
        {
          "output_type": "stream",
          "name": "stdout",
          "text": [
            "Training until validation scores don't improve for 10 rounds\n",
            "Did not meet early stopping. Best iteration is:\n",
            "[466]\tvalid_0's multi_logloss: 1.07106\n"
          ]
        },
        {
          "output_type": "stream",
          "name": "stderr",
          "text": [
            "/usr/local/lib/python3.10/dist-packages/lightgbm/engine.py:172: UserWarning:\n",
            "\n",
            "Found `num_iterations` in params. Will use it instead of argument\n",
            "\n"
          ]
        },
        {
          "output_type": "stream",
          "name": "stdout",
          "text": [
            "Training until validation scores don't improve for 10 rounds\n",
            "Early stopping, best iteration is:\n",
            "[28]\tvalid_0's multi_logloss: 1.04973\n"
          ]
        },
        {
          "output_type": "stream",
          "name": "stderr",
          "text": [
            "/usr/local/lib/python3.10/dist-packages/lightgbm/engine.py:172: UserWarning:\n",
            "\n",
            "Found `num_iterations` in params. Will use it instead of argument\n",
            "\n"
          ]
        },
        {
          "output_type": "stream",
          "name": "stdout",
          "text": [
            "Training until validation scores don't improve for 10 rounds\n",
            "Early stopping, best iteration is:\n",
            "[18]\tvalid_0's multi_logloss: 1.05671\n"
          ]
        },
        {
          "output_type": "stream",
          "name": "stderr",
          "text": [
            "/usr/local/lib/python3.10/dist-packages/lightgbm/engine.py:172: UserWarning:\n",
            "\n",
            "Found `num_iterations` in params. Will use it instead of argument\n",
            "\n",
            "/usr/local/lib/python3.10/dist-packages/lightgbm/engine.py:172: UserWarning:\n",
            "\n",
            "Found `num_iterations` in params. Will use it instead of argument\n",
            "\n"
          ]
        },
        {
          "output_type": "stream",
          "name": "stdout",
          "text": [
            "Training until validation scores don't improve for 10 rounds\n",
            "Early stopping, best iteration is:\n",
            "[13]\tvalid_0's multi_logloss: 1.07\n",
            "Training until validation scores don't improve for 10 rounds\n",
            "Early stopping, best iteration is:\n",
            "[54]\tvalid_0's multi_logloss: 1.05135\n",
            "Training until validation scores don't improve for 10 rounds\n"
          ]
        },
        {
          "output_type": "stream",
          "name": "stderr",
          "text": [
            "/usr/local/lib/python3.10/dist-packages/lightgbm/engine.py:172: UserWarning:\n",
            "\n",
            "Found `num_iterations` in params. Will use it instead of argument\n",
            "\n"
          ]
        },
        {
          "output_type": "stream",
          "name": "stdout",
          "text": [
            "Did not meet early stopping. Best iteration is:\n",
            "[292]\tvalid_0's multi_logloss: 1.06423\n",
            "Training until validation scores don't improve for 10 rounds\n"
          ]
        },
        {
          "output_type": "stream",
          "name": "stderr",
          "text": [
            "/usr/local/lib/python3.10/dist-packages/lightgbm/engine.py:172: UserWarning:\n",
            "\n",
            "Found `num_iterations` in params. Will use it instead of argument\n",
            "\n",
            "/usr/local/lib/python3.10/dist-packages/lightgbm/engine.py:172: UserWarning:\n",
            "\n",
            "Found `num_iterations` in params. Will use it instead of argument\n",
            "\n"
          ]
        },
        {
          "output_type": "stream",
          "name": "stdout",
          "text": [
            "Early stopping, best iteration is:\n",
            "[26]\tvalid_0's multi_logloss: 1.05293\n",
            "Training until validation scores don't improve for 10 rounds\n",
            "Did not meet early stopping. Best iteration is:\n",
            "[109]\tvalid_0's multi_logloss: 1.03555\n",
            "Training until validation scores don't improve for 10 rounds\n"
          ]
        },
        {
          "output_type": "stream",
          "name": "stderr",
          "text": [
            "/usr/local/lib/python3.10/dist-packages/lightgbm/engine.py:172: UserWarning:\n",
            "\n",
            "Found `num_iterations` in params. Will use it instead of argument\n",
            "\n"
          ]
        },
        {
          "output_type": "stream",
          "name": "stdout",
          "text": [
            "Did not meet early stopping. Best iteration is:\n",
            "[410]\tvalid_0's multi_logloss: 1.09971\n",
            "Training until validation scores don't improve for 10 rounds\n"
          ]
        },
        {
          "output_type": "stream",
          "name": "stderr",
          "text": [
            "/usr/local/lib/python3.10/dist-packages/lightgbm/engine.py:172: UserWarning:\n",
            "\n",
            "Found `num_iterations` in params. Will use it instead of argument\n",
            "\n"
          ]
        },
        {
          "output_type": "stream",
          "name": "stdout",
          "text": [
            "Did not meet early stopping. Best iteration is:\n",
            "[270]\tvalid_0's multi_logloss: 1.05121\n",
            "Training until validation scores don't improve for 10 rounds\n"
          ]
        },
        {
          "output_type": "stream",
          "name": "stderr",
          "text": [
            "/usr/local/lib/python3.10/dist-packages/lightgbm/engine.py:172: UserWarning:\n",
            "\n",
            "Found `num_iterations` in params. Will use it instead of argument\n",
            "\n",
            "/usr/local/lib/python3.10/dist-packages/lightgbm/engine.py:172: UserWarning:\n",
            "\n",
            "Found `num_iterations` in params. Will use it instead of argument\n",
            "\n"
          ]
        },
        {
          "output_type": "stream",
          "name": "stdout",
          "text": [
            "Early stopping, best iteration is:\n",
            "[12]\tvalid_0's multi_logloss: 1.09365\n",
            "Training until validation scores don't improve for 10 rounds\n",
            "Did not meet early stopping. Best iteration is:\n",
            "[428]\tvalid_0's multi_logloss: 1.14298\n"
          ]
        },
        {
          "output_type": "stream",
          "name": "stderr",
          "text": [
            "/usr/local/lib/python3.10/dist-packages/lightgbm/engine.py:172: UserWarning:\n",
            "\n",
            "Found `num_iterations` in params. Will use it instead of argument\n",
            "\n"
          ]
        },
        {
          "output_type": "stream",
          "name": "stdout",
          "text": [
            "Training until validation scores don't improve for 10 rounds\n",
            "Early stopping, best iteration is:\n",
            "[219]\tvalid_0's multi_logloss: 1.05253\n"
          ]
        },
        {
          "output_type": "stream",
          "name": "stderr",
          "text": [
            "/usr/local/lib/python3.10/dist-packages/lightgbm/engine.py:172: UserWarning:\n",
            "\n",
            "Found `num_iterations` in params. Will use it instead of argument\n",
            "\n"
          ]
        },
        {
          "output_type": "stream",
          "name": "stdout",
          "text": [
            "Training until validation scores don't improve for 10 rounds\n",
            "Early stopping, best iteration is:\n",
            "[163]\tvalid_0's multi_logloss: 1.04517\n",
            "Training until validation scores don't improve for 10 rounds\n"
          ]
        },
        {
          "output_type": "stream",
          "name": "stderr",
          "text": [
            "/usr/local/lib/python3.10/dist-packages/lightgbm/engine.py:172: UserWarning:\n",
            "\n",
            "Found `num_iterations` in params. Will use it instead of argument\n",
            "\n"
          ]
        },
        {
          "output_type": "stream",
          "name": "stdout",
          "text": [
            "Early stopping, best iteration is:\n",
            "[141]\tvalid_0's multi_logloss: 1.03476\n"
          ]
        },
        {
          "output_type": "stream",
          "name": "stderr",
          "text": [
            "/usr/local/lib/python3.10/dist-packages/lightgbm/engine.py:172: UserWarning:\n",
            "\n",
            "Found `num_iterations` in params. Will use it instead of argument\n",
            "\n",
            "/usr/local/lib/python3.10/dist-packages/lightgbm/engine.py:172: UserWarning:\n",
            "\n",
            "Found `num_iterations` in params. Will use it instead of argument\n",
            "\n"
          ]
        },
        {
          "output_type": "stream",
          "name": "stdout",
          "text": [
            "Training until validation scores don't improve for 10 rounds\n",
            "Early stopping, best iteration is:\n",
            "[45]\tvalid_0's multi_logloss: 1.05313\n",
            "Training until validation scores don't improve for 10 rounds\n",
            "Early stopping, best iteration is:\n",
            "[150]\tvalid_0's multi_logloss: 1.04584\n",
            "Training until validation scores don't improve for 10 rounds\n",
            "Early stopping, best iteration is:\n",
            "[12]\tvalid_0's multi_logloss: 1.07133\n"
          ]
        },
        {
          "output_type": "stream",
          "name": "stderr",
          "text": [
            "/usr/local/lib/python3.10/dist-packages/lightgbm/engine.py:172: UserWarning:\n",
            "\n",
            "Found `num_iterations` in params. Will use it instead of argument\n",
            "\n",
            "/usr/local/lib/python3.10/dist-packages/lightgbm/engine.py:172: UserWarning:\n",
            "\n",
            "Found `num_iterations` in params. Will use it instead of argument\n",
            "\n"
          ]
        },
        {
          "output_type": "stream",
          "name": "stdout",
          "text": [
            "Training until validation scores don't improve for 10 rounds\n",
            "Early stopping, best iteration is:\n",
            "[51]\tvalid_0's multi_logloss: 1.03325\n",
            "Training until validation scores don't improve for 10 rounds\n",
            "Early stopping, best iteration is:\n",
            "[21]\tvalid_0's multi_logloss: 1.05408\n"
          ]
        },
        {
          "output_type": "stream",
          "name": "stderr",
          "text": [
            "/usr/local/lib/python3.10/dist-packages/lightgbm/engine.py:172: UserWarning:\n",
            "\n",
            "Found `num_iterations` in params. Will use it instead of argument\n",
            "\n",
            "/usr/local/lib/python3.10/dist-packages/lightgbm/engine.py:172: UserWarning:\n",
            "\n",
            "Found `num_iterations` in params. Will use it instead of argument\n",
            "\n"
          ]
        },
        {
          "output_type": "stream",
          "name": "stdout",
          "text": [
            "Training until validation scores don't improve for 10 rounds\n",
            "Early stopping, best iteration is:\n",
            "[68]\tvalid_0's multi_logloss: 1.02162\n",
            "Training until validation scores don't improve for 10 rounds\n"
          ]
        },
        {
          "output_type": "stream",
          "name": "stderr",
          "text": [
            "/usr/local/lib/python3.10/dist-packages/lightgbm/engine.py:172: UserWarning:\n",
            "\n",
            "Found `num_iterations` in params. Will use it instead of argument\n",
            "\n",
            "/usr/local/lib/python3.10/dist-packages/lightgbm/engine.py:172: UserWarning:\n",
            "\n",
            "Found `num_iterations` in params. Will use it instead of argument\n",
            "\n"
          ]
        },
        {
          "output_type": "stream",
          "name": "stdout",
          "text": [
            "Early stopping, best iteration is:\n",
            "[38]\tvalid_0's multi_logloss: 1.04293\n",
            "Training until validation scores don't improve for 10 rounds\n",
            "Early stopping, best iteration is:\n",
            "[98]\tvalid_0's multi_logloss: 1.03874\n",
            "Training until validation scores don't improve for 10 rounds\n"
          ]
        },
        {
          "output_type": "stream",
          "name": "stderr",
          "text": [
            "/usr/local/lib/python3.10/dist-packages/lightgbm/engine.py:172: UserWarning:\n",
            "\n",
            "Found `num_iterations` in params. Will use it instead of argument\n",
            "\n"
          ]
        },
        {
          "output_type": "stream",
          "name": "stdout",
          "text": [
            "Early stopping, best iteration is:\n",
            "[77]\tvalid_0's multi_logloss: 1.04054\n",
            "Training until validation scores don't improve for 10 rounds\n",
            "Early stopping, best iteration is:\n",
            "[29]\tvalid_0's multi_logloss: 1.06491\n"
          ]
        },
        {
          "output_type": "stream",
          "name": "stderr",
          "text": [
            "/usr/local/lib/python3.10/dist-packages/lightgbm/engine.py:172: UserWarning:\n",
            "\n",
            "Found `num_iterations` in params. Will use it instead of argument\n",
            "\n",
            "/usr/local/lib/python3.10/dist-packages/lightgbm/engine.py:172: UserWarning:\n",
            "\n",
            "Found `num_iterations` in params. Will use it instead of argument\n",
            "\n"
          ]
        },
        {
          "output_type": "stream",
          "name": "stdout",
          "text": [
            "Training until validation scores don't improve for 10 rounds\n",
            "Early stopping, best iteration is:\n",
            "[42]\tvalid_0's multi_logloss: 1.05187\n",
            "Training until validation scores don't improve for 10 rounds\n"
          ]
        },
        {
          "output_type": "stream",
          "name": "stderr",
          "text": [
            "/usr/local/lib/python3.10/dist-packages/lightgbm/engine.py:172: UserWarning:\n",
            "\n",
            "Found `num_iterations` in params. Will use it instead of argument\n",
            "\n",
            "/usr/local/lib/python3.10/dist-packages/lightgbm/engine.py:172: UserWarning:\n",
            "\n",
            "Found `num_iterations` in params. Will use it instead of argument\n",
            "\n"
          ]
        },
        {
          "output_type": "stream",
          "name": "stdout",
          "text": [
            "Early stopping, best iteration is:\n",
            "[124]\tvalid_0's multi_logloss: 1.05534\n",
            "Training until validation scores don't improve for 10 rounds\n",
            "Early stopping, best iteration is:\n",
            "[386]\tvalid_0's multi_logloss: 1.04172\n",
            "Training until validation scores don't improve for 10 rounds\n"
          ]
        },
        {
          "output_type": "stream",
          "name": "stderr",
          "text": [
            "/usr/local/lib/python3.10/dist-packages/lightgbm/engine.py:172: UserWarning:\n",
            "\n",
            "Found `num_iterations` in params. Will use it instead of argument\n",
            "\n"
          ]
        },
        {
          "output_type": "stream",
          "name": "stdout",
          "text": [
            "Early stopping, best iteration is:\n",
            "[119]\tvalid_0's multi_logloss: 1.03416\n",
            "Training until validation scores don't improve for 10 rounds\n"
          ]
        },
        {
          "output_type": "stream",
          "name": "stderr",
          "text": [
            "/usr/local/lib/python3.10/dist-packages/lightgbm/engine.py:172: UserWarning:\n",
            "\n",
            "Found `num_iterations` in params. Will use it instead of argument\n",
            "\n"
          ]
        },
        {
          "output_type": "stream",
          "name": "stdout",
          "text": [
            "Early stopping, best iteration is:\n",
            "[86]\tvalid_0's multi_logloss: 1.03721\n",
            "Training until validation scores don't improve for 10 rounds\n"
          ]
        },
        {
          "output_type": "stream",
          "name": "stderr",
          "text": [
            "/usr/local/lib/python3.10/dist-packages/lightgbm/engine.py:172: UserWarning:\n",
            "\n",
            "Found `num_iterations` in params. Will use it instead of argument\n",
            "\n"
          ]
        },
        {
          "output_type": "stream",
          "name": "stdout",
          "text": [
            "Early stopping, best iteration is:\n",
            "[193]\tvalid_0's multi_logloss: 1.04421\n",
            "Training until validation scores don't improve for 10 rounds\n",
            "Early stopping, best iteration is:\n",
            "[13]\tvalid_0's multi_logloss: 1.07634\n"
          ]
        },
        {
          "output_type": "stream",
          "name": "stderr",
          "text": [
            "/usr/local/lib/python3.10/dist-packages/lightgbm/engine.py:172: UserWarning:\n",
            "\n",
            "Found `num_iterations` in params. Will use it instead of argument\n",
            "\n",
            "/usr/local/lib/python3.10/dist-packages/lightgbm/engine.py:172: UserWarning:\n",
            "\n",
            "Found `num_iterations` in params. Will use it instead of argument\n",
            "\n"
          ]
        },
        {
          "output_type": "stream",
          "name": "stdout",
          "text": [
            "Training until validation scores don't improve for 10 rounds\n",
            "Early stopping, best iteration is:\n",
            "[73]\tvalid_0's multi_logloss: 1.04469\n",
            "Training until validation scores don't improve for 10 rounds\n"
          ]
        },
        {
          "output_type": "stream",
          "name": "stderr",
          "text": [
            "/usr/local/lib/python3.10/dist-packages/lightgbm/engine.py:172: UserWarning:\n",
            "\n",
            "Found `num_iterations` in params. Will use it instead of argument\n",
            "\n"
          ]
        },
        {
          "output_type": "stream",
          "name": "stdout",
          "text": [
            "Early stopping, best iteration is:\n",
            "[410]\tvalid_0's multi_logloss: 1.04053\n",
            "Training until validation scores don't improve for 10 rounds\n"
          ]
        },
        {
          "output_type": "stream",
          "name": "stderr",
          "text": [
            "/usr/local/lib/python3.10/dist-packages/lightgbm/engine.py:172: UserWarning:\n",
            "\n",
            "Found `num_iterations` in params. Will use it instead of argument\n",
            "\n"
          ]
        },
        {
          "output_type": "stream",
          "name": "stdout",
          "text": [
            "Early stopping, best iteration is:\n",
            "[156]\tvalid_0's multi_logloss: 1.02909\n",
            "Training until validation scores don't improve for 10 rounds\n",
            "Early stopping, best iteration is:\n",
            "[38]\tvalid_0's multi_logloss: 1.04423\n"
          ]
        },
        {
          "output_type": "stream",
          "name": "stderr",
          "text": [
            "/usr/local/lib/python3.10/dist-packages/lightgbm/engine.py:172: UserWarning:\n",
            "\n",
            "Found `num_iterations` in params. Will use it instead of argument\n",
            "\n",
            "/usr/local/lib/python3.10/dist-packages/lightgbm/engine.py:172: UserWarning:\n",
            "\n",
            "Found `num_iterations` in params. Will use it instead of argument\n",
            "\n"
          ]
        },
        {
          "output_type": "stream",
          "name": "stdout",
          "text": [
            "Training until validation scores don't improve for 10 rounds\n",
            "Early stopping, best iteration is:\n",
            "[26]\tvalid_0's multi_logloss: 1.04916\n",
            "Training until validation scores don't improve for 10 rounds\n"
          ]
        },
        {
          "output_type": "stream",
          "name": "stderr",
          "text": [
            "/usr/local/lib/python3.10/dist-packages/lightgbm/engine.py:172: UserWarning:\n",
            "\n",
            "Found `num_iterations` in params. Will use it instead of argument\n",
            "\n",
            "/usr/local/lib/python3.10/dist-packages/lightgbm/engine.py:172: UserWarning:\n",
            "\n",
            "Found `num_iterations` in params. Will use it instead of argument\n",
            "\n"
          ]
        },
        {
          "output_type": "stream",
          "name": "stdout",
          "text": [
            "Early stopping, best iteration is:\n",
            "[32]\tvalid_0's multi_logloss: 1.04354\n",
            "Training until validation scores don't improve for 10 rounds\n",
            "Early stopping, best iteration is:\n",
            "[23]\tvalid_0's multi_logloss: 1.05069\n"
          ]
        },
        {
          "output_type": "stream",
          "name": "stderr",
          "text": [
            "/usr/local/lib/python3.10/dist-packages/lightgbm/engine.py:172: UserWarning:\n",
            "\n",
            "Found `num_iterations` in params. Will use it instead of argument\n",
            "\n",
            "/usr/local/lib/python3.10/dist-packages/lightgbm/engine.py:172: UserWarning:\n",
            "\n",
            "Found `num_iterations` in params. Will use it instead of argument\n",
            "\n"
          ]
        },
        {
          "output_type": "stream",
          "name": "stdout",
          "text": [
            "Training until validation scores don't improve for 10 rounds\n",
            "Early stopping, best iteration is:\n",
            "[56]\tvalid_0's multi_logloss: 1.05513\n",
            "Training until validation scores don't improve for 10 rounds\n",
            "Early stopping, best iteration is:\n",
            "[100]\tvalid_0's multi_logloss: 1.03934\n",
            "Training until validation scores don't improve for 10 rounds\n",
            "Early stopping, best iteration is:\n",
            "[79]\tvalid_0's multi_logloss: 1.05049\n"
          ]
        },
        {
          "output_type": "stream",
          "name": "stderr",
          "text": [
            "/usr/local/lib/python3.10/dist-packages/lightgbm/engine.py:172: UserWarning:\n",
            "\n",
            "Found `num_iterations` in params. Will use it instead of argument\n",
            "\n",
            "/usr/local/lib/python3.10/dist-packages/lightgbm/engine.py:172: UserWarning:\n",
            "\n",
            "Found `num_iterations` in params. Will use it instead of argument\n",
            "\n"
          ]
        },
        {
          "output_type": "stream",
          "name": "stdout",
          "text": [
            "Training until validation scores don't improve for 10 rounds\n",
            "Early stopping, best iteration is:\n",
            "[28]\tvalid_0's multi_logloss: 1.04566\n",
            "Training until validation scores don't improve for 10 rounds\n"
          ]
        },
        {
          "output_type": "stream",
          "name": "stderr",
          "text": [
            "/usr/local/lib/python3.10/dist-packages/lightgbm/engine.py:172: UserWarning:\n",
            "\n",
            "Found `num_iterations` in params. Will use it instead of argument\n",
            "\n",
            "/usr/local/lib/python3.10/dist-packages/lightgbm/engine.py:172: UserWarning:\n",
            "\n",
            "Found `num_iterations` in params. Will use it instead of argument\n",
            "\n"
          ]
        },
        {
          "output_type": "stream",
          "name": "stdout",
          "text": [
            "Early stopping, best iteration is:\n",
            "[25]\tvalid_0's multi_logloss: 1.04931\n",
            "Training until validation scores don't improve for 10 rounds\n",
            "Early stopping, best iteration is:\n",
            "[29]\tvalid_0's multi_logloss: 1.05153\n"
          ]
        },
        {
          "output_type": "stream",
          "name": "stderr",
          "text": [
            "/usr/local/lib/python3.10/dist-packages/lightgbm/engine.py:172: UserWarning:\n",
            "\n",
            "Found `num_iterations` in params. Will use it instead of argument\n",
            "\n",
            "/usr/local/lib/python3.10/dist-packages/lightgbm/engine.py:172: UserWarning:\n",
            "\n",
            "Found `num_iterations` in params. Will use it instead of argument\n",
            "\n"
          ]
        },
        {
          "output_type": "stream",
          "name": "stdout",
          "text": [
            "Training until validation scores don't improve for 10 rounds\n",
            "Early stopping, best iteration is:\n",
            "[26]\tvalid_0's multi_logloss: 1.04594\n",
            "Training until validation scores don't improve for 10 rounds\n",
            "Early stopping, best iteration is:\n",
            "[60]\tvalid_0's multi_logloss: 1.03306\n",
            "Training until validation scores don't improve for 10 rounds\n",
            "Early stopping, best iteration is:\n",
            "[21]\tvalid_0's multi_logloss: 1.0456\n"
          ]
        },
        {
          "output_type": "stream",
          "name": "stderr",
          "text": [
            "/usr/local/lib/python3.10/dist-packages/lightgbm/engine.py:172: UserWarning:\n",
            "\n",
            "Found `num_iterations` in params. Will use it instead of argument\n",
            "\n",
            "/usr/local/lib/python3.10/dist-packages/lightgbm/engine.py:172: UserWarning:\n",
            "\n",
            "Found `num_iterations` in params. Will use it instead of argument\n",
            "\n"
          ]
        },
        {
          "output_type": "stream",
          "name": "stdout",
          "text": [
            "Training until validation scores don't improve for 10 rounds\n",
            "Early stopping, best iteration is:\n",
            "[188]\tvalid_0's multi_logloss: 1.04699\n",
            "Training until validation scores don't improve for 10 rounds\n",
            "Early stopping, best iteration is:\n",
            "[58]\tvalid_0's multi_logloss: 1.05311\n"
          ]
        },
        {
          "output_type": "stream",
          "name": "stderr",
          "text": [
            "/usr/local/lib/python3.10/dist-packages/lightgbm/engine.py:172: UserWarning:\n",
            "\n",
            "Found `num_iterations` in params. Will use it instead of argument\n",
            "\n",
            "/usr/local/lib/python3.10/dist-packages/lightgbm/engine.py:172: UserWarning:\n",
            "\n",
            "Found `num_iterations` in params. Will use it instead of argument\n",
            "\n"
          ]
        },
        {
          "output_type": "stream",
          "name": "stdout",
          "text": [
            "Training until validation scores don't improve for 10 rounds\n",
            "Early stopping, best iteration is:\n",
            "[44]\tvalid_0's multi_logloss: 1.05024\n",
            "Training until validation scores don't improve for 10 rounds\n"
          ]
        },
        {
          "output_type": "stream",
          "name": "stderr",
          "text": [
            "/usr/local/lib/python3.10/dist-packages/lightgbm/engine.py:172: UserWarning:\n",
            "\n",
            "Found `num_iterations` in params. Will use it instead of argument\n",
            "\n"
          ]
        },
        {
          "output_type": "stream",
          "name": "stdout",
          "text": [
            "Early stopping, best iteration is:\n",
            "[131]\tvalid_0's multi_logloss: 1.04608\n",
            "Training until validation scores don't improve for 10 rounds\n",
            "Early stopping, best iteration is:\n",
            "[30]\tvalid_0's multi_logloss: 1.05153\n"
          ]
        },
        {
          "output_type": "stream",
          "name": "stderr",
          "text": [
            "/usr/local/lib/python3.10/dist-packages/lightgbm/engine.py:172: UserWarning:\n",
            "\n",
            "Found `num_iterations` in params. Will use it instead of argument\n",
            "\n",
            "/usr/local/lib/python3.10/dist-packages/lightgbm/engine.py:172: UserWarning:\n",
            "\n",
            "Found `num_iterations` in params. Will use it instead of argument\n",
            "\n"
          ]
        },
        {
          "output_type": "stream",
          "name": "stdout",
          "text": [
            "Training until validation scores don't improve for 10 rounds\n",
            "Early stopping, best iteration is:\n",
            "[15]\tvalid_0's multi_logloss: 1.04896\n",
            "Training until validation scores don't improve for 10 rounds\n",
            "Early stopping, best iteration is:\n",
            "[56]\tvalid_0's multi_logloss: 1.03988\n"
          ]
        },
        {
          "output_type": "stream",
          "name": "stderr",
          "text": [
            "/usr/local/lib/python3.10/dist-packages/lightgbm/engine.py:172: UserWarning:\n",
            "\n",
            "Found `num_iterations` in params. Will use it instead of argument\n",
            "\n",
            "/usr/local/lib/python3.10/dist-packages/lightgbm/engine.py:172: UserWarning:\n",
            "\n",
            "Found `num_iterations` in params. Will use it instead of argument\n",
            "\n"
          ]
        },
        {
          "output_type": "stream",
          "name": "stdout",
          "text": [
            "Training until validation scores don't improve for 10 rounds\n",
            "Early stopping, best iteration is:\n",
            "[33]\tvalid_0's multi_logloss: 1.0532\n",
            "Training until validation scores don't improve for 10 rounds\n",
            "Early stopping, best iteration is:\n",
            "[20]\tvalid_0's multi_logloss: 1.03988\n"
          ]
        },
        {
          "output_type": "stream",
          "name": "stderr",
          "text": [
            "/usr/local/lib/python3.10/dist-packages/lightgbm/engine.py:172: UserWarning:\n",
            "\n",
            "Found `num_iterations` in params. Will use it instead of argument\n",
            "\n",
            "/usr/local/lib/python3.10/dist-packages/lightgbm/engine.py:172: UserWarning:\n",
            "\n",
            "Found `num_iterations` in params. Will use it instead of argument\n",
            "\n"
          ]
        },
        {
          "output_type": "stream",
          "name": "stdout",
          "text": [
            "Training until validation scores don't improve for 10 rounds\n",
            "Early stopping, best iteration is:\n",
            "[137]\tvalid_0's multi_logloss: 1.03498\n"
          ]
        },
        {
          "output_type": "stream",
          "name": "stderr",
          "text": [
            "/usr/local/lib/python3.10/dist-packages/lightgbm/engine.py:172: UserWarning:\n",
            "\n",
            "Found `num_iterations` in params. Will use it instead of argument\n",
            "\n"
          ]
        },
        {
          "output_type": "stream",
          "name": "stdout",
          "text": [
            "Training until validation scores don't improve for 10 rounds\n",
            "Early stopping, best iteration is:\n",
            "[140]\tvalid_0's multi_logloss: 1.03322\n"
          ]
        },
        {
          "output_type": "stream",
          "name": "stderr",
          "text": [
            "/usr/local/lib/python3.10/dist-packages/lightgbm/engine.py:172: UserWarning:\n",
            "\n",
            "Found `num_iterations` in params. Will use it instead of argument\n",
            "\n"
          ]
        },
        {
          "output_type": "stream",
          "name": "stdout",
          "text": [
            "Training until validation scores don't improve for 10 rounds\n",
            "Early stopping, best iteration is:\n",
            "[140]\tvalid_0's multi_logloss: 1.04058\n"
          ]
        },
        {
          "output_type": "stream",
          "name": "stderr",
          "text": [
            "/usr/local/lib/python3.10/dist-packages/lightgbm/engine.py:172: UserWarning:\n",
            "\n",
            "Found `num_iterations` in params. Will use it instead of argument\n",
            "\n",
            "/usr/local/lib/python3.10/dist-packages/lightgbm/engine.py:172: UserWarning:\n",
            "\n",
            "Found `num_iterations` in params. Will use it instead of argument\n",
            "\n"
          ]
        },
        {
          "output_type": "stream",
          "name": "stdout",
          "text": [
            "Training until validation scores don't improve for 10 rounds\n",
            "Early stopping, best iteration is:\n",
            "[25]\tvalid_0's multi_logloss: 1.06676\n",
            "Training until validation scores don't improve for 10 rounds\n",
            "Early stopping, best iteration is:\n",
            "[77]\tvalid_0's multi_logloss: 1.04597\n",
            "Training until validation scores don't improve for 10 rounds\n"
          ]
        },
        {
          "output_type": "stream",
          "name": "stderr",
          "text": [
            "/usr/local/lib/python3.10/dist-packages/lightgbm/engine.py:172: UserWarning:\n",
            "\n",
            "Found `num_iterations` in params. Will use it instead of argument\n",
            "\n"
          ]
        },
        {
          "output_type": "stream",
          "name": "stdout",
          "text": [
            "Early stopping, best iteration is:\n",
            "[216]\tvalid_0's multi_logloss: 1.03926\n"
          ]
        },
        {
          "output_type": "stream",
          "name": "stderr",
          "text": [
            "/usr/local/lib/python3.10/dist-packages/lightgbm/engine.py:172: UserWarning:\n",
            "\n",
            "Found `num_iterations` in params. Will use it instead of argument\n",
            "\n"
          ]
        },
        {
          "output_type": "stream",
          "name": "stdout",
          "text": [
            "Training until validation scores don't improve for 10 rounds\n",
            "Early stopping, best iteration is:\n",
            "[471]\tvalid_0's multi_logloss: 1.04057\n"
          ]
        },
        {
          "output_type": "stream",
          "name": "stderr",
          "text": [
            "/usr/local/lib/python3.10/dist-packages/lightgbm/engine.py:172: UserWarning:\n",
            "\n",
            "Found `num_iterations` in params. Will use it instead of argument\n",
            "\n"
          ]
        },
        {
          "output_type": "stream",
          "name": "stdout",
          "text": [
            "Training until validation scores don't improve for 10 rounds\n",
            "Early stopping, best iteration is:\n",
            "[231]\tvalid_0's multi_logloss: 1.04082\n"
          ]
        },
        {
          "output_type": "stream",
          "name": "stderr",
          "text": [
            "/usr/local/lib/python3.10/dist-packages/lightgbm/engine.py:172: UserWarning:\n",
            "\n",
            "Found `num_iterations` in params. Will use it instead of argument\n",
            "\n"
          ]
        },
        {
          "output_type": "stream",
          "name": "stdout",
          "text": [
            "Training until validation scores don't improve for 10 rounds\n",
            "Early stopping, best iteration is:\n",
            "[122]\tvalid_0's multi_logloss: 1.0277\n",
            "Training until validation scores don't improve for 10 rounds\n"
          ]
        },
        {
          "output_type": "stream",
          "name": "stderr",
          "text": [
            "/usr/local/lib/python3.10/dist-packages/lightgbm/engine.py:172: UserWarning:\n",
            "\n",
            "Found `num_iterations` in params. Will use it instead of argument\n",
            "\n"
          ]
        },
        {
          "output_type": "stream",
          "name": "stdout",
          "text": [
            "Early stopping, best iteration is:\n",
            "[238]\tvalid_0's multi_logloss: 1.05131\n",
            "Training until validation scores don't improve for 10 rounds\n"
          ]
        },
        {
          "output_type": "stream",
          "name": "stderr",
          "text": [
            "/usr/local/lib/python3.10/dist-packages/lightgbm/engine.py:172: UserWarning:\n",
            "\n",
            "Found `num_iterations` in params. Will use it instead of argument\n",
            "\n"
          ]
        },
        {
          "output_type": "stream",
          "name": "stdout",
          "text": [
            "Did not meet early stopping. Best iteration is:\n",
            "[437]\tvalid_0's multi_logloss: 1.04731\n"
          ]
        },
        {
          "output_type": "stream",
          "name": "stderr",
          "text": [
            "/usr/local/lib/python3.10/dist-packages/lightgbm/engine.py:172: UserWarning:\n",
            "\n",
            "Found `num_iterations` in params. Will use it instead of argument\n",
            "\n"
          ]
        },
        {
          "output_type": "stream",
          "name": "stdout",
          "text": [
            "Training until validation scores don't improve for 10 rounds\n",
            "Early stopping, best iteration is:\n",
            "[136]\tvalid_0's multi_logloss: 1.04767\n",
            "Training until validation scores don't improve for 10 rounds\n"
          ]
        },
        {
          "output_type": "stream",
          "name": "stderr",
          "text": [
            "/usr/local/lib/python3.10/dist-packages/lightgbm/engine.py:172: UserWarning:\n",
            "\n",
            "Found `num_iterations` in params. Will use it instead of argument\n",
            "\n"
          ]
        },
        {
          "output_type": "stream",
          "name": "stdout",
          "text": [
            "Early stopping, best iteration is:\n",
            "[123]\tvalid_0's multi_logloss: 1.03403\n",
            "Training until validation scores don't improve for 10 rounds\n"
          ]
        },
        {
          "output_type": "stream",
          "name": "stderr",
          "text": [
            "/usr/local/lib/python3.10/dist-packages/lightgbm/engine.py:172: UserWarning:\n",
            "\n",
            "Found `num_iterations` in params. Will use it instead of argument\n",
            "\n",
            "/usr/local/lib/python3.10/dist-packages/lightgbm/engine.py:172: UserWarning:\n",
            "\n",
            "Found `num_iterations` in params. Will use it instead of argument\n",
            "\n"
          ]
        },
        {
          "output_type": "stream",
          "name": "stdout",
          "text": [
            "Early stopping, best iteration is:\n",
            "[78]\tvalid_0's multi_logloss: 1.04891\n",
            "Training until validation scores don't improve for 10 rounds\n",
            "Early stopping, best iteration is:\n",
            "[229]\tvalid_0's multi_logloss: 1.04239\n",
            "Training until validation scores don't improve for 10 rounds\n"
          ]
        },
        {
          "output_type": "stream",
          "name": "stderr",
          "text": [
            "/usr/local/lib/python3.10/dist-packages/lightgbm/engine.py:172: UserWarning:\n",
            "\n",
            "Found `num_iterations` in params. Will use it instead of argument\n",
            "\n"
          ]
        },
        {
          "output_type": "stream",
          "name": "stdout",
          "text": [
            "Early stopping, best iteration is:\n",
            "[123]\tvalid_0's multi_logloss: 1.03784\n",
            "Training until validation scores don't improve for 10 rounds\n"
          ]
        },
        {
          "output_type": "stream",
          "name": "stderr",
          "text": [
            "/usr/local/lib/python3.10/dist-packages/lightgbm/engine.py:172: UserWarning:\n",
            "\n",
            "Found `num_iterations` in params. Will use it instead of argument\n",
            "\n"
          ]
        },
        {
          "output_type": "stream",
          "name": "stdout",
          "text": [
            "Early stopping, best iteration is:\n",
            "[152]\tvalid_0's multi_logloss: 1.03907\n",
            "Training until validation scores don't improve for 10 rounds\n"
          ]
        },
        {
          "output_type": "stream",
          "name": "stderr",
          "text": [
            "/usr/local/lib/python3.10/dist-packages/lightgbm/engine.py:172: UserWarning:\n",
            "\n",
            "Found `num_iterations` in params. Will use it instead of argument\n",
            "\n"
          ]
        },
        {
          "output_type": "stream",
          "name": "stdout",
          "text": [
            "Early stopping, best iteration is:\n",
            "[138]\tvalid_0's multi_logloss: 1.03989\n",
            "Training until validation scores don't improve for 10 rounds\n"
          ]
        },
        {
          "output_type": "stream",
          "name": "stderr",
          "text": [
            "/usr/local/lib/python3.10/dist-packages/lightgbm/engine.py:172: UserWarning:\n",
            "\n",
            "Found `num_iterations` in params. Will use it instead of argument\n",
            "\n"
          ]
        },
        {
          "output_type": "stream",
          "name": "stdout",
          "text": [
            "Early stopping, best iteration is:\n",
            "[232]\tvalid_0's multi_logloss: 1.04045\n",
            "Training until validation scores don't improve for 10 rounds\n"
          ]
        },
        {
          "output_type": "stream",
          "name": "stderr",
          "text": [
            "/usr/local/lib/python3.10/dist-packages/lightgbm/engine.py:172: UserWarning:\n",
            "\n",
            "Found `num_iterations` in params. Will use it instead of argument\n",
            "\n"
          ]
        },
        {
          "output_type": "stream",
          "name": "stdout",
          "text": [
            "Early stopping, best iteration is:\n",
            "[300]\tvalid_0's multi_logloss: 1.03859\n",
            "Training until validation scores don't improve for 10 rounds\n"
          ]
        },
        {
          "output_type": "stream",
          "name": "stderr",
          "text": [
            "/usr/local/lib/python3.10/dist-packages/lightgbm/engine.py:172: UserWarning:\n",
            "\n",
            "Found `num_iterations` in params. Will use it instead of argument\n",
            "\n"
          ]
        },
        {
          "output_type": "stream",
          "name": "stdout",
          "text": [
            "Early stopping, best iteration is:\n",
            "[235]\tvalid_0's multi_logloss: 1.03726\n",
            "Training until validation scores don't improve for 10 rounds\n"
          ]
        },
        {
          "output_type": "stream",
          "name": "stderr",
          "text": [
            "/usr/local/lib/python3.10/dist-packages/lightgbm/engine.py:172: UserWarning:\n",
            "\n",
            "Found `num_iterations` in params. Will use it instead of argument\n",
            "\n"
          ]
        },
        {
          "output_type": "stream",
          "name": "stdout",
          "text": [
            "Early stopping, best iteration is:\n",
            "[195]\tvalid_0's multi_logloss: 1.03696\n",
            "Training until validation scores don't improve for 10 rounds\n"
          ]
        },
        {
          "output_type": "stream",
          "name": "stderr",
          "text": [
            "/usr/local/lib/python3.10/dist-packages/lightgbm/engine.py:172: UserWarning:\n",
            "\n",
            "Found `num_iterations` in params. Will use it instead of argument\n",
            "\n"
          ]
        },
        {
          "output_type": "stream",
          "name": "stdout",
          "text": [
            "Early stopping, best iteration is:\n",
            "[365]\tvalid_0's multi_logloss: 1.04115\n",
            "Training until validation scores don't improve for 10 rounds\n"
          ]
        },
        {
          "output_type": "stream",
          "name": "stderr",
          "text": [
            "/usr/local/lib/python3.10/dist-packages/lightgbm/engine.py:172: UserWarning:\n",
            "\n",
            "Found `num_iterations` in params. Will use it instead of argument\n",
            "\n"
          ]
        },
        {
          "output_type": "stream",
          "name": "stdout",
          "text": [
            "Did not meet early stopping. Best iteration is:\n",
            "[374]\tvalid_0's multi_logloss: 1.1618\n"
          ]
        },
        {
          "output_type": "stream",
          "name": "stderr",
          "text": [
            "/usr/local/lib/python3.10/dist-packages/lightgbm/engine.py:172: UserWarning:\n",
            "\n",
            "Found `num_iterations` in params. Will use it instead of argument\n",
            "\n"
          ]
        },
        {
          "output_type": "stream",
          "name": "stdout",
          "text": [
            "Training until validation scores don't improve for 10 rounds\n",
            "Early stopping, best iteration is:\n",
            "[129]\tvalid_0's multi_logloss: 1.02926\n"
          ]
        },
        {
          "output_type": "stream",
          "name": "stderr",
          "text": [
            "/usr/local/lib/python3.10/dist-packages/lightgbm/engine.py:172: UserWarning:\n",
            "\n",
            "Found `num_iterations` in params. Will use it instead of argument\n",
            "\n"
          ]
        },
        {
          "output_type": "stream",
          "name": "stdout",
          "text": [
            "Training until validation scores don't improve for 10 rounds\n",
            "Early stopping, best iteration is:\n",
            "[181]\tvalid_0's multi_logloss: 1.04635\n"
          ]
        },
        {
          "output_type": "stream",
          "name": "stderr",
          "text": [
            "/usr/local/lib/python3.10/dist-packages/lightgbm/engine.py:172: UserWarning:\n",
            "\n",
            "Found `num_iterations` in params. Will use it instead of argument\n",
            "\n"
          ]
        },
        {
          "output_type": "stream",
          "name": "stdout",
          "text": [
            "Training until validation scores don't improve for 10 rounds\n",
            "Early stopping, best iteration is:\n",
            "[207]\tvalid_0's multi_logloss: 1.09305\n"
          ]
        },
        {
          "output_type": "stream",
          "name": "stderr",
          "text": [
            "/usr/local/lib/python3.10/dist-packages/lightgbm/engine.py:172: UserWarning:\n",
            "\n",
            "Found `num_iterations` in params. Will use it instead of argument\n",
            "\n"
          ]
        },
        {
          "output_type": "stream",
          "name": "stdout",
          "text": [
            "Training until validation scores don't improve for 10 rounds\n",
            "Early stopping, best iteration is:\n",
            "[503]\tvalid_0's multi_logloss: 1.0409\n"
          ]
        },
        {
          "output_type": "stream",
          "name": "stderr",
          "text": [
            "/usr/local/lib/python3.10/dist-packages/lightgbm/engine.py:172: UserWarning:\n",
            "\n",
            "Found `num_iterations` in params. Will use it instead of argument\n",
            "\n"
          ]
        },
        {
          "output_type": "stream",
          "name": "stdout",
          "text": [
            "Training until validation scores don't improve for 10 rounds\n",
            "Did not meet early stopping. Best iteration is:\n",
            "[317]\tvalid_0's multi_logloss: 1.03982\n"
          ]
        },
        {
          "output_type": "stream",
          "name": "stderr",
          "text": [
            "/usr/local/lib/python3.10/dist-packages/lightgbm/engine.py:172: UserWarning:\n",
            "\n",
            "Found `num_iterations` in params. Will use it instead of argument\n",
            "\n"
          ]
        },
        {
          "output_type": "stream",
          "name": "stdout",
          "text": [
            "Training until validation scores don't improve for 10 rounds\n",
            "Early stopping, best iteration is:\n",
            "[136]\tvalid_0's multi_logloss: 1.03879\n"
          ]
        },
        {
          "output_type": "stream",
          "name": "stderr",
          "text": [
            "/usr/local/lib/python3.10/dist-packages/lightgbm/engine.py:172: UserWarning:\n",
            "\n",
            "Found `num_iterations` in params. Will use it instead of argument\n",
            "\n",
            "/usr/local/lib/python3.10/dist-packages/lightgbm/engine.py:172: UserWarning:\n",
            "\n",
            "Found `num_iterations` in params. Will use it instead of argument\n",
            "\n"
          ]
        },
        {
          "output_type": "stream",
          "name": "stdout",
          "text": [
            "Training until validation scores don't improve for 10 rounds\n",
            "Early stopping, best iteration is:\n",
            "[21]\tvalid_0's multi_logloss: 1.05107\n",
            "Training until validation scores don't improve for 10 rounds\n",
            "Did not meet early stopping. Best iteration is:\n",
            "[431]\tvalid_0's multi_logloss: 1.05526\n"
          ]
        },
        {
          "output_type": "stream",
          "name": "stderr",
          "text": [
            "/usr/local/lib/python3.10/dist-packages/lightgbm/engine.py:172: UserWarning:\n",
            "\n",
            "Found `num_iterations` in params. Will use it instead of argument\n",
            "\n"
          ]
        },
        {
          "output_type": "stream",
          "name": "stdout",
          "text": [
            "Training until validation scores don't improve for 10 rounds\n",
            "Early stopping, best iteration is:\n",
            "[138]\tvalid_0's multi_logloss: 1.04109\n"
          ]
        },
        {
          "output_type": "stream",
          "name": "stderr",
          "text": [
            "/usr/local/lib/python3.10/dist-packages/lightgbm/engine.py:172: UserWarning:\n",
            "\n",
            "Found `num_iterations` in params. Will use it instead of argument\n",
            "\n"
          ]
        },
        {
          "output_type": "stream",
          "name": "stdout",
          "text": [
            "Training until validation scores don't improve for 10 rounds\n",
            "Early stopping, best iteration is:\n",
            "[263]\tvalid_0's multi_logloss: 1.04777\n",
            "\n",
            "Number of finished trials: 100\n",
            "Best trial: {'num_iterations': 907, 'learning_rate': 0.18325539987347003, 'lambda_l1': 1.7515990799195345, 'lambda_l2': 1.1256460383989682, 'num_leaves': 43, 'feature_fraction': 0.5390242272131383, 'bagging_fraction': 0.9367255981016527, 'bagging_freq': 2, 'min_child_samples': 74}\n",
            "Best score:  0.5300418884582024\n",
            "所要時間72.77289271354675秒\n"
          ]
        }
      ]
    },
    {
      "cell_type": "code",
      "source": [
        "# 探索履歴のプロット\n",
        "opt_history = vis.plot_optimization_history(study)\n",
        "opt_history.show()\n",
        "\n",
        "# ハイパーパラメータの重要度のプロット\n",
        "param_importances = vis.plot_param_importances(study)\n",
        "param_importances.show()"
      ],
      "metadata": {
        "colab": {
          "base_uri": "https://localhost:8080/",
          "height": 1000
        },
        "outputId": "aea4bb8b-a933-4c2a-ee00-39ace6f88068",
        "collapsed": true,
        "id": "qMQqGtSYjEc2"
      },
      "execution_count": null,
      "outputs": [
        {
          "output_type": "display_data",
          "data": {
            "text/html": [
              "<html>\n",
              "<head><meta charset=\"utf-8\" /></head>\n",
              "<body>\n",
              "    <div>            <script src=\"https://cdnjs.cloudflare.com/ajax/libs/mathjax/2.7.5/MathJax.js?config=TeX-AMS-MML_SVG\"></script><script type=\"text/javascript\">if (window.MathJax && window.MathJax.Hub && window.MathJax.Hub.Config) {window.MathJax.Hub.Config({SVG: {font: \"STIX-Web\"}});}</script>                <script type=\"text/javascript\">window.PlotlyConfig = {MathJaxConfig: 'local'};</script>\n",
              "        <script charset=\"utf-8\" src=\"https://cdn.plot.ly/plotly-2.24.1.min.js\"></script>                <div id=\"d96e93d9-e0fb-4f67-ab71-cafe8f655d52\" class=\"plotly-graph-div\" style=\"height:525px; width:100%;\"></div>            <script type=\"text/javascript\">                                    window.PLOTLYENV=window.PLOTLYENV || {};                                    if (document.getElementById(\"d96e93d9-e0fb-4f67-ab71-cafe8f655d52\")) {                    Plotly.newPlot(                        \"d96e93d9-e0fb-4f67-ab71-cafe8f655d52\",                        [{\"mode\":\"markers\",\"name\":\"Objective Value\",\"x\":[0,1,2,3,4,5,6,7,8,9,10,11,12,13,14,15,16,17,18,19,20,21,22,23,24,25,26,27,28,29,30,31,32,33,34,35,36,37,38,39,40,41,42,43,44,45,46,47,48,49,50,51,52,53,54,55,56,57,58,59,60,61,62,63,64,65,66,67,68,69,70,71,72,73,74,75,76,77,78,79,80,81,82,83,84,85,86,87,88,89,90,91,92,93,94,95,96,97,98,99],\"y\":[0.47759824440309306,0.4726605060698409,0.49956589817829405,0.48503858337773126,0.486225025529067,0.3329197885543553,0.12962962962962962,0.4883667566646901,0.5068422782795252,0.4636479759442758,0.4784822657303885,0.477519350330314,0.47446053201663846,0.4822619004997374,0.45521210239440246,0.4637730690362269,0.4832764620509945,0.4577948238600013,0.48318935147653264,0.4169480078754553,0.3717697976626548,0.47997688468276956,0.5142830681012822,0.5169973544973544,0.5012641204948897,0.4988689288090486,0.47917292464431027,0.5274781336661413,0.4970005248920877,0.5260299069122598,0.503690990761929,0.5088937402089344,0.5015601182854704,0.48797834547404995,0.4626373171987207,0.5033854595481758,0.4940367078617623,0.492370655329206,0.4938338310370339,0.49301867962188833,0.48220134261389125,0.5115898881662065,0.48730158730158735,0.5024853801169591,0.5300418884582024,0.46809625289292717,0.5116959064327485,0.4946272301264679,0.49878833382910887,0.47375469868973114,0.4878542887364341,0.4819345672193631,0.5010866881566105,0.500670123500043,0.4762051492879642,0.5114928578784,0.46873222200599923,0.48896945352388543,0.5218184585372965,0.49505869941727776,0.48995260635827925,0.4822374882649071,0.48002280729254765,0.4924722573354281,0.4744478706558879,0.47740732583252266,0.529366320832667,0.5180734613089975,0.5008541971726903,0.46220685107683357,0.49296295714813076,0.5288234517276433,0.47427292396332643,0.4996574510397332,0.5216333410025757,0.4976365870488966,0.4938094327315884,0.4802635586820444,0.5028624928180977,0.4959037322074751,0.5059278326413048,0.5041061143797465,0.520195101701951,0.5025302446120596,0.5232254047322541,0.5018222856330292,0.5183546059933407,0.5043513870003028,0.5017834999612494,0.330958526478438,0.5068490091507994,0.4973594737185069,0.373612982881833,0.5043982129537226,0.49915225784791,0.5169824660633484,0.4671433069213413,0.4812499007889265,0.5162393474055575,0.5091903313333144],\"type\":\"scatter\"},{\"mode\":\"lines\",\"name\":\"Best Value\",\"x\":[0,1,2,3,4,5,6,7,8,9,10,11,12,13,14,15,16,17,18,19,20,21,22,23,24,25,26,27,28,29,30,31,32,33,34,35,36,37,38,39,40,41,42,43,44,45,46,47,48,49,50,51,52,53,54,55,56,57,58,59,60,61,62,63,64,65,66,67,68,69,70,71,72,73,74,75,76,77,78,79,80,81,82,83,84,85,86,87,88,89,90,91,92,93,94,95,96,97,98,99],\"y\":[0.47759824440309306,0.47759824440309306,0.49956589817829405,0.49956589817829405,0.49956589817829405,0.49956589817829405,0.49956589817829405,0.49956589817829405,0.5068422782795252,0.5068422782795252,0.5068422782795252,0.5068422782795252,0.5068422782795252,0.5068422782795252,0.5068422782795252,0.5068422782795252,0.5068422782795252,0.5068422782795252,0.5068422782795252,0.5068422782795252,0.5068422782795252,0.5068422782795252,0.5142830681012822,0.5169973544973544,0.5169973544973544,0.5169973544973544,0.5169973544973544,0.5274781336661413,0.5274781336661413,0.5274781336661413,0.5274781336661413,0.5274781336661413,0.5274781336661413,0.5274781336661413,0.5274781336661413,0.5274781336661413,0.5274781336661413,0.5274781336661413,0.5274781336661413,0.5274781336661413,0.5274781336661413,0.5274781336661413,0.5274781336661413,0.5274781336661413,0.5300418884582024,0.5300418884582024,0.5300418884582024,0.5300418884582024,0.5300418884582024,0.5300418884582024,0.5300418884582024,0.5300418884582024,0.5300418884582024,0.5300418884582024,0.5300418884582024,0.5300418884582024,0.5300418884582024,0.5300418884582024,0.5300418884582024,0.5300418884582024,0.5300418884582024,0.5300418884582024,0.5300418884582024,0.5300418884582024,0.5300418884582024,0.5300418884582024,0.5300418884582024,0.5300418884582024,0.5300418884582024,0.5300418884582024,0.5300418884582024,0.5300418884582024,0.5300418884582024,0.5300418884582024,0.5300418884582024,0.5300418884582024,0.5300418884582024,0.5300418884582024,0.5300418884582024,0.5300418884582024,0.5300418884582024,0.5300418884582024,0.5300418884582024,0.5300418884582024,0.5300418884582024,0.5300418884582024,0.5300418884582024,0.5300418884582024,0.5300418884582024,0.5300418884582024,0.5300418884582024,0.5300418884582024,0.5300418884582024,0.5300418884582024,0.5300418884582024,0.5300418884582024,0.5300418884582024,0.5300418884582024,0.5300418884582024,0.5300418884582024],\"type\":\"scatter\"},{\"marker\":{\"color\":\"#cccccc\"},\"mode\":\"markers\",\"name\":\"Infeasible Trial\",\"showlegend\":false,\"x\":[],\"y\":[],\"type\":\"scatter\"}],                        {\"title\":{\"text\":\"Optimization History Plot\"},\"xaxis\":{\"title\":{\"text\":\"Trial\"}},\"yaxis\":{\"title\":{\"text\":\"Objective Value\"}},\"template\":{\"data\":{\"histogram2dcontour\":[{\"type\":\"histogram2dcontour\",\"colorbar\":{\"outlinewidth\":0,\"ticks\":\"\"},\"colorscale\":[[0.0,\"#0d0887\"],[0.1111111111111111,\"#46039f\"],[0.2222222222222222,\"#7201a8\"],[0.3333333333333333,\"#9c179e\"],[0.4444444444444444,\"#bd3786\"],[0.5555555555555556,\"#d8576b\"],[0.6666666666666666,\"#ed7953\"],[0.7777777777777778,\"#fb9f3a\"],[0.8888888888888888,\"#fdca26\"],[1.0,\"#f0f921\"]]}],\"choropleth\":[{\"type\":\"choropleth\",\"colorbar\":{\"outlinewidth\":0,\"ticks\":\"\"}}],\"histogram2d\":[{\"type\":\"histogram2d\",\"colorbar\":{\"outlinewidth\":0,\"ticks\":\"\"},\"colorscale\":[[0.0,\"#0d0887\"],[0.1111111111111111,\"#46039f\"],[0.2222222222222222,\"#7201a8\"],[0.3333333333333333,\"#9c179e\"],[0.4444444444444444,\"#bd3786\"],[0.5555555555555556,\"#d8576b\"],[0.6666666666666666,\"#ed7953\"],[0.7777777777777778,\"#fb9f3a\"],[0.8888888888888888,\"#fdca26\"],[1.0,\"#f0f921\"]]}],\"heatmap\":[{\"type\":\"heatmap\",\"colorbar\":{\"outlinewidth\":0,\"ticks\":\"\"},\"colorscale\":[[0.0,\"#0d0887\"],[0.1111111111111111,\"#46039f\"],[0.2222222222222222,\"#7201a8\"],[0.3333333333333333,\"#9c179e\"],[0.4444444444444444,\"#bd3786\"],[0.5555555555555556,\"#d8576b\"],[0.6666666666666666,\"#ed7953\"],[0.7777777777777778,\"#fb9f3a\"],[0.8888888888888888,\"#fdca26\"],[1.0,\"#f0f921\"]]}],\"heatmapgl\":[{\"type\":\"heatmapgl\",\"colorbar\":{\"outlinewidth\":0,\"ticks\":\"\"},\"colorscale\":[[0.0,\"#0d0887\"],[0.1111111111111111,\"#46039f\"],[0.2222222222222222,\"#7201a8\"],[0.3333333333333333,\"#9c179e\"],[0.4444444444444444,\"#bd3786\"],[0.5555555555555556,\"#d8576b\"],[0.6666666666666666,\"#ed7953\"],[0.7777777777777778,\"#fb9f3a\"],[0.8888888888888888,\"#fdca26\"],[1.0,\"#f0f921\"]]}],\"contourcarpet\":[{\"type\":\"contourcarpet\",\"colorbar\":{\"outlinewidth\":0,\"ticks\":\"\"}}],\"contour\":[{\"type\":\"contour\",\"colorbar\":{\"outlinewidth\":0,\"ticks\":\"\"},\"colorscale\":[[0.0,\"#0d0887\"],[0.1111111111111111,\"#46039f\"],[0.2222222222222222,\"#7201a8\"],[0.3333333333333333,\"#9c179e\"],[0.4444444444444444,\"#bd3786\"],[0.5555555555555556,\"#d8576b\"],[0.6666666666666666,\"#ed7953\"],[0.7777777777777778,\"#fb9f3a\"],[0.8888888888888888,\"#fdca26\"],[1.0,\"#f0f921\"]]}],\"surface\":[{\"type\":\"surface\",\"colorbar\":{\"outlinewidth\":0,\"ticks\":\"\"},\"colorscale\":[[0.0,\"#0d0887\"],[0.1111111111111111,\"#46039f\"],[0.2222222222222222,\"#7201a8\"],[0.3333333333333333,\"#9c179e\"],[0.4444444444444444,\"#bd3786\"],[0.5555555555555556,\"#d8576b\"],[0.6666666666666666,\"#ed7953\"],[0.7777777777777778,\"#fb9f3a\"],[0.8888888888888888,\"#fdca26\"],[1.0,\"#f0f921\"]]}],\"mesh3d\":[{\"type\":\"mesh3d\",\"colorbar\":{\"outlinewidth\":0,\"ticks\":\"\"}}],\"scatter\":[{\"fillpattern\":{\"fillmode\":\"overlay\",\"size\":10,\"solidity\":0.2},\"type\":\"scatter\"}],\"parcoords\":[{\"type\":\"parcoords\",\"line\":{\"colorbar\":{\"outlinewidth\":0,\"ticks\":\"\"}}}],\"scatterpolargl\":[{\"type\":\"scatterpolargl\",\"marker\":{\"colorbar\":{\"outlinewidth\":0,\"ticks\":\"\"}}}],\"bar\":[{\"error_x\":{\"color\":\"#2a3f5f\"},\"error_y\":{\"color\":\"#2a3f5f\"},\"marker\":{\"line\":{\"color\":\"#E5ECF6\",\"width\":0.5},\"pattern\":{\"fillmode\":\"overlay\",\"size\":10,\"solidity\":0.2}},\"type\":\"bar\"}],\"scattergeo\":[{\"type\":\"scattergeo\",\"marker\":{\"colorbar\":{\"outlinewidth\":0,\"ticks\":\"\"}}}],\"scatterpolar\":[{\"type\":\"scatterpolar\",\"marker\":{\"colorbar\":{\"outlinewidth\":0,\"ticks\":\"\"}}}],\"histogram\":[{\"marker\":{\"pattern\":{\"fillmode\":\"overlay\",\"size\":10,\"solidity\":0.2}},\"type\":\"histogram\"}],\"scattergl\":[{\"type\":\"scattergl\",\"marker\":{\"colorbar\":{\"outlinewidth\":0,\"ticks\":\"\"}}}],\"scatter3d\":[{\"type\":\"scatter3d\",\"line\":{\"colorbar\":{\"outlinewidth\":0,\"ticks\":\"\"}},\"marker\":{\"colorbar\":{\"outlinewidth\":0,\"ticks\":\"\"}}}],\"scattermapbox\":[{\"type\":\"scattermapbox\",\"marker\":{\"colorbar\":{\"outlinewidth\":0,\"ticks\":\"\"}}}],\"scatterternary\":[{\"type\":\"scatterternary\",\"marker\":{\"colorbar\":{\"outlinewidth\":0,\"ticks\":\"\"}}}],\"scattercarpet\":[{\"type\":\"scattercarpet\",\"marker\":{\"colorbar\":{\"outlinewidth\":0,\"ticks\":\"\"}}}],\"carpet\":[{\"aaxis\":{\"endlinecolor\":\"#2a3f5f\",\"gridcolor\":\"white\",\"linecolor\":\"white\",\"minorgridcolor\":\"white\",\"startlinecolor\":\"#2a3f5f\"},\"baxis\":{\"endlinecolor\":\"#2a3f5f\",\"gridcolor\":\"white\",\"linecolor\":\"white\",\"minorgridcolor\":\"white\",\"startlinecolor\":\"#2a3f5f\"},\"type\":\"carpet\"}],\"table\":[{\"cells\":{\"fill\":{\"color\":\"#EBF0F8\"},\"line\":{\"color\":\"white\"}},\"header\":{\"fill\":{\"color\":\"#C8D4E3\"},\"line\":{\"color\":\"white\"}},\"type\":\"table\"}],\"barpolar\":[{\"marker\":{\"line\":{\"color\":\"#E5ECF6\",\"width\":0.5},\"pattern\":{\"fillmode\":\"overlay\",\"size\":10,\"solidity\":0.2}},\"type\":\"barpolar\"}],\"pie\":[{\"automargin\":true,\"type\":\"pie\"}]},\"layout\":{\"autotypenumbers\":\"strict\",\"colorway\":[\"#636efa\",\"#EF553B\",\"#00cc96\",\"#ab63fa\",\"#FFA15A\",\"#19d3f3\",\"#FF6692\",\"#B6E880\",\"#FF97FF\",\"#FECB52\"],\"font\":{\"color\":\"#2a3f5f\"},\"hovermode\":\"closest\",\"hoverlabel\":{\"align\":\"left\"},\"paper_bgcolor\":\"white\",\"plot_bgcolor\":\"#E5ECF6\",\"polar\":{\"bgcolor\":\"#E5ECF6\",\"angularaxis\":{\"gridcolor\":\"white\",\"linecolor\":\"white\",\"ticks\":\"\"},\"radialaxis\":{\"gridcolor\":\"white\",\"linecolor\":\"white\",\"ticks\":\"\"}},\"ternary\":{\"bgcolor\":\"#E5ECF6\",\"aaxis\":{\"gridcolor\":\"white\",\"linecolor\":\"white\",\"ticks\":\"\"},\"baxis\":{\"gridcolor\":\"white\",\"linecolor\":\"white\",\"ticks\":\"\"},\"caxis\":{\"gridcolor\":\"white\",\"linecolor\":\"white\",\"ticks\":\"\"}},\"coloraxis\":{\"colorbar\":{\"outlinewidth\":0,\"ticks\":\"\"}},\"colorscale\":{\"sequential\":[[0.0,\"#0d0887\"],[0.1111111111111111,\"#46039f\"],[0.2222222222222222,\"#7201a8\"],[0.3333333333333333,\"#9c179e\"],[0.4444444444444444,\"#bd3786\"],[0.5555555555555556,\"#d8576b\"],[0.6666666666666666,\"#ed7953\"],[0.7777777777777778,\"#fb9f3a\"],[0.8888888888888888,\"#fdca26\"],[1.0,\"#f0f921\"]],\"sequentialminus\":[[0.0,\"#0d0887\"],[0.1111111111111111,\"#46039f\"],[0.2222222222222222,\"#7201a8\"],[0.3333333333333333,\"#9c179e\"],[0.4444444444444444,\"#bd3786\"],[0.5555555555555556,\"#d8576b\"],[0.6666666666666666,\"#ed7953\"],[0.7777777777777778,\"#fb9f3a\"],[0.8888888888888888,\"#fdca26\"],[1.0,\"#f0f921\"]],\"diverging\":[[0,\"#8e0152\"],[0.1,\"#c51b7d\"],[0.2,\"#de77ae\"],[0.3,\"#f1b6da\"],[0.4,\"#fde0ef\"],[0.5,\"#f7f7f7\"],[0.6,\"#e6f5d0\"],[0.7,\"#b8e186\"],[0.8,\"#7fbc41\"],[0.9,\"#4d9221\"],[1,\"#276419\"]]},\"xaxis\":{\"gridcolor\":\"white\",\"linecolor\":\"white\",\"ticks\":\"\",\"title\":{\"standoff\":15},\"zerolinecolor\":\"white\",\"automargin\":true,\"zerolinewidth\":2},\"yaxis\":{\"gridcolor\":\"white\",\"linecolor\":\"white\",\"ticks\":\"\",\"title\":{\"standoff\":15},\"zerolinecolor\":\"white\",\"automargin\":true,\"zerolinewidth\":2},\"scene\":{\"xaxis\":{\"backgroundcolor\":\"#E5ECF6\",\"gridcolor\":\"white\",\"linecolor\":\"white\",\"showbackground\":true,\"ticks\":\"\",\"zerolinecolor\":\"white\",\"gridwidth\":2},\"yaxis\":{\"backgroundcolor\":\"#E5ECF6\",\"gridcolor\":\"white\",\"linecolor\":\"white\",\"showbackground\":true,\"ticks\":\"\",\"zerolinecolor\":\"white\",\"gridwidth\":2},\"zaxis\":{\"backgroundcolor\":\"#E5ECF6\",\"gridcolor\":\"white\",\"linecolor\":\"white\",\"showbackground\":true,\"ticks\":\"\",\"zerolinecolor\":\"white\",\"gridwidth\":2}},\"shapedefaults\":{\"line\":{\"color\":\"#2a3f5f\"}},\"annotationdefaults\":{\"arrowcolor\":\"#2a3f5f\",\"arrowhead\":0,\"arrowwidth\":1},\"geo\":{\"bgcolor\":\"white\",\"landcolor\":\"#E5ECF6\",\"subunitcolor\":\"white\",\"showland\":true,\"showlakes\":true,\"lakecolor\":\"white\"},\"title\":{\"x\":0.05},\"mapbox\":{\"style\":\"light\"}}}},                        {\"responsive\": true}                    ).then(function(){\n",
              "                            \n",
              "var gd = document.getElementById('d96e93d9-e0fb-4f67-ab71-cafe8f655d52');\n",
              "var x = new MutationObserver(function (mutations, observer) {{\n",
              "        var display = window.getComputedStyle(gd).display;\n",
              "        if (!display || display === 'none') {{\n",
              "            console.log([gd, 'removed!']);\n",
              "            Plotly.purge(gd);\n",
              "            observer.disconnect();\n",
              "        }}\n",
              "}});\n",
              "\n",
              "// Listen for the removal of the full notebook cells\n",
              "var notebookContainer = gd.closest('#notebook-container');\n",
              "if (notebookContainer) {{\n",
              "    x.observe(notebookContainer, {childList: true});\n",
              "}}\n",
              "\n",
              "// Listen for the clearing of the current output cell\n",
              "var outputEl = gd.closest('.output');\n",
              "if (outputEl) {{\n",
              "    x.observe(outputEl, {childList: true});\n",
              "}}\n",
              "\n",
              "                        })                };                            </script>        </div>\n",
              "</body>\n",
              "</html>"
            ]
          },
          "metadata": {}
        },
        {
          "output_type": "display_data",
          "data": {
            "text/html": [
              "<html>\n",
              "<head><meta charset=\"utf-8\" /></head>\n",
              "<body>\n",
              "    <div>            <script src=\"https://cdnjs.cloudflare.com/ajax/libs/mathjax/2.7.5/MathJax.js?config=TeX-AMS-MML_SVG\"></script><script type=\"text/javascript\">if (window.MathJax && window.MathJax.Hub && window.MathJax.Hub.Config) {window.MathJax.Hub.Config({SVG: {font: \"STIX-Web\"}});}</script>                <script type=\"text/javascript\">window.PlotlyConfig = {MathJaxConfig: 'local'};</script>\n",
              "        <script charset=\"utf-8\" src=\"https://cdn.plot.ly/plotly-2.24.1.min.js\"></script>                <div id=\"da137190-70a3-4ad9-83d3-ccbf5b5bd041\" class=\"plotly-graph-div\" style=\"height:525px; width:100%;\"></div>            <script type=\"text/javascript\">                                    window.PLOTLYENV=window.PLOTLYENV || {};                                    if (document.getElementById(\"da137190-70a3-4ad9-83d3-ccbf5b5bd041\")) {                    Plotly.newPlot(                        \"da137190-70a3-4ad9-83d3-ccbf5b5bd041\",                        [{\"cliponaxis\":false,\"hovertemplate\":[\"bagging_freq (IntDistribution): 0.010500833233195077\\u003cextra\\u003e\\u003c\\u002fextra\\u003e\",\"num_leaves (IntDistribution): 0.017501985039952393\\u003cextra\\u003e\\u003c\\u002fextra\\u003e\",\"lambda_l2 (FloatDistribution): 0.018055710746052507\\u003cextra\\u003e\\u003c\\u002fextra\\u003e\",\"min_child_samples (IntDistribution): 0.04198247144301476\\u003cextra\\u003e\\u003c\\u002fextra\\u003e\",\"lambda_l1 (FloatDistribution): 0.04374596190991836\\u003cextra\\u003e\\u003c\\u002fextra\\u003e\",\"num_iterations (IntDistribution): 0.06589633128660992\\u003cextra\\u003e\\u003c\\u002fextra\\u003e\",\"feature_fraction (FloatDistribution): 0.12170112097023902\\u003cextra\\u003e\\u003c\\u002fextra\\u003e\",\"learning_rate (FloatDistribution): 0.16271975727282184\\u003cextra\\u003e\\u003c\\u002fextra\\u003e\",\"bagging_fraction (FloatDistribution): 0.5178958280981963\\u003cextra\\u003e\\u003c\\u002fextra\\u003e\"],\"name\":\"Objective Value\",\"orientation\":\"h\",\"text\":[\"0.01\",\"0.02\",\"0.02\",\"0.04\",\"0.04\",\"0.07\",\"0.12\",\"0.16\",\"0.52\"],\"textposition\":\"outside\",\"x\":[0.010500833233195077,0.017501985039952393,0.018055710746052507,0.04198247144301476,0.04374596190991836,0.06589633128660992,0.12170112097023902,0.16271975727282184,0.5178958280981963],\"y\":[\"bagging_freq\",\"num_leaves\",\"lambda_l2\",\"min_child_samples\",\"lambda_l1\",\"num_iterations\",\"feature_fraction\",\"learning_rate\",\"bagging_fraction\"],\"type\":\"bar\"}],                        {\"title\":{\"text\":\"Hyperparameter Importances\"},\"xaxis\":{\"title\":{\"text\":\"Hyperparameter Importance\"}},\"yaxis\":{\"title\":{\"text\":\"Hyperparameter\"}},\"template\":{\"data\":{\"histogram2dcontour\":[{\"type\":\"histogram2dcontour\",\"colorbar\":{\"outlinewidth\":0,\"ticks\":\"\"},\"colorscale\":[[0.0,\"#0d0887\"],[0.1111111111111111,\"#46039f\"],[0.2222222222222222,\"#7201a8\"],[0.3333333333333333,\"#9c179e\"],[0.4444444444444444,\"#bd3786\"],[0.5555555555555556,\"#d8576b\"],[0.6666666666666666,\"#ed7953\"],[0.7777777777777778,\"#fb9f3a\"],[0.8888888888888888,\"#fdca26\"],[1.0,\"#f0f921\"]]}],\"choropleth\":[{\"type\":\"choropleth\",\"colorbar\":{\"outlinewidth\":0,\"ticks\":\"\"}}],\"histogram2d\":[{\"type\":\"histogram2d\",\"colorbar\":{\"outlinewidth\":0,\"ticks\":\"\"},\"colorscale\":[[0.0,\"#0d0887\"],[0.1111111111111111,\"#46039f\"],[0.2222222222222222,\"#7201a8\"],[0.3333333333333333,\"#9c179e\"],[0.4444444444444444,\"#bd3786\"],[0.5555555555555556,\"#d8576b\"],[0.6666666666666666,\"#ed7953\"],[0.7777777777777778,\"#fb9f3a\"],[0.8888888888888888,\"#fdca26\"],[1.0,\"#f0f921\"]]}],\"heatmap\":[{\"type\":\"heatmap\",\"colorbar\":{\"outlinewidth\":0,\"ticks\":\"\"},\"colorscale\":[[0.0,\"#0d0887\"],[0.1111111111111111,\"#46039f\"],[0.2222222222222222,\"#7201a8\"],[0.3333333333333333,\"#9c179e\"],[0.4444444444444444,\"#bd3786\"],[0.5555555555555556,\"#d8576b\"],[0.6666666666666666,\"#ed7953\"],[0.7777777777777778,\"#fb9f3a\"],[0.8888888888888888,\"#fdca26\"],[1.0,\"#f0f921\"]]}],\"heatmapgl\":[{\"type\":\"heatmapgl\",\"colorbar\":{\"outlinewidth\":0,\"ticks\":\"\"},\"colorscale\":[[0.0,\"#0d0887\"],[0.1111111111111111,\"#46039f\"],[0.2222222222222222,\"#7201a8\"],[0.3333333333333333,\"#9c179e\"],[0.4444444444444444,\"#bd3786\"],[0.5555555555555556,\"#d8576b\"],[0.6666666666666666,\"#ed7953\"],[0.7777777777777778,\"#fb9f3a\"],[0.8888888888888888,\"#fdca26\"],[1.0,\"#f0f921\"]]}],\"contourcarpet\":[{\"type\":\"contourcarpet\",\"colorbar\":{\"outlinewidth\":0,\"ticks\":\"\"}}],\"contour\":[{\"type\":\"contour\",\"colorbar\":{\"outlinewidth\":0,\"ticks\":\"\"},\"colorscale\":[[0.0,\"#0d0887\"],[0.1111111111111111,\"#46039f\"],[0.2222222222222222,\"#7201a8\"],[0.3333333333333333,\"#9c179e\"],[0.4444444444444444,\"#bd3786\"],[0.5555555555555556,\"#d8576b\"],[0.6666666666666666,\"#ed7953\"],[0.7777777777777778,\"#fb9f3a\"],[0.8888888888888888,\"#fdca26\"],[1.0,\"#f0f921\"]]}],\"surface\":[{\"type\":\"surface\",\"colorbar\":{\"outlinewidth\":0,\"ticks\":\"\"},\"colorscale\":[[0.0,\"#0d0887\"],[0.1111111111111111,\"#46039f\"],[0.2222222222222222,\"#7201a8\"],[0.3333333333333333,\"#9c179e\"],[0.4444444444444444,\"#bd3786\"],[0.5555555555555556,\"#d8576b\"],[0.6666666666666666,\"#ed7953\"],[0.7777777777777778,\"#fb9f3a\"],[0.8888888888888888,\"#fdca26\"],[1.0,\"#f0f921\"]]}],\"mesh3d\":[{\"type\":\"mesh3d\",\"colorbar\":{\"outlinewidth\":0,\"ticks\":\"\"}}],\"scatter\":[{\"fillpattern\":{\"fillmode\":\"overlay\",\"size\":10,\"solidity\":0.2},\"type\":\"scatter\"}],\"parcoords\":[{\"type\":\"parcoords\",\"line\":{\"colorbar\":{\"outlinewidth\":0,\"ticks\":\"\"}}}],\"scatterpolargl\":[{\"type\":\"scatterpolargl\",\"marker\":{\"colorbar\":{\"outlinewidth\":0,\"ticks\":\"\"}}}],\"bar\":[{\"error_x\":{\"color\":\"#2a3f5f\"},\"error_y\":{\"color\":\"#2a3f5f\"},\"marker\":{\"line\":{\"color\":\"#E5ECF6\",\"width\":0.5},\"pattern\":{\"fillmode\":\"overlay\",\"size\":10,\"solidity\":0.2}},\"type\":\"bar\"}],\"scattergeo\":[{\"type\":\"scattergeo\",\"marker\":{\"colorbar\":{\"outlinewidth\":0,\"ticks\":\"\"}}}],\"scatterpolar\":[{\"type\":\"scatterpolar\",\"marker\":{\"colorbar\":{\"outlinewidth\":0,\"ticks\":\"\"}}}],\"histogram\":[{\"marker\":{\"pattern\":{\"fillmode\":\"overlay\",\"size\":10,\"solidity\":0.2}},\"type\":\"histogram\"}],\"scattergl\":[{\"type\":\"scattergl\",\"marker\":{\"colorbar\":{\"outlinewidth\":0,\"ticks\":\"\"}}}],\"scatter3d\":[{\"type\":\"scatter3d\",\"line\":{\"colorbar\":{\"outlinewidth\":0,\"ticks\":\"\"}},\"marker\":{\"colorbar\":{\"outlinewidth\":0,\"ticks\":\"\"}}}],\"scattermapbox\":[{\"type\":\"scattermapbox\",\"marker\":{\"colorbar\":{\"outlinewidth\":0,\"ticks\":\"\"}}}],\"scatterternary\":[{\"type\":\"scatterternary\",\"marker\":{\"colorbar\":{\"outlinewidth\":0,\"ticks\":\"\"}}}],\"scattercarpet\":[{\"type\":\"scattercarpet\",\"marker\":{\"colorbar\":{\"outlinewidth\":0,\"ticks\":\"\"}}}],\"carpet\":[{\"aaxis\":{\"endlinecolor\":\"#2a3f5f\",\"gridcolor\":\"white\",\"linecolor\":\"white\",\"minorgridcolor\":\"white\",\"startlinecolor\":\"#2a3f5f\"},\"baxis\":{\"endlinecolor\":\"#2a3f5f\",\"gridcolor\":\"white\",\"linecolor\":\"white\",\"minorgridcolor\":\"white\",\"startlinecolor\":\"#2a3f5f\"},\"type\":\"carpet\"}],\"table\":[{\"cells\":{\"fill\":{\"color\":\"#EBF0F8\"},\"line\":{\"color\":\"white\"}},\"header\":{\"fill\":{\"color\":\"#C8D4E3\"},\"line\":{\"color\":\"white\"}},\"type\":\"table\"}],\"barpolar\":[{\"marker\":{\"line\":{\"color\":\"#E5ECF6\",\"width\":0.5},\"pattern\":{\"fillmode\":\"overlay\",\"size\":10,\"solidity\":0.2}},\"type\":\"barpolar\"}],\"pie\":[{\"automargin\":true,\"type\":\"pie\"}]},\"layout\":{\"autotypenumbers\":\"strict\",\"colorway\":[\"#636efa\",\"#EF553B\",\"#00cc96\",\"#ab63fa\",\"#FFA15A\",\"#19d3f3\",\"#FF6692\",\"#B6E880\",\"#FF97FF\",\"#FECB52\"],\"font\":{\"color\":\"#2a3f5f\"},\"hovermode\":\"closest\",\"hoverlabel\":{\"align\":\"left\"},\"paper_bgcolor\":\"white\",\"plot_bgcolor\":\"#E5ECF6\",\"polar\":{\"bgcolor\":\"#E5ECF6\",\"angularaxis\":{\"gridcolor\":\"white\",\"linecolor\":\"white\",\"ticks\":\"\"},\"radialaxis\":{\"gridcolor\":\"white\",\"linecolor\":\"white\",\"ticks\":\"\"}},\"ternary\":{\"bgcolor\":\"#E5ECF6\",\"aaxis\":{\"gridcolor\":\"white\",\"linecolor\":\"white\",\"ticks\":\"\"},\"baxis\":{\"gridcolor\":\"white\",\"linecolor\":\"white\",\"ticks\":\"\"},\"caxis\":{\"gridcolor\":\"white\",\"linecolor\":\"white\",\"ticks\":\"\"}},\"coloraxis\":{\"colorbar\":{\"outlinewidth\":0,\"ticks\":\"\"}},\"colorscale\":{\"sequential\":[[0.0,\"#0d0887\"],[0.1111111111111111,\"#46039f\"],[0.2222222222222222,\"#7201a8\"],[0.3333333333333333,\"#9c179e\"],[0.4444444444444444,\"#bd3786\"],[0.5555555555555556,\"#d8576b\"],[0.6666666666666666,\"#ed7953\"],[0.7777777777777778,\"#fb9f3a\"],[0.8888888888888888,\"#fdca26\"],[1.0,\"#f0f921\"]],\"sequentialminus\":[[0.0,\"#0d0887\"],[0.1111111111111111,\"#46039f\"],[0.2222222222222222,\"#7201a8\"],[0.3333333333333333,\"#9c179e\"],[0.4444444444444444,\"#bd3786\"],[0.5555555555555556,\"#d8576b\"],[0.6666666666666666,\"#ed7953\"],[0.7777777777777778,\"#fb9f3a\"],[0.8888888888888888,\"#fdca26\"],[1.0,\"#f0f921\"]],\"diverging\":[[0,\"#8e0152\"],[0.1,\"#c51b7d\"],[0.2,\"#de77ae\"],[0.3,\"#f1b6da\"],[0.4,\"#fde0ef\"],[0.5,\"#f7f7f7\"],[0.6,\"#e6f5d0\"],[0.7,\"#b8e186\"],[0.8,\"#7fbc41\"],[0.9,\"#4d9221\"],[1,\"#276419\"]]},\"xaxis\":{\"gridcolor\":\"white\",\"linecolor\":\"white\",\"ticks\":\"\",\"title\":{\"standoff\":15},\"zerolinecolor\":\"white\",\"automargin\":true,\"zerolinewidth\":2},\"yaxis\":{\"gridcolor\":\"white\",\"linecolor\":\"white\",\"ticks\":\"\",\"title\":{\"standoff\":15},\"zerolinecolor\":\"white\",\"automargin\":true,\"zerolinewidth\":2},\"scene\":{\"xaxis\":{\"backgroundcolor\":\"#E5ECF6\",\"gridcolor\":\"white\",\"linecolor\":\"white\",\"showbackground\":true,\"ticks\":\"\",\"zerolinecolor\":\"white\",\"gridwidth\":2},\"yaxis\":{\"backgroundcolor\":\"#E5ECF6\",\"gridcolor\":\"white\",\"linecolor\":\"white\",\"showbackground\":true,\"ticks\":\"\",\"zerolinecolor\":\"white\",\"gridwidth\":2},\"zaxis\":{\"backgroundcolor\":\"#E5ECF6\",\"gridcolor\":\"white\",\"linecolor\":\"white\",\"showbackground\":true,\"ticks\":\"\",\"zerolinecolor\":\"white\",\"gridwidth\":2}},\"shapedefaults\":{\"line\":{\"color\":\"#2a3f5f\"}},\"annotationdefaults\":{\"arrowcolor\":\"#2a3f5f\",\"arrowhead\":0,\"arrowwidth\":1},\"geo\":{\"bgcolor\":\"white\",\"landcolor\":\"#E5ECF6\",\"subunitcolor\":\"white\",\"showland\":true,\"showlakes\":true,\"lakecolor\":\"white\"},\"title\":{\"x\":0.05},\"mapbox\":{\"style\":\"light\"}}}},                        {\"responsive\": true}                    ).then(function(){\n",
              "                            \n",
              "var gd = document.getElementById('da137190-70a3-4ad9-83d3-ccbf5b5bd041');\n",
              "var x = new MutationObserver(function (mutations, observer) {{\n",
              "        var display = window.getComputedStyle(gd).display;\n",
              "        if (!display || display === 'none') {{\n",
              "            console.log([gd, 'removed!']);\n",
              "            Plotly.purge(gd);\n",
              "            observer.disconnect();\n",
              "        }}\n",
              "}});\n",
              "\n",
              "// Listen for the removal of the full notebook cells\n",
              "var notebookContainer = gd.closest('#notebook-container');\n",
              "if (notebookContainer) {{\n",
              "    x.observe(notebookContainer, {childList: true});\n",
              "}}\n",
              "\n",
              "// Listen for the clearing of the current output cell\n",
              "var outputEl = gd.closest('.output');\n",
              "if (outputEl) {{\n",
              "    x.observe(outputEl, {childList: true});\n",
              "}}\n",
              "\n",
              "                        })                };                            </script>        </div>\n",
              "</body>\n",
              "</html>"
            ]
          },
          "metadata": {}
        }
      ]
    },
    {
      "cell_type": "code",
      "source": [
        "# ベストパラメータを使ってモデルの訓練\n",
        "\n",
        "X_train, X_valid, y_train, y_valid = train_test_split(X, y, test_size=0.2, random_state=42, stratify=y)\n",
        "dtrain = lgb.Dataset(X_train, label=y_train)\n",
        "dvalid = lgb.Dataset(X_valid, label=y_valid, reference=dtrain)\n",
        "\n",
        "# Best trial: {'num_iterations': 907, 'learning_rate': 0.18325539987347003, 'lambda_l1': 1.7515990799195345, 'lambda_l2': 1.1256460383989682, 'num_leaves': 43, 'feature_fraction': 0.5390242272131383, 'bagging_fraction': 0.9367255981016527, 'bagging_freq': 2, 'min_child_samples': 74}\n",
        "# Best score:  0.5300418884582024\n",
        "\n",
        "param = {\n",
        "    'objective': 'multiclass',\n",
        "    'metric': 'multi_logloss',\n",
        "    'num_class': 4,\n",
        "    'num_iterations': 907,\n",
        "    'learning_rate': 0.18325539987347003,\n",
        "    'lambda_l1': 1.7515990799195345,\n",
        "    'lambda_l2': 1.1256460383989682,\n",
        "    'num_leaves': 43,\n",
        "    'feature_fraction': 0.5390242272131383,\n",
        "    'bagging_fraction': 0.9367255981016527,\n",
        "    'bagging_freq': 2,\n",
        "    'min_child_samples': 74,\n",
        "    'random_state': 42,\n",
        "    'verbose': -1\n",
        "    }\n",
        "\n",
        "verbose_eval = 0\n",
        "lgb_model = lgb.train(param, dtrain, valid_sets=[dvalid],\n",
        "                callbacks=[\n",
        "        lgb.early_stopping(stopping_rounds=10, verbose=True),\n",
        "        lgb.log_evaluation(verbose_eval)\n",
        "    ])\n",
        "\n",
        "# テストデータでの推論\n",
        "lgb_preds = lgb_model.predict(df_test).astype(np.float32)\n",
        "lgb_preds = np.argmax(lgb_preds, axis=1)\n",
        "\n",
        "print(lgb_preds.shape)\n",
        "print(lgb_preds)"
      ],
      "metadata": {
        "colab": {
          "base_uri": "https://localhost:8080/"
        },
        "collapsed": true,
        "outputId": "022aacfb-5739-4e1b-9c16-c09ad2514f49",
        "id": "tMpJuCrejHeQ"
      },
      "execution_count": 60,
      "outputs": [
        {
          "output_type": "stream",
          "name": "stderr",
          "text": [
            "/usr/local/lib/python3.10/dist-packages/lightgbm/engine.py:172: UserWarning:\n",
            "\n",
            "Found `num_iterations` in params. Will use it instead of argument\n",
            "\n"
          ]
        },
        {
          "output_type": "stream",
          "name": "stdout",
          "text": [
            "Training until validation scores don't improve for 10 rounds\n",
            "Early stopping, best iteration is:\n",
            "[38]\tvalid_0's multi_logloss: 1.04423\n",
            "(800,)\n",
            "[3 2 3 1 2 2 0 3 2 1 1 2 1 1 3 3 1 2 0 1 2 3 2 3 1 1 3 1 3 2 0 0 1 2 0 2 0\n",
            " 0 0 2 0 3 3 0 2 2 1 0 2 2 2 2 3 1 1 1 2 3 3 2 1 0 2 3 2 2 2 2 1 0 0 3 2 2\n",
            " 3 1 0 0 2 1 1 0 0 2 2 3 2 0 3 0 2 2 2 3 1 2 3 0 2 2 0 1 0 2 2 0 3 2 3 1 2\n",
            " 0 2 0 1 3 3 1 2 1 0 3 3 1 0 1 2 2 2 1 1 3 3 2 2 3 0 2 1 3 2 0 2 3 2 1 3 1\n",
            " 2 0 2 0 2 2 3 0 2 2 1 2 2 3 1 1 2 3 0 3 1 1 2 3 3 3 2 1 2 1 2 2 1 2 0 0 2\n",
            " 2 1 3 2 2 0 1 2 3 1 0 3 1 1 0 3 2 1 2 2 3 2 1 1 1 3 2 3 0 1 2 2 2 3 1 2 3\n",
            " 1 1 2 1 1 2 1 1 3 1 2 0 1 3 2 2 2 3 2 0 0 0 3 0 0 2 3 0 0 3 2 1 3 2 0 1 2\n",
            " 0 0 2 3 2 1 2 2 3 1 2 1 2 1 3 0 2 0 0 2 0 1 2 1 3 2 1 2 3 2 3 3 2 2 3 0 3\n",
            " 2 3 2 1 1 2 2 0 1 2 2 1 0 3 0 1 1 2 1 1 1 2 0 1 2 1 2 3 0 2 1 1 1 2 1 3 2\n",
            " 1 1 1 3 2 2 2 3 3 3 2 3 3 1 0 3 3 2 2 3 2 3 1 3 3 2 1 1 1 1 1 1 0 2 0 3 2\n",
            " 1 0 3 2 2 1 1 3 3 1 1 2 3 1 3 2 1 2 3 2 1 3 2 0 3 2 3 2 3 2 0 0 3 0 1 3 3\n",
            " 2 1 2 1 0 1 0 2 1 1 2 1 3 2 2 1 2 3 0 1 0 0 1 3 3 1 2 2 0 2 2 1 0 3 3 3 2\n",
            " 0 3 1 1 0 1 2 0 2 2 0 2 0 3 2 1 2 3 2 2 0 3 0 0 2 0 1 2 3 2 0 1 2 2 1 0 3\n",
            " 0 2 2 2 1 3 3 3 1 2 0 0 2 1 1 1 2 3 3 1 3 0 1 0 1 0 2 1 2 3 2 1 3 2 0 0 2\n",
            " 0 2 0 0 1 2 2 3 2 0 2 1 0 3 0 2 2 2 2 2 1 2 1 3 2 1 1 1 2 2 2 2 3 2 1 2 3\n",
            " 2 2 1 1 3 0 0 2 1 2 0 2 1 1 1 0 0 1 3 2 2 3 2 1 1 2 3 3 2 1 1 1 3 2 1 1 1\n",
            " 3 2 1 0 1 1 3 1 2 3 0 2 2 0 0 3 2 1 0 3 0 0 1 1 1 2 1 1 1 1 1 2 0 3 1 1 2\n",
            " 2 1 0 1 0 3 2 1 2 0 2 3 2 2 1 1 2 3 0 2 1 3 1 1 1 1 3 3 1 1 1 2 1 2 1 1 2\n",
            " 1 1 0 1 2 2 1 3 3 2 3 0 1 1 2 2 3 1 2 2 0 2 0 2 1 2 2 2 2 0 2 1 3 2 2 2 3\n",
            " 1 1 3 3 2 2 0 1 2 2 0 3 2 0 1 2 0 1 1 3 2 2 1 0 3 1 3 3 3 1 1 1 2 1 0 2 3\n",
            " 1 1 1 0 0 3 0 3 1 2 1 3 2 3 2 1 3 2 1 2 2 0 2 3 3 1 1 1 1 0 0 2 2 2 3 2 3\n",
            " 1 0 3 3 0 2 3 0 1 3 1 0 1 3 2 1 1 3 0 1 3 2 2]\n"
          ]
        }
      ]
    },
    {
      "cell_type": "markdown",
      "source": [
        "### 5. CatBoost"
      ],
      "metadata": {
        "id": "Xb6ImfRXgB_n"
      }
    },
    {
      "cell_type": "code",
      "source": [
        "def objective(trial):\n",
        "\n",
        "    X_train, X_valid, y_train, y_valid = train_test_split(X, y, test_size=0.2, random_state=42, stratify=y)\n",
        "\n",
        "    param = {\n",
        "        'loss_function': 'MultiClass',\n",
        "        # \"objective\": trial.suggest_categorical(\"objective\", [\"Logloss\", \"CrossEntropy\"]),\n",
        "        'learning_rate': trial.suggest_float('learning_rate', 1e-3, 1.0, log=True),\n",
        "        \"colsample_bylevel\": trial.suggest_float(\"colsample_bylevel\", 0.01, 0.1, log=True),\n",
        "        \"depth\": trial.suggest_int(\"depth\", 1, 12),\n",
        "        \"boosting_type\": trial.suggest_categorical(\"boosting_type\", [\"Ordered\", \"Plain\"]),\n",
        "        \"bootstrap_type\": trial.suggest_categorical(\n",
        "            \"bootstrap_type\", [\"Bayesian\", \"Bernoulli\", \"MVS\"]\n",
        "        ),\n",
        "        \"used_ram_limit\": \"3gb\",\n",
        "        \"eval_metric\": \"Accuracy\",\n",
        "        \"random_state\": 42,\n",
        "    }\n",
        "\n",
        "    if param[\"bootstrap_type\"] == \"Bayesian\":\n",
        "        param[\"bagging_temperature\"] = trial.suggest_float(\"bagging_temperature\", 0, 10)\n",
        "    elif param[\"bootstrap_type\"] == \"Bernoulli\":\n",
        "        param[\"subsample\"] = trial.suggest_float(\"subsample\", 0.1, 1, log=True)\n",
        "\n",
        "    gbm = cb.CatBoostClassifier(**param)\n",
        "\n",
        "    pruning_callback = CatBoostPruningCallback(trial, \"Accuracy\")\n",
        "    gbm.fit(\n",
        "        X_train,\n",
        "        y_train,\n",
        "        eval_set=[(X_valid, y_valid)],\n",
        "        verbose=0,\n",
        "        early_stopping_rounds=20,\n",
        "        callbacks=[pruning_callback],\n",
        "    )\n",
        "\n",
        "    # evoke pruning manually.\n",
        "    pruning_callback.check_pruned()\n",
        "\n",
        "    preds = gbm.predict(X_valid)\n",
        "    # pred_labels = np.rint(preds)\n",
        "    # accuracy = accuracy_score(y_valid, pred_labels)\n",
        "    # accuracy = accuracy_score(y_valid, preds)\n",
        "    f1_macro = f1_score(y_valid, preds, average='macro')\n",
        "\n",
        "    # return accuracy\n",
        "    return f1_macro"
      ],
      "metadata": {
        "id": "f1_gQxRH9HfG"
      },
      "execution_count": 50,
      "outputs": []
    },
    {
      "cell_type": "code",
      "source": [
        "study = optuna.create_study(\n",
        "        pruner=optuna.pruners.MedianPruner(n_warmup_steps=5), direction=\"maximize\",\n",
        "    )\n",
        "study.optimize(objective, n_trials=100, timeout=600, n_jobs=-1)\n",
        "\n",
        "print(\"Number of finished trials: {}\".format(len(study.trials)))\n",
        "\n",
        "print(\"Best trial:\")\n",
        "trial = study.best_trial\n",
        "\n",
        "print(\"  Value: {}\".format(trial.value))\n",
        "\n",
        "print(\"  Params: \")\n",
        "for key, value in trial.params.items():\n",
        "    print(\"    {}: {}\".format(key, value))"
      ],
      "metadata": {
        "colab": {
          "base_uri": "https://localhost:8080/"
        },
        "collapsed": true,
        "id": "8C0z0G4y-7Nb",
        "outputId": "262cff60-53a1-4dc7-bba7-7ab24143f789"
      },
      "execution_count": 51,
      "outputs": [
        {
          "output_type": "stream",
          "name": "stderr",
          "text": [
            "[I 2024-05-27 00:39:38,585] A new study created in memory with name: no-name-549e0cf4-56eb-4448-b442-01bad7eca2fe\n",
            "<ipython-input-50-4975fbfa3d8d>:27: ExperimentalWarning:\n",
            "\n",
            "CatBoostPruningCallback is experimental (supported from v3.0.0). The interface can change in the future.\n",
            "\n",
            "<ipython-input-50-4975fbfa3d8d>:27: ExperimentalWarning:\n",
            "\n",
            "CatBoostPruningCallback is experimental (supported from v3.0.0). The interface can change in the future.\n",
            "\n",
            "[I 2024-05-27 00:39:38,958] Trial 1 finished with value: 0.12962962962962962 and parameters: {'learning_rate': 0.03215577985250393, 'colsample_bylevel': 0.014852591870153345, 'depth': 12, 'boosting_type': 'Ordered', 'bootstrap_type': 'Bernoulli', 'subsample': 0.4114880133294928}. Best is trial 1 with value: 0.12962962962962962.\n",
            "<ipython-input-50-4975fbfa3d8d>:27: ExperimentalWarning:\n",
            "\n",
            "CatBoostPruningCallback is experimental (supported from v3.0.0). The interface can change in the future.\n",
            "\n",
            "[I 2024-05-27 00:39:39,008] Trial 0 finished with value: 0.25952185792349725 and parameters: {'learning_rate': 0.0015661614489300793, 'colsample_bylevel': 0.04249741619347061, 'depth': 12, 'boosting_type': 'Ordered', 'bootstrap_type': 'MVS'}. Best is trial 0 with value: 0.25952185792349725.\n",
            "<ipython-input-50-4975fbfa3d8d>:27: ExperimentalWarning:\n",
            "\n",
            "CatBoostPruningCallback is experimental (supported from v3.0.0). The interface can change in the future.\n",
            "\n",
            "[I 2024-05-27 00:39:39,197] Trial 3 finished with value: 0.12962962962962962 and parameters: {'learning_rate': 0.08830990255560436, 'colsample_bylevel': 0.010747967107241064, 'depth': 5, 'boosting_type': 'Plain', 'bootstrap_type': 'MVS'}. Best is trial 0 with value: 0.25952185792349725.\n",
            "<ipython-input-50-4975fbfa3d8d>:27: ExperimentalWarning:\n",
            "\n",
            "CatBoostPruningCallback is experimental (supported from v3.0.0). The interface can change in the future.\n",
            "\n",
            "[I 2024-05-27 00:39:39,572] Trial 2 finished with value: 0.2638757115749526 and parameters: {'learning_rate': 0.2731029400638132, 'colsample_bylevel': 0.011605922476263289, 'depth': 8, 'boosting_type': 'Ordered', 'bootstrap_type': 'Bayesian', 'bagging_temperature': 4.126717897879314}. Best is trial 2 with value: 0.2638757115749526.\n",
            "<ipython-input-50-4975fbfa3d8d>:27: ExperimentalWarning:\n",
            "\n",
            "CatBoostPruningCallback is experimental (supported from v3.0.0). The interface can change in the future.\n",
            "\n",
            "[I 2024-05-27 00:39:39,801] Trial 4 finished with value: 0.2505537098560354 and parameters: {'learning_rate': 0.016586811968124806, 'colsample_bylevel': 0.03636254866024448, 'depth': 7, 'boosting_type': 'Ordered', 'bootstrap_type': 'Bernoulli', 'subsample': 0.3212062132700015}. Best is trial 2 with value: 0.2638757115749526.\n",
            "<ipython-input-50-4975fbfa3d8d>:27: ExperimentalWarning:\n",
            "\n",
            "CatBoostPruningCallback is experimental (supported from v3.0.0). The interface can change in the future.\n",
            "\n",
            "[I 2024-05-27 00:39:40,032] Trial 5 finished with value: 0.27567729300402566 and parameters: {'learning_rate': 0.0018460601393901876, 'colsample_bylevel': 0.0494118368019424, 'depth': 2, 'boosting_type': 'Ordered', 'bootstrap_type': 'Bayesian', 'bagging_temperature': 7.26258036046125}. Best is trial 5 with value: 0.27567729300402566.\n",
            "<ipython-input-50-4975fbfa3d8d>:27: ExperimentalWarning:\n",
            "\n",
            "CatBoostPruningCallback is experimental (supported from v3.0.0). The interface can change in the future.\n",
            "\n",
            "[I 2024-05-27 00:39:40,368] Trial 6 finished with value: 0.4813886017819528 and parameters: {'learning_rate': 0.5469215296765928, 'colsample_bylevel': 0.09749968744411376, 'depth': 1, 'boosting_type': 'Plain', 'bootstrap_type': 'MVS'}. Best is trial 6 with value: 0.4813886017819528.\n",
            "<ipython-input-50-4975fbfa3d8d>:27: ExperimentalWarning:\n",
            "\n",
            "CatBoostPruningCallback is experimental (supported from v3.0.0). The interface can change in the future.\n",
            "\n",
            "[I 2024-05-27 00:39:40,461] Trial 7 finished with value: 0.2706227006404142 and parameters: {'learning_rate': 0.0013353501629150152, 'colsample_bylevel': 0.09204061679512332, 'depth': 1, 'boosting_type': 'Ordered', 'bootstrap_type': 'MVS'}. Best is trial 6 with value: 0.4813886017819528.\n",
            "<ipython-input-50-4975fbfa3d8d>:27: ExperimentalWarning:\n",
            "\n",
            "CatBoostPruningCallback is experimental (supported from v3.0.0). The interface can change in the future.\n",
            "\n",
            "[I 2024-05-27 00:39:40,618] Trial 9 pruned. Trial was pruned at iteration 5.\n",
            "<ipython-input-50-4975fbfa3d8d>:27: ExperimentalWarning:\n",
            "\n",
            "CatBoostPruningCallback is experimental (supported from v3.0.0). The interface can change in the future.\n",
            "\n",
            "[I 2024-05-27 00:39:40,740] Trial 8 finished with value: 0.3681600547195622 and parameters: {'learning_rate': 0.0076960621682770555, 'colsample_bylevel': 0.05623985525154784, 'depth': 7, 'boosting_type': 'Plain', 'bootstrap_type': 'Bernoulli', 'subsample': 0.11742253775105488}. Best is trial 6 with value: 0.4813886017819528.\n",
            "[I 2024-05-27 00:39:40,847] Trial 10 pruned. Trial was pruned at iteration 5.\n",
            "<ipython-input-50-4975fbfa3d8d>:27: ExperimentalWarning:\n",
            "\n",
            "CatBoostPruningCallback is experimental (supported from v3.0.0). The interface can change in the future.\n",
            "\n",
            "[I 2024-05-27 00:39:41,459] Trial 12 finished with value: 0.4486088119716378 and parameters: {'learning_rate': 0.4916660751135853, 'colsample_bylevel': 0.09914983267933637, 'depth': 4, 'boosting_type': 'Plain', 'bootstrap_type': 'Bernoulli', 'subsample': 0.10093674019664747}. Best is trial 6 with value: 0.4813886017819528.\n",
            "[I 2024-05-27 00:39:41,505] Trial 11 finished with value: 0.48662424337907306 and parameters: {'learning_rate': 0.5652249335607727, 'colsample_bylevel': 0.0923242977495461, 'depth': 4, 'boosting_type': 'Plain', 'bootstrap_type': 'MVS'}. Best is trial 11 with value: 0.48662424337907306.\n",
            "<ipython-input-50-4975fbfa3d8d>:27: ExperimentalWarning:\n",
            "\n",
            "CatBoostPruningCallback is experimental (supported from v3.0.0). The interface can change in the future.\n",
            "\n",
            "[I 2024-05-27 00:39:42,149] Trial 13 finished with value: 0.5108030829332644 and parameters: {'learning_rate': 0.8377231987502277, 'colsample_bylevel': 0.09852462069586339, 'depth': 3, 'boosting_type': 'Plain', 'bootstrap_type': 'MVS'}. Best is trial 13 with value: 0.5108030829332644.\n",
            "[I 2024-05-27 00:39:42,209] Trial 14 pruned. Trial was pruned at iteration 44.\n",
            "<ipython-input-50-4975fbfa3d8d>:27: ExperimentalWarning:\n",
            "\n",
            "CatBoostPruningCallback is experimental (supported from v3.0.0). The interface can change in the future.\n",
            "\n",
            "[I 2024-05-27 00:39:42,554] Trial 16 pruned. Trial was pruned at iteration 8.\n",
            "<ipython-input-50-4975fbfa3d8d>:27: ExperimentalWarning:\n",
            "\n",
            "CatBoostPruningCallback is experimental (supported from v3.0.0). The interface can change in the future.\n",
            "\n",
            "[I 2024-05-27 00:39:42,767] Trial 15 pruned. Trial was pruned at iteration 39.\n",
            "<ipython-input-50-4975fbfa3d8d>:27: ExperimentalWarning:\n",
            "\n",
            "CatBoostPruningCallback is experimental (supported from v3.0.0). The interface can change in the future.\n",
            "\n",
            "[I 2024-05-27 00:39:43,033] Trial 17 pruned. Trial was pruned at iteration 8.\n",
            "[I 2024-05-27 00:39:43,159] Trial 18 pruned. Trial was pruned at iteration 8.\n",
            "<ipython-input-50-4975fbfa3d8d>:27: ExperimentalWarning:\n",
            "\n",
            "CatBoostPruningCallback is experimental (supported from v3.0.0). The interface can change in the future.\n",
            "\n",
            "<ipython-input-50-4975fbfa3d8d>:27: ExperimentalWarning:\n",
            "\n",
            "CatBoostPruningCallback is experimental (supported from v3.0.0). The interface can change in the future.\n",
            "\n",
            "[I 2024-05-27 00:39:43,797] Trial 20 finished with value: 0.41765039227591466 and parameters: {'learning_rate': 0.28407411740877225, 'colsample_bylevel': 0.07588734646005908, 'depth': 5, 'boosting_type': 'Plain', 'bootstrap_type': 'MVS'}. Best is trial 13 with value: 0.5108030829332644.\n",
            "<ipython-input-50-4975fbfa3d8d>:27: ExperimentalWarning:\n",
            "\n",
            "CatBoostPruningCallback is experimental (supported from v3.0.0). The interface can change in the future.\n",
            "\n",
            "[I 2024-05-27 00:39:44,080] Trial 21 pruned. Trial was pruned at iteration 6.\n",
            "<ipython-input-50-4975fbfa3d8d>:27: ExperimentalWarning:\n",
            "\n",
            "CatBoostPruningCallback is experimental (supported from v3.0.0). The interface can change in the future.\n",
            "\n",
            "[I 2024-05-27 00:39:44,447] Trial 22 pruned. Trial was pruned at iteration 22.\n",
            "[I 2024-05-27 00:39:44,491] Trial 19 finished with value: 0.4849742977870584 and parameters: {'learning_rate': 0.8090281292059608, 'colsample_bylevel': 0.07800397615937135, 'depth': 9, 'boosting_type': 'Plain', 'bootstrap_type': 'MVS'}. Best is trial 13 with value: 0.5108030829332644.\n",
            "<ipython-input-50-4975fbfa3d8d>:27: ExperimentalWarning:\n",
            "\n",
            "CatBoostPruningCallback is experimental (supported from v3.0.0). The interface can change in the future.\n",
            "\n",
            "[I 2024-05-27 00:39:45,445] Trial 23 finished with value: 0.5085558285558285 and parameters: {'learning_rate': 0.5435288599442936, 'colsample_bylevel': 0.09516571053819745, 'depth': 2, 'boosting_type': 'Plain', 'bootstrap_type': 'MVS'}. Best is trial 13 with value: 0.5108030829332644.\n",
            "[I 2024-05-27 00:39:45,624] Trial 24 finished with value: 0.4732907851022906 and parameters: {'learning_rate': 0.5562473627509998, 'colsample_bylevel': 0.07860508534202003, 'depth': 10, 'boosting_type': 'Plain', 'bootstrap_type': 'MVS'}. Best is trial 13 with value: 0.5108030829332644.\n",
            "<ipython-input-50-4975fbfa3d8d>:27: ExperimentalWarning:\n",
            "\n",
            "CatBoostPruningCallback is experimental (supported from v3.0.0). The interface can change in the future.\n",
            "\n",
            "[I 2024-05-27 00:39:45,790] Trial 25 pruned. Trial was pruned at iteration 5.\n",
            "<ipython-input-50-4975fbfa3d8d>:27: ExperimentalWarning:\n",
            "\n",
            "CatBoostPruningCallback is experimental (supported from v3.0.0). The interface can change in the future.\n",
            "\n",
            "[I 2024-05-27 00:39:45,961] Trial 26 pruned. Trial was pruned at iteration 5.\n",
            "<ipython-input-50-4975fbfa3d8d>:27: ExperimentalWarning:\n",
            "\n",
            "CatBoostPruningCallback is experimental (supported from v3.0.0). The interface can change in the future.\n",
            "\n",
            "[I 2024-05-27 00:39:46,299] Trial 28 pruned. Trial was pruned at iteration 5.\n",
            "<ipython-input-50-4975fbfa3d8d>:27: ExperimentalWarning:\n",
            "\n",
            "CatBoostPruningCallback is experimental (supported from v3.0.0). The interface can change in the future.\n",
            "\n",
            "[I 2024-05-27 00:39:46,385] Trial 27 finished with value: 0.5028017982314855 and parameters: {'learning_rate': 0.3593426588346653, 'colsample_bylevel': 0.09884665275244094, 'depth': 4, 'boosting_type': 'Plain', 'bootstrap_type': 'MVS'}. Best is trial 13 with value: 0.5108030829332644.\n",
            "<ipython-input-50-4975fbfa3d8d>:27: ExperimentalWarning:\n",
            "\n",
            "CatBoostPruningCallback is experimental (supported from v3.0.0). The interface can change in the future.\n",
            "\n",
            "[I 2024-05-27 00:39:46,561] Trial 30 pruned. Trial was pruned at iteration 5.\n",
            "[I 2024-05-27 00:39:46,640] Trial 29 pruned. Trial was pruned at iteration 44.\n",
            "<ipython-input-50-4975fbfa3d8d>:27: ExperimentalWarning:\n",
            "\n",
            "CatBoostPruningCallback is experimental (supported from v3.0.0). The interface can change in the future.\n",
            "\n",
            "[I 2024-05-27 00:39:46,764] Trial 31 pruned. Trial was pruned at iteration 5.\n",
            "[I 2024-05-27 00:39:46,834] Trial 32 pruned. Trial was pruned at iteration 5.\n",
            "<ipython-input-50-4975fbfa3d8d>:27: ExperimentalWarning:\n",
            "\n",
            "CatBoostPruningCallback is experimental (supported from v3.0.0). The interface can change in the future.\n",
            "\n",
            "[I 2024-05-27 00:39:47,178] Trial 33 finished with value: 0.4752900555139361 and parameters: {'learning_rate': 0.6539425032328723, 'colsample_bylevel': 0.08528716680290456, 'depth': 3, 'boosting_type': 'Plain', 'bootstrap_type': 'MVS'}. Best is trial 13 with value: 0.5108030829332644.\n",
            "[I 2024-05-27 00:39:47,200] Trial 34 pruned. Trial was pruned at iteration 33.\n",
            "<ipython-input-50-4975fbfa3d8d>:27: ExperimentalWarning:\n",
            "\n",
            "CatBoostPruningCallback is experimental (supported from v3.0.0). The interface can change in the future.\n",
            "\n",
            "[I 2024-05-27 00:39:48,010] Trial 36 finished with value: 0.5114102561344865 and parameters: {'learning_rate': 0.4049175329260322, 'colsample_bylevel': 0.0689028294633342, 'depth': 4, 'boosting_type': 'Ordered', 'bootstrap_type': 'MVS'}. Best is trial 36 with value: 0.5114102561344865.\n",
            "[I 2024-05-27 00:39:48,182] Trial 35 finished with value: 0.5007110008468776 and parameters: {'learning_rate': 0.39434729161227405, 'colsample_bylevel': 0.06994073600237914, 'depth': 6, 'boosting_type': 'Ordered', 'bootstrap_type': 'MVS'}. Best is trial 36 with value: 0.5114102561344865.\n",
            "<ipython-input-50-4975fbfa3d8d>:27: ExperimentalWarning:\n",
            "\n",
            "CatBoostPruningCallback is experimental (supported from v3.0.0). The interface can change in the future.\n",
            "\n",
            "<ipython-input-50-4975fbfa3d8d>:27: ExperimentalWarning:\n",
            "\n",
            "CatBoostPruningCallback is experimental (supported from v3.0.0). The interface can change in the future.\n",
            "\n",
            "[I 2024-05-27 00:39:48,365] Trial 38 pruned. Trial was pruned at iteration 8.\n",
            "<ipython-input-50-4975fbfa3d8d>:27: ExperimentalWarning:\n",
            "\n",
            "CatBoostPruningCallback is experimental (supported from v3.0.0). The interface can change in the future.\n",
            "\n",
            "[I 2024-05-27 00:39:48,927] Trial 37 finished with value: 0.5031824546537993 and parameters: {'learning_rate': 0.37169897467596164, 'colsample_bylevel': 0.07010747696176821, 'depth': 6, 'boosting_type': 'Ordered', 'bootstrap_type': 'Bernoulli', 'subsample': 0.996693417892472}. Best is trial 36 with value: 0.5114102561344865.\n",
            "<ipython-input-50-4975fbfa3d8d>:27: ExperimentalWarning:\n",
            "\n",
            "CatBoostPruningCallback is experimental (supported from v3.0.0). The interface can change in the future.\n",
            "\n",
            "[I 2024-05-27 00:39:49,093] Trial 39 pruned. Trial was pruned at iteration 33.\n",
            "[I 2024-05-27 00:39:49,164] Trial 40 pruned. Trial was pruned at iteration 5.\n",
            "<ipython-input-50-4975fbfa3d8d>:27: ExperimentalWarning:\n",
            "\n",
            "CatBoostPruningCallback is experimental (supported from v3.0.0). The interface can change in the future.\n",
            "\n",
            "[I 2024-05-27 00:39:49,565] Trial 41 pruned. Trial was pruned at iteration 21.\n",
            "<ipython-input-50-4975fbfa3d8d>:27: ExperimentalWarning:\n",
            "\n",
            "CatBoostPruningCallback is experimental (supported from v3.0.0). The interface can change in the future.\n",
            "\n",
            "[I 2024-05-27 00:39:49,755] Trial 42 finished with value: 0.4822857819767722 and parameters: {'learning_rate': 0.44330976794542576, 'colsample_bylevel': 0.0768047841414775, 'depth': 5, 'boosting_type': 'Ordered', 'bootstrap_type': 'Bernoulli', 'subsample': 0.9878298166601099}. Best is trial 36 with value: 0.5114102561344865.\n",
            "<ipython-input-50-4975fbfa3d8d>:27: ExperimentalWarning:\n",
            "\n",
            "CatBoostPruningCallback is experimental (supported from v3.0.0). The interface can change in the future.\n",
            "\n",
            "[I 2024-05-27 00:39:50,600] Trial 44 pruned. Trial was pruned at iteration 21.\n",
            "<ipython-input-50-4975fbfa3d8d>:27: ExperimentalWarning:\n",
            "\n",
            "CatBoostPruningCallback is experimental (supported from v3.0.0). The interface can change in the future.\n",
            "\n",
            "[I 2024-05-27 00:39:50,723] Trial 43 pruned. Trial was pruned at iteration 45.\n",
            "<ipython-input-50-4975fbfa3d8d>:27: ExperimentalWarning:\n",
            "\n",
            "CatBoostPruningCallback is experimental (supported from v3.0.0). The interface can change in the future.\n",
            "\n",
            "[I 2024-05-27 00:39:50,823] Trial 45 pruned. Trial was pruned at iteration 5.\n",
            "<ipython-input-50-4975fbfa3d8d>:27: ExperimentalWarning:\n",
            "\n",
            "CatBoostPruningCallback is experimental (supported from v3.0.0). The interface can change in the future.\n",
            "\n",
            "[I 2024-05-27 00:39:50,918] Trial 46 pruned. Trial was pruned at iteration 5.\n",
            "<ipython-input-50-4975fbfa3d8d>:27: ExperimentalWarning:\n",
            "\n",
            "CatBoostPruningCallback is experimental (supported from v3.0.0). The interface can change in the future.\n",
            "\n",
            "[I 2024-05-27 00:39:51,040] Trial 47 pruned. Trial was pruned at iteration 5.\n",
            "<ipython-input-50-4975fbfa3d8d>:27: ExperimentalWarning:\n",
            "\n",
            "CatBoostPruningCallback is experimental (supported from v3.0.0). The interface can change in the future.\n",
            "\n",
            "[I 2024-05-27 00:39:51,208] Trial 48 pruned. Trial was pruned at iteration 11.\n",
            "[I 2024-05-27 00:39:51,291] Trial 49 pruned. Trial was pruned at iteration 6.\n",
            "<ipython-input-50-4975fbfa3d8d>:27: ExperimentalWarning:\n",
            "\n",
            "CatBoostPruningCallback is experimental (supported from v3.0.0). The interface can change in the future.\n",
            "\n",
            "[I 2024-05-27 00:39:51,518] Trial 51 pruned. Trial was pruned at iteration 5.\n",
            "[I 2024-05-27 00:39:51,524] Trial 50 pruned. Trial was pruned at iteration 9.\n",
            "<ipython-input-50-4975fbfa3d8d>:27: ExperimentalWarning:\n",
            "\n",
            "CatBoostPruningCallback is experimental (supported from v3.0.0). The interface can change in the future.\n",
            "\n",
            "[I 2024-05-27 00:39:51,844] Trial 53 pruned. Trial was pruned at iteration 8.\n",
            "<ipython-input-50-4975fbfa3d8d>:27: ExperimentalWarning:\n",
            "\n",
            "CatBoostPruningCallback is experimental (supported from v3.0.0). The interface can change in the future.\n",
            "\n",
            "[I 2024-05-27 00:39:52,232] Trial 52 finished with value: 0.49405337848734077 and parameters: {'learning_rate': 0.6800360490241352, 'colsample_bylevel': 0.07045339021741909, 'depth': 7, 'boosting_type': 'Ordered', 'bootstrap_type': 'MVS'}. Best is trial 36 with value: 0.5114102561344865.\n",
            "<ipython-input-50-4975fbfa3d8d>:27: ExperimentalWarning:\n",
            "\n",
            "CatBoostPruningCallback is experimental (supported from v3.0.0). The interface can change in the future.\n",
            "\n",
            "[I 2024-05-27 00:39:52,906] Trial 54 finished with value: 0.4918326224595211 and parameters: {'learning_rate': 0.34208987572432603, 'colsample_bylevel': 0.07012800690470494, 'depth': 6, 'boosting_type': 'Ordered', 'bootstrap_type': 'MVS'}. Best is trial 36 with value: 0.5114102561344865.\n",
            "<ipython-input-50-4975fbfa3d8d>:27: ExperimentalWarning:\n",
            "\n",
            "CatBoostPruningCallback is experimental (supported from v3.0.0). The interface can change in the future.\n",
            "\n",
            "[I 2024-05-27 00:39:53,169] Trial 55 finished with value: 0.4951690878901748 and parameters: {'learning_rate': 0.3353394359663631, 'colsample_bylevel': 0.09303037830681876, 'depth': 6, 'boosting_type': 'Ordered', 'bootstrap_type': 'MVS'}. Best is trial 36 with value: 0.5114102561344865.\n",
            "[I 2024-05-27 00:39:53,197] Trial 56 pruned. Trial was pruned at iteration 5.\n",
            "<ipython-input-50-4975fbfa3d8d>:27: ExperimentalWarning:\n",
            "\n",
            "CatBoostPruningCallback is experimental (supported from v3.0.0). The interface can change in the future.\n",
            "\n",
            "[I 2024-05-27 00:39:53,364] Trial 58 pruned. Trial was pruned at iteration 5.\n",
            "[I 2024-05-27 00:39:53,418] Trial 57 pruned. Trial was pruned at iteration 5.\n",
            "<ipython-input-50-4975fbfa3d8d>:27: ExperimentalWarning:\n",
            "\n",
            "CatBoostPruningCallback is experimental (supported from v3.0.0). The interface can change in the future.\n",
            "\n",
            "[I 2024-05-27 00:39:53,563] Trial 59 pruned. Trial was pruned at iteration 8.\n",
            "[I 2024-05-27 00:39:53,590] Trial 60 pruned. Trial was pruned at iteration 6.\n",
            "<ipython-input-50-4975fbfa3d8d>:27: ExperimentalWarning:\n",
            "\n",
            "CatBoostPruningCallback is experimental (supported from v3.0.0). The interface can change in the future.\n",
            "\n",
            "[I 2024-05-27 00:39:53,732] Trial 61 pruned. Trial was pruned at iteration 5.\n",
            "<ipython-input-50-4975fbfa3d8d>:27: ExperimentalWarning:\n",
            "\n",
            "CatBoostPruningCallback is experimental (supported from v3.0.0). The interface can change in the future.\n",
            "\n",
            "[I 2024-05-27 00:39:54,224] Trial 62 finished with value: 0.4512263114435262 and parameters: {'learning_rate': 0.35723601298674573, 'colsample_bylevel': 0.09379364086625479, 'depth': 6, 'boosting_type': 'Ordered', 'bootstrap_type': 'MVS'}. Best is trial 36 with value: 0.5114102561344865.\n",
            "<ipython-input-50-4975fbfa3d8d>:27: ExperimentalWarning:\n",
            "\n",
            "CatBoostPruningCallback is experimental (supported from v3.0.0). The interface can change in the future.\n",
            "\n",
            "[I 2024-05-27 00:39:54,641] Trial 63 finished with value: 0.47872918508694373 and parameters: {'learning_rate': 0.34356830541447847, 'colsample_bylevel': 0.09254874430543147, 'depth': 6, 'boosting_type': 'Ordered', 'bootstrap_type': 'MVS'}. Best is trial 36 with value: 0.5114102561344865.\n",
            "<ipython-input-50-4975fbfa3d8d>:27: ExperimentalWarning:\n",
            "\n",
            "CatBoostPruningCallback is experimental (supported from v3.0.0). The interface can change in the future.\n",
            "\n",
            "[I 2024-05-27 00:39:55,203] Trial 65 finished with value: 0.4959165631164916 and parameters: {'learning_rate': 0.6097649947846142, 'colsample_bylevel': 0.0734472539250338, 'depth': 5, 'boosting_type': 'Ordered', 'bootstrap_type': 'MVS'}. Best is trial 36 with value: 0.5114102561344865.\n",
            "[I 2024-05-27 00:39:55,229] Trial 64 finished with value: 0.4894345907977265 and parameters: {'learning_rate': 0.17798082547698038, 'colsample_bylevel': 0.09272849035412961, 'depth': 7, 'boosting_type': 'Ordered', 'bootstrap_type': 'MVS'}. Best is trial 36 with value: 0.5114102561344865.\n",
            "<ipython-input-50-4975fbfa3d8d>:27: ExperimentalWarning:\n",
            "\n",
            "CatBoostPruningCallback is experimental (supported from v3.0.0). The interface can change in the future.\n",
            "\n",
            "[I 2024-05-27 00:39:55,479] Trial 66 pruned. Trial was pruned at iteration 6.\n",
            "<ipython-input-50-4975fbfa3d8d>:27: ExperimentalWarning:\n",
            "\n",
            "CatBoostPruningCallback is experimental (supported from v3.0.0). The interface can change in the future.\n",
            "\n",
            "[I 2024-05-27 00:39:55,642] Trial 68 pruned. Trial was pruned at iteration 5.\n",
            "[I 2024-05-27 00:39:55,710] Trial 67 finished with value: 0.5013547698176128 and parameters: {'learning_rate': 0.7111445469118503, 'colsample_bylevel': 0.061535830492558466, 'depth': 5, 'boosting_type': 'Ordered', 'bootstrap_type': 'MVS'}. Best is trial 36 with value: 0.5114102561344865.\n",
            "<ipython-input-50-4975fbfa3d8d>:27: ExperimentalWarning:\n",
            "\n",
            "CatBoostPruningCallback is experimental (supported from v3.0.0). The interface can change in the future.\n",
            "\n",
            "[I 2024-05-27 00:39:55,903] Trial 70 pruned. Trial was pruned at iteration 5.\n",
            "[I 2024-05-27 00:39:55,940] Trial 69 pruned. Trial was pruned at iteration 9.\n",
            "<ipython-input-50-4975fbfa3d8d>:27: ExperimentalWarning:\n",
            "\n",
            "CatBoostPruningCallback is experimental (supported from v3.0.0). The interface can change in the future.\n",
            "\n",
            "[I 2024-05-27 00:39:56,138] Trial 71 pruned. Trial was pruned at iteration 6.\n",
            "<ipython-input-50-4975fbfa3d8d>:27: ExperimentalWarning:\n",
            "\n",
            "CatBoostPruningCallback is experimental (supported from v3.0.0). The interface can change in the future.\n",
            "\n",
            "[I 2024-05-27 00:39:56,423] Trial 72 pruned. Trial was pruned at iteration 33.\n",
            "<ipython-input-50-4975fbfa3d8d>:27: ExperimentalWarning:\n",
            "\n",
            "CatBoostPruningCallback is experimental (supported from v3.0.0). The interface can change in the future.\n",
            "\n",
            "[I 2024-05-27 00:39:56,708] Trial 74 pruned. Trial was pruned at iteration 11.\n",
            "[I 2024-05-27 00:39:56,727] Trial 73 finished with value: 0.4783507008312425 and parameters: {'learning_rate': 0.6639651712005676, 'colsample_bylevel': 0.058579653934935125, 'depth': 4, 'boosting_type': 'Ordered', 'bootstrap_type': 'MVS'}. Best is trial 36 with value: 0.5114102561344865.\n",
            "<ipython-input-50-4975fbfa3d8d>:27: ExperimentalWarning:\n",
            "\n",
            "CatBoostPruningCallback is experimental (supported from v3.0.0). The interface can change in the future.\n",
            "\n",
            "[I 2024-05-27 00:39:56,872] Trial 75 pruned. Trial was pruned at iteration 5.\n",
            "<ipython-input-50-4975fbfa3d8d>:27: ExperimentalWarning:\n",
            "\n",
            "CatBoostPruningCallback is experimental (supported from v3.0.0). The interface can change in the future.\n",
            "\n",
            "[I 2024-05-27 00:39:56,951] Trial 76 pruned. Trial was pruned at iteration 5.\n",
            "<ipython-input-50-4975fbfa3d8d>:27: ExperimentalWarning:\n",
            "\n",
            "CatBoostPruningCallback is experimental (supported from v3.0.0). The interface can change in the future.\n",
            "\n",
            "[I 2024-05-27 00:39:57,165] Trial 77 pruned. Trial was pruned at iteration 10.\n",
            "<ipython-input-50-4975fbfa3d8d>:27: ExperimentalWarning:\n",
            "\n",
            "CatBoostPruningCallback is experimental (supported from v3.0.0). The interface can change in the future.\n",
            "\n",
            "[I 2024-05-27 00:39:57,781] Trial 78 finished with value: 0.5144574419815232 and parameters: {'learning_rate': 0.5740110283756216, 'colsample_bylevel': 0.07233891150849797, 'depth': 6, 'boosting_type': 'Ordered', 'bootstrap_type': 'Bayesian', 'bagging_temperature': 1.9072492513603367}. Best is trial 78 with value: 0.5144574419815232.\n",
            "[I 2024-05-27 00:39:57,839] Trial 79 pruned. Trial was pruned at iteration 29.\n",
            "<ipython-input-50-4975fbfa3d8d>:27: ExperimentalWarning:\n",
            "\n",
            "CatBoostPruningCallback is experimental (supported from v3.0.0). The interface can change in the future.\n",
            "\n",
            "[I 2024-05-27 00:39:58,021] Trial 81 pruned. Trial was pruned at iteration 5.\n",
            "[I 2024-05-27 00:39:58,022] Trial 80 pruned. Trial was pruned at iteration 5.\n",
            "<ipython-input-50-4975fbfa3d8d>:27: ExperimentalWarning:\n",
            "\n",
            "CatBoostPruningCallback is experimental (supported from v3.0.0). The interface can change in the future.\n",
            "\n",
            "[I 2024-05-27 00:39:58,648] Trial 83 pruned. Trial was pruned at iteration 22.\n",
            "<ipython-input-50-4975fbfa3d8d>:27: ExperimentalWarning:\n",
            "\n",
            "CatBoostPruningCallback is experimental (supported from v3.0.0). The interface can change in the future.\n",
            "\n",
            "[I 2024-05-27 00:39:58,883] Trial 82 finished with value: 0.5059826271208384 and parameters: {'learning_rate': 0.8130634187947684, 'colsample_bylevel': 0.06620162734214623, 'depth': 6, 'boosting_type': 'Ordered', 'bootstrap_type': 'Bayesian', 'bagging_temperature': 6.062045700825557}. Best is trial 78 with value: 0.5144574419815232.\n",
            "<ipython-input-50-4975fbfa3d8d>:27: ExperimentalWarning:\n",
            "\n",
            "CatBoostPruningCallback is experimental (supported from v3.0.0). The interface can change in the future.\n",
            "\n",
            "[I 2024-05-27 00:40:00,001] Trial 84 finished with value: 0.5136003061830808 and parameters: {'learning_rate': 0.5860596486452769, 'colsample_bylevel': 0.06466251330262794, 'depth': 5, 'boosting_type': 'Ordered', 'bootstrap_type': 'Bayesian', 'bagging_temperature': 4.890782011101934}. Best is trial 78 with value: 0.5144574419815232.\n",
            "<ipython-input-50-4975fbfa3d8d>:27: ExperimentalWarning:\n",
            "\n",
            "CatBoostPruningCallback is experimental (supported from v3.0.0). The interface can change in the future.\n",
            "\n",
            "[I 2024-05-27 00:40:00,208] Trial 85 finished with value: 0.5106657911464147 and parameters: {'learning_rate': 0.39246258605436013, 'colsample_bylevel': 0.06580319381420785, 'depth': 6, 'boosting_type': 'Ordered', 'bootstrap_type': 'Bayesian', 'bagging_temperature': 5.354101674887055}. Best is trial 78 with value: 0.5144574419815232.\n",
            "<ipython-input-50-4975fbfa3d8d>:27: ExperimentalWarning:\n",
            "\n",
            "CatBoostPruningCallback is experimental (supported from v3.0.0). The interface can change in the future.\n",
            "\n",
            "[I 2024-05-27 00:40:00,355] Trial 86 pruned. Trial was pruned at iteration 11.\n",
            "<ipython-input-50-4975fbfa3d8d>:27: ExperimentalWarning:\n",
            "\n",
            "CatBoostPruningCallback is experimental (supported from v3.0.0). The interface can change in the future.\n",
            "\n",
            "[I 2024-05-27 00:40:00,574] Trial 87 pruned. Trial was pruned at iteration 6.\n",
            "[I 2024-05-27 00:40:00,671] Trial 88 pruned. Trial was pruned at iteration 5.\n",
            "<ipython-input-50-4975fbfa3d8d>:27: ExperimentalWarning:\n",
            "\n",
            "CatBoostPruningCallback is experimental (supported from v3.0.0). The interface can change in the future.\n",
            "\n",
            "[I 2024-05-27 00:40:00,826] Trial 89 pruned. Trial was pruned at iteration 5.\n",
            "[I 2024-05-27 00:40:00,867] Trial 90 pruned. Trial was pruned at iteration 5.\n",
            "<ipython-input-50-4975fbfa3d8d>:27: ExperimentalWarning:\n",
            "\n",
            "CatBoostPruningCallback is experimental (supported from v3.0.0). The interface can change in the future.\n",
            "\n",
            "[I 2024-05-27 00:40:01,039] Trial 91 pruned. Trial was pruned at iteration 5.\n",
            "<ipython-input-50-4975fbfa3d8d>:27: ExperimentalWarning:\n",
            "\n",
            "CatBoostPruningCallback is experimental (supported from v3.0.0). The interface can change in the future.\n",
            "\n",
            "[I 2024-05-27 00:40:01,168] Trial 92 pruned. Trial was pruned at iteration 9.\n",
            "[I 2024-05-27 00:40:01,201] Trial 93 pruned. Trial was pruned at iteration 5.\n",
            "<ipython-input-50-4975fbfa3d8d>:27: ExperimentalWarning:\n",
            "\n",
            "CatBoostPruningCallback is experimental (supported from v3.0.0). The interface can change in the future.\n",
            "\n",
            "[I 2024-05-27 00:40:01,464] Trial 95 pruned. Trial was pruned at iteration 11.\n",
            "<ipython-input-50-4975fbfa3d8d>:27: ExperimentalWarning:\n",
            "\n",
            "CatBoostPruningCallback is experimental (supported from v3.0.0). The interface can change in the future.\n",
            "\n",
            "[I 2024-05-27 00:40:01,674] Trial 96 pruned. Trial was pruned at iteration 10.\n",
            "[I 2024-05-27 00:40:01,714] Trial 94 finished with value: 0.48670336180198803 and parameters: {'learning_rate': 0.7630545024927577, 'colsample_bylevel': 0.06650279652597386, 'depth': 4, 'boosting_type': 'Ordered', 'bootstrap_type': 'Bayesian', 'bagging_temperature': 6.004448907983157}. Best is trial 78 with value: 0.5144574419815232.\n",
            "<ipython-input-50-4975fbfa3d8d>:27: ExperimentalWarning:\n",
            "\n",
            "CatBoostPruningCallback is experimental (supported from v3.0.0). The interface can change in the future.\n",
            "\n",
            "[I 2024-05-27 00:40:02,313] Trial 97 finished with value: 0.47323701410388713 and parameters: {'learning_rate': 0.6158879368658701, 'colsample_bylevel': 0.08921700442776438, 'depth': 6, 'boosting_type': 'Ordered', 'bootstrap_type': 'Bernoulli', 'subsample': 0.7098313198598162}. Best is trial 78 with value: 0.5144574419815232.\n",
            "<ipython-input-50-4975fbfa3d8d>:27: ExperimentalWarning:\n",
            "\n",
            "CatBoostPruningCallback is experimental (supported from v3.0.0). The interface can change in the future.\n",
            "\n",
            "[I 2024-05-27 00:40:02,555] Trial 99 pruned. Trial was pruned at iteration 12.\n",
            "[I 2024-05-27 00:40:04,114] Trial 98 pruned. Trial was pruned at iteration 21.\n"
          ]
        },
        {
          "output_type": "stream",
          "name": "stdout",
          "text": [
            "Number of finished trials: 100\n",
            "Best trial:\n",
            "  Value: 0.5144574419815232\n",
            "  Params: \n",
            "    learning_rate: 0.5740110283756216\n",
            "    colsample_bylevel: 0.07233891150849797\n",
            "    depth: 6\n",
            "    boosting_type: Ordered\n",
            "    bootstrap_type: Bayesian\n",
            "    bagging_temperature: 1.9072492513603367\n"
          ]
        }
      ]
    },
    {
      "cell_type": "code",
      "source": [
        "# 探索履歴のプロット\n",
        "opt_history = vis.plot_optimization_history(study)\n",
        "opt_history.show()\n",
        "\n",
        "# ハイパーパラメータの重要度のプロット\n",
        "param_importances = vis.plot_param_importances(study)\n",
        "param_importances.show()"
      ],
      "metadata": {
        "colab": {
          "base_uri": "https://localhost:8080/",
          "height": 1000
        },
        "outputId": "87f0646e-8a0e-43be-f69c-80dcf4d054e4",
        "collapsed": true,
        "id": "mi6V71Qre3bp"
      },
      "execution_count": 52,
      "outputs": [
        {
          "output_type": "display_data",
          "data": {
            "text/html": [
              "<html>\n",
              "<head><meta charset=\"utf-8\" /></head>\n",
              "<body>\n",
              "    <div>            <script src=\"https://cdnjs.cloudflare.com/ajax/libs/mathjax/2.7.5/MathJax.js?config=TeX-AMS-MML_SVG\"></script><script type=\"text/javascript\">if (window.MathJax && window.MathJax.Hub && window.MathJax.Hub.Config) {window.MathJax.Hub.Config({SVG: {font: \"STIX-Web\"}});}</script>                <script type=\"text/javascript\">window.PlotlyConfig = {MathJaxConfig: 'local'};</script>\n",
              "        <script charset=\"utf-8\" src=\"https://cdn.plot.ly/plotly-2.24.1.min.js\"></script>                <div id=\"f07324ef-f1be-453d-ba1f-40d724fe2291\" class=\"plotly-graph-div\" style=\"height:525px; width:100%;\"></div>            <script type=\"text/javascript\">                                    window.PLOTLYENV=window.PLOTLYENV || {};                                    if (document.getElementById(\"f07324ef-f1be-453d-ba1f-40d724fe2291\")) {                    Plotly.newPlot(                        \"f07324ef-f1be-453d-ba1f-40d724fe2291\",                        [{\"mode\":\"markers\",\"name\":\"Objective Value\",\"x\":[0,1,2,3,4,5,6,7,8,11,12,13,19,20,23,24,27,33,35,36,37,42,52,54,55,62,63,64,65,67,73,78,82,84,85,94,97],\"y\":[0.25952185792349725,0.12962962962962962,0.2638757115749526,0.12962962962962962,0.2505537098560354,0.27567729300402566,0.4813886017819528,0.2706227006404142,0.3681600547195622,0.48662424337907306,0.4486088119716378,0.5108030829332644,0.4849742977870584,0.41765039227591466,0.5085558285558285,0.4732907851022906,0.5028017982314855,0.4752900555139361,0.5007110008468776,0.5114102561344865,0.5031824546537993,0.4822857819767722,0.49405337848734077,0.4918326224595211,0.4951690878901748,0.4512263114435262,0.47872918508694373,0.4894345907977265,0.4959165631164916,0.5013547698176128,0.4783507008312425,0.5144574419815232,0.5059826271208384,0.5136003061830808,0.5106657911464147,0.48670336180198803,0.47323701410388713],\"type\":\"scatter\"},{\"mode\":\"lines\",\"name\":\"Best Value\",\"x\":[0,1,2,3,4,5,6,7,8,9,10,11,12,13,14,15,16,17,18,19,20,21,22,23,24,25,26,27,28,29,30,31,32,33,34,35,36,37,38,39,40,41,42,43,44,45,46,47,48,49,50,51,52,53,54,55,56,57,58,59,60,61,62,63,64,65,66,67,68,69,70,71,72,73,74,75,76,77,78,79,80,81,82,83,84,85,86,87,88,89,90,91,92,93,94,95,96,97,98,99],\"y\":[0.25952185792349725,0.25952185792349725,0.2638757115749526,0.2638757115749526,0.2638757115749526,0.27567729300402566,0.4813886017819528,0.4813886017819528,0.4813886017819528,0.4813886017819528,0.4813886017819528,0.48662424337907306,0.48662424337907306,0.5108030829332644,0.5108030829332644,0.5108030829332644,0.5108030829332644,0.5108030829332644,0.5108030829332644,0.5108030829332644,0.5108030829332644,0.5108030829332644,0.5108030829332644,0.5108030829332644,0.5108030829332644,0.5108030829332644,0.5108030829332644,0.5108030829332644,0.5108030829332644,0.5108030829332644,0.5108030829332644,0.5108030829332644,0.5108030829332644,0.5108030829332644,0.5108030829332644,0.5108030829332644,0.5114102561344865,0.5114102561344865,0.5114102561344865,0.5114102561344865,0.5114102561344865,0.5114102561344865,0.5114102561344865,0.5114102561344865,0.5114102561344865,0.5114102561344865,0.5114102561344865,0.5114102561344865,0.5114102561344865,0.5114102561344865,0.5114102561344865,0.5114102561344865,0.5114102561344865,0.5114102561344865,0.5114102561344865,0.5114102561344865,0.5114102561344865,0.5114102561344865,0.5114102561344865,0.5114102561344865,0.5114102561344865,0.5114102561344865,0.5114102561344865,0.5114102561344865,0.5114102561344865,0.5114102561344865,0.5114102561344865,0.5114102561344865,0.5114102561344865,0.5114102561344865,0.5114102561344865,0.5114102561344865,0.5114102561344865,0.5114102561344865,0.5114102561344865,0.5114102561344865,0.5114102561344865,0.5114102561344865,0.5144574419815232,0.5144574419815232,0.5144574419815232,0.5144574419815232,0.5144574419815232,0.5144574419815232,0.5144574419815232,0.5144574419815232,0.5144574419815232,0.5144574419815232,0.5144574419815232,0.5144574419815232,0.5144574419815232,0.5144574419815232,0.5144574419815232,0.5144574419815232,0.5144574419815232,0.5144574419815232,0.5144574419815232,0.5144574419815232,0.5144574419815232,0.5144574419815232],\"type\":\"scatter\"},{\"marker\":{\"color\":\"#cccccc\"},\"mode\":\"markers\",\"name\":\"Infeasible Trial\",\"showlegend\":false,\"x\":[],\"y\":[],\"type\":\"scatter\"}],                        {\"title\":{\"text\":\"Optimization History Plot\"},\"xaxis\":{\"title\":{\"text\":\"Trial\"}},\"yaxis\":{\"title\":{\"text\":\"Objective Value\"}},\"template\":{\"data\":{\"histogram2dcontour\":[{\"type\":\"histogram2dcontour\",\"colorbar\":{\"outlinewidth\":0,\"ticks\":\"\"},\"colorscale\":[[0.0,\"#0d0887\"],[0.1111111111111111,\"#46039f\"],[0.2222222222222222,\"#7201a8\"],[0.3333333333333333,\"#9c179e\"],[0.4444444444444444,\"#bd3786\"],[0.5555555555555556,\"#d8576b\"],[0.6666666666666666,\"#ed7953\"],[0.7777777777777778,\"#fb9f3a\"],[0.8888888888888888,\"#fdca26\"],[1.0,\"#f0f921\"]]}],\"choropleth\":[{\"type\":\"choropleth\",\"colorbar\":{\"outlinewidth\":0,\"ticks\":\"\"}}],\"histogram2d\":[{\"type\":\"histogram2d\",\"colorbar\":{\"outlinewidth\":0,\"ticks\":\"\"},\"colorscale\":[[0.0,\"#0d0887\"],[0.1111111111111111,\"#46039f\"],[0.2222222222222222,\"#7201a8\"],[0.3333333333333333,\"#9c179e\"],[0.4444444444444444,\"#bd3786\"],[0.5555555555555556,\"#d8576b\"],[0.6666666666666666,\"#ed7953\"],[0.7777777777777778,\"#fb9f3a\"],[0.8888888888888888,\"#fdca26\"],[1.0,\"#f0f921\"]]}],\"heatmap\":[{\"type\":\"heatmap\",\"colorbar\":{\"outlinewidth\":0,\"ticks\":\"\"},\"colorscale\":[[0.0,\"#0d0887\"],[0.1111111111111111,\"#46039f\"],[0.2222222222222222,\"#7201a8\"],[0.3333333333333333,\"#9c179e\"],[0.4444444444444444,\"#bd3786\"],[0.5555555555555556,\"#d8576b\"],[0.6666666666666666,\"#ed7953\"],[0.7777777777777778,\"#fb9f3a\"],[0.8888888888888888,\"#fdca26\"],[1.0,\"#f0f921\"]]}],\"heatmapgl\":[{\"type\":\"heatmapgl\",\"colorbar\":{\"outlinewidth\":0,\"ticks\":\"\"},\"colorscale\":[[0.0,\"#0d0887\"],[0.1111111111111111,\"#46039f\"],[0.2222222222222222,\"#7201a8\"],[0.3333333333333333,\"#9c179e\"],[0.4444444444444444,\"#bd3786\"],[0.5555555555555556,\"#d8576b\"],[0.6666666666666666,\"#ed7953\"],[0.7777777777777778,\"#fb9f3a\"],[0.8888888888888888,\"#fdca26\"],[1.0,\"#f0f921\"]]}],\"contourcarpet\":[{\"type\":\"contourcarpet\",\"colorbar\":{\"outlinewidth\":0,\"ticks\":\"\"}}],\"contour\":[{\"type\":\"contour\",\"colorbar\":{\"outlinewidth\":0,\"ticks\":\"\"},\"colorscale\":[[0.0,\"#0d0887\"],[0.1111111111111111,\"#46039f\"],[0.2222222222222222,\"#7201a8\"],[0.3333333333333333,\"#9c179e\"],[0.4444444444444444,\"#bd3786\"],[0.5555555555555556,\"#d8576b\"],[0.6666666666666666,\"#ed7953\"],[0.7777777777777778,\"#fb9f3a\"],[0.8888888888888888,\"#fdca26\"],[1.0,\"#f0f921\"]]}],\"surface\":[{\"type\":\"surface\",\"colorbar\":{\"outlinewidth\":0,\"ticks\":\"\"},\"colorscale\":[[0.0,\"#0d0887\"],[0.1111111111111111,\"#46039f\"],[0.2222222222222222,\"#7201a8\"],[0.3333333333333333,\"#9c179e\"],[0.4444444444444444,\"#bd3786\"],[0.5555555555555556,\"#d8576b\"],[0.6666666666666666,\"#ed7953\"],[0.7777777777777778,\"#fb9f3a\"],[0.8888888888888888,\"#fdca26\"],[1.0,\"#f0f921\"]]}],\"mesh3d\":[{\"type\":\"mesh3d\",\"colorbar\":{\"outlinewidth\":0,\"ticks\":\"\"}}],\"scatter\":[{\"fillpattern\":{\"fillmode\":\"overlay\",\"size\":10,\"solidity\":0.2},\"type\":\"scatter\"}],\"parcoords\":[{\"type\":\"parcoords\",\"line\":{\"colorbar\":{\"outlinewidth\":0,\"ticks\":\"\"}}}],\"scatterpolargl\":[{\"type\":\"scatterpolargl\",\"marker\":{\"colorbar\":{\"outlinewidth\":0,\"ticks\":\"\"}}}],\"bar\":[{\"error_x\":{\"color\":\"#2a3f5f\"},\"error_y\":{\"color\":\"#2a3f5f\"},\"marker\":{\"line\":{\"color\":\"#E5ECF6\",\"width\":0.5},\"pattern\":{\"fillmode\":\"overlay\",\"size\":10,\"solidity\":0.2}},\"type\":\"bar\"}],\"scattergeo\":[{\"type\":\"scattergeo\",\"marker\":{\"colorbar\":{\"outlinewidth\":0,\"ticks\":\"\"}}}],\"scatterpolar\":[{\"type\":\"scatterpolar\",\"marker\":{\"colorbar\":{\"outlinewidth\":0,\"ticks\":\"\"}}}],\"histogram\":[{\"marker\":{\"pattern\":{\"fillmode\":\"overlay\",\"size\":10,\"solidity\":0.2}},\"type\":\"histogram\"}],\"scattergl\":[{\"type\":\"scattergl\",\"marker\":{\"colorbar\":{\"outlinewidth\":0,\"ticks\":\"\"}}}],\"scatter3d\":[{\"type\":\"scatter3d\",\"line\":{\"colorbar\":{\"outlinewidth\":0,\"ticks\":\"\"}},\"marker\":{\"colorbar\":{\"outlinewidth\":0,\"ticks\":\"\"}}}],\"scattermapbox\":[{\"type\":\"scattermapbox\",\"marker\":{\"colorbar\":{\"outlinewidth\":0,\"ticks\":\"\"}}}],\"scatterternary\":[{\"type\":\"scatterternary\",\"marker\":{\"colorbar\":{\"outlinewidth\":0,\"ticks\":\"\"}}}],\"scattercarpet\":[{\"type\":\"scattercarpet\",\"marker\":{\"colorbar\":{\"outlinewidth\":0,\"ticks\":\"\"}}}],\"carpet\":[{\"aaxis\":{\"endlinecolor\":\"#2a3f5f\",\"gridcolor\":\"white\",\"linecolor\":\"white\",\"minorgridcolor\":\"white\",\"startlinecolor\":\"#2a3f5f\"},\"baxis\":{\"endlinecolor\":\"#2a3f5f\",\"gridcolor\":\"white\",\"linecolor\":\"white\",\"minorgridcolor\":\"white\",\"startlinecolor\":\"#2a3f5f\"},\"type\":\"carpet\"}],\"table\":[{\"cells\":{\"fill\":{\"color\":\"#EBF0F8\"},\"line\":{\"color\":\"white\"}},\"header\":{\"fill\":{\"color\":\"#C8D4E3\"},\"line\":{\"color\":\"white\"}},\"type\":\"table\"}],\"barpolar\":[{\"marker\":{\"line\":{\"color\":\"#E5ECF6\",\"width\":0.5},\"pattern\":{\"fillmode\":\"overlay\",\"size\":10,\"solidity\":0.2}},\"type\":\"barpolar\"}],\"pie\":[{\"automargin\":true,\"type\":\"pie\"}]},\"layout\":{\"autotypenumbers\":\"strict\",\"colorway\":[\"#636efa\",\"#EF553B\",\"#00cc96\",\"#ab63fa\",\"#FFA15A\",\"#19d3f3\",\"#FF6692\",\"#B6E880\",\"#FF97FF\",\"#FECB52\"],\"font\":{\"color\":\"#2a3f5f\"},\"hovermode\":\"closest\",\"hoverlabel\":{\"align\":\"left\"},\"paper_bgcolor\":\"white\",\"plot_bgcolor\":\"#E5ECF6\",\"polar\":{\"bgcolor\":\"#E5ECF6\",\"angularaxis\":{\"gridcolor\":\"white\",\"linecolor\":\"white\",\"ticks\":\"\"},\"radialaxis\":{\"gridcolor\":\"white\",\"linecolor\":\"white\",\"ticks\":\"\"}},\"ternary\":{\"bgcolor\":\"#E5ECF6\",\"aaxis\":{\"gridcolor\":\"white\",\"linecolor\":\"white\",\"ticks\":\"\"},\"baxis\":{\"gridcolor\":\"white\",\"linecolor\":\"white\",\"ticks\":\"\"},\"caxis\":{\"gridcolor\":\"white\",\"linecolor\":\"white\",\"ticks\":\"\"}},\"coloraxis\":{\"colorbar\":{\"outlinewidth\":0,\"ticks\":\"\"}},\"colorscale\":{\"sequential\":[[0.0,\"#0d0887\"],[0.1111111111111111,\"#46039f\"],[0.2222222222222222,\"#7201a8\"],[0.3333333333333333,\"#9c179e\"],[0.4444444444444444,\"#bd3786\"],[0.5555555555555556,\"#d8576b\"],[0.6666666666666666,\"#ed7953\"],[0.7777777777777778,\"#fb9f3a\"],[0.8888888888888888,\"#fdca26\"],[1.0,\"#f0f921\"]],\"sequentialminus\":[[0.0,\"#0d0887\"],[0.1111111111111111,\"#46039f\"],[0.2222222222222222,\"#7201a8\"],[0.3333333333333333,\"#9c179e\"],[0.4444444444444444,\"#bd3786\"],[0.5555555555555556,\"#d8576b\"],[0.6666666666666666,\"#ed7953\"],[0.7777777777777778,\"#fb9f3a\"],[0.8888888888888888,\"#fdca26\"],[1.0,\"#f0f921\"]],\"diverging\":[[0,\"#8e0152\"],[0.1,\"#c51b7d\"],[0.2,\"#de77ae\"],[0.3,\"#f1b6da\"],[0.4,\"#fde0ef\"],[0.5,\"#f7f7f7\"],[0.6,\"#e6f5d0\"],[0.7,\"#b8e186\"],[0.8,\"#7fbc41\"],[0.9,\"#4d9221\"],[1,\"#276419\"]]},\"xaxis\":{\"gridcolor\":\"white\",\"linecolor\":\"white\",\"ticks\":\"\",\"title\":{\"standoff\":15},\"zerolinecolor\":\"white\",\"automargin\":true,\"zerolinewidth\":2},\"yaxis\":{\"gridcolor\":\"white\",\"linecolor\":\"white\",\"ticks\":\"\",\"title\":{\"standoff\":15},\"zerolinecolor\":\"white\",\"automargin\":true,\"zerolinewidth\":2},\"scene\":{\"xaxis\":{\"backgroundcolor\":\"#E5ECF6\",\"gridcolor\":\"white\",\"linecolor\":\"white\",\"showbackground\":true,\"ticks\":\"\",\"zerolinecolor\":\"white\",\"gridwidth\":2},\"yaxis\":{\"backgroundcolor\":\"#E5ECF6\",\"gridcolor\":\"white\",\"linecolor\":\"white\",\"showbackground\":true,\"ticks\":\"\",\"zerolinecolor\":\"white\",\"gridwidth\":2},\"zaxis\":{\"backgroundcolor\":\"#E5ECF6\",\"gridcolor\":\"white\",\"linecolor\":\"white\",\"showbackground\":true,\"ticks\":\"\",\"zerolinecolor\":\"white\",\"gridwidth\":2}},\"shapedefaults\":{\"line\":{\"color\":\"#2a3f5f\"}},\"annotationdefaults\":{\"arrowcolor\":\"#2a3f5f\",\"arrowhead\":0,\"arrowwidth\":1},\"geo\":{\"bgcolor\":\"white\",\"landcolor\":\"#E5ECF6\",\"subunitcolor\":\"white\",\"showland\":true,\"showlakes\":true,\"lakecolor\":\"white\"},\"title\":{\"x\":0.05},\"mapbox\":{\"style\":\"light\"}}}},                        {\"responsive\": true}                    ).then(function(){\n",
              "                            \n",
              "var gd = document.getElementById('f07324ef-f1be-453d-ba1f-40d724fe2291');\n",
              "var x = new MutationObserver(function (mutations, observer) {{\n",
              "        var display = window.getComputedStyle(gd).display;\n",
              "        if (!display || display === 'none') {{\n",
              "            console.log([gd, 'removed!']);\n",
              "            Plotly.purge(gd);\n",
              "            observer.disconnect();\n",
              "        }}\n",
              "}});\n",
              "\n",
              "// Listen for the removal of the full notebook cells\n",
              "var notebookContainer = gd.closest('#notebook-container');\n",
              "if (notebookContainer) {{\n",
              "    x.observe(notebookContainer, {childList: true});\n",
              "}}\n",
              "\n",
              "// Listen for the clearing of the current output cell\n",
              "var outputEl = gd.closest('.output');\n",
              "if (outputEl) {{\n",
              "    x.observe(outputEl, {childList: true});\n",
              "}}\n",
              "\n",
              "                        })                };                            </script>        </div>\n",
              "</body>\n",
              "</html>"
            ]
          },
          "metadata": {}
        },
        {
          "output_type": "display_data",
          "data": {
            "text/html": [
              "<html>\n",
              "<head><meta charset=\"utf-8\" /></head>\n",
              "<body>\n",
              "    <div>            <script src=\"https://cdnjs.cloudflare.com/ajax/libs/mathjax/2.7.5/MathJax.js?config=TeX-AMS-MML_SVG\"></script><script type=\"text/javascript\">if (window.MathJax && window.MathJax.Hub && window.MathJax.Hub.Config) {window.MathJax.Hub.Config({SVG: {font: \"STIX-Web\"}});}</script>                <script type=\"text/javascript\">window.PlotlyConfig = {MathJaxConfig: 'local'};</script>\n",
              "        <script charset=\"utf-8\" src=\"https://cdn.plot.ly/plotly-2.24.1.min.js\"></script>                <div id=\"f70cbb98-c214-4e60-89b6-776867b24080\" class=\"plotly-graph-div\" style=\"height:525px; width:100%;\"></div>            <script type=\"text/javascript\">                                    window.PLOTLYENV=window.PLOTLYENV || {};                                    if (document.getElementById(\"f70cbb98-c214-4e60-89b6-776867b24080\")) {                    Plotly.newPlot(                        \"f70cbb98-c214-4e60-89b6-776867b24080\",                        [{\"cliponaxis\":false,\"hovertemplate\":[\"depth (IntDistribution): 0.003440708950629437\\u003cextra\\u003e\\u003c\\u002fextra\\u003e\",\"bootstrap_type (CategoricalDistribution): 0.009321986858601406\\u003cextra\\u003e\\u003c\\u002fextra\\u003e\",\"boosting_type (CategoricalDistribution): 0.012327766366722216\\u003cextra\\u003e\\u003c\\u002fextra\\u003e\",\"learning_rate (FloatDistribution): 0.47629327156992035\\u003cextra\\u003e\\u003c\\u002fextra\\u003e\",\"colsample_bylevel (FloatDistribution): 0.4986162662541267\\u003cextra\\u003e\\u003c\\u002fextra\\u003e\"],\"name\":\"Objective Value\",\"orientation\":\"h\",\"text\":[\"\\u003c0.01\",\"\\u003c0.01\",\"0.01\",\"0.48\",\"0.50\"],\"textposition\":\"outside\",\"x\":[0.003440708950629437,0.009321986858601406,0.012327766366722216,0.47629327156992035,0.4986162662541267],\"y\":[\"depth\",\"bootstrap_type\",\"boosting_type\",\"learning_rate\",\"colsample_bylevel\"],\"type\":\"bar\"}],                        {\"title\":{\"text\":\"Hyperparameter Importances\"},\"xaxis\":{\"title\":{\"text\":\"Hyperparameter Importance\"}},\"yaxis\":{\"title\":{\"text\":\"Hyperparameter\"}},\"template\":{\"data\":{\"histogram2dcontour\":[{\"type\":\"histogram2dcontour\",\"colorbar\":{\"outlinewidth\":0,\"ticks\":\"\"},\"colorscale\":[[0.0,\"#0d0887\"],[0.1111111111111111,\"#46039f\"],[0.2222222222222222,\"#7201a8\"],[0.3333333333333333,\"#9c179e\"],[0.4444444444444444,\"#bd3786\"],[0.5555555555555556,\"#d8576b\"],[0.6666666666666666,\"#ed7953\"],[0.7777777777777778,\"#fb9f3a\"],[0.8888888888888888,\"#fdca26\"],[1.0,\"#f0f921\"]]}],\"choropleth\":[{\"type\":\"choropleth\",\"colorbar\":{\"outlinewidth\":0,\"ticks\":\"\"}}],\"histogram2d\":[{\"type\":\"histogram2d\",\"colorbar\":{\"outlinewidth\":0,\"ticks\":\"\"},\"colorscale\":[[0.0,\"#0d0887\"],[0.1111111111111111,\"#46039f\"],[0.2222222222222222,\"#7201a8\"],[0.3333333333333333,\"#9c179e\"],[0.4444444444444444,\"#bd3786\"],[0.5555555555555556,\"#d8576b\"],[0.6666666666666666,\"#ed7953\"],[0.7777777777777778,\"#fb9f3a\"],[0.8888888888888888,\"#fdca26\"],[1.0,\"#f0f921\"]]}],\"heatmap\":[{\"type\":\"heatmap\",\"colorbar\":{\"outlinewidth\":0,\"ticks\":\"\"},\"colorscale\":[[0.0,\"#0d0887\"],[0.1111111111111111,\"#46039f\"],[0.2222222222222222,\"#7201a8\"],[0.3333333333333333,\"#9c179e\"],[0.4444444444444444,\"#bd3786\"],[0.5555555555555556,\"#d8576b\"],[0.6666666666666666,\"#ed7953\"],[0.7777777777777778,\"#fb9f3a\"],[0.8888888888888888,\"#fdca26\"],[1.0,\"#f0f921\"]]}],\"heatmapgl\":[{\"type\":\"heatmapgl\",\"colorbar\":{\"outlinewidth\":0,\"ticks\":\"\"},\"colorscale\":[[0.0,\"#0d0887\"],[0.1111111111111111,\"#46039f\"],[0.2222222222222222,\"#7201a8\"],[0.3333333333333333,\"#9c179e\"],[0.4444444444444444,\"#bd3786\"],[0.5555555555555556,\"#d8576b\"],[0.6666666666666666,\"#ed7953\"],[0.7777777777777778,\"#fb9f3a\"],[0.8888888888888888,\"#fdca26\"],[1.0,\"#f0f921\"]]}],\"contourcarpet\":[{\"type\":\"contourcarpet\",\"colorbar\":{\"outlinewidth\":0,\"ticks\":\"\"}}],\"contour\":[{\"type\":\"contour\",\"colorbar\":{\"outlinewidth\":0,\"ticks\":\"\"},\"colorscale\":[[0.0,\"#0d0887\"],[0.1111111111111111,\"#46039f\"],[0.2222222222222222,\"#7201a8\"],[0.3333333333333333,\"#9c179e\"],[0.4444444444444444,\"#bd3786\"],[0.5555555555555556,\"#d8576b\"],[0.6666666666666666,\"#ed7953\"],[0.7777777777777778,\"#fb9f3a\"],[0.8888888888888888,\"#fdca26\"],[1.0,\"#f0f921\"]]}],\"surface\":[{\"type\":\"surface\",\"colorbar\":{\"outlinewidth\":0,\"ticks\":\"\"},\"colorscale\":[[0.0,\"#0d0887\"],[0.1111111111111111,\"#46039f\"],[0.2222222222222222,\"#7201a8\"],[0.3333333333333333,\"#9c179e\"],[0.4444444444444444,\"#bd3786\"],[0.5555555555555556,\"#d8576b\"],[0.6666666666666666,\"#ed7953\"],[0.7777777777777778,\"#fb9f3a\"],[0.8888888888888888,\"#fdca26\"],[1.0,\"#f0f921\"]]}],\"mesh3d\":[{\"type\":\"mesh3d\",\"colorbar\":{\"outlinewidth\":0,\"ticks\":\"\"}}],\"scatter\":[{\"fillpattern\":{\"fillmode\":\"overlay\",\"size\":10,\"solidity\":0.2},\"type\":\"scatter\"}],\"parcoords\":[{\"type\":\"parcoords\",\"line\":{\"colorbar\":{\"outlinewidth\":0,\"ticks\":\"\"}}}],\"scatterpolargl\":[{\"type\":\"scatterpolargl\",\"marker\":{\"colorbar\":{\"outlinewidth\":0,\"ticks\":\"\"}}}],\"bar\":[{\"error_x\":{\"color\":\"#2a3f5f\"},\"error_y\":{\"color\":\"#2a3f5f\"},\"marker\":{\"line\":{\"color\":\"#E5ECF6\",\"width\":0.5},\"pattern\":{\"fillmode\":\"overlay\",\"size\":10,\"solidity\":0.2}},\"type\":\"bar\"}],\"scattergeo\":[{\"type\":\"scattergeo\",\"marker\":{\"colorbar\":{\"outlinewidth\":0,\"ticks\":\"\"}}}],\"scatterpolar\":[{\"type\":\"scatterpolar\",\"marker\":{\"colorbar\":{\"outlinewidth\":0,\"ticks\":\"\"}}}],\"histogram\":[{\"marker\":{\"pattern\":{\"fillmode\":\"overlay\",\"size\":10,\"solidity\":0.2}},\"type\":\"histogram\"}],\"scattergl\":[{\"type\":\"scattergl\",\"marker\":{\"colorbar\":{\"outlinewidth\":0,\"ticks\":\"\"}}}],\"scatter3d\":[{\"type\":\"scatter3d\",\"line\":{\"colorbar\":{\"outlinewidth\":0,\"ticks\":\"\"}},\"marker\":{\"colorbar\":{\"outlinewidth\":0,\"ticks\":\"\"}}}],\"scattermapbox\":[{\"type\":\"scattermapbox\",\"marker\":{\"colorbar\":{\"outlinewidth\":0,\"ticks\":\"\"}}}],\"scatterternary\":[{\"type\":\"scatterternary\",\"marker\":{\"colorbar\":{\"outlinewidth\":0,\"ticks\":\"\"}}}],\"scattercarpet\":[{\"type\":\"scattercarpet\",\"marker\":{\"colorbar\":{\"outlinewidth\":0,\"ticks\":\"\"}}}],\"carpet\":[{\"aaxis\":{\"endlinecolor\":\"#2a3f5f\",\"gridcolor\":\"white\",\"linecolor\":\"white\",\"minorgridcolor\":\"white\",\"startlinecolor\":\"#2a3f5f\"},\"baxis\":{\"endlinecolor\":\"#2a3f5f\",\"gridcolor\":\"white\",\"linecolor\":\"white\",\"minorgridcolor\":\"white\",\"startlinecolor\":\"#2a3f5f\"},\"type\":\"carpet\"}],\"table\":[{\"cells\":{\"fill\":{\"color\":\"#EBF0F8\"},\"line\":{\"color\":\"white\"}},\"header\":{\"fill\":{\"color\":\"#C8D4E3\"},\"line\":{\"color\":\"white\"}},\"type\":\"table\"}],\"barpolar\":[{\"marker\":{\"line\":{\"color\":\"#E5ECF6\",\"width\":0.5},\"pattern\":{\"fillmode\":\"overlay\",\"size\":10,\"solidity\":0.2}},\"type\":\"barpolar\"}],\"pie\":[{\"automargin\":true,\"type\":\"pie\"}]},\"layout\":{\"autotypenumbers\":\"strict\",\"colorway\":[\"#636efa\",\"#EF553B\",\"#00cc96\",\"#ab63fa\",\"#FFA15A\",\"#19d3f3\",\"#FF6692\",\"#B6E880\",\"#FF97FF\",\"#FECB52\"],\"font\":{\"color\":\"#2a3f5f\"},\"hovermode\":\"closest\",\"hoverlabel\":{\"align\":\"left\"},\"paper_bgcolor\":\"white\",\"plot_bgcolor\":\"#E5ECF6\",\"polar\":{\"bgcolor\":\"#E5ECF6\",\"angularaxis\":{\"gridcolor\":\"white\",\"linecolor\":\"white\",\"ticks\":\"\"},\"radialaxis\":{\"gridcolor\":\"white\",\"linecolor\":\"white\",\"ticks\":\"\"}},\"ternary\":{\"bgcolor\":\"#E5ECF6\",\"aaxis\":{\"gridcolor\":\"white\",\"linecolor\":\"white\",\"ticks\":\"\"},\"baxis\":{\"gridcolor\":\"white\",\"linecolor\":\"white\",\"ticks\":\"\"},\"caxis\":{\"gridcolor\":\"white\",\"linecolor\":\"white\",\"ticks\":\"\"}},\"coloraxis\":{\"colorbar\":{\"outlinewidth\":0,\"ticks\":\"\"}},\"colorscale\":{\"sequential\":[[0.0,\"#0d0887\"],[0.1111111111111111,\"#46039f\"],[0.2222222222222222,\"#7201a8\"],[0.3333333333333333,\"#9c179e\"],[0.4444444444444444,\"#bd3786\"],[0.5555555555555556,\"#d8576b\"],[0.6666666666666666,\"#ed7953\"],[0.7777777777777778,\"#fb9f3a\"],[0.8888888888888888,\"#fdca26\"],[1.0,\"#f0f921\"]],\"sequentialminus\":[[0.0,\"#0d0887\"],[0.1111111111111111,\"#46039f\"],[0.2222222222222222,\"#7201a8\"],[0.3333333333333333,\"#9c179e\"],[0.4444444444444444,\"#bd3786\"],[0.5555555555555556,\"#d8576b\"],[0.6666666666666666,\"#ed7953\"],[0.7777777777777778,\"#fb9f3a\"],[0.8888888888888888,\"#fdca26\"],[1.0,\"#f0f921\"]],\"diverging\":[[0,\"#8e0152\"],[0.1,\"#c51b7d\"],[0.2,\"#de77ae\"],[0.3,\"#f1b6da\"],[0.4,\"#fde0ef\"],[0.5,\"#f7f7f7\"],[0.6,\"#e6f5d0\"],[0.7,\"#b8e186\"],[0.8,\"#7fbc41\"],[0.9,\"#4d9221\"],[1,\"#276419\"]]},\"xaxis\":{\"gridcolor\":\"white\",\"linecolor\":\"white\",\"ticks\":\"\",\"title\":{\"standoff\":15},\"zerolinecolor\":\"white\",\"automargin\":true,\"zerolinewidth\":2},\"yaxis\":{\"gridcolor\":\"white\",\"linecolor\":\"white\",\"ticks\":\"\",\"title\":{\"standoff\":15},\"zerolinecolor\":\"white\",\"automargin\":true,\"zerolinewidth\":2},\"scene\":{\"xaxis\":{\"backgroundcolor\":\"#E5ECF6\",\"gridcolor\":\"white\",\"linecolor\":\"white\",\"showbackground\":true,\"ticks\":\"\",\"zerolinecolor\":\"white\",\"gridwidth\":2},\"yaxis\":{\"backgroundcolor\":\"#E5ECF6\",\"gridcolor\":\"white\",\"linecolor\":\"white\",\"showbackground\":true,\"ticks\":\"\",\"zerolinecolor\":\"white\",\"gridwidth\":2},\"zaxis\":{\"backgroundcolor\":\"#E5ECF6\",\"gridcolor\":\"white\",\"linecolor\":\"white\",\"showbackground\":true,\"ticks\":\"\",\"zerolinecolor\":\"white\",\"gridwidth\":2}},\"shapedefaults\":{\"line\":{\"color\":\"#2a3f5f\"}},\"annotationdefaults\":{\"arrowcolor\":\"#2a3f5f\",\"arrowhead\":0,\"arrowwidth\":1},\"geo\":{\"bgcolor\":\"white\",\"landcolor\":\"#E5ECF6\",\"subunitcolor\":\"white\",\"showland\":true,\"showlakes\":true,\"lakecolor\":\"white\"},\"title\":{\"x\":0.05},\"mapbox\":{\"style\":\"light\"}}}},                        {\"responsive\": true}                    ).then(function(){\n",
              "                            \n",
              "var gd = document.getElementById('f70cbb98-c214-4e60-89b6-776867b24080');\n",
              "var x = new MutationObserver(function (mutations, observer) {{\n",
              "        var display = window.getComputedStyle(gd).display;\n",
              "        if (!display || display === 'none') {{\n",
              "            console.log([gd, 'removed!']);\n",
              "            Plotly.purge(gd);\n",
              "            observer.disconnect();\n",
              "        }}\n",
              "}});\n",
              "\n",
              "// Listen for the removal of the full notebook cells\n",
              "var notebookContainer = gd.closest('#notebook-container');\n",
              "if (notebookContainer) {{\n",
              "    x.observe(notebookContainer, {childList: true});\n",
              "}}\n",
              "\n",
              "// Listen for the clearing of the current output cell\n",
              "var outputEl = gd.closest('.output');\n",
              "if (outputEl) {{\n",
              "    x.observe(outputEl, {childList: true});\n",
              "}}\n",
              "\n",
              "                        })                };                            </script>        </div>\n",
              "</body>\n",
              "</html>"
            ]
          },
          "metadata": {}
        }
      ]
    },
    {
      "cell_type": "code",
      "source": [
        "# ベストパラメータを使ってモデルの訓練\n",
        "\n",
        "# Best trial: {learning_rate: 0.5740110283756216\n",
        "    # colsample_bylevel: 0.07233891150849797\n",
        "    # depth: 6\n",
        "    # boosting_type: Ordered\n",
        "    # bootstrap_type: Bayesian\n",
        "    # bagging_temperature: 1.9072492513603367}\n",
        "# Best score:  0.5144574419815232\n",
        "\n",
        "param = {\n",
        "        'loss_function': 'MultiClass',\n",
        "        'learning_rate': 0.5740110283756216,\n",
        "        \"colsample_bylevel\": 0.07233891150849797,\n",
        "        \"depth\": 6,\n",
        "        \"boosting_type\": \"Ordered\",\n",
        "        \"bootstrap_type\": \"Bayesian\",\n",
        "        \"used_ram_limit\": \"3gb\",\n",
        "        \"eval_metric\": \"Accuracy\",\n",
        "        \"random_state\": 42\n",
        "        }\n",
        "\n",
        "cat_model = cb.CatBoostClassifier(**param)\n",
        "\n",
        "pruning_callback = CatBoostPruningCallback(trial, \"Accuracy\")\n",
        "cat_model.fit(\n",
        "    X_train,\n",
        "    y_train,\n",
        "    # X, y,\n",
        "    eval_set=[(X_valid, y_valid)],\n",
        "    verbose=2,\n",
        "    early_stopping_rounds=20,\n",
        "    callbacks=[pruning_callback],\n",
        ")\n",
        "\n",
        "# テストデータでの推論\n",
        "cat_preds = np.reshape(cat_model.predict(df_test), -1)\n",
        "\n",
        "print(cat_preds.shape)\n",
        "print(cat_preds)"
      ],
      "metadata": {
        "colab": {
          "base_uri": "https://localhost:8080/"
        },
        "collapsed": true,
        "outputId": "eca675f6-840a-4fb1-f80a-e379baa7b9d0",
        "id": "raPsryvBfgfv"
      },
      "execution_count": 62,
      "outputs": [
        {
          "output_type": "stream",
          "name": "stderr",
          "text": [
            "<ipython-input-62-4c69b5576c5b>:25: ExperimentalWarning:\n",
            "\n",
            "CatBoostPruningCallback is experimental (supported from v3.0.0). The interface can change in the future.\n",
            "\n"
          ]
        },
        {
          "output_type": "stream",
          "name": "stdout",
          "text": [
            "0:\tlearn: 0.4697917\ttest: 0.4375000\tbest: 0.4375000 (0)\ttotal: 13.8ms\tremaining: 13.7s\n",
            "2:\tlearn: 0.4906250\ttest: 0.4583333\tbest: 0.4625000 (1)\ttotal: 56ms\tremaining: 18.6s\n",
            "4:\tlearn: 0.4927083\ttest: 0.4708333\tbest: 0.4708333 (4)\ttotal: 74.3ms\tremaining: 14.8s\n",
            "6:\tlearn: 0.5114583\ttest: 0.4458333\tbest: 0.4708333 (4)\ttotal: 88ms\tremaining: 12.5s\n",
            "8:\tlearn: 0.5208333\ttest: 0.4458333\tbest: 0.4708333 (4)\ttotal: 108ms\tremaining: 11.9s\n",
            "10:\tlearn: 0.5614583\ttest: 0.5083333\tbest: 0.5083333 (10)\ttotal: 161ms\tremaining: 14.5s\n",
            "12:\tlearn: 0.5895833\ttest: 0.5125000\tbest: 0.5125000 (11)\ttotal: 175ms\tremaining: 13.3s\n",
            "14:\tlearn: 0.6145833\ttest: 0.5166667\tbest: 0.5166667 (14)\ttotal: 184ms\tremaining: 12.1s\n",
            "16:\tlearn: 0.6250000\ttest: 0.5041667\tbest: 0.5166667 (14)\ttotal: 193ms\tremaining: 11.2s\n",
            "18:\tlearn: 0.6354167\ttest: 0.5041667\tbest: 0.5166667 (14)\ttotal: 218ms\tremaining: 11.2s\n",
            "20:\tlearn: 0.6520833\ttest: 0.5291667\tbest: 0.5291667 (20)\ttotal: 234ms\tremaining: 10.9s\n",
            "22:\tlearn: 0.6572917\ttest: 0.5166667\tbest: 0.5291667 (20)\ttotal: 248ms\tremaining: 10.5s\n",
            "24:\tlearn: 0.6583333\ttest: 0.5166667\tbest: 0.5291667 (20)\ttotal: 255ms\tremaining: 9.95s\n",
            "26:\tlearn: 0.6645833\ttest: 0.5041667\tbest: 0.5291667 (20)\ttotal: 268ms\tremaining: 9.64s\n",
            "28:\tlearn: 0.6906250\ttest: 0.5083333\tbest: 0.5291667 (20)\ttotal: 279ms\tremaining: 9.34s\n",
            "30:\tlearn: 0.7114583\ttest: 0.5208333\tbest: 0.5291667 (20)\ttotal: 296ms\tremaining: 9.25s\n",
            "32:\tlearn: 0.7291667\ttest: 0.5041667\tbest: 0.5291667 (20)\ttotal: 314ms\tremaining: 9.21s\n",
            "34:\tlearn: 0.7312500\ttest: 0.5041667\tbest: 0.5291667 (20)\ttotal: 322ms\tremaining: 8.88s\n",
            "36:\tlearn: 0.7333333\ttest: 0.5125000\tbest: 0.5291667 (20)\ttotal: 338ms\tremaining: 8.79s\n",
            "38:\tlearn: 0.7416667\ttest: 0.5041667\tbest: 0.5291667 (20)\ttotal: 363ms\tremaining: 8.94s\n",
            "40:\tlearn: 0.7468750\ttest: 0.5000000\tbest: 0.5291667 (20)\ttotal: 374ms\tremaining: 8.74s\n",
            "Stopped by overfitting detector  (20 iterations wait)\n",
            "\n",
            "bestTest = 0.5291666667\n",
            "bestIteration = 20\n",
            "\n",
            "Shrink model to first 21 iterations.\n",
            "(800,)\n",
            "[3 1 3 1 0 0 0 1 3 0 2 2 1 1 2 1 1 2 3 3 2 1 2 1 1 0 3 1 3 2 1 1 1 2 0 2 0\n",
            " 0 2 0 1 0 1 3 2 2 3 0 2 2 2 2 3 1 1 1 2 1 3 2 2 0 2 3 2 2 2 2 1 3 1 3 3 2\n",
            " 3 1 3 0 2 1 1 3 0 2 2 3 3 0 3 0 3 2 1 0 1 0 3 3 2 2 0 1 0 0 2 0 3 2 2 1 2\n",
            " 3 2 1 1 1 3 1 3 1 0 3 3 3 1 1 2 2 0 1 1 3 3 2 2 3 1 2 1 3 2 1 1 1 2 1 3 3\n",
            " 2 1 2 1 2 2 1 2 1 2 1 3 2 3 2 3 2 3 1 3 1 3 2 1 3 3 2 1 3 3 2 2 1 2 2 3 2\n",
            " 2 1 3 2 2 1 1 3 1 1 0 1 1 1 0 3 2 1 2 2 3 2 1 1 1 3 3 1 1 1 2 2 2 1 2 2 1\n",
            " 0 1 3 0 1 2 1 3 3 1 2 1 2 1 2 3 2 3 3 0 0 0 1 2 0 2 3 3 0 3 2 1 3 3 0 1 3\n",
            " 1 3 2 1 2 1 0 2 3 1 2 1 2 3 3 2 3 3 1 2 1 1 2 3 3 2 1 2 3 0 3 1 2 1 3 2 3\n",
            " 2 1 2 3 1 2 1 0 1 2 2 1 1 3 0 1 1 0 0 1 1 2 0 2 2 1 2 2 1 2 1 3 1 2 0 1 1\n",
            " 1 2 1 3 2 2 2 2 1 1 1 1 3 1 2 2 3 2 2 3 2 3 2 0 3 3 1 0 1 3 1 3 0 2 3 1 3\n",
            " 0 1 3 2 2 1 3 3 0 1 1 2 1 1 1 2 1 2 3 2 1 3 1 2 3 2 1 2 3 2 0 1 3 0 3 3 3\n",
            " 2 1 2 1 0 1 0 2 1 0 2 1 3 3 2 0 1 3 0 1 3 0 3 3 3 1 2 2 0 3 2 0 3 3 0 1 2\n",
            " 1 3 1 1 3 0 1 1 2 2 1 2 0 3 2 0 2 1 2 2 1 3 2 0 3 0 3 2 1 2 2 3 2 2 3 0 2\n",
            " 0 1 2 2 3 1 1 3 1 2 0 1 2 1 1 1 0 1 3 1 3 0 3 2 1 3 2 0 2 3 2 3 2 2 1 1 2\n",
            " 0 2 1 1 1 2 2 3 2 3 2 2 1 3 0 2 2 3 2 2 1 2 1 0 2 1 1 1 0 2 2 2 1 2 1 2 3\n",
            " 2 2 1 0 1 3 1 3 1 2 1 2 2 1 1 0 0 1 1 2 2 2 2 1 1 1 1 3 2 1 2 1 3 2 0 3 3\n",
            " 1 2 0 1 1 3 3 1 2 2 0 2 2 1 1 2 3 0 0 2 1 0 0 1 2 1 3 1 1 3 3 2 0 3 1 1 2\n",
            " 2 1 3 1 0 3 2 1 1 3 2 1 2 2 2 2 3 1 0 2 1 3 1 1 1 1 1 3 1 1 1 2 3 1 1 1 2\n",
            " 1 2 0 1 2 2 1 3 3 2 1 0 1 1 2 2 3 1 2 2 0 1 0 2 3 2 1 3 2 3 3 1 3 0 2 2 1\n",
            " 1 1 3 3 2 1 0 1 2 1 0 3 2 1 2 2 1 1 2 3 3 2 1 0 1 3 3 3 3 0 2 1 2 3 0 2 1\n",
            " 1 2 0 0 1 3 0 1 1 2 1 1 2 1 1 3 2 2 3 1 1 2 0 3 1 1 2 3 1 0 0 2 2 2 1 1 1\n",
            " 1 3 3 3 2 1 0 0 1 3 2 1 3 3 2 1 3 3 3 1 3 2 2]\n"
          ]
        }
      ]
    },
    {
      "cell_type": "markdown",
      "source": [
        "## VotingClassifier を使ってアンサンブル学習"
      ],
      "metadata": {
        "id": "Hmblty2Ja7ZR"
      }
    },
    {
      "cell_type": "code",
      "source": [
        "estimators = [('xgb', xgb_model), ('cat', cat_model)]\n",
        "\n",
        "vote = VotingClassifier(\n",
        "    estimators=estimators,\n",
        "    voting=\"soft\",\n",
        "    n_jobs=-1\n",
        ")\n",
        "\n",
        "vote.fit(X_train, y_train)\n",
        "\n",
        "y_pred = vote.predict(X_valid)\n",
        "\n",
        "# 評価メトリックの計算\n",
        "accuracy = accuracy_score(y_valid, y_pred)\n",
        "f1_macro = f1_score(y_valid, y_pred, average='macro')\n",
        "\n",
        "# 結果の表示\n",
        "print('Accuracy:', accuracy)\n",
        "print('F1 Macro:', f1_macro)"
      ],
      "metadata": {
        "colab": {
          "base_uri": "https://localhost:8080/"
        },
        "id": "VRLhfGHyR52W",
        "outputId": "c1cbeb06-5982-4689-d994-0ffa7ec2bd5e"
      },
      "execution_count": 67,
      "outputs": [
        {
          "output_type": "stream",
          "name": "stdout",
          "text": [
            "Accuracy: 0.5541666666666667\n",
            "F1 Macro: 0.5156629410270187\n"
          ]
        }
      ]
    },
    {
      "cell_type": "markdown",
      "source": [
        "## モデルの評価： テストデータを用いた推論"
      ],
      "metadata": {
        "id": "quIqyc8j-r8y"
      }
    },
    {
      "cell_type": "code",
      "source": [
        "# テストデータを用いた推論\n",
        "\n",
        "pred_test = vote.predict(df_test)\n",
        "\n",
        "pred_test = pred_test.astype(int)  # float => int\n",
        "print(pred_test[:20])"
      ],
      "metadata": {
        "id": "n-HFx-DYasqn",
        "colab": {
          "base_uri": "https://localhost:8080/"
        },
        "outputId": "4ba2a129-3d72-40c3-cc84-d0466abe5584"
      },
      "execution_count": 68,
      "outputs": [
        {
          "output_type": "stream",
          "name": "stdout",
          "text": [
            "[0 0 3 1 2 1 0 1 1 2 2 2 3 1 2 3 1 2 0 3]\n"
          ]
        }
      ]
    },
    {
      "cell_type": "code",
      "source": [
        "# submission ファイル作成\n",
        "\n",
        "df_submission = pd.DataFrame({'id': df_test_id, 'price_range': pred_test})\n",
        "df_submission.to_csv('submission.csv', index=False, header=None)"
      ],
      "metadata": {
        "id": "BTXLQZAngv-1"
      },
      "execution_count": 69,
      "outputs": []
    }
  ]
}