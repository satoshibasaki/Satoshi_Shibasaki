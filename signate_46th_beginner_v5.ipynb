{
  "nbformat": 4,
  "nbformat_minor": 0,
  "metadata": {
    "colab": {
      "provenance": [],
      "authorship_tag": "ABX9TyN0D5yL04KIcj4UljoRczOB",
      "include_colab_link": true
    },
    "kernelspec": {
      "name": "python3",
      "display_name": "Python 3"
    },
    "language_info": {
      "name": "python"
    }
  },
  "cells": [
    {
      "cell_type": "markdown",
      "metadata": {
        "id": "view-in-github",
        "colab_type": "text"
      },
      "source": [
        "<a href=\"https://colab.research.google.com/github/satoshibasaki/competition/blob/main/signate_46th_beginner_v5.ipynb\" target=\"_parent\"><img src=\"https://colab.research.google.com/assets/colab-badge.svg\" alt=\"Open In Colab\"/></a>"
      ]
    },
    {
      "cell_type": "markdown",
      "source": [
        "# 【第46回_Beginner限定コンペ】携帯電話の機能データからの価格帯分類\n"
      ],
      "metadata": {
        "id": "aZ5bX_-3YJSE"
      }
    },
    {
      "cell_type": "markdown",
      "source": [
        "携帯電話の機能から販売価格を分類しよう！"
      ],
      "metadata": {
        "id": "7nRJ2KleYQfn"
      }
    },
    {
      "cell_type": "markdown",
      "source": [
        "## ライブラリの読み込み"
      ],
      "metadata": {
        "id": "-eLWRGvhYEN1"
      }
    },
    {
      "cell_type": "code",
      "source": [
        "!pip install optuna optuna-integration catboost"
      ],
      "metadata": {
        "colab": {
          "base_uri": "https://localhost:8080/"
        },
        "id": "qdpEvLeSdqHG",
        "outputId": "dfdf1e3d-53c6-413e-bf3b-0c3ac7ff4500"
      },
      "execution_count": 1,
      "outputs": [
        {
          "output_type": "stream",
          "name": "stdout",
          "text": [
            "Collecting optuna\n",
            "  Downloading optuna-3.6.1-py3-none-any.whl (380 kB)\n",
            "\u001b[2K     \u001b[90m━━━━━━━━━━━━━━━━━━━━━━━━━━━━━━━━━━━━━━━━\u001b[0m \u001b[32m380.1/380.1 kB\u001b[0m \u001b[31m4.1 MB/s\u001b[0m eta \u001b[36m0:00:00\u001b[0m\n",
            "\u001b[?25hCollecting optuna-integration\n",
            "  Downloading optuna_integration-3.6.0-py3-none-any.whl (93 kB)\n",
            "\u001b[2K     \u001b[90m━━━━━━━━━━━━━━━━━━━━━━━━━━━━━━━━━━━━━━━━\u001b[0m \u001b[32m93.4/93.4 kB\u001b[0m \u001b[31m12.8 MB/s\u001b[0m eta \u001b[36m0:00:00\u001b[0m\n",
            "\u001b[?25hCollecting catboost\n",
            "  Downloading catboost-1.2.5-cp310-cp310-manylinux2014_x86_64.whl (98.2 MB)\n",
            "\u001b[2K     \u001b[90m━━━━━━━━━━━━━━━━━━━━━━━━━━━━━━━━━━━━━━━━\u001b[0m \u001b[32m98.2/98.2 MB\u001b[0m \u001b[31m5.0 MB/s\u001b[0m eta \u001b[36m0:00:00\u001b[0m\n",
            "\u001b[?25hCollecting alembic>=1.5.0 (from optuna)\n",
            "  Downloading alembic-1.13.1-py3-none-any.whl (233 kB)\n",
            "\u001b[2K     \u001b[90m━━━━━━━━━━━━━━━━━━━━━━━━━━━━━━━━━━━━━━━━\u001b[0m \u001b[32m233.4/233.4 kB\u001b[0m \u001b[31m24.6 MB/s\u001b[0m eta \u001b[36m0:00:00\u001b[0m\n",
            "\u001b[?25hCollecting colorlog (from optuna)\n",
            "  Downloading colorlog-6.8.2-py3-none-any.whl (11 kB)\n",
            "Requirement already satisfied: numpy in /usr/local/lib/python3.10/dist-packages (from optuna) (1.25.2)\n",
            "Requirement already satisfied: packaging>=20.0 in /usr/local/lib/python3.10/dist-packages (from optuna) (24.0)\n",
            "Requirement already satisfied: sqlalchemy>=1.3.0 in /usr/local/lib/python3.10/dist-packages (from optuna) (2.0.30)\n",
            "Requirement already satisfied: tqdm in /usr/local/lib/python3.10/dist-packages (from optuna) (4.66.4)\n",
            "Requirement already satisfied: PyYAML in /usr/local/lib/python3.10/dist-packages (from optuna) (6.0.1)\n",
            "Requirement already satisfied: graphviz in /usr/local/lib/python3.10/dist-packages (from catboost) (0.20.3)\n",
            "Requirement already satisfied: matplotlib in /usr/local/lib/python3.10/dist-packages (from catboost) (3.7.1)\n",
            "Requirement already satisfied: pandas>=0.24 in /usr/local/lib/python3.10/dist-packages (from catboost) (2.0.3)\n",
            "Requirement already satisfied: scipy in /usr/local/lib/python3.10/dist-packages (from catboost) (1.11.4)\n",
            "Requirement already satisfied: plotly in /usr/local/lib/python3.10/dist-packages (from catboost) (5.15.0)\n",
            "Requirement already satisfied: six in /usr/local/lib/python3.10/dist-packages (from catboost) (1.16.0)\n",
            "Collecting Mako (from alembic>=1.5.0->optuna)\n",
            "  Downloading Mako-1.3.5-py3-none-any.whl (78 kB)\n",
            "\u001b[2K     \u001b[90m━━━━━━━━━━━━━━━━━━━━━━━━━━━━━━━━━━━━━━━━\u001b[0m \u001b[32m78.6/78.6 kB\u001b[0m \u001b[31m10.0 MB/s\u001b[0m eta \u001b[36m0:00:00\u001b[0m\n",
            "\u001b[?25hRequirement already satisfied: typing-extensions>=4 in /usr/local/lib/python3.10/dist-packages (from alembic>=1.5.0->optuna) (4.11.0)\n",
            "Requirement already satisfied: python-dateutil>=2.8.2 in /usr/local/lib/python3.10/dist-packages (from pandas>=0.24->catboost) (2.8.2)\n",
            "Requirement already satisfied: pytz>=2020.1 in /usr/local/lib/python3.10/dist-packages (from pandas>=0.24->catboost) (2023.4)\n",
            "Requirement already satisfied: tzdata>=2022.1 in /usr/local/lib/python3.10/dist-packages (from pandas>=0.24->catboost) (2024.1)\n",
            "Requirement already satisfied: greenlet!=0.4.17 in /usr/local/lib/python3.10/dist-packages (from sqlalchemy>=1.3.0->optuna) (3.0.3)\n",
            "Requirement already satisfied: contourpy>=1.0.1 in /usr/local/lib/python3.10/dist-packages (from matplotlib->catboost) (1.2.1)\n",
            "Requirement already satisfied: cycler>=0.10 in /usr/local/lib/python3.10/dist-packages (from matplotlib->catboost) (0.12.1)\n",
            "Requirement already satisfied: fonttools>=4.22.0 in /usr/local/lib/python3.10/dist-packages (from matplotlib->catboost) (4.51.0)\n",
            "Requirement already satisfied: kiwisolver>=1.0.1 in /usr/local/lib/python3.10/dist-packages (from matplotlib->catboost) (1.4.5)\n",
            "Requirement already satisfied: pillow>=6.2.0 in /usr/local/lib/python3.10/dist-packages (from matplotlib->catboost) (9.4.0)\n",
            "Requirement already satisfied: pyparsing>=2.3.1 in /usr/local/lib/python3.10/dist-packages (from matplotlib->catboost) (3.1.2)\n",
            "Requirement already satisfied: tenacity>=6.2.0 in /usr/local/lib/python3.10/dist-packages (from plotly->catboost) (8.3.0)\n",
            "Requirement already satisfied: MarkupSafe>=0.9.2 in /usr/local/lib/python3.10/dist-packages (from Mako->alembic>=1.5.0->optuna) (2.1.5)\n",
            "Installing collected packages: Mako, colorlog, alembic, optuna, catboost, optuna-integration\n",
            "Successfully installed Mako-1.3.5 alembic-1.13.1 catboost-1.2.5 colorlog-6.8.2 optuna-3.6.1 optuna-integration-3.6.0\n"
          ]
        }
      ]
    },
    {
      "cell_type": "code",
      "source": [
        "import pandas as pd\n",
        "import numpy as np\n",
        "import matplotlib.pyplot as plt\n",
        "import seaborn as sns\n",
        "from sklearn.model_selection import train_test_split, cross_val_score\n",
        "from sklearn.preprocessing import StandardScaler\n",
        "from sklearn.metrics import accuracy_score, f1_score\n",
        "from xgboost import XGBClassifier\n",
        "from sklearn.svm import SVC\n",
        "# from lightgbm import LGBMClassifier\n",
        "import lightgbm as lgb\n",
        "import catboost as cb\n",
        "from sklearn.linear_model import LogisticRegression\n",
        "from sklearn.ensemble import RandomForestClassifier, StackingClassifier\n",
        "import optuna\n",
        "import optuna.visualization as vis\n",
        "# import optuna.integration.lightgbm as lgb\n",
        "from optuna.integration import CatBoostPruningCallback"
      ],
      "metadata": {
        "id": "lG4f0bqmYDNB"
      },
      "execution_count": 21,
      "outputs": []
    },
    {
      "cell_type": "markdown",
      "source": [
        "## データの読み込み"
      ],
      "metadata": {
        "id": "rflpRsu4YTiq"
      }
    },
    {
      "cell_type": "code",
      "source": [
        "from google.colab import drive\n",
        "drive.mount('/content/drive')"
      ],
      "metadata": {
        "colab": {
          "base_uri": "https://localhost:8080/"
        },
        "id": "o9JX7iweRWft",
        "outputId": "517d560e-cb26-468e-ad08-f9a42e4dd537"
      },
      "execution_count": 3,
      "outputs": [
        {
          "output_type": "stream",
          "name": "stdout",
          "text": [
            "Mounted at /content/drive\n"
          ]
        }
      ]
    },
    {
      "cell_type": "code",
      "execution_count": 4,
      "metadata": {
        "id": "_I5xXGftRPki"
      },
      "outputs": [],
      "source": [
        "dir = \"/content/drive/MyDrive/Data/signate_46th_begginer\"\n",
        "df_train_all = pd.read_csv(dir + '/train.csv')\n",
        "df_test = pd.read_csv(dir + '/test.csv')\n",
        "df_test_id = df_test[\"id\"]\n",
        "sample_submission = pd.read_csv(dir + '/sample_submission.csv')"
      ]
    },
    {
      "cell_type": "markdown",
      "source": [
        "テストデータセットとサンプルファイルのデータ数が合わない。\n",
        "\n",
        "id=1 がサンプルには無いのが原因。"
      ],
      "metadata": {
        "id": "VNCEmDrofrgJ"
      }
    },
    {
      "cell_type": "markdown",
      "source": [
        "## データの前処理"
      ],
      "metadata": {
        "id": "AZB2BHL_xQ2F"
      }
    },
    {
      "cell_type": "code",
      "source": [
        "# id は不要なので落とす\n",
        "df_train_all = df_train_all.drop('id', axis=1)\n",
        "df_test = df_test.drop('id', axis=1)\n",
        "\n",
        "# ターゲット変数 y は分けておく\n",
        "y = df_train_all[\"price_range\"]\n",
        "X = df_train_all.drop(\"price_range\", axis=1)  # ここから特徴量は X, df_test に対して作成・追加する"
      ],
      "metadata": {
        "id": "aQdarQdoQNfN"
      },
      "execution_count": 5,
      "outputs": []
    },
    {
      "cell_type": "markdown",
      "source": [
        "### 新しい特徴量の作成・追加"
      ],
      "metadata": {
        "id": "hZFWs7Qfo2DJ"
      }
    },
    {
      "cell_type": "code",
      "source": [
        "# スクリーン面積: sc_area\n",
        "X[\"sc_area\"] = np.multiply(X[\"sc_h\"], X[\"sc_w\"])\n",
        "df_test[\"sc_area\"] = np.multiply(df_test[\"sc_h\"], df_test[\"sc_w\"])\n",
        "\n",
        "# 画面比率: sc_ratio => NG (inf)\n",
        "# X[\"sc_ratio\"] = np.divide(X[\"sc_h\"], X[\"sc_w\"])\n",
        "# df_test[\"sc_ratio\"] = np.divide(df_test[\"sc_h\"], df_test[\"sc_w\"])\n",
        "\n",
        "# 連続通信時間比: talk_time_ratio\n",
        "# X[\"talk_time_ratio\"] = X[\"talk_time\"] / X[\"battery_power\"]\n",
        "# df_test[\"talk_time_ratio\"] = df_test[\"talk_time\"] / df_test[\"battery_power\"]\n",
        "\n",
        "# ピクセル密度: px_density => 値が大きすぎてNG (inf)\n",
        "# X[\"px_density\"] = np.divide(np.multiply(X[\"px_height\"], X[\"px_width\"]), X[\"sc_area\"])\n",
        "# df_test[\"px_density\"] = np.divide(np.multiply(df_test[\"px_height\"], df_test[\"px_width\"]), df_test[\"sc_area\"])\n",
        "\n",
        "# プロセッサ速度指数: ps_idx\n",
        "X[\"ps_idx\"] = np.multiply(X[\"clock_speed\"], X[\"n_cores\"])\n",
        "df_test[\"ps_idx\"] = np.multiply(df_test[\"clock_speed\"], df_test[\"n_cores\"])\n",
        "\n",
        "# コア当たりのRAM: ram_per_core\n",
        "# X[\"ram_per_core\"] = np.divide(X[\"ram\"], X[\"n_cores\"])\n",
        "# df_test[\"ram_per_core\"] = np.divide(df_test[\"ram\"], df_test[\"n_cores\"])\n",
        "\n",
        "# メモリ効率: mem_eff\n",
        "# X[\"mem_eff\"] = np.divide(X[\"ram\"], X[\"mobile_wt\"])\n",
        "# df_test[\"mem_eff\"] = np.divide(df_test[\"ram\"], df_test[\"mobile_wt\"])\n",
        "\n",
        "# ストレージ効率: str_eff\n",
        "# X[\"str_eff\"] = np.divide(X[\"int_memory\"], X[\"mobile_wt\"])\n",
        "# df_test[\"str_eff\"] = np.divide(df_test[\"int_memory\"], df_test[\"mobile_wt\"])\n",
        "\n",
        "# バッテリー密度: bp_wt\n",
        "# X[\"bp_wt\"] = np.divide(X[\"battery_power\"], X[\"mobile_wt\"])\n",
        "# df_test[\"bp_wt\"] = np.divide(df_test[\"battery_power\"], df_test[\"mobile_wt\"])\n",
        "\n",
        "# カメラ品質指数: cq_idx\n",
        "X[\"cq_idx\"] = X[\"pc\"] + X[\"fc\"]\n",
        "df_test[\"cq_idx\"] = df_test[\"pc\"] + df_test[\"fc\"]\n",
        "\n",
        "# 通信機能数: conn_ft_cnt\n",
        "X[\"conn_ft_cnt\"] = X[\"blue\"] + X[\"four_g\"] + X[\"three_g\"] + X[\"wifi\"]\n",
        "df_test[\"conn_ft_cnt\"] = df_test[\"blue\"] + df_test[\"four_g\"] + df_test[\"three_g\"] + df_test[\"wifi\"]\n",
        "\n",
        "# 全体の機能数: all_ft_cnt\n",
        "X[\"all_ft_cnt\"] = X[\"blue\"] + X[\"dual_sim\"]+ X[\"touch_screen\"] + X[\"four_g\"] + X[\"three_g\"] + X[\"wifi\"]\n",
        "df_test[\"all_ft_cnt\"] = df_test[\"blue\"]+ df_test[\"dual_sim\"]+ df_test[\"touch_screen\"] + df_test[\"four_g\"] + df_test[\"three_g\"] + df_test[\"wifi\"]"
      ],
      "metadata": {
        "id": "vJlL70xGDJKb"
      },
      "execution_count": 6,
      "outputs": []
    },
    {
      "cell_type": "code",
      "source": [
        "# 特徴量同士の相関関係を表示\n",
        "# corr = X.corr()\n",
        "# plt.figure(figsize=(10, 8))  # サイズを大きく設定\n",
        "# sns.heatmap(corr, annot=True, annot_kws={\"size\":6}, cmap='coolwarm')\n",
        "# plt.show()"
      ],
      "metadata": {
        "id": "mqhh2IZmq2hQ"
      },
      "execution_count": 7,
      "outputs": []
    },
    {
      "cell_type": "markdown",
      "source": [
        "### 特徴量の尺度を揃える"
      ],
      "metadata": {
        "id": "t1f13or63xnM"
      }
    },
    {
      "cell_type": "code",
      "source": [
        "std_columns = ['battery_power', 'clock_speed', 'fc',\n",
        "        'int_memory', 'm_dep', 'mobile_wt', 'n_cores', 'pc',\n",
        "        'px_height', 'px_width', 'ram', 'sc_h', 'sc_w', 'talk_time', 'sc_area',\n",
        "        'ps_idx', 'cq_idx', 'conn_ft_cnt', 'all_ft_cnt',\n",
        "        ]\n",
        "\n",
        "# Standardize training data\n",
        "sc = StandardScaler().fit(X[std_columns])\n",
        "# X_train[std_columns] = sc.transform(X_train[std_columns])\n",
        "X[std_columns] = sc.transform(X[std_columns])\n",
        "\n",
        "# Standardize validation data\n",
        "# X_valid[std_columns] = sc.transform(X_valid[std_columns])\n",
        "\n",
        "# Standardize test data\n",
        "df_test[std_columns] = sc.transform(df_test[std_columns])"
      ],
      "metadata": {
        "id": "ciqaPGA62gjt"
      },
      "execution_count": 8,
      "outputs": []
    },
    {
      "cell_type": "markdown",
      "source": [
        "### データセットを訓練・検証データに分割"
      ],
      "metadata": {
        "id": "KtsbfzAY30No"
      }
    },
    {
      "cell_type": "code",
      "source": [
        "X_train, X_valid, y_train, y_valid = train_test_split(X, y, test_size=0.2, random_state=42, stratify=y)"
      ],
      "metadata": {
        "id": "IK16SYuKYro9"
      },
      "execution_count": 9,
      "outputs": []
    },
    {
      "cell_type": "markdown",
      "source": [
        "## Optuna でモデルのハイパーパラメータをチューニングする"
      ],
      "metadata": {
        "id": "TkXVYzgzb9Se"
      }
    },
    {
      "cell_type": "markdown",
      "source": [
        "### 1. ランダムフォレスト"
      ],
      "metadata": {
        "id": "fy1SxVKUFf3o"
      }
    },
    {
      "cell_type": "code",
      "source": [
        "def rf_objective(trial):\n",
        "\n",
        "    # 調整したいハイパーパラメータの範囲\n",
        "    max_depth = trial.suggest_int(\"max_depth\", 2, 32)\n",
        "    n_estimators = trial.suggest_int(\"n_estimators\", 10, 200)\n",
        "    min_samples_split = trial.suggest_int(\"min_samples_split\", 2, 20)\n",
        "    min_samples_leaf = trial.suggest_int(\"min_samples_leaf\", 1, 20)\n",
        "\n",
        "    # モデルの定義\n",
        "    cls = RandomForestClassifier(\n",
        "        max_depth=max_depth,\n",
        "        n_estimators=n_estimators,\n",
        "        min_samples_split=min_samples_split,\n",
        "        min_samples_leaf=min_samples_leaf,\n",
        "        random_state=42\n",
        "    )\n",
        "\n",
        "    score = cross_val_score(cls, X, y, cv=5, scoring='f1_macro')\n",
        "    f1_score = score.mean()\n",
        "    return score.mean()\n",
        "\n",
        "study = optuna.create_study(direction='maximize')\n",
        "study.optimize(rf_objective, n_trials=100)\n",
        "\n",
        "print('Best trial: , ', study.best_trial.params)\n",
        "print('Best score: , ', study.best_trial.value)"
      ],
      "metadata": {
        "colab": {
          "base_uri": "https://localhost:8080/"
        },
        "id": "jxA6QoK2bxkO",
        "outputId": "31ae5cbf-7aeb-441f-c7f2-c1a72a84b561",
        "collapsed": true
      },
      "execution_count": null,
      "outputs": [
        {
          "output_type": "stream",
          "name": "stderr",
          "text": [
            "[I 2024-05-23 23:16:22,346] A new study created in memory with name: no-name-55e0b6bd-f92a-4aaa-86f8-a5b97f24296d\n",
            "[I 2024-05-23 23:16:24,535] Trial 0 finished with value: 0.42198926499421174 and parameters: {'max_depth': 4, 'n_estimators': 111, 'min_samples_split': 7, 'min_samples_leaf': 3}. Best is trial 0 with value: 0.42198926499421174.\n",
            "[I 2024-05-23 23:16:25,773] Trial 1 finished with value: 0.45181148963561774 and parameters: {'max_depth': 12, 'n_estimators': 67, 'min_samples_split': 10, 'min_samples_leaf': 9}. Best is trial 1 with value: 0.45181148963561774.\n",
            "[I 2024-05-23 23:16:28,697] Trial 2 finished with value: 0.4539271677665225 and parameters: {'max_depth': 26, 'n_estimators': 186, 'min_samples_split': 13, 'min_samples_leaf': 15}. Best is trial 2 with value: 0.4539271677665225.\n",
            "[I 2024-05-23 23:16:30,148] Trial 3 finished with value: 0.4592756165246613 and parameters: {'max_depth': 26, 'n_estimators': 89, 'min_samples_split': 18, 'min_samples_leaf': 4}. Best is trial 3 with value: 0.4592756165246613.\n",
            "[I 2024-05-23 23:16:32,500] Trial 4 finished with value: 0.4400247577578115 and parameters: {'max_depth': 5, 'n_estimators': 199, 'min_samples_split': 12, 'min_samples_leaf': 13}. Best is trial 3 with value: 0.4592756165246613.\n",
            "[I 2024-05-23 23:16:32,802] Trial 5 finished with value: 0.43689392744103506 and parameters: {'max_depth': 4, 'n_estimators': 23, 'min_samples_split': 18, 'min_samples_leaf': 9}. Best is trial 3 with value: 0.4592756165246613.\n",
            "[I 2024-05-23 23:16:34,939] Trial 6 finished with value: 0.45894354862367337 and parameters: {'max_depth': 22, 'n_estimators': 126, 'min_samples_split': 14, 'min_samples_leaf': 4}. Best is trial 3 with value: 0.4592756165246613.\n",
            "[I 2024-05-23 23:16:37,940] Trial 7 finished with value: 0.4565406995567269 and parameters: {'max_depth': 10, 'n_estimators': 136, 'min_samples_split': 18, 'min_samples_leaf': 9}. Best is trial 3 with value: 0.4592756165246613.\n",
            "[I 2024-05-23 23:16:40,576] Trial 8 finished with value: 0.4595536537864654 and parameters: {'max_depth': 10, 'n_estimators': 118, 'min_samples_split': 20, 'min_samples_leaf': 1}. Best is trial 8 with value: 0.4595536537864654.\n",
            "[I 2024-05-23 23:16:41,628] Trial 9 finished with value: 0.4527434897464178 and parameters: {'max_depth': 29, 'n_estimators': 54, 'min_samples_split': 16, 'min_samples_leaf': 1}. Best is trial 8 with value: 0.4595536537864654.\n",
            "[I 2024-05-23 23:16:43,668] Trial 10 finished with value: 0.44766713086758275 and parameters: {'max_depth': 17, 'n_estimators': 153, 'min_samples_split': 2, 'min_samples_leaf': 20}. Best is trial 8 with value: 0.4595536537864654.\n",
            "[I 2024-05-23 23:16:45,069] Trial 11 finished with value: 0.45604768574400917 and parameters: {'max_depth': 32, 'n_estimators': 80, 'min_samples_split': 20, 'min_samples_leaf': 5}. Best is trial 8 with value: 0.4595536537864654.\n",
            "[I 2024-05-23 23:16:46,710] Trial 12 finished with value: 0.460231298163085 and parameters: {'max_depth': 19, 'n_estimators': 89, 'min_samples_split': 19, 'min_samples_leaf': 1}. Best is trial 12 with value: 0.460231298163085.\n",
            "[I 2024-05-23 23:16:49,226] Trial 13 finished with value: 0.46420773346473476 and parameters: {'max_depth': 17, 'n_estimators': 161, 'min_samples_split': 20, 'min_samples_leaf': 1}. Best is trial 13 with value: 0.46420773346473476.\n",
            "[I 2024-05-23 23:16:52,959] Trial 14 finished with value: 0.46288632314207145 and parameters: {'max_depth': 19, 'n_estimators': 167, 'min_samples_split': 9, 'min_samples_leaf': 6}. Best is trial 13 with value: 0.46420773346473476.\n",
            "[I 2024-05-23 23:16:56,156] Trial 15 finished with value: 0.4568824192186442 and parameters: {'max_depth': 15, 'n_estimators': 173, 'min_samples_split': 7, 'min_samples_leaf': 6}. Best is trial 13 with value: 0.46420773346473476.\n",
            "[I 2024-05-23 23:16:58,849] Trial 16 finished with value: 0.46039039281840066 and parameters: {'max_depth': 22, 'n_estimators': 158, 'min_samples_split': 8, 'min_samples_leaf': 6}. Best is trial 13 with value: 0.46420773346473476.\n",
            "[I 2024-05-23 23:17:01,363] Trial 17 finished with value: 0.457551712940202 and parameters: {'max_depth': 21, 'n_estimators': 146, 'min_samples_split': 4, 'min_samples_leaf': 7}. Best is trial 13 with value: 0.46420773346473476.\n",
            "[I 2024-05-23 23:17:04,298] Trial 18 finished with value: 0.46302005858424283 and parameters: {'max_depth': 12, 'n_estimators': 170, 'min_samples_split': 10, 'min_samples_leaf': 11}. Best is trial 13 with value: 0.46420773346473476.\n",
            "[I 2024-05-23 23:17:08,388] Trial 19 finished with value: 0.46417085796225244 and parameters: {'max_depth': 13, 'n_estimators': 184, 'min_samples_split': 16, 'min_samples_leaf': 13}. Best is trial 13 with value: 0.46420773346473476.\n",
            "[I 2024-05-23 23:17:11,353] Trial 20 finished with value: 0.4546705325358831 and parameters: {'max_depth': 8, 'n_estimators': 200, 'min_samples_split': 15, 'min_samples_leaf': 15}. Best is trial 13 with value: 0.46420773346473476.\n",
            "[I 2024-05-23 23:17:13,919] Trial 21 finished with value: 0.46667689610199214 and parameters: {'max_depth': 14, 'n_estimators': 179, 'min_samples_split': 16, 'min_samples_leaf': 13}. Best is trial 21 with value: 0.46667689610199214.\n",
            "[I 2024-05-23 23:17:16,709] Trial 22 finished with value: 0.46210204326846877 and parameters: {'max_depth': 16, 'n_estimators': 178, 'min_samples_split': 16, 'min_samples_leaf': 16}. Best is trial 21 with value: 0.46667689610199214.\n",
            "[I 2024-05-23 23:17:19,413] Trial 23 finished with value: 0.45512727124001573 and parameters: {'max_depth': 13, 'n_estimators': 186, 'min_samples_split': 17, 'min_samples_leaf': 12}. Best is trial 21 with value: 0.46667689610199214.\n",
            "[I 2024-05-23 23:17:22,347] Trial 24 finished with value: 0.4405868848848158 and parameters: {'max_depth': 7, 'n_estimators': 143, 'min_samples_split': 14, 'min_samples_leaf': 17}. Best is trial 21 with value: 0.46667689610199214.\n",
            "[I 2024-05-23 23:17:24,973] Trial 25 finished with value: 0.47059340276321826 and parameters: {'max_depth': 15, 'n_estimators': 159, 'min_samples_split': 16, 'min_samples_leaf': 13}. Best is trial 25 with value: 0.47059340276321826.\n",
            "[I 2024-05-23 23:17:26,763] Trial 26 finished with value: 0.4564162057473629 and parameters: {'max_depth': 18, 'n_estimators': 132, 'min_samples_split': 12, 'min_samples_leaf': 18}. Best is trial 25 with value: 0.47059340276321826.\n",
            "[I 2024-05-23 23:17:29,631] Trial 27 finished with value: 0.46749033668619555 and parameters: {'max_depth': 15, 'n_estimators': 151, 'min_samples_split': 20, 'min_samples_leaf': 14}. Best is trial 25 with value: 0.47059340276321826.\n",
            "[I 2024-05-23 23:17:31,110] Trial 28 finished with value: 0.46025656684804395 and parameters: {'max_depth': 15, 'n_estimators': 101, 'min_samples_split': 17, 'min_samples_leaf': 13}. Best is trial 25 with value: 0.47059340276321826.\n",
            "[I 2024-05-23 23:17:32,823] Trial 29 finished with value: 0.46252862933235406 and parameters: {'max_depth': 10, 'n_estimators': 104, 'min_samples_split': 14, 'min_samples_leaf': 14}. Best is trial 25 with value: 0.47059340276321826.\n",
            "[I 2024-05-23 23:17:35,492] Trial 30 finished with value: 0.4582760823998009 and parameters: {'max_depth': 24, 'n_estimators': 121, 'min_samples_split': 19, 'min_samples_leaf': 19}. Best is trial 25 with value: 0.47059340276321826.\n",
            "[I 2024-05-23 23:17:38,649] Trial 31 finished with value: 0.4625058302158367 and parameters: {'max_depth': 15, 'n_estimators': 151, 'min_samples_split': 20, 'min_samples_leaf': 11}. Best is trial 25 with value: 0.47059340276321826.\n",
            "[I 2024-05-23 23:17:41,014] Trial 32 finished with value: 0.4564274404579109 and parameters: {'max_depth': 20, 'n_estimators': 166, 'min_samples_split': 19, 'min_samples_leaf': 10}. Best is trial 25 with value: 0.47059340276321826.\n",
            "[I 2024-05-23 23:17:43,244] Trial 33 finished with value: 0.45601231682073606 and parameters: {'max_depth': 16, 'n_estimators': 158, 'min_samples_split': 17, 'min_samples_leaf': 15}. Best is trial 25 with value: 0.47059340276321826.\n",
            "[I 2024-05-23 23:17:45,403] Trial 34 finished with value: 0.46051794795892825 and parameters: {'max_depth': 13, 'n_estimators': 137, 'min_samples_split': 15, 'min_samples_leaf': 17}. Best is trial 25 with value: 0.47059340276321826.\n",
            "[I 2024-05-23 23:17:49,044] Trial 35 finished with value: 0.4584938109849289 and parameters: {'max_depth': 18, 'n_estimators': 190, 'min_samples_split': 12, 'min_samples_leaf': 12}. Best is trial 25 with value: 0.47059340276321826.\n",
            "[I 2024-05-23 23:17:52,777] Trial 36 finished with value: 0.4640432903993211 and parameters: {'max_depth': 14, 'n_estimators': 164, 'min_samples_split': 18, 'min_samples_leaf': 14}. Best is trial 25 with value: 0.47059340276321826.\n",
            "[I 2024-05-23 23:17:54,764] Trial 37 finished with value: 0.30447072339177617 and parameters: {'max_depth': 2, 'n_estimators': 177, 'min_samples_split': 20, 'min_samples_leaf': 10}. Best is trial 25 with value: 0.47059340276321826.\n",
            "[I 2024-05-23 23:17:55,134] Trial 38 finished with value: 0.433202214730554 and parameters: {'max_depth': 11, 'n_estimators': 21, 'min_samples_split': 11, 'min_samples_leaf': 12}. Best is trial 25 with value: 0.47059340276321826.\n",
            "[I 2024-05-23 23:17:57,843] Trial 39 finished with value: 0.4583882333164464 and parameters: {'max_depth': 8, 'n_estimators': 191, 'min_samples_split': 13, 'min_samples_leaf': 8}. Best is trial 25 with value: 0.47059340276321826.\n",
            "[I 2024-05-23 23:17:58,766] Trial 40 finished with value: 0.458492846096995 and parameters: {'max_depth': 18, 'n_estimators': 60, 'min_samples_split': 18, 'min_samples_leaf': 15}. Best is trial 25 with value: 0.47059340276321826.\n",
            "[I 2024-05-23 23:18:01,488] Trial 41 finished with value: 0.46417085796225244 and parameters: {'max_depth': 13, 'n_estimators': 184, 'min_samples_split': 16, 'min_samples_leaf': 13}. Best is trial 25 with value: 0.47059340276321826.\n",
            "[I 2024-05-23 23:18:04,921] Trial 42 finished with value: 0.4657589628289244 and parameters: {'max_depth': 12, 'n_estimators': 180, 'min_samples_split': 15, 'min_samples_leaf': 14}. Best is trial 25 with value: 0.47059340276321826.\n",
            "[I 2024-05-23 23:18:05,902] Trial 43 finished with value: 0.452186493217984 and parameters: {'max_depth': 16, 'n_estimators': 38, 'min_samples_split': 15, 'min_samples_leaf': 14}. Best is trial 25 with value: 0.47059340276321826.\n",
            "[I 2024-05-23 23:18:09,087] Trial 44 finished with value: 0.46056792419014847 and parameters: {'max_depth': 10, 'n_estimators': 157, 'min_samples_split': 19, 'min_samples_leaf': 16}. Best is trial 25 with value: 0.47059340276321826.\n",
            "[I 2024-05-23 23:18:11,414] Trial 45 finished with value: 0.4594726658810462 and parameters: {'max_depth': 11, 'n_estimators': 146, 'min_samples_split': 17, 'min_samples_leaf': 3}. Best is trial 25 with value: 0.47059340276321826.\n",
            "[I 2024-05-23 23:18:13,484] Trial 46 finished with value: 0.4630183749026532 and parameters: {'max_depth': 24, 'n_estimators': 112, 'min_samples_split': 13, 'min_samples_leaf': 16}. Best is trial 25 with value: 0.47059340276321826.\n",
            "[I 2024-05-23 23:18:15,297] Trial 47 finished with value: 0.4544872652753689 and parameters: {'max_depth': 6, 'n_estimators': 129, 'min_samples_split': 18, 'min_samples_leaf': 9}. Best is trial 25 with value: 0.47059340276321826.\n",
            "[I 2024-05-23 23:18:18,244] Trial 48 finished with value: 0.45267641893183386 and parameters: {'max_depth': 17, 'n_estimators': 176, 'min_samples_split': 20, 'min_samples_leaf': 12}. Best is trial 25 with value: 0.47059340276321826.\n",
            "[I 2024-05-23 23:18:22,283] Trial 49 finished with value: 0.4648445554042243 and parameters: {'max_depth': 14, 'n_estimators': 193, 'min_samples_split': 19, 'min_samples_leaf': 14}. Best is trial 25 with value: 0.47059340276321826.\n",
            "[I 2024-05-23 23:18:25,435] Trial 50 finished with value: 0.4629510014132173 and parameters: {'max_depth': 14, 'n_estimators': 195, 'min_samples_split': 15, 'min_samples_leaf': 14}. Best is trial 25 with value: 0.47059340276321826.\n",
            "[I 2024-05-23 23:18:28,057] Trial 51 finished with value: 0.45937014272186705 and parameters: {'max_depth': 12, 'n_estimators': 179, 'min_samples_split': 19, 'min_samples_leaf': 11}. Best is trial 25 with value: 0.47059340276321826.\n",
            "[I 2024-05-23 23:18:30,332] Trial 52 finished with value: 0.4668655961176141 and parameters: {'max_depth': 14, 'n_estimators': 163, 'min_samples_split': 20, 'min_samples_leaf': 13}. Best is trial 25 with value: 0.47059340276321826.\n",
            "[I 2024-05-23 23:18:33,551] Trial 53 finished with value: 0.45235093693950396 and parameters: {'max_depth': 9, 'n_estimators': 196, 'min_samples_split': 18, 'min_samples_leaf': 13}. Best is trial 25 with value: 0.47059340276321826.\n",
            "[I 2024-05-23 23:18:37,003] Trial 54 finished with value: 0.4543478136545569 and parameters: {'max_depth': 14, 'n_estimators': 170, 'min_samples_split': 17, 'min_samples_leaf': 15}. Best is trial 25 with value: 0.47059340276321826.\n",
            "[I 2024-05-23 23:18:39,142] Trial 55 finished with value: 0.46579640519576077 and parameters: {'max_depth': 12, 'n_estimators': 153, 'min_samples_split': 19, 'min_samples_leaf': 14}. Best is trial 25 with value: 0.47059340276321826.\n",
            "[I 2024-05-23 23:18:41,247] Trial 56 finished with value: 0.4668973604982187 and parameters: {'max_depth': 11, 'n_estimators': 139, 'min_samples_split': 5, 'min_samples_leaf': 13}. Best is trial 25 with value: 0.47059340276321826.\n",
            "[I 2024-05-23 23:18:43,224] Trial 57 finished with value: 0.4668973604982187 and parameters: {'max_depth': 11, 'n_estimators': 139, 'min_samples_split': 5, 'min_samples_leaf': 13}. Best is trial 25 with value: 0.47059340276321826.\n",
            "[I 2024-05-23 23:18:45,163] Trial 58 finished with value: 0.45825929824547246 and parameters: {'max_depth': 11, 'n_estimators': 140, 'min_samples_split': 5, 'min_samples_leaf': 12}. Best is trial 25 with value: 0.47059340276321826.\n",
            "[I 2024-05-23 23:18:47,390] Trial 59 finished with value: 0.44721353687579146 and parameters: {'max_depth': 8, 'n_estimators': 124, 'min_samples_split': 4, 'min_samples_leaf': 10}. Best is trial 25 with value: 0.47059340276321826.\n",
            "[I 2024-05-23 23:18:50,768] Trial 60 finished with value: 0.45636134512607524 and parameters: {'max_depth': 9, 'n_estimators': 150, 'min_samples_split': 6, 'min_samples_leaf': 13}. Best is trial 25 with value: 0.47059340276321826.\n",
            "[I 2024-05-23 23:18:53,138] Trial 61 finished with value: 0.4634563985626971 and parameters: {'max_depth': 15, 'n_estimators': 134, 'min_samples_split': 2, 'min_samples_leaf': 13}. Best is trial 25 with value: 0.47059340276321826.\n",
            "[I 2024-05-23 23:18:55,380] Trial 62 finished with value: 0.4673093243043939 and parameters: {'max_depth': 12, 'n_estimators': 152, 'min_samples_split': 8, 'min_samples_leaf': 11}. Best is trial 25 with value: 0.47059340276321826.\n",
            "[I 2024-05-23 23:18:57,104] Trial 63 finished with value: 0.4512918719701421 and parameters: {'max_depth': 16, 'n_estimators': 113, 'min_samples_split': 8, 'min_samples_leaf': 11}. Best is trial 25 with value: 0.47059340276321826.\n",
            "[I 2024-05-23 23:18:59,860] Trial 64 finished with value: 0.4611065926996738 and parameters: {'max_depth': 11, 'n_estimators': 162, 'min_samples_split': 4, 'min_samples_leaf': 12}. Best is trial 25 with value: 0.47059340276321826.\n",
            "[I 2024-05-23 23:19:02,648] Trial 65 finished with value: 0.45817737929945823 and parameters: {'max_depth': 9, 'n_estimators': 141, 'min_samples_split': 6, 'min_samples_leaf': 11}. Best is trial 25 with value: 0.47059340276321826.\n",
            "[I 2024-05-23 23:19:06,052] Trial 66 finished with value: 0.46285556471072287 and parameters: {'max_depth': 13, 'n_estimators': 153, 'min_samples_split': 3, 'min_samples_leaf': 16}. Best is trial 25 with value: 0.47059340276321826.\n",
            "[I 2024-05-23 23:19:08,314] Trial 67 finished with value: 0.4652353534216994 and parameters: {'max_depth': 17, 'n_estimators': 147, 'min_samples_split': 9, 'min_samples_leaf': 13}. Best is trial 25 with value: 0.47059340276321826.\n",
            "[I 2024-05-23 23:19:10,983] Trial 68 finished with value: 0.4562661987138214 and parameters: {'max_depth': 29, 'n_estimators': 170, 'min_samples_split': 6, 'min_samples_leaf': 8}. Best is trial 25 with value: 0.47059340276321826.\n",
            "[I 2024-05-23 23:19:13,701] Trial 69 finished with value: 0.4569116900301175 and parameters: {'max_depth': 19, 'n_estimators': 159, 'min_samples_split': 5, 'min_samples_leaf': 10}. Best is trial 25 with value: 0.47059340276321826.\n",
            "[I 2024-05-23 23:19:16,607] Trial 70 finished with value: 0.45474682467495453 and parameters: {'max_depth': 15, 'n_estimators': 128, 'min_samples_split': 7, 'min_samples_leaf': 15}. Best is trial 25 with value: 0.47059340276321826.\n",
            "[I 2024-05-23 23:19:20,127] Trial 71 finished with value: 0.4638865673155331 and parameters: {'max_depth': 12, 'n_estimators': 157, 'min_samples_split': 10, 'min_samples_leaf': 14}. Best is trial 25 with value: 0.47059340276321826.\n",
            "[I 2024-05-23 23:19:22,021] Trial 72 finished with value: 0.46694340122341077 and parameters: {'max_depth': 12, 'n_estimators': 96, 'min_samples_split': 5, 'min_samples_leaf': 12}. Best is trial 25 with value: 0.47059340276321826.\n",
            "[I 2024-05-23 23:19:23,310] Trial 73 finished with value: 0.4612093948753073 and parameters: {'max_depth': 10, 'n_estimators': 82, 'min_samples_split': 5, 'min_samples_leaf': 12}. Best is trial 25 with value: 0.47059340276321826.\n",
            "[I 2024-05-23 23:19:24,907] Trial 74 finished with value: 0.45763418432721925 and parameters: {'max_depth': 14, 'n_estimators': 95, 'min_samples_split': 7, 'min_samples_leaf': 11}. Best is trial 25 with value: 0.47059340276321826.\n",
            "[I 2024-05-23 23:19:25,173] Trial 75 finished with value: 0.45458104569323304 and parameters: {'max_depth': 12, 'n_estimators': 10, 'min_samples_split': 3, 'min_samples_leaf': 13}. Best is trial 25 with value: 0.47059340276321826.\n",
            "[I 2024-05-23 23:19:27,030] Trial 76 finished with value: 0.4614351003000706 and parameters: {'max_depth': 13, 'n_estimators': 118, 'min_samples_split': 8, 'min_samples_leaf': 12}. Best is trial 25 with value: 0.47059340276321826.\n",
            "[I 2024-05-23 23:19:28,701] Trial 77 finished with value: 0.4551248420415769 and parameters: {'max_depth': 15, 'n_estimators': 74, 'min_samples_split': 11, 'min_samples_leaf': 9}. Best is trial 25 with value: 0.47059340276321826.\n",
            "[I 2024-05-23 23:19:29,986] Trial 78 finished with value: 0.45758393262582464 and parameters: {'max_depth': 7, 'n_estimators': 92, 'min_samples_split': 3, 'min_samples_leaf': 15}. Best is trial 25 with value: 0.47059340276321826.\n",
            "[I 2024-05-23 23:19:32,731] Trial 79 finished with value: 0.4654472609013737 and parameters: {'max_depth': 11, 'n_estimators': 144, 'min_samples_split': 9, 'min_samples_leaf': 13}. Best is trial 25 with value: 0.47059340276321826.\n",
            "[I 2024-05-23 23:19:36,123] Trial 80 finished with value: 0.4575311094719666 and parameters: {'max_depth': 17, 'n_estimators': 166, 'min_samples_split': 6, 'min_samples_leaf': 12}. Best is trial 25 with value: 0.47059340276321826.\n",
            "[I 2024-05-23 23:19:38,371] Trial 81 finished with value: 0.4618714170352683 and parameters: {'max_depth': 13, 'n_estimators': 154, 'min_samples_split': 20, 'min_samples_leaf': 14}. Best is trial 25 with value: 0.47059340276321826.\n",
            "[I 2024-05-23 23:19:40,336] Trial 82 finished with value: 0.46490005589880107 and parameters: {'max_depth': 10, 'n_estimators': 138, 'min_samples_split': 5, 'min_samples_leaf': 14}. Best is trial 25 with value: 0.47059340276321826.\n",
            "[I 2024-05-23 23:19:43,076] Trial 83 finished with value: 0.45496281216170925 and parameters: {'max_depth': 16, 'n_estimators': 173, 'min_samples_split': 4, 'min_samples_leaf': 11}. Best is trial 25 with value: 0.47059340276321826.\n",
            "[I 2024-05-23 23:19:45,191] Trial 84 finished with value: 0.4561059019583066 and parameters: {'max_depth': 12, 'n_estimators': 149, 'min_samples_split': 20, 'min_samples_leaf': 17}. Best is trial 25 with value: 0.47059340276321826.\n",
            "[I 2024-05-23 23:19:48,644] Trial 85 finished with value: 0.45505618794454106 and parameters: {'max_depth': 14, 'n_estimators': 162, 'min_samples_split': 19, 'min_samples_leaf': 15}. Best is trial 25 with value: 0.47059340276321826.\n",
            "[I 2024-05-23 23:19:50,669] Trial 86 finished with value: 0.4620499525195208 and parameters: {'max_depth': 10, 'n_estimators': 108, 'min_samples_split': 20, 'min_samples_leaf': 13}. Best is trial 25 with value: 0.47059340276321826.\n",
            "[I 2024-05-23 23:19:52,896] Trial 87 finished with value: 0.45360725454923356 and parameters: {'max_depth': 11, 'n_estimators': 132, 'min_samples_split': 14, 'min_samples_leaf': 12}. Best is trial 25 with value: 0.47059340276321826.\n",
            "[I 2024-05-23 23:19:55,195] Trial 88 finished with value: 0.469038899433185 and parameters: {'max_depth': 13, 'n_estimators': 168, 'min_samples_split': 19, 'min_samples_leaf': 13}. Best is trial 25 with value: 0.47059340276321826.\n",
            "[I 2024-05-23 23:19:56,659] Trial 89 finished with value: 0.4540321574249241 and parameters: {'max_depth': 14, 'n_estimators': 100, 'min_samples_split': 16, 'min_samples_leaf': 11}. Best is trial 25 with value: 0.47059340276321826.\n",
            "[I 2024-05-23 23:19:59,992] Trial 90 finished with value: 0.4500125160695066 and parameters: {'max_depth': 15, 'n_estimators': 185, 'min_samples_split': 18, 'min_samples_leaf': 10}. Best is trial 25 with value: 0.47059340276321826.\n",
            "[I 2024-05-23 23:20:03,881] Trial 91 finished with value: 0.46579640519576077 and parameters: {'max_depth': 12, 'n_estimators': 153, 'min_samples_split': 19, 'min_samples_leaf': 14}. Best is trial 25 with value: 0.47059340276321826.\n",
            "[I 2024-05-23 23:20:06,717] Trial 92 finished with value: 0.4697982016743283 and parameters: {'max_depth': 13, 'n_estimators': 167, 'min_samples_split': 19, 'min_samples_leaf': 13}. Best is trial 25 with value: 0.47059340276321826.\n",
            "[I 2024-05-23 23:20:09,275] Trial 93 finished with value: 0.4697982016743283 and parameters: {'max_depth': 13, 'n_estimators': 167, 'min_samples_split': 20, 'min_samples_leaf': 13}. Best is trial 25 with value: 0.47059340276321826.\n",
            "[I 2024-05-23 23:20:12,452] Trial 94 finished with value: 0.468164908330617 and parameters: {'max_depth': 13, 'n_estimators': 170, 'min_samples_split': 20, 'min_samples_leaf': 13}. Best is trial 25 with value: 0.47059340276321826.\n",
            "[I 2024-05-23 23:20:15,613] Trial 95 finished with value: 0.45364309675092285 and parameters: {'max_depth': 9, 'n_estimators': 173, 'min_samples_split': 20, 'min_samples_leaf': 12}. Best is trial 25 with value: 0.47059340276321826.\n",
            "[I 2024-05-23 23:20:19,269] Trial 96 finished with value: 0.4697982016743283 and parameters: {'max_depth': 13, 'n_estimators': 167, 'min_samples_split': 18, 'min_samples_leaf': 13}. Best is trial 25 with value: 0.47059340276321826.\n",
            "[I 2024-05-23 23:20:21,942] Trial 97 finished with value: 0.47069390011351286 and parameters: {'max_depth': 13, 'n_estimators': 166, 'min_samples_split': 18, 'min_samples_leaf': 13}. Best is trial 97 with value: 0.47069390011351286.\n",
            "[I 2024-05-23 23:20:24,693] Trial 98 finished with value: 0.461437883206694 and parameters: {'max_depth': 13, 'n_estimators': 169, 'min_samples_split': 18, 'min_samples_leaf': 12}. Best is trial 97 with value: 0.47069390011351286.\n",
            "[I 2024-05-23 23:20:27,312] Trial 99 finished with value: 0.45634441235551215 and parameters: {'max_depth': 13, 'n_estimators': 188, 'min_samples_split': 17, 'min_samples_leaf': 15}. Best is trial 97 with value: 0.47069390011351286.\n"
          ]
        },
        {
          "output_type": "stream",
          "name": "stdout",
          "text": [
            "Best trial: ,  {'max_depth': 13, 'n_estimators': 166, 'min_samples_split': 18, 'min_samples_leaf': 13}\n",
            "Best score: ,  0.47069390011351286\n"
          ]
        }
      ]
    },
    {
      "cell_type": "code",
      "source": [
        "# 探索履歴のプロット\n",
        "opt_history = vis.plot_optimization_history(study)\n",
        "opt_history.show()\n",
        "\n",
        "# ハイパーパラメータの重要度のプロット\n",
        "param_importances = vis.plot_param_importances(study)\n",
        "param_importances.show()"
      ],
      "metadata": {
        "colab": {
          "base_uri": "https://localhost:8080/",
          "height": 1000
        },
        "id": "qYiHgCr_BfM1",
        "outputId": "3ddaf87a-00f9-468c-dd0c-3bc7f9d58dba",
        "collapsed": true
      },
      "execution_count": null,
      "outputs": [
        {
          "output_type": "display_data",
          "data": {
            "text/html": [
              "<html>\n",
              "<head><meta charset=\"utf-8\" /></head>\n",
              "<body>\n",
              "    <div>            <script src=\"https://cdnjs.cloudflare.com/ajax/libs/mathjax/2.7.5/MathJax.js?config=TeX-AMS-MML_SVG\"></script><script type=\"text/javascript\">if (window.MathJax && window.MathJax.Hub && window.MathJax.Hub.Config) {window.MathJax.Hub.Config({SVG: {font: \"STIX-Web\"}});}</script>                <script type=\"text/javascript\">window.PlotlyConfig = {MathJaxConfig: 'local'};</script>\n",
              "        <script charset=\"utf-8\" src=\"https://cdn.plot.ly/plotly-2.24.1.min.js\"></script>                <div id=\"d579800f-3d34-499b-a7be-183227744c74\" class=\"plotly-graph-div\" style=\"height:525px; width:100%;\"></div>            <script type=\"text/javascript\">                                    window.PLOTLYENV=window.PLOTLYENV || {};                                    if (document.getElementById(\"d579800f-3d34-499b-a7be-183227744c74\")) {                    Plotly.newPlot(                        \"d579800f-3d34-499b-a7be-183227744c74\",                        [{\"mode\":\"markers\",\"name\":\"Objective Value\",\"x\":[0,1,2,3,4,5,6,7,8,9,10,11,12,13,14,15,16,17,18,19,20,21,22,23,24,25,26,27,28,29,30,31,32,33,34,35,36,37,38,39,40,41,42,43,44,45,46,47,48,49,50,51,52,53,54,55,56,57,58,59,60,61,62,63,64,65,66,67,68,69,70,71,72,73,74,75,76,77,78,79,80,81,82,83,84,85,86,87,88,89,90,91,92,93,94,95,96,97,98,99],\"y\":[0.42198926499421174,0.45181148963561774,0.4539271677665225,0.4592756165246613,0.4400247577578115,0.43689392744103506,0.45894354862367337,0.4565406995567269,0.4595536537864654,0.4527434897464178,0.44766713086758275,0.45604768574400917,0.460231298163085,0.46420773346473476,0.46288632314207145,0.4568824192186442,0.46039039281840066,0.457551712940202,0.46302005858424283,0.46417085796225244,0.4546705325358831,0.46667689610199214,0.46210204326846877,0.45512727124001573,0.4405868848848158,0.47059340276321826,0.4564162057473629,0.46749033668619555,0.46025656684804395,0.46252862933235406,0.4582760823998009,0.4625058302158367,0.4564274404579109,0.45601231682073606,0.46051794795892825,0.4584938109849289,0.4640432903993211,0.30447072339177617,0.433202214730554,0.4583882333164464,0.458492846096995,0.46417085796225244,0.4657589628289244,0.452186493217984,0.46056792419014847,0.4594726658810462,0.4630183749026532,0.4544872652753689,0.45267641893183386,0.4648445554042243,0.4629510014132173,0.45937014272186705,0.4668655961176141,0.45235093693950396,0.4543478136545569,0.46579640519576077,0.4668973604982187,0.4668973604982187,0.45825929824547246,0.44721353687579146,0.45636134512607524,0.4634563985626971,0.4673093243043939,0.4512918719701421,0.4611065926996738,0.45817737929945823,0.46285556471072287,0.4652353534216994,0.4562661987138214,0.4569116900301175,0.45474682467495453,0.4638865673155331,0.46694340122341077,0.4612093948753073,0.45763418432721925,0.45458104569323304,0.4614351003000706,0.4551248420415769,0.45758393262582464,0.4654472609013737,0.4575311094719666,0.4618714170352683,0.46490005589880107,0.45496281216170925,0.4561059019583066,0.45505618794454106,0.4620499525195208,0.45360725454923356,0.469038899433185,0.4540321574249241,0.4500125160695066,0.46579640519576077,0.4697982016743283,0.4697982016743283,0.468164908330617,0.45364309675092285,0.4697982016743283,0.47069390011351286,0.461437883206694,0.45634441235551215],\"type\":\"scatter\"},{\"mode\":\"lines\",\"name\":\"Best Value\",\"x\":[0,1,2,3,4,5,6,7,8,9,10,11,12,13,14,15,16,17,18,19,20,21,22,23,24,25,26,27,28,29,30,31,32,33,34,35,36,37,38,39,40,41,42,43,44,45,46,47,48,49,50,51,52,53,54,55,56,57,58,59,60,61,62,63,64,65,66,67,68,69,70,71,72,73,74,75,76,77,78,79,80,81,82,83,84,85,86,87,88,89,90,91,92,93,94,95,96,97,98,99],\"y\":[0.42198926499421174,0.45181148963561774,0.4539271677665225,0.4592756165246613,0.4592756165246613,0.4592756165246613,0.4592756165246613,0.4592756165246613,0.4595536537864654,0.4595536537864654,0.4595536537864654,0.4595536537864654,0.460231298163085,0.46420773346473476,0.46420773346473476,0.46420773346473476,0.46420773346473476,0.46420773346473476,0.46420773346473476,0.46420773346473476,0.46420773346473476,0.46667689610199214,0.46667689610199214,0.46667689610199214,0.46667689610199214,0.47059340276321826,0.47059340276321826,0.47059340276321826,0.47059340276321826,0.47059340276321826,0.47059340276321826,0.47059340276321826,0.47059340276321826,0.47059340276321826,0.47059340276321826,0.47059340276321826,0.47059340276321826,0.47059340276321826,0.47059340276321826,0.47059340276321826,0.47059340276321826,0.47059340276321826,0.47059340276321826,0.47059340276321826,0.47059340276321826,0.47059340276321826,0.47059340276321826,0.47059340276321826,0.47059340276321826,0.47059340276321826,0.47059340276321826,0.47059340276321826,0.47059340276321826,0.47059340276321826,0.47059340276321826,0.47059340276321826,0.47059340276321826,0.47059340276321826,0.47059340276321826,0.47059340276321826,0.47059340276321826,0.47059340276321826,0.47059340276321826,0.47059340276321826,0.47059340276321826,0.47059340276321826,0.47059340276321826,0.47059340276321826,0.47059340276321826,0.47059340276321826,0.47059340276321826,0.47059340276321826,0.47059340276321826,0.47059340276321826,0.47059340276321826,0.47059340276321826,0.47059340276321826,0.47059340276321826,0.47059340276321826,0.47059340276321826,0.47059340276321826,0.47059340276321826,0.47059340276321826,0.47059340276321826,0.47059340276321826,0.47059340276321826,0.47059340276321826,0.47059340276321826,0.47059340276321826,0.47059340276321826,0.47059340276321826,0.47059340276321826,0.47059340276321826,0.47059340276321826,0.47059340276321826,0.47059340276321826,0.47059340276321826,0.47069390011351286,0.47069390011351286,0.47069390011351286],\"type\":\"scatter\"},{\"marker\":{\"color\":\"#cccccc\"},\"mode\":\"markers\",\"name\":\"Infeasible Trial\",\"showlegend\":false,\"x\":[],\"y\":[],\"type\":\"scatter\"}],                        {\"title\":{\"text\":\"Optimization History Plot\"},\"xaxis\":{\"title\":{\"text\":\"Trial\"}},\"yaxis\":{\"title\":{\"text\":\"Objective Value\"}},\"template\":{\"data\":{\"histogram2dcontour\":[{\"type\":\"histogram2dcontour\",\"colorbar\":{\"outlinewidth\":0,\"ticks\":\"\"},\"colorscale\":[[0.0,\"#0d0887\"],[0.1111111111111111,\"#46039f\"],[0.2222222222222222,\"#7201a8\"],[0.3333333333333333,\"#9c179e\"],[0.4444444444444444,\"#bd3786\"],[0.5555555555555556,\"#d8576b\"],[0.6666666666666666,\"#ed7953\"],[0.7777777777777778,\"#fb9f3a\"],[0.8888888888888888,\"#fdca26\"],[1.0,\"#f0f921\"]]}],\"choropleth\":[{\"type\":\"choropleth\",\"colorbar\":{\"outlinewidth\":0,\"ticks\":\"\"}}],\"histogram2d\":[{\"type\":\"histogram2d\",\"colorbar\":{\"outlinewidth\":0,\"ticks\":\"\"},\"colorscale\":[[0.0,\"#0d0887\"],[0.1111111111111111,\"#46039f\"],[0.2222222222222222,\"#7201a8\"],[0.3333333333333333,\"#9c179e\"],[0.4444444444444444,\"#bd3786\"],[0.5555555555555556,\"#d8576b\"],[0.6666666666666666,\"#ed7953\"],[0.7777777777777778,\"#fb9f3a\"],[0.8888888888888888,\"#fdca26\"],[1.0,\"#f0f921\"]]}],\"heatmap\":[{\"type\":\"heatmap\",\"colorbar\":{\"outlinewidth\":0,\"ticks\":\"\"},\"colorscale\":[[0.0,\"#0d0887\"],[0.1111111111111111,\"#46039f\"],[0.2222222222222222,\"#7201a8\"],[0.3333333333333333,\"#9c179e\"],[0.4444444444444444,\"#bd3786\"],[0.5555555555555556,\"#d8576b\"],[0.6666666666666666,\"#ed7953\"],[0.7777777777777778,\"#fb9f3a\"],[0.8888888888888888,\"#fdca26\"],[1.0,\"#f0f921\"]]}],\"heatmapgl\":[{\"type\":\"heatmapgl\",\"colorbar\":{\"outlinewidth\":0,\"ticks\":\"\"},\"colorscale\":[[0.0,\"#0d0887\"],[0.1111111111111111,\"#46039f\"],[0.2222222222222222,\"#7201a8\"],[0.3333333333333333,\"#9c179e\"],[0.4444444444444444,\"#bd3786\"],[0.5555555555555556,\"#d8576b\"],[0.6666666666666666,\"#ed7953\"],[0.7777777777777778,\"#fb9f3a\"],[0.8888888888888888,\"#fdca26\"],[1.0,\"#f0f921\"]]}],\"contourcarpet\":[{\"type\":\"contourcarpet\",\"colorbar\":{\"outlinewidth\":0,\"ticks\":\"\"}}],\"contour\":[{\"type\":\"contour\",\"colorbar\":{\"outlinewidth\":0,\"ticks\":\"\"},\"colorscale\":[[0.0,\"#0d0887\"],[0.1111111111111111,\"#46039f\"],[0.2222222222222222,\"#7201a8\"],[0.3333333333333333,\"#9c179e\"],[0.4444444444444444,\"#bd3786\"],[0.5555555555555556,\"#d8576b\"],[0.6666666666666666,\"#ed7953\"],[0.7777777777777778,\"#fb9f3a\"],[0.8888888888888888,\"#fdca26\"],[1.0,\"#f0f921\"]]}],\"surface\":[{\"type\":\"surface\",\"colorbar\":{\"outlinewidth\":0,\"ticks\":\"\"},\"colorscale\":[[0.0,\"#0d0887\"],[0.1111111111111111,\"#46039f\"],[0.2222222222222222,\"#7201a8\"],[0.3333333333333333,\"#9c179e\"],[0.4444444444444444,\"#bd3786\"],[0.5555555555555556,\"#d8576b\"],[0.6666666666666666,\"#ed7953\"],[0.7777777777777778,\"#fb9f3a\"],[0.8888888888888888,\"#fdca26\"],[1.0,\"#f0f921\"]]}],\"mesh3d\":[{\"type\":\"mesh3d\",\"colorbar\":{\"outlinewidth\":0,\"ticks\":\"\"}}],\"scatter\":[{\"fillpattern\":{\"fillmode\":\"overlay\",\"size\":10,\"solidity\":0.2},\"type\":\"scatter\"}],\"parcoords\":[{\"type\":\"parcoords\",\"line\":{\"colorbar\":{\"outlinewidth\":0,\"ticks\":\"\"}}}],\"scatterpolargl\":[{\"type\":\"scatterpolargl\",\"marker\":{\"colorbar\":{\"outlinewidth\":0,\"ticks\":\"\"}}}],\"bar\":[{\"error_x\":{\"color\":\"#2a3f5f\"},\"error_y\":{\"color\":\"#2a3f5f\"},\"marker\":{\"line\":{\"color\":\"#E5ECF6\",\"width\":0.5},\"pattern\":{\"fillmode\":\"overlay\",\"size\":10,\"solidity\":0.2}},\"type\":\"bar\"}],\"scattergeo\":[{\"type\":\"scattergeo\",\"marker\":{\"colorbar\":{\"outlinewidth\":0,\"ticks\":\"\"}}}],\"scatterpolar\":[{\"type\":\"scatterpolar\",\"marker\":{\"colorbar\":{\"outlinewidth\":0,\"ticks\":\"\"}}}],\"histogram\":[{\"marker\":{\"pattern\":{\"fillmode\":\"overlay\",\"size\":10,\"solidity\":0.2}},\"type\":\"histogram\"}],\"scattergl\":[{\"type\":\"scattergl\",\"marker\":{\"colorbar\":{\"outlinewidth\":0,\"ticks\":\"\"}}}],\"scatter3d\":[{\"type\":\"scatter3d\",\"line\":{\"colorbar\":{\"outlinewidth\":0,\"ticks\":\"\"}},\"marker\":{\"colorbar\":{\"outlinewidth\":0,\"ticks\":\"\"}}}],\"scattermapbox\":[{\"type\":\"scattermapbox\",\"marker\":{\"colorbar\":{\"outlinewidth\":0,\"ticks\":\"\"}}}],\"scatterternary\":[{\"type\":\"scatterternary\",\"marker\":{\"colorbar\":{\"outlinewidth\":0,\"ticks\":\"\"}}}],\"scattercarpet\":[{\"type\":\"scattercarpet\",\"marker\":{\"colorbar\":{\"outlinewidth\":0,\"ticks\":\"\"}}}],\"carpet\":[{\"aaxis\":{\"endlinecolor\":\"#2a3f5f\",\"gridcolor\":\"white\",\"linecolor\":\"white\",\"minorgridcolor\":\"white\",\"startlinecolor\":\"#2a3f5f\"},\"baxis\":{\"endlinecolor\":\"#2a3f5f\",\"gridcolor\":\"white\",\"linecolor\":\"white\",\"minorgridcolor\":\"white\",\"startlinecolor\":\"#2a3f5f\"},\"type\":\"carpet\"}],\"table\":[{\"cells\":{\"fill\":{\"color\":\"#EBF0F8\"},\"line\":{\"color\":\"white\"}},\"header\":{\"fill\":{\"color\":\"#C8D4E3\"},\"line\":{\"color\":\"white\"}},\"type\":\"table\"}],\"barpolar\":[{\"marker\":{\"line\":{\"color\":\"#E5ECF6\",\"width\":0.5},\"pattern\":{\"fillmode\":\"overlay\",\"size\":10,\"solidity\":0.2}},\"type\":\"barpolar\"}],\"pie\":[{\"automargin\":true,\"type\":\"pie\"}]},\"layout\":{\"autotypenumbers\":\"strict\",\"colorway\":[\"#636efa\",\"#EF553B\",\"#00cc96\",\"#ab63fa\",\"#FFA15A\",\"#19d3f3\",\"#FF6692\",\"#B6E880\",\"#FF97FF\",\"#FECB52\"],\"font\":{\"color\":\"#2a3f5f\"},\"hovermode\":\"closest\",\"hoverlabel\":{\"align\":\"left\"},\"paper_bgcolor\":\"white\",\"plot_bgcolor\":\"#E5ECF6\",\"polar\":{\"bgcolor\":\"#E5ECF6\",\"angularaxis\":{\"gridcolor\":\"white\",\"linecolor\":\"white\",\"ticks\":\"\"},\"radialaxis\":{\"gridcolor\":\"white\",\"linecolor\":\"white\",\"ticks\":\"\"}},\"ternary\":{\"bgcolor\":\"#E5ECF6\",\"aaxis\":{\"gridcolor\":\"white\",\"linecolor\":\"white\",\"ticks\":\"\"},\"baxis\":{\"gridcolor\":\"white\",\"linecolor\":\"white\",\"ticks\":\"\"},\"caxis\":{\"gridcolor\":\"white\",\"linecolor\":\"white\",\"ticks\":\"\"}},\"coloraxis\":{\"colorbar\":{\"outlinewidth\":0,\"ticks\":\"\"}},\"colorscale\":{\"sequential\":[[0.0,\"#0d0887\"],[0.1111111111111111,\"#46039f\"],[0.2222222222222222,\"#7201a8\"],[0.3333333333333333,\"#9c179e\"],[0.4444444444444444,\"#bd3786\"],[0.5555555555555556,\"#d8576b\"],[0.6666666666666666,\"#ed7953\"],[0.7777777777777778,\"#fb9f3a\"],[0.8888888888888888,\"#fdca26\"],[1.0,\"#f0f921\"]],\"sequentialminus\":[[0.0,\"#0d0887\"],[0.1111111111111111,\"#46039f\"],[0.2222222222222222,\"#7201a8\"],[0.3333333333333333,\"#9c179e\"],[0.4444444444444444,\"#bd3786\"],[0.5555555555555556,\"#d8576b\"],[0.6666666666666666,\"#ed7953\"],[0.7777777777777778,\"#fb9f3a\"],[0.8888888888888888,\"#fdca26\"],[1.0,\"#f0f921\"]],\"diverging\":[[0,\"#8e0152\"],[0.1,\"#c51b7d\"],[0.2,\"#de77ae\"],[0.3,\"#f1b6da\"],[0.4,\"#fde0ef\"],[0.5,\"#f7f7f7\"],[0.6,\"#e6f5d0\"],[0.7,\"#b8e186\"],[0.8,\"#7fbc41\"],[0.9,\"#4d9221\"],[1,\"#276419\"]]},\"xaxis\":{\"gridcolor\":\"white\",\"linecolor\":\"white\",\"ticks\":\"\",\"title\":{\"standoff\":15},\"zerolinecolor\":\"white\",\"automargin\":true,\"zerolinewidth\":2},\"yaxis\":{\"gridcolor\":\"white\",\"linecolor\":\"white\",\"ticks\":\"\",\"title\":{\"standoff\":15},\"zerolinecolor\":\"white\",\"automargin\":true,\"zerolinewidth\":2},\"scene\":{\"xaxis\":{\"backgroundcolor\":\"#E5ECF6\",\"gridcolor\":\"white\",\"linecolor\":\"white\",\"showbackground\":true,\"ticks\":\"\",\"zerolinecolor\":\"white\",\"gridwidth\":2},\"yaxis\":{\"backgroundcolor\":\"#E5ECF6\",\"gridcolor\":\"white\",\"linecolor\":\"white\",\"showbackground\":true,\"ticks\":\"\",\"zerolinecolor\":\"white\",\"gridwidth\":2},\"zaxis\":{\"backgroundcolor\":\"#E5ECF6\",\"gridcolor\":\"white\",\"linecolor\":\"white\",\"showbackground\":true,\"ticks\":\"\",\"zerolinecolor\":\"white\",\"gridwidth\":2}},\"shapedefaults\":{\"line\":{\"color\":\"#2a3f5f\"}},\"annotationdefaults\":{\"arrowcolor\":\"#2a3f5f\",\"arrowhead\":0,\"arrowwidth\":1},\"geo\":{\"bgcolor\":\"white\",\"landcolor\":\"#E5ECF6\",\"subunitcolor\":\"white\",\"showland\":true,\"showlakes\":true,\"lakecolor\":\"white\"},\"title\":{\"x\":0.05},\"mapbox\":{\"style\":\"light\"}}}},                        {\"responsive\": true}                    ).then(function(){\n",
              "                            \n",
              "var gd = document.getElementById('d579800f-3d34-499b-a7be-183227744c74');\n",
              "var x = new MutationObserver(function (mutations, observer) {{\n",
              "        var display = window.getComputedStyle(gd).display;\n",
              "        if (!display || display === 'none') {{\n",
              "            console.log([gd, 'removed!']);\n",
              "            Plotly.purge(gd);\n",
              "            observer.disconnect();\n",
              "        }}\n",
              "}});\n",
              "\n",
              "// Listen for the removal of the full notebook cells\n",
              "var notebookContainer = gd.closest('#notebook-container');\n",
              "if (notebookContainer) {{\n",
              "    x.observe(notebookContainer, {childList: true});\n",
              "}}\n",
              "\n",
              "// Listen for the clearing of the current output cell\n",
              "var outputEl = gd.closest('.output');\n",
              "if (outputEl) {{\n",
              "    x.observe(outputEl, {childList: true});\n",
              "}}\n",
              "\n",
              "                        })                };                            </script>        </div>\n",
              "</body>\n",
              "</html>"
            ]
          },
          "metadata": {}
        },
        {
          "output_type": "display_data",
          "data": {
            "text/html": [
              "<html>\n",
              "<head><meta charset=\"utf-8\" /></head>\n",
              "<body>\n",
              "    <div>            <script src=\"https://cdnjs.cloudflare.com/ajax/libs/mathjax/2.7.5/MathJax.js?config=TeX-AMS-MML_SVG\"></script><script type=\"text/javascript\">if (window.MathJax && window.MathJax.Hub && window.MathJax.Hub.Config) {window.MathJax.Hub.Config({SVG: {font: \"STIX-Web\"}});}</script>                <script type=\"text/javascript\">window.PlotlyConfig = {MathJaxConfig: 'local'};</script>\n",
              "        <script charset=\"utf-8\" src=\"https://cdn.plot.ly/plotly-2.24.1.min.js\"></script>                <div id=\"c6a6db7c-d8b7-46e9-b3b8-bbf61fb52321\" class=\"plotly-graph-div\" style=\"height:525px; width:100%;\"></div>            <script type=\"text/javascript\">                                    window.PLOTLYENV=window.PLOTLYENV || {};                                    if (document.getElementById(\"c6a6db7c-d8b7-46e9-b3b8-bbf61fb52321\")) {                    Plotly.newPlot(                        \"c6a6db7c-d8b7-46e9-b3b8-bbf61fb52321\",                        [{\"cliponaxis\":false,\"hovertemplate\":[\"min_samples_split (IntDistribution): 0.006529086715807375\\u003cextra\\u003e\\u003c\\u002fextra\\u003e\",\"min_samples_leaf (IntDistribution): 0.017663132382476566\\u003cextra\\u003e\\u003c\\u002fextra\\u003e\",\"n_estimators (IntDistribution): 0.09678674207327366\\u003cextra\\u003e\\u003c\\u002fextra\\u003e\",\"max_depth (IntDistribution): 0.8790210388284425\\u003cextra\\u003e\\u003c\\u002fextra\\u003e\"],\"name\":\"Objective Value\",\"orientation\":\"h\",\"text\":[\"\\u003c0.01\",\"0.02\",\"0.10\",\"0.88\"],\"textposition\":\"outside\",\"x\":[0.006529086715807375,0.017663132382476566,0.09678674207327366,0.8790210388284425],\"y\":[\"min_samples_split\",\"min_samples_leaf\",\"n_estimators\",\"max_depth\"],\"type\":\"bar\"}],                        {\"title\":{\"text\":\"Hyperparameter Importances\"},\"xaxis\":{\"title\":{\"text\":\"Hyperparameter Importance\"}},\"yaxis\":{\"title\":{\"text\":\"Hyperparameter\"}},\"template\":{\"data\":{\"histogram2dcontour\":[{\"type\":\"histogram2dcontour\",\"colorbar\":{\"outlinewidth\":0,\"ticks\":\"\"},\"colorscale\":[[0.0,\"#0d0887\"],[0.1111111111111111,\"#46039f\"],[0.2222222222222222,\"#7201a8\"],[0.3333333333333333,\"#9c179e\"],[0.4444444444444444,\"#bd3786\"],[0.5555555555555556,\"#d8576b\"],[0.6666666666666666,\"#ed7953\"],[0.7777777777777778,\"#fb9f3a\"],[0.8888888888888888,\"#fdca26\"],[1.0,\"#f0f921\"]]}],\"choropleth\":[{\"type\":\"choropleth\",\"colorbar\":{\"outlinewidth\":0,\"ticks\":\"\"}}],\"histogram2d\":[{\"type\":\"histogram2d\",\"colorbar\":{\"outlinewidth\":0,\"ticks\":\"\"},\"colorscale\":[[0.0,\"#0d0887\"],[0.1111111111111111,\"#46039f\"],[0.2222222222222222,\"#7201a8\"],[0.3333333333333333,\"#9c179e\"],[0.4444444444444444,\"#bd3786\"],[0.5555555555555556,\"#d8576b\"],[0.6666666666666666,\"#ed7953\"],[0.7777777777777778,\"#fb9f3a\"],[0.8888888888888888,\"#fdca26\"],[1.0,\"#f0f921\"]]}],\"heatmap\":[{\"type\":\"heatmap\",\"colorbar\":{\"outlinewidth\":0,\"ticks\":\"\"},\"colorscale\":[[0.0,\"#0d0887\"],[0.1111111111111111,\"#46039f\"],[0.2222222222222222,\"#7201a8\"],[0.3333333333333333,\"#9c179e\"],[0.4444444444444444,\"#bd3786\"],[0.5555555555555556,\"#d8576b\"],[0.6666666666666666,\"#ed7953\"],[0.7777777777777778,\"#fb9f3a\"],[0.8888888888888888,\"#fdca26\"],[1.0,\"#f0f921\"]]}],\"heatmapgl\":[{\"type\":\"heatmapgl\",\"colorbar\":{\"outlinewidth\":0,\"ticks\":\"\"},\"colorscale\":[[0.0,\"#0d0887\"],[0.1111111111111111,\"#46039f\"],[0.2222222222222222,\"#7201a8\"],[0.3333333333333333,\"#9c179e\"],[0.4444444444444444,\"#bd3786\"],[0.5555555555555556,\"#d8576b\"],[0.6666666666666666,\"#ed7953\"],[0.7777777777777778,\"#fb9f3a\"],[0.8888888888888888,\"#fdca26\"],[1.0,\"#f0f921\"]]}],\"contourcarpet\":[{\"type\":\"contourcarpet\",\"colorbar\":{\"outlinewidth\":0,\"ticks\":\"\"}}],\"contour\":[{\"type\":\"contour\",\"colorbar\":{\"outlinewidth\":0,\"ticks\":\"\"},\"colorscale\":[[0.0,\"#0d0887\"],[0.1111111111111111,\"#46039f\"],[0.2222222222222222,\"#7201a8\"],[0.3333333333333333,\"#9c179e\"],[0.4444444444444444,\"#bd3786\"],[0.5555555555555556,\"#d8576b\"],[0.6666666666666666,\"#ed7953\"],[0.7777777777777778,\"#fb9f3a\"],[0.8888888888888888,\"#fdca26\"],[1.0,\"#f0f921\"]]}],\"surface\":[{\"type\":\"surface\",\"colorbar\":{\"outlinewidth\":0,\"ticks\":\"\"},\"colorscale\":[[0.0,\"#0d0887\"],[0.1111111111111111,\"#46039f\"],[0.2222222222222222,\"#7201a8\"],[0.3333333333333333,\"#9c179e\"],[0.4444444444444444,\"#bd3786\"],[0.5555555555555556,\"#d8576b\"],[0.6666666666666666,\"#ed7953\"],[0.7777777777777778,\"#fb9f3a\"],[0.8888888888888888,\"#fdca26\"],[1.0,\"#f0f921\"]]}],\"mesh3d\":[{\"type\":\"mesh3d\",\"colorbar\":{\"outlinewidth\":0,\"ticks\":\"\"}}],\"scatter\":[{\"fillpattern\":{\"fillmode\":\"overlay\",\"size\":10,\"solidity\":0.2},\"type\":\"scatter\"}],\"parcoords\":[{\"type\":\"parcoords\",\"line\":{\"colorbar\":{\"outlinewidth\":0,\"ticks\":\"\"}}}],\"scatterpolargl\":[{\"type\":\"scatterpolargl\",\"marker\":{\"colorbar\":{\"outlinewidth\":0,\"ticks\":\"\"}}}],\"bar\":[{\"error_x\":{\"color\":\"#2a3f5f\"},\"error_y\":{\"color\":\"#2a3f5f\"},\"marker\":{\"line\":{\"color\":\"#E5ECF6\",\"width\":0.5},\"pattern\":{\"fillmode\":\"overlay\",\"size\":10,\"solidity\":0.2}},\"type\":\"bar\"}],\"scattergeo\":[{\"type\":\"scattergeo\",\"marker\":{\"colorbar\":{\"outlinewidth\":0,\"ticks\":\"\"}}}],\"scatterpolar\":[{\"type\":\"scatterpolar\",\"marker\":{\"colorbar\":{\"outlinewidth\":0,\"ticks\":\"\"}}}],\"histogram\":[{\"marker\":{\"pattern\":{\"fillmode\":\"overlay\",\"size\":10,\"solidity\":0.2}},\"type\":\"histogram\"}],\"scattergl\":[{\"type\":\"scattergl\",\"marker\":{\"colorbar\":{\"outlinewidth\":0,\"ticks\":\"\"}}}],\"scatter3d\":[{\"type\":\"scatter3d\",\"line\":{\"colorbar\":{\"outlinewidth\":0,\"ticks\":\"\"}},\"marker\":{\"colorbar\":{\"outlinewidth\":0,\"ticks\":\"\"}}}],\"scattermapbox\":[{\"type\":\"scattermapbox\",\"marker\":{\"colorbar\":{\"outlinewidth\":0,\"ticks\":\"\"}}}],\"scatterternary\":[{\"type\":\"scatterternary\",\"marker\":{\"colorbar\":{\"outlinewidth\":0,\"ticks\":\"\"}}}],\"scattercarpet\":[{\"type\":\"scattercarpet\",\"marker\":{\"colorbar\":{\"outlinewidth\":0,\"ticks\":\"\"}}}],\"carpet\":[{\"aaxis\":{\"endlinecolor\":\"#2a3f5f\",\"gridcolor\":\"white\",\"linecolor\":\"white\",\"minorgridcolor\":\"white\",\"startlinecolor\":\"#2a3f5f\"},\"baxis\":{\"endlinecolor\":\"#2a3f5f\",\"gridcolor\":\"white\",\"linecolor\":\"white\",\"minorgridcolor\":\"white\",\"startlinecolor\":\"#2a3f5f\"},\"type\":\"carpet\"}],\"table\":[{\"cells\":{\"fill\":{\"color\":\"#EBF0F8\"},\"line\":{\"color\":\"white\"}},\"header\":{\"fill\":{\"color\":\"#C8D4E3\"},\"line\":{\"color\":\"white\"}},\"type\":\"table\"}],\"barpolar\":[{\"marker\":{\"line\":{\"color\":\"#E5ECF6\",\"width\":0.5},\"pattern\":{\"fillmode\":\"overlay\",\"size\":10,\"solidity\":0.2}},\"type\":\"barpolar\"}],\"pie\":[{\"automargin\":true,\"type\":\"pie\"}]},\"layout\":{\"autotypenumbers\":\"strict\",\"colorway\":[\"#636efa\",\"#EF553B\",\"#00cc96\",\"#ab63fa\",\"#FFA15A\",\"#19d3f3\",\"#FF6692\",\"#B6E880\",\"#FF97FF\",\"#FECB52\"],\"font\":{\"color\":\"#2a3f5f\"},\"hovermode\":\"closest\",\"hoverlabel\":{\"align\":\"left\"},\"paper_bgcolor\":\"white\",\"plot_bgcolor\":\"#E5ECF6\",\"polar\":{\"bgcolor\":\"#E5ECF6\",\"angularaxis\":{\"gridcolor\":\"white\",\"linecolor\":\"white\",\"ticks\":\"\"},\"radialaxis\":{\"gridcolor\":\"white\",\"linecolor\":\"white\",\"ticks\":\"\"}},\"ternary\":{\"bgcolor\":\"#E5ECF6\",\"aaxis\":{\"gridcolor\":\"white\",\"linecolor\":\"white\",\"ticks\":\"\"},\"baxis\":{\"gridcolor\":\"white\",\"linecolor\":\"white\",\"ticks\":\"\"},\"caxis\":{\"gridcolor\":\"white\",\"linecolor\":\"white\",\"ticks\":\"\"}},\"coloraxis\":{\"colorbar\":{\"outlinewidth\":0,\"ticks\":\"\"}},\"colorscale\":{\"sequential\":[[0.0,\"#0d0887\"],[0.1111111111111111,\"#46039f\"],[0.2222222222222222,\"#7201a8\"],[0.3333333333333333,\"#9c179e\"],[0.4444444444444444,\"#bd3786\"],[0.5555555555555556,\"#d8576b\"],[0.6666666666666666,\"#ed7953\"],[0.7777777777777778,\"#fb9f3a\"],[0.8888888888888888,\"#fdca26\"],[1.0,\"#f0f921\"]],\"sequentialminus\":[[0.0,\"#0d0887\"],[0.1111111111111111,\"#46039f\"],[0.2222222222222222,\"#7201a8\"],[0.3333333333333333,\"#9c179e\"],[0.4444444444444444,\"#bd3786\"],[0.5555555555555556,\"#d8576b\"],[0.6666666666666666,\"#ed7953\"],[0.7777777777777778,\"#fb9f3a\"],[0.8888888888888888,\"#fdca26\"],[1.0,\"#f0f921\"]],\"diverging\":[[0,\"#8e0152\"],[0.1,\"#c51b7d\"],[0.2,\"#de77ae\"],[0.3,\"#f1b6da\"],[0.4,\"#fde0ef\"],[0.5,\"#f7f7f7\"],[0.6,\"#e6f5d0\"],[0.7,\"#b8e186\"],[0.8,\"#7fbc41\"],[0.9,\"#4d9221\"],[1,\"#276419\"]]},\"xaxis\":{\"gridcolor\":\"white\",\"linecolor\":\"white\",\"ticks\":\"\",\"title\":{\"standoff\":15},\"zerolinecolor\":\"white\",\"automargin\":true,\"zerolinewidth\":2},\"yaxis\":{\"gridcolor\":\"white\",\"linecolor\":\"white\",\"ticks\":\"\",\"title\":{\"standoff\":15},\"zerolinecolor\":\"white\",\"automargin\":true,\"zerolinewidth\":2},\"scene\":{\"xaxis\":{\"backgroundcolor\":\"#E5ECF6\",\"gridcolor\":\"white\",\"linecolor\":\"white\",\"showbackground\":true,\"ticks\":\"\",\"zerolinecolor\":\"white\",\"gridwidth\":2},\"yaxis\":{\"backgroundcolor\":\"#E5ECF6\",\"gridcolor\":\"white\",\"linecolor\":\"white\",\"showbackground\":true,\"ticks\":\"\",\"zerolinecolor\":\"white\",\"gridwidth\":2},\"zaxis\":{\"backgroundcolor\":\"#E5ECF6\",\"gridcolor\":\"white\",\"linecolor\":\"white\",\"showbackground\":true,\"ticks\":\"\",\"zerolinecolor\":\"white\",\"gridwidth\":2}},\"shapedefaults\":{\"line\":{\"color\":\"#2a3f5f\"}},\"annotationdefaults\":{\"arrowcolor\":\"#2a3f5f\",\"arrowhead\":0,\"arrowwidth\":1},\"geo\":{\"bgcolor\":\"white\",\"landcolor\":\"#E5ECF6\",\"subunitcolor\":\"white\",\"showland\":true,\"showlakes\":true,\"lakecolor\":\"white\"},\"title\":{\"x\":0.05},\"mapbox\":{\"style\":\"light\"}}}},                        {\"responsive\": true}                    ).then(function(){\n",
              "                            \n",
              "var gd = document.getElementById('c6a6db7c-d8b7-46e9-b3b8-bbf61fb52321');\n",
              "var x = new MutationObserver(function (mutations, observer) {{\n",
              "        var display = window.getComputedStyle(gd).display;\n",
              "        if (!display || display === 'none') {{\n",
              "            console.log([gd, 'removed!']);\n",
              "            Plotly.purge(gd);\n",
              "            observer.disconnect();\n",
              "        }}\n",
              "}});\n",
              "\n",
              "// Listen for the removal of the full notebook cells\n",
              "var notebookContainer = gd.closest('#notebook-container');\n",
              "if (notebookContainer) {{\n",
              "    x.observe(notebookContainer, {childList: true});\n",
              "}}\n",
              "\n",
              "// Listen for the clearing of the current output cell\n",
              "var outputEl = gd.closest('.output');\n",
              "if (outputEl) {{\n",
              "    x.observe(outputEl, {childList: true});\n",
              "}}\n",
              "\n",
              "                        })                };                            </script>        </div>\n",
              "</body>\n",
              "</html>"
            ]
          },
          "metadata": {}
        },
        {
          "output_type": "stream",
          "name": "stderr",
          "text": [
            "[W 2024-05-24 00:52:24,695] You need to set up the pruning feature to utilize `plot_intermediate_values()`\n"
          ]
        },
        {
          "output_type": "display_data",
          "data": {
            "text/html": [
              "<html>\n",
              "<head><meta charset=\"utf-8\" /></head>\n",
              "<body>\n",
              "    <div>            <script src=\"https://cdnjs.cloudflare.com/ajax/libs/mathjax/2.7.5/MathJax.js?config=TeX-AMS-MML_SVG\"></script><script type=\"text/javascript\">if (window.MathJax && window.MathJax.Hub && window.MathJax.Hub.Config) {window.MathJax.Hub.Config({SVG: {font: \"STIX-Web\"}});}</script>                <script type=\"text/javascript\">window.PlotlyConfig = {MathJaxConfig: 'local'};</script>\n",
              "        <script charset=\"utf-8\" src=\"https://cdn.plot.ly/plotly-2.24.1.min.js\"></script>                <div id=\"72d86068-22f9-401e-8189-53eec97c96af\" class=\"plotly-graph-div\" style=\"height:525px; width:100%;\"></div>            <script type=\"text/javascript\">                                    window.PLOTLYENV=window.PLOTLYENV || {};                                    if (document.getElementById(\"72d86068-22f9-401e-8189-53eec97c96af\")) {                    Plotly.newPlot(                        \"72d86068-22f9-401e-8189-53eec97c96af\",                        [],                        {\"showlegend\":false,\"title\":{\"text\":\"Intermediate Values Plot\"},\"xaxis\":{\"title\":{\"text\":\"Step\"}},\"yaxis\":{\"title\":{\"text\":\"Intermediate Value\"}},\"template\":{\"data\":{\"histogram2dcontour\":[{\"type\":\"histogram2dcontour\",\"colorbar\":{\"outlinewidth\":0,\"ticks\":\"\"},\"colorscale\":[[0.0,\"#0d0887\"],[0.1111111111111111,\"#46039f\"],[0.2222222222222222,\"#7201a8\"],[0.3333333333333333,\"#9c179e\"],[0.4444444444444444,\"#bd3786\"],[0.5555555555555556,\"#d8576b\"],[0.6666666666666666,\"#ed7953\"],[0.7777777777777778,\"#fb9f3a\"],[0.8888888888888888,\"#fdca26\"],[1.0,\"#f0f921\"]]}],\"choropleth\":[{\"type\":\"choropleth\",\"colorbar\":{\"outlinewidth\":0,\"ticks\":\"\"}}],\"histogram2d\":[{\"type\":\"histogram2d\",\"colorbar\":{\"outlinewidth\":0,\"ticks\":\"\"},\"colorscale\":[[0.0,\"#0d0887\"],[0.1111111111111111,\"#46039f\"],[0.2222222222222222,\"#7201a8\"],[0.3333333333333333,\"#9c179e\"],[0.4444444444444444,\"#bd3786\"],[0.5555555555555556,\"#d8576b\"],[0.6666666666666666,\"#ed7953\"],[0.7777777777777778,\"#fb9f3a\"],[0.8888888888888888,\"#fdca26\"],[1.0,\"#f0f921\"]]}],\"heatmap\":[{\"type\":\"heatmap\",\"colorbar\":{\"outlinewidth\":0,\"ticks\":\"\"},\"colorscale\":[[0.0,\"#0d0887\"],[0.1111111111111111,\"#46039f\"],[0.2222222222222222,\"#7201a8\"],[0.3333333333333333,\"#9c179e\"],[0.4444444444444444,\"#bd3786\"],[0.5555555555555556,\"#d8576b\"],[0.6666666666666666,\"#ed7953\"],[0.7777777777777778,\"#fb9f3a\"],[0.8888888888888888,\"#fdca26\"],[1.0,\"#f0f921\"]]}],\"heatmapgl\":[{\"type\":\"heatmapgl\",\"colorbar\":{\"outlinewidth\":0,\"ticks\":\"\"},\"colorscale\":[[0.0,\"#0d0887\"],[0.1111111111111111,\"#46039f\"],[0.2222222222222222,\"#7201a8\"],[0.3333333333333333,\"#9c179e\"],[0.4444444444444444,\"#bd3786\"],[0.5555555555555556,\"#d8576b\"],[0.6666666666666666,\"#ed7953\"],[0.7777777777777778,\"#fb9f3a\"],[0.8888888888888888,\"#fdca26\"],[1.0,\"#f0f921\"]]}],\"contourcarpet\":[{\"type\":\"contourcarpet\",\"colorbar\":{\"outlinewidth\":0,\"ticks\":\"\"}}],\"contour\":[{\"type\":\"contour\",\"colorbar\":{\"outlinewidth\":0,\"ticks\":\"\"},\"colorscale\":[[0.0,\"#0d0887\"],[0.1111111111111111,\"#46039f\"],[0.2222222222222222,\"#7201a8\"],[0.3333333333333333,\"#9c179e\"],[0.4444444444444444,\"#bd3786\"],[0.5555555555555556,\"#d8576b\"],[0.6666666666666666,\"#ed7953\"],[0.7777777777777778,\"#fb9f3a\"],[0.8888888888888888,\"#fdca26\"],[1.0,\"#f0f921\"]]}],\"surface\":[{\"type\":\"surface\",\"colorbar\":{\"outlinewidth\":0,\"ticks\":\"\"},\"colorscale\":[[0.0,\"#0d0887\"],[0.1111111111111111,\"#46039f\"],[0.2222222222222222,\"#7201a8\"],[0.3333333333333333,\"#9c179e\"],[0.4444444444444444,\"#bd3786\"],[0.5555555555555556,\"#d8576b\"],[0.6666666666666666,\"#ed7953\"],[0.7777777777777778,\"#fb9f3a\"],[0.8888888888888888,\"#fdca26\"],[1.0,\"#f0f921\"]]}],\"mesh3d\":[{\"type\":\"mesh3d\",\"colorbar\":{\"outlinewidth\":0,\"ticks\":\"\"}}],\"scatter\":[{\"fillpattern\":{\"fillmode\":\"overlay\",\"size\":10,\"solidity\":0.2},\"type\":\"scatter\"}],\"parcoords\":[{\"type\":\"parcoords\",\"line\":{\"colorbar\":{\"outlinewidth\":0,\"ticks\":\"\"}}}],\"scatterpolargl\":[{\"type\":\"scatterpolargl\",\"marker\":{\"colorbar\":{\"outlinewidth\":0,\"ticks\":\"\"}}}],\"bar\":[{\"error_x\":{\"color\":\"#2a3f5f\"},\"error_y\":{\"color\":\"#2a3f5f\"},\"marker\":{\"line\":{\"color\":\"#E5ECF6\",\"width\":0.5},\"pattern\":{\"fillmode\":\"overlay\",\"size\":10,\"solidity\":0.2}},\"type\":\"bar\"}],\"scattergeo\":[{\"type\":\"scattergeo\",\"marker\":{\"colorbar\":{\"outlinewidth\":0,\"ticks\":\"\"}}}],\"scatterpolar\":[{\"type\":\"scatterpolar\",\"marker\":{\"colorbar\":{\"outlinewidth\":0,\"ticks\":\"\"}}}],\"histogram\":[{\"marker\":{\"pattern\":{\"fillmode\":\"overlay\",\"size\":10,\"solidity\":0.2}},\"type\":\"histogram\"}],\"scattergl\":[{\"type\":\"scattergl\",\"marker\":{\"colorbar\":{\"outlinewidth\":0,\"ticks\":\"\"}}}],\"scatter3d\":[{\"type\":\"scatter3d\",\"line\":{\"colorbar\":{\"outlinewidth\":0,\"ticks\":\"\"}},\"marker\":{\"colorbar\":{\"outlinewidth\":0,\"ticks\":\"\"}}}],\"scattermapbox\":[{\"type\":\"scattermapbox\",\"marker\":{\"colorbar\":{\"outlinewidth\":0,\"ticks\":\"\"}}}],\"scatterternary\":[{\"type\":\"scatterternary\",\"marker\":{\"colorbar\":{\"outlinewidth\":0,\"ticks\":\"\"}}}],\"scattercarpet\":[{\"type\":\"scattercarpet\",\"marker\":{\"colorbar\":{\"outlinewidth\":0,\"ticks\":\"\"}}}],\"carpet\":[{\"aaxis\":{\"endlinecolor\":\"#2a3f5f\",\"gridcolor\":\"white\",\"linecolor\":\"white\",\"minorgridcolor\":\"white\",\"startlinecolor\":\"#2a3f5f\"},\"baxis\":{\"endlinecolor\":\"#2a3f5f\",\"gridcolor\":\"white\",\"linecolor\":\"white\",\"minorgridcolor\":\"white\",\"startlinecolor\":\"#2a3f5f\"},\"type\":\"carpet\"}],\"table\":[{\"cells\":{\"fill\":{\"color\":\"#EBF0F8\"},\"line\":{\"color\":\"white\"}},\"header\":{\"fill\":{\"color\":\"#C8D4E3\"},\"line\":{\"color\":\"white\"}},\"type\":\"table\"}],\"barpolar\":[{\"marker\":{\"line\":{\"color\":\"#E5ECF6\",\"width\":0.5},\"pattern\":{\"fillmode\":\"overlay\",\"size\":10,\"solidity\":0.2}},\"type\":\"barpolar\"}],\"pie\":[{\"automargin\":true,\"type\":\"pie\"}]},\"layout\":{\"autotypenumbers\":\"strict\",\"colorway\":[\"#636efa\",\"#EF553B\",\"#00cc96\",\"#ab63fa\",\"#FFA15A\",\"#19d3f3\",\"#FF6692\",\"#B6E880\",\"#FF97FF\",\"#FECB52\"],\"font\":{\"color\":\"#2a3f5f\"},\"hovermode\":\"closest\",\"hoverlabel\":{\"align\":\"left\"},\"paper_bgcolor\":\"white\",\"plot_bgcolor\":\"#E5ECF6\",\"polar\":{\"bgcolor\":\"#E5ECF6\",\"angularaxis\":{\"gridcolor\":\"white\",\"linecolor\":\"white\",\"ticks\":\"\"},\"radialaxis\":{\"gridcolor\":\"white\",\"linecolor\":\"white\",\"ticks\":\"\"}},\"ternary\":{\"bgcolor\":\"#E5ECF6\",\"aaxis\":{\"gridcolor\":\"white\",\"linecolor\":\"white\",\"ticks\":\"\"},\"baxis\":{\"gridcolor\":\"white\",\"linecolor\":\"white\",\"ticks\":\"\"},\"caxis\":{\"gridcolor\":\"white\",\"linecolor\":\"white\",\"ticks\":\"\"}},\"coloraxis\":{\"colorbar\":{\"outlinewidth\":0,\"ticks\":\"\"}},\"colorscale\":{\"sequential\":[[0.0,\"#0d0887\"],[0.1111111111111111,\"#46039f\"],[0.2222222222222222,\"#7201a8\"],[0.3333333333333333,\"#9c179e\"],[0.4444444444444444,\"#bd3786\"],[0.5555555555555556,\"#d8576b\"],[0.6666666666666666,\"#ed7953\"],[0.7777777777777778,\"#fb9f3a\"],[0.8888888888888888,\"#fdca26\"],[1.0,\"#f0f921\"]],\"sequentialminus\":[[0.0,\"#0d0887\"],[0.1111111111111111,\"#46039f\"],[0.2222222222222222,\"#7201a8\"],[0.3333333333333333,\"#9c179e\"],[0.4444444444444444,\"#bd3786\"],[0.5555555555555556,\"#d8576b\"],[0.6666666666666666,\"#ed7953\"],[0.7777777777777778,\"#fb9f3a\"],[0.8888888888888888,\"#fdca26\"],[1.0,\"#f0f921\"]],\"diverging\":[[0,\"#8e0152\"],[0.1,\"#c51b7d\"],[0.2,\"#de77ae\"],[0.3,\"#f1b6da\"],[0.4,\"#fde0ef\"],[0.5,\"#f7f7f7\"],[0.6,\"#e6f5d0\"],[0.7,\"#b8e186\"],[0.8,\"#7fbc41\"],[0.9,\"#4d9221\"],[1,\"#276419\"]]},\"xaxis\":{\"gridcolor\":\"white\",\"linecolor\":\"white\",\"ticks\":\"\",\"title\":{\"standoff\":15},\"zerolinecolor\":\"white\",\"automargin\":true,\"zerolinewidth\":2},\"yaxis\":{\"gridcolor\":\"white\",\"linecolor\":\"white\",\"ticks\":\"\",\"title\":{\"standoff\":15},\"zerolinecolor\":\"white\",\"automargin\":true,\"zerolinewidth\":2},\"scene\":{\"xaxis\":{\"backgroundcolor\":\"#E5ECF6\",\"gridcolor\":\"white\",\"linecolor\":\"white\",\"showbackground\":true,\"ticks\":\"\",\"zerolinecolor\":\"white\",\"gridwidth\":2},\"yaxis\":{\"backgroundcolor\":\"#E5ECF6\",\"gridcolor\":\"white\",\"linecolor\":\"white\",\"showbackground\":true,\"ticks\":\"\",\"zerolinecolor\":\"white\",\"gridwidth\":2},\"zaxis\":{\"backgroundcolor\":\"#E5ECF6\",\"gridcolor\":\"white\",\"linecolor\":\"white\",\"showbackground\":true,\"ticks\":\"\",\"zerolinecolor\":\"white\",\"gridwidth\":2}},\"shapedefaults\":{\"line\":{\"color\":\"#2a3f5f\"}},\"annotationdefaults\":{\"arrowcolor\":\"#2a3f5f\",\"arrowhead\":0,\"arrowwidth\":1},\"geo\":{\"bgcolor\":\"white\",\"landcolor\":\"#E5ECF6\",\"subunitcolor\":\"white\",\"showland\":true,\"showlakes\":true,\"lakecolor\":\"white\"},\"title\":{\"x\":0.05},\"mapbox\":{\"style\":\"light\"}}}},                        {\"responsive\": true}                    ).then(function(){\n",
              "                            \n",
              "var gd = document.getElementById('72d86068-22f9-401e-8189-53eec97c96af');\n",
              "var x = new MutationObserver(function (mutations, observer) {{\n",
              "        var display = window.getComputedStyle(gd).display;\n",
              "        if (!display || display === 'none') {{\n",
              "            console.log([gd, 'removed!']);\n",
              "            Plotly.purge(gd);\n",
              "            observer.disconnect();\n",
              "        }}\n",
              "}});\n",
              "\n",
              "// Listen for the removal of the full notebook cells\n",
              "var notebookContainer = gd.closest('#notebook-container');\n",
              "if (notebookContainer) {{\n",
              "    x.observe(notebookContainer, {childList: true});\n",
              "}}\n",
              "\n",
              "// Listen for the clearing of the current output cell\n",
              "var outputEl = gd.closest('.output');\n",
              "if (outputEl) {{\n",
              "    x.observe(outputEl, {childList: true});\n",
              "}}\n",
              "\n",
              "                        })                };                            </script>        </div>\n",
              "</body>\n",
              "</html>"
            ]
          },
          "metadata": {}
        }
      ]
    },
    {
      "cell_type": "code",
      "source": [
        "# ベストパラメータを使ってモデルの訓練\n",
        "\n",
        "# Best trial: ,  {'max_depth': 13, 'n_estimators': 166, 'min_samples_split': 18, 'min_samples_leaf': 13}\n",
        "# Best score: ,  0.47069390011351286\n",
        "\n",
        "params = {'max_depth': 13,\n",
        "          'n_estimators': 166,\n",
        "          'min_samples_split': 18,\n",
        "          'min_samples_leaf': 13}\n",
        "\n",
        "rf = RandomForestClassifier(**params, random_state=42, n_jobs=-1)\n",
        "# rf_results = evaluate_model(rf, X, y)\n",
        "rf.fit(X, y)\n",
        "\n",
        "# テストデータでの推論\n",
        "rf_pred = rf.predict(df_test)\n",
        "# print(rf_pred.shape)\n",
        "# print(rf_pred)"
      ],
      "metadata": {
        "id": "NTrCXtCc_GYd"
      },
      "execution_count": 10,
      "outputs": []
    },
    {
      "cell_type": "markdown",
      "source": [
        "### 2. SVC"
      ],
      "metadata": {
        "id": "ifyerFEHF100"
      }
    },
    {
      "cell_type": "code",
      "source": [
        "def svc_objective(trial):\n",
        "\n",
        "    # 調整したいハイパーパラメータの範囲\n",
        "    kernel = trial.suggest_categorical('kernel', ['linear', 'rbf'])\n",
        "    params = {\n",
        "        'C': trial.suggest_float('C', 1e-6, 1e2, log=True),\n",
        "        'kernel': kernel\n",
        "    }\n",
        "\n",
        "    # モデルの定義\n",
        "    cls = SVC(**params, random_state=42)\n",
        "\n",
        "    score = cross_val_score(cls, X, y, cv=5, scoring='f1_macro')\n",
        "    f1_score = score.mean()\n",
        "    return score.mean()\n",
        "\n",
        "study = optuna.create_study(direction='maximize')\n",
        "study.optimize(svc_objective, n_trials=100)\n",
        "\n",
        "print('Best trial: ', study.best_trial.params)\n",
        "print('Best score: ', study.best_trial.value)"
      ],
      "metadata": {
        "colab": {
          "base_uri": "https://localhost:8080/"
        },
        "outputId": "ae995e8e-3177-4ad4-dade-20e291816795",
        "id": "dPlldOOrF11C",
        "collapsed": true
      },
      "execution_count": null,
      "outputs": [
        {
          "output_type": "stream",
          "name": "stderr",
          "text": [
            "[I 2024-05-24 01:05:48,305] A new study created in memory with name: no-name-f29a233b-7c8e-448d-ae60-1b403f16a758\n",
            "[I 2024-05-24 01:05:48,750] Trial 0 finished with value: 0.35337904692495353 and parameters: {'kernel': 'rbf', 'C': 0.2306451718788334}. Best is trial 0 with value: 0.35337904692495353.\n",
            "[I 2024-05-24 01:05:49,123] Trial 1 finished with value: 0.4007004261610317 and parameters: {'kernel': 'linear', 'C': 0.21202713758748176}. Best is trial 1 with value: 0.4007004261610317.\n",
            "[I 2024-05-24 01:05:49,443] Trial 2 finished with value: 0.12962962962962962 and parameters: {'kernel': 'linear', 'C': 3.0236388132303163e-05}. Best is trial 1 with value: 0.4007004261610317.\n",
            "[I 2024-05-24 01:05:49,917] Trial 3 finished with value: 0.12962962962962962 and parameters: {'kernel': 'rbf', 'C': 0.006477490868455745}. Best is trial 1 with value: 0.4007004261610317.\n",
            "[I 2024-05-24 01:05:50,233] Trial 4 finished with value: 0.12962962962962962 and parameters: {'kernel': 'linear', 'C': 0.00013331473340199963}. Best is trial 1 with value: 0.4007004261610317.\n",
            "[I 2024-05-24 01:05:50,678] Trial 5 finished with value: 0.12962962962962962 and parameters: {'kernel': 'rbf', 'C': 1.7059618658758478e-06}. Best is trial 1 with value: 0.4007004261610317.\n",
            "[I 2024-05-24 01:05:51,004] Trial 6 finished with value: 0.12962962962962962 and parameters: {'kernel': 'linear', 'C': 4.904834763039415e-05}. Best is trial 1 with value: 0.4007004261610317.\n",
            "[I 2024-05-24 01:05:51,477] Trial 7 finished with value: 0.4256752347178619 and parameters: {'kernel': 'rbf', 'C': 2.804221565525569}. Best is trial 7 with value: 0.4256752347178619.\n",
            "[I 2024-05-24 01:05:51,945] Trial 8 finished with value: 0.12962962962962962 and parameters: {'kernel': 'rbf', 'C': 0.0082519897123857}. Best is trial 7 with value: 0.4256752347178619.\n",
            "[I 2024-05-24 01:05:52,256] Trial 9 finished with value: 0.12962962962962962 and parameters: {'kernel': 'linear', 'C': 1.7102002441694062e-06}. Best is trial 7 with value: 0.4256752347178619.\n",
            "[I 2024-05-24 01:05:53,012] Trial 10 finished with value: 0.3962518749221622 and parameters: {'kernel': 'rbf', 'C': 29.11572233048894}. Best is trial 7 with value: 0.4256752347178619.\n",
            "[I 2024-05-24 01:05:55,151] Trial 11 finished with value: 0.40540837564463195 and parameters: {'kernel': 'linear', 'C': 2.930124674060608}. Best is trial 7 with value: 0.4256752347178619.\n",
            "[I 2024-05-24 01:06:05,210] Trial 12 finished with value: 0.40649911840834363 and parameters: {'kernel': 'linear', 'C': 26.552747192529605}. Best is trial 7 with value: 0.4256752347178619.\n",
            "[I 2024-05-24 01:06:05,884] Trial 13 finished with value: 0.3962518749221622 and parameters: {'kernel': 'rbf', 'C': 88.31893896602409}. Best is trial 7 with value: 0.4256752347178619.\n",
            "[I 2024-05-24 01:06:06,338] Trial 14 finished with value: 0.4226107259447982 and parameters: {'kernel': 'rbf', 'C': 1.8195567874735896}. Best is trial 7 with value: 0.4256752347178619.\n",
            "[I 2024-05-24 01:06:06,785] Trial 15 finished with value: 0.43999127495110696 and parameters: {'kernel': 'rbf', 'C': 0.6671681456522693}. Best is trial 15 with value: 0.43999127495110696.\n",
            "[I 2024-05-24 01:06:07,234] Trial 16 finished with value: 0.2845550548434248 and parameters: {'kernel': 'rbf', 'C': 0.13143151934189876}. Best is trial 15 with value: 0.43999127495110696.\n",
            "[I 2024-05-24 01:06:07,754] Trial 17 finished with value: 0.4217733830213864 and parameters: {'kernel': 'rbf', 'C': 2.7425999599007262}. Best is trial 15 with value: 0.43999127495110696.\n",
            "[I 2024-05-24 01:06:08,515] Trial 18 finished with value: 0.12962962962962962 and parameters: {'kernel': 'rbf', 'C': 0.002069511025384299}. Best is trial 15 with value: 0.43999127495110696.\n",
            "[I 2024-05-24 01:06:09,258] Trial 19 finished with value: 0.2849954774028031 and parameters: {'kernel': 'rbf', 'C': 0.08420446696576588}. Best is trial 15 with value: 0.43999127495110696.\n",
            "[I 2024-05-24 01:06:09,969] Trial 20 finished with value: 0.4271884085214527 and parameters: {'kernel': 'rbf', 'C': 1.4335271400137644}. Best is trial 15 with value: 0.43999127495110696.\n",
            "[I 2024-05-24 01:06:11,741] Trial 21 finished with value: 0.42355804893892135 and parameters: {'kernel': 'rbf', 'C': 2.3887917012369053}. Best is trial 15 with value: 0.43999127495110696.\n",
            "[I 2024-05-24 01:06:12,449] Trial 22 finished with value: 0.44088851137593715 and parameters: {'kernel': 'rbf', 'C': 0.6385019234642577}. Best is trial 22 with value: 0.44088851137593715.\n",
            "[I 2024-05-24 01:06:13,030] Trial 23 finished with value: 0.28094233089464193 and parameters: {'kernel': 'rbf', 'C': 0.03872362727646132}. Best is trial 22 with value: 0.44088851137593715.\n",
            "[I 2024-05-24 01:06:13,452] Trial 24 finished with value: 0.44019446733859 and parameters: {'kernel': 'rbf', 'C': 0.6315374975562777}. Best is trial 22 with value: 0.44088851137593715.\n",
            "[I 2024-05-24 01:06:13,905] Trial 25 finished with value: 0.12962962962962962 and parameters: {'kernel': 'rbf', 'C': 0.0012878484642490494}. Best is trial 22 with value: 0.44088851137593715.\n",
            "[I 2024-05-24 01:06:14,326] Trial 26 finished with value: 0.4385611706308417 and parameters: {'kernel': 'rbf', 'C': 0.621531256247255}. Best is trial 22 with value: 0.44088851137593715.\n",
            "[I 2024-05-24 01:06:14,989] Trial 27 finished with value: 0.39871161562344937 and parameters: {'kernel': 'rbf', 'C': 12.276167165179}. Best is trial 22 with value: 0.44088851137593715.\n",
            "[I 2024-05-24 01:06:15,468] Trial 28 finished with value: 0.22225504794820156 and parameters: {'kernel': 'rbf', 'C': 0.025867875717472153}. Best is trial 22 with value: 0.44088851137593715.\n",
            "[I 2024-05-24 01:06:15,906] Trial 29 finished with value: 0.4193929184340172 and parameters: {'kernel': 'rbf', 'C': 0.3672283410694024}. Best is trial 22 with value: 0.44088851137593715.\n",
            "[I 2024-05-24 01:06:16,556] Trial 30 finished with value: 0.39875298111952395 and parameters: {'kernel': 'rbf', 'C': 14.359059564509076}. Best is trial 22 with value: 0.44088851137593715.\n",
            "[I 2024-05-24 01:06:16,990] Trial 31 finished with value: 0.4385611706308417 and parameters: {'kernel': 'rbf', 'C': 0.6235709410203685}. Best is trial 22 with value: 0.44088851137593715.\n",
            "[I 2024-05-24 01:06:17,421] Trial 32 finished with value: 0.39814733850197 and parameters: {'kernel': 'rbf', 'C': 0.30844229096885795}. Best is trial 22 with value: 0.44088851137593715.\n",
            "[I 2024-05-24 01:06:18,133] Trial 33 finished with value: 0.2844288943134437 and parameters: {'kernel': 'rbf', 'C': 0.04988960037003962}. Best is trial 22 with value: 0.44088851137593715.\n",
            "[I 2024-05-24 01:06:18,571] Trial 34 finished with value: 0.4442900468309068 and parameters: {'kernel': 'rbf', 'C': 0.9328008054983591}. Best is trial 34 with value: 0.4442900468309068.\n",
            "[I 2024-05-24 01:06:19,194] Trial 35 finished with value: 0.4053587763017198 and parameters: {'kernel': 'rbf', 'C': 7.539929760072352}. Best is trial 34 with value: 0.4442900468309068.\n",
            "[I 2024-05-24 01:06:19,566] Trial 36 finished with value: 0.4038307670126464 and parameters: {'kernel': 'linear', 'C': 0.16706336647770034}. Best is trial 34 with value: 0.4442900468309068.\n",
            "[I 2024-05-24 01:06:20,037] Trial 37 finished with value: 0.12962962962962962 and parameters: {'kernel': 'rbf', 'C': 0.01845098306990242}. Best is trial 34 with value: 0.4442900468309068.\n",
            "[I 2024-05-24 01:06:20,483] Trial 38 finished with value: 0.4417809610955138 and parameters: {'kernel': 'rbf', 'C': 0.8427672811680278}. Best is trial 34 with value: 0.4442900468309068.\n",
            "[I 2024-05-24 01:06:20,801] Trial 39 finished with value: 0.29798403206464863 and parameters: {'kernel': 'linear', 'C': 0.003083378712659754}. Best is trial 34 with value: 0.4442900468309068.\n",
            "[I 2024-05-24 01:06:21,273] Trial 40 finished with value: 0.12962962962962962 and parameters: {'kernel': 'rbf', 'C': 0.0006287292140463646}. Best is trial 34 with value: 0.4442900468309068.\n",
            "[I 2024-05-24 01:06:21,713] Trial 41 finished with value: 0.44519627508802806 and parameters: {'kernel': 'rbf', 'C': 0.7749289355113496}. Best is trial 41 with value: 0.44519627508802806.\n",
            "[I 2024-05-24 01:06:22,330] Trial 42 finished with value: 0.40520610298250936 and parameters: {'kernel': 'rbf', 'C': 7.333959167285085}. Best is trial 41 with value: 0.44519627508802806.\n",
            "[I 2024-05-24 01:06:22,750] Trial 43 finished with value: 0.44756972551062385 and parameters: {'kernel': 'rbf', 'C': 0.7465422835699946}. Best is trial 43 with value: 0.44756972551062385.\n",
            "[I 2024-05-24 01:06:23,462] Trial 44 finished with value: 0.2849954774028031 and parameters: {'kernel': 'rbf', 'C': 0.08161302849376863}. Best is trial 43 with value: 0.44756972551062385.\n",
            "[I 2024-05-24 01:06:24,337] Trial 45 finished with value: 0.4076432878437967 and parameters: {'kernel': 'rbf', 'C': 5.238867682591048}. Best is trial 43 with value: 0.44756972551062385.\n",
            "[I 2024-05-24 01:07:01,407] Trial 46 finished with value: 0.4065361983287593 and parameters: {'kernel': 'linear', 'C': 64.14437243126692}. Best is trial 43 with value: 0.44756972551062385.\n",
            "[I 2024-05-24 01:07:01,852] Trial 47 finished with value: 0.4437466243065192 and parameters: {'kernel': 'rbf', 'C': 1.1829334034654628}. Best is trial 43 with value: 0.44756972551062385.\n",
            "[I 2024-05-24 01:07:02,288] Trial 48 finished with value: 0.42640250116639644 and parameters: {'kernel': 'rbf', 'C': 1.442438602268598}. Best is trial 43 with value: 0.44756972551062385.\n",
            "[I 2024-05-24 01:07:02,605] Trial 49 finished with value: 0.12962962962962962 and parameters: {'kernel': 'linear', 'C': 6.258321493034511e-06}. Best is trial 43 with value: 0.44756972551062385.\n",
            "[I 2024-05-24 01:07:03,044] Trial 50 finished with value: 0.31482910845662043 and parameters: {'kernel': 'rbf', 'C': 0.19397196253989743}. Best is trial 43 with value: 0.44756972551062385.\n",
            "[I 2024-05-24 01:07:03,464] Trial 51 finished with value: 0.4482166016129193 and parameters: {'kernel': 'rbf', 'C': 0.7580324742948333}. Best is trial 51 with value: 0.4482166016129193.\n",
            "[I 2024-05-24 01:07:03,989] Trial 52 finished with value: 0.4081107160958597 and parameters: {'kernel': 'rbf', 'C': 4.344046368147403}. Best is trial 51 with value: 0.4482166016129193.\n",
            "[I 2024-05-24 01:07:04,458] Trial 53 finished with value: 0.3990539261149434 and parameters: {'kernel': 'rbf', 'C': 0.31714673857192544}. Best is trial 51 with value: 0.4482166016129193.\n",
            "[I 2024-05-24 01:07:04,885] Trial 54 finished with value: 0.4424506014756469 and parameters: {'kernel': 'rbf', 'C': 0.9123556446985209}. Best is trial 51 with value: 0.4482166016129193.\n",
            "[I 2024-05-24 01:07:05,561] Trial 55 finished with value: 0.3962518749221622 and parameters: {'kernel': 'rbf', 'C': 29.48146300559283}. Best is trial 51 with value: 0.4482166016129193.\n",
            "[I 2024-05-24 01:07:06,012] Trial 56 finished with value: 0.12962962962962962 and parameters: {'kernel': 'rbf', 'C': 0.01282832395068338}. Best is trial 51 with value: 0.4482166016129193.\n",
            "[I 2024-05-24 01:07:06,465] Trial 57 finished with value: 0.4215018937562526 and parameters: {'kernel': 'rbf', 'C': 1.8395656840587808}. Best is trial 51 with value: 0.4482166016129193.\n",
            "[I 2024-05-24 01:07:06,907] Trial 58 finished with value: 0.2838606920959087 and parameters: {'kernel': 'rbf', 'C': 0.07135370127320953}. Best is trial 51 with value: 0.4482166016129193.\n",
            "[I 2024-05-24 01:07:07,360] Trial 59 finished with value: 0.4292454794222921 and parameters: {'kernel': 'rbf', 'C': 1.4109490773260591}. Best is trial 51 with value: 0.4482166016129193.\n",
            "[I 2024-05-24 01:07:07,700] Trial 60 finished with value: 0.40534662628303836 and parameters: {'kernel': 'linear', 'C': 0.12455424697399055}. Best is trial 51 with value: 0.4482166016129193.\n",
            "[I 2024-05-24 01:07:08,278] Trial 61 finished with value: 0.44423678948141865 and parameters: {'kernel': 'rbf', 'C': 0.7981579145197583}. Best is trial 51 with value: 0.4482166016129193.\n",
            "[I 2024-05-24 01:07:09,006] Trial 62 finished with value: 0.4348312534735158 and parameters: {'kernel': 'rbf', 'C': 1.0765698086223958}. Best is trial 51 with value: 0.4482166016129193.\n",
            "[I 2024-05-24 01:07:09,801] Trial 63 finished with value: 0.4211885296228416 and parameters: {'kernel': 'rbf', 'C': 2.7175921044711635}. Best is trial 51 with value: 0.4482166016129193.\n",
            "[I 2024-05-24 01:07:10,522] Trial 64 finished with value: 0.4256641599296126 and parameters: {'kernel': 'rbf', 'C': 0.44191798974477886}. Best is trial 51 with value: 0.4482166016129193.\n",
            "[I 2024-05-24 01:07:11,260] Trial 65 finished with value: 0.35211392308850276 and parameters: {'kernel': 'rbf', 'C': 0.22820713699324144}. Best is trial 51 with value: 0.4482166016129193.\n",
            "[I 2024-05-24 01:07:12,098] Trial 66 finished with value: 0.4134975078453803 and parameters: {'kernel': 'rbf', 'C': 4.081924083439432}. Best is trial 51 with value: 0.4482166016129193.\n",
            "[I 2024-05-24 01:07:12,943] Trial 67 finished with value: 0.3991882975422386 and parameters: {'kernel': 'rbf', 'C': 14.908198825429258}. Best is trial 51 with value: 0.4482166016129193.\n",
            "[I 2024-05-24 01:07:13,391] Trial 68 finished with value: 0.4200314486256171 and parameters: {'kernel': 'rbf', 'C': 0.43083222317949527}. Best is trial 51 with value: 0.4482166016129193.\n",
            "[I 2024-05-24 01:07:13,831] Trial 69 finished with value: 0.4444771256622939 and parameters: {'kernel': 'rbf', 'C': 0.7931269969250231}. Best is trial 51 with value: 0.4482166016129193.\n",
            "[I 2024-05-24 01:07:14,277] Trial 70 finished with value: 0.2845550548434248 and parameters: {'kernel': 'rbf', 'C': 0.13315494967143093}. Best is trial 51 with value: 0.4482166016129193.\n",
            "[I 2024-05-24 01:07:14,731] Trial 71 finished with value: 0.43738975120482226 and parameters: {'kernel': 'rbf', 'C': 1.0948424828760108}. Best is trial 51 with value: 0.4482166016129193.\n",
            "[I 2024-05-24 01:07:15,182] Trial 72 finished with value: 0.4232242603330166 and parameters: {'kernel': 'rbf', 'C': 2.1408171370819344}. Best is trial 51 with value: 0.4482166016129193.\n",
            "[I 2024-05-24 01:07:15,621] Trial 73 finished with value: 0.4434590742485717 and parameters: {'kernel': 'rbf', 'C': 0.8148424668813116}. Best is trial 51 with value: 0.4482166016129193.\n",
            "[I 2024-05-24 01:07:16,042] Trial 74 finished with value: 0.4225502684171336 and parameters: {'kernel': 'rbf', 'C': 0.41649818217986867}. Best is trial 51 with value: 0.4482166016129193.\n",
            "[I 2024-05-24 01:07:16,662] Trial 75 finished with value: 0.4053587763017198 and parameters: {'kernel': 'rbf', 'C': 7.5184331075199555}. Best is trial 51 with value: 0.4482166016129193.\n",
            "[I 2024-05-24 01:07:17,115] Trial 76 finished with value: 0.28273465782089746 and parameters: {'kernel': 'rbf', 'C': 0.04217458309153429}. Best is trial 51 with value: 0.4482166016129193.\n",
            "[I 2024-05-24 01:07:17,646] Trial 77 finished with value: 0.41925827208676597 and parameters: {'kernel': 'rbf', 'C': 3.7578533707557082}. Best is trial 51 with value: 0.4482166016129193.\n",
            "[I 2024-05-24 01:07:18,064] Trial 78 finished with value: 0.44077953162439887 and parameters: {'kernel': 'rbf', 'C': 0.6728902762180059}. Best is trial 51 with value: 0.4482166016129193.\n",
            "[I 2024-05-24 01:07:18,475] Trial 79 finished with value: 0.39864825630476314 and parameters: {'kernel': 'linear', 'C': 0.2962930051854254}. Best is trial 51 with value: 0.4482166016129193.\n",
            "[I 2024-05-24 01:07:18,935] Trial 80 finished with value: 0.42157907774667047 and parameters: {'kernel': 'rbf', 'C': 2.2889357552850793}. Best is trial 51 with value: 0.4482166016129193.\n",
            "[I 2024-05-24 01:07:19,378] Trial 81 finished with value: 0.44175289236139037 and parameters: {'kernel': 'rbf', 'C': 0.9620754550819569}. Best is trial 51 with value: 0.4482166016129193.\n",
            "[I 2024-05-24 01:07:19,845] Trial 82 finished with value: 0.4434898541663824 and parameters: {'kernel': 'rbf', 'C': 0.9538063862454181}. Best is trial 51 with value: 0.4482166016129193.\n",
            "[I 2024-05-24 01:07:20,286] Trial 83 finished with value: 0.12962962962962962 and parameters: {'kernel': 'rbf', 'C': 0.00013920000594407005}. Best is trial 51 with value: 0.4482166016129193.\n",
            "[I 2024-05-24 01:07:20,736] Trial 84 finished with value: 0.42692152959535035 and parameters: {'kernel': 'rbf', 'C': 0.5080954169699438}. Best is trial 51 with value: 0.4482166016129193.\n",
            "[I 2024-05-24 01:07:21,175] Trial 85 finished with value: 0.35751047234292027 and parameters: {'kernel': 'rbf', 'C': 0.2349688914429794}. Best is trial 51 with value: 0.4482166016129193.\n",
            "[I 2024-05-24 01:07:21,646] Trial 86 finished with value: 0.427227909258532 and parameters: {'kernel': 'rbf', 'C': 1.4823274690963733}. Best is trial 51 with value: 0.4482166016129193.\n",
            "[I 2024-05-24 01:07:22,242] Trial 87 finished with value: 0.4050167922855647 and parameters: {'kernel': 'rbf', 'C': 6.234341443781009}. Best is trial 51 with value: 0.4482166016129193.\n",
            "[I 2024-05-24 01:07:22,823] Trial 88 finished with value: 0.28345321242339805 and parameters: {'kernel': 'rbf', 'C': 0.10406342243695064}. Best is trial 51 with value: 0.4482166016129193.\n",
            "[I 2024-05-24 01:07:23,635] Trial 89 finished with value: 0.41984526785170073 and parameters: {'kernel': 'rbf', 'C': 3.0681120685415033}. Best is trial 51 with value: 0.4482166016129193.\n",
            "[I 2024-05-24 01:07:24,334] Trial 90 finished with value: 0.4483449607237124 and parameters: {'kernel': 'rbf', 'C': 0.7253529746614299}. Best is trial 90 with value: 0.4483449607237124.\n",
            "[I 2024-05-24 01:07:25,050] Trial 91 finished with value: 0.4417809610955138 and parameters: {'kernel': 'rbf', 'C': 0.8445224793615371}. Best is trial 90 with value: 0.4483449607237124.\n",
            "[I 2024-05-24 01:07:25,804] Trial 92 finished with value: 0.43335942215673223 and parameters: {'kernel': 'rbf', 'C': 1.3666111358159967}. Best is trial 90 with value: 0.4483449607237124.\n",
            "[I 2024-05-24 01:07:26,519] Trial 93 finished with value: 0.4385611706308417 and parameters: {'kernel': 'rbf', 'C': 0.6241065411910236}. Best is trial 90 with value: 0.4483449607237124.\n",
            "[I 2024-05-24 01:07:27,479] Trial 94 finished with value: 0.39791373725167856 and parameters: {'kernel': 'rbf', 'C': 10.527117732605891}. Best is trial 90 with value: 0.4483449607237124.\n",
            "[I 2024-05-24 01:07:27,949] Trial 95 finished with value: 0.29583980669356846 and parameters: {'kernel': 'rbf', 'C': 0.17299919497543506}. Best is trial 90 with value: 0.4483449607237124.\n",
            "[I 2024-05-24 01:07:28,388] Trial 96 finished with value: 0.39368441062913434 and parameters: {'kernel': 'rbf', 'C': 0.29692729985013777}. Best is trial 90 with value: 0.4483449607237124.\n",
            "[I 2024-05-24 01:07:29,426] Trial 97 finished with value: 0.40441796592383633 and parameters: {'kernel': 'linear', 'C': 2.3300616919603194}. Best is trial 90 with value: 0.4483449607237124.\n",
            "[I 2024-05-24 01:07:30,100] Trial 98 finished with value: 0.39480511849188843 and parameters: {'kernel': 'rbf', 'C': 20.677590204299374}. Best is trial 90 with value: 0.4483449607237124.\n",
            "[I 2024-05-24 01:07:30,536] Trial 99 finished with value: 0.4443993139560204 and parameters: {'kernel': 'rbf', 'C': 0.7938725215217591}. Best is trial 90 with value: 0.4483449607237124.\n"
          ]
        },
        {
          "output_type": "stream",
          "name": "stdout",
          "text": [
            "Best trial: ,  {'kernel': 'rbf', 'C': 0.7253529746614299}\n",
            "Best score: ,  0.4483449607237124\n"
          ]
        }
      ]
    },
    {
      "cell_type": "code",
      "source": [
        "# 探索履歴のプロット\n",
        "opt_history = vis.plot_optimization_history(study)\n",
        "opt_history.show()\n",
        "\n",
        "# ハイパーパラメータの重要度のプロット\n",
        "param_importances = vis.plot_param_importances(study)\n",
        "param_importances.show()"
      ],
      "metadata": {
        "colab": {
          "base_uri": "https://localhost:8080/",
          "height": 1000
        },
        "outputId": "9e118dda-a5b2-45dc-8fee-bde68fa95e19",
        "collapsed": true,
        "id": "sIOOjKfvF11C"
      },
      "execution_count": null,
      "outputs": [
        {
          "output_type": "display_data",
          "data": {
            "text/html": [
              "<html>\n",
              "<head><meta charset=\"utf-8\" /></head>\n",
              "<body>\n",
              "    <div>            <script src=\"https://cdnjs.cloudflare.com/ajax/libs/mathjax/2.7.5/MathJax.js?config=TeX-AMS-MML_SVG\"></script><script type=\"text/javascript\">if (window.MathJax && window.MathJax.Hub && window.MathJax.Hub.Config) {window.MathJax.Hub.Config({SVG: {font: \"STIX-Web\"}});}</script>                <script type=\"text/javascript\">window.PlotlyConfig = {MathJaxConfig: 'local'};</script>\n",
              "        <script charset=\"utf-8\" src=\"https://cdn.plot.ly/plotly-2.24.1.min.js\"></script>                <div id=\"d4d98621-4c19-4607-8c8e-8b97b52a2297\" class=\"plotly-graph-div\" style=\"height:525px; width:100%;\"></div>            <script type=\"text/javascript\">                                    window.PLOTLYENV=window.PLOTLYENV || {};                                    if (document.getElementById(\"d4d98621-4c19-4607-8c8e-8b97b52a2297\")) {                    Plotly.newPlot(                        \"d4d98621-4c19-4607-8c8e-8b97b52a2297\",                        [{\"mode\":\"markers\",\"name\":\"Objective Value\",\"x\":[0,1,2,3,4,5,6,7,8,9,10,11,12,13,14,15,16,17,18,19,20,21,22,23,24,25,26,27,28,29,30,31,32,33,34,35,36,37,38,39,40,41,42,43,44,45,46,47,48,49,50,51,52,53,54,55,56,57,58,59,60,61,62,63,64,65,66,67,68,69,70,71,72,73,74,75,76,77,78,79,80,81,82,83,84,85,86,87,88,89,90,91,92,93,94,95,96,97,98,99],\"y\":[0.35337904692495353,0.4007004261610317,0.12962962962962962,0.12962962962962962,0.12962962962962962,0.12962962962962962,0.12962962962962962,0.4256752347178619,0.12962962962962962,0.12962962962962962,0.3962518749221622,0.40540837564463195,0.40649911840834363,0.3962518749221622,0.4226107259447982,0.43999127495110696,0.2845550548434248,0.4217733830213864,0.12962962962962962,0.2849954774028031,0.4271884085214527,0.42355804893892135,0.44088851137593715,0.28094233089464193,0.44019446733859,0.12962962962962962,0.4385611706308417,0.39871161562344937,0.22225504794820156,0.4193929184340172,0.39875298111952395,0.4385611706308417,0.39814733850197,0.2844288943134437,0.4442900468309068,0.4053587763017198,0.4038307670126464,0.12962962962962962,0.4417809610955138,0.29798403206464863,0.12962962962962962,0.44519627508802806,0.40520610298250936,0.44756972551062385,0.2849954774028031,0.4076432878437967,0.4065361983287593,0.4437466243065192,0.42640250116639644,0.12962962962962962,0.31482910845662043,0.4482166016129193,0.4081107160958597,0.3990539261149434,0.4424506014756469,0.3962518749221622,0.12962962962962962,0.4215018937562526,0.2838606920959087,0.4292454794222921,0.40534662628303836,0.44423678948141865,0.4348312534735158,0.4211885296228416,0.4256641599296126,0.35211392308850276,0.4134975078453803,0.3991882975422386,0.4200314486256171,0.4444771256622939,0.2845550548434248,0.43738975120482226,0.4232242603330166,0.4434590742485717,0.4225502684171336,0.4053587763017198,0.28273465782089746,0.41925827208676597,0.44077953162439887,0.39864825630476314,0.42157907774667047,0.44175289236139037,0.4434898541663824,0.12962962962962962,0.42692152959535035,0.35751047234292027,0.427227909258532,0.4050167922855647,0.28345321242339805,0.41984526785170073,0.4483449607237124,0.4417809610955138,0.43335942215673223,0.4385611706308417,0.39791373725167856,0.29583980669356846,0.39368441062913434,0.40441796592383633,0.39480511849188843,0.4443993139560204],\"type\":\"scatter\"},{\"mode\":\"lines\",\"name\":\"Best Value\",\"x\":[0,1,2,3,4,5,6,7,8,9,10,11,12,13,14,15,16,17,18,19,20,21,22,23,24,25,26,27,28,29,30,31,32,33,34,35,36,37,38,39,40,41,42,43,44,45,46,47,48,49,50,51,52,53,54,55,56,57,58,59,60,61,62,63,64,65,66,67,68,69,70,71,72,73,74,75,76,77,78,79,80,81,82,83,84,85,86,87,88,89,90,91,92,93,94,95,96,97,98,99],\"y\":[0.35337904692495353,0.4007004261610317,0.4007004261610317,0.4007004261610317,0.4007004261610317,0.4007004261610317,0.4007004261610317,0.4256752347178619,0.4256752347178619,0.4256752347178619,0.4256752347178619,0.4256752347178619,0.4256752347178619,0.4256752347178619,0.4256752347178619,0.43999127495110696,0.43999127495110696,0.43999127495110696,0.43999127495110696,0.43999127495110696,0.43999127495110696,0.43999127495110696,0.44088851137593715,0.44088851137593715,0.44088851137593715,0.44088851137593715,0.44088851137593715,0.44088851137593715,0.44088851137593715,0.44088851137593715,0.44088851137593715,0.44088851137593715,0.44088851137593715,0.44088851137593715,0.4442900468309068,0.4442900468309068,0.4442900468309068,0.4442900468309068,0.4442900468309068,0.4442900468309068,0.4442900468309068,0.44519627508802806,0.44519627508802806,0.44756972551062385,0.44756972551062385,0.44756972551062385,0.44756972551062385,0.44756972551062385,0.44756972551062385,0.44756972551062385,0.44756972551062385,0.4482166016129193,0.4482166016129193,0.4482166016129193,0.4482166016129193,0.4482166016129193,0.4482166016129193,0.4482166016129193,0.4482166016129193,0.4482166016129193,0.4482166016129193,0.4482166016129193,0.4482166016129193,0.4482166016129193,0.4482166016129193,0.4482166016129193,0.4482166016129193,0.4482166016129193,0.4482166016129193,0.4482166016129193,0.4482166016129193,0.4482166016129193,0.4482166016129193,0.4482166016129193,0.4482166016129193,0.4482166016129193,0.4482166016129193,0.4482166016129193,0.4482166016129193,0.4482166016129193,0.4482166016129193,0.4482166016129193,0.4482166016129193,0.4482166016129193,0.4482166016129193,0.4482166016129193,0.4482166016129193,0.4482166016129193,0.4482166016129193,0.4482166016129193,0.4483449607237124,0.4483449607237124,0.4483449607237124,0.4483449607237124,0.4483449607237124,0.4483449607237124,0.4483449607237124,0.4483449607237124,0.4483449607237124,0.4483449607237124],\"type\":\"scatter\"},{\"marker\":{\"color\":\"#cccccc\"},\"mode\":\"markers\",\"name\":\"Infeasible Trial\",\"showlegend\":false,\"x\":[],\"y\":[],\"type\":\"scatter\"}],                        {\"title\":{\"text\":\"Optimization History Plot\"},\"xaxis\":{\"title\":{\"text\":\"Trial\"}},\"yaxis\":{\"title\":{\"text\":\"Objective Value\"}},\"template\":{\"data\":{\"histogram2dcontour\":[{\"type\":\"histogram2dcontour\",\"colorbar\":{\"outlinewidth\":0,\"ticks\":\"\"},\"colorscale\":[[0.0,\"#0d0887\"],[0.1111111111111111,\"#46039f\"],[0.2222222222222222,\"#7201a8\"],[0.3333333333333333,\"#9c179e\"],[0.4444444444444444,\"#bd3786\"],[0.5555555555555556,\"#d8576b\"],[0.6666666666666666,\"#ed7953\"],[0.7777777777777778,\"#fb9f3a\"],[0.8888888888888888,\"#fdca26\"],[1.0,\"#f0f921\"]]}],\"choropleth\":[{\"type\":\"choropleth\",\"colorbar\":{\"outlinewidth\":0,\"ticks\":\"\"}}],\"histogram2d\":[{\"type\":\"histogram2d\",\"colorbar\":{\"outlinewidth\":0,\"ticks\":\"\"},\"colorscale\":[[0.0,\"#0d0887\"],[0.1111111111111111,\"#46039f\"],[0.2222222222222222,\"#7201a8\"],[0.3333333333333333,\"#9c179e\"],[0.4444444444444444,\"#bd3786\"],[0.5555555555555556,\"#d8576b\"],[0.6666666666666666,\"#ed7953\"],[0.7777777777777778,\"#fb9f3a\"],[0.8888888888888888,\"#fdca26\"],[1.0,\"#f0f921\"]]}],\"heatmap\":[{\"type\":\"heatmap\",\"colorbar\":{\"outlinewidth\":0,\"ticks\":\"\"},\"colorscale\":[[0.0,\"#0d0887\"],[0.1111111111111111,\"#46039f\"],[0.2222222222222222,\"#7201a8\"],[0.3333333333333333,\"#9c179e\"],[0.4444444444444444,\"#bd3786\"],[0.5555555555555556,\"#d8576b\"],[0.6666666666666666,\"#ed7953\"],[0.7777777777777778,\"#fb9f3a\"],[0.8888888888888888,\"#fdca26\"],[1.0,\"#f0f921\"]]}],\"heatmapgl\":[{\"type\":\"heatmapgl\",\"colorbar\":{\"outlinewidth\":0,\"ticks\":\"\"},\"colorscale\":[[0.0,\"#0d0887\"],[0.1111111111111111,\"#46039f\"],[0.2222222222222222,\"#7201a8\"],[0.3333333333333333,\"#9c179e\"],[0.4444444444444444,\"#bd3786\"],[0.5555555555555556,\"#d8576b\"],[0.6666666666666666,\"#ed7953\"],[0.7777777777777778,\"#fb9f3a\"],[0.8888888888888888,\"#fdca26\"],[1.0,\"#f0f921\"]]}],\"contourcarpet\":[{\"type\":\"contourcarpet\",\"colorbar\":{\"outlinewidth\":0,\"ticks\":\"\"}}],\"contour\":[{\"type\":\"contour\",\"colorbar\":{\"outlinewidth\":0,\"ticks\":\"\"},\"colorscale\":[[0.0,\"#0d0887\"],[0.1111111111111111,\"#46039f\"],[0.2222222222222222,\"#7201a8\"],[0.3333333333333333,\"#9c179e\"],[0.4444444444444444,\"#bd3786\"],[0.5555555555555556,\"#d8576b\"],[0.6666666666666666,\"#ed7953\"],[0.7777777777777778,\"#fb9f3a\"],[0.8888888888888888,\"#fdca26\"],[1.0,\"#f0f921\"]]}],\"surface\":[{\"type\":\"surface\",\"colorbar\":{\"outlinewidth\":0,\"ticks\":\"\"},\"colorscale\":[[0.0,\"#0d0887\"],[0.1111111111111111,\"#46039f\"],[0.2222222222222222,\"#7201a8\"],[0.3333333333333333,\"#9c179e\"],[0.4444444444444444,\"#bd3786\"],[0.5555555555555556,\"#d8576b\"],[0.6666666666666666,\"#ed7953\"],[0.7777777777777778,\"#fb9f3a\"],[0.8888888888888888,\"#fdca26\"],[1.0,\"#f0f921\"]]}],\"mesh3d\":[{\"type\":\"mesh3d\",\"colorbar\":{\"outlinewidth\":0,\"ticks\":\"\"}}],\"scatter\":[{\"fillpattern\":{\"fillmode\":\"overlay\",\"size\":10,\"solidity\":0.2},\"type\":\"scatter\"}],\"parcoords\":[{\"type\":\"parcoords\",\"line\":{\"colorbar\":{\"outlinewidth\":0,\"ticks\":\"\"}}}],\"scatterpolargl\":[{\"type\":\"scatterpolargl\",\"marker\":{\"colorbar\":{\"outlinewidth\":0,\"ticks\":\"\"}}}],\"bar\":[{\"error_x\":{\"color\":\"#2a3f5f\"},\"error_y\":{\"color\":\"#2a3f5f\"},\"marker\":{\"line\":{\"color\":\"#E5ECF6\",\"width\":0.5},\"pattern\":{\"fillmode\":\"overlay\",\"size\":10,\"solidity\":0.2}},\"type\":\"bar\"}],\"scattergeo\":[{\"type\":\"scattergeo\",\"marker\":{\"colorbar\":{\"outlinewidth\":0,\"ticks\":\"\"}}}],\"scatterpolar\":[{\"type\":\"scatterpolar\",\"marker\":{\"colorbar\":{\"outlinewidth\":0,\"ticks\":\"\"}}}],\"histogram\":[{\"marker\":{\"pattern\":{\"fillmode\":\"overlay\",\"size\":10,\"solidity\":0.2}},\"type\":\"histogram\"}],\"scattergl\":[{\"type\":\"scattergl\",\"marker\":{\"colorbar\":{\"outlinewidth\":0,\"ticks\":\"\"}}}],\"scatter3d\":[{\"type\":\"scatter3d\",\"line\":{\"colorbar\":{\"outlinewidth\":0,\"ticks\":\"\"}},\"marker\":{\"colorbar\":{\"outlinewidth\":0,\"ticks\":\"\"}}}],\"scattermapbox\":[{\"type\":\"scattermapbox\",\"marker\":{\"colorbar\":{\"outlinewidth\":0,\"ticks\":\"\"}}}],\"scatterternary\":[{\"type\":\"scatterternary\",\"marker\":{\"colorbar\":{\"outlinewidth\":0,\"ticks\":\"\"}}}],\"scattercarpet\":[{\"type\":\"scattercarpet\",\"marker\":{\"colorbar\":{\"outlinewidth\":0,\"ticks\":\"\"}}}],\"carpet\":[{\"aaxis\":{\"endlinecolor\":\"#2a3f5f\",\"gridcolor\":\"white\",\"linecolor\":\"white\",\"minorgridcolor\":\"white\",\"startlinecolor\":\"#2a3f5f\"},\"baxis\":{\"endlinecolor\":\"#2a3f5f\",\"gridcolor\":\"white\",\"linecolor\":\"white\",\"minorgridcolor\":\"white\",\"startlinecolor\":\"#2a3f5f\"},\"type\":\"carpet\"}],\"table\":[{\"cells\":{\"fill\":{\"color\":\"#EBF0F8\"},\"line\":{\"color\":\"white\"}},\"header\":{\"fill\":{\"color\":\"#C8D4E3\"},\"line\":{\"color\":\"white\"}},\"type\":\"table\"}],\"barpolar\":[{\"marker\":{\"line\":{\"color\":\"#E5ECF6\",\"width\":0.5},\"pattern\":{\"fillmode\":\"overlay\",\"size\":10,\"solidity\":0.2}},\"type\":\"barpolar\"}],\"pie\":[{\"automargin\":true,\"type\":\"pie\"}]},\"layout\":{\"autotypenumbers\":\"strict\",\"colorway\":[\"#636efa\",\"#EF553B\",\"#00cc96\",\"#ab63fa\",\"#FFA15A\",\"#19d3f3\",\"#FF6692\",\"#B6E880\",\"#FF97FF\",\"#FECB52\"],\"font\":{\"color\":\"#2a3f5f\"},\"hovermode\":\"closest\",\"hoverlabel\":{\"align\":\"left\"},\"paper_bgcolor\":\"white\",\"plot_bgcolor\":\"#E5ECF6\",\"polar\":{\"bgcolor\":\"#E5ECF6\",\"angularaxis\":{\"gridcolor\":\"white\",\"linecolor\":\"white\",\"ticks\":\"\"},\"radialaxis\":{\"gridcolor\":\"white\",\"linecolor\":\"white\",\"ticks\":\"\"}},\"ternary\":{\"bgcolor\":\"#E5ECF6\",\"aaxis\":{\"gridcolor\":\"white\",\"linecolor\":\"white\",\"ticks\":\"\"},\"baxis\":{\"gridcolor\":\"white\",\"linecolor\":\"white\",\"ticks\":\"\"},\"caxis\":{\"gridcolor\":\"white\",\"linecolor\":\"white\",\"ticks\":\"\"}},\"coloraxis\":{\"colorbar\":{\"outlinewidth\":0,\"ticks\":\"\"}},\"colorscale\":{\"sequential\":[[0.0,\"#0d0887\"],[0.1111111111111111,\"#46039f\"],[0.2222222222222222,\"#7201a8\"],[0.3333333333333333,\"#9c179e\"],[0.4444444444444444,\"#bd3786\"],[0.5555555555555556,\"#d8576b\"],[0.6666666666666666,\"#ed7953\"],[0.7777777777777778,\"#fb9f3a\"],[0.8888888888888888,\"#fdca26\"],[1.0,\"#f0f921\"]],\"sequentialminus\":[[0.0,\"#0d0887\"],[0.1111111111111111,\"#46039f\"],[0.2222222222222222,\"#7201a8\"],[0.3333333333333333,\"#9c179e\"],[0.4444444444444444,\"#bd3786\"],[0.5555555555555556,\"#d8576b\"],[0.6666666666666666,\"#ed7953\"],[0.7777777777777778,\"#fb9f3a\"],[0.8888888888888888,\"#fdca26\"],[1.0,\"#f0f921\"]],\"diverging\":[[0,\"#8e0152\"],[0.1,\"#c51b7d\"],[0.2,\"#de77ae\"],[0.3,\"#f1b6da\"],[0.4,\"#fde0ef\"],[0.5,\"#f7f7f7\"],[0.6,\"#e6f5d0\"],[0.7,\"#b8e186\"],[0.8,\"#7fbc41\"],[0.9,\"#4d9221\"],[1,\"#276419\"]]},\"xaxis\":{\"gridcolor\":\"white\",\"linecolor\":\"white\",\"ticks\":\"\",\"title\":{\"standoff\":15},\"zerolinecolor\":\"white\",\"automargin\":true,\"zerolinewidth\":2},\"yaxis\":{\"gridcolor\":\"white\",\"linecolor\":\"white\",\"ticks\":\"\",\"title\":{\"standoff\":15},\"zerolinecolor\":\"white\",\"automargin\":true,\"zerolinewidth\":2},\"scene\":{\"xaxis\":{\"backgroundcolor\":\"#E5ECF6\",\"gridcolor\":\"white\",\"linecolor\":\"white\",\"showbackground\":true,\"ticks\":\"\",\"zerolinecolor\":\"white\",\"gridwidth\":2},\"yaxis\":{\"backgroundcolor\":\"#E5ECF6\",\"gridcolor\":\"white\",\"linecolor\":\"white\",\"showbackground\":true,\"ticks\":\"\",\"zerolinecolor\":\"white\",\"gridwidth\":2},\"zaxis\":{\"backgroundcolor\":\"#E5ECF6\",\"gridcolor\":\"white\",\"linecolor\":\"white\",\"showbackground\":true,\"ticks\":\"\",\"zerolinecolor\":\"white\",\"gridwidth\":2}},\"shapedefaults\":{\"line\":{\"color\":\"#2a3f5f\"}},\"annotationdefaults\":{\"arrowcolor\":\"#2a3f5f\",\"arrowhead\":0,\"arrowwidth\":1},\"geo\":{\"bgcolor\":\"white\",\"landcolor\":\"#E5ECF6\",\"subunitcolor\":\"white\",\"showland\":true,\"showlakes\":true,\"lakecolor\":\"white\"},\"title\":{\"x\":0.05},\"mapbox\":{\"style\":\"light\"}}}},                        {\"responsive\": true}                    ).then(function(){\n",
              "                            \n",
              "var gd = document.getElementById('d4d98621-4c19-4607-8c8e-8b97b52a2297');\n",
              "var x = new MutationObserver(function (mutations, observer) {{\n",
              "        var display = window.getComputedStyle(gd).display;\n",
              "        if (!display || display === 'none') {{\n",
              "            console.log([gd, 'removed!']);\n",
              "            Plotly.purge(gd);\n",
              "            observer.disconnect();\n",
              "        }}\n",
              "}});\n",
              "\n",
              "// Listen for the removal of the full notebook cells\n",
              "var notebookContainer = gd.closest('#notebook-container');\n",
              "if (notebookContainer) {{\n",
              "    x.observe(notebookContainer, {childList: true});\n",
              "}}\n",
              "\n",
              "// Listen for the clearing of the current output cell\n",
              "var outputEl = gd.closest('.output');\n",
              "if (outputEl) {{\n",
              "    x.observe(outputEl, {childList: true});\n",
              "}}\n",
              "\n",
              "                        })                };                            </script>        </div>\n",
              "</body>\n",
              "</html>"
            ]
          },
          "metadata": {}
        },
        {
          "output_type": "display_data",
          "data": {
            "text/html": [
              "<html>\n",
              "<head><meta charset=\"utf-8\" /></head>\n",
              "<body>\n",
              "    <div>            <script src=\"https://cdnjs.cloudflare.com/ajax/libs/mathjax/2.7.5/MathJax.js?config=TeX-AMS-MML_SVG\"></script><script type=\"text/javascript\">if (window.MathJax && window.MathJax.Hub && window.MathJax.Hub.Config) {window.MathJax.Hub.Config({SVG: {font: \"STIX-Web\"}});}</script>                <script type=\"text/javascript\">window.PlotlyConfig = {MathJaxConfig: 'local'};</script>\n",
              "        <script charset=\"utf-8\" src=\"https://cdn.plot.ly/plotly-2.24.1.min.js\"></script>                <div id=\"c1236ac0-8511-49fe-85b8-df2ad3bf0b7e\" class=\"plotly-graph-div\" style=\"height:525px; width:100%;\"></div>            <script type=\"text/javascript\">                                    window.PLOTLYENV=window.PLOTLYENV || {};                                    if (document.getElementById(\"c1236ac0-8511-49fe-85b8-df2ad3bf0b7e\")) {                    Plotly.newPlot(                        \"c1236ac0-8511-49fe-85b8-df2ad3bf0b7e\",                        [{\"cliponaxis\":false,\"hovertemplate\":[\"kernel (CategoricalDistribution): 0.22848647244708956\\u003cextra\\u003e\\u003c\\u002fextra\\u003e\",\"C (FloatDistribution): 0.7715135275529105\\u003cextra\\u003e\\u003c\\u002fextra\\u003e\"],\"name\":\"Objective Value\",\"orientation\":\"h\",\"text\":[\"0.23\",\"0.77\"],\"textposition\":\"outside\",\"x\":[0.22848647244708956,0.7715135275529105],\"y\":[\"kernel\",\"C\"],\"type\":\"bar\"}],                        {\"title\":{\"text\":\"Hyperparameter Importances\"},\"xaxis\":{\"title\":{\"text\":\"Hyperparameter Importance\"}},\"yaxis\":{\"title\":{\"text\":\"Hyperparameter\"}},\"template\":{\"data\":{\"histogram2dcontour\":[{\"type\":\"histogram2dcontour\",\"colorbar\":{\"outlinewidth\":0,\"ticks\":\"\"},\"colorscale\":[[0.0,\"#0d0887\"],[0.1111111111111111,\"#46039f\"],[0.2222222222222222,\"#7201a8\"],[0.3333333333333333,\"#9c179e\"],[0.4444444444444444,\"#bd3786\"],[0.5555555555555556,\"#d8576b\"],[0.6666666666666666,\"#ed7953\"],[0.7777777777777778,\"#fb9f3a\"],[0.8888888888888888,\"#fdca26\"],[1.0,\"#f0f921\"]]}],\"choropleth\":[{\"type\":\"choropleth\",\"colorbar\":{\"outlinewidth\":0,\"ticks\":\"\"}}],\"histogram2d\":[{\"type\":\"histogram2d\",\"colorbar\":{\"outlinewidth\":0,\"ticks\":\"\"},\"colorscale\":[[0.0,\"#0d0887\"],[0.1111111111111111,\"#46039f\"],[0.2222222222222222,\"#7201a8\"],[0.3333333333333333,\"#9c179e\"],[0.4444444444444444,\"#bd3786\"],[0.5555555555555556,\"#d8576b\"],[0.6666666666666666,\"#ed7953\"],[0.7777777777777778,\"#fb9f3a\"],[0.8888888888888888,\"#fdca26\"],[1.0,\"#f0f921\"]]}],\"heatmap\":[{\"type\":\"heatmap\",\"colorbar\":{\"outlinewidth\":0,\"ticks\":\"\"},\"colorscale\":[[0.0,\"#0d0887\"],[0.1111111111111111,\"#46039f\"],[0.2222222222222222,\"#7201a8\"],[0.3333333333333333,\"#9c179e\"],[0.4444444444444444,\"#bd3786\"],[0.5555555555555556,\"#d8576b\"],[0.6666666666666666,\"#ed7953\"],[0.7777777777777778,\"#fb9f3a\"],[0.8888888888888888,\"#fdca26\"],[1.0,\"#f0f921\"]]}],\"heatmapgl\":[{\"type\":\"heatmapgl\",\"colorbar\":{\"outlinewidth\":0,\"ticks\":\"\"},\"colorscale\":[[0.0,\"#0d0887\"],[0.1111111111111111,\"#46039f\"],[0.2222222222222222,\"#7201a8\"],[0.3333333333333333,\"#9c179e\"],[0.4444444444444444,\"#bd3786\"],[0.5555555555555556,\"#d8576b\"],[0.6666666666666666,\"#ed7953\"],[0.7777777777777778,\"#fb9f3a\"],[0.8888888888888888,\"#fdca26\"],[1.0,\"#f0f921\"]]}],\"contourcarpet\":[{\"type\":\"contourcarpet\",\"colorbar\":{\"outlinewidth\":0,\"ticks\":\"\"}}],\"contour\":[{\"type\":\"contour\",\"colorbar\":{\"outlinewidth\":0,\"ticks\":\"\"},\"colorscale\":[[0.0,\"#0d0887\"],[0.1111111111111111,\"#46039f\"],[0.2222222222222222,\"#7201a8\"],[0.3333333333333333,\"#9c179e\"],[0.4444444444444444,\"#bd3786\"],[0.5555555555555556,\"#d8576b\"],[0.6666666666666666,\"#ed7953\"],[0.7777777777777778,\"#fb9f3a\"],[0.8888888888888888,\"#fdca26\"],[1.0,\"#f0f921\"]]}],\"surface\":[{\"type\":\"surface\",\"colorbar\":{\"outlinewidth\":0,\"ticks\":\"\"},\"colorscale\":[[0.0,\"#0d0887\"],[0.1111111111111111,\"#46039f\"],[0.2222222222222222,\"#7201a8\"],[0.3333333333333333,\"#9c179e\"],[0.4444444444444444,\"#bd3786\"],[0.5555555555555556,\"#d8576b\"],[0.6666666666666666,\"#ed7953\"],[0.7777777777777778,\"#fb9f3a\"],[0.8888888888888888,\"#fdca26\"],[1.0,\"#f0f921\"]]}],\"mesh3d\":[{\"type\":\"mesh3d\",\"colorbar\":{\"outlinewidth\":0,\"ticks\":\"\"}}],\"scatter\":[{\"fillpattern\":{\"fillmode\":\"overlay\",\"size\":10,\"solidity\":0.2},\"type\":\"scatter\"}],\"parcoords\":[{\"type\":\"parcoords\",\"line\":{\"colorbar\":{\"outlinewidth\":0,\"ticks\":\"\"}}}],\"scatterpolargl\":[{\"type\":\"scatterpolargl\",\"marker\":{\"colorbar\":{\"outlinewidth\":0,\"ticks\":\"\"}}}],\"bar\":[{\"error_x\":{\"color\":\"#2a3f5f\"},\"error_y\":{\"color\":\"#2a3f5f\"},\"marker\":{\"line\":{\"color\":\"#E5ECF6\",\"width\":0.5},\"pattern\":{\"fillmode\":\"overlay\",\"size\":10,\"solidity\":0.2}},\"type\":\"bar\"}],\"scattergeo\":[{\"type\":\"scattergeo\",\"marker\":{\"colorbar\":{\"outlinewidth\":0,\"ticks\":\"\"}}}],\"scatterpolar\":[{\"type\":\"scatterpolar\",\"marker\":{\"colorbar\":{\"outlinewidth\":0,\"ticks\":\"\"}}}],\"histogram\":[{\"marker\":{\"pattern\":{\"fillmode\":\"overlay\",\"size\":10,\"solidity\":0.2}},\"type\":\"histogram\"}],\"scattergl\":[{\"type\":\"scattergl\",\"marker\":{\"colorbar\":{\"outlinewidth\":0,\"ticks\":\"\"}}}],\"scatter3d\":[{\"type\":\"scatter3d\",\"line\":{\"colorbar\":{\"outlinewidth\":0,\"ticks\":\"\"}},\"marker\":{\"colorbar\":{\"outlinewidth\":0,\"ticks\":\"\"}}}],\"scattermapbox\":[{\"type\":\"scattermapbox\",\"marker\":{\"colorbar\":{\"outlinewidth\":0,\"ticks\":\"\"}}}],\"scatterternary\":[{\"type\":\"scatterternary\",\"marker\":{\"colorbar\":{\"outlinewidth\":0,\"ticks\":\"\"}}}],\"scattercarpet\":[{\"type\":\"scattercarpet\",\"marker\":{\"colorbar\":{\"outlinewidth\":0,\"ticks\":\"\"}}}],\"carpet\":[{\"aaxis\":{\"endlinecolor\":\"#2a3f5f\",\"gridcolor\":\"white\",\"linecolor\":\"white\",\"minorgridcolor\":\"white\",\"startlinecolor\":\"#2a3f5f\"},\"baxis\":{\"endlinecolor\":\"#2a3f5f\",\"gridcolor\":\"white\",\"linecolor\":\"white\",\"minorgridcolor\":\"white\",\"startlinecolor\":\"#2a3f5f\"},\"type\":\"carpet\"}],\"table\":[{\"cells\":{\"fill\":{\"color\":\"#EBF0F8\"},\"line\":{\"color\":\"white\"}},\"header\":{\"fill\":{\"color\":\"#C8D4E3\"},\"line\":{\"color\":\"white\"}},\"type\":\"table\"}],\"barpolar\":[{\"marker\":{\"line\":{\"color\":\"#E5ECF6\",\"width\":0.5},\"pattern\":{\"fillmode\":\"overlay\",\"size\":10,\"solidity\":0.2}},\"type\":\"barpolar\"}],\"pie\":[{\"automargin\":true,\"type\":\"pie\"}]},\"layout\":{\"autotypenumbers\":\"strict\",\"colorway\":[\"#636efa\",\"#EF553B\",\"#00cc96\",\"#ab63fa\",\"#FFA15A\",\"#19d3f3\",\"#FF6692\",\"#B6E880\",\"#FF97FF\",\"#FECB52\"],\"font\":{\"color\":\"#2a3f5f\"},\"hovermode\":\"closest\",\"hoverlabel\":{\"align\":\"left\"},\"paper_bgcolor\":\"white\",\"plot_bgcolor\":\"#E5ECF6\",\"polar\":{\"bgcolor\":\"#E5ECF6\",\"angularaxis\":{\"gridcolor\":\"white\",\"linecolor\":\"white\",\"ticks\":\"\"},\"radialaxis\":{\"gridcolor\":\"white\",\"linecolor\":\"white\",\"ticks\":\"\"}},\"ternary\":{\"bgcolor\":\"#E5ECF6\",\"aaxis\":{\"gridcolor\":\"white\",\"linecolor\":\"white\",\"ticks\":\"\"},\"baxis\":{\"gridcolor\":\"white\",\"linecolor\":\"white\",\"ticks\":\"\"},\"caxis\":{\"gridcolor\":\"white\",\"linecolor\":\"white\",\"ticks\":\"\"}},\"coloraxis\":{\"colorbar\":{\"outlinewidth\":0,\"ticks\":\"\"}},\"colorscale\":{\"sequential\":[[0.0,\"#0d0887\"],[0.1111111111111111,\"#46039f\"],[0.2222222222222222,\"#7201a8\"],[0.3333333333333333,\"#9c179e\"],[0.4444444444444444,\"#bd3786\"],[0.5555555555555556,\"#d8576b\"],[0.6666666666666666,\"#ed7953\"],[0.7777777777777778,\"#fb9f3a\"],[0.8888888888888888,\"#fdca26\"],[1.0,\"#f0f921\"]],\"sequentialminus\":[[0.0,\"#0d0887\"],[0.1111111111111111,\"#46039f\"],[0.2222222222222222,\"#7201a8\"],[0.3333333333333333,\"#9c179e\"],[0.4444444444444444,\"#bd3786\"],[0.5555555555555556,\"#d8576b\"],[0.6666666666666666,\"#ed7953\"],[0.7777777777777778,\"#fb9f3a\"],[0.8888888888888888,\"#fdca26\"],[1.0,\"#f0f921\"]],\"diverging\":[[0,\"#8e0152\"],[0.1,\"#c51b7d\"],[0.2,\"#de77ae\"],[0.3,\"#f1b6da\"],[0.4,\"#fde0ef\"],[0.5,\"#f7f7f7\"],[0.6,\"#e6f5d0\"],[0.7,\"#b8e186\"],[0.8,\"#7fbc41\"],[0.9,\"#4d9221\"],[1,\"#276419\"]]},\"xaxis\":{\"gridcolor\":\"white\",\"linecolor\":\"white\",\"ticks\":\"\",\"title\":{\"standoff\":15},\"zerolinecolor\":\"white\",\"automargin\":true,\"zerolinewidth\":2},\"yaxis\":{\"gridcolor\":\"white\",\"linecolor\":\"white\",\"ticks\":\"\",\"title\":{\"standoff\":15},\"zerolinecolor\":\"white\",\"automargin\":true,\"zerolinewidth\":2},\"scene\":{\"xaxis\":{\"backgroundcolor\":\"#E5ECF6\",\"gridcolor\":\"white\",\"linecolor\":\"white\",\"showbackground\":true,\"ticks\":\"\",\"zerolinecolor\":\"white\",\"gridwidth\":2},\"yaxis\":{\"backgroundcolor\":\"#E5ECF6\",\"gridcolor\":\"white\",\"linecolor\":\"white\",\"showbackground\":true,\"ticks\":\"\",\"zerolinecolor\":\"white\",\"gridwidth\":2},\"zaxis\":{\"backgroundcolor\":\"#E5ECF6\",\"gridcolor\":\"white\",\"linecolor\":\"white\",\"showbackground\":true,\"ticks\":\"\",\"zerolinecolor\":\"white\",\"gridwidth\":2}},\"shapedefaults\":{\"line\":{\"color\":\"#2a3f5f\"}},\"annotationdefaults\":{\"arrowcolor\":\"#2a3f5f\",\"arrowhead\":0,\"arrowwidth\":1},\"geo\":{\"bgcolor\":\"white\",\"landcolor\":\"#E5ECF6\",\"subunitcolor\":\"white\",\"showland\":true,\"showlakes\":true,\"lakecolor\":\"white\"},\"title\":{\"x\":0.05},\"mapbox\":{\"style\":\"light\"}}}},                        {\"responsive\": true}                    ).then(function(){\n",
              "                            \n",
              "var gd = document.getElementById('c1236ac0-8511-49fe-85b8-df2ad3bf0b7e');\n",
              "var x = new MutationObserver(function (mutations, observer) {{\n",
              "        var display = window.getComputedStyle(gd).display;\n",
              "        if (!display || display === 'none') {{\n",
              "            console.log([gd, 'removed!']);\n",
              "            Plotly.purge(gd);\n",
              "            observer.disconnect();\n",
              "        }}\n",
              "}});\n",
              "\n",
              "// Listen for the removal of the full notebook cells\n",
              "var notebookContainer = gd.closest('#notebook-container');\n",
              "if (notebookContainer) {{\n",
              "    x.observe(notebookContainer, {childList: true});\n",
              "}}\n",
              "\n",
              "// Listen for the clearing of the current output cell\n",
              "var outputEl = gd.closest('.output');\n",
              "if (outputEl) {{\n",
              "    x.observe(outputEl, {childList: true});\n",
              "}}\n",
              "\n",
              "                        })                };                            </script>        </div>\n",
              "</body>\n",
              "</html>"
            ]
          },
          "metadata": {}
        }
      ]
    },
    {
      "cell_type": "code",
      "source": [
        "# ベストパラメータを使ってモデルの訓練\n",
        "\n",
        "# Best trial: ,  {'kernel': 'rbf', 'C': 0.7253529746614299}\n",
        "# Best score: ,  0.4483449607237124\n",
        "\n",
        "params = {'C': 0.7253529746614299,\n",
        "          'kernel': 'rbf'}\n",
        "\n",
        "svc = SVC(**params, probability=True, random_state=42)\n",
        "# rf_results = evaluate_model(rf, X, y)\n",
        "svc.fit(X, y)\n",
        "\n",
        "# テストデータでの推論\n",
        "svc_pred = svc.predict(df_test)\n",
        "\n",
        "# print(svc_pred.shape)\n",
        "# print(svc_pred)"
      ],
      "metadata": {
        "id": "wZnClA0aJZ_U"
      },
      "execution_count": 15,
      "outputs": []
    },
    {
      "cell_type": "markdown",
      "source": [
        "### 3. XGBoost"
      ],
      "metadata": {
        "id": "yfujTPaIczEQ"
      }
    },
    {
      "cell_type": "code",
      "source": [
        "def xgb_objective(trial):\n",
        "\n",
        "    # 調整したいハイパーパラメータの範囲\n",
        "    params = {\n",
        "        'learning_rate': trial.suggest_float('learning_rate', 0.01, 0.3, log=True),\n",
        "        'min_child_weight': trial.suggest_int('min_child_weight', 2, 8),\n",
        "        'max_depth': trial.suggest_int('max_depth', 1, 4),\n",
        "        'colsample_bytree': trial.suggest_float('colsample_bytree', 0.2, 1.0),\n",
        "        'subsample': trial.suggest_float('subsample', 0.2, 1.0),\n",
        "        'reg_alpha': trial.suggest_float('reg_alpha', 0.001, 0.1, log=True),\n",
        "        'reg_lambda': trial.suggest_float('reg_lambda', 0.001, 0.1, log=True),\n",
        "        'gamma': trial.suggest_float('gamma', 0.0001, 0.1, log=True),\n",
        "    }\n",
        "\n",
        "    # モデルの定義\n",
        "    cls = XGBClassifier(**params, objective='multiclass', random_state=42, n_jobs=-1)\n",
        "\n",
        "    score = cross_val_score(cls, X, y, cv=5, scoring='f1_macro')\n",
        "    f1_score = score.mean()\n",
        "    return score.mean()\n",
        "\n",
        "study = optuna.create_study(direction='maximize')\n",
        "study.optimize(xgb_objective, n_trials=100)\n",
        "\n",
        "print('Best trial: ', study.best_trial.params)\n",
        "print('Best score: ', study.best_trial.value)"
      ],
      "metadata": {
        "colab": {
          "base_uri": "https://localhost:8080/"
        },
        "outputId": "962a7941-ade1-4eea-e1ca-4d602ac75ef1",
        "id": "KoH0qCm8cxd2",
        "collapsed": true
      },
      "execution_count": null,
      "outputs": [
        {
          "output_type": "stream",
          "name": "stderr",
          "text": [
            "[I 2024-05-24 21:34:57,826] A new study created in memory with name: no-name-65668db2-cfc5-4091-b0eb-cbe564f91b3c\n",
            "[I 2024-05-24 21:34:58,688] Trial 0 finished with value: 0.43504435127499475 and parameters: {'learning_rate': 0.01396808031100182, 'min_child_weight': 4, 'max_depth': 2, 'colsample_bytree': 0.9939550785703735, 'subsample': 0.5892207348340746, 'reg_alpha': 0.06304092413606736, 'reg_lambda': 0.0012005248082420073, 'gamma': 0.0009411814436477706}. Best is trial 0 with value: 0.43504435127499475.\n",
            "[I 2024-05-24 21:34:59,727] Trial 1 finished with value: 0.4542157663258587 and parameters: {'learning_rate': 0.11533602460488761, 'min_child_weight': 3, 'max_depth': 3, 'colsample_bytree': 0.8754996475460597, 'subsample': 0.9110647299381514, 'reg_alpha': 0.0055692184650854544, 'reg_lambda': 0.017020711970240132, 'gamma': 0.04800226852175068}. Best is trial 1 with value: 0.4542157663258587.\n",
            "[I 2024-05-24 21:35:01,031] Trial 2 finished with value: 0.459227983315205 and parameters: {'learning_rate': 0.12111192010551076, 'min_child_weight': 5, 'max_depth': 4, 'colsample_bytree': 0.9664687522632038, 'subsample': 0.6782909413649689, 'reg_alpha': 0.01926628152168581, 'reg_lambda': 0.016845087093138558, 'gamma': 0.009432131289550765}. Best is trial 2 with value: 0.459227983315205.\n",
            "[I 2024-05-24 21:35:01,657] Trial 3 finished with value: 0.45717500534716377 and parameters: {'learning_rate': 0.03282439684156419, 'min_child_weight': 5, 'max_depth': 2, 'colsample_bytree': 0.4030643567690036, 'subsample': 0.4417761060154459, 'reg_alpha': 0.01831084582616439, 'reg_lambda': 0.0927760375150887, 'gamma': 0.005740747605134761}. Best is trial 2 with value: 0.459227983315205.\n",
            "[I 2024-05-24 21:35:02,216] Trial 4 finished with value: 0.4539653339964662 and parameters: {'learning_rate': 0.055438927529106716, 'min_child_weight': 5, 'max_depth': 1, 'colsample_bytree': 0.9028407739023936, 'subsample': 0.39961948032559685, 'reg_alpha': 0.07273580532656448, 'reg_lambda': 0.011941681931259412, 'gamma': 0.0002924653348399278}. Best is trial 2 with value: 0.459227983315205.\n",
            "[I 2024-05-24 21:35:02,729] Trial 5 finished with value: 0.45152880830647657 and parameters: {'learning_rate': 0.12714842009518756, 'min_child_weight': 8, 'max_depth': 1, 'colsample_bytree': 0.448128658631344, 'subsample': 0.5642905137855576, 'reg_alpha': 0.002271806490097657, 'reg_lambda': 0.015243143910467634, 'gamma': 0.009672416852222499}. Best is trial 2 with value: 0.459227983315205.\n",
            "[I 2024-05-24 21:35:06,009] Trial 6 finished with value: 0.45415314100529514 and parameters: {'learning_rate': 0.06315482429752663, 'min_child_weight': 4, 'max_depth': 3, 'colsample_bytree': 0.8184743956626928, 'subsample': 0.9090558723115267, 'reg_alpha': 0.009568803997339087, 'reg_lambda': 0.01804743210144022, 'gamma': 0.006575728010684443}. Best is trial 2 with value: 0.459227983315205.\n",
            "[I 2024-05-24 21:35:07,578] Trial 7 finished with value: 0.4674044481219658 and parameters: {'learning_rate': 0.0915907238609959, 'min_child_weight': 4, 'max_depth': 4, 'colsample_bytree': 0.5494715434916098, 'subsample': 0.8634292883067012, 'reg_alpha': 0.005315041526904872, 'reg_lambda': 0.00273554076781126, 'gamma': 0.05409761719421273}. Best is trial 7 with value: 0.4674044481219658.\n",
            "[I 2024-05-24 21:35:08,374] Trial 8 finished with value: 0.4680394701199641 and parameters: {'learning_rate': 0.07484770826414784, 'min_child_weight': 5, 'max_depth': 3, 'colsample_bytree': 0.3287265679333123, 'subsample': 0.8897546667007374, 'reg_alpha': 0.003805506647730175, 'reg_lambda': 0.007739806966666077, 'gamma': 0.07597497645470463}. Best is trial 8 with value: 0.4680394701199641.\n",
            "[I 2024-05-24 21:35:09,097] Trial 9 finished with value: 0.4625743759576656 and parameters: {'learning_rate': 0.15680564602380037, 'min_child_weight': 5, 'max_depth': 2, 'colsample_bytree': 0.7364103240644913, 'subsample': 0.38406906698512855, 'reg_alpha': 0.0032406440812350673, 'reg_lambda': 0.006736998813503126, 'gamma': 0.09702248701588369}. Best is trial 8 with value: 0.4680394701199641.\n",
            "[I 2024-05-24 21:35:09,814] Trial 10 finished with value: 0.44467907435717546 and parameters: {'learning_rate': 0.022033109599903348, 'min_child_weight': 7, 'max_depth': 3, 'colsample_bytree': 0.23445373682648263, 'subsample': 0.7593843512639125, 'reg_alpha': 0.0013187292405150196, 'reg_lambda': 0.06056043731435886, 'gamma': 0.00013129055659599282}. Best is trial 8 with value: 0.4680394701199641.\n",
            "[I 2024-05-24 21:35:10,954] Trial 11 finished with value: 0.4621940165106899 and parameters: {'learning_rate': 0.2522618528040235, 'min_child_weight': 2, 'max_depth': 4, 'colsample_bytree': 0.5794671906521066, 'subsample': 0.9941756265755621, 'reg_alpha': 0.005446782232951156, 'reg_lambda': 0.0029734467643211257, 'gamma': 0.03166638637376377}. Best is trial 8 with value: 0.4680394701199641.\n",
            "[I 2024-05-24 21:35:11,849] Trial 12 finished with value: 0.4607524067133733 and parameters: {'learning_rate': 0.06608902357246366, 'min_child_weight': 7, 'max_depth': 4, 'colsample_bytree': 0.2602073582800054, 'subsample': 0.7991859092411465, 'reg_alpha': 0.0015100007021873025, 'reg_lambda': 0.0031936139848547577, 'gamma': 0.039999559998753646}. Best is trial 8 with value: 0.4680394701199641.\n",
            "[I 2024-05-24 21:35:13,000] Trial 13 finished with value: 0.46192515908461373 and parameters: {'learning_rate': 0.032547676600576614, 'min_child_weight': 3, 'max_depth': 4, 'colsample_bytree': 0.5769965732931738, 'subsample': 0.817343747472801, 'reg_alpha': 0.005088293395199942, 'reg_lambda': 0.004692937500453202, 'gamma': 0.0990594522019613}. Best is trial 8 with value: 0.4680394701199641.\n",
            "[I 2024-05-24 21:35:13,787] Trial 14 finished with value: 0.458464642745521 and parameters: {'learning_rate': 0.08305683090209788, 'min_child_weight': 6, 'max_depth': 3, 'colsample_bytree': 0.42745782362963125, 'subsample': 0.22362676478015175, 'reg_alpha': 0.014220836859822773, 'reg_lambda': 0.0012337866670946791, 'gamma': 0.018928884799647334}. Best is trial 8 with value: 0.4680394701199641.\n",
            "[I 2024-05-24 21:35:14,778] Trial 15 finished with value: 0.4512181673100032 and parameters: {'learning_rate': 0.03744875296796002, 'min_child_weight': 4, 'max_depth': 4, 'colsample_bytree': 0.3317746131070583, 'subsample': 0.9925271618669882, 'reg_alpha': 0.002828446309172227, 'reg_lambda': 0.0021655984899798643, 'gamma': 0.0015979964842775937}. Best is trial 8 with value: 0.4680394701199641.\n",
            "[I 2024-05-24 21:35:15,734] Trial 16 finished with value: 0.4693966556573786 and parameters: {'learning_rate': 0.25909170644666923, 'min_child_weight': 6, 'max_depth': 3, 'colsample_bytree': 0.6924436072161902, 'subsample': 0.7022781847313078, 'reg_alpha': 0.010287934745075297, 'reg_lambda': 0.032237654473534744, 'gamma': 0.018076657816709262}. Best is trial 16 with value: 0.4693966556573786.\n",
            "[I 2024-05-24 21:35:16,761] Trial 17 finished with value: 0.4646889861468935 and parameters: {'learning_rate': 0.272090000572112, 'min_child_weight': 6, 'max_depth': 3, 'colsample_bytree': 0.6965371350895089, 'subsample': 0.6962701497951673, 'reg_alpha': 0.02946883685241808, 'reg_lambda': 0.035510072805322875, 'gamma': 0.019398134244218757}. Best is trial 16 with value: 0.4693966556573786.\n",
            "[I 2024-05-24 21:35:19,601] Trial 18 finished with value: 0.46585301513816113 and parameters: {'learning_rate': 0.1861935107461484, 'min_child_weight': 6, 'max_depth': 2, 'colsample_bytree': 0.7025011094222425, 'subsample': 0.6734812625412884, 'reg_alpha': 0.009476900268700003, 'reg_lambda': 0.03293551557377624, 'gamma': 0.0018781103423248157}. Best is trial 16 with value: 0.4693966556573786.\n",
            "[I 2024-05-24 21:35:21,388] Trial 19 finished with value: 0.4434753216676392 and parameters: {'learning_rate': 0.010218136545757997, 'min_child_weight': 7, 'max_depth': 3, 'colsample_bytree': 0.5079373118081909, 'subsample': 0.49114882963497863, 'reg_alpha': 0.02536158006911832, 'reg_lambda': 0.008065667059120936, 'gamma': 0.014937961495230174}. Best is trial 16 with value: 0.4693966556573786.\n",
            "[I 2024-05-24 21:35:22,119] Trial 20 finished with value: 0.4659579397427535 and parameters: {'learning_rate': 0.19055525633239742, 'min_child_weight': 8, 'max_depth': 2, 'colsample_bytree': 0.6584585455772156, 'subsample': 0.7356975871721736, 'reg_alpha': 0.04474858275687306, 'reg_lambda': 0.029910270749765242, 'gamma': 0.0037739055828641247}. Best is trial 16 with value: 0.4693966556573786.\n",
            "[I 2024-05-24 21:35:23,214] Trial 21 finished with value: 0.48025194122100245 and parameters: {'learning_rate': 0.10773304026948358, 'min_child_weight': 3, 'max_depth': 4, 'colsample_bytree': 0.5167697504742282, 'subsample': 0.8628254286201753, 'reg_alpha': 0.0040862830280031836, 'reg_lambda': 0.005435544611804015, 'gamma': 0.04968425015051057}. Best is trial 21 with value: 0.48025194122100245.\n",
            "[I 2024-05-24 21:35:24,038] Trial 22 finished with value: 0.46215532227557266 and parameters: {'learning_rate': 0.04417918463608869, 'min_child_weight': 2, 'max_depth': 3, 'colsample_bytree': 0.34741094943202044, 'subsample': 0.8855219663330393, 'reg_alpha': 0.0035625260067984675, 'reg_lambda': 0.004872320664577596, 'gamma': 0.02862682532474858}. Best is trial 21 with value: 0.48025194122100245.\n",
            "[I 2024-05-24 21:35:24,920] Trial 23 finished with value: 0.47107718049929026 and parameters: {'learning_rate': 0.08185941918587328, 'min_child_weight': 3, 'max_depth': 3, 'colsample_bytree': 0.4906611353653317, 'subsample': 0.8248127339789961, 'reg_alpha': 0.007985015281567207, 'reg_lambda': 0.009826271493097238, 'gamma': 0.0630430474663499}. Best is trial 21 with value: 0.48025194122100245.\n",
            "[I 2024-05-24 21:35:26,078] Trial 24 finished with value: 0.46683444468559687 and parameters: {'learning_rate': 0.29511724699976755, 'min_child_weight': 3, 'max_depth': 4, 'colsample_bytree': 0.6391853226463361, 'subsample': 0.6278721416666664, 'reg_alpha': 0.007539920010266873, 'reg_lambda': 0.0052167423906176865, 'gamma': 0.02590800668539064}. Best is trial 21 with value: 0.48025194122100245.\n",
            "[I 2024-05-24 21:35:26,967] Trial 25 finished with value: 0.4680988118094211 and parameters: {'learning_rate': 0.15457352493548926, 'min_child_weight': 2, 'max_depth': 3, 'colsample_bytree': 0.5039658718956701, 'subsample': 0.791923112656111, 'reg_alpha': 0.010947138195004839, 'reg_lambda': 0.010860481970308021, 'gamma': 0.05466732816427577}. Best is trial 21 with value: 0.48025194122100245.\n",
            "[I 2024-05-24 21:35:28,281] Trial 26 finished with value: 0.47456691490427394 and parameters: {'learning_rate': 0.22784551578977602, 'min_child_weight': 3, 'max_depth': 4, 'colsample_bytree': 0.7788808805585086, 'subsample': 0.8286201240220107, 'reg_alpha': 0.0020695464682665326, 'reg_lambda': 0.02631358596869081, 'gamma': 0.012216794758624779}. Best is trial 21 with value: 0.48025194122100245.\n",
            "[I 2024-05-24 21:35:29,603] Trial 27 finished with value: 0.4543472054490362 and parameters: {'learning_rate': 0.09949248873559235, 'min_child_weight': 3, 'max_depth': 4, 'colsample_bytree': 0.7881728929687744, 'subsample': 0.9620654758190239, 'reg_alpha': 0.0011090426941270412, 'reg_lambda': 0.023875141100347833, 'gamma': 0.012715668980114565}. Best is trial 21 with value: 0.48025194122100245.\n",
            "[I 2024-05-24 21:35:30,703] Trial 28 finished with value: 0.47065435018546253 and parameters: {'learning_rate': 0.19539375884388382, 'min_child_weight': 3, 'max_depth': 4, 'colsample_bytree': 0.4952628304618644, 'subsample': 0.8409567714852791, 'reg_alpha': 0.0019402357729075787, 'reg_lambda': 0.04543517648379602, 'gamma': 0.06289146316117489}. Best is trial 21 with value: 0.48025194122100245.\n",
            "[I 2024-05-24 21:35:36,224] Trial 29 finished with value: 0.4437314747740425 and parameters: {'learning_rate': 0.022636085739701967, 'min_child_weight': 4, 'max_depth': 4, 'colsample_bytree': 0.6218495709623041, 'subsample': 0.5861835552308367, 'reg_alpha': 0.002244003212266022, 'reg_lambda': 0.011285141716854607, 'gamma': 0.003305497794984778}. Best is trial 21 with value: 0.48025194122100245.\n",
            "[I 2024-05-24 21:35:41,116] Trial 30 finished with value: 0.46062533434850483 and parameters: {'learning_rate': 0.14716009307534847, 'min_child_weight': 2, 'max_depth': 4, 'colsample_bytree': 0.7579877399489359, 'subsample': 0.9524186944536102, 'reg_alpha': 0.0017550626777314315, 'reg_lambda': 0.0010826110786428202, 'gamma': 0.0059567551442844275}. Best is trial 21 with value: 0.48025194122100245.\n",
            "[I 2024-05-24 21:35:44,583] Trial 31 finished with value: 0.4719112375873287 and parameters: {'learning_rate': 0.21500139771844365, 'min_child_weight': 3, 'max_depth': 4, 'colsample_bytree': 0.4917149247702954, 'subsample': 0.8361668178932377, 'reg_alpha': 0.0021251807020142705, 'reg_lambda': 0.04898486849602532, 'gamma': 0.05286104464304511}. Best is trial 21 with value: 0.48025194122100245.\n",
            "[I 2024-05-24 21:35:47,347] Trial 32 finished with value: 0.4664763211909525 and parameters: {'learning_rate': 0.2225257968765672, 'min_child_weight': 3, 'max_depth': 4, 'colsample_bytree': 0.47843790829318816, 'subsample': 0.7743759584146654, 'reg_alpha': 0.0010157357474876146, 'reg_lambda': 0.05708744294623703, 'gamma': 0.037395264395286947}. Best is trial 21 with value: 0.48025194122100245.\n",
            "[I 2024-05-24 21:35:51,031] Trial 33 finished with value: 0.47892413483591323 and parameters: {'learning_rate': 0.20736608030539463, 'min_child_weight': 3, 'max_depth': 4, 'colsample_bytree': 0.5408185623923036, 'subsample': 0.8449248414424919, 'reg_alpha': 0.0025969958884197396, 'reg_lambda': 0.07712316574184107, 'gamma': 0.027529432166249673}. Best is trial 21 with value: 0.48025194122100245.\n",
            "[I 2024-05-24 21:35:52,072] Trial 34 finished with value: 0.4656171977783119 and parameters: {'learning_rate': 0.11152147197973176, 'min_child_weight': 2, 'max_depth': 4, 'colsample_bytree': 0.3878422998555664, 'subsample': 0.9342137917104486, 'reg_alpha': 0.0026858836606889263, 'reg_lambda': 0.05724356381206553, 'gamma': 0.010555106949170895}. Best is trial 21 with value: 0.48025194122100245.\n",
            "[I 2024-05-24 21:35:53,441] Trial 35 finished with value: 0.4825702349240638 and parameters: {'learning_rate': 0.21875654701658445, 'min_child_weight': 4, 'max_depth': 4, 'colsample_bytree': 0.9904167231470266, 'subsample': 0.8576856955464338, 'reg_alpha': 0.004209692455857907, 'reg_lambda': 0.09592460882040156, 'gamma': 0.025123029391014563}. Best is trial 35 with value: 0.4825702349240638.\n",
            "[I 2024-05-24 21:35:54,885] Trial 36 finished with value: 0.47648529191469235 and parameters: {'learning_rate': 0.134776795762701, 'min_child_weight': 4, 'max_depth': 4, 'colsample_bytree': 0.9896633223307215, 'subsample': 0.7513518826181973, 'reg_alpha': 0.003858948882130997, 'reg_lambda': 0.09353970465821738, 'gamma': 0.0005186922552622087}. Best is trial 35 with value: 0.4825702349240638.\n",
            "[I 2024-05-24 21:35:56,289] Trial 37 finished with value: 0.47538180622373793 and parameters: {'learning_rate': 0.1322141472059226, 'min_child_weight': 4, 'max_depth': 4, 'colsample_bytree': 0.9895614351626524, 'subsample': 0.7294810055504395, 'reg_alpha': 0.003913368813504841, 'reg_lambda': 0.09088863409909376, 'gamma': 0.0006805391380241974}. Best is trial 35 with value: 0.4825702349240638.\n",
            "[I 2024-05-24 21:35:56,926] Trial 38 finished with value: 0.4542932091427911 and parameters: {'learning_rate': 0.17010803399677618, 'min_child_weight': 4, 'max_depth': 1, 'colsample_bytree': 0.9225122521256042, 'subsample': 0.6472972969053342, 'reg_alpha': 0.0045348651105759285, 'reg_lambda': 0.07899357278662016, 'gamma': 0.0005394845632084929}. Best is trial 35 with value: 0.4825702349240638.\n",
            "[I 2024-05-24 21:35:58,286] Trial 39 finished with value: 0.4635672460806995 and parameters: {'learning_rate': 0.11200757567834976, 'min_child_weight': 4, 'max_depth': 4, 'colsample_bytree': 0.8459861340505546, 'subsample': 0.9028136617705195, 'reg_alpha': 0.006057216693003112, 'reg_lambda': 0.07359089217047547, 'gamma': 0.00020577107362620265}. Best is trial 35 with value: 0.4825702349240638.\n",
            "[I 2024-05-24 21:35:59,655] Trial 40 finished with value: 0.4692852394387967 and parameters: {'learning_rate': 0.13798104495750496, 'min_child_weight': 4, 'max_depth': 4, 'colsample_bytree': 0.95591419519512, 'subsample': 0.5339413244805031, 'reg_alpha': 0.0066110440410233435, 'reg_lambda': 0.09267796896640831, 'gamma': 0.0003563978444314661}. Best is trial 35 with value: 0.4825702349240638.\n",
            "[I 2024-05-24 21:36:04,069] Trial 41 finished with value: 0.4700868346684274 and parameters: {'learning_rate': 0.12670494132069765, 'min_child_weight': 4, 'max_depth': 4, 'colsample_bytree': 0.9929928845455486, 'subsample': 0.7383189646749895, 'reg_alpha': 0.004104954392832, 'reg_lambda': 0.09232211205222332, 'gamma': 0.0006964691186909911}. Best is trial 35 with value: 0.4825702349240638.\n",
            "[I 2024-05-24 21:36:05,404] Trial 42 finished with value: 0.47473097781914114 and parameters: {'learning_rate': 0.1058728971112208, 'min_child_weight': 5, 'max_depth': 4, 'colsample_bytree': 0.8871420929119989, 'subsample': 0.8673983059738201, 'reg_alpha': 0.003192499324602152, 'reg_lambda': 0.06944960647126265, 'gamma': 0.001247677885374806}. Best is trial 35 with value: 0.4825702349240638.\n",
            "[I 2024-05-24 21:36:06,776] Trial 43 finished with value: 0.47937602606641094 and parameters: {'learning_rate': 0.1654790848939391, 'min_child_weight': 5, 'max_depth': 4, 'colsample_bytree': 0.9335200366978605, 'subsample': 0.7288381420679325, 'reg_alpha': 0.004029491247155467, 'reg_lambda': 0.041062609230455877, 'gamma': 0.0008225139575594179}. Best is trial 35 with value: 0.4825702349240638.\n",
            "[I 2024-05-24 21:36:08,119] Trial 44 finished with value: 0.45898827836502515 and parameters: {'learning_rate': 0.17390571570337848, 'min_child_weight': 5, 'max_depth': 4, 'colsample_bytree': 0.9369414205629383, 'subsample': 0.7538897863171303, 'reg_alpha': 0.002709159841997965, 'reg_lambda': 0.04389992714113754, 'gamma': 0.0003894038884823454}. Best is trial 35 with value: 0.4825702349240638.\n",
            "[I 2024-05-24 21:36:09,458] Trial 45 finished with value: 0.4668491296506101 and parameters: {'learning_rate': 0.23114950912631696, 'min_child_weight': 5, 'max_depth': 4, 'colsample_bytree': 0.876752654174223, 'subsample': 0.9186656142270224, 'reg_alpha': 0.09219598179430129, 'reg_lambda': 0.019182782085671507, 'gamma': 0.00010115534655087852}. Best is trial 35 with value: 0.4825702349240638.\n",
            "[I 2024-05-24 21:36:10,562] Trial 46 finished with value: 0.4753774476271485 and parameters: {'learning_rate': 0.15601242810991128, 'min_child_weight': 5, 'max_depth': 4, 'colsample_bytree': 0.5410475990812067, 'subsample': 0.7873529010454485, 'reg_alpha': 0.004566743548219338, 'reg_lambda': 0.06425033238479418, 'gamma': 0.0023422472353753876}. Best is trial 35 with value: 0.4825702349240638.\n",
            "[I 2024-05-24 21:36:11,661] Trial 47 finished with value: 0.46025690213514564 and parameters: {'learning_rate': 0.06337541872194585, 'min_child_weight': 4, 'max_depth': 3, 'colsample_bytree': 0.9584941792981995, 'subsample': 0.8612914354543048, 'reg_alpha': 0.0015544979369931725, 'reg_lambda': 0.09917790283187561, 'gamma': 0.00017067048091960326}. Best is trial 35 with value: 0.4825702349240638.\n",
            "[I 2024-05-24 21:36:13,108] Trial 48 finished with value: 0.4757597752414887 and parameters: {'learning_rate': 0.08808894468209612, 'min_child_weight': 3, 'max_depth': 4, 'colsample_bytree': 0.9284893327205749, 'subsample': 0.6519019499860416, 'reg_alpha': 0.0031643143346523446, 'reg_lambda': 0.014477812051849464, 'gamma': 0.007640595684281768}. Best is trial 35 with value: 0.4825702349240638.\n",
            "[I 2024-05-24 21:36:16,331] Trial 49 finished with value: 0.45988215952778455 and parameters: {'learning_rate': 0.2976759072083839, 'min_child_weight': 4, 'max_depth': 4, 'colsample_bytree': 0.8593701625918905, 'subsample': 0.6983459078366355, 'reg_alpha': 0.013333148933591254, 'reg_lambda': 0.0501419556654382, 'gamma': 0.0012495162955553037}. Best is trial 35 with value: 0.4825702349240638.\n",
            "[I 2024-05-24 21:36:18,455] Trial 50 finished with value: 0.45599933848369234 and parameters: {'learning_rate': 0.05221793376645863, 'min_child_weight': 4, 'max_depth': 3, 'colsample_bytree': 0.8170179888796745, 'subsample': 0.2343838107431886, 'reg_alpha': 0.0049561696099101, 'reg_lambda': 0.0792381437037318, 'gamma': 0.0008697077977108409}. Best is trial 35 with value: 0.4825702349240638.\n",
            "[I 2024-05-24 21:36:19,871] Trial 51 finished with value: 0.468028725719109 and parameters: {'learning_rate': 0.09037187527313284, 'min_child_weight': 3, 'max_depth': 4, 'colsample_bytree': 0.9195103906519853, 'subsample': 0.6473161029334328, 'reg_alpha': 0.0031934213151086134, 'reg_lambda': 0.015118062318191404, 'gamma': 0.007784566856798888}. Best is trial 35 with value: 0.4825702349240638.\n",
            "[I 2024-05-24 21:36:21,300] Trial 52 finished with value: 0.4604620437839664 and parameters: {'learning_rate': 0.12078548002894192, 'min_child_weight': 3, 'max_depth': 4, 'colsample_bytree': 0.9981424535473069, 'subsample': 0.6135782854237934, 'reg_alpha': 0.0025634565351187293, 'reg_lambda': 0.03917651682046826, 'gamma': 0.040656760316586944}. Best is trial 35 with value: 0.4825702349240638.\n",
            "[I 2024-05-24 21:36:22,765] Trial 53 finished with value: 0.45609845588111375 and parameters: {'learning_rate': 0.07636941791441111, 'min_child_weight': 2, 'max_depth': 4, 'colsample_bytree': 0.9065741125865682, 'subsample': 0.6694987867157465, 'reg_alpha': 0.006793062295910293, 'reg_lambda': 0.003759533896558189, 'gamma': 0.004185188993863849}. Best is trial 35 with value: 0.4825702349240638.\n",
            "[I 2024-05-24 21:36:23,929] Trial 54 finished with value: 0.47353822831870984 and parameters: {'learning_rate': 0.09627831596734406, 'min_child_weight': 3, 'max_depth': 4, 'colsample_bytree': 0.5442199378804958, 'subsample': 0.7097865362240418, 'reg_alpha': 0.003421117364745317, 'reg_lambda': 0.0017320095428932309, 'gamma': 0.004702539304403281}. Best is trial 35 with value: 0.4825702349240638.\n",
            "[I 2024-05-24 21:36:25,288] Trial 55 finished with value: 0.4794540297244566 and parameters: {'learning_rate': 0.20341588385819848, 'min_child_weight': 5, 'max_depth': 4, 'colsample_bytree': 0.9606795608589996, 'subsample': 0.772616858199723, 'reg_alpha': 0.005647042811081211, 'reg_lambda': 0.0071339983774609, 'gamma': 0.022040395638681657}. Best is trial 35 with value: 0.4825702349240638.\n",
            "[I 2024-05-24 21:36:26,389] Trial 56 finished with value: 0.46552034743988085 and parameters: {'learning_rate': 0.20815572409659808, 'min_child_weight': 5, 'max_depth': 4, 'colsample_bytree': 0.5850775810413916, 'subsample': 0.8696288805028292, 'reg_alpha': 0.005667412519177604, 'reg_lambda': 0.007405373544580443, 'gamma': 0.08058416633375377}. Best is trial 35 with value: 0.4825702349240638.\n",
            "[I 2024-05-24 21:36:26,975] Trial 57 finished with value: 0.4511258062742729 and parameters: {'learning_rate': 0.2539234377442002, 'min_child_weight': 5, 'max_depth': 1, 'colsample_bytree': 0.44591952177416116, 'subsample': 0.7999566110099268, 'reg_alpha': 0.0045089052737719215, 'reg_lambda': 0.0041446728452585475, 'gamma': 0.021881322410953082}. Best is trial 35 with value: 0.4825702349240638.\n",
            "[I 2024-05-24 21:36:28,195] Trial 58 finished with value: 0.47403102511344086 and parameters: {'learning_rate': 0.17329266262692394, 'min_child_weight': 6, 'max_depth': 3, 'colsample_bytree': 0.965977061630055, 'subsample': 0.7555152996718071, 'reg_alpha': 0.00874816834483114, 'reg_lambda': 0.0055330901886383975, 'gamma': 0.03500222369090378}. Best is trial 35 with value: 0.4825702349240638.\n",
            "[I 2024-05-24 21:36:32,005] Trial 59 finished with value: 0.47115883145990106 and parameters: {'learning_rate': 0.19175741757501627, 'min_child_weight': 5, 'max_depth': 2, 'colsample_bytree': 0.8365579322770419, 'subsample': 0.8065580068392029, 'reg_alpha': 0.0039350943645773805, 'reg_lambda': 0.0024671447966473805, 'gamma': 0.02424024472853718}. Best is trial 35 with value: 0.4825702349240638.\n",
            "[I 2024-05-24 21:36:32,989] Trial 60 finished with value: 0.4843437417371025 and parameters: {'learning_rate': 0.14486385401381416, 'min_child_weight': 6, 'max_depth': 4, 'colsample_bytree': 0.3923374343285243, 'subsample': 0.8447427174442159, 'reg_alpha': 0.005531783663559291, 'reg_lambda': 0.005977081226955029, 'gamma': 0.017336020031214434}. Best is trial 60 with value: 0.4843437417371025.\n",
            "[I 2024-05-24 21:36:33,924] Trial 61 finished with value: 0.47806508791379676 and parameters: {'learning_rate': 0.1447416459795554, 'min_child_weight': 6, 'max_depth': 4, 'colsample_bytree': 0.2944369191240383, 'subsample': 0.7733258932218064, 'reg_alpha': 0.005595127285418817, 'reg_lambda': 0.009240713382650763, 'gamma': 0.01573118341599681}. Best is trial 60 with value: 0.4843437417371025.\n",
            "[I 2024-05-24 21:36:34,894] Trial 62 finished with value: 0.46702161217650523 and parameters: {'learning_rate': 0.16374018195550688, 'min_child_weight': 6, 'max_depth': 4, 'colsample_bytree': 0.28925946733438046, 'subsample': 0.8500113109570637, 'reg_alpha': 0.007178875901909919, 'reg_lambda': 0.005788037484368387, 'gamma': 0.01613961097934705}. Best is trial 60 with value: 0.4843437417371025.\n",
            "[I 2024-05-24 21:36:35,837] Trial 63 finished with value: 0.46969012901278545 and parameters: {'learning_rate': 0.14164771219337546, 'min_child_weight': 7, 'max_depth': 4, 'colsample_bytree': 0.21073663118126718, 'subsample': 0.8865078168818108, 'reg_alpha': 0.005667824306642596, 'reg_lambda': 0.009249480318115535, 'gamma': 0.029417731974602367}. Best is trial 60 with value: 0.4843437417371025.\n",
            "[I 2024-05-24 21:36:36,819] Trial 64 finished with value: 0.4748666821401867 and parameters: {'learning_rate': 0.2542023979708445, 'min_child_weight': 6, 'max_depth': 4, 'colsample_bytree': 0.38488733648816675, 'subsample': 0.9248262375876332, 'reg_alpha': 0.011473677228742658, 'reg_lambda': 0.006445332188663767, 'gamma': 0.015857338477641172}. Best is trial 60 with value: 0.4843437417371025.\n",
            "[I 2024-05-24 21:36:37,756] Trial 65 finished with value: 0.46757483403483846 and parameters: {'learning_rate': 0.1957806913481766, 'min_child_weight': 7, 'max_depth': 4, 'colsample_bytree': 0.2991972149429589, 'subsample': 0.8086816267253846, 'reg_alpha': 0.008671615688435892, 'reg_lambda': 0.00907712767391207, 'gamma': 0.021634921369891164}. Best is trial 60 with value: 0.4843437417371025.\n",
            "[I 2024-05-24 21:36:38,754] Trial 66 finished with value: 0.47515589072483644 and parameters: {'learning_rate': 0.23130655361301447, 'min_child_weight': 6, 'max_depth': 4, 'colsample_bytree': 0.4049168051748699, 'subsample': 0.8358388114925654, 'reg_alpha': 0.005007236222614974, 'reg_lambda': 0.004281722875901501, 'gamma': 0.013092768754241061}. Best is trial 60 with value: 0.4843437417371025.\n",
            "[I 2024-05-24 21:36:39,732] Trial 67 finished with value: 0.4649335988573675 and parameters: {'learning_rate': 0.18013371363866418, 'min_child_weight': 6, 'max_depth': 4, 'colsample_bytree': 0.3498461400609057, 'subsample': 0.7778077385504134, 'reg_alpha': 0.0062845358553277, 'reg_lambda': 0.006626051056754231, 'gamma': 0.04642603888371002}. Best is trial 60 with value: 0.4843437417371025.\n",
            "[I 2024-05-24 21:36:40,862] Trial 68 finished with value: 0.46099775307030677 and parameters: {'learning_rate': 0.1471363127762396, 'min_child_weight': 5, 'max_depth': 4, 'colsample_bytree': 0.5289532515171108, 'subsample': 0.9645870422349532, 'reg_alpha': 0.002579859286068685, 'reg_lambda': 0.013011717822478366, 'gamma': 0.010333261641920891}. Best is trial 60 with value: 0.4843437417371025.\n",
            "[I 2024-05-24 21:36:41,666] Trial 69 finished with value: 0.456067452046142 and parameters: {'learning_rate': 0.12075638250528951, 'min_child_weight': 6, 'max_depth': 3, 'colsample_bytree': 0.26236432613781624, 'subsample': 0.8916555287269516, 'reg_alpha': 0.0077501814126956685, 'reg_lambda': 0.003638110526318562, 'gamma': 0.07342780275110271}. Best is trial 60 with value: 0.4843437417371025.\n",
            "[I 2024-05-24 21:36:45,107] Trial 70 finished with value: 0.46680388627044955 and parameters: {'learning_rate': 0.28168576899850317, 'min_child_weight': 7, 'max_depth': 4, 'colsample_bytree': 0.6102163639311371, 'subsample': 0.7221280333403295, 'reg_alpha': 0.004266468174296018, 'reg_lambda': 0.008171417941763931, 'gamma': 0.03204299130518446}. Best is trial 60 with value: 0.4843437417371025.\n",
            "[I 2024-05-24 21:36:47,424] Trial 71 finished with value: 0.46630590355756363 and parameters: {'learning_rate': 0.20797064998700904, 'min_child_weight': 5, 'max_depth': 4, 'colsample_bytree': 0.9506387548757399, 'subsample': 0.7647518291599062, 'reg_alpha': 0.003609324132689753, 'reg_lambda': 0.0807027172211912, 'gamma': 0.018488928801073536}. Best is trial 60 with value: 0.4843437417371025.\n",
            "[I 2024-05-24 21:36:52,679] Trial 72 finished with value: 0.4698674899476748 and parameters: {'learning_rate': 0.13582417550706327, 'min_child_weight': 4, 'max_depth': 4, 'colsample_bytree': 0.9791985405695047, 'subsample': 0.8181325743958372, 'reg_alpha': 0.004980473877176186, 'reg_lambda': 0.06345841323680011, 'gamma': 0.046161261387492866}. Best is trial 60 with value: 0.4843437417371025.\n",
            "[I 2024-05-24 21:37:01,929] Trial 73 finished with value: 0.48220850066634047 and parameters: {'learning_rate': 0.15587583381359793, 'min_child_weight': 6, 'max_depth': 4, 'colsample_bytree': 0.46919370244346126, 'subsample': 0.857995838824868, 'reg_alpha': 0.0029301498774970862, 'reg_lambda': 0.021423581413842617, 'gamma': 0.00048031125622725635}. Best is trial 60 with value: 0.4843437417371025.\n",
            "[I 2024-05-24 21:37:07,611] Trial 74 finished with value: 0.4765016251867049 and parameters: {'learning_rate': 0.15805273116050733, 'min_child_weight': 6, 'max_depth': 4, 'colsample_bytree': 0.47194499963706527, 'subsample': 0.9449396267756316, 'reg_alpha': 0.002394599318555253, 'reg_lambda': 0.017791178106083008, 'gamma': 0.02610002428825232}. Best is trial 60 with value: 0.4843437417371025.\n",
            "[I 2024-05-24 21:37:14,710] Trial 75 finished with value: 0.47296256227211925 and parameters: {'learning_rate': 0.2029601167954561, 'min_child_weight': 7, 'max_depth': 4, 'colsample_bytree': 0.5689083243071815, 'subsample': 0.8648353146772583, 'reg_alpha': 0.0029670809749703293, 'reg_lambda': 0.010552057802651161, 'gamma': 0.013494528039364484}. Best is trial 60 with value: 0.4843437417371025.\n",
            "[I 2024-05-24 21:37:18,151] Trial 76 finished with value: 0.4778225974502456 and parameters: {'learning_rate': 0.23180961241749418, 'min_child_weight': 6, 'max_depth': 4, 'colsample_bytree': 0.44242729745981535, 'subsample': 0.9805176454096778, 'reg_alpha': 0.0017637749608329265, 'reg_lambda': 0.02989208956547838, 'gamma': 0.00030153138966508596}. Best is trial 60 with value: 0.4843437417371025.\n",
            "[I 2024-05-24 21:37:19,185] Trial 77 finished with value: 0.4853790238220156 and parameters: {'learning_rate': 0.17964828925687254, 'min_child_weight': 6, 'max_depth': 4, 'colsample_bytree': 0.4647134741868461, 'subsample': 0.9085743188601628, 'reg_alpha': 0.003629497289302513, 'reg_lambda': 0.020008893020220495, 'gamma': 0.04120774703721249}. Best is trial 77 with value: 0.4853790238220156.\n",
            "[I 2024-05-24 21:37:19,867] Trial 78 finished with value: 0.45838499076582506 and parameters: {'learning_rate': 0.1824650746254581, 'min_child_weight': 5, 'max_depth': 2, 'colsample_bytree': 0.41569331478467425, 'subsample': 0.9074956206847588, 'reg_alpha': 0.0034948360363919856, 'reg_lambda': 0.02464207311627692, 'gamma': 0.0025525436341522403}. Best is trial 77 with value: 0.4853790238220156.\n",
            "[I 2024-05-24 21:37:20,895] Trial 79 finished with value: 0.47299670550410405 and parameters: {'learning_rate': 0.27136119238595896, 'min_child_weight': 8, 'max_depth': 4, 'colsample_bytree': 0.528590716505028, 'subsample': 0.8495048370900535, 'reg_alpha': 0.002259629513894884, 'reg_lambda': 0.02318077265931138, 'gamma': 0.06673740388543428}. Best is trial 77 with value: 0.4853790238220156.\n",
            "[I 2024-05-24 21:37:21,989] Trial 80 finished with value: 0.45104020055627736 and parameters: {'learning_rate': 0.02553343302796558, 'min_child_weight': 6, 'max_depth': 4, 'colsample_bytree': 0.4717275444333731, 'subsample': 0.8774748923750112, 'reg_alpha': 0.0018744191165949286, 'reg_lambda': 0.021896159678843716, 'gamma': 0.09841662550758491}. Best is trial 77 with value: 0.4853790238220156.\n",
            "[I 2024-05-24 21:37:23,031] Trial 81 finished with value: 0.47108777186266926 and parameters: {'learning_rate': 0.1651286352998154, 'min_child_weight': 6, 'max_depth': 4, 'colsample_bytree': 0.5122461222546767, 'subsample': 0.8321606999473915, 'reg_alpha': 0.005499616081000895, 'reg_lambda': 0.011925011790342395, 'gamma': 0.038637442955899}. Best is trial 77 with value: 0.4853790238220156.\n",
            "[I 2024-05-24 21:37:24,009] Trial 82 finished with value: 0.47759935148987526 and parameters: {'learning_rate': 0.1494336475803252, 'min_child_weight': 6, 'max_depth': 4, 'colsample_bytree': 0.3739563116721404, 'subsample': 0.7820921596532262, 'reg_alpha': 0.004147428671969143, 'reg_lambda': 0.006110769251712747, 'gamma': 0.056593286576333696}. Best is trial 77 with value: 0.4853790238220156.\n",
            "[I 2024-05-24 21:37:25,103] Trial 83 finished with value: 0.4455749084064137 and parameters: {'learning_rate': 0.014809896955136412, 'min_child_weight': 7, 'max_depth': 4, 'colsample_bytree': 0.5644794462670064, 'subsample': 0.9313100026981179, 'reg_alpha': 0.0029351137928122595, 'reg_lambda': 0.007483892829135343, 'gamma': 0.02857395137343905}. Best is trial 77 with value: 0.4853790238220156.\n",
            "[I 2024-05-24 21:37:27,815] Trial 84 finished with value: 0.46733752048241045 and parameters: {'learning_rate': 0.110547725294829, 'min_child_weight': 6, 'max_depth': 4, 'colsample_bytree': 0.4392890749697891, 'subsample': 0.9059825103680595, 'reg_alpha': 0.004612831816912173, 'reg_lambda': 0.03760450377895763, 'gamma': 0.02199816316849693}. Best is trial 77 with value: 0.4853790238220156.\n",
            "[I 2024-05-24 21:37:30,323] Trial 85 finished with value: 0.4902677266384255 and parameters: {'learning_rate': 0.12383207707591747, 'min_child_weight': 5, 'max_depth': 4, 'colsample_bytree': 0.46905238052158094, 'subsample': 0.8236466968757384, 'reg_alpha': 0.003685214348877713, 'reg_lambda': 0.05253824861610229, 'gamma': 0.0002250569171273546}. Best is trial 85 with value: 0.4902677266384255.\n",
            "[I 2024-05-24 21:37:31,656] Trial 86 finished with value: 0.4731309552608436 and parameters: {'learning_rate': 0.1302086956076163, 'min_child_weight': 5, 'max_depth': 4, 'colsample_bytree': 0.46140902259697436, 'subsample': 0.8525712673351069, 'reg_alpha': 0.0035596317511299835, 'reg_lambda': 0.05364502814862209, 'gamma': 0.00021008901403755243}. Best is trial 85 with value: 0.4902677266384255.\n",
            "[I 2024-05-24 21:37:32,838] Trial 87 finished with value: 0.47588778071285126 and parameters: {'learning_rate': 0.10138043756211078, 'min_child_weight': 5, 'max_depth': 4, 'colsample_bytree': 0.6580899935667779, 'subsample': 0.8207712437740747, 'reg_alpha': 0.001477476955581488, 'reg_lambda': 0.04122082528054032, 'gamma': 0.0005516388766093494}. Best is trial 85 with value: 0.4902677266384255.\n",
            "[I 2024-05-24 21:37:33,891] Trial 88 finished with value: 0.46842472116104583 and parameters: {'learning_rate': 0.21951861767237854, 'min_child_weight': 5, 'max_depth': 4, 'colsample_bytree': 0.5154044604590041, 'subsample': 0.8963033525770128, 'reg_alpha': 0.0031346388173876874, 'reg_lambda': 0.07103614607763119, 'gamma': 0.00014629793253622582}. Best is trial 85 with value: 0.4902677266384255.\n",
            "[I 2024-05-24 21:37:34,767] Trial 89 finished with value: 0.4625217100882331 and parameters: {'learning_rate': 0.23955949812584595, 'min_child_weight': 5, 'max_depth': 3, 'colsample_bytree': 0.48915056193461365, 'subsample': 0.41474456328886855, 'reg_alpha': 0.002780635115378287, 'reg_lambda': 0.03130116946749598, 'gamma': 0.0002225350165446428}. Best is trial 85 with value: 0.4902677266384255.\n",
            "[I 2024-05-24 21:37:35,835] Trial 90 finished with value: 0.48164809337035397 and parameters: {'learning_rate': 0.18397800716606197, 'min_child_weight': 2, 'max_depth': 4, 'colsample_bytree': 0.43136962884949887, 'subsample': 0.8852799119221582, 'reg_alpha': 0.02037569670948164, 'reg_lambda': 0.0047494216104617785, 'gamma': 0.0003949267761023877}. Best is trial 85 with value: 0.4902677266384255.\n",
            "[I 2024-05-24 21:37:36,866] Trial 91 finished with value: 0.47082929782154537 and parameters: {'learning_rate': 0.18321841911110925, 'min_child_weight': 2, 'max_depth': 4, 'colsample_bytree': 0.3557457580254303, 'subsample': 0.8748231300196853, 'reg_alpha': 0.015248333775500783, 'reg_lambda': 0.004900515538076703, 'gamma': 0.00041872570314627276}. Best is trial 85 with value: 0.4902677266384255.\n",
            "[I 2024-05-24 21:37:37,965] Trial 92 finished with value: 0.4761249240188299 and parameters: {'learning_rate': 0.17134148798950222, 'min_child_weight': 2, 'max_depth': 4, 'colsample_bytree': 0.43186257208574047, 'subsample': 0.7979887620659517, 'reg_alpha': 0.04592099339574902, 'reg_lambda': 0.003185328716398887, 'gamma': 0.0002677034725976749}. Best is trial 85 with value: 0.4902677266384255.\n",
            "[I 2024-05-24 21:37:39,057] Trial 93 finished with value: 0.4662269553971011 and parameters: {'learning_rate': 0.1214533006634097, 'min_child_weight': 2, 'max_depth': 4, 'colsample_bytree': 0.4207198922903435, 'subsample': 0.8327375422859582, 'reg_alpha': 0.00394474512238747, 'reg_lambda': 0.08456489963505612, 'gamma': 0.0003443143529339121}. Best is trial 85 with value: 0.4902677266384255.\n",
            "[I 2024-05-24 21:37:41,522] Trial 94 finished with value: 0.4742512702313473 and parameters: {'learning_rate': 0.20119789487272882, 'min_child_weight': 3, 'max_depth': 4, 'colsample_bytree': 0.4596403259619572, 'subsample': 0.945591170512331, 'reg_alpha': 0.025293934939705658, 'reg_lambda': 0.019791004657727547, 'gamma': 0.00025032399296676306}. Best is trial 85 with value: 0.4902677266384255.\n",
            "[I 2024-05-24 21:37:44,337] Trial 95 finished with value: 0.4829428228173286 and parameters: {'learning_rate': 0.1584055870095742, 'min_child_weight': 4, 'max_depth': 4, 'colsample_bytree': 0.39759813541494055, 'subsample': 0.9129595567283125, 'reg_alpha': 0.018634017271156437, 'reg_lambda': 0.04622752309103663, 'gamma': 0.0004772638525214706}. Best is trial 85 with value: 0.4902677266384255.\n",
            "[I 2024-05-24 21:37:45,310] Trial 96 finished with value: 0.4669920610264864 and parameters: {'learning_rate': 0.15032686296060802, 'min_child_weight': 4, 'max_depth': 4, 'colsample_bytree': 0.323240943650535, 'subsample': 0.9657755615135226, 'reg_alpha': 0.02113495073882541, 'reg_lambda': 0.04858433835630418, 'gamma': 0.0004568811482774069}. Best is trial 85 with value: 0.4902677266384255.\n",
            "[I 2024-05-24 21:37:46,338] Trial 97 finished with value: 0.48581264540886615 and parameters: {'learning_rate': 0.16284545521878008, 'min_child_weight': 5, 'max_depth': 4, 'colsample_bytree': 0.40636994306637453, 'subsample': 0.9190625859383931, 'reg_alpha': 0.019766230294237814, 'reg_lambda': 0.005372149938087558, 'gamma': 0.0009445967305073408}. Best is trial 85 with value: 0.4902677266384255.\n",
            "[I 2024-05-24 21:37:47,346] Trial 98 finished with value: 0.4633913857296946 and parameters: {'learning_rate': 0.07050331142028457, 'min_child_weight': 5, 'max_depth': 4, 'colsample_bytree': 0.3697906017850391, 'subsample': 0.9975753418207145, 'reg_alpha': 0.019336429869403513, 'reg_lambda': 0.005074499722034094, 'gamma': 0.0010539321880748903}. Best is trial 85 with value: 0.4902677266384255.\n",
            "[I 2024-05-24 21:37:48,349] Trial 99 finished with value: 0.4779441593441477 and parameters: {'learning_rate': 0.12512953485657513, 'min_child_weight': 4, 'max_depth': 4, 'colsample_bytree': 0.3994895706512592, 'subsample': 0.9178436533911785, 'reg_alpha': 0.02305592674823245, 'reg_lambda': 0.004597179242194044, 'gamma': 0.0006440455360095613}. Best is trial 85 with value: 0.4902677266384255.\n"
          ]
        },
        {
          "output_type": "stream",
          "name": "stdout",
          "text": [
            "Best trial: ,  {'learning_rate': 0.12383207707591747, 'min_child_weight': 5, 'max_depth': 4, 'colsample_bytree': 0.46905238052158094, 'subsample': 0.8236466968757384, 'reg_alpha': 0.003685214348877713, 'reg_lambda': 0.05253824861610229, 'gamma': 0.0002250569171273546}\n",
            "Best score: ,  0.4902677266384255\n"
          ]
        }
      ]
    },
    {
      "cell_type": "code",
      "source": [
        "# 探索履歴のプロット\n",
        "opt_history = vis.plot_optimization_history(study)\n",
        "opt_history.show()\n",
        "\n",
        "# ハイパーパラメータの重要度のプロット\n",
        "param_importances = vis.plot_param_importances(study)\n",
        "param_importances.show()"
      ],
      "metadata": {
        "colab": {
          "base_uri": "https://localhost:8080/",
          "height": 1000
        },
        "outputId": "e7c37a1d-30ae-4728-897f-9c9baefaddb2",
        "collapsed": true,
        "id": "IjA-QSfmd8Ja"
      },
      "execution_count": null,
      "outputs": [
        {
          "output_type": "display_data",
          "data": {
            "text/html": [
              "<html>\n",
              "<head><meta charset=\"utf-8\" /></head>\n",
              "<body>\n",
              "    <div>            <script src=\"https://cdnjs.cloudflare.com/ajax/libs/mathjax/2.7.5/MathJax.js?config=TeX-AMS-MML_SVG\"></script><script type=\"text/javascript\">if (window.MathJax && window.MathJax.Hub && window.MathJax.Hub.Config) {window.MathJax.Hub.Config({SVG: {font: \"STIX-Web\"}});}</script>                <script type=\"text/javascript\">window.PlotlyConfig = {MathJaxConfig: 'local'};</script>\n",
              "        <script charset=\"utf-8\" src=\"https://cdn.plot.ly/plotly-2.24.1.min.js\"></script>                <div id=\"a2a5baa7-ff9b-4a46-91fd-98b7845821c1\" class=\"plotly-graph-div\" style=\"height:525px; width:100%;\"></div>            <script type=\"text/javascript\">                                    window.PLOTLYENV=window.PLOTLYENV || {};                                    if (document.getElementById(\"a2a5baa7-ff9b-4a46-91fd-98b7845821c1\")) {                    Plotly.newPlot(                        \"a2a5baa7-ff9b-4a46-91fd-98b7845821c1\",                        [{\"mode\":\"markers\",\"name\":\"Objective Value\",\"x\":[0,1,2,3,4,5,6,7,8,9,10,11,12,13,14,15,16,17,18,19,20,21,22,23,24,25,26,27,28,29,30,31,32,33,34,35,36,37,38,39,40,41,42,43,44,45,46,47,48,49,50,51,52,53,54,55,56,57,58,59,60,61,62,63,64,65,66,67,68,69,70,71,72,73,74,75,76,77,78,79,80,81,82,83,84,85,86,87,88,89,90,91,92,93,94,95,96,97,98,99],\"y\":[0.4474457417338537,0.46099339911022535,0.44820593296761624,0.4772883488717567,0.442277969096519,0.45595257804184114,0.4062026511428347,0.4571002527787014,0.46159699887129085,0.47352385562775695,0.4668404575664593,0.47727914962244383,0.4729023072462283,0.44220158036935153,0.4688466755957261,0.47869257299101065,0.4813978935212268,0.4436471016102308,0.4766937713922398,0.4706669912760912,0.4789534173725338,0.46704132394865727,0.4802147794304611,0.4793430808507094,0.4526956880404624,0.4528830961340864,0.46667735066940413,0.4679464579496121,0.4670082183951563,0.4494945628111953,0.47408882620104464,0.491854649903965,0.465332570863648,0.47128532166606396,0.4665713326936249,0.47098332027600043,0.46260367401139496,0.44386871506307957,0.4725583224745359,0.46906182957311,0.4652827231690922,0.48004353217559154,0.4813938512892687,0.4778816708264997,0.45207945714549885,0.4718405216045807,0.4832476131812872,0.4658951286308054,0.4501966961452549,0.4706018949957388,0.4586293659637269,0.47222179956003885,0.4715926377604392,0.47650376406470674,0.4781905581147935,0.48612575662691365,0.45456365442563695,0.4813845047117013,0.4704346977607803,0.463046855608086,0.46856732611806534,0.47163658151000953,0.46600287909348576,0.46392873110552924,0.4685289722697784,0.45235795781819216,0.46065156120411777,0.44280914526219395,0.4626766408737876,0.4779554122946525,0.4785507415054349,0.483963031940016,0.47343741083560786,0.4689359946823973,0.4762909478730585,0.47872942293070386,0.43860710785847334,0.47153121197572984,0.4788113169301972,0.4728688348598949,0.465106449736645,0.4758592757151213,0.47376039445400797,0.4755296233340264,0.4767367884472706,0.44757736985688085,0.46601550504249784,0.4749117252210427,0.4699196141911953,0.4869870084134099,0.48119974449730873,0.47164629580788364,0.4818419402858739,0.48941209300065236,0.46247595974122097,0.4810426594697189,0.46678355217909234,0.4669795837837841,0.47216031687812726,0.47322141882044566],\"type\":\"scatter\"},{\"mode\":\"lines\",\"name\":\"Best Value\",\"x\":[0,1,2,3,4,5,6,7,8,9,10,11,12,13,14,15,16,17,18,19,20,21,22,23,24,25,26,27,28,29,30,31,32,33,34,35,36,37,38,39,40,41,42,43,44,45,46,47,48,49,50,51,52,53,54,55,56,57,58,59,60,61,62,63,64,65,66,67,68,69,70,71,72,73,74,75,76,77,78,79,80,81,82,83,84,85,86,87,88,89,90,91,92,93,94,95,96,97,98,99],\"y\":[0.4474457417338537,0.46099339911022535,0.46099339911022535,0.4772883488717567,0.4772883488717567,0.4772883488717567,0.4772883488717567,0.4772883488717567,0.4772883488717567,0.4772883488717567,0.4772883488717567,0.4772883488717567,0.4772883488717567,0.4772883488717567,0.4772883488717567,0.47869257299101065,0.4813978935212268,0.4813978935212268,0.4813978935212268,0.4813978935212268,0.4813978935212268,0.4813978935212268,0.4813978935212268,0.4813978935212268,0.4813978935212268,0.4813978935212268,0.4813978935212268,0.4813978935212268,0.4813978935212268,0.4813978935212268,0.4813978935212268,0.491854649903965,0.491854649903965,0.491854649903965,0.491854649903965,0.491854649903965,0.491854649903965,0.491854649903965,0.491854649903965,0.491854649903965,0.491854649903965,0.491854649903965,0.491854649903965,0.491854649903965,0.491854649903965,0.491854649903965,0.491854649903965,0.491854649903965,0.491854649903965,0.491854649903965,0.491854649903965,0.491854649903965,0.491854649903965,0.491854649903965,0.491854649903965,0.491854649903965,0.491854649903965,0.491854649903965,0.491854649903965,0.491854649903965,0.491854649903965,0.491854649903965,0.491854649903965,0.491854649903965,0.491854649903965,0.491854649903965,0.491854649903965,0.491854649903965,0.491854649903965,0.491854649903965,0.491854649903965,0.491854649903965,0.491854649903965,0.491854649903965,0.491854649903965,0.491854649903965,0.491854649903965,0.491854649903965,0.491854649903965,0.491854649903965,0.491854649903965,0.491854649903965,0.491854649903965,0.491854649903965,0.491854649903965,0.491854649903965,0.491854649903965,0.491854649903965,0.491854649903965,0.491854649903965,0.491854649903965,0.491854649903965,0.491854649903965,0.491854649903965,0.491854649903965,0.491854649903965,0.491854649903965,0.491854649903965,0.491854649903965,0.491854649903965],\"type\":\"scatter\"},{\"marker\":{\"color\":\"#cccccc\"},\"mode\":\"markers\",\"name\":\"Infeasible Trial\",\"showlegend\":false,\"x\":[],\"y\":[],\"type\":\"scatter\"}],                        {\"title\":{\"text\":\"Optimization History Plot\"},\"xaxis\":{\"title\":{\"text\":\"Trial\"}},\"yaxis\":{\"title\":{\"text\":\"Objective Value\"}},\"template\":{\"data\":{\"histogram2dcontour\":[{\"type\":\"histogram2dcontour\",\"colorbar\":{\"outlinewidth\":0,\"ticks\":\"\"},\"colorscale\":[[0.0,\"#0d0887\"],[0.1111111111111111,\"#46039f\"],[0.2222222222222222,\"#7201a8\"],[0.3333333333333333,\"#9c179e\"],[0.4444444444444444,\"#bd3786\"],[0.5555555555555556,\"#d8576b\"],[0.6666666666666666,\"#ed7953\"],[0.7777777777777778,\"#fb9f3a\"],[0.8888888888888888,\"#fdca26\"],[1.0,\"#f0f921\"]]}],\"choropleth\":[{\"type\":\"choropleth\",\"colorbar\":{\"outlinewidth\":0,\"ticks\":\"\"}}],\"histogram2d\":[{\"type\":\"histogram2d\",\"colorbar\":{\"outlinewidth\":0,\"ticks\":\"\"},\"colorscale\":[[0.0,\"#0d0887\"],[0.1111111111111111,\"#46039f\"],[0.2222222222222222,\"#7201a8\"],[0.3333333333333333,\"#9c179e\"],[0.4444444444444444,\"#bd3786\"],[0.5555555555555556,\"#d8576b\"],[0.6666666666666666,\"#ed7953\"],[0.7777777777777778,\"#fb9f3a\"],[0.8888888888888888,\"#fdca26\"],[1.0,\"#f0f921\"]]}],\"heatmap\":[{\"type\":\"heatmap\",\"colorbar\":{\"outlinewidth\":0,\"ticks\":\"\"},\"colorscale\":[[0.0,\"#0d0887\"],[0.1111111111111111,\"#46039f\"],[0.2222222222222222,\"#7201a8\"],[0.3333333333333333,\"#9c179e\"],[0.4444444444444444,\"#bd3786\"],[0.5555555555555556,\"#d8576b\"],[0.6666666666666666,\"#ed7953\"],[0.7777777777777778,\"#fb9f3a\"],[0.8888888888888888,\"#fdca26\"],[1.0,\"#f0f921\"]]}],\"heatmapgl\":[{\"type\":\"heatmapgl\",\"colorbar\":{\"outlinewidth\":0,\"ticks\":\"\"},\"colorscale\":[[0.0,\"#0d0887\"],[0.1111111111111111,\"#46039f\"],[0.2222222222222222,\"#7201a8\"],[0.3333333333333333,\"#9c179e\"],[0.4444444444444444,\"#bd3786\"],[0.5555555555555556,\"#d8576b\"],[0.6666666666666666,\"#ed7953\"],[0.7777777777777778,\"#fb9f3a\"],[0.8888888888888888,\"#fdca26\"],[1.0,\"#f0f921\"]]}],\"contourcarpet\":[{\"type\":\"contourcarpet\",\"colorbar\":{\"outlinewidth\":0,\"ticks\":\"\"}}],\"contour\":[{\"type\":\"contour\",\"colorbar\":{\"outlinewidth\":0,\"ticks\":\"\"},\"colorscale\":[[0.0,\"#0d0887\"],[0.1111111111111111,\"#46039f\"],[0.2222222222222222,\"#7201a8\"],[0.3333333333333333,\"#9c179e\"],[0.4444444444444444,\"#bd3786\"],[0.5555555555555556,\"#d8576b\"],[0.6666666666666666,\"#ed7953\"],[0.7777777777777778,\"#fb9f3a\"],[0.8888888888888888,\"#fdca26\"],[1.0,\"#f0f921\"]]}],\"surface\":[{\"type\":\"surface\",\"colorbar\":{\"outlinewidth\":0,\"ticks\":\"\"},\"colorscale\":[[0.0,\"#0d0887\"],[0.1111111111111111,\"#46039f\"],[0.2222222222222222,\"#7201a8\"],[0.3333333333333333,\"#9c179e\"],[0.4444444444444444,\"#bd3786\"],[0.5555555555555556,\"#d8576b\"],[0.6666666666666666,\"#ed7953\"],[0.7777777777777778,\"#fb9f3a\"],[0.8888888888888888,\"#fdca26\"],[1.0,\"#f0f921\"]]}],\"mesh3d\":[{\"type\":\"mesh3d\",\"colorbar\":{\"outlinewidth\":0,\"ticks\":\"\"}}],\"scatter\":[{\"fillpattern\":{\"fillmode\":\"overlay\",\"size\":10,\"solidity\":0.2},\"type\":\"scatter\"}],\"parcoords\":[{\"type\":\"parcoords\",\"line\":{\"colorbar\":{\"outlinewidth\":0,\"ticks\":\"\"}}}],\"scatterpolargl\":[{\"type\":\"scatterpolargl\",\"marker\":{\"colorbar\":{\"outlinewidth\":0,\"ticks\":\"\"}}}],\"bar\":[{\"error_x\":{\"color\":\"#2a3f5f\"},\"error_y\":{\"color\":\"#2a3f5f\"},\"marker\":{\"line\":{\"color\":\"#E5ECF6\",\"width\":0.5},\"pattern\":{\"fillmode\":\"overlay\",\"size\":10,\"solidity\":0.2}},\"type\":\"bar\"}],\"scattergeo\":[{\"type\":\"scattergeo\",\"marker\":{\"colorbar\":{\"outlinewidth\":0,\"ticks\":\"\"}}}],\"scatterpolar\":[{\"type\":\"scatterpolar\",\"marker\":{\"colorbar\":{\"outlinewidth\":0,\"ticks\":\"\"}}}],\"histogram\":[{\"marker\":{\"pattern\":{\"fillmode\":\"overlay\",\"size\":10,\"solidity\":0.2}},\"type\":\"histogram\"}],\"scattergl\":[{\"type\":\"scattergl\",\"marker\":{\"colorbar\":{\"outlinewidth\":0,\"ticks\":\"\"}}}],\"scatter3d\":[{\"type\":\"scatter3d\",\"line\":{\"colorbar\":{\"outlinewidth\":0,\"ticks\":\"\"}},\"marker\":{\"colorbar\":{\"outlinewidth\":0,\"ticks\":\"\"}}}],\"scattermapbox\":[{\"type\":\"scattermapbox\",\"marker\":{\"colorbar\":{\"outlinewidth\":0,\"ticks\":\"\"}}}],\"scatterternary\":[{\"type\":\"scatterternary\",\"marker\":{\"colorbar\":{\"outlinewidth\":0,\"ticks\":\"\"}}}],\"scattercarpet\":[{\"type\":\"scattercarpet\",\"marker\":{\"colorbar\":{\"outlinewidth\":0,\"ticks\":\"\"}}}],\"carpet\":[{\"aaxis\":{\"endlinecolor\":\"#2a3f5f\",\"gridcolor\":\"white\",\"linecolor\":\"white\",\"minorgridcolor\":\"white\",\"startlinecolor\":\"#2a3f5f\"},\"baxis\":{\"endlinecolor\":\"#2a3f5f\",\"gridcolor\":\"white\",\"linecolor\":\"white\",\"minorgridcolor\":\"white\",\"startlinecolor\":\"#2a3f5f\"},\"type\":\"carpet\"}],\"table\":[{\"cells\":{\"fill\":{\"color\":\"#EBF0F8\"},\"line\":{\"color\":\"white\"}},\"header\":{\"fill\":{\"color\":\"#C8D4E3\"},\"line\":{\"color\":\"white\"}},\"type\":\"table\"}],\"barpolar\":[{\"marker\":{\"line\":{\"color\":\"#E5ECF6\",\"width\":0.5},\"pattern\":{\"fillmode\":\"overlay\",\"size\":10,\"solidity\":0.2}},\"type\":\"barpolar\"}],\"pie\":[{\"automargin\":true,\"type\":\"pie\"}]},\"layout\":{\"autotypenumbers\":\"strict\",\"colorway\":[\"#636efa\",\"#EF553B\",\"#00cc96\",\"#ab63fa\",\"#FFA15A\",\"#19d3f3\",\"#FF6692\",\"#B6E880\",\"#FF97FF\",\"#FECB52\"],\"font\":{\"color\":\"#2a3f5f\"},\"hovermode\":\"closest\",\"hoverlabel\":{\"align\":\"left\"},\"paper_bgcolor\":\"white\",\"plot_bgcolor\":\"#E5ECF6\",\"polar\":{\"bgcolor\":\"#E5ECF6\",\"angularaxis\":{\"gridcolor\":\"white\",\"linecolor\":\"white\",\"ticks\":\"\"},\"radialaxis\":{\"gridcolor\":\"white\",\"linecolor\":\"white\",\"ticks\":\"\"}},\"ternary\":{\"bgcolor\":\"#E5ECF6\",\"aaxis\":{\"gridcolor\":\"white\",\"linecolor\":\"white\",\"ticks\":\"\"},\"baxis\":{\"gridcolor\":\"white\",\"linecolor\":\"white\",\"ticks\":\"\"},\"caxis\":{\"gridcolor\":\"white\",\"linecolor\":\"white\",\"ticks\":\"\"}},\"coloraxis\":{\"colorbar\":{\"outlinewidth\":0,\"ticks\":\"\"}},\"colorscale\":{\"sequential\":[[0.0,\"#0d0887\"],[0.1111111111111111,\"#46039f\"],[0.2222222222222222,\"#7201a8\"],[0.3333333333333333,\"#9c179e\"],[0.4444444444444444,\"#bd3786\"],[0.5555555555555556,\"#d8576b\"],[0.6666666666666666,\"#ed7953\"],[0.7777777777777778,\"#fb9f3a\"],[0.8888888888888888,\"#fdca26\"],[1.0,\"#f0f921\"]],\"sequentialminus\":[[0.0,\"#0d0887\"],[0.1111111111111111,\"#46039f\"],[0.2222222222222222,\"#7201a8\"],[0.3333333333333333,\"#9c179e\"],[0.4444444444444444,\"#bd3786\"],[0.5555555555555556,\"#d8576b\"],[0.6666666666666666,\"#ed7953\"],[0.7777777777777778,\"#fb9f3a\"],[0.8888888888888888,\"#fdca26\"],[1.0,\"#f0f921\"]],\"diverging\":[[0,\"#8e0152\"],[0.1,\"#c51b7d\"],[0.2,\"#de77ae\"],[0.3,\"#f1b6da\"],[0.4,\"#fde0ef\"],[0.5,\"#f7f7f7\"],[0.6,\"#e6f5d0\"],[0.7,\"#b8e186\"],[0.8,\"#7fbc41\"],[0.9,\"#4d9221\"],[1,\"#276419\"]]},\"xaxis\":{\"gridcolor\":\"white\",\"linecolor\":\"white\",\"ticks\":\"\",\"title\":{\"standoff\":15},\"zerolinecolor\":\"white\",\"automargin\":true,\"zerolinewidth\":2},\"yaxis\":{\"gridcolor\":\"white\",\"linecolor\":\"white\",\"ticks\":\"\",\"title\":{\"standoff\":15},\"zerolinecolor\":\"white\",\"automargin\":true,\"zerolinewidth\":2},\"scene\":{\"xaxis\":{\"backgroundcolor\":\"#E5ECF6\",\"gridcolor\":\"white\",\"linecolor\":\"white\",\"showbackground\":true,\"ticks\":\"\",\"zerolinecolor\":\"white\",\"gridwidth\":2},\"yaxis\":{\"backgroundcolor\":\"#E5ECF6\",\"gridcolor\":\"white\",\"linecolor\":\"white\",\"showbackground\":true,\"ticks\":\"\",\"zerolinecolor\":\"white\",\"gridwidth\":2},\"zaxis\":{\"backgroundcolor\":\"#E5ECF6\",\"gridcolor\":\"white\",\"linecolor\":\"white\",\"showbackground\":true,\"ticks\":\"\",\"zerolinecolor\":\"white\",\"gridwidth\":2}},\"shapedefaults\":{\"line\":{\"color\":\"#2a3f5f\"}},\"annotationdefaults\":{\"arrowcolor\":\"#2a3f5f\",\"arrowhead\":0,\"arrowwidth\":1},\"geo\":{\"bgcolor\":\"white\",\"landcolor\":\"#E5ECF6\",\"subunitcolor\":\"white\",\"showland\":true,\"showlakes\":true,\"lakecolor\":\"white\"},\"title\":{\"x\":0.05},\"mapbox\":{\"style\":\"light\"}}}},                        {\"responsive\": true}                    ).then(function(){\n",
              "                            \n",
              "var gd = document.getElementById('a2a5baa7-ff9b-4a46-91fd-98b7845821c1');\n",
              "var x = new MutationObserver(function (mutations, observer) {{\n",
              "        var display = window.getComputedStyle(gd).display;\n",
              "        if (!display || display === 'none') {{\n",
              "            console.log([gd, 'removed!']);\n",
              "            Plotly.purge(gd);\n",
              "            observer.disconnect();\n",
              "        }}\n",
              "}});\n",
              "\n",
              "// Listen for the removal of the full notebook cells\n",
              "var notebookContainer = gd.closest('#notebook-container');\n",
              "if (notebookContainer) {{\n",
              "    x.observe(notebookContainer, {childList: true});\n",
              "}}\n",
              "\n",
              "// Listen for the clearing of the current output cell\n",
              "var outputEl = gd.closest('.output');\n",
              "if (outputEl) {{\n",
              "    x.observe(outputEl, {childList: true});\n",
              "}}\n",
              "\n",
              "                        })                };                            </script>        </div>\n",
              "</body>\n",
              "</html>"
            ]
          },
          "metadata": {}
        },
        {
          "output_type": "display_data",
          "data": {
            "text/html": [
              "<html>\n",
              "<head><meta charset=\"utf-8\" /></head>\n",
              "<body>\n",
              "    <div>            <script src=\"https://cdnjs.cloudflare.com/ajax/libs/mathjax/2.7.5/MathJax.js?config=TeX-AMS-MML_SVG\"></script><script type=\"text/javascript\">if (window.MathJax && window.MathJax.Hub && window.MathJax.Hub.Config) {window.MathJax.Hub.Config({SVG: {font: \"STIX-Web\"}});}</script>                <script type=\"text/javascript\">window.PlotlyConfig = {MathJaxConfig: 'local'};</script>\n",
              "        <script charset=\"utf-8\" src=\"https://cdn.plot.ly/plotly-2.24.1.min.js\"></script>                <div id=\"6e5ac0f0-f24d-4407-add1-1da30de8e829\" class=\"plotly-graph-div\" style=\"height:525px; width:100%;\"></div>            <script type=\"text/javascript\">                                    window.PLOTLYENV=window.PLOTLYENV || {};                                    if (document.getElementById(\"6e5ac0f0-f24d-4407-add1-1da30de8e829\")) {                    Plotly.newPlot(                        \"6e5ac0f0-f24d-4407-add1-1da30de8e829\",                        [{\"cliponaxis\":false,\"hovertemplate\":[\"gamma (FloatDistribution): 0.006472665625747542\\u003cextra\\u003e\\u003c\\u002fextra\\u003e\",\"min_child_weight (IntDistribution): 0.011980414158820951\\u003cextra\\u003e\\u003c\\u002fextra\\u003e\",\"reg_alpha (FloatDistribution): 0.01402006607444518\\u003cextra\\u003e\\u003c\\u002fextra\\u003e\",\"colsample_bytree (FloatDistribution): 0.03724508102356054\\u003cextra\\u003e\\u003c\\u002fextra\\u003e\",\"reg_lambda (FloatDistribution): 0.04044053069716509\\u003cextra\\u003e\\u003c\\u002fextra\\u003e\",\"max_depth (IntDistribution): 0.19847986428521863\\u003cextra\\u003e\\u003c\\u002fextra\\u003e\",\"subsample (FloatDistribution): 0.25633763671762244\\u003cextra\\u003e\\u003c\\u002fextra\\u003e\",\"learning_rate (FloatDistribution): 0.4350237414174198\\u003cextra\\u003e\\u003c\\u002fextra\\u003e\"],\"name\":\"Objective Value\",\"orientation\":\"h\",\"text\":[\"\\u003c0.01\",\"0.01\",\"0.01\",\"0.04\",\"0.04\",\"0.20\",\"0.26\",\"0.44\"],\"textposition\":\"outside\",\"x\":[0.006472665625747542,0.011980414158820951,0.01402006607444518,0.03724508102356054,0.04044053069716509,0.19847986428521863,0.25633763671762244,0.4350237414174198],\"y\":[\"gamma\",\"min_child_weight\",\"reg_alpha\",\"colsample_bytree\",\"reg_lambda\",\"max_depth\",\"subsample\",\"learning_rate\"],\"type\":\"bar\"}],                        {\"title\":{\"text\":\"Hyperparameter Importances\"},\"xaxis\":{\"title\":{\"text\":\"Hyperparameter Importance\"}},\"yaxis\":{\"title\":{\"text\":\"Hyperparameter\"}},\"template\":{\"data\":{\"histogram2dcontour\":[{\"type\":\"histogram2dcontour\",\"colorbar\":{\"outlinewidth\":0,\"ticks\":\"\"},\"colorscale\":[[0.0,\"#0d0887\"],[0.1111111111111111,\"#46039f\"],[0.2222222222222222,\"#7201a8\"],[0.3333333333333333,\"#9c179e\"],[0.4444444444444444,\"#bd3786\"],[0.5555555555555556,\"#d8576b\"],[0.6666666666666666,\"#ed7953\"],[0.7777777777777778,\"#fb9f3a\"],[0.8888888888888888,\"#fdca26\"],[1.0,\"#f0f921\"]]}],\"choropleth\":[{\"type\":\"choropleth\",\"colorbar\":{\"outlinewidth\":0,\"ticks\":\"\"}}],\"histogram2d\":[{\"type\":\"histogram2d\",\"colorbar\":{\"outlinewidth\":0,\"ticks\":\"\"},\"colorscale\":[[0.0,\"#0d0887\"],[0.1111111111111111,\"#46039f\"],[0.2222222222222222,\"#7201a8\"],[0.3333333333333333,\"#9c179e\"],[0.4444444444444444,\"#bd3786\"],[0.5555555555555556,\"#d8576b\"],[0.6666666666666666,\"#ed7953\"],[0.7777777777777778,\"#fb9f3a\"],[0.8888888888888888,\"#fdca26\"],[1.0,\"#f0f921\"]]}],\"heatmap\":[{\"type\":\"heatmap\",\"colorbar\":{\"outlinewidth\":0,\"ticks\":\"\"},\"colorscale\":[[0.0,\"#0d0887\"],[0.1111111111111111,\"#46039f\"],[0.2222222222222222,\"#7201a8\"],[0.3333333333333333,\"#9c179e\"],[0.4444444444444444,\"#bd3786\"],[0.5555555555555556,\"#d8576b\"],[0.6666666666666666,\"#ed7953\"],[0.7777777777777778,\"#fb9f3a\"],[0.8888888888888888,\"#fdca26\"],[1.0,\"#f0f921\"]]}],\"heatmapgl\":[{\"type\":\"heatmapgl\",\"colorbar\":{\"outlinewidth\":0,\"ticks\":\"\"},\"colorscale\":[[0.0,\"#0d0887\"],[0.1111111111111111,\"#46039f\"],[0.2222222222222222,\"#7201a8\"],[0.3333333333333333,\"#9c179e\"],[0.4444444444444444,\"#bd3786\"],[0.5555555555555556,\"#d8576b\"],[0.6666666666666666,\"#ed7953\"],[0.7777777777777778,\"#fb9f3a\"],[0.8888888888888888,\"#fdca26\"],[1.0,\"#f0f921\"]]}],\"contourcarpet\":[{\"type\":\"contourcarpet\",\"colorbar\":{\"outlinewidth\":0,\"ticks\":\"\"}}],\"contour\":[{\"type\":\"contour\",\"colorbar\":{\"outlinewidth\":0,\"ticks\":\"\"},\"colorscale\":[[0.0,\"#0d0887\"],[0.1111111111111111,\"#46039f\"],[0.2222222222222222,\"#7201a8\"],[0.3333333333333333,\"#9c179e\"],[0.4444444444444444,\"#bd3786\"],[0.5555555555555556,\"#d8576b\"],[0.6666666666666666,\"#ed7953\"],[0.7777777777777778,\"#fb9f3a\"],[0.8888888888888888,\"#fdca26\"],[1.0,\"#f0f921\"]]}],\"surface\":[{\"type\":\"surface\",\"colorbar\":{\"outlinewidth\":0,\"ticks\":\"\"},\"colorscale\":[[0.0,\"#0d0887\"],[0.1111111111111111,\"#46039f\"],[0.2222222222222222,\"#7201a8\"],[0.3333333333333333,\"#9c179e\"],[0.4444444444444444,\"#bd3786\"],[0.5555555555555556,\"#d8576b\"],[0.6666666666666666,\"#ed7953\"],[0.7777777777777778,\"#fb9f3a\"],[0.8888888888888888,\"#fdca26\"],[1.0,\"#f0f921\"]]}],\"mesh3d\":[{\"type\":\"mesh3d\",\"colorbar\":{\"outlinewidth\":0,\"ticks\":\"\"}}],\"scatter\":[{\"fillpattern\":{\"fillmode\":\"overlay\",\"size\":10,\"solidity\":0.2},\"type\":\"scatter\"}],\"parcoords\":[{\"type\":\"parcoords\",\"line\":{\"colorbar\":{\"outlinewidth\":0,\"ticks\":\"\"}}}],\"scatterpolargl\":[{\"type\":\"scatterpolargl\",\"marker\":{\"colorbar\":{\"outlinewidth\":0,\"ticks\":\"\"}}}],\"bar\":[{\"error_x\":{\"color\":\"#2a3f5f\"},\"error_y\":{\"color\":\"#2a3f5f\"},\"marker\":{\"line\":{\"color\":\"#E5ECF6\",\"width\":0.5},\"pattern\":{\"fillmode\":\"overlay\",\"size\":10,\"solidity\":0.2}},\"type\":\"bar\"}],\"scattergeo\":[{\"type\":\"scattergeo\",\"marker\":{\"colorbar\":{\"outlinewidth\":0,\"ticks\":\"\"}}}],\"scatterpolar\":[{\"type\":\"scatterpolar\",\"marker\":{\"colorbar\":{\"outlinewidth\":0,\"ticks\":\"\"}}}],\"histogram\":[{\"marker\":{\"pattern\":{\"fillmode\":\"overlay\",\"size\":10,\"solidity\":0.2}},\"type\":\"histogram\"}],\"scattergl\":[{\"type\":\"scattergl\",\"marker\":{\"colorbar\":{\"outlinewidth\":0,\"ticks\":\"\"}}}],\"scatter3d\":[{\"type\":\"scatter3d\",\"line\":{\"colorbar\":{\"outlinewidth\":0,\"ticks\":\"\"}},\"marker\":{\"colorbar\":{\"outlinewidth\":0,\"ticks\":\"\"}}}],\"scattermapbox\":[{\"type\":\"scattermapbox\",\"marker\":{\"colorbar\":{\"outlinewidth\":0,\"ticks\":\"\"}}}],\"scatterternary\":[{\"type\":\"scatterternary\",\"marker\":{\"colorbar\":{\"outlinewidth\":0,\"ticks\":\"\"}}}],\"scattercarpet\":[{\"type\":\"scattercarpet\",\"marker\":{\"colorbar\":{\"outlinewidth\":0,\"ticks\":\"\"}}}],\"carpet\":[{\"aaxis\":{\"endlinecolor\":\"#2a3f5f\",\"gridcolor\":\"white\",\"linecolor\":\"white\",\"minorgridcolor\":\"white\",\"startlinecolor\":\"#2a3f5f\"},\"baxis\":{\"endlinecolor\":\"#2a3f5f\",\"gridcolor\":\"white\",\"linecolor\":\"white\",\"minorgridcolor\":\"white\",\"startlinecolor\":\"#2a3f5f\"},\"type\":\"carpet\"}],\"table\":[{\"cells\":{\"fill\":{\"color\":\"#EBF0F8\"},\"line\":{\"color\":\"white\"}},\"header\":{\"fill\":{\"color\":\"#C8D4E3\"},\"line\":{\"color\":\"white\"}},\"type\":\"table\"}],\"barpolar\":[{\"marker\":{\"line\":{\"color\":\"#E5ECF6\",\"width\":0.5},\"pattern\":{\"fillmode\":\"overlay\",\"size\":10,\"solidity\":0.2}},\"type\":\"barpolar\"}],\"pie\":[{\"automargin\":true,\"type\":\"pie\"}]},\"layout\":{\"autotypenumbers\":\"strict\",\"colorway\":[\"#636efa\",\"#EF553B\",\"#00cc96\",\"#ab63fa\",\"#FFA15A\",\"#19d3f3\",\"#FF6692\",\"#B6E880\",\"#FF97FF\",\"#FECB52\"],\"font\":{\"color\":\"#2a3f5f\"},\"hovermode\":\"closest\",\"hoverlabel\":{\"align\":\"left\"},\"paper_bgcolor\":\"white\",\"plot_bgcolor\":\"#E5ECF6\",\"polar\":{\"bgcolor\":\"#E5ECF6\",\"angularaxis\":{\"gridcolor\":\"white\",\"linecolor\":\"white\",\"ticks\":\"\"},\"radialaxis\":{\"gridcolor\":\"white\",\"linecolor\":\"white\",\"ticks\":\"\"}},\"ternary\":{\"bgcolor\":\"#E5ECF6\",\"aaxis\":{\"gridcolor\":\"white\",\"linecolor\":\"white\",\"ticks\":\"\"},\"baxis\":{\"gridcolor\":\"white\",\"linecolor\":\"white\",\"ticks\":\"\"},\"caxis\":{\"gridcolor\":\"white\",\"linecolor\":\"white\",\"ticks\":\"\"}},\"coloraxis\":{\"colorbar\":{\"outlinewidth\":0,\"ticks\":\"\"}},\"colorscale\":{\"sequential\":[[0.0,\"#0d0887\"],[0.1111111111111111,\"#46039f\"],[0.2222222222222222,\"#7201a8\"],[0.3333333333333333,\"#9c179e\"],[0.4444444444444444,\"#bd3786\"],[0.5555555555555556,\"#d8576b\"],[0.6666666666666666,\"#ed7953\"],[0.7777777777777778,\"#fb9f3a\"],[0.8888888888888888,\"#fdca26\"],[1.0,\"#f0f921\"]],\"sequentialminus\":[[0.0,\"#0d0887\"],[0.1111111111111111,\"#46039f\"],[0.2222222222222222,\"#7201a8\"],[0.3333333333333333,\"#9c179e\"],[0.4444444444444444,\"#bd3786\"],[0.5555555555555556,\"#d8576b\"],[0.6666666666666666,\"#ed7953\"],[0.7777777777777778,\"#fb9f3a\"],[0.8888888888888888,\"#fdca26\"],[1.0,\"#f0f921\"]],\"diverging\":[[0,\"#8e0152\"],[0.1,\"#c51b7d\"],[0.2,\"#de77ae\"],[0.3,\"#f1b6da\"],[0.4,\"#fde0ef\"],[0.5,\"#f7f7f7\"],[0.6,\"#e6f5d0\"],[0.7,\"#b8e186\"],[0.8,\"#7fbc41\"],[0.9,\"#4d9221\"],[1,\"#276419\"]]},\"xaxis\":{\"gridcolor\":\"white\",\"linecolor\":\"white\",\"ticks\":\"\",\"title\":{\"standoff\":15},\"zerolinecolor\":\"white\",\"automargin\":true,\"zerolinewidth\":2},\"yaxis\":{\"gridcolor\":\"white\",\"linecolor\":\"white\",\"ticks\":\"\",\"title\":{\"standoff\":15},\"zerolinecolor\":\"white\",\"automargin\":true,\"zerolinewidth\":2},\"scene\":{\"xaxis\":{\"backgroundcolor\":\"#E5ECF6\",\"gridcolor\":\"white\",\"linecolor\":\"white\",\"showbackground\":true,\"ticks\":\"\",\"zerolinecolor\":\"white\",\"gridwidth\":2},\"yaxis\":{\"backgroundcolor\":\"#E5ECF6\",\"gridcolor\":\"white\",\"linecolor\":\"white\",\"showbackground\":true,\"ticks\":\"\",\"zerolinecolor\":\"white\",\"gridwidth\":2},\"zaxis\":{\"backgroundcolor\":\"#E5ECF6\",\"gridcolor\":\"white\",\"linecolor\":\"white\",\"showbackground\":true,\"ticks\":\"\",\"zerolinecolor\":\"white\",\"gridwidth\":2}},\"shapedefaults\":{\"line\":{\"color\":\"#2a3f5f\"}},\"annotationdefaults\":{\"arrowcolor\":\"#2a3f5f\",\"arrowhead\":0,\"arrowwidth\":1},\"geo\":{\"bgcolor\":\"white\",\"landcolor\":\"#E5ECF6\",\"subunitcolor\":\"white\",\"showland\":true,\"showlakes\":true,\"lakecolor\":\"white\"},\"title\":{\"x\":0.05},\"mapbox\":{\"style\":\"light\"}}}},                        {\"responsive\": true}                    ).then(function(){\n",
              "                            \n",
              "var gd = document.getElementById('6e5ac0f0-f24d-4407-add1-1da30de8e829');\n",
              "var x = new MutationObserver(function (mutations, observer) {{\n",
              "        var display = window.getComputedStyle(gd).display;\n",
              "        if (!display || display === 'none') {{\n",
              "            console.log([gd, 'removed!']);\n",
              "            Plotly.purge(gd);\n",
              "            observer.disconnect();\n",
              "        }}\n",
              "}});\n",
              "\n",
              "// Listen for the removal of the full notebook cells\n",
              "var notebookContainer = gd.closest('#notebook-container');\n",
              "if (notebookContainer) {{\n",
              "    x.observe(notebookContainer, {childList: true});\n",
              "}}\n",
              "\n",
              "// Listen for the clearing of the current output cell\n",
              "var outputEl = gd.closest('.output');\n",
              "if (outputEl) {{\n",
              "    x.observe(outputEl, {childList: true});\n",
              "}}\n",
              "\n",
              "                        })                };                            </script>        </div>\n",
              "</body>\n",
              "</html>"
            ]
          },
          "metadata": {}
        }
      ]
    },
    {
      "cell_type": "code",
      "source": [
        "# ベストパラメータを使ってモデルの訓練\n",
        "\n",
        "# Best trial: {'learning_rate': 0.12383207707591747, 'min_child_weight': 5, 'max_depth': 4, 'colsample_bytree': 0.46905238052158094, 'subsample': 0.8236466968757384, 'reg_alpha': 0.003685214348877713, 'reg_lambda': 0.05253824861610229, 'gamma': 0.0002250569171273546}\n",
        "# Best score: 0.491854649903965\n",
        "\n",
        "params = {\n",
        "    'learning_rate': 0.12383207707591747,\n",
        "    'min_child_weight': 5,\n",
        "    'max_depth': 4,\n",
        "    'colsample_bytree': 0.46905238052158094,\n",
        "    'subsample': 0.8236466968757384,\n",
        "    'reg_alpha': 0.003685214348877713,\n",
        "    'reg_lambda': 0.05253824861610229,\n",
        "    'gamma': 0.0002250569171273546\n",
        "    }\n",
        "\n",
        "xgb_model = XGBClassifier(**params, objective='multiclass', random_state=42, n_jobs=-1)\n",
        "xgb_model.fit(X, y)\n",
        "\n",
        "# テストデータでの推論\n",
        "xgb_pred = xgb_model.predict(df_test)\n",
        "\n",
        "print(xgb_pred.shape)\n",
        "print(xgb_pred)"
      ],
      "metadata": {
        "colab": {
          "base_uri": "https://localhost:8080/"
        },
        "id": "pEvWtAGCeCOw",
        "outputId": "e3068f55-5b62-43dd-89cb-301d7be27b44"
      },
      "execution_count": 11,
      "outputs": [
        {
          "output_type": "stream",
          "name": "stdout",
          "text": [
            "(800,)\n",
            "[3 0 3 1 0 3 0 2 1 1 2 2 3 1 2 3 1 3 0 1 2 1 2 3 1 1 3 1 3 2 0 3 3 2 1 2 0\n",
            " 0 0 0 3 3 1 0 2 2 3 2 2 2 2 2 3 1 1 1 2 0 3 2 0 1 2 1 2 2 2 2 1 1 0 1 2 2\n",
            " 3 1 0 0 2 2 1 1 0 2 2 3 2 1 0 0 3 2 1 3 1 2 1 0 2 2 0 1 0 2 2 0 3 2 3 1 2\n",
            " 0 2 0 1 3 3 1 0 1 0 3 1 1 0 1 2 2 0 2 1 0 1 2 2 3 0 2 1 3 2 3 2 3 2 3 3 1\n",
            " 2 1 2 2 2 2 3 1 2 2 3 3 2 3 2 1 2 3 0 3 1 1 2 3 1 3 2 1 2 1 2 1 2 2 0 0 2\n",
            " 2 1 3 2 2 3 1 2 3 1 0 3 1 2 0 3 2 0 2 2 3 2 1 1 1 1 1 1 1 1 2 2 2 3 2 2 0\n",
            " 1 1 1 1 1 2 1 1 3 1 2 0 0 3 2 2 2 2 2 0 0 0 3 0 0 2 3 0 0 3 2 1 3 2 0 1 3\n",
            " 0 3 2 3 2 1 3 2 3 1 2 1 2 1 2 0 0 2 1 2 1 1 2 0 3 2 1 2 3 0 3 2 2 1 3 1 3\n",
            " 2 3 2 2 0 1 2 0 1 2 2 1 3 3 2 1 1 2 2 1 2 2 0 1 2 1 2 3 0 2 1 3 1 2 0 1 1\n",
            " 1 2 1 3 2 2 2 3 3 3 2 1 3 1 2 3 3 2 2 2 0 3 1 3 3 2 1 0 1 1 1 1 0 2 1 3 2\n",
            " 1 3 1 2 2 1 3 3 3 1 1 2 3 1 2 2 1 2 3 2 1 3 2 0 3 2 3 2 3 2 0 0 3 0 1 3 3\n",
            " 2 1 2 1 0 1 3 2 1 3 2 1 3 2 2 0 2 1 0 1 3 0 1 3 2 1 1 2 0 1 2 0 0 3 3 1 2\n",
            " 3 3 1 1 3 1 2 0 2 2 3 3 0 3 2 1 2 3 2 2 2 3 0 1 2 0 1 2 0 2 2 3 3 2 1 0 2\n",
            " 0 1 2 2 1 3 3 3 1 2 0 0 2 1 1 1 2 3 3 1 3 0 1 0 1 3 2 1 2 1 2 3 3 2 1 0 3\n",
            " 0 3 1 0 1 3 2 3 2 3 2 1 0 1 0 2 2 2 2 2 1 2 3 1 2 1 1 1 0 2 2 2 1 2 3 2 3\n",
            " 2 2 3 1 3 3 0 2 1 2 1 2 2 1 1 0 0 1 1 2 2 1 2 0 1 1 3 3 2 1 1 3 3 2 1 0 1\n",
            " 3 2 1 1 1 3 3 1 2 2 0 2 2 3 1 3 2 1 0 3 1 0 1 3 1 1 1 1 0 1 1 2 0 3 2 1 2\n",
            " 2 1 0 1 1 3 2 1 3 3 2 3 2 2 1 3 2 1 0 2 1 3 1 1 1 1 3 3 3 0 1 2 1 2 1 1 2\n",
            " 1 2 0 1 2 2 1 1 1 2 3 0 1 1 2 2 3 1 2 2 2 2 0 2 2 2 3 3 2 1 2 1 3 1 2 1 3\n",
            " 1 1 3 1 2 1 0 2 2 1 0 3 2 1 3 2 2 1 1 3 1 2 1 0 3 3 2 0 3 1 1 1 2 1 1 2 3\n",
            " 3 1 0 0 3 3 0 0 1 2 1 3 2 1 2 1 2 2 1 1 3 1 0 3 3 1 1 3 1 0 0 2 2 2 3 1 2\n",
            " 1 1 3 3 0 2 3 1 2 1 1 3 1 3 2 1 3 3 0 1 3 2 2]\n"
          ]
        }
      ]
    },
    {
      "cell_type": "markdown",
      "source": [
        "### 4. LightGBM"
      ],
      "metadata": {
        "id": "8sq_9LupgDdg"
      }
    },
    {
      "cell_type": "code",
      "source": [
        "import time\n",
        "start = time.time()\n",
        "\n",
        "def objective(trial):\n",
        "    # X_train, X_valid, y_train, y_valid = train_test_split(X, y, test_size=0.2, random_state=42, stratify=y)\n",
        "    # dtrain = lgb.Dataset(X_train, label=y_train)\n",
        "    # dvalid = lgb.Dataset(X_valid, label=y_valid, reference=dtrain)\n",
        "\n",
        "    param = {\n",
        "        'objective': 'multiclass',\n",
        "        'metric': 'multi_logloss',\n",
        "        'num_class': 4,\n",
        "        'num_iterations': trial.suggest_int('num_iterations', 100, 1000),\n",
        "        'learning_rate': trial.suggest_float('learning_rate', 1e-3, 1.0, log=True),\n",
        "        'lambda_l1': trial.suggest_float('lambda_l1', 1e-8, 10.0),\n",
        "        'lambda_l2': trial.suggest_float('lambda_l2', 1e-8, 10.0),\n",
        "        'num_leaves': trial.suggest_int('num_leaves', 2, 256),\n",
        "        'feature_fraction': trial.suggest_float('feature_fraction', 0.4, 1.0),\n",
        "        'bagging_fraction': trial.suggest_float('bagging_fraction', 0.4, 1.0),\n",
        "        'bagging_freq': trial.suggest_int('bagging_freq', 1, 7),\n",
        "        'min_child_samples': trial.suggest_int('min_child_samples', 5, 100),\n",
        "        'random_state': 42,\n",
        "        'verbose': -1,\n",
        "        'n_jobs': -1\n",
        "    }\n",
        "\n",
        "    # verbose_eval = 0\n",
        "\n",
        "    # gbm = lgb.train(param, dtrain, valid_sets=[dvalid],\n",
        "    #                 callbacks=[\n",
        "    #         lgb.early_stopping(stopping_rounds=10, verbose=True),\n",
        "    #         lgb.log_evaluation(verbose_eval)\n",
        "    #     ])\n",
        "    gbm = LGBMClassifier(**param)\n",
        "    gbm.fit(X_train, y_train,\n",
        "            eval_set=[(X_valid, y_valid)],\n",
        "            callbacks=[\n",
        "            lgb.early_stopping(stopping_rounds=20, verbose=True),\n",
        "            lgb.log_evaluation(100),\n",
        "        ])\n",
        "\n",
        "    # preds = gbm.predict(X_valid).astype(np.float32)\n",
        "    # print(preds[:5])\n",
        "    # pred_labels = np.argmax(preds, axis=1)\n",
        "    preds = gbm.predict(X_valid)\n",
        "    # f1_macro = f1_score(y_valid, pred_labels, average='macro')\n",
        "    f1_macro = f1_score(y_valid, preds, average='macro')\n",
        "    return f1_macro\n",
        "\n",
        "study = optuna.create_study(direction='maximize')\n",
        "# optuna.logging.set_verbosity(optuna.logging.CRITICAL)\n",
        "study.optimize(objective, n_trials=100)\n",
        "\n",
        "print('\\nNumber of finished trials:', len(study.trials))\n",
        "print('Best trial:', study.best_trial.params)\n",
        "print('Best score: ', study.best_trial.value)\n",
        "\n",
        "print(f'所要時間{time.time() - start}秒')"
      ],
      "metadata": {
        "colab": {
          "base_uri": "https://localhost:8080/"
        },
        "collapsed": true,
        "id": "1ccVbvlm3EBk",
        "outputId": "caeada40-d517-4347-ceb6-475a66f7b6d8"
      },
      "execution_count": null,
      "outputs": [
        {
          "output_type": "stream",
          "name": "stderr",
          "text": [
            "[I 2024-05-27 21:32:20,706] A new study created in memory with name: no-name-af3f57a9-1e96-4383-b246-c77740a58f8b\n",
            "/usr/local/lib/python3.10/dist-packages/lightgbm/engine.py:172: UserWarning: Found `num_iterations` in params. Will use it instead of argument\n",
            "  _log_warning(f\"Found `{alias}` in params. Will use it instead of argument\")\n"
          ]
        },
        {
          "output_type": "stream",
          "name": "stdout",
          "text": [
            "Training until validation scores don't improve for 20 rounds\n",
            "[100]\tvalid_0's multi_logloss: 1.18212\n",
            "[200]\tvalid_0's multi_logloss: 1.12175\n",
            "[300]\tvalid_0's multi_logloss: 1.09505\n",
            "[400]\tvalid_0's multi_logloss: 1.08061\n",
            "[500]\tvalid_0's multi_logloss: 1.07168\n",
            "[600]\tvalid_0's multi_logloss: 1.06538\n",
            "[700]\tvalid_0's multi_logloss: 1.06077\n",
            "[800]\tvalid_0's multi_logloss: 1.05684\n",
            "[900]\tvalid_0's multi_logloss: 1.05397\n",
            "Did not meet early stopping. Best iteration is:\n",
            "[935]\tvalid_0's multi_logloss: 1.05279\n"
          ]
        },
        {
          "output_type": "stream",
          "name": "stderr",
          "text": [
            "[I 2024-05-27 21:32:26,423] Trial 0 finished with value: 0.48170476750478625 and parameters: {'num_iterations': 937, 'learning_rate': 0.009135873035331924, 'lambda_l1': 8.225592773803603, 'lambda_l2': 9.577449793796003, 'num_leaves': 17, 'feature_fraction': 0.41847116287475994, 'bagging_fraction': 0.9901757233349818, 'bagging_freq': 7, 'min_child_samples': 91}. Best is trial 0 with value: 0.48170476750478625.\n",
            "/usr/local/lib/python3.10/dist-packages/lightgbm/engine.py:172: UserWarning: Found `num_iterations` in params. Will use it instead of argument\n",
            "  _log_warning(f\"Found `{alias}` in params. Will use it instead of argument\")\n",
            "[I 2024-05-27 21:32:26,601] Trial 1 finished with value: 0.4671054515961165 and parameters: {'num_iterations': 905, 'learning_rate': 0.18616576344661936, 'lambda_l1': 0.6639914211462616, 'lambda_l2': 9.892165531316575, 'num_leaves': 169, 'feature_fraction': 0.5777803892149629, 'bagging_fraction': 0.7764391986948767, 'bagging_freq': 6, 'min_child_samples': 24}. Best is trial 0 with value: 0.48170476750478625.\n",
            "/usr/local/lib/python3.10/dist-packages/lightgbm/engine.py:172: UserWarning: Found `num_iterations` in params. Will use it instead of argument\n",
            "  _log_warning(f\"Found `{alias}` in params. Will use it instead of argument\")\n"
          ]
        },
        {
          "output_type": "stream",
          "name": "stdout",
          "text": [
            "Training until validation scores don't improve for 20 rounds\n",
            "Early stopping, best iteration is:\n",
            "[51]\tvalid_0's multi_logloss: 1.05689\n",
            "Training until validation scores don't improve for 20 rounds\n"
          ]
        },
        {
          "output_type": "stream",
          "name": "stderr",
          "text": [
            "[I 2024-05-27 21:32:26,675] Trial 2 finished with value: 0.49157243746631774 and parameters: {'num_iterations': 234, 'learning_rate': 0.6517245519804242, 'lambda_l1': 7.930754253192161, 'lambda_l2': 5.567002125500021, 'num_leaves': 105, 'feature_fraction': 0.6644908976206259, 'bagging_fraction': 0.9319027170235565, 'bagging_freq': 2, 'min_child_samples': 24}. Best is trial 2 with value: 0.49157243746631774.\n",
            "/usr/local/lib/python3.10/dist-packages/lightgbm/engine.py:172: UserWarning: Found `num_iterations` in params. Will use it instead of argument\n",
            "  _log_warning(f\"Found `{alias}` in params. Will use it instead of argument\")\n"
          ]
        },
        {
          "output_type": "stream",
          "name": "stdout",
          "text": [
            "Early stopping, best iteration is:\n",
            "[16]\tvalid_0's multi_logloss: 1.04817\n",
            "Training until validation scores don't improve for 20 rounds\n",
            "[100]\tvalid_0's multi_logloss: 1.04423\n",
            "Early stopping, best iteration is:\n",
            "[81]\tvalid_0's multi_logloss: 1.03385\n"
          ]
        },
        {
          "output_type": "stream",
          "name": "stderr",
          "text": [
            "[I 2024-05-27 21:32:26,876] Trial 3 finished with value: 0.48403263403263397 and parameters: {'num_iterations': 861, 'learning_rate': 0.08780373778972525, 'lambda_l1': 0.796053011717021, 'lambda_l2': 3.8908419646766204, 'num_leaves': 7, 'feature_fraction': 0.9370397515964493, 'bagging_fraction': 0.9459037210974739, 'bagging_freq': 3, 'min_child_samples': 37}. Best is trial 2 with value: 0.49157243746631774.\n",
            "/usr/local/lib/python3.10/dist-packages/lightgbm/engine.py:172: UserWarning: Found `num_iterations` in params. Will use it instead of argument\n",
            "  _log_warning(f\"Found `{alias}` in params. Will use it instead of argument\")\n"
          ]
        },
        {
          "output_type": "stream",
          "name": "stdout",
          "text": [
            "Training until validation scores don't improve for 20 rounds\n",
            "[100]\tvalid_0's multi_logloss: 1.22606\n",
            "[200]\tvalid_0's multi_logloss: 1.1633\n",
            "[300]\tvalid_0's multi_logloss: 1.12568\n",
            "[400]\tvalid_0's multi_logloss: 1.10161\n",
            "Did not meet early stopping. Best iteration is:\n",
            "[485]\tvalid_0's multi_logloss: 1.08757\n"
          ]
        },
        {
          "output_type": "stream",
          "name": "stderr",
          "text": [
            "[I 2024-05-27 21:32:27,568] Trial 4 finished with value: 0.46093638948116555 and parameters: {'num_iterations': 485, 'learning_rate': 0.0048645698496174285, 'lambda_l1': 5.798246214188025, 'lambda_l2': 4.382189782069527, 'num_leaves': 10, 'feature_fraction': 0.9009660051165849, 'bagging_fraction': 0.7524664711952489, 'bagging_freq': 6, 'min_child_samples': 74}. Best is trial 2 with value: 0.49157243746631774.\n",
            "/usr/local/lib/python3.10/dist-packages/lightgbm/engine.py:172: UserWarning: Found `num_iterations` in params. Will use it instead of argument\n",
            "  _log_warning(f\"Found `{alias}` in params. Will use it instead of argument\")\n",
            "[I 2024-05-27 21:32:27,644] Trial 5 finished with value: 0.47219857635196916 and parameters: {'num_iterations': 148, 'learning_rate': 0.4982704437685858, 'lambda_l1': 7.305359392760604, 'lambda_l2': 4.7517079436989516, 'num_leaves': 188, 'feature_fraction': 0.5520026478607466, 'bagging_fraction': 0.9012141468500637, 'bagging_freq': 5, 'min_child_samples': 40}. Best is trial 2 with value: 0.49157243746631774.\n",
            "/usr/local/lib/python3.10/dist-packages/lightgbm/engine.py:172: UserWarning: Found `num_iterations` in params. Will use it instead of argument\n",
            "  _log_warning(f\"Found `{alias}` in params. Will use it instead of argument\")\n"
          ]
        },
        {
          "output_type": "stream",
          "name": "stdout",
          "text": [
            "Training until validation scores don't improve for 20 rounds\n",
            "Early stopping, best iteration is:\n",
            "[38]\tvalid_0's multi_logloss: 1.06136\n",
            "Training until validation scores don't improve for 20 rounds\n",
            "[100]\tvalid_0's multi_logloss: 1.24293\n",
            "[200]\tvalid_0's multi_logloss: 1.17862\n",
            "[300]\tvalid_0's multi_logloss: 1.13495\n",
            "[400]\tvalid_0's multi_logloss: 1.10596\n",
            "[500]\tvalid_0's multi_logloss: 1.08708\n",
            "Did not meet early stopping. Best iteration is:\n",
            "[522]\tvalid_0's multi_logloss: 1.0842\n"
          ]
        },
        {
          "output_type": "stream",
          "name": "stderr",
          "text": [
            "[I 2024-05-27 21:32:28,813] Trial 6 finished with value: 0.45252149927495744 and parameters: {'num_iterations': 522, 'learning_rate': 0.0031649923415578555, 'lambda_l1': 2.2088969871502067, 'lambda_l2': 1.1521049201767533, 'num_leaves': 111, 'feature_fraction': 0.9533355862046473, 'bagging_fraction': 0.7704694698030577, 'bagging_freq': 6, 'min_child_samples': 36}. Best is trial 2 with value: 0.49157243746631774.\n",
            "/usr/local/lib/python3.10/dist-packages/lightgbm/engine.py:172: UserWarning: Found `num_iterations` in params. Will use it instead of argument\n",
            "  _log_warning(f\"Found `{alias}` in params. Will use it instead of argument\")\n"
          ]
        },
        {
          "output_type": "stream",
          "name": "stdout",
          "text": [
            "Training until validation scores don't improve for 20 rounds\n",
            "[100]\tvalid_0's multi_logloss: 1.2388\n",
            "[200]\tvalid_0's multi_logloss: 1.18408\n",
            "[300]\tvalid_0's multi_logloss: 1.15375\n",
            "[400]\tvalid_0's multi_logloss: 1.1346\n",
            "[500]\tvalid_0's multi_logloss: 1.12208\n",
            "[600]\tvalid_0's multi_logloss: 1.1121\n",
            "Did not meet early stopping. Best iteration is:\n",
            "[694]\tvalid_0's multi_logloss: 1.10544\n"
          ]
        },
        {
          "output_type": "stream",
          "name": "stderr",
          "text": [
            "[I 2024-05-27 21:32:29,509] Trial 7 finished with value: 0.38525963142840114 and parameters: {'num_iterations': 694, 'learning_rate': 0.006695075520805806, 'lambda_l1': 9.573739057631323, 'lambda_l2': 4.264629057513932, 'num_leaves': 8, 'feature_fraction': 0.482496003701711, 'bagging_fraction': 0.40905709055491446, 'bagging_freq': 7, 'min_child_samples': 39}. Best is trial 2 with value: 0.49157243746631774.\n",
            "/usr/local/lib/python3.10/dist-packages/lightgbm/engine.py:172: UserWarning: Found `num_iterations` in params. Will use it instead of argument\n",
            "  _log_warning(f\"Found `{alias}` in params. Will use it instead of argument\")\n",
            "[I 2024-05-27 21:32:29,680] Trial 8 finished with value: 0.4907595884705457 and parameters: {'num_iterations': 867, 'learning_rate': 0.12974237104683717, 'lambda_l1': 7.32874613857625, 'lambda_l2': 4.848167595310603, 'num_leaves': 159, 'feature_fraction': 0.7707217696782991, 'bagging_fraction': 0.8841579303361174, 'bagging_freq': 1, 'min_child_samples': 85}. Best is trial 2 with value: 0.49157243746631774.\n",
            "/usr/local/lib/python3.10/dist-packages/lightgbm/engine.py:172: UserWarning: Found `num_iterations` in params. Will use it instead of argument\n",
            "  _log_warning(f\"Found `{alias}` in params. Will use it instead of argument\")\n"
          ]
        },
        {
          "output_type": "stream",
          "name": "stdout",
          "text": [
            "Training until validation scores don't improve for 20 rounds\n",
            "[100]\tvalid_0's multi_logloss: 1.04049\n",
            "Early stopping, best iteration is:\n",
            "[107]\tvalid_0's multi_logloss: 1.03786\n",
            "Training until validation scores don't improve for 20 rounds\n",
            "[100]\tvalid_0's multi_logloss: 1.1888\n",
            "[200]\tvalid_0's multi_logloss: 1.12106\n",
            "[300]\tvalid_0's multi_logloss: 1.08854\n",
            "[400]\tvalid_0's multi_logloss: 1.06867\n",
            "[500]\tvalid_0's multi_logloss: 1.05709\n",
            "[600]\tvalid_0's multi_logloss: 1.05007\n",
            "[700]\tvalid_0's multi_logloss: 1.04452\n",
            "Early stopping, best iteration is:\n",
            "[766]\tvalid_0's multi_logloss: 1.04256\n"
          ]
        },
        {
          "output_type": "stream",
          "name": "stderr",
          "text": [
            "[I 2024-05-27 21:32:31,140] Trial 9 finished with value: 0.486284672887198 and parameters: {'num_iterations': 860, 'learning_rate': 0.007265858898899149, 'lambda_l1': 2.947346448366749, 'lambda_l2': 9.14747413774633, 'num_leaves': 223, 'feature_fraction': 0.8096657089860448, 'bagging_fraction': 0.6972536700843164, 'bagging_freq': 4, 'min_child_samples': 39}. Best is trial 2 with value: 0.49157243746631774.\n",
            "/usr/local/lib/python3.10/dist-packages/lightgbm/engine.py:172: UserWarning: Found `num_iterations` in params. Will use it instead of argument\n",
            "  _log_warning(f\"Found `{alias}` in params. Will use it instead of argument\")\n"
          ]
        },
        {
          "output_type": "stream",
          "name": "stdout",
          "text": [
            "Training until validation scores don't improve for 20 rounds\n"
          ]
        },
        {
          "output_type": "stream",
          "name": "stderr",
          "text": [
            "[I 2024-05-27 21:32:31,562] Trial 10 finished with value: 0.4586654383352796 and parameters: {'num_iterations': 137, 'learning_rate': 0.03637803587069344, 'lambda_l1': 4.775044198026896, 'lambda_l2': 7.114660095154099, 'num_leaves': 98, 'feature_fraction': 0.6649386917506167, 'bagging_fraction': 0.5800404586456679, 'bagging_freq': 1, 'min_child_samples': 5}. Best is trial 2 with value: 0.49157243746631774.\n"
          ]
        },
        {
          "output_type": "stream",
          "name": "stdout",
          "text": [
            "[100]\tvalid_0's multi_logloss: 1.06249\n",
            "Did not meet early stopping. Best iteration is:\n",
            "[137]\tvalid_0's multi_logloss: 1.05304\n",
            "Training until validation scores don't improve for 20 rounds\n"
          ]
        },
        {
          "output_type": "stream",
          "name": "stderr",
          "text": [
            "/usr/local/lib/python3.10/dist-packages/lightgbm/engine.py:172: UserWarning: Found `num_iterations` in params. Will use it instead of argument\n",
            "  _log_warning(f\"Found `{alias}` in params. Will use it instead of argument\")\n",
            "[I 2024-05-27 21:32:31,676] Trial 11 finished with value: 0.421876231459151 and parameters: {'num_iterations': 338, 'learning_rate': 0.8453763424683423, 'lambda_l1': 6.5574338768547, 'lambda_l2': 6.6846167377054755, 'num_leaves': 75, 'feature_fraction': 0.7681622292222297, 'bagging_fraction': 0.8513638711607318, 'bagging_freq': 1, 'min_child_samples': 69}. Best is trial 2 with value: 0.49157243746631774.\n",
            "/usr/local/lib/python3.10/dist-packages/lightgbm/engine.py:172: UserWarning: Found `num_iterations` in params. Will use it instead of argument\n",
            "  _log_warning(f\"Found `{alias}` in params. Will use it instead of argument\")\n"
          ]
        },
        {
          "output_type": "stream",
          "name": "stdout",
          "text": [
            "Early stopping, best iteration is:\n",
            "[9]\tvalid_0's multi_logloss: 1.09528\n",
            "Training until validation scores don't improve for 20 rounds\n",
            "[100]\tvalid_0's multi_logloss: 1.04134\n"
          ]
        },
        {
          "output_type": "stream",
          "name": "stderr",
          "text": [
            "[I 2024-05-27 21:32:31,961] Trial 12 finished with value: 0.4950613275613276 and parameters: {'num_iterations': 666, 'learning_rate': 0.1893519377146638, 'lambda_l1': 9.730833522867167, 'lambda_l2': 2.223079423282275, 'num_leaves': 151, 'feature_fraction': 0.6877109295874894, 'bagging_fraction': 0.8641285345858222, 'bagging_freq': 2, 'min_child_samples': 97}. Best is trial 12 with value: 0.4950613275613276.\n",
            "/usr/local/lib/python3.10/dist-packages/lightgbm/engine.py:172: UserWarning: Found `num_iterations` in params. Will use it instead of argument\n",
            "  _log_warning(f\"Found `{alias}` in params. Will use it instead of argument\")\n",
            "[I 2024-05-27 21:32:32,082] Trial 13 finished with value: 0.47781297216228724 and parameters: {'num_iterations': 655, 'learning_rate': 0.38926040688726066, 'lambda_l1': 9.806263254280825, 'lambda_l2': 1.5269966852685304, 'num_leaves': 56, 'feature_fraction': 0.664251302709573, 'bagging_fraction': 0.6212131021799493, 'bagging_freq': 3, 'min_child_samples': 100}. Best is trial 12 with value: 0.4950613275613276.\n"
          ]
        },
        {
          "output_type": "stream",
          "name": "stdout",
          "text": [
            "[200]\tvalid_0's multi_logloss: 1.02876\n",
            "Early stopping, best iteration is:\n",
            "[245]\tvalid_0's multi_logloss: 1.02365\n",
            "Training until validation scores don't improve for 20 rounds\n",
            "Early stopping, best iteration is:\n",
            "[41]\tvalid_0's multi_logloss: 1.06925\n"
          ]
        },
        {
          "output_type": "stream",
          "name": "stderr",
          "text": [
            "/usr/local/lib/python3.10/dist-packages/lightgbm/engine.py:172: UserWarning: Found `num_iterations` in params. Will use it instead of argument\n",
            "  _log_warning(f\"Found `{alias}` in params. Will use it instead of argument\")\n"
          ]
        },
        {
          "output_type": "stream",
          "name": "stdout",
          "text": [
            "Training until validation scores don't improve for 20 rounds\n",
            "[100]\tvalid_0's multi_logloss: 1.3153\n",
            "[200]\tvalid_0's multi_logloss: 1.28298\n"
          ]
        },
        {
          "output_type": "stream",
          "name": "stderr",
          "text": [
            "[I 2024-05-27 21:32:32,576] Trial 14 finished with value: 0.12962962962962962 and parameters: {'num_iterations': 330, 'learning_rate': 0.0011439702521890813, 'lambda_l1': 8.677721592462019, 'lambda_l2': 2.4848742119878513, 'num_leaves': 138, 'feature_fraction': 0.6075291391293918, 'bagging_fraction': 0.8290332577180239, 'bagging_freq': 2, 'min_child_samples': 59}. Best is trial 12 with value: 0.4950613275613276.\n"
          ]
        },
        {
          "output_type": "stream",
          "name": "stdout",
          "text": [
            "[300]\tvalid_0's multi_logloss: 1.25593\n",
            "Did not meet early stopping. Best iteration is:\n",
            "[330]\tvalid_0's multi_logloss: 1.24873\n",
            "Training until validation scores don't improve for 20 rounds\n"
          ]
        },
        {
          "output_type": "stream",
          "name": "stderr",
          "text": [
            "/usr/local/lib/python3.10/dist-packages/lightgbm/engine.py:172: UserWarning: Found `num_iterations` in params. Will use it instead of argument\n",
            "  _log_warning(f\"Found `{alias}` in params. Will use it instead of argument\")\n"
          ]
        },
        {
          "output_type": "stream",
          "name": "stdout",
          "text": [
            "[100]\tvalid_0's multi_logloss: 1.03944\n",
            "Early stopping, best iteration is:\n",
            "[142]\tvalid_0's multi_logloss: 1.03189\n"
          ]
        },
        {
          "output_type": "stream",
          "name": "stderr",
          "text": [
            "[I 2024-05-27 21:32:33,261] Trial 15 finished with value: 0.48238005977752896 and parameters: {'num_iterations': 368, 'learning_rate': 0.04865658595136506, 'lambda_l1': 4.184336006635292, 'lambda_l2': 6.8479671682484256, 'num_leaves': 254, 'feature_fraction': 0.7170076905215998, 'bagging_fraction': 0.9792078479843211, 'bagging_freq': 3, 'min_child_samples': 5}. Best is trial 12 with value: 0.4950613275613276.\n",
            "/usr/local/lib/python3.10/dist-packages/lightgbm/engine.py:172: UserWarning: Found `num_iterations` in params. Will use it instead of argument\n",
            "  _log_warning(f\"Found `{alias}` in params. Will use it instead of argument\")\n",
            "[I 2024-05-27 21:32:33,424] Trial 16 finished with value: 0.49429527881084645 and parameters: {'num_iterations': 664, 'learning_rate': 0.2765845141652665, 'lambda_l1': 8.373492240077097, 'lambda_l2': 0.03233437091394986, 'num_leaves': 130, 'feature_fraction': 0.8113115615227555, 'bagging_fraction': 0.9208461621413728, 'bagging_freq': 2, 'min_child_samples': 19}. Best is trial 12 with value: 0.4950613275613276.\n",
            "/usr/local/lib/python3.10/dist-packages/lightgbm/engine.py:172: UserWarning: Found `num_iterations` in params. Will use it instead of argument\n",
            "  _log_warning(f\"Found `{alias}` in params. Will use it instead of argument\")\n"
          ]
        },
        {
          "output_type": "stream",
          "name": "stdout",
          "text": [
            "Training until validation scores don't improve for 20 rounds\n",
            "Early stopping, best iteration is:\n",
            "[57]\tvalid_0's multi_logloss: 1.04654\n",
            "Training until validation scores don't improve for 20 rounds\n"
          ]
        },
        {
          "output_type": "stream",
          "name": "stderr",
          "text": [
            "[I 2024-05-27 21:32:33,567] Trial 17 finished with value: 0.4356037457457728 and parameters: {'num_iterations': 670, 'learning_rate': 0.24708640252194516, 'lambda_l1': 8.917495890610168, 'lambda_l2': 0.01749399243465124, 'num_leaves': 200, 'feature_fraction': 0.8502831855478282, 'bagging_fraction': 0.6402219123681113, 'bagging_freq': 2, 'min_child_samples': 55}. Best is trial 12 with value: 0.4950613275613276.\n",
            "/usr/local/lib/python3.10/dist-packages/lightgbm/engine.py:172: UserWarning: Found `num_iterations` in params. Will use it instead of argument\n",
            "  _log_warning(f\"Found `{alias}` in params. Will use it instead of argument\")\n"
          ]
        },
        {
          "output_type": "stream",
          "name": "stdout",
          "text": [
            "Early stopping, best iteration is:\n",
            "[28]\tvalid_0's multi_logloss: 1.06592\n",
            "Training until validation scores don't improve for 20 rounds\n"
          ]
        },
        {
          "output_type": "stream",
          "name": "stderr",
          "text": [
            "[I 2024-05-27 21:32:33,808] Trial 18 finished with value: 0.4569703921484107 and parameters: {'num_iterations': 708, 'learning_rate': 0.11691050752145965, 'lambda_l1': 6.067285823152518, 'lambda_l2': 2.808513716642193, 'num_leaves': 140, 'feature_fraction': 0.8606983791247813, 'bagging_fraction': 0.8328223057116114, 'bagging_freq': 4, 'min_child_samples': 18}. Best is trial 12 with value: 0.4950613275613276.\n"
          ]
        },
        {
          "output_type": "stream",
          "name": "stdout",
          "text": [
            "Early stopping, best iteration is:\n",
            "[56]\tvalid_0's multi_logloss: 1.04257\n",
            "Training until validation scores don't improve for 20 rounds\n",
            "[100]\tvalid_0's multi_logloss: 1.13682\n"
          ]
        },
        {
          "output_type": "stream",
          "name": "stderr",
          "text": [
            "/usr/local/lib/python3.10/dist-packages/lightgbm/engine.py:172: UserWarning: Found `num_iterations` in params. Will use it instead of argument\n",
            "  _log_warning(f\"Found `{alias}` in params. Will use it instead of argument\")\n"
          ]
        },
        {
          "output_type": "stream",
          "name": "stdout",
          "text": [
            "[200]\tvalid_0's multi_logloss: 1.09709\n",
            "[300]\tvalid_0's multi_logloss: 1.08174\n",
            "[400]\tvalid_0's multi_logloss: 1.07415\n",
            "[500]\tvalid_0's multi_logloss: 1.06954\n"
          ]
        },
        {
          "output_type": "stream",
          "name": "stderr",
          "text": [
            "[I 2024-05-27 21:32:34,430] Trial 19 finished with value: 0.4804373473247377 and parameters: {'num_iterations': 783, 'learning_rate': 0.01803653306262242, 'lambda_l1': 9.784501405307351, 'lambda_l2': 0.0683943228235192, 'num_leaves': 56, 'feature_fraction': 0.7429208481509397, 'bagging_fraction': 0.5136533880426692, 'bagging_freq': 2, 'min_child_samples': 67}. Best is trial 12 with value: 0.4950613275613276.\n"
          ]
        },
        {
          "output_type": "stream",
          "name": "stdout",
          "text": [
            "[600]\tvalid_0's multi_logloss: 1.06663\n",
            "Early stopping, best iteration is:\n",
            "[617]\tvalid_0's multi_logloss: 1.06591\n"
          ]
        },
        {
          "output_type": "stream",
          "name": "stderr",
          "text": [
            "/usr/local/lib/python3.10/dist-packages/lightgbm/engine.py:172: UserWarning: Found `num_iterations` in params. Will use it instead of argument\n",
            "  _log_warning(f\"Found `{alias}` in params. Will use it instead of argument\")\n"
          ]
        },
        {
          "output_type": "stream",
          "name": "stdout",
          "text": [
            "Training until validation scores don't improve for 20 rounds\n",
            "[100]\tvalid_0's multi_logloss: 1.06419\n",
            "[200]\tvalid_0's multi_logloss: 1.04701\n"
          ]
        },
        {
          "output_type": "stream",
          "name": "stderr",
          "text": [
            "[I 2024-05-27 21:32:34,781] Trial 20 finished with value: 0.5222951734851151 and parameters: {'num_iterations': 576, 'learning_rate': 0.056000580448809456, 'lambda_l1': 7.198662739320596, 'lambda_l2': 1.32026277485512, 'num_leaves': 164, 'feature_fraction': 0.8184369047673037, 'bagging_fraction': 0.7223167570134358, 'bagging_freq': 3, 'min_child_samples': 84}. Best is trial 20 with value: 0.5222951734851151.\n"
          ]
        },
        {
          "output_type": "stream",
          "name": "stdout",
          "text": [
            "Early stopping, best iteration is:\n",
            "[205]\tvalid_0's multi_logloss: 1.04693\n",
            "Training until validation scores don't improve for 20 rounds\n"
          ]
        },
        {
          "output_type": "stream",
          "name": "stderr",
          "text": [
            "/usr/local/lib/python3.10/dist-packages/lightgbm/engine.py:172: UserWarning: Found `num_iterations` in params. Will use it instead of argument\n",
            "  _log_warning(f\"Found `{alias}` in params. Will use it instead of argument\")\n",
            "[I 2024-05-27 21:32:35,049] Trial 21 finished with value: 0.49012723445688905 and parameters: {'num_iterations': 592, 'learning_rate': 0.05976382587426656, 'lambda_l1': 7.123018956191744, 'lambda_l2': 1.2720500344895198, 'num_leaves': 156, 'feature_fraction': 0.9998674122790714, 'bagging_fraction': 0.6925917565209192, 'bagging_freq': 3, 'min_child_samples': 81}. Best is trial 20 with value: 0.5222951734851151.\n"
          ]
        },
        {
          "output_type": "stream",
          "name": "stdout",
          "text": [
            "[100]\tvalid_0's multi_logloss: 1.06217\n",
            "Early stopping, best iteration is:\n",
            "[138]\tvalid_0's multi_logloss: 1.05446\n",
            "Training until validation scores don't improve for 20 rounds\n"
          ]
        },
        {
          "output_type": "stream",
          "name": "stderr",
          "text": [
            "/usr/local/lib/python3.10/dist-packages/lightgbm/engine.py:172: UserWarning: Found `num_iterations` in params. Will use it instead of argument\n",
            "  _log_warning(f\"Found `{alias}` in params. Will use it instead of argument\")\n",
            "[I 2024-05-27 21:32:35,190] Trial 22 finished with value: 0.45687844798683286 and parameters: {'num_iterations': 462, 'learning_rate': 0.2716039265049064, 'lambda_l1': 8.594110347690735, 'lambda_l2': 2.540437605152998, 'num_leaves': 191, 'feature_fraction': 0.7993653990083535, 'bagging_fraction': 0.7935792905110143, 'bagging_freq': 2, 'min_child_samples': 98}. Best is trial 20 with value: 0.5222951734851151.\n",
            "/usr/local/lib/python3.10/dist-packages/lightgbm/engine.py:172: UserWarning: Found `num_iterations` in params. Will use it instead of argument\n",
            "  _log_warning(f\"Found `{alias}` in params. Will use it instead of argument\")\n"
          ]
        },
        {
          "output_type": "stream",
          "name": "stdout",
          "text": [
            "Early stopping, best iteration is:\n",
            "[36]\tvalid_0's multi_logloss: 1.06282\n",
            "Training until validation scores don't improve for 20 rounds\n",
            "[100]\tvalid_0's multi_logloss: 1.10607\n",
            "[200]\tvalid_0's multi_logloss: 1.07079\n",
            "[300]\tvalid_0's multi_logloss: 1.0582\n"
          ]
        },
        {
          "output_type": "stream",
          "name": "stderr",
          "text": [
            "[I 2024-05-27 21:32:35,901] Trial 23 finished with value: 0.4892324266352329 and parameters: {'num_iterations': 569, 'learning_rate': 0.01967631619406151, 'lambda_l1': 7.880502696048245, 'lambda_l2': 0.8141021674743314, 'num_leaves': 124, 'feature_fraction': 0.8549652336837581, 'bagging_fraction': 0.8812156324907953, 'bagging_freq': 4, 'min_child_samples': 89}. Best is trial 20 with value: 0.5222951734851151.\n"
          ]
        },
        {
          "output_type": "stream",
          "name": "stdout",
          "text": [
            "[400]\tvalid_0's multi_logloss: 1.05125\n",
            "Early stopping, best iteration is:\n",
            "[457]\tvalid_0's multi_logloss: 1.0476\n"
          ]
        },
        {
          "output_type": "stream",
          "name": "stderr",
          "text": [
            "/usr/local/lib/python3.10/dist-packages/lightgbm/engine.py:172: UserWarning: Found `num_iterations` in params. Will use it instead of argument\n",
            "  _log_warning(f\"Found `{alias}` in params. Will use it instead of argument\")\n"
          ]
        },
        {
          "output_type": "stream",
          "name": "stdout",
          "text": [
            "Training until validation scores don't improve for 20 rounds\n",
            "[100]\tvalid_0's multi_logloss: 1.06675\n",
            "[200]\tvalid_0's multi_logloss: 1.04831\n"
          ]
        },
        {
          "output_type": "stream",
          "name": "stderr",
          "text": [
            "[I 2024-05-27 21:32:36,269] Trial 24 finished with value: 0.5165034890796886 and parameters: {'num_iterations': 756, 'learning_rate': 0.07530192345929133, 'lambda_l1': 9.298136538143293, 'lambda_l2': 1.948611084527025, 'num_leaves': 219, 'feature_fraction': 0.7031030695135689, 'bagging_fraction': 0.7339404021612346, 'bagging_freq': 3, 'min_child_samples': 80}. Best is trial 20 with value: 0.5222951734851151.\n"
          ]
        },
        {
          "output_type": "stream",
          "name": "stdout",
          "text": [
            "Early stopping, best iteration is:\n",
            "[244]\tvalid_0's multi_logloss: 1.04394\n"
          ]
        },
        {
          "output_type": "stream",
          "name": "stderr",
          "text": [
            "/usr/local/lib/python3.10/dist-packages/lightgbm/engine.py:172: UserWarning: Found `num_iterations` in params. Will use it instead of argument\n",
            "  _log_warning(f\"Found `{alias}` in params. Will use it instead of argument\")\n"
          ]
        },
        {
          "output_type": "stream",
          "name": "stdout",
          "text": [
            "Training until validation scores don't improve for 20 rounds\n",
            "[100]\tvalid_0's multi_logloss: 1.10562\n",
            "[200]\tvalid_0's multi_logloss: 1.07485\n",
            "[300]\tvalid_0's multi_logloss: 1.06163\n",
            "[400]\tvalid_0's multi_logloss: 1.054\n",
            "[500]\tvalid_0's multi_logloss: 1.04928\n",
            "Early stopping, best iteration is:\n",
            "[500]\tvalid_0's multi_logloss: 1.04928\n"
          ]
        },
        {
          "output_type": "stream",
          "name": "stderr",
          "text": [
            "[I 2024-05-27 21:32:40,541] Trial 25 finished with value: 0.4994768106795223 and parameters: {'num_iterations': 998, 'learning_rate': 0.025180105005537124, 'lambda_l1': 9.278070562991143, 'lambda_l2': 3.4139823731928427, 'num_leaves': 222, 'feature_fraction': 0.7065900057755979, 'bagging_fraction': 0.7233242716710941, 'bagging_freq': 4, 'min_child_samples': 77}. Best is trial 20 with value: 0.5222951734851151.\n",
            "/usr/local/lib/python3.10/dist-packages/lightgbm/engine.py:172: UserWarning: Found `num_iterations` in params. Will use it instead of argument\n",
            "  _log_warning(f\"Found `{alias}` in params. Will use it instead of argument\")\n"
          ]
        },
        {
          "output_type": "stream",
          "name": "stdout",
          "text": [
            "Training until validation scores don't improve for 20 rounds\n",
            "[100]\tvalid_0's multi_logloss: 1.12159\n",
            "[200]\tvalid_0's multi_logloss: 1.08434\n",
            "[300]\tvalid_0's multi_logloss: 1.06945\n",
            "[400]\tvalid_0's multi_logloss: 1.06077\n"
          ]
        },
        {
          "output_type": "stream",
          "name": "stderr",
          "text": [
            "[I 2024-05-27 21:32:41,172] Trial 26 finished with value: 0.4833927383328581 and parameters: {'num_iterations': 773, 'learning_rate': 0.021297341576405133, 'lambda_l1': 9.176229925207972, 'lambda_l2': 3.467792540040601, 'num_leaves': 234, 'feature_fraction': 0.5161716063056279, 'bagging_fraction': 0.729163388108675, 'bagging_freq': 5, 'min_child_samples': 80}. Best is trial 20 with value: 0.5222951734851151.\n"
          ]
        },
        {
          "output_type": "stream",
          "name": "stdout",
          "text": [
            "Early stopping, best iteration is:\n",
            "[455]\tvalid_0's multi_logloss: 1.05786\n",
            "Training until validation scores don't improve for 20 rounds\n"
          ]
        },
        {
          "output_type": "stream",
          "name": "stderr",
          "text": [
            "/usr/local/lib/python3.10/dist-packages/lightgbm/engine.py:172: UserWarning: Found `num_iterations` in params. Will use it instead of argument\n",
            "  _log_warning(f\"Found `{alias}` in params. Will use it instead of argument\")\n",
            "[I 2024-05-27 21:32:41,402] Trial 27 finished with value: 0.47816440194730403 and parameters: {'num_iterations': 781, 'learning_rate': 0.07372532694926037, 'lambda_l1': 5.975445111682147, 'lambda_l2': 3.3209987514998844, 'num_leaves': 218, 'feature_fraction': 0.6290933759160311, 'bagging_fraction': 0.6345374765619741, 'bagging_freq': 4, 'min_child_samples': 65}. Best is trial 20 with value: 0.5222951734851151.\n"
          ]
        },
        {
          "output_type": "stream",
          "name": "stdout",
          "text": [
            "[100]\tvalid_0's multi_logloss: 1.05511\n",
            "Early stopping, best iteration is:\n",
            "[111]\tvalid_0's multi_logloss: 1.04905\n",
            "Training until validation scores don't improve for 20 rounds\n"
          ]
        },
        {
          "output_type": "stream",
          "name": "stderr",
          "text": [
            "/usr/local/lib/python3.10/dist-packages/lightgbm/engine.py:172: UserWarning: Found `num_iterations` in params. Will use it instead of argument\n",
            "  _log_warning(f\"Found `{alias}` in params. Will use it instead of argument\")\n",
            "[I 2024-05-27 21:32:41,742] Trial 28 finished with value: 0.4729100693043521 and parameters: {'num_iterations': 978, 'learning_rate': 0.028949479281347106, 'lambda_l1': 6.717176380927353, 'lambda_l2': 1.9245592146392076, 'num_leaves': 254, 'feature_fraction': 0.7133359208533917, 'bagging_fraction': 0.5364756434135429, 'bagging_freq': 5, 'min_child_samples': 75}. Best is trial 20 with value: 0.5222951734851151.\n"
          ]
        },
        {
          "output_type": "stream",
          "name": "stdout",
          "text": [
            "[100]\tvalid_0's multi_logloss: 1.09582\n",
            "[200]\tvalid_0's multi_logloss: 1.07123\n",
            "Early stopping, best iteration is:\n",
            "[234]\tvalid_0's multi_logloss: 1.06315\n"
          ]
        },
        {
          "output_type": "stream",
          "name": "stderr",
          "text": [
            "/usr/local/lib/python3.10/dist-packages/lightgbm/engine.py:172: UserWarning: Found `num_iterations` in params. Will use it instead of argument\n",
            "  _log_warning(f\"Found `{alias}` in params. Will use it instead of argument\")\n"
          ]
        },
        {
          "output_type": "stream",
          "name": "stdout",
          "text": [
            "Training until validation scores don't improve for 20 rounds\n",
            "[100]\tvalid_0's multi_logloss: 1.16342\n",
            "[200]\tvalid_0's multi_logloss: 1.11026\n",
            "[300]\tvalid_0's multi_logloss: 1.08701\n",
            "[400]\tvalid_0's multi_logloss: 1.07474\n",
            "[500]\tvalid_0's multi_logloss: 1.06641\n",
            "[600]\tvalid_0's multi_logloss: 1.06198\n",
            "[700]\tvalid_0's multi_logloss: 1.05843\n",
            "[800]\tvalid_0's multi_logloss: 1.05487\n",
            "Early stopping, best iteration is:\n",
            "[819]\tvalid_0's multi_logloss: 1.05419\n"
          ]
        },
        {
          "output_type": "stream",
          "name": "stderr",
          "text": [
            "[I 2024-05-27 21:32:42,614] Trial 29 finished with value: 0.47042397014253806 and parameters: {'num_iterations': 983, 'learning_rate': 0.013233213264254102, 'lambda_l1': 8.106049816353888, 'lambda_l2': 5.595366041256344, 'num_leaves': 178, 'feature_fraction': 0.41451774398535945, 'bagging_fraction': 0.670237757124673, 'bagging_freq': 3, 'min_child_samples': 90}. Best is trial 20 with value: 0.5222951734851151.\n",
            "/usr/local/lib/python3.10/dist-packages/lightgbm/engine.py:172: UserWarning: Found `num_iterations` in params. Will use it instead of argument\n",
            "  _log_warning(f\"Found `{alias}` in params. Will use it instead of argument\")\n"
          ]
        },
        {
          "output_type": "stream",
          "name": "stdout",
          "text": [
            "Training until validation scores don't improve for 20 rounds\n",
            "[100]\tvalid_0's multi_logloss: 1.06546\n"
          ]
        },
        {
          "output_type": "stream",
          "name": "stderr",
          "text": [
            "[I 2024-05-27 21:32:42,974] Trial 30 finished with value: 0.5160110478972755 and parameters: {'num_iterations': 445, 'learning_rate': 0.03471569301615317, 'lambda_l1': 5.00994510049524, 'lambda_l2': 3.3192453972927902, 'num_leaves': 232, 'feature_fraction': 0.7395731430527508, 'bagging_fraction': 0.8039890954755834, 'bagging_freq': 4, 'min_child_samples': 60}. Best is trial 20 with value: 0.5222951734851151.\n"
          ]
        },
        {
          "output_type": "stream",
          "name": "stdout",
          "text": [
            "Early stopping, best iteration is:\n",
            "[156]\tvalid_0's multi_logloss: 1.04621\n",
            "Training until validation scores don't improve for 20 rounds\n"
          ]
        },
        {
          "output_type": "stream",
          "name": "stderr",
          "text": [
            "/usr/local/lib/python3.10/dist-packages/lightgbm/engine.py:172: UserWarning: Found `num_iterations` in params. Will use it instead of argument\n",
            "  _log_warning(f\"Found `{alias}` in params. Will use it instead of argument\")\n",
            "[I 2024-05-27 21:32:43,258] Trial 31 finished with value: 0.4963161698947652 and parameters: {'num_iterations': 423, 'learning_rate': 0.03785533239549766, 'lambda_l1': 3.761762283342929, 'lambda_l2': 3.1530848695939073, 'num_leaves': 206, 'feature_fraction': 0.7551234443142372, 'bagging_fraction': 0.7089829530863035, 'bagging_freq': 4, 'min_child_samples': 48}. Best is trial 20 with value: 0.5222951734851151.\n"
          ]
        },
        {
          "output_type": "stream",
          "name": "stdout",
          "text": [
            "[100]\tvalid_0's multi_logloss: 1.06822\n",
            "Early stopping, best iteration is:\n",
            "[105]\tvalid_0's multi_logloss: 1.06296\n",
            "Training until validation scores don't improve for 20 rounds\n"
          ]
        },
        {
          "output_type": "stream",
          "name": "stderr",
          "text": [
            "/usr/local/lib/python3.10/dist-packages/lightgbm/engine.py:172: UserWarning: Found `num_iterations` in params. Will use it instead of argument\n",
            "  _log_warning(f\"Found `{alias}` in params. Will use it instead of argument\")\n"
          ]
        },
        {
          "output_type": "stream",
          "name": "stdout",
          "text": [
            "[100]\tvalid_0's multi_logloss: 1.12767\n",
            "[200]\tvalid_0's multi_logloss: 1.07697\n",
            "[300]\tvalid_0's multi_logloss: 1.05741\n",
            "[400]\tvalid_0's multi_logloss: 1.04625\n",
            "[500]\tvalid_0's multi_logloss: 1.04102\n",
            "Early stopping, best iteration is:\n",
            "[550]\tvalid_0's multi_logloss: 1.0385\n"
          ]
        },
        {
          "output_type": "stream",
          "name": "stderr",
          "text": [
            "[I 2024-05-27 21:32:44,175] Trial 32 finished with value: 0.5032862188497251 and parameters: {'num_iterations': 589, 'learning_rate': 0.013161881976903675, 'lambda_l1': 5.108979858876632, 'lambda_l2': 1.8805462726398257, 'num_leaves': 235, 'feature_fraction': 0.7289488202139442, 'bagging_fraction': 0.7937142682882297, 'bagging_freq': 5, 'min_child_samples': 75}. Best is trial 20 with value: 0.5222951734851151.\n",
            "/usr/local/lib/python3.10/dist-packages/lightgbm/engine.py:172: UserWarning: Found `num_iterations` in params. Will use it instead of argument\n",
            "  _log_warning(f\"Found `{alias}` in params. Will use it instead of argument\")\n",
            "[I 2024-05-27 21:32:44,420] Trial 33 finished with value: 0.4798905455699665 and parameters: {'num_iterations': 596, 'learning_rate': 0.04879848717223898, 'lambda_l1': 5.147169007448314, 'lambda_l2': 1.9108423814137745, 'num_leaves': 235, 'feature_fraction': 0.7376738834679906, 'bagging_fraction': 0.803648346105211, 'bagging_freq': 5, 'min_child_samples': 72}. Best is trial 20 with value: 0.5222951734851151.\n"
          ]
        },
        {
          "output_type": "stream",
          "name": "stdout",
          "text": [
            "Training until validation scores don't improve for 20 rounds\n",
            "[100]\tvalid_0's multi_logloss: 1.05308\n",
            "Early stopping, best iteration is:\n",
            "[94]\tvalid_0's multi_logloss: 1.05019\n"
          ]
        },
        {
          "output_type": "stream",
          "name": "stderr",
          "text": [
            "/usr/local/lib/python3.10/dist-packages/lightgbm/engine.py:172: UserWarning: Found `num_iterations` in params. Will use it instead of argument\n",
            "  _log_warning(f\"Found `{alias}` in params. Will use it instead of argument\")\n"
          ]
        },
        {
          "output_type": "stream",
          "name": "stdout",
          "text": [
            "Training until validation scores don't improve for 20 rounds\n",
            "[100]\tvalid_0's multi_logloss: 1.13746\n",
            "[200]\tvalid_0's multi_logloss: 1.08139\n",
            "[300]\tvalid_0's multi_logloss: 1.05934\n",
            "[400]\tvalid_0's multi_logloss: 1.04841\n",
            "[500]\tvalid_0's multi_logloss: 1.04264\n",
            "Did not meet early stopping. Best iteration is:\n",
            "[515]\tvalid_0's multi_logloss: 1.04153\n"
          ]
        },
        {
          "output_type": "stream",
          "name": "stderr",
          "text": [
            "[I 2024-05-27 21:32:45,316] Trial 34 finished with value: 0.5078179968269297 and parameters: {'num_iterations': 521, 'learning_rate': 0.010880061064878535, 'lambda_l1': 4.918355389780839, 'lambda_l2': 0.6218052032121557, 'num_leaves': 240, 'feature_fraction': 0.6174639044906902, 'bagging_fraction': 0.8096461857393259, 'bagging_freq': 3, 'min_child_samples': 61}. Best is trial 20 with value: 0.5222951734851151.\n",
            "/usr/local/lib/python3.10/dist-packages/lightgbm/engine.py:172: UserWarning: Found `num_iterations` in params. Will use it instead of argument\n",
            "  _log_warning(f\"Found `{alias}` in params. Will use it instead of argument\")\n",
            "[I 2024-05-27 21:32:45,500] Trial 35 finished with value: 0.4845267745952678 and parameters: {'num_iterations': 266, 'learning_rate': 0.10198493866973196, 'lambda_l1': 3.282134479784168, 'lambda_l2': 0.830181572500138, 'num_leaves': 212, 'feature_fraction': 0.6206625750214371, 'bagging_fraction': 0.7489250715899842, 'bagging_freq': 3, 'min_child_samples': 61}. Best is trial 20 with value: 0.5222951734851151.\n",
            "/usr/local/lib/python3.10/dist-packages/lightgbm/engine.py:172: UserWarning: Found `num_iterations` in params. Will use it instead of argument\n",
            "  _log_warning(f\"Found `{alias}` in params. Will use it instead of argument\")\n"
          ]
        },
        {
          "output_type": "stream",
          "name": "stdout",
          "text": [
            "Training until validation scores don't improve for 20 rounds\n",
            "Early stopping, best iteration is:\n",
            "[56]\tvalid_0's multi_logloss: 1.04898\n",
            "Training until validation scores don't improve for 20 rounds\n",
            "[100]\tvalid_0's multi_logloss: 1.24375\n",
            "[200]\tvalid_0's multi_logloss: 1.17625\n",
            "[300]\tvalid_0's multi_logloss: 1.13352\n",
            "[400]\tvalid_0's multi_logloss: 1.10616\n",
            "[500]\tvalid_0's multi_logloss: 1.08654\n",
            "Did not meet early stopping. Best iteration is:\n",
            "[527]\tvalid_0's multi_logloss: 1.08236\n"
          ]
        },
        {
          "output_type": "stream",
          "name": "stderr",
          "text": [
            "[I 2024-05-27 21:32:46,552] Trial 36 finished with value: 0.4896451379115613 and parameters: {'num_iterations': 527, 'learning_rate': 0.0030339330721974177, 'lambda_l1': 1.3987803005063366, 'lambda_l2': 0.6393517330392176, 'num_leaves': 174, 'feature_fraction': 0.5622657156197167, 'bagging_fraction': 0.8169215099136627, 'bagging_freq': 3, 'min_child_samples': 47}. Best is trial 20 with value: 0.5222951734851151.\n",
            "/usr/local/lib/python3.10/dist-packages/lightgbm/engine.py:172: UserWarning: Found `num_iterations` in params. Will use it instead of argument\n",
            "  _log_warning(f\"Found `{alias}` in params. Will use it instead of argument\")\n",
            "[I 2024-05-27 21:32:46,801] Trial 37 finished with value: 0.4895937967448265 and parameters: {'num_iterations': 411, 'learning_rate': 0.07137375658543119, 'lambda_l1': 4.432439721704765, 'lambda_l2': 1.4201298739489339, 'num_leaves': 243, 'feature_fraction': 0.6515710925284516, 'bagging_fraction': 0.7689305257185934, 'bagging_freq': 3, 'min_child_samples': 54}. Best is trial 20 with value: 0.5222951734851151.\n"
          ]
        },
        {
          "output_type": "stream",
          "name": "stdout",
          "text": [
            "Training until validation scores don't improve for 20 rounds\n",
            "[100]\tvalid_0's multi_logloss: 1.04732\n",
            "Early stopping, best iteration is:\n",
            "[82]\tvalid_0's multi_logloss: 1.04398\n"
          ]
        },
        {
          "output_type": "stream",
          "name": "stderr",
          "text": [
            "/usr/local/lib/python3.10/dist-packages/lightgbm/engine.py:172: UserWarning: Found `num_iterations` in params. Will use it instead of argument\n",
            "  _log_warning(f\"Found `{alias}` in params. Will use it instead of argument\")\n"
          ]
        },
        {
          "output_type": "stream",
          "name": "stdout",
          "text": [
            "Training until validation scores don't improve for 20 rounds\n",
            "[100]\tvalid_0's multi_logloss: 1.14515\n",
            "[200]\tvalid_0's multi_logloss: 1.08732\n",
            "[300]\tvalid_0's multi_logloss: 1.06377\n",
            "[400]\tvalid_0's multi_logloss: 1.05165\n",
            "Did not meet early stopping. Best iteration is:\n",
            "[489]\tvalid_0's multi_logloss: 1.04614\n"
          ]
        },
        {
          "output_type": "stream",
          "name": "stderr",
          "text": [
            "[I 2024-05-27 21:32:47,571] Trial 38 finished with value: 0.5062193542803073 and parameters: {'num_iterations': 489, 'learning_rate': 0.01085181509097724, 'lambda_l1': 5.5068717174727, 'lambda_l2': 0.6651302921467469, 'num_leaves': 194, 'feature_fraction': 0.5888435305360229, 'bagging_fraction': 0.742407585725212, 'bagging_freq': 4, 'min_child_samples': 63}. Best is trial 20 with value: 0.5222951734851151.\n",
            "/usr/local/lib/python3.10/dist-packages/lightgbm/engine.py:172: UserWarning: Found `num_iterations` in params. Will use it instead of argument\n",
            "  _log_warning(f\"Found `{alias}` in params. Will use it instead of argument\")\n",
            "[I 2024-05-27 21:32:47,745] Trial 39 finished with value: 0.44925303454715215 and parameters: {'num_iterations': 739, 'learning_rate': 0.14077815881798547, 'lambda_l1': 6.463094715538203, 'lambda_l2': 3.7877140745322033, 'num_leaves': 178, 'feature_fraction': 0.46987088747226435, 'bagging_fraction': 0.6715505802627947, 'bagging_freq': 3, 'min_child_samples': 85}. Best is trial 20 with value: 0.5222951734851151.\n",
            "/usr/local/lib/python3.10/dist-packages/lightgbm/engine.py:172: UserWarning: Found `num_iterations` in params. Will use it instead of argument\n",
            "  _log_warning(f\"Found `{alias}` in params. Will use it instead of argument\")\n"
          ]
        },
        {
          "output_type": "stream",
          "name": "stdout",
          "text": [
            "Training until validation scores don't improve for 20 rounds\n",
            "Early stopping, best iteration is:\n",
            "[79]\tvalid_0's multi_logloss: 1.05676\n",
            "Training until validation scores don't improve for 20 rounds\n",
            "[100]\tvalid_0's multi_logloss: 1.25977\n",
            "[200]\tvalid_0's multi_logloss: 1.20171\n"
          ]
        },
        {
          "output_type": "stream",
          "name": "stderr",
          "text": [
            "[I 2024-05-27 21:32:48,223] Trial 40 finished with value: 0.3077672904317988 and parameters: {'num_iterations': 256, 'learning_rate': 0.00334396437851005, 'lambda_l1': 7.873685150223135, 'lambda_l2': 5.539179399564362, 'num_leaves': 245, 'feature_fraction': 0.8942238638601672, 'bagging_fraction': 0.7701130291834867, 'bagging_freq': 7, 'min_child_samples': 46}. Best is trial 20 with value: 0.5222951734851151.\n"
          ]
        },
        {
          "output_type": "stream",
          "name": "stdout",
          "text": [
            "Did not meet early stopping. Best iteration is:\n",
            "[256]\tvalid_0's multi_logloss: 1.17949\n",
            "Training until validation scores don't improve for 20 rounds\n"
          ]
        },
        {
          "output_type": "stream",
          "name": "stderr",
          "text": [
            "/usr/local/lib/python3.10/dist-packages/lightgbm/engine.py:172: UserWarning: Found `num_iterations` in params. Will use it instead of argument\n",
            "  _log_warning(f\"Found `{alias}` in params. Will use it instead of argument\")\n"
          ]
        },
        {
          "output_type": "stream",
          "name": "stdout",
          "text": [
            "[100]\tvalid_0's multi_logloss: 1.13521\n",
            "[200]\tvalid_0's multi_logloss: 1.08127\n",
            "[300]\tvalid_0's multi_logloss: 1.06067\n",
            "[400]\tvalid_0's multi_logloss: 1.04966\n",
            "Did not meet early stopping. Best iteration is:\n",
            "[468]\tvalid_0's multi_logloss: 1.04446\n"
          ]
        },
        {
          "output_type": "stream",
          "name": "stderr",
          "text": [
            "[I 2024-05-27 21:32:48,935] Trial 41 finished with value: 0.5137721041525682 and parameters: {'num_iterations': 469, 'learning_rate': 0.01218045500124143, 'lambda_l1': 5.781705720533625, 'lambda_l2': 0.5830610826476341, 'num_leaves': 193, 'feature_fraction': 0.5902321018340488, 'bagging_fraction': 0.748861856470386, 'bagging_freq': 4, 'min_child_samples': 64}. Best is trial 20 with value: 0.5222951734851151.\n",
            "/usr/local/lib/python3.10/dist-packages/lightgbm/engine.py:172: UserWarning: Found `num_iterations` in params. Will use it instead of argument\n",
            "  _log_warning(f\"Found `{alias}` in params. Will use it instead of argument\")\n"
          ]
        },
        {
          "output_type": "stream",
          "name": "stdout",
          "text": [
            "Training until validation scores don't improve for 20 rounds\n",
            "[100]\tvalid_0's multi_logloss: 1.22\n",
            "[200]\tvalid_0's multi_logloss: 1.15528\n",
            "[300]\tvalid_0's multi_logloss: 1.11854\n"
          ]
        },
        {
          "output_type": "stream",
          "name": "stderr",
          "text": [
            "[I 2024-05-27 21:32:49,665] Trial 42 finished with value: 0.4750488776207974 and parameters: {'num_iterations': 448, 'learning_rate': 0.005137264318518753, 'lambda_l1': 5.300764947170973, 'lambda_l2': 1.6041474375293059, 'num_leaves': 210, 'feature_fraction': 0.5320967882552724, 'bagging_fraction': 0.6705223495436986, 'bagging_freq': 4, 'min_child_samples': 58}. Best is trial 20 with value: 0.5222951734851151.\n"
          ]
        },
        {
          "output_type": "stream",
          "name": "stdout",
          "text": [
            "[400]\tvalid_0's multi_logloss: 1.09602\n",
            "Did not meet early stopping. Best iteration is:\n",
            "[448]\tvalid_0's multi_logloss: 1.08915\n"
          ]
        },
        {
          "output_type": "stream",
          "name": "stderr",
          "text": [
            "/usr/local/lib/python3.10/dist-packages/lightgbm/engine.py:172: UserWarning: Found `num_iterations` in params. Will use it instead of argument\n",
            "  _log_warning(f\"Found `{alias}` in params. Will use it instead of argument\")\n"
          ]
        },
        {
          "output_type": "stream",
          "name": "stdout",
          "text": [
            "Training until validation scores don't improve for 20 rounds\n",
            "[100]\tvalid_0's multi_logloss: 1.16162\n",
            "[200]\tvalid_0's multi_logloss: 1.10202\n",
            "[300]\tvalid_0's multi_logloss: 1.07719\n",
            "[400]\tvalid_0's multi_logloss: 1.06226\n",
            "[500]\tvalid_0's multi_logloss: 1.05548\n",
            "Did not meet early stopping. Best iteration is:\n",
            "[505]\tvalid_0's multi_logloss: 1.05493\n"
          ]
        },
        {
          "output_type": "stream",
          "name": "stderr",
          "text": [
            "[I 2024-05-27 21:32:50,552] Trial 43 finished with value: 0.4875703075807843 and parameters: {'num_iterations': 505, 'learning_rate': 0.008682719370289214, 'lambda_l1': 5.80767619772286, 'lambda_l2': 0.49036986698711127, 'num_leaves': 166, 'feature_fraction': 0.6876333085728322, 'bagging_fraction': 0.8484199185921173, 'bagging_freq': 3, 'min_child_samples': 72}. Best is trial 20 with value: 0.5222951734851151.\n",
            "/usr/local/lib/python3.10/dist-packages/lightgbm/engine.py:172: UserWarning: Found `num_iterations` in params. Will use it instead of argument\n",
            "  _log_warning(f\"Found `{alias}` in params. Will use it instead of argument\")\n"
          ]
        },
        {
          "output_type": "stream",
          "name": "stdout",
          "text": [
            "Training until validation scores don't improve for 20 rounds\n",
            "[100]\tvalid_0's multi_logloss: 1.11985\n",
            "[200]\tvalid_0's multi_logloss: 1.07253\n",
            "[300]\tvalid_0's multi_logloss: 1.05177\n"
          ]
        },
        {
          "output_type": "stream",
          "name": "stderr",
          "text": [
            "[I 2024-05-27 21:32:54,776] Trial 44 finished with value: 0.49978186497706717 and parameters: {'num_iterations': 388, 'learning_rate': 0.014314542608961752, 'lambda_l1': 4.266904272791082, 'lambda_l2': 1.2049902138947002, 'num_leaves': 187, 'feature_fraction': 0.5801219044007933, 'bagging_fraction': 0.7819539842730997, 'bagging_freq': 4, 'min_child_samples': 94}. Best is trial 20 with value: 0.5222951734851151.\n"
          ]
        },
        {
          "output_type": "stream",
          "name": "stdout",
          "text": [
            "Did not meet early stopping. Best iteration is:\n",
            "[388]\tvalid_0's multi_logloss: 1.04415\n",
            "Training until validation scores don't improve for 20 rounds\n"
          ]
        },
        {
          "output_type": "stream",
          "name": "stderr",
          "text": [
            "/usr/local/lib/python3.10/dist-packages/lightgbm/engine.py:172: UserWarning: Found `num_iterations` in params. Will use it instead of argument\n",
            "  _log_warning(f\"Found `{alias}` in params. Will use it instead of argument\")\n"
          ]
        },
        {
          "output_type": "stream",
          "name": "stdout",
          "text": [
            "[100]\tvalid_0's multi_logloss: 1.08579\n",
            "[200]\tvalid_0's multi_logloss: 1.06322\n",
            "Early stopping, best iteration is:\n",
            "[230]\tvalid_0's multi_logloss: 1.05856\n"
          ]
        },
        {
          "output_type": "stream",
          "name": "stderr",
          "text": [
            "[I 2024-05-27 21:32:55,174] Trial 45 finished with value: 0.5294767904485929 and parameters: {'num_iterations': 623, 'learning_rate': 0.030874292285824778, 'lambda_l1': 7.442393271197688, 'lambda_l2': 2.0979246823337974, 'num_leaves': 228, 'feature_fraction': 0.7887166156860056, 'bagging_fraction': 0.7345640995162621, 'bagging_freq': 5, 'min_child_samples': 68}. Best is trial 45 with value: 0.5294767904485929.\n",
            "/usr/local/lib/python3.10/dist-packages/lightgbm/engine.py:172: UserWarning: Found `num_iterations` in params. Will use it instead of argument\n",
            "  _log_warning(f\"Found `{alias}` in params. Will use it instead of argument\")\n"
          ]
        },
        {
          "output_type": "stream",
          "name": "stdout",
          "text": [
            "Training until validation scores don't improve for 20 rounds\n",
            "[100]\tvalid_0's multi_logloss: 1.08775\n",
            "[200]\tvalid_0's multi_logloss: 1.06529"
          ]
        },
        {
          "output_type": "stream",
          "name": "stderr",
          "text": [
            "[I 2024-05-27 21:32:55,597] Trial 46 finished with value: 0.49400259631113713 and parameters: {'num_iterations': 607, 'learning_rate': 0.03610606888246708, 'lambda_l1': 7.534565461217456, 'lambda_l2': 2.832360697909298, 'num_leaves': 225, 'feature_fraction': 0.7899645261176534, 'bagging_fraction': 0.5951866101020975, 'bagging_freq': 6, 'min_child_samples': 84}. Best is trial 45 with value: 0.5294767904485929.\n"
          ]
        },
        {
          "output_type": "stream",
          "name": "stdout",
          "text": [
            "\n",
            "[300]\tvalid_0's multi_logloss: 1.06106\n",
            "Early stopping, best iteration is:\n",
            "[282]\tvalid_0's multi_logloss: 1.05678\n"
          ]
        },
        {
          "output_type": "stream",
          "name": "stderr",
          "text": [
            "/usr/local/lib/python3.10/dist-packages/lightgbm/engine.py:172: UserWarning: Found `num_iterations` in params. Will use it instead of argument\n",
            "  _log_warning(f\"Found `{alias}` in params. Will use it instead of argument\")\n"
          ]
        },
        {
          "output_type": "stream",
          "name": "stdout",
          "text": [
            "Training until validation scores don't improve for 20 rounds\n",
            "[100]\tvalid_0's multi_logloss: 1.06912\n"
          ]
        },
        {
          "output_type": "stream",
          "name": "stderr",
          "text": [
            "[I 2024-05-27 21:32:55,979] Trial 47 finished with value: 0.5044206349206349 and parameters: {'num_iterations': 839, 'learning_rate': 0.04586263242539556, 'lambda_l1': 6.678709117807398, 'lambda_l2': 4.103763446313259, 'num_leaves': 203, 'feature_fraction': 0.8337862909569094, 'bagging_fraction': 0.7032229931964047, 'bagging_freq': 6, 'min_child_samples': 79}. Best is trial 45 with value: 0.5294767904485929.\n"
          ]
        },
        {
          "output_type": "stream",
          "name": "stdout",
          "text": [
            "[200]\tvalid_0's multi_logloss: 1.05471\n",
            "Early stopping, best iteration is:\n",
            "[234]\tvalid_0's multi_logloss: 1.04817\n",
            "Training until validation scores don't improve for 20 rounds\n"
          ]
        },
        {
          "output_type": "stream",
          "name": "stderr",
          "text": [
            "/usr/local/lib/python3.10/dist-packages/lightgbm/engine.py:172: UserWarning: Found `num_iterations` in params. Will use it instead of argument\n",
            "  _log_warning(f\"Found `{alias}` in params. Will use it instead of argument\")\n",
            "[I 2024-05-27 21:32:56,215] Trial 48 finished with value: 0.49884646510317354 and parameters: {'num_iterations': 635, 'learning_rate': 0.07627479204818206, 'lambda_l1': 7.035835871181492, 'lambda_l2': 2.2526841856555517, 'num_leaves': 183, 'feature_fraction': 0.7748985120095561, 'bagging_fraction': 0.7643633884751794, 'bagging_freq': 5, 'min_child_samples': 69}. Best is trial 45 with value: 0.5294767904485929.\n"
          ]
        },
        {
          "output_type": "stream",
          "name": "stdout",
          "text": [
            "[100]\tvalid_0's multi_logloss: 1.04825\n",
            "Early stopping, best iteration is:\n",
            "[91]\tvalid_0's multi_logloss: 1.04721\n",
            "Training until validation scores don't improve for 20 rounds\n"
          ]
        },
        {
          "output_type": "stream",
          "name": "stderr",
          "text": [
            "/usr/local/lib/python3.10/dist-packages/lightgbm/engine.py:172: UserWarning: Found `num_iterations` in params. Will use it instead of argument\n",
            "  _log_warning(f\"Found `{alias}` in params. Will use it instead of argument\")\n"
          ]
        },
        {
          "output_type": "stream",
          "name": "stdout",
          "text": [
            "[100]\tvalid_0's multi_logloss: 1.08418\n",
            "[200]\tvalid_0's multi_logloss: 1.05724\n"
          ]
        },
        {
          "output_type": "stream",
          "name": "stderr",
          "text": [
            "[I 2024-05-27 21:32:56,762] Trial 49 finished with value: 0.4716772080112559 and parameters: {'num_iterations': 541, 'learning_rate': 0.026792229660803343, 'lambda_l1': 6.2910668487855315, 'lambda_l2': 2.2033586399189344, 'num_leaves': 164, 'feature_fraction': 0.9016987058729218, 'bagging_fraction': 0.7285020247911431, 'bagging_freq': 5, 'min_child_samples': 32}. Best is trial 45 with value: 0.5294767904485929.\n"
          ]
        },
        {
          "output_type": "stream",
          "name": "stdout",
          "text": [
            "Early stopping, best iteration is:\n",
            "[235]\tvalid_0's multi_logloss: 1.05367\n",
            "Training until validation scores don't improve for 20 rounds\n"
          ]
        },
        {
          "output_type": "stream",
          "name": "stderr",
          "text": [
            "/usr/local/lib/python3.10/dist-packages/lightgbm/engine.py:172: UserWarning: Found `num_iterations` in params. Will use it instead of argument\n",
            "  _log_warning(f\"Found `{alias}` in params. Will use it instead of argument\")\n",
            "[I 2024-05-27 21:32:56,952] Trial 50 finished with value: 0.48631312654175196 and parameters: {'num_iterations': 326, 'learning_rate': 0.16977117709274933, 'lambda_l1': 7.4512251074581215, 'lambda_l2': 9.535967146317956, 'num_leaves': 225, 'feature_fraction': 0.6857083301822648, 'bagging_fraction': 0.6534629636947538, 'bagging_freq': 4, 'min_child_samples': 51}. Best is trial 45 with value: 0.5294767904485929.\n",
            "/usr/local/lib/python3.10/dist-packages/lightgbm/engine.py:172: UserWarning: Found `num_iterations` in params. Will use it instead of argument\n",
            "  _log_warning(f\"Found `{alias}` in params. Will use it instead of argument\")\n"
          ]
        },
        {
          "output_type": "stream",
          "name": "stdout",
          "text": [
            "Early stopping, best iteration is:\n",
            "[70]\tvalid_0's multi_logloss: 1.04723\n",
            "Training until validation scores don't improve for 20 rounds\n",
            "[100]\tvalid_0's multi_logloss: 1.2026\n",
            "[200]\tvalid_0's multi_logloss: 1.13473\n",
            "[300]\tvalid_0's multi_logloss: 1.09999\n",
            "[400]\tvalid_0's multi_logloss: 1.08023\n"
          ]
        },
        {
          "output_type": "stream",
          "name": "stderr",
          "text": [
            "[I 2024-05-27 21:32:57,790] Trial 51 finished with value: 0.47335512876166647 and parameters: {'num_iterations': 467, 'learning_rate': 0.005413519177582835, 'lambda_l1': 4.5817222735676175, 'lambda_l2': 0.4101428299496988, 'num_leaves': 243, 'feature_fraction': 0.6422747012557602, 'bagging_fraction': 0.8174447687029532, 'bagging_freq': 3, 'min_child_samples': 64}. Best is trial 45 with value: 0.5294767904485929.\n"
          ]
        },
        {
          "output_type": "stream",
          "name": "stdout",
          "text": [
            "Did not meet early stopping. Best iteration is:\n",
            "[467]\tvalid_0's multi_logloss: 1.07071\n"
          ]
        },
        {
          "output_type": "stream",
          "name": "stderr",
          "text": [
            "/usr/local/lib/python3.10/dist-packages/lightgbm/engine.py:172: UserWarning: Found `num_iterations` in params. Will use it instead of argument\n",
            "  _log_warning(f\"Found `{alias}` in params. Will use it instead of argument\")\n"
          ]
        },
        {
          "output_type": "stream",
          "name": "stdout",
          "text": [
            "Training until validation scores don't improve for 20 rounds\n",
            "[100]\tvalid_0's multi_logloss: 1.09868\n"
          ]
        },
        {
          "output_type": "stream",
          "name": "stderr",
          "text": [
            "[I 2024-05-27 21:32:58,352] Trial 52 finished with value: 0.483322395999972 and parameters: {'num_iterations': 557, 'learning_rate': 0.016736707429315035, 'lambda_l1': 3.6158731279012333, 'lambda_l2': 1.6722772340859458, 'num_leaves': 215, 'feature_fraction': 0.8279742035982193, 'bagging_fraction': 0.7475014273832502, 'bagging_freq': 3, 'min_child_samples': 59}. Best is trial 45 with value: 0.5294767904485929.\n"
          ]
        },
        {
          "output_type": "stream",
          "name": "stdout",
          "text": [
            "[200]\tvalid_0's multi_logloss: 1.05373\n",
            "Early stopping, best iteration is:\n",
            "[277]\tvalid_0's multi_logloss: 1.04283\n"
          ]
        },
        {
          "output_type": "stream",
          "name": "stderr",
          "text": [
            "/usr/local/lib/python3.10/dist-packages/lightgbm/engine.py:172: UserWarning: Found `num_iterations` in params. Will use it instead of argument\n",
            "  _log_warning(f\"Found `{alias}` in params. Will use it instead of argument\")\n"
          ]
        },
        {
          "output_type": "stream",
          "name": "stdout",
          "text": [
            "Training until validation scores don't improve for 20 rounds\n",
            "[100]\tvalid_0's multi_logloss: 1.1752\n",
            "[200]\tvalid_0's multi_logloss: 1.11149\n",
            "[300]\tvalid_0's multi_logloss: 1.08133\n",
            "[400]\tvalid_0's multi_logloss: 1.06221\n",
            "[500]\tvalid_0's multi_logloss: 1.05324\n",
            "[600]\tvalid_0's multi_logloss: 1.0485\n",
            "[700]\tvalid_0's multi_logloss: 1.04344\n",
            "Did not meet early stopping. Best iteration is:\n",
            "[712]\tvalid_0's multi_logloss: 1.04291\n"
          ]
        },
        {
          "output_type": "stream",
          "name": "stderr",
          "text": [
            "[I 2024-05-27 21:32:59,398] Trial 53 finished with value: 0.4976885781751743 and parameters: {'num_iterations': 725, 'learning_rate': 0.00795569304509181, 'lambda_l1': 4.778311588400228, 'lambda_l2': 1.0818977829658825, 'num_leaves': 198, 'feature_fraction': 0.5999619360330132, 'bagging_fraction': 0.6913042646601895, 'bagging_freq': 4, 'min_child_samples': 70}. Best is trial 45 with value: 0.5294767904485929.\n",
            "/usr/local/lib/python3.10/dist-packages/lightgbm/engine.py:172: UserWarning: Found `num_iterations` in params. Will use it instead of argument\n",
            "  _log_warning(f\"Found `{alias}` in params. Will use it instead of argument\")\n"
          ]
        },
        {
          "output_type": "stream",
          "name": "stdout",
          "text": [
            "Training until validation scores don't improve for 20 rounds\n",
            "[100]\tvalid_0's multi_logloss: 1.15604\n",
            "[200]\tvalid_0's multi_logloss: 1.10019\n",
            "[300]\tvalid_0's multi_logloss: 1.07571\n",
            "[400]\tvalid_0's multi_logloss: 1.06379\n",
            "[500]\tvalid_0's multi_logloss: 1.05611\n",
            "Did not meet early stopping. Best iteration is:\n",
            "[508]\tvalid_0's multi_logloss: 1.0556\n"
          ]
        },
        {
          "output_type": "stream",
          "name": "stderr",
          "text": [
            "[I 2024-05-27 21:33:00,283] Trial 54 finished with value: 0.46734426124487116 and parameters: {'num_iterations': 509, 'learning_rate': 0.010445264923458689, 'lambda_l1': 5.570381641646611, 'lambda_l2': 8.0775750832709, 'num_leaves': 233, 'feature_fraction': 0.6654974699355833, 'bagging_fraction': 0.8673830078206636, 'bagging_freq': 2, 'min_child_samples': 67}. Best is trial 45 with value: 0.5294767904485929.\n",
            "/usr/local/lib/python3.10/dist-packages/lightgbm/engine.py:172: UserWarning: Found `num_iterations` in params. Will use it instead of argument\n",
            "  _log_warning(f\"Found `{alias}` in params. Will use it instead of argument\")\n",
            "[I 2024-05-27 21:33:00,521] Trial 55 finished with value: 0.5143455377139005 and parameters: {'num_iterations': 445, 'learning_rate': 0.05992542825740601, 'lambda_l1': 4.013987107579583, 'lambda_l2': 2.8449697286726976, 'num_leaves': 251, 'feature_fraction': 0.7658442641007324, 'bagging_fraction': 0.8408139818432783, 'bagging_freq': 4, 'min_child_samples': 57}. Best is trial 45 with value: 0.5294767904485929.\n"
          ]
        },
        {
          "output_type": "stream",
          "name": "stdout",
          "text": [
            "Training until validation scores don't improve for 20 rounds\n",
            "Early stopping, best iteration is:\n",
            "[72]\tvalid_0's multi_logloss: 1.03915\n"
          ]
        },
        {
          "output_type": "stream",
          "name": "stderr",
          "text": [
            "/usr/local/lib/python3.10/dist-packages/lightgbm/engine.py:172: UserWarning: Found `num_iterations` in params. Will use it instead of argument\n",
            "  _log_warning(f\"Found `{alias}` in params. Will use it instead of argument\")\n"
          ]
        },
        {
          "output_type": "stream",
          "name": "stdout",
          "text": [
            "Training until validation scores don't improve for 20 rounds\n",
            "[100]\tvalid_0's multi_logloss: 1.05667\n"
          ]
        },
        {
          "output_type": "stream",
          "name": "stderr",
          "text": [
            "[I 2024-05-27 21:33:01,018] Trial 56 finished with value: 0.48152456899631707 and parameters: {'num_iterations': 427, 'learning_rate': 0.06121572279636003, 'lambda_l1': 8.37003700691737, 'lambda_l2': 2.8309608336292857, 'num_leaves': 248, 'feature_fraction': 0.7784635678221022, 'bagging_fraction': 0.9411707954872498, 'bagging_freq': 5, 'min_child_samples': 56}. Best is trial 45 with value: 0.5294767904485929.\n"
          ]
        },
        {
          "output_type": "stream",
          "name": "stdout",
          "text": [
            "[200]\tvalid_0's multi_logloss: 1.04789\n",
            "[300]\tvalid_0's multi_logloss: 1.04272\n",
            "Early stopping, best iteration is:\n",
            "[317]\tvalid_0's multi_logloss: 1.0412\n"
          ]
        },
        {
          "output_type": "stream",
          "name": "stderr",
          "text": [
            "/usr/local/lib/python3.10/dist-packages/lightgbm/engine.py:172: UserWarning: Found `num_iterations` in params. Will use it instead of argument\n",
            "  _log_warning(f\"Found `{alias}` in params. Will use it instead of argument\")\n"
          ]
        },
        {
          "output_type": "stream",
          "name": "stdout",
          "text": [
            "Training until validation scores don't improve for 20 rounds\n",
            "[100]\tvalid_0's multi_logloss: 1.04311\n",
            "Early stopping, best iteration is:\n",
            "[87]\tvalid_0's multi_logloss: 1.03923\n"
          ]
        },
        {
          "output_type": "stream",
          "name": "stderr",
          "text": [
            "[I 2024-05-27 21:33:01,316] Trial 57 finished with value: 0.4833152958152958 and parameters: {'num_iterations': 628, 'learning_rate': 0.09420303879312145, 'lambda_l1': 3.7015460724305513, 'lambda_l2': 2.3895350334067658, 'num_leaves': 148, 'feature_fraction': 0.8178339382023948, 'bagging_fraction': 0.9098301024858321, 'bagging_freq': 4, 'min_child_samples': 51}. Best is trial 45 with value: 0.5294767904485929.\n",
            "/usr/local/lib/python3.10/dist-packages/lightgbm/engine.py:172: UserWarning: Found `num_iterations` in params. Will use it instead of argument\n",
            "  _log_warning(f\"Found `{alias}` in params. Will use it instead of argument\")\n",
            "[I 2024-05-27 21:33:01,600] Trial 58 finished with value: 0.5057249821922574 and parameters: {'num_iterations': 910, 'learning_rate': 0.043829339625968085, 'lambda_l1': 2.3027950660718055, 'lambda_l2': 3.8715888178203466, 'num_leaves': 227, 'feature_fraction': 0.8763097326673828, 'bagging_fraction': 0.8455879830502411, 'bagging_freq': 6, 'min_child_samples': 84}. Best is trial 45 with value: 0.5294767904485929.\n"
          ]
        },
        {
          "output_type": "stream",
          "name": "stdout",
          "text": [
            "Training until validation scores don't improve for 20 rounds\n",
            "[100]\tvalid_0's multi_logloss: 1.04144\n",
            "Early stopping, best iteration is:\n",
            "[108]\tvalid_0's multi_logloss: 1.03672\n"
          ]
        },
        {
          "output_type": "stream",
          "name": "stderr",
          "text": [
            "/usr/local/lib/python3.10/dist-packages/lightgbm/engine.py:172: UserWarning: Found `num_iterations` in params. Will use it instead of argument\n",
            "  _log_warning(f\"Found `{alias}` in params. Will use it instead of argument\")\n"
          ]
        },
        {
          "output_type": "stream",
          "name": "stdout",
          "text": [
            "Training until validation scores don't improve for 20 rounds\n",
            "[100]\tvalid_0's multi_logloss: 1.0391\n",
            "Early stopping, best iteration is:\n",
            "[112]\tvalid_0's multi_logloss: 1.03727\n"
          ]
        },
        {
          "output_type": "stream",
          "name": "stderr",
          "text": [
            "[I 2024-05-27 21:33:01,915] Trial 59 finished with value: 0.5243470403976631 and parameters: {'num_iterations': 291, 'learning_rate': 0.05858237685307144, 'lambda_l1': 3.0179092000075, 'lambda_l2': 3.0033804969442643, 'num_leaves': 256, 'feature_fraction': 0.7482658970271419, 'bagging_fraction': 0.8902091968746673, 'bagging_freq': 4, 'min_child_samples': 78}. Best is trial 45 with value: 0.5294767904485929.\n",
            "/usr/local/lib/python3.10/dist-packages/lightgbm/engine.py:172: UserWarning: Found `num_iterations` in params. Will use it instead of argument\n",
            "  _log_warning(f\"Found `{alias}` in params. Will use it instead of argument\")\n"
          ]
        },
        {
          "output_type": "stream",
          "name": "stdout",
          "text": [
            "Training until validation scores don't improve for 20 rounds\n",
            "[100]\tvalid_0's multi_logloss: 1.03589\n",
            "Early stopping, best iteration is:\n",
            "[107]\tvalid_0's multi_logloss: 1.03586\n"
          ]
        },
        {
          "output_type": "stream",
          "name": "stderr",
          "text": [
            "[I 2024-05-27 21:33:02,213] Trial 60 finished with value: 0.5050324675324676 and parameters: {'num_iterations': 158, 'learning_rate': 0.057400344635432816, 'lambda_l1': 2.3739189775519884, 'lambda_l2': 4.344096679034159, 'num_leaves': 256, 'feature_fraction': 0.750818676199459, 'bagging_fraction': 0.9739905730890409, 'bagging_freq': 5, 'min_child_samples': 87}. Best is trial 45 with value: 0.5294767904485929.\n",
            "/usr/local/lib/python3.10/dist-packages/lightgbm/engine.py:172: UserWarning: Found `num_iterations` in params. Will use it instead of argument\n",
            "  _log_warning(f\"Found `{alias}` in params. Will use it instead of argument\")\n"
          ]
        },
        {
          "output_type": "stream",
          "name": "stdout",
          "text": [
            "Training until validation scores don't improve for 20 rounds\n",
            "[100]\tvalid_0's multi_logloss: 1.06014\n"
          ]
        },
        {
          "output_type": "stream",
          "name": "stderr",
          "text": [
            "[I 2024-05-27 21:33:02,624] Trial 61 finished with value: 0.5211984300839722 and parameters: {'num_iterations': 358, 'learning_rate': 0.03206175932825091, 'lambda_l1': 4.037580714116849, 'lambda_l2': 2.7085154997130028, 'num_leaves': 250, 'feature_fraction': 0.793233550340837, 'bagging_fraction': 0.8934940104859752, 'bagging_freq': 4, 'min_child_samples': 77}. Best is trial 45 with value: 0.5294767904485929.\n"
          ]
        },
        {
          "output_type": "stream",
          "name": "stdout",
          "text": [
            "[200]\tvalid_0's multi_logloss: 1.04214\n",
            "Early stopping, best iteration is:\n",
            "[187]\tvalid_0's multi_logloss: 1.04159\n",
            "Training until validation scores don't improve for 20 rounds\n"
          ]
        },
        {
          "output_type": "stream",
          "name": "stderr",
          "text": [
            "/usr/local/lib/python3.10/dist-packages/lightgbm/engine.py:172: UserWarning: Found `num_iterations` in params. Will use it instead of argument\n",
            "  _log_warning(f\"Found `{alias}` in params. Will use it instead of argument\")\n"
          ]
        },
        {
          "output_type": "stream",
          "name": "stdout",
          "text": [
            "[100]\tvalid_0's multi_logloss: 1.05398\n",
            "[200]\tvalid_0's multi_logloss: 1.03701\n",
            "Early stopping, best iteration is:\n",
            "[200]\tvalid_0's multi_logloss: 1.03701\n"
          ]
        },
        {
          "output_type": "stream",
          "name": "stderr",
          "text": [
            "[I 2024-05-27 21:33:03,086] Trial 62 finished with value: 0.5117418474009493 and parameters: {'num_iterations': 303, 'learning_rate': 0.032020303645955685, 'lambda_l1': 3.019579053886507, 'lambda_l2': 3.088186172614771, 'num_leaves': 252, 'feature_fraction': 0.79028854021157, 'bagging_fraction': 0.881524011331081, 'bagging_freq': 4, 'min_child_samples': 78}. Best is trial 45 with value: 0.5294767904485929.\n",
            "/usr/local/lib/python3.10/dist-packages/lightgbm/engine.py:172: UserWarning: Found `num_iterations` in params. Will use it instead of argument\n",
            "  _log_warning(f\"Found `{alias}` in params. Will use it instead of argument\")\n",
            "[I 2024-05-27 21:33:03,313] Trial 63 finished with value: 0.5115143245277654 and parameters: {'num_iterations': 373, 'learning_rate': 0.08417674570882207, 'lambda_l1': 4.002148986881696, 'lambda_l2': 2.692375958932396, 'num_leaves': 84, 'feature_fraction': 0.7591137822793035, 'bagging_fraction': 0.904559939425945, 'bagging_freq': 4, 'min_child_samples': 93}. Best is trial 45 with value: 0.5294767904485929.\n"
          ]
        },
        {
          "output_type": "stream",
          "name": "stdout",
          "text": [
            "Training until validation scores don't improve for 20 rounds\n",
            "Early stopping, best iteration is:\n",
            "[79]\tvalid_0's multi_logloss: 1.03701\n"
          ]
        },
        {
          "output_type": "stream",
          "name": "stderr",
          "text": [
            "/usr/local/lib/python3.10/dist-packages/lightgbm/engine.py:172: UserWarning: Found `num_iterations` in params. Will use it instead of argument\n",
            "  _log_warning(f\"Found `{alias}` in params. Will use it instead of argument\")\n"
          ]
        },
        {
          "output_type": "stream",
          "name": "stdout",
          "text": [
            "Training until validation scores don't improve for 20 rounds\n",
            "[100]\tvalid_0's multi_logloss: 1.07433\n"
          ]
        },
        {
          "output_type": "stream",
          "name": "stderr",
          "text": [
            "[I 2024-05-27 21:33:03,784] Trial 64 finished with value: 0.4743273516195641 and parameters: {'num_iterations': 207, 'learning_rate': 0.023462790562020816, 'lambda_l1': 3.090643809308816, 'lambda_l2': 3.0800059672690185, 'num_leaves': 229, 'feature_fraction': 0.7227746107791274, 'bagging_fraction': 0.9985424766511701, 'bagging_freq': 5, 'min_child_samples': 73}. Best is trial 45 with value: 0.5294767904485929.\n"
          ]
        },
        {
          "output_type": "stream",
          "name": "stdout",
          "text": [
            "[200]\tvalid_0's multi_logloss: 1.04979\n",
            "Did not meet early stopping. Best iteration is:\n",
            "[207]\tvalid_0's multi_logloss: 1.04958\n",
            "Training until validation scores don't improve for 20 rounds\n"
          ]
        },
        {
          "output_type": "stream",
          "name": "stderr",
          "text": [
            "/usr/local/lib/python3.10/dist-packages/lightgbm/engine.py:172: UserWarning: Found `num_iterations` in params. Will use it instead of argument\n",
            "  _log_warning(f\"Found `{alias}` in params. Will use it instead of argument\")\n",
            "[I 2024-05-27 21:33:04,000] Trial 65 finished with value: 0.5170513137314644 and parameters: {'num_iterations': 346, 'learning_rate': 0.11387158085668632, 'lambda_l1': 1.3996566165361082, 'lambda_l2': 3.683473075701192, 'num_leaves': 240, 'feature_fraction': 0.8037735625864116, 'bagging_fraction': 0.9309807439962972, 'bagging_freq': 4, 'min_child_samples': 81}. Best is trial 45 with value: 0.5294767904485929.\n"
          ]
        },
        {
          "output_type": "stream",
          "name": "stdout",
          "text": [
            "Early stopping, best iteration is:\n",
            "[54]\tvalid_0's multi_logloss: 1.04847\n",
            "Training until validation scores don't improve for 20 rounds\n"
          ]
        },
        {
          "output_type": "stream",
          "name": "stderr",
          "text": [
            "/usr/local/lib/python3.10/dist-packages/lightgbm/engine.py:172: UserWarning: Found `num_iterations` in params. Will use it instead of argument\n",
            "  _log_warning(f\"Found `{alias}` in params. Will use it instead of argument\")\n",
            "[I 2024-05-27 21:33:04,240] Trial 66 finished with value: 0.5011419678227828 and parameters: {'num_iterations': 299, 'learning_rate': 0.12577462385538873, 'lambda_l1': 0.46894389346791576, 'lambda_l2': 4.734412869139929, 'num_leaves': 239, 'feature_fraction': 0.8433489767446232, 'bagging_fraction': 0.972608424592755, 'bagging_freq': 4, 'min_child_samples': 82}. Best is trial 45 with value: 0.5294767904485929.\n",
            "/usr/local/lib/python3.10/dist-packages/lightgbm/engine.py:172: UserWarning: Found `num_iterations` in params. Will use it instead of argument\n",
            "  _log_warning(f\"Found `{alias}` in params. Will use it instead of argument\")\n",
            "[I 2024-05-27 21:33:04,406] Trial 67 finished with value: 0.47292089500958123 and parameters: {'num_iterations': 353, 'learning_rate': 0.21868276413463772, 'lambda_l1': 1.219143541291774, 'lambda_l2': 3.5568469016120137, 'num_leaves': 219, 'feature_fraction': 0.942952488280198, 'bagging_fraction': 0.9545995055709178, 'bagging_freq': 3, 'min_child_samples': 77}. Best is trial 45 with value: 0.5294767904485929.\n"
          ]
        },
        {
          "output_type": "stream",
          "name": "stdout",
          "text": [
            "Early stopping, best iteration is:\n",
            "[52]\tvalid_0's multi_logloss: 1.03302\n",
            "Training until validation scores don't improve for 20 rounds\n",
            "Early stopping, best iteration is:\n",
            "[23]\tvalid_0's multi_logloss: 1.06661\n"
          ]
        },
        {
          "output_type": "stream",
          "name": "stderr",
          "text": [
            "/usr/local/lib/python3.10/dist-packages/lightgbm/engine.py:172: UserWarning: Found `num_iterations` in params. Will use it instead of argument\n",
            "  _log_warning(f\"Found `{alias}` in params. Will use it instead of argument\")\n"
          ]
        },
        {
          "output_type": "stream",
          "name": "stdout",
          "text": [
            "Training until validation scores don't improve for 20 rounds\n",
            "[100]\tvalid_0's multi_logloss: 1.0436\n"
          ]
        },
        {
          "output_type": "stream",
          "name": "stderr",
          "text": [
            "[I 2024-05-27 21:33:06,937] Trial 68 finished with value: 0.4887217399579616 and parameters: {'num_iterations': 209, 'learning_rate': 0.030534797197846502, 'lambda_l1': 0.12639925557752352, 'lambda_l2': 2.1010437804353694, 'num_leaves': 209, 'feature_fraction': 0.8192259728998904, 'bagging_fraction': 0.9312249642909598, 'bagging_freq': 5, 'min_child_samples': 89}. Best is trial 45 with value: 0.5294767904485929.\n"
          ]
        },
        {
          "output_type": "stream",
          "name": "stdout",
          "text": [
            "Early stopping, best iteration is:\n",
            "[100]\tvalid_0's multi_logloss: 1.0436\n"
          ]
        },
        {
          "output_type": "stream",
          "name": "stderr",
          "text": [
            "/usr/local/lib/python3.10/dist-packages/lightgbm/engine.py:172: UserWarning: Found `num_iterations` in params. Will use it instead of argument\n",
            "  _log_warning(f\"Found `{alias}` in params. Will use it instead of argument\")\n"
          ]
        },
        {
          "output_type": "stream",
          "name": "stdout",
          "text": [
            "Training until validation scores don't improve for 20 rounds\n"
          ]
        },
        {
          "output_type": "stream",
          "name": "stderr",
          "text": [
            "[I 2024-05-27 21:33:07,410] Trial 69 finished with value: 0.46924113000689244 and parameters: {'num_iterations': 399, 'learning_rate': 0.346690811364454, 'lambda_l1': 1.590907453104227, 'lambda_l2': 5.2551819796154495, 'num_leaves': 244, 'feature_fraction': 0.805180678269985, 'bagging_fraction': 0.8661006070298485, 'bagging_freq': 2, 'min_child_samples': 82}. Best is trial 45 with value: 0.5294767904485929.\n"
          ]
        },
        {
          "output_type": "stream",
          "name": "stdout",
          "text": [
            "Early stopping, best iteration is:\n",
            "[11]\tvalid_0's multi_logloss: 1.06782\n"
          ]
        },
        {
          "output_type": "stream",
          "name": "stderr",
          "text": [
            "/usr/local/lib/python3.10/dist-packages/lightgbm/engine.py:172: UserWarning: Found `num_iterations` in params. Will use it instead of argument\n",
            "  _log_warning(f\"Found `{alias}` in params. Will use it instead of argument\")\n"
          ]
        },
        {
          "output_type": "stream",
          "name": "stdout",
          "text": [
            "Training until validation scores don't improve for 20 rounds\n"
          ]
        },
        {
          "output_type": "stream",
          "name": "stderr",
          "text": [
            "[I 2024-05-27 21:33:08,627] Trial 70 finished with value: 0.459722413332507 and parameters: {'num_iterations': 299, 'learning_rate': 0.1525255746475079, 'lambda_l1': 2.627363452491535, 'lambda_l2': 3.645070036129007, 'num_leaves': 256, 'feature_fraction': 0.8695890196556444, 'bagging_fraction': 0.41653950710713117, 'bagging_freq': 1, 'min_child_samples': 75}. Best is trial 45 with value: 0.5294767904485929.\n"
          ]
        },
        {
          "output_type": "stream",
          "name": "stdout",
          "text": [
            "Early stopping, best iteration is:\n",
            "[47]\tvalid_0's multi_logloss: 1.06367\n",
            "Training until validation scores don't improve for 20 rounds\n"
          ]
        },
        {
          "output_type": "stream",
          "name": "stderr",
          "text": [
            "/usr/local/lib/python3.10/dist-packages/lightgbm/engine.py:172: UserWarning: Found `num_iterations` in params. Will use it instead of argument\n",
            "  _log_warning(f\"Found `{alias}` in params. Will use it instead of argument\")\n",
            "[I 2024-05-27 21:33:08,997] Trial 71 finished with value: 0.49995613984300125 and parameters: {'num_iterations': 344, 'learning_rate': 0.10583884418851523, 'lambda_l1': 1.9168687940547606, 'lambda_l2': 2.5399446275790436, 'num_leaves': 249, 'feature_fraction': 0.6985861707821632, 'bagging_fraction': 0.8853925415431086, 'bagging_freq': 4, 'min_child_samples': 68}. Best is trial 45 with value: 0.5294767904485929.\n"
          ]
        },
        {
          "output_type": "stream",
          "name": "stdout",
          "text": [
            "Early stopping, best iteration is:\n",
            "[78]\tvalid_0's multi_logloss: 1.03713\n",
            "Training until validation scores don't improve for 20 rounds\n"
          ]
        },
        {
          "output_type": "stream",
          "name": "stderr",
          "text": [
            "/usr/local/lib/python3.10/dist-packages/lightgbm/engine.py:172: UserWarning: Found `num_iterations` in params. Will use it instead of argument\n",
            "  _log_warning(f\"Found `{alias}` in params. Will use it instead of argument\")\n",
            "[I 2024-05-27 21:33:09,285] Trial 72 finished with value: 0.4771437283047191 and parameters: {'num_iterations': 440, 'learning_rate': 0.06323818042118681, 'lambda_l1': 9.358342272114973, 'lambda_l2': 4.62946834759583, 'num_leaves': 114, 'feature_fraction': 0.7698710665234203, 'bagging_fraction': 0.9191464610850241, 'bagging_freq': 4, 'min_child_samples': 71}. Best is trial 45 with value: 0.5294767904485929.\n"
          ]
        },
        {
          "output_type": "stream",
          "name": "stdout",
          "text": [
            "[100]\tvalid_0's multi_logloss: 1.06218\n",
            "Early stopping, best iteration is:\n",
            "[112]\tvalid_0's multi_logloss: 1.05988\n",
            "Training until validation scores don't improve for 20 rounds\n"
          ]
        },
        {
          "output_type": "stream",
          "name": "stderr",
          "text": [
            "/usr/local/lib/python3.10/dist-packages/lightgbm/engine.py:172: UserWarning: Found `num_iterations` in params. Will use it instead of argument\n",
            "  _log_warning(f\"Found `{alias}` in params. Will use it instead of argument\")\n"
          ]
        },
        {
          "output_type": "stream",
          "name": "stdout",
          "text": [
            "[100]\tvalid_0's multi_logloss: 1.07622\n",
            "[200]\tvalid_0's multi_logloss: 1.0536\n",
            "Early stopping, best iteration is:\n",
            "[268]\tvalid_0's multi_logloss: 1.04766\n"
          ]
        },
        {
          "output_type": "stream",
          "name": "stderr",
          "text": [
            "[I 2024-05-27 21:33:09,738] Trial 73 finished with value: 0.5032463320188743 and parameters: {'num_iterations': 815, 'learning_rate': 0.04044902490221202, 'lambda_l1': 8.778265383244694, 'lambda_l2': 4.117022460287431, 'num_leaves': 233, 'feature_fraction': 0.7359370680492656, 'bagging_fraction': 0.8353282585047966, 'bagging_freq': 4, 'min_child_samples': 87}. Best is trial 45 with value: 0.5294767904485929.\n",
            "/usr/local/lib/python3.10/dist-packages/lightgbm/engine.py:172: UserWarning: Found `num_iterations` in params. Will use it instead of argument\n",
            "  _log_warning(f\"Found `{alias}` in params. Will use it instead of argument\")\n"
          ]
        },
        {
          "output_type": "stream",
          "name": "stdout",
          "text": [
            "Training until validation scores don't improve for 20 rounds\n"
          ]
        },
        {
          "output_type": "stream",
          "name": "stderr",
          "text": [
            "[I 2024-05-27 21:33:10,187] Trial 74 finished with value: 0.502344843911109 and parameters: {'num_iterations': 270, 'learning_rate': 0.052051632864750036, 'lambda_l1': 2.7799935014481103, 'lambda_l2': 3.258259124901358, 'num_leaves': 236, 'feature_fraction': 0.7923847854840719, 'bagging_fraction': 0.9617772735704601, 'bagging_freq': 3, 'min_child_samples': 43}. Best is trial 45 with value: 0.5294767904485929.\n"
          ]
        },
        {
          "output_type": "stream",
          "name": "stdout",
          "text": [
            "[100]\tvalid_0's multi_logloss: 1.04216\n",
            "Early stopping, best iteration is:\n",
            "[123]\tvalid_0's multi_logloss: 1.04051\n"
          ]
        },
        {
          "output_type": "stream",
          "name": "stderr",
          "text": [
            "/usr/local/lib/python3.10/dist-packages/lightgbm/engine.py:172: UserWarning: Found `num_iterations` in params. Will use it instead of argument\n",
            "  _log_warning(f\"Found `{alias}` in params. Will use it instead of argument\")\n",
            "[I 2024-05-27 21:33:10,471] Trial 75 finished with value: 0.525879689484667 and parameters: {'num_iterations': 367, 'learning_rate': 0.06991352380727053, 'lambda_l1': 3.4150130093035314, 'lambda_l2': 1.8593169989756466, 'num_leaves': 24, 'feature_fraction': 0.744860104588061, 'bagging_fraction': 0.8955006124456856, 'bagging_freq': 5, 'min_child_samples': 76}. Best is trial 45 with value: 0.5294767904485929.\n"
          ]
        },
        {
          "output_type": "stream",
          "name": "stdout",
          "text": [
            "Training until validation scores don't improve for 20 rounds\n",
            "[100]\tvalid_0's multi_logloss: 1.03768\n",
            "Early stopping, best iteration is:\n",
            "[105]\tvalid_0's multi_logloss: 1.03519\n"
          ]
        },
        {
          "output_type": "stream",
          "name": "stderr",
          "text": [
            "/usr/local/lib/python3.10/dist-packages/lightgbm/engine.py:172: UserWarning: Found `num_iterations` in params. Will use it instead of argument\n",
            "  _log_warning(f\"Found `{alias}` in params. Will use it instead of argument\")\n",
            "[I 2024-05-27 21:33:10,770] Trial 76 finished with value: 0.4813751668891856 and parameters: {'num_iterations': 373, 'learning_rate': 0.09151193061854208, 'lambda_l1': 9.973243203912007, 'lambda_l2': 1.9202042381685556, 'num_leaves': 219, 'feature_fraction': 0.7407386996136124, 'bagging_fraction': 0.8904749274478021, 'bagging_freq': 5, 'min_child_samples': 80}. Best is trial 45 with value: 0.5294767904485929.\n"
          ]
        },
        {
          "output_type": "stream",
          "name": "stdout",
          "text": [
            "Training until validation scores don't improve for 20 rounds\n",
            "[100]\tvalid_0's multi_logloss: 1.05282\n",
            "Early stopping, best iteration is:\n",
            "[141]\tvalid_0's multi_logloss: 1.04717\n"
          ]
        },
        {
          "output_type": "stream",
          "name": "stderr",
          "text": [
            "/usr/local/lib/python3.10/dist-packages/lightgbm/engine.py:172: UserWarning: Found `num_iterations` in params. Will use it instead of argument\n",
            "  _log_warning(f\"Found `{alias}` in params. Will use it instead of argument\")\n"
          ]
        },
        {
          "output_type": "stream",
          "name": "stdout",
          "text": [
            "Training until validation scores don't improve for 20 rounds\n",
            "[100]\tvalid_0's multi_logloss: 1.06261\n"
          ]
        },
        {
          "output_type": "stream",
          "name": "stderr",
          "text": [
            "[I 2024-05-27 21:33:11,221] Trial 77 finished with value: 0.5296762808811002 and parameters: {'num_iterations': 315, 'learning_rate': 0.034804115223475485, 'lambda_l1': 3.3660525967241766, 'lambda_l2': 1.0541373799985119, 'num_leaves': 51, 'feature_fraction': 0.7162228206881502, 'bagging_fraction': 0.7169322858109014, 'bagging_freq': 5, 'min_child_samples': 76}. Best is trial 77 with value: 0.5296762808811002.\n"
          ]
        },
        {
          "output_type": "stream",
          "name": "stdout",
          "text": [
            "[200]\tvalid_0's multi_logloss: 1.04715\n",
            "Early stopping, best iteration is:\n",
            "[230]\tvalid_0's multi_logloss: 1.04164\n",
            "Training until validation scores don't improve for 20 rounds\n"
          ]
        },
        {
          "output_type": "stream",
          "name": "stderr",
          "text": [
            "/usr/local/lib/python3.10/dist-packages/lightgbm/engine.py:172: UserWarning: Found `num_iterations` in params. Will use it instead of argument\n",
            "  _log_warning(f\"Found `{alias}` in params. Will use it instead of argument\")\n"
          ]
        },
        {
          "output_type": "stream",
          "name": "stdout",
          "text": [
            "[100]\tvalid_0's multi_logloss: 1.09027\n",
            "[200]\tvalid_0's multi_logloss: 1.05867\n"
          ]
        },
        {
          "output_type": "stream",
          "name": "stderr",
          "text": [
            "[I 2024-05-27 21:33:11,781] Trial 78 finished with value: 0.525273330983299 and parameters: {'num_iterations': 686, 'learning_rate': 0.020286410754542822, 'lambda_l1': 3.335332522775384, 'lambda_l2': 1.0132880946582246, 'num_leaves': 53, 'feature_fraction': 0.7088136058610996, 'bagging_fraction': 0.7185086265052681, 'bagging_freq': 5, 'min_child_samples': 92}. Best is trial 77 with value: 0.5296762808811002.\n"
          ]
        },
        {
          "output_type": "stream",
          "name": "stdout",
          "text": [
            "[300]\tvalid_0's multi_logloss: 1.04353\n",
            "Early stopping, best iteration is:\n",
            "[341]\tvalid_0's multi_logloss: 1.03671\n"
          ]
        },
        {
          "output_type": "stream",
          "name": "stderr",
          "text": [
            "/usr/local/lib/python3.10/dist-packages/lightgbm/engine.py:172: UserWarning: Found `num_iterations` in params. Will use it instead of argument\n",
            "  _log_warning(f\"Found `{alias}` in params. Will use it instead of argument\")\n"
          ]
        },
        {
          "output_type": "stream",
          "name": "stdout",
          "text": [
            "Training until validation scores don't improve for 20 rounds\n",
            "[100]\tvalid_0's multi_logloss: 1.09947\n"
          ]
        },
        {
          "output_type": "stream",
          "name": "stderr",
          "text": [
            "[I 2024-05-27 21:33:12,159] Trial 79 finished with value: 0.47517265343352305 and parameters: {'num_iterations': 218, 'learning_rate': 0.019929452244219076, 'lambda_l1': 3.399752107310806, 'lambda_l2': 1.0279232879630262, 'num_leaves': 35, 'feature_fraction': 0.7178547469564167, 'bagging_fraction': 0.6133439308762026, 'bagging_freq': 5, 'min_child_samples': 94}. Best is trial 77 with value: 0.5296762808811002.\n"
          ]
        },
        {
          "output_type": "stream",
          "name": "stdout",
          "text": [
            "[200]\tvalid_0's multi_logloss: 1.06589\n",
            "Did not meet early stopping. Best iteration is:\n",
            "[218]\tvalid_0's multi_logloss: 1.06338\n",
            "Training until validation scores don't improve for 20 rounds\n"
          ]
        },
        {
          "output_type": "stream",
          "name": "stderr",
          "text": [
            "/usr/local/lib/python3.10/dist-packages/lightgbm/engine.py:172: UserWarning: Found `num_iterations` in params. Will use it instead of argument\n",
            "  _log_warning(f\"Found `{alias}` in params. Will use it instead of argument\")\n"
          ]
        },
        {
          "output_type": "stream",
          "name": "stdout",
          "text": [
            "[100]\tvalid_0's multi_logloss: 1.10463\n",
            "[200]\tvalid_0's multi_logloss: 1.06634\n",
            "[300]\tvalid_0's multi_logloss: 1.05351\n",
            "[400]\tvalid_0's multi_logloss: 1.04183\n",
            "Early stopping, best iteration is:\n",
            "[418]\tvalid_0's multi_logloss: 1.04051\n"
          ]
        },
        {
          "output_type": "stream",
          "name": "stderr",
          "text": [
            "[I 2024-05-27 21:33:12,827] Trial 80 finished with value: 0.5006746771622457 and parameters: {'num_iterations': 689, 'learning_rate': 0.016289482226954307, 'lambda_l1': 1.9608677056153618, 'lambda_l2': 1.365075923631863, 'num_leaves': 24, 'feature_fraction': 0.8050235297358522, 'bagging_fraction': 0.7095607040412777, 'bagging_freq': 6, 'min_child_samples': 97}. Best is trial 77 with value: 0.5296762808811002.\n",
            "/usr/local/lib/python3.10/dist-packages/lightgbm/engine.py:172: UserWarning: Found `num_iterations` in params. Will use it instead of argument\n",
            "  _log_warning(f\"Found `{alias}` in params. Will use it instead of argument\")\n"
          ]
        },
        {
          "output_type": "stream",
          "name": "stdout",
          "text": [
            "Training until validation scores don't improve for 20 rounds\n",
            "[100]\tvalid_0's multi_logloss: 1.10745\n",
            "[200]\tvalid_0's multi_logloss: 1.08266\n",
            "[300]\tvalid_0's multi_logloss: 1.07112\n"
          ]
        },
        {
          "output_type": "stream",
          "name": "stderr",
          "text": [
            "[I 2024-05-27 21:33:13,240] Trial 81 finished with value: 0.5053243597208118 and parameters: {'num_iterations': 740, 'learning_rate': 0.02197693403079056, 'lambda_l1': 2.6934007621083857, 'lambda_l2': 1.6505801040408814, 'num_leaves': 2, 'feature_fraction': 0.6999130426925492, 'bagging_fraction': 0.7163340289614112, 'bagging_freq': 6, 'min_child_samples': 87}. Best is trial 77 with value: 0.5296762808811002.\n"
          ]
        },
        {
          "output_type": "stream",
          "name": "stdout",
          "text": [
            "[400]\tvalid_0's multi_logloss: 1.0606\n",
            "Early stopping, best iteration is:\n",
            "[417]\tvalid_0's multi_logloss: 1.05825\n",
            "Training until validation scores don't improve for 20 rounds\n"
          ]
        },
        {
          "output_type": "stream",
          "name": "stderr",
          "text": [
            "/usr/local/lib/python3.10/dist-packages/lightgbm/engine.py:172: UserWarning: Found `num_iterations` in params. Will use it instead of argument\n",
            "  _log_warning(f\"Found `{alias}` in params. Will use it instead of argument\")\n",
            "[I 2024-05-27 21:33:13,482] Trial 82 finished with value: 0.48210231162176237 and parameters: {'num_iterations': 683, 'learning_rate': 0.07344465213219932, 'lambda_l1': 3.3671150099282166, 'lambda_l2': 0.2574523904495605, 'num_leaves': 52, 'feature_fraction': 0.6828021146280506, 'bagging_fraction': 0.6849419198640593, 'bagging_freq': 5, 'min_child_samples': 82}. Best is trial 77 with value: 0.5296762808811002.\n"
          ]
        },
        {
          "output_type": "stream",
          "name": "stdout",
          "text": [
            "[100]\tvalid_0's multi_logloss: 1.04103\n",
            "Early stopping, best iteration is:\n",
            "[98]\tvalid_0's multi_logloss: 1.04086\n",
            "Training until validation scores don't improve for 20 rounds\n"
          ]
        },
        {
          "output_type": "stream",
          "name": "stderr",
          "text": [
            "/usr/local/lib/python3.10/dist-packages/lightgbm/engine.py:172: UserWarning: Found `num_iterations` in params. Will use it instead of argument\n",
            "  _log_warning(f\"Found `{alias}` in params. Will use it instead of argument\")\n"
          ]
        },
        {
          "output_type": "stream",
          "name": "stdout",
          "text": [
            "[100]\tvalid_0's multi_logloss: 1.07802\n",
            "[200]\tvalid_0's multi_logloss: 1.05661\n",
            "Early stopping, best iteration is:\n",
            "[231]\tvalid_0's multi_logloss: 1.05234\n"
          ]
        },
        {
          "output_type": "stream",
          "name": "stderr",
          "text": [
            "[I 2024-05-27 21:33:13,924] Trial 83 finished with value: 0.4963017001384944 and parameters: {'num_iterations': 640, 'learning_rate': 0.026420534790186138, 'lambda_l1': 3.928275098260459, 'lambda_l2': 0.9030678152327085, 'num_leaves': 43, 'feature_fraction': 0.6729246191633891, 'bagging_fraction': 0.7349934180630701, 'bagging_freq': 5, 'min_child_samples': 76}. Best is trial 77 with value: 0.5296762808811002.\n",
            "/usr/local/lib/python3.10/dist-packages/lightgbm/engine.py:172: UserWarning: Found `num_iterations` in params. Will use it instead of argument\n",
            "  _log_warning(f\"Found `{alias}` in params. Will use it instead of argument\")\n",
            "[I 2024-05-27 21:33:14,209] Trial 84 finished with value: 0.5029212982948412 and parameters: {'num_iterations': 240, 'learning_rate': 0.03799889416715711, 'lambda_l1': 4.324800612367192, 'lambda_l2': 1.7225024929194368, 'num_leaves': 22, 'feature_fraction': 0.7834451799353814, 'bagging_fraction': 0.9265863333719745, 'bagging_freq': 5, 'min_child_samples': 91}. Best is trial 77 with value: 0.5296762808811002.\n"
          ]
        },
        {
          "output_type": "stream",
          "name": "stdout",
          "text": [
            "Training until validation scores don't improve for 20 rounds\n",
            "[100]\tvalid_0's multi_logloss: 1.05889\n",
            "Early stopping, best iteration is:\n",
            "[100]\tvalid_0's multi_logloss: 1.05889\n"
          ]
        },
        {
          "output_type": "stream",
          "name": "stderr",
          "text": [
            "/usr/local/lib/python3.10/dist-packages/lightgbm/engine.py:172: UserWarning: Found `num_iterations` in params. Will use it instead of argument\n",
            "  _log_warning(f\"Found `{alias}` in params. Will use it instead of argument\")\n"
          ]
        },
        {
          "output_type": "stream",
          "name": "stdout",
          "text": [
            "Training until validation scores don't improve for 20 rounds\n",
            "[100]\tvalid_0's multi_logloss: 1.04473\n"
          ]
        },
        {
          "output_type": "stream",
          "name": "stderr",
          "text": [
            "[I 2024-05-27 21:33:15,157] Trial 85 finished with value: 0.5065986784539722 and parameters: {'num_iterations': 178, 'learning_rate': 0.048223493040952706, 'lambda_l1': 3.18823941553494, 'lambda_l2': 1.2486673584334154, 'num_leaves': 77, 'feature_fraction': 0.7062683862979763, 'bagging_fraction': 0.7783897183914622, 'bagging_freq': 5, 'min_child_samples': 79}. Best is trial 77 with value: 0.5296762808811002.\n"
          ]
        },
        {
          "output_type": "stream",
          "name": "stdout",
          "text": [
            "Early stopping, best iteration is:\n",
            "[95]\tvalid_0's multi_logloss: 1.04167\n",
            "Training until validation scores don't improve for 20 rounds\n"
          ]
        },
        {
          "output_type": "stream",
          "name": "stderr",
          "text": [
            "/usr/local/lib/python3.10/dist-packages/lightgbm/engine.py:172: UserWarning: Found `num_iterations` in params. Will use it instead of argument\n",
            "  _log_warning(f\"Found `{alias}` in params. Will use it instead of argument\")\n",
            "[I 2024-05-27 21:33:15,341] Trial 86 finished with value: 0.47836162805203053 and parameters: {'num_iterations': 283, 'learning_rate': 0.11121777647284953, 'lambda_l1': 3.524086590055054, 'lambda_l2': 2.13563434187013, 'num_leaves': 62, 'feature_fraction': 0.7551858452534805, 'bagging_fraction': 0.6508929266477564, 'bagging_freq': 6, 'min_child_samples': 73}. Best is trial 77 with value: 0.5296762808811002.\n",
            "/usr/local/lib/python3.10/dist-packages/lightgbm/engine.py:172: UserWarning: Found `num_iterations` in params. Will use it instead of argument\n",
            "  _log_warning(f\"Found `{alias}` in params. Will use it instead of argument\")\n"
          ]
        },
        {
          "output_type": "stream",
          "name": "stdout",
          "text": [
            "Early stopping, best iteration is:\n",
            "[36]\tvalid_0's multi_logloss: 1.05686\n",
            "Training until validation scores don't improve for 20 rounds\n"
          ]
        },
        {
          "output_type": "stream",
          "name": "stderr",
          "text": [
            "[I 2024-05-27 21:33:15,586] Trial 87 finished with value: 0.501599047150404 and parameters: {'num_iterations': 322, 'learning_rate': 0.06753306986501621, 'lambda_l1': 1.07097479927844, 'lambda_l2': 1.4517824293810844, 'num_leaves': 40, 'feature_fraction': 0.6469416465144837, 'bagging_fraction': 0.5456315599281814, 'bagging_freq': 5, 'min_child_samples': 83}. Best is trial 77 with value: 0.5296762808811002.\n"
          ]
        },
        {
          "output_type": "stream",
          "name": "stdout",
          "text": [
            "[100]\tvalid_0's multi_logloss: 1.03629\n",
            "Early stopping, best iteration is:\n",
            "[99]\tvalid_0's multi_logloss: 1.03584\n",
            "Training until validation scores don't improve for 20 rounds\n"
          ]
        },
        {
          "output_type": "stream",
          "name": "stderr",
          "text": [
            "/usr/local/lib/python3.10/dist-packages/lightgbm/engine.py:172: UserWarning: Found `num_iterations` in params. Will use it instead of argument\n",
            "  _log_warning(f\"Found `{alias}` in params. Will use it instead of argument\")\n",
            "[I 2024-05-27 21:33:15,941] Trial 88 finished with value: 0.48975360351227026 and parameters: {'num_iterations': 756, 'learning_rate': 0.05340226901073021, 'lambda_l1': 9.041078819633396, 'lambda_l2': 6.2794560764581675, 'num_leaves': 99, 'feature_fraction': 0.7275027191184926, 'bagging_fraction': 0.7603346061761914, 'bagging_freq': 5, 'min_child_samples': 86}. Best is trial 77 with value: 0.5296762808811002.\n"
          ]
        },
        {
          "output_type": "stream",
          "name": "stdout",
          "text": [
            "[100]\tvalid_0's multi_logloss: 1.07407\n",
            "[200]\tvalid_0's multi_logloss: 1.06002\n",
            "Early stopping, best iteration is:\n",
            "[229]\tvalid_0's multi_logloss: 1.0565\n"
          ]
        },
        {
          "output_type": "stream",
          "name": "stderr",
          "text": [
            "/usr/local/lib/python3.10/dist-packages/lightgbm/engine.py:172: UserWarning: Found `num_iterations` in params. Will use it instead of argument\n",
            "  _log_warning(f\"Found `{alias}` in params. Will use it instead of argument\")\n",
            "[I 2024-05-27 21:33:16,123] Trial 89 finished with value: 0.4960033459670341 and parameters: {'num_iterations': 571, 'learning_rate': 0.08369766872227626, 'lambda_l1': 2.8331075934045393, 'lambda_l2': 2.3987947089688246, 'num_leaves': 11, 'feature_fraction': 0.8406059550865721, 'bagging_fraction': 0.6837421360555308, 'bagging_freq': 6, 'min_child_samples': 78}. Best is trial 77 with value: 0.5296762808811002.\n",
            "/usr/local/lib/python3.10/dist-packages/lightgbm/engine.py:172: UserWarning: Found `num_iterations` in params. Will use it instead of argument\n",
            "  _log_warning(f\"Found `{alias}` in params. Will use it instead of argument\")\n"
          ]
        },
        {
          "output_type": "stream",
          "name": "stdout",
          "text": [
            "Training until validation scores don't improve for 20 rounds\n",
            "Early stopping, best iteration is:\n",
            "[47]\tvalid_0's multi_logloss: 1.05932\n",
            "Training until validation scores don't improve for 20 rounds\n"
          ]
        },
        {
          "output_type": "stream",
          "name": "stderr",
          "text": [
            "[I 2024-05-27 21:33:16,521] Trial 90 finished with value: 0.49570138509091993 and parameters: {'num_iterations': 709, 'learning_rate': 0.031697046401907146, 'lambda_l1': 2.008642508700635, 'lambda_l2': 1.972774872091999, 'num_leaves': 32, 'feature_fraction': 0.7493789928996676, 'bagging_fraction': 0.9433347735881024, 'bagging_freq': 4, 'min_child_samples': 92}. Best is trial 77 with value: 0.5296762808811002.\n"
          ]
        },
        {
          "output_type": "stream",
          "name": "stdout",
          "text": [
            "[100]\tvalid_0's multi_logloss: 1.05517\n",
            "Early stopping, best iteration is:\n",
            "[171]\tvalid_0's multi_logloss: 1.03748\n"
          ]
        },
        {
          "output_type": "stream",
          "name": "stderr",
          "text": [
            "/usr/local/lib/python3.10/dist-packages/lightgbm/engine.py:172: UserWarning: Found `num_iterations` in params. Will use it instead of argument\n",
            "  _log_warning(f\"Found `{alias}` in params. Will use it instead of argument\")\n"
          ]
        },
        {
          "output_type": "stream",
          "name": "stdout",
          "text": [
            "Training until validation scores don't improve for 20 rounds\n",
            "[100]\tvalid_0's multi_logloss: 1.05933\n",
            "Early stopping, best iteration is:\n",
            "[152]\tvalid_0's multi_logloss: 1.04764"
          ]
        },
        {
          "output_type": "stream",
          "name": "stderr",
          "text": [
            "[I 2024-05-27 21:33:16,891] Trial 91 finished with value: 0.5252764600497092 and parameters: {'num_iterations': 366, 'learning_rate': 0.035353300693425245, 'lambda_l1': 2.511811065746693, 'lambda_l2': 2.7092508343428694, 'num_leaves': 65, 'feature_fraction': 0.7302433163043806, 'bagging_fraction': 0.7873965717152245, 'bagging_freq': 4, 'min_child_samples': 74}. Best is trial 77 with value: 0.5296762808811002.\n"
          ]
        },
        {
          "output_type": "stream",
          "name": "stdout",
          "text": [
            "\n",
            "Training until validation scores don't improve for 20 rounds\n"
          ]
        },
        {
          "output_type": "stream",
          "name": "stderr",
          "text": [
            "/usr/local/lib/python3.10/dist-packages/lightgbm/engine.py:172: UserWarning: Found `num_iterations` in params. Will use it instead of argument\n",
            "  _log_warning(f\"Found `{alias}` in params. Will use it instead of argument\")\n",
            "[I 2024-05-27 21:33:17,194] Trial 92 finished with value: 0.4899246785978899 and parameters: {'num_iterations': 362, 'learning_rate': 0.0419953451653148, 'lambda_l1': 2.494563194760034, 'lambda_l2': 2.6250141766735204, 'num_leaves': 58, 'feature_fraction': 0.7685846917407155, 'bagging_fraction': 0.7914845906306578, 'bagging_freq': 4, 'min_child_samples': 74}. Best is trial 77 with value: 0.5296762808811002.\n"
          ]
        },
        {
          "output_type": "stream",
          "name": "stdout",
          "text": [
            "[100]\tvalid_0's multi_logloss: 1.05415\n",
            "Early stopping, best iteration is:\n",
            "[120]\tvalid_0's multi_logloss: 1.04451\n",
            "Training until validation scores don't improve for 20 rounds\n"
          ]
        },
        {
          "output_type": "stream",
          "name": "stderr",
          "text": [
            "/usr/local/lib/python3.10/dist-packages/lightgbm/engine.py:172: UserWarning: Found `num_iterations` in params. Will use it instead of argument\n",
            "  _log_warning(f\"Found `{alias}` in params. Will use it instead of argument\")\n",
            "[I 2024-05-27 21:33:17,605] Trial 93 finished with value: 0.514788773934845 and parameters: {'num_iterations': 320, 'learning_rate': 0.026936276179484207, 'lambda_l1': 1.617774500187385, 'lambda_l2': 2.994793558571046, 'num_leaves': 53, 'feature_fraction': 0.7126307909706099, 'bagging_fraction': 0.733800099943367, 'bagging_freq': 3, 'min_child_samples': 81}. Best is trial 77 with value: 0.5296762808811002.\n"
          ]
        },
        {
          "output_type": "stream",
          "name": "stdout",
          "text": [
            "[100]\tvalid_0's multi_logloss: 1.06586\n",
            "[200]\tvalid_0's multi_logloss: 1.04089\n",
            "Early stopping, best iteration is:\n",
            "[207]\tvalid_0's multi_logloss: 1.03911\n"
          ]
        },
        {
          "output_type": "stream",
          "name": "stderr",
          "text": [
            "/usr/local/lib/python3.10/dist-packages/lightgbm/engine.py:172: UserWarning: Found `num_iterations` in params. Will use it instead of argument\n",
            "  _log_warning(f\"Found `{alias}` in params. Will use it instead of argument\")\n",
            "[I 2024-05-27 21:33:17,852] Trial 94 finished with value: 0.12962962962962962 and parameters: {'num_iterations': 111, 'learning_rate': 0.0010314721370868467, 'lambda_l1': 3.887472459394216, 'lambda_l2': 1.772047607359562, 'num_leaves': 67, 'feature_fraction': 0.7298671746735822, 'bagging_fraction': 0.7219677450996465, 'bagging_freq': 3, 'min_child_samples': 70}. Best is trial 77 with value: 0.5296762808811002.\n"
          ]
        },
        {
          "output_type": "stream",
          "name": "stdout",
          "text": [
            "Training until validation scores don't improve for 20 rounds\n",
            "[100]\tvalid_0's multi_logloss: 1.31497\n",
            "Did not meet early stopping. Best iteration is:\n",
            "[111]\tvalid_0's multi_logloss: 1.31094\n"
          ]
        },
        {
          "output_type": "stream",
          "name": "stderr",
          "text": [
            "/usr/local/lib/python3.10/dist-packages/lightgbm/engine.py:172: UserWarning: Found `num_iterations` in params. Will use it instead of argument\n",
            "  _log_warning(f\"Found `{alias}` in params. Will use it instead of argument\")\n"
          ]
        },
        {
          "output_type": "stream",
          "name": "stdout",
          "text": [
            "Training until validation scores don't improve for 20 rounds\n",
            "[100]\tvalid_0's multi_logloss: 1.0604\n",
            "Early stopping, best iteration is:\n",
            "[135]\tvalid_0's multi_logloss: 1.05008\n"
          ]
        },
        {
          "output_type": "stream",
          "name": "stderr",
          "text": [
            "[I 2024-05-27 21:33:18,185] Trial 95 finished with value: 0.502093559096997 and parameters: {'num_iterations': 614, 'learning_rate': 0.03680355393846636, 'lambda_l1': 3.517269478777288, 'lambda_l2': 2.2955660991470097, 'num_leaves': 69, 'feature_fraction': 0.8267138394756489, 'bagging_fraction': 0.8993586203400046, 'bagging_freq': 5, 'min_child_samples': 89}. Best is trial 77 with value: 0.5296762808811002.\n",
            "/usr/local/lib/python3.10/dist-packages/lightgbm/engine.py:172: UserWarning: Found `num_iterations` in params. Will use it instead of argument\n",
            "  _log_warning(f\"Found `{alias}` in params. Will use it instead of argument\")\n"
          ]
        },
        {
          "output_type": "stream",
          "name": "stdout",
          "text": [
            "Training until validation scores don't improve for 20 rounds\n",
            "[100]\tvalid_0's multi_logloss: 1.04619\n"
          ]
        },
        {
          "output_type": "stream",
          "name": "stderr",
          "text": [
            "[I 2024-05-27 21:33:18,613] Trial 96 finished with value: 0.5153356877041088 and parameters: {'num_iterations': 813, 'learning_rate': 0.046858897990488396, 'lambda_l1': 3.187109038929371, 'lambda_l2': 0.9488282304750568, 'num_leaves': 86, 'feature_fraction': 0.8006358178454357, 'bagging_fraction': 0.8555609480866117, 'bagging_freq': 4, 'min_child_samples': 75}. Best is trial 77 with value: 0.5296762808811002.\n"
          ]
        },
        {
          "output_type": "stream",
          "name": "stdout",
          "text": [
            "Early stopping, best iteration is:\n",
            "[155]\tvalid_0's multi_logloss: 1.0373\n"
          ]
        },
        {
          "output_type": "stream",
          "name": "stderr",
          "text": [
            "/usr/local/lib/python3.10/dist-packages/lightgbm/engine.py:172: UserWarning: Found `num_iterations` in params. Will use it instead of argument\n",
            "  _log_warning(f\"Found `{alias}` in params. Will use it instead of argument\")\n"
          ]
        },
        {
          "output_type": "stream",
          "name": "stdout",
          "text": [
            "Training until validation scores don't improve for 20 rounds\n",
            "[100]\tvalid_0's multi_logloss: 1.08201\n",
            "[200]\tvalid_0's multi_logloss: 1.04746\n"
          ]
        },
        {
          "output_type": "stream",
          "name": "stderr",
          "text": [
            "[I 2024-05-27 21:33:23,888] Trial 97 finished with value: 0.537791922696224 and parameters: {'num_iterations': 390, 'learning_rate': 0.02333208305281641, 'lambda_l1': 2.9738782603185556, 'lambda_l2': 1.5159321612358156, 'num_leaves': 14, 'feature_fraction': 0.7763349478313206, 'bagging_fraction': 0.6964851869230628, 'bagging_freq': 4, 'min_child_samples': 66}. Best is trial 97 with value: 0.537791922696224.\n"
          ]
        },
        {
          "output_type": "stream",
          "name": "stdout",
          "text": [
            "Early stopping, best iteration is:\n",
            "[223]\tvalid_0's multi_logloss: 1.04445\n"
          ]
        },
        {
          "output_type": "stream",
          "name": "stderr",
          "text": [
            "/usr/local/lib/python3.10/dist-packages/lightgbm/engine.py:172: UserWarning: Found `num_iterations` in params. Will use it instead of argument\n",
            "  _log_warning(f\"Found `{alias}` in params. Will use it instead of argument\")\n"
          ]
        },
        {
          "output_type": "stream",
          "name": "stdout",
          "text": [
            "Training until validation scores don't improve for 20 rounds\n",
            "[100]\tvalid_0's multi_logloss: 1.08395\n",
            "[200]\tvalid_0's multi_logloss: 1.04614\n"
          ]
        },
        {
          "output_type": "stream",
          "name": "stderr",
          "text": [
            "[I 2024-05-27 21:33:29,140] Trial 98 finished with value: 0.5187945461199726 and parameters: {'num_iterations': 391, 'learning_rate': 0.019212254181237405, 'lambda_l1': 2.1244969085899044, 'lambda_l2': 1.5388310117360384, 'num_leaves': 46, 'feature_fraction': 0.815392535415348, 'bagging_fraction': 0.7008201142946288, 'bagging_freq': 4, 'min_child_samples': 62}. Best is trial 97 with value: 0.537791922696224.\n"
          ]
        },
        {
          "output_type": "stream",
          "name": "stdout",
          "text": [
            "Early stopping, best iteration is:\n",
            "[223]\tvalid_0's multi_logloss: 1.04295\n"
          ]
        },
        {
          "output_type": "stream",
          "name": "stderr",
          "text": [
            "/usr/local/lib/python3.10/dist-packages/lightgbm/engine.py:172: UserWarning: Found `num_iterations` in params. Will use it instead of argument\n",
            "  _log_warning(f\"Found `{alias}` in params. Will use it instead of argument\")\n"
          ]
        },
        {
          "output_type": "stream",
          "name": "stdout",
          "text": [
            "Training until validation scores don't improve for 20 rounds\n",
            "[100]\tvalid_0's multi_logloss: 1.10293\n",
            "[200]\tvalid_0's multi_logloss: 1.05758\n"
          ]
        },
        {
          "output_type": "stream",
          "name": "stderr",
          "text": [
            "[I 2024-05-27 21:33:32,300] Trial 99 finished with value: 0.5024528073129761 and parameters: {'num_iterations': 406, 'learning_rate': 0.015295547737502736, 'lambda_l1': 2.1338357315339547, 'lambda_l2': 1.4755532836618341, 'num_leaves': 47, 'feature_fraction': 0.7616219936437965, 'bagging_fraction': 0.6981449741874346, 'bagging_freq': 4, 'min_child_samples': 62}. Best is trial 97 with value: 0.537791922696224.\n"
          ]
        },
        {
          "output_type": "stream",
          "name": "stdout",
          "text": [
            "Early stopping, best iteration is:\n",
            "[276]\tvalid_0's multi_logloss: 1.0453\n",
            "\n",
            "Number of finished trials: 100\n",
            "Best trial: {'num_iterations': 390, 'learning_rate': 0.02333208305281641, 'lambda_l1': 2.9738782603185556, 'lambda_l2': 1.5159321612358156, 'num_leaves': 14, 'feature_fraction': 0.7763349478313206, 'bagging_fraction': 0.6964851869230628, 'bagging_freq': 4, 'min_child_samples': 66}\n",
            "Best score:  0.537791922696224\n",
            "所要時間71.62061810493469秒\n"
          ]
        }
      ]
    },
    {
      "cell_type": "code",
      "source": [
        "# 探索履歴のプロット\n",
        "opt_history = vis.plot_optimization_history(study)\n",
        "opt_history.show()\n",
        "\n",
        "# ハイパーパラメータの重要度のプロット\n",
        "param_importances = vis.plot_param_importances(study)\n",
        "param_importances.show()"
      ],
      "metadata": {
        "colab": {
          "base_uri": "https://localhost:8080/",
          "height": 1000
        },
        "outputId": "50383498-40e6-4193-afcc-fb3a0efdfa2d",
        "collapsed": true,
        "id": "qMQqGtSYjEc2"
      },
      "execution_count": null,
      "outputs": [
        {
          "output_type": "display_data",
          "data": {
            "text/html": [
              "<html>\n",
              "<head><meta charset=\"utf-8\" /></head>\n",
              "<body>\n",
              "    <div>            <script src=\"https://cdnjs.cloudflare.com/ajax/libs/mathjax/2.7.5/MathJax.js?config=TeX-AMS-MML_SVG\"></script><script type=\"text/javascript\">if (window.MathJax && window.MathJax.Hub && window.MathJax.Hub.Config) {window.MathJax.Hub.Config({SVG: {font: \"STIX-Web\"}});}</script>                <script type=\"text/javascript\">window.PlotlyConfig = {MathJaxConfig: 'local'};</script>\n",
              "        <script charset=\"utf-8\" src=\"https://cdn.plot.ly/plotly-2.24.1.min.js\"></script>                <div id=\"dcf8156b-31f2-4534-9814-18d9df5fa88e\" class=\"plotly-graph-div\" style=\"height:525px; width:100%;\"></div>            <script type=\"text/javascript\">                                    window.PLOTLYENV=window.PLOTLYENV || {};                                    if (document.getElementById(\"dcf8156b-31f2-4534-9814-18d9df5fa88e\")) {                    Plotly.newPlot(                        \"dcf8156b-31f2-4534-9814-18d9df5fa88e\",                        [{\"mode\":\"markers\",\"name\":\"Objective Value\",\"x\":[0,1,2,3,4,5,6,7,8,9,10,11,12,13,14,15,16,17,18,19,20,21,22,23,24,25,26,27,28,29,30,31,32,33,34,35,36,37,38,39,40,41,42,43,44,45,46,47,48,49,50,51,52,53,54,55,56,57,58,59,60,61,62,63,64,65,66,67,68,69,70,71,72,73,74,75,76,77,78,79,80,81,82,83,84,85,86,87,88,89,90,91,92,93,94,95,96,97,98,99],\"y\":[0.48170476750478625,0.4671054515961165,0.49157243746631774,0.48403263403263397,0.46093638948116555,0.47219857635196916,0.45252149927495744,0.38525963142840114,0.4907595884705457,0.486284672887198,0.4586654383352796,0.421876231459151,0.4950613275613276,0.47781297216228724,0.12962962962962962,0.48238005977752896,0.49429527881084645,0.4356037457457728,0.4569703921484107,0.4804373473247377,0.5222951734851151,0.49012723445688905,0.45687844798683286,0.4892324266352329,0.5165034890796886,0.4994768106795223,0.4833927383328581,0.47816440194730403,0.4729100693043521,0.47042397014253806,0.5160110478972755,0.4963161698947652,0.5032862188497251,0.4798905455699665,0.5078179968269297,0.4845267745952678,0.4896451379115613,0.4895937967448265,0.5062193542803073,0.44925303454715215,0.3077672904317988,0.5137721041525682,0.4750488776207974,0.4875703075807843,0.49978186497706717,0.5294767904485929,0.49400259631113713,0.5044206349206349,0.49884646510317354,0.4716772080112559,0.48631312654175196,0.47335512876166647,0.483322395999972,0.4976885781751743,0.46734426124487116,0.5143455377139005,0.48152456899631707,0.4833152958152958,0.5057249821922574,0.5243470403976631,0.5050324675324676,0.5211984300839722,0.5117418474009493,0.5115143245277654,0.4743273516195641,0.5170513137314644,0.5011419678227828,0.47292089500958123,0.4887217399579616,0.46924113000689244,0.459722413332507,0.49995613984300125,0.4771437283047191,0.5032463320188743,0.502344843911109,0.525879689484667,0.4813751668891856,0.5296762808811002,0.525273330983299,0.47517265343352305,0.5006746771622457,0.5053243597208118,0.48210231162176237,0.4963017001384944,0.5029212982948412,0.5065986784539722,0.47836162805203053,0.501599047150404,0.48975360351227026,0.4960033459670341,0.49570138509091993,0.5252764600497092,0.4899246785978899,0.514788773934845,0.12962962962962962,0.502093559096997,0.5153356877041088,0.537791922696224,0.5187945461199726,0.5024528073129761],\"type\":\"scatter\"},{\"mode\":\"lines\",\"name\":\"Best Value\",\"x\":[0,1,2,3,4,5,6,7,8,9,10,11,12,13,14,15,16,17,18,19,20,21,22,23,24,25,26,27,28,29,30,31,32,33,34,35,36,37,38,39,40,41,42,43,44,45,46,47,48,49,50,51,52,53,54,55,56,57,58,59,60,61,62,63,64,65,66,67,68,69,70,71,72,73,74,75,76,77,78,79,80,81,82,83,84,85,86,87,88,89,90,91,92,93,94,95,96,97,98,99],\"y\":[0.48170476750478625,0.48170476750478625,0.49157243746631774,0.49157243746631774,0.49157243746631774,0.49157243746631774,0.49157243746631774,0.49157243746631774,0.49157243746631774,0.49157243746631774,0.49157243746631774,0.49157243746631774,0.4950613275613276,0.4950613275613276,0.4950613275613276,0.4950613275613276,0.4950613275613276,0.4950613275613276,0.4950613275613276,0.4950613275613276,0.5222951734851151,0.5222951734851151,0.5222951734851151,0.5222951734851151,0.5222951734851151,0.5222951734851151,0.5222951734851151,0.5222951734851151,0.5222951734851151,0.5222951734851151,0.5222951734851151,0.5222951734851151,0.5222951734851151,0.5222951734851151,0.5222951734851151,0.5222951734851151,0.5222951734851151,0.5222951734851151,0.5222951734851151,0.5222951734851151,0.5222951734851151,0.5222951734851151,0.5222951734851151,0.5222951734851151,0.5222951734851151,0.5294767904485929,0.5294767904485929,0.5294767904485929,0.5294767904485929,0.5294767904485929,0.5294767904485929,0.5294767904485929,0.5294767904485929,0.5294767904485929,0.5294767904485929,0.5294767904485929,0.5294767904485929,0.5294767904485929,0.5294767904485929,0.5294767904485929,0.5294767904485929,0.5294767904485929,0.5294767904485929,0.5294767904485929,0.5294767904485929,0.5294767904485929,0.5294767904485929,0.5294767904485929,0.5294767904485929,0.5294767904485929,0.5294767904485929,0.5294767904485929,0.5294767904485929,0.5294767904485929,0.5294767904485929,0.5294767904485929,0.5294767904485929,0.5296762808811002,0.5296762808811002,0.5296762808811002,0.5296762808811002,0.5296762808811002,0.5296762808811002,0.5296762808811002,0.5296762808811002,0.5296762808811002,0.5296762808811002,0.5296762808811002,0.5296762808811002,0.5296762808811002,0.5296762808811002,0.5296762808811002,0.5296762808811002,0.5296762808811002,0.5296762808811002,0.5296762808811002,0.5296762808811002,0.537791922696224,0.537791922696224,0.537791922696224],\"type\":\"scatter\"},{\"marker\":{\"color\":\"#cccccc\"},\"mode\":\"markers\",\"name\":\"Infeasible Trial\",\"showlegend\":false,\"x\":[],\"y\":[],\"type\":\"scatter\"}],                        {\"title\":{\"text\":\"Optimization History Plot\"},\"xaxis\":{\"title\":{\"text\":\"Trial\"}},\"yaxis\":{\"title\":{\"text\":\"Objective Value\"}},\"template\":{\"data\":{\"histogram2dcontour\":[{\"type\":\"histogram2dcontour\",\"colorbar\":{\"outlinewidth\":0,\"ticks\":\"\"},\"colorscale\":[[0.0,\"#0d0887\"],[0.1111111111111111,\"#46039f\"],[0.2222222222222222,\"#7201a8\"],[0.3333333333333333,\"#9c179e\"],[0.4444444444444444,\"#bd3786\"],[0.5555555555555556,\"#d8576b\"],[0.6666666666666666,\"#ed7953\"],[0.7777777777777778,\"#fb9f3a\"],[0.8888888888888888,\"#fdca26\"],[1.0,\"#f0f921\"]]}],\"choropleth\":[{\"type\":\"choropleth\",\"colorbar\":{\"outlinewidth\":0,\"ticks\":\"\"}}],\"histogram2d\":[{\"type\":\"histogram2d\",\"colorbar\":{\"outlinewidth\":0,\"ticks\":\"\"},\"colorscale\":[[0.0,\"#0d0887\"],[0.1111111111111111,\"#46039f\"],[0.2222222222222222,\"#7201a8\"],[0.3333333333333333,\"#9c179e\"],[0.4444444444444444,\"#bd3786\"],[0.5555555555555556,\"#d8576b\"],[0.6666666666666666,\"#ed7953\"],[0.7777777777777778,\"#fb9f3a\"],[0.8888888888888888,\"#fdca26\"],[1.0,\"#f0f921\"]]}],\"heatmap\":[{\"type\":\"heatmap\",\"colorbar\":{\"outlinewidth\":0,\"ticks\":\"\"},\"colorscale\":[[0.0,\"#0d0887\"],[0.1111111111111111,\"#46039f\"],[0.2222222222222222,\"#7201a8\"],[0.3333333333333333,\"#9c179e\"],[0.4444444444444444,\"#bd3786\"],[0.5555555555555556,\"#d8576b\"],[0.6666666666666666,\"#ed7953\"],[0.7777777777777778,\"#fb9f3a\"],[0.8888888888888888,\"#fdca26\"],[1.0,\"#f0f921\"]]}],\"heatmapgl\":[{\"type\":\"heatmapgl\",\"colorbar\":{\"outlinewidth\":0,\"ticks\":\"\"},\"colorscale\":[[0.0,\"#0d0887\"],[0.1111111111111111,\"#46039f\"],[0.2222222222222222,\"#7201a8\"],[0.3333333333333333,\"#9c179e\"],[0.4444444444444444,\"#bd3786\"],[0.5555555555555556,\"#d8576b\"],[0.6666666666666666,\"#ed7953\"],[0.7777777777777778,\"#fb9f3a\"],[0.8888888888888888,\"#fdca26\"],[1.0,\"#f0f921\"]]}],\"contourcarpet\":[{\"type\":\"contourcarpet\",\"colorbar\":{\"outlinewidth\":0,\"ticks\":\"\"}}],\"contour\":[{\"type\":\"contour\",\"colorbar\":{\"outlinewidth\":0,\"ticks\":\"\"},\"colorscale\":[[0.0,\"#0d0887\"],[0.1111111111111111,\"#46039f\"],[0.2222222222222222,\"#7201a8\"],[0.3333333333333333,\"#9c179e\"],[0.4444444444444444,\"#bd3786\"],[0.5555555555555556,\"#d8576b\"],[0.6666666666666666,\"#ed7953\"],[0.7777777777777778,\"#fb9f3a\"],[0.8888888888888888,\"#fdca26\"],[1.0,\"#f0f921\"]]}],\"surface\":[{\"type\":\"surface\",\"colorbar\":{\"outlinewidth\":0,\"ticks\":\"\"},\"colorscale\":[[0.0,\"#0d0887\"],[0.1111111111111111,\"#46039f\"],[0.2222222222222222,\"#7201a8\"],[0.3333333333333333,\"#9c179e\"],[0.4444444444444444,\"#bd3786\"],[0.5555555555555556,\"#d8576b\"],[0.6666666666666666,\"#ed7953\"],[0.7777777777777778,\"#fb9f3a\"],[0.8888888888888888,\"#fdca26\"],[1.0,\"#f0f921\"]]}],\"mesh3d\":[{\"type\":\"mesh3d\",\"colorbar\":{\"outlinewidth\":0,\"ticks\":\"\"}}],\"scatter\":[{\"fillpattern\":{\"fillmode\":\"overlay\",\"size\":10,\"solidity\":0.2},\"type\":\"scatter\"}],\"parcoords\":[{\"type\":\"parcoords\",\"line\":{\"colorbar\":{\"outlinewidth\":0,\"ticks\":\"\"}}}],\"scatterpolargl\":[{\"type\":\"scatterpolargl\",\"marker\":{\"colorbar\":{\"outlinewidth\":0,\"ticks\":\"\"}}}],\"bar\":[{\"error_x\":{\"color\":\"#2a3f5f\"},\"error_y\":{\"color\":\"#2a3f5f\"},\"marker\":{\"line\":{\"color\":\"#E5ECF6\",\"width\":0.5},\"pattern\":{\"fillmode\":\"overlay\",\"size\":10,\"solidity\":0.2}},\"type\":\"bar\"}],\"scattergeo\":[{\"type\":\"scattergeo\",\"marker\":{\"colorbar\":{\"outlinewidth\":0,\"ticks\":\"\"}}}],\"scatterpolar\":[{\"type\":\"scatterpolar\",\"marker\":{\"colorbar\":{\"outlinewidth\":0,\"ticks\":\"\"}}}],\"histogram\":[{\"marker\":{\"pattern\":{\"fillmode\":\"overlay\",\"size\":10,\"solidity\":0.2}},\"type\":\"histogram\"}],\"scattergl\":[{\"type\":\"scattergl\",\"marker\":{\"colorbar\":{\"outlinewidth\":0,\"ticks\":\"\"}}}],\"scatter3d\":[{\"type\":\"scatter3d\",\"line\":{\"colorbar\":{\"outlinewidth\":0,\"ticks\":\"\"}},\"marker\":{\"colorbar\":{\"outlinewidth\":0,\"ticks\":\"\"}}}],\"scattermapbox\":[{\"type\":\"scattermapbox\",\"marker\":{\"colorbar\":{\"outlinewidth\":0,\"ticks\":\"\"}}}],\"scatterternary\":[{\"type\":\"scatterternary\",\"marker\":{\"colorbar\":{\"outlinewidth\":0,\"ticks\":\"\"}}}],\"scattercarpet\":[{\"type\":\"scattercarpet\",\"marker\":{\"colorbar\":{\"outlinewidth\":0,\"ticks\":\"\"}}}],\"carpet\":[{\"aaxis\":{\"endlinecolor\":\"#2a3f5f\",\"gridcolor\":\"white\",\"linecolor\":\"white\",\"minorgridcolor\":\"white\",\"startlinecolor\":\"#2a3f5f\"},\"baxis\":{\"endlinecolor\":\"#2a3f5f\",\"gridcolor\":\"white\",\"linecolor\":\"white\",\"minorgridcolor\":\"white\",\"startlinecolor\":\"#2a3f5f\"},\"type\":\"carpet\"}],\"table\":[{\"cells\":{\"fill\":{\"color\":\"#EBF0F8\"},\"line\":{\"color\":\"white\"}},\"header\":{\"fill\":{\"color\":\"#C8D4E3\"},\"line\":{\"color\":\"white\"}},\"type\":\"table\"}],\"barpolar\":[{\"marker\":{\"line\":{\"color\":\"#E5ECF6\",\"width\":0.5},\"pattern\":{\"fillmode\":\"overlay\",\"size\":10,\"solidity\":0.2}},\"type\":\"barpolar\"}],\"pie\":[{\"automargin\":true,\"type\":\"pie\"}]},\"layout\":{\"autotypenumbers\":\"strict\",\"colorway\":[\"#636efa\",\"#EF553B\",\"#00cc96\",\"#ab63fa\",\"#FFA15A\",\"#19d3f3\",\"#FF6692\",\"#B6E880\",\"#FF97FF\",\"#FECB52\"],\"font\":{\"color\":\"#2a3f5f\"},\"hovermode\":\"closest\",\"hoverlabel\":{\"align\":\"left\"},\"paper_bgcolor\":\"white\",\"plot_bgcolor\":\"#E5ECF6\",\"polar\":{\"bgcolor\":\"#E5ECF6\",\"angularaxis\":{\"gridcolor\":\"white\",\"linecolor\":\"white\",\"ticks\":\"\"},\"radialaxis\":{\"gridcolor\":\"white\",\"linecolor\":\"white\",\"ticks\":\"\"}},\"ternary\":{\"bgcolor\":\"#E5ECF6\",\"aaxis\":{\"gridcolor\":\"white\",\"linecolor\":\"white\",\"ticks\":\"\"},\"baxis\":{\"gridcolor\":\"white\",\"linecolor\":\"white\",\"ticks\":\"\"},\"caxis\":{\"gridcolor\":\"white\",\"linecolor\":\"white\",\"ticks\":\"\"}},\"coloraxis\":{\"colorbar\":{\"outlinewidth\":0,\"ticks\":\"\"}},\"colorscale\":{\"sequential\":[[0.0,\"#0d0887\"],[0.1111111111111111,\"#46039f\"],[0.2222222222222222,\"#7201a8\"],[0.3333333333333333,\"#9c179e\"],[0.4444444444444444,\"#bd3786\"],[0.5555555555555556,\"#d8576b\"],[0.6666666666666666,\"#ed7953\"],[0.7777777777777778,\"#fb9f3a\"],[0.8888888888888888,\"#fdca26\"],[1.0,\"#f0f921\"]],\"sequentialminus\":[[0.0,\"#0d0887\"],[0.1111111111111111,\"#46039f\"],[0.2222222222222222,\"#7201a8\"],[0.3333333333333333,\"#9c179e\"],[0.4444444444444444,\"#bd3786\"],[0.5555555555555556,\"#d8576b\"],[0.6666666666666666,\"#ed7953\"],[0.7777777777777778,\"#fb9f3a\"],[0.8888888888888888,\"#fdca26\"],[1.0,\"#f0f921\"]],\"diverging\":[[0,\"#8e0152\"],[0.1,\"#c51b7d\"],[0.2,\"#de77ae\"],[0.3,\"#f1b6da\"],[0.4,\"#fde0ef\"],[0.5,\"#f7f7f7\"],[0.6,\"#e6f5d0\"],[0.7,\"#b8e186\"],[0.8,\"#7fbc41\"],[0.9,\"#4d9221\"],[1,\"#276419\"]]},\"xaxis\":{\"gridcolor\":\"white\",\"linecolor\":\"white\",\"ticks\":\"\",\"title\":{\"standoff\":15},\"zerolinecolor\":\"white\",\"automargin\":true,\"zerolinewidth\":2},\"yaxis\":{\"gridcolor\":\"white\",\"linecolor\":\"white\",\"ticks\":\"\",\"title\":{\"standoff\":15},\"zerolinecolor\":\"white\",\"automargin\":true,\"zerolinewidth\":2},\"scene\":{\"xaxis\":{\"backgroundcolor\":\"#E5ECF6\",\"gridcolor\":\"white\",\"linecolor\":\"white\",\"showbackground\":true,\"ticks\":\"\",\"zerolinecolor\":\"white\",\"gridwidth\":2},\"yaxis\":{\"backgroundcolor\":\"#E5ECF6\",\"gridcolor\":\"white\",\"linecolor\":\"white\",\"showbackground\":true,\"ticks\":\"\",\"zerolinecolor\":\"white\",\"gridwidth\":2},\"zaxis\":{\"backgroundcolor\":\"#E5ECF6\",\"gridcolor\":\"white\",\"linecolor\":\"white\",\"showbackground\":true,\"ticks\":\"\",\"zerolinecolor\":\"white\",\"gridwidth\":2}},\"shapedefaults\":{\"line\":{\"color\":\"#2a3f5f\"}},\"annotationdefaults\":{\"arrowcolor\":\"#2a3f5f\",\"arrowhead\":0,\"arrowwidth\":1},\"geo\":{\"bgcolor\":\"white\",\"landcolor\":\"#E5ECF6\",\"subunitcolor\":\"white\",\"showland\":true,\"showlakes\":true,\"lakecolor\":\"white\"},\"title\":{\"x\":0.05},\"mapbox\":{\"style\":\"light\"}}}},                        {\"responsive\": true}                    ).then(function(){\n",
              "                            \n",
              "var gd = document.getElementById('dcf8156b-31f2-4534-9814-18d9df5fa88e');\n",
              "var x = new MutationObserver(function (mutations, observer) {{\n",
              "        var display = window.getComputedStyle(gd).display;\n",
              "        if (!display || display === 'none') {{\n",
              "            console.log([gd, 'removed!']);\n",
              "            Plotly.purge(gd);\n",
              "            observer.disconnect();\n",
              "        }}\n",
              "}});\n",
              "\n",
              "// Listen for the removal of the full notebook cells\n",
              "var notebookContainer = gd.closest('#notebook-container');\n",
              "if (notebookContainer) {{\n",
              "    x.observe(notebookContainer, {childList: true});\n",
              "}}\n",
              "\n",
              "// Listen for the clearing of the current output cell\n",
              "var outputEl = gd.closest('.output');\n",
              "if (outputEl) {{\n",
              "    x.observe(outputEl, {childList: true});\n",
              "}}\n",
              "\n",
              "                        })                };                            </script>        </div>\n",
              "</body>\n",
              "</html>"
            ]
          },
          "metadata": {}
        },
        {
          "output_type": "display_data",
          "data": {
            "text/html": [
              "<html>\n",
              "<head><meta charset=\"utf-8\" /></head>\n",
              "<body>\n",
              "    <div>            <script src=\"https://cdnjs.cloudflare.com/ajax/libs/mathjax/2.7.5/MathJax.js?config=TeX-AMS-MML_SVG\"></script><script type=\"text/javascript\">if (window.MathJax && window.MathJax.Hub && window.MathJax.Hub.Config) {window.MathJax.Hub.Config({SVG: {font: \"STIX-Web\"}});}</script>                <script type=\"text/javascript\">window.PlotlyConfig = {MathJaxConfig: 'local'};</script>\n",
              "        <script charset=\"utf-8\" src=\"https://cdn.plot.ly/plotly-2.24.1.min.js\"></script>                <div id=\"9d2851a3-0ef6-4d3d-a689-4bcab31ae4d5\" class=\"plotly-graph-div\" style=\"height:525px; width:100%;\"></div>            <script type=\"text/javascript\">                                    window.PLOTLYENV=window.PLOTLYENV || {};                                    if (document.getElementById(\"9d2851a3-0ef6-4d3d-a689-4bcab31ae4d5\")) {                    Plotly.newPlot(                        \"9d2851a3-0ef6-4d3d-a689-4bcab31ae4d5\",                        [{\"cliponaxis\":false,\"hovertemplate\":[\"lambda_l2 (FloatDistribution): 0.023056997293621703\\u003cextra\\u003e\\u003c\\u002fextra\\u003e\",\"feature_fraction (FloatDistribution): 0.031238426246599085\\u003cextra\\u003e\\u003c\\u002fextra\\u003e\",\"num_leaves (IntDistribution): 0.031334334935504464\\u003cextra\\u003e\\u003c\\u002fextra\\u003e\",\"lambda_l1 (FloatDistribution): 0.03518887263885579\\u003cextra\\u003e\\u003c\\u002fextra\\u003e\",\"min_child_samples (IntDistribution): 0.03986243406921536\\u003cextra\\u003e\\u003c\\u002fextra\\u003e\",\"bagging_fraction (FloatDistribution): 0.10835883828898478\\u003cextra\\u003e\\u003c\\u002fextra\\u003e\",\"num_iterations (IntDistribution): 0.1565332050421595\\u003cextra\\u003e\\u003c\\u002fextra\\u003e\",\"learning_rate (FloatDistribution): 0.2816930050034675\\u003cextra\\u003e\\u003c\\u002fextra\\u003e\",\"bagging_freq (IntDistribution): 0.292733886481592\\u003cextra\\u003e\\u003c\\u002fextra\\u003e\"],\"name\":\"Objective Value\",\"orientation\":\"h\",\"text\":[\"0.02\",\"0.03\",\"0.03\",\"0.04\",\"0.04\",\"0.11\",\"0.16\",\"0.28\",\"0.29\"],\"textposition\":\"outside\",\"x\":[0.023056997293621703,0.031238426246599085,0.031334334935504464,0.03518887263885579,0.03986243406921536,0.10835883828898478,0.1565332050421595,0.2816930050034675,0.292733886481592],\"y\":[\"lambda_l2\",\"feature_fraction\",\"num_leaves\",\"lambda_l1\",\"min_child_samples\",\"bagging_fraction\",\"num_iterations\",\"learning_rate\",\"bagging_freq\"],\"type\":\"bar\"}],                        {\"title\":{\"text\":\"Hyperparameter Importances\"},\"xaxis\":{\"title\":{\"text\":\"Hyperparameter Importance\"}},\"yaxis\":{\"title\":{\"text\":\"Hyperparameter\"}},\"template\":{\"data\":{\"histogram2dcontour\":[{\"type\":\"histogram2dcontour\",\"colorbar\":{\"outlinewidth\":0,\"ticks\":\"\"},\"colorscale\":[[0.0,\"#0d0887\"],[0.1111111111111111,\"#46039f\"],[0.2222222222222222,\"#7201a8\"],[0.3333333333333333,\"#9c179e\"],[0.4444444444444444,\"#bd3786\"],[0.5555555555555556,\"#d8576b\"],[0.6666666666666666,\"#ed7953\"],[0.7777777777777778,\"#fb9f3a\"],[0.8888888888888888,\"#fdca26\"],[1.0,\"#f0f921\"]]}],\"choropleth\":[{\"type\":\"choropleth\",\"colorbar\":{\"outlinewidth\":0,\"ticks\":\"\"}}],\"histogram2d\":[{\"type\":\"histogram2d\",\"colorbar\":{\"outlinewidth\":0,\"ticks\":\"\"},\"colorscale\":[[0.0,\"#0d0887\"],[0.1111111111111111,\"#46039f\"],[0.2222222222222222,\"#7201a8\"],[0.3333333333333333,\"#9c179e\"],[0.4444444444444444,\"#bd3786\"],[0.5555555555555556,\"#d8576b\"],[0.6666666666666666,\"#ed7953\"],[0.7777777777777778,\"#fb9f3a\"],[0.8888888888888888,\"#fdca26\"],[1.0,\"#f0f921\"]]}],\"heatmap\":[{\"type\":\"heatmap\",\"colorbar\":{\"outlinewidth\":0,\"ticks\":\"\"},\"colorscale\":[[0.0,\"#0d0887\"],[0.1111111111111111,\"#46039f\"],[0.2222222222222222,\"#7201a8\"],[0.3333333333333333,\"#9c179e\"],[0.4444444444444444,\"#bd3786\"],[0.5555555555555556,\"#d8576b\"],[0.6666666666666666,\"#ed7953\"],[0.7777777777777778,\"#fb9f3a\"],[0.8888888888888888,\"#fdca26\"],[1.0,\"#f0f921\"]]}],\"heatmapgl\":[{\"type\":\"heatmapgl\",\"colorbar\":{\"outlinewidth\":0,\"ticks\":\"\"},\"colorscale\":[[0.0,\"#0d0887\"],[0.1111111111111111,\"#46039f\"],[0.2222222222222222,\"#7201a8\"],[0.3333333333333333,\"#9c179e\"],[0.4444444444444444,\"#bd3786\"],[0.5555555555555556,\"#d8576b\"],[0.6666666666666666,\"#ed7953\"],[0.7777777777777778,\"#fb9f3a\"],[0.8888888888888888,\"#fdca26\"],[1.0,\"#f0f921\"]]}],\"contourcarpet\":[{\"type\":\"contourcarpet\",\"colorbar\":{\"outlinewidth\":0,\"ticks\":\"\"}}],\"contour\":[{\"type\":\"contour\",\"colorbar\":{\"outlinewidth\":0,\"ticks\":\"\"},\"colorscale\":[[0.0,\"#0d0887\"],[0.1111111111111111,\"#46039f\"],[0.2222222222222222,\"#7201a8\"],[0.3333333333333333,\"#9c179e\"],[0.4444444444444444,\"#bd3786\"],[0.5555555555555556,\"#d8576b\"],[0.6666666666666666,\"#ed7953\"],[0.7777777777777778,\"#fb9f3a\"],[0.8888888888888888,\"#fdca26\"],[1.0,\"#f0f921\"]]}],\"surface\":[{\"type\":\"surface\",\"colorbar\":{\"outlinewidth\":0,\"ticks\":\"\"},\"colorscale\":[[0.0,\"#0d0887\"],[0.1111111111111111,\"#46039f\"],[0.2222222222222222,\"#7201a8\"],[0.3333333333333333,\"#9c179e\"],[0.4444444444444444,\"#bd3786\"],[0.5555555555555556,\"#d8576b\"],[0.6666666666666666,\"#ed7953\"],[0.7777777777777778,\"#fb9f3a\"],[0.8888888888888888,\"#fdca26\"],[1.0,\"#f0f921\"]]}],\"mesh3d\":[{\"type\":\"mesh3d\",\"colorbar\":{\"outlinewidth\":0,\"ticks\":\"\"}}],\"scatter\":[{\"fillpattern\":{\"fillmode\":\"overlay\",\"size\":10,\"solidity\":0.2},\"type\":\"scatter\"}],\"parcoords\":[{\"type\":\"parcoords\",\"line\":{\"colorbar\":{\"outlinewidth\":0,\"ticks\":\"\"}}}],\"scatterpolargl\":[{\"type\":\"scatterpolargl\",\"marker\":{\"colorbar\":{\"outlinewidth\":0,\"ticks\":\"\"}}}],\"bar\":[{\"error_x\":{\"color\":\"#2a3f5f\"},\"error_y\":{\"color\":\"#2a3f5f\"},\"marker\":{\"line\":{\"color\":\"#E5ECF6\",\"width\":0.5},\"pattern\":{\"fillmode\":\"overlay\",\"size\":10,\"solidity\":0.2}},\"type\":\"bar\"}],\"scattergeo\":[{\"type\":\"scattergeo\",\"marker\":{\"colorbar\":{\"outlinewidth\":0,\"ticks\":\"\"}}}],\"scatterpolar\":[{\"type\":\"scatterpolar\",\"marker\":{\"colorbar\":{\"outlinewidth\":0,\"ticks\":\"\"}}}],\"histogram\":[{\"marker\":{\"pattern\":{\"fillmode\":\"overlay\",\"size\":10,\"solidity\":0.2}},\"type\":\"histogram\"}],\"scattergl\":[{\"type\":\"scattergl\",\"marker\":{\"colorbar\":{\"outlinewidth\":0,\"ticks\":\"\"}}}],\"scatter3d\":[{\"type\":\"scatter3d\",\"line\":{\"colorbar\":{\"outlinewidth\":0,\"ticks\":\"\"}},\"marker\":{\"colorbar\":{\"outlinewidth\":0,\"ticks\":\"\"}}}],\"scattermapbox\":[{\"type\":\"scattermapbox\",\"marker\":{\"colorbar\":{\"outlinewidth\":0,\"ticks\":\"\"}}}],\"scatterternary\":[{\"type\":\"scatterternary\",\"marker\":{\"colorbar\":{\"outlinewidth\":0,\"ticks\":\"\"}}}],\"scattercarpet\":[{\"type\":\"scattercarpet\",\"marker\":{\"colorbar\":{\"outlinewidth\":0,\"ticks\":\"\"}}}],\"carpet\":[{\"aaxis\":{\"endlinecolor\":\"#2a3f5f\",\"gridcolor\":\"white\",\"linecolor\":\"white\",\"minorgridcolor\":\"white\",\"startlinecolor\":\"#2a3f5f\"},\"baxis\":{\"endlinecolor\":\"#2a3f5f\",\"gridcolor\":\"white\",\"linecolor\":\"white\",\"minorgridcolor\":\"white\",\"startlinecolor\":\"#2a3f5f\"},\"type\":\"carpet\"}],\"table\":[{\"cells\":{\"fill\":{\"color\":\"#EBF0F8\"},\"line\":{\"color\":\"white\"}},\"header\":{\"fill\":{\"color\":\"#C8D4E3\"},\"line\":{\"color\":\"white\"}},\"type\":\"table\"}],\"barpolar\":[{\"marker\":{\"line\":{\"color\":\"#E5ECF6\",\"width\":0.5},\"pattern\":{\"fillmode\":\"overlay\",\"size\":10,\"solidity\":0.2}},\"type\":\"barpolar\"}],\"pie\":[{\"automargin\":true,\"type\":\"pie\"}]},\"layout\":{\"autotypenumbers\":\"strict\",\"colorway\":[\"#636efa\",\"#EF553B\",\"#00cc96\",\"#ab63fa\",\"#FFA15A\",\"#19d3f3\",\"#FF6692\",\"#B6E880\",\"#FF97FF\",\"#FECB52\"],\"font\":{\"color\":\"#2a3f5f\"},\"hovermode\":\"closest\",\"hoverlabel\":{\"align\":\"left\"},\"paper_bgcolor\":\"white\",\"plot_bgcolor\":\"#E5ECF6\",\"polar\":{\"bgcolor\":\"#E5ECF6\",\"angularaxis\":{\"gridcolor\":\"white\",\"linecolor\":\"white\",\"ticks\":\"\"},\"radialaxis\":{\"gridcolor\":\"white\",\"linecolor\":\"white\",\"ticks\":\"\"}},\"ternary\":{\"bgcolor\":\"#E5ECF6\",\"aaxis\":{\"gridcolor\":\"white\",\"linecolor\":\"white\",\"ticks\":\"\"},\"baxis\":{\"gridcolor\":\"white\",\"linecolor\":\"white\",\"ticks\":\"\"},\"caxis\":{\"gridcolor\":\"white\",\"linecolor\":\"white\",\"ticks\":\"\"}},\"coloraxis\":{\"colorbar\":{\"outlinewidth\":0,\"ticks\":\"\"}},\"colorscale\":{\"sequential\":[[0.0,\"#0d0887\"],[0.1111111111111111,\"#46039f\"],[0.2222222222222222,\"#7201a8\"],[0.3333333333333333,\"#9c179e\"],[0.4444444444444444,\"#bd3786\"],[0.5555555555555556,\"#d8576b\"],[0.6666666666666666,\"#ed7953\"],[0.7777777777777778,\"#fb9f3a\"],[0.8888888888888888,\"#fdca26\"],[1.0,\"#f0f921\"]],\"sequentialminus\":[[0.0,\"#0d0887\"],[0.1111111111111111,\"#46039f\"],[0.2222222222222222,\"#7201a8\"],[0.3333333333333333,\"#9c179e\"],[0.4444444444444444,\"#bd3786\"],[0.5555555555555556,\"#d8576b\"],[0.6666666666666666,\"#ed7953\"],[0.7777777777777778,\"#fb9f3a\"],[0.8888888888888888,\"#fdca26\"],[1.0,\"#f0f921\"]],\"diverging\":[[0,\"#8e0152\"],[0.1,\"#c51b7d\"],[0.2,\"#de77ae\"],[0.3,\"#f1b6da\"],[0.4,\"#fde0ef\"],[0.5,\"#f7f7f7\"],[0.6,\"#e6f5d0\"],[0.7,\"#b8e186\"],[0.8,\"#7fbc41\"],[0.9,\"#4d9221\"],[1,\"#276419\"]]},\"xaxis\":{\"gridcolor\":\"white\",\"linecolor\":\"white\",\"ticks\":\"\",\"title\":{\"standoff\":15},\"zerolinecolor\":\"white\",\"automargin\":true,\"zerolinewidth\":2},\"yaxis\":{\"gridcolor\":\"white\",\"linecolor\":\"white\",\"ticks\":\"\",\"title\":{\"standoff\":15},\"zerolinecolor\":\"white\",\"automargin\":true,\"zerolinewidth\":2},\"scene\":{\"xaxis\":{\"backgroundcolor\":\"#E5ECF6\",\"gridcolor\":\"white\",\"linecolor\":\"white\",\"showbackground\":true,\"ticks\":\"\",\"zerolinecolor\":\"white\",\"gridwidth\":2},\"yaxis\":{\"backgroundcolor\":\"#E5ECF6\",\"gridcolor\":\"white\",\"linecolor\":\"white\",\"showbackground\":true,\"ticks\":\"\",\"zerolinecolor\":\"white\",\"gridwidth\":2},\"zaxis\":{\"backgroundcolor\":\"#E5ECF6\",\"gridcolor\":\"white\",\"linecolor\":\"white\",\"showbackground\":true,\"ticks\":\"\",\"zerolinecolor\":\"white\",\"gridwidth\":2}},\"shapedefaults\":{\"line\":{\"color\":\"#2a3f5f\"}},\"annotationdefaults\":{\"arrowcolor\":\"#2a3f5f\",\"arrowhead\":0,\"arrowwidth\":1},\"geo\":{\"bgcolor\":\"white\",\"landcolor\":\"#E5ECF6\",\"subunitcolor\":\"white\",\"showland\":true,\"showlakes\":true,\"lakecolor\":\"white\"},\"title\":{\"x\":0.05},\"mapbox\":{\"style\":\"light\"}}}},                        {\"responsive\": true}                    ).then(function(){\n",
              "                            \n",
              "var gd = document.getElementById('9d2851a3-0ef6-4d3d-a689-4bcab31ae4d5');\n",
              "var x = new MutationObserver(function (mutations, observer) {{\n",
              "        var display = window.getComputedStyle(gd).display;\n",
              "        if (!display || display === 'none') {{\n",
              "            console.log([gd, 'removed!']);\n",
              "            Plotly.purge(gd);\n",
              "            observer.disconnect();\n",
              "        }}\n",
              "}});\n",
              "\n",
              "// Listen for the removal of the full notebook cells\n",
              "var notebookContainer = gd.closest('#notebook-container');\n",
              "if (notebookContainer) {{\n",
              "    x.observe(notebookContainer, {childList: true});\n",
              "}}\n",
              "\n",
              "// Listen for the clearing of the current output cell\n",
              "var outputEl = gd.closest('.output');\n",
              "if (outputEl) {{\n",
              "    x.observe(outputEl, {childList: true});\n",
              "}}\n",
              "\n",
              "                        })                };                            </script>        </div>\n",
              "</body>\n",
              "</html>"
            ]
          },
          "metadata": {}
        }
      ]
    },
    {
      "cell_type": "code",
      "source": [
        "# ベストパラメータを使ってモデルの訓練\n",
        "\n",
        "# X_train, X_valid, y_train, y_valid = train_test_split(X, y, test_size=0.2, random_state=42, stratify=y)\n",
        "# dtrain = lgb.Dataset(X_train, label=y_train)\n",
        "# dvalid = lgb.Dataset(X_valid, label=y_valid, reference=dtrain)\n",
        "\n",
        "# Best trial: {'num_iterations': 390, 'learning_rate': 0.02333208305281641, 'lambda_l1': 2.9738782603185556, 'lambda_l2': 1.5159321612358156, 'num_leaves': 14, 'feature_fraction': 0.7763349478313206, 'bagging_fraction': 0.6964851869230628, 'bagging_freq': 4, 'min_child_samples': 66}\n",
        "# Best score:  0.537791922696224\n",
        "\n",
        "param = {\n",
        "    'objective': 'multiclass',\n",
        "    'metric': 'multi_logloss',\n",
        "    'num_class': 4,\n",
        "    'num_iterations': 390,\n",
        "    'learning_rate': 0.02333208305281641,\n",
        "    'lambda_l1': 2.9738782603185556,\n",
        "    'lambda_l2': 1.5159321612358156,\n",
        "    'num_leaves': 14,\n",
        "    'feature_fraction': 0.7763349478313206,\n",
        "    'bagging_fraction': 0.6964851869230628,\n",
        "    'bagging_freq': 4,\n",
        "    'min_child_samples': 66,\n",
        "    'random_state': 42,\n",
        "    'verbose': -1\n",
        "    }\n",
        "\n",
        "# verbose_eval = 0\n",
        "# lgb_model = lgb.train(param, dtrain, valid_sets=[dvalid],\n",
        "#                 callbacks=[\n",
        "#         lgb.early_stopping(stopping_rounds=10, verbose=True),\n",
        "#         lgb.log_evaluation(verbose_eval)\n",
        "#     ])\n",
        "\n",
        "lgb_model = lgb.LGBMClassifier(**param)\n",
        "\n",
        "# テストデータでの推論\n",
        "# lgb_preds = lgb_model.predict(df_test).astype(np.float32)\n",
        "# lgb_preds = np.argmax(lgb_preds, axis=1)\n",
        "\n",
        "# print(lgb_preds.shape)\n",
        "# print(lgb_preds)"
      ],
      "metadata": {
        "id": "tMpJuCrejHeQ"
      },
      "execution_count": 13,
      "outputs": []
    },
    {
      "cell_type": "markdown",
      "source": [
        "### 5. CatBoost"
      ],
      "metadata": {
        "id": "Xb6ImfRXgB_n"
      }
    },
    {
      "cell_type": "code",
      "source": [
        "def objective(trial):\n",
        "\n",
        "    X_train, X_valid, y_train, y_valid = train_test_split(X, y, test_size=0.2, random_state=42, stratify=y)\n",
        "\n",
        "    param = {\n",
        "        'loss_function': 'MultiClass',\n",
        "        # \"objective\": trial.suggest_categorical(\"objective\", [\"Logloss\", \"CrossEntropy\"]),\n",
        "        'learning_rate': trial.suggest_float('learning_rate', 1e-3, 1.0, log=True),\n",
        "        \"colsample_bylevel\": trial.suggest_float(\"colsample_bylevel\", 0.01, 0.1, log=True),\n",
        "        \"depth\": trial.suggest_int(\"depth\", 1, 12),\n",
        "        \"boosting_type\": trial.suggest_categorical(\"boosting_type\", [\"Ordered\", \"Plain\"]),\n",
        "        \"bootstrap_type\": trial.suggest_categorical(\n",
        "            \"bootstrap_type\", [\"Bayesian\", \"Bernoulli\", \"MVS\"]\n",
        "        ),\n",
        "        \"used_ram_limit\": \"3gb\",\n",
        "        \"eval_metric\": \"Accuracy\",\n",
        "        \"random_state\": 42,\n",
        "    }\n",
        "\n",
        "    if param[\"bootstrap_type\"] == \"Bayesian\":\n",
        "        param[\"bagging_temperature\"] = trial.suggest_float(\"bagging_temperature\", 0, 10)\n",
        "    elif param[\"bootstrap_type\"] == \"Bernoulli\":\n",
        "        param[\"subsample\"] = trial.suggest_float(\"subsample\", 0.1, 1, log=True)\n",
        "\n",
        "    gbm = cb.CatBoostClassifier(**param)\n",
        "\n",
        "    pruning_callback = CatBoostPruningCallback(trial, \"Accuracy\")\n",
        "    gbm.fit(\n",
        "        X_train,\n",
        "        y_train,\n",
        "        eval_set=[(X_valid, y_valid)],\n",
        "        verbose=0,\n",
        "        early_stopping_rounds=20,\n",
        "        callbacks=[pruning_callback],\n",
        "    )\n",
        "\n",
        "    # evoke pruning manually.\n",
        "    pruning_callback.check_pruned()\n",
        "\n",
        "    preds = gbm.predict(X_valid)\n",
        "    # pred_labels = np.rint(preds)\n",
        "    # accuracy = accuracy_score(y_valid, pred_labels)\n",
        "    # accuracy = accuracy_score(y_valid, preds)\n",
        "    f1_macro = f1_score(y_valid, preds, average='macro')\n",
        "\n",
        "    # return accuracy\n",
        "    return f1_macro"
      ],
      "metadata": {
        "id": "f1_gQxRH9HfG"
      },
      "execution_count": null,
      "outputs": []
    },
    {
      "cell_type": "code",
      "source": [
        "study = optuna.create_study(\n",
        "        pruner=optuna.pruners.MedianPruner(n_warmup_steps=5), direction=\"maximize\",\n",
        "    )\n",
        "study.optimize(objective, n_trials=100, timeout=600, n_jobs=-1)\n",
        "\n",
        "print(\"Number of finished trials: {}\".format(len(study.trials)))\n",
        "\n",
        "print(\"Best trial:\")\n",
        "trial = study.best_trial\n",
        "\n",
        "print(\"  Value: {}\".format(trial.value))\n",
        "\n",
        "print(\"  Params: \")\n",
        "for key, value in trial.params.items():\n",
        "    print(\"    {}: {}\".format(key, value))"
      ],
      "metadata": {
        "colab": {
          "base_uri": "https://localhost:8080/"
        },
        "collapsed": true,
        "id": "8C0z0G4y-7Nb",
        "outputId": "262cff60-53a1-4dc7-bba7-7ab24143f789"
      },
      "execution_count": null,
      "outputs": [
        {
          "output_type": "stream",
          "name": "stderr",
          "text": [
            "[I 2024-05-27 00:39:38,585] A new study created in memory with name: no-name-549e0cf4-56eb-4448-b442-01bad7eca2fe\n",
            "<ipython-input-50-4975fbfa3d8d>:27: ExperimentalWarning:\n",
            "\n",
            "CatBoostPruningCallback is experimental (supported from v3.0.0). The interface can change in the future.\n",
            "\n",
            "<ipython-input-50-4975fbfa3d8d>:27: ExperimentalWarning:\n",
            "\n",
            "CatBoostPruningCallback is experimental (supported from v3.0.0). The interface can change in the future.\n",
            "\n",
            "[I 2024-05-27 00:39:38,958] Trial 1 finished with value: 0.12962962962962962 and parameters: {'learning_rate': 0.03215577985250393, 'colsample_bylevel': 0.014852591870153345, 'depth': 12, 'boosting_type': 'Ordered', 'bootstrap_type': 'Bernoulli', 'subsample': 0.4114880133294928}. Best is trial 1 with value: 0.12962962962962962.\n",
            "<ipython-input-50-4975fbfa3d8d>:27: ExperimentalWarning:\n",
            "\n",
            "CatBoostPruningCallback is experimental (supported from v3.0.0). The interface can change in the future.\n",
            "\n",
            "[I 2024-05-27 00:39:39,008] Trial 0 finished with value: 0.25952185792349725 and parameters: {'learning_rate': 0.0015661614489300793, 'colsample_bylevel': 0.04249741619347061, 'depth': 12, 'boosting_type': 'Ordered', 'bootstrap_type': 'MVS'}. Best is trial 0 with value: 0.25952185792349725.\n",
            "<ipython-input-50-4975fbfa3d8d>:27: ExperimentalWarning:\n",
            "\n",
            "CatBoostPruningCallback is experimental (supported from v3.0.0). The interface can change in the future.\n",
            "\n",
            "[I 2024-05-27 00:39:39,197] Trial 3 finished with value: 0.12962962962962962 and parameters: {'learning_rate': 0.08830990255560436, 'colsample_bylevel': 0.010747967107241064, 'depth': 5, 'boosting_type': 'Plain', 'bootstrap_type': 'MVS'}. Best is trial 0 with value: 0.25952185792349725.\n",
            "<ipython-input-50-4975fbfa3d8d>:27: ExperimentalWarning:\n",
            "\n",
            "CatBoostPruningCallback is experimental (supported from v3.0.0). The interface can change in the future.\n",
            "\n",
            "[I 2024-05-27 00:39:39,572] Trial 2 finished with value: 0.2638757115749526 and parameters: {'learning_rate': 0.2731029400638132, 'colsample_bylevel': 0.011605922476263289, 'depth': 8, 'boosting_type': 'Ordered', 'bootstrap_type': 'Bayesian', 'bagging_temperature': 4.126717897879314}. Best is trial 2 with value: 0.2638757115749526.\n",
            "<ipython-input-50-4975fbfa3d8d>:27: ExperimentalWarning:\n",
            "\n",
            "CatBoostPruningCallback is experimental (supported from v3.0.0). The interface can change in the future.\n",
            "\n",
            "[I 2024-05-27 00:39:39,801] Trial 4 finished with value: 0.2505537098560354 and parameters: {'learning_rate': 0.016586811968124806, 'colsample_bylevel': 0.03636254866024448, 'depth': 7, 'boosting_type': 'Ordered', 'bootstrap_type': 'Bernoulli', 'subsample': 0.3212062132700015}. Best is trial 2 with value: 0.2638757115749526.\n",
            "<ipython-input-50-4975fbfa3d8d>:27: ExperimentalWarning:\n",
            "\n",
            "CatBoostPruningCallback is experimental (supported from v3.0.0). The interface can change in the future.\n",
            "\n",
            "[I 2024-05-27 00:39:40,032] Trial 5 finished with value: 0.27567729300402566 and parameters: {'learning_rate': 0.0018460601393901876, 'colsample_bylevel': 0.0494118368019424, 'depth': 2, 'boosting_type': 'Ordered', 'bootstrap_type': 'Bayesian', 'bagging_temperature': 7.26258036046125}. Best is trial 5 with value: 0.27567729300402566.\n",
            "<ipython-input-50-4975fbfa3d8d>:27: ExperimentalWarning:\n",
            "\n",
            "CatBoostPruningCallback is experimental (supported from v3.0.0). The interface can change in the future.\n",
            "\n",
            "[I 2024-05-27 00:39:40,368] Trial 6 finished with value: 0.4813886017819528 and parameters: {'learning_rate': 0.5469215296765928, 'colsample_bylevel': 0.09749968744411376, 'depth': 1, 'boosting_type': 'Plain', 'bootstrap_type': 'MVS'}. Best is trial 6 with value: 0.4813886017819528.\n",
            "<ipython-input-50-4975fbfa3d8d>:27: ExperimentalWarning:\n",
            "\n",
            "CatBoostPruningCallback is experimental (supported from v3.0.0). The interface can change in the future.\n",
            "\n",
            "[I 2024-05-27 00:39:40,461] Trial 7 finished with value: 0.2706227006404142 and parameters: {'learning_rate': 0.0013353501629150152, 'colsample_bylevel': 0.09204061679512332, 'depth': 1, 'boosting_type': 'Ordered', 'bootstrap_type': 'MVS'}. Best is trial 6 with value: 0.4813886017819528.\n",
            "<ipython-input-50-4975fbfa3d8d>:27: ExperimentalWarning:\n",
            "\n",
            "CatBoostPruningCallback is experimental (supported from v3.0.0). The interface can change in the future.\n",
            "\n",
            "[I 2024-05-27 00:39:40,618] Trial 9 pruned. Trial was pruned at iteration 5.\n",
            "<ipython-input-50-4975fbfa3d8d>:27: ExperimentalWarning:\n",
            "\n",
            "CatBoostPruningCallback is experimental (supported from v3.0.0). The interface can change in the future.\n",
            "\n",
            "[I 2024-05-27 00:39:40,740] Trial 8 finished with value: 0.3681600547195622 and parameters: {'learning_rate': 0.0076960621682770555, 'colsample_bylevel': 0.05623985525154784, 'depth': 7, 'boosting_type': 'Plain', 'bootstrap_type': 'Bernoulli', 'subsample': 0.11742253775105488}. Best is trial 6 with value: 0.4813886017819528.\n",
            "[I 2024-05-27 00:39:40,847] Trial 10 pruned. Trial was pruned at iteration 5.\n",
            "<ipython-input-50-4975fbfa3d8d>:27: ExperimentalWarning:\n",
            "\n",
            "CatBoostPruningCallback is experimental (supported from v3.0.0). The interface can change in the future.\n",
            "\n",
            "[I 2024-05-27 00:39:41,459] Trial 12 finished with value: 0.4486088119716378 and parameters: {'learning_rate': 0.4916660751135853, 'colsample_bylevel': 0.09914983267933637, 'depth': 4, 'boosting_type': 'Plain', 'bootstrap_type': 'Bernoulli', 'subsample': 0.10093674019664747}. Best is trial 6 with value: 0.4813886017819528.\n",
            "[I 2024-05-27 00:39:41,505] Trial 11 finished with value: 0.48662424337907306 and parameters: {'learning_rate': 0.5652249335607727, 'colsample_bylevel': 0.0923242977495461, 'depth': 4, 'boosting_type': 'Plain', 'bootstrap_type': 'MVS'}. Best is trial 11 with value: 0.48662424337907306.\n",
            "<ipython-input-50-4975fbfa3d8d>:27: ExperimentalWarning:\n",
            "\n",
            "CatBoostPruningCallback is experimental (supported from v3.0.0). The interface can change in the future.\n",
            "\n",
            "[I 2024-05-27 00:39:42,149] Trial 13 finished with value: 0.5108030829332644 and parameters: {'learning_rate': 0.8377231987502277, 'colsample_bylevel': 0.09852462069586339, 'depth': 3, 'boosting_type': 'Plain', 'bootstrap_type': 'MVS'}. Best is trial 13 with value: 0.5108030829332644.\n",
            "[I 2024-05-27 00:39:42,209] Trial 14 pruned. Trial was pruned at iteration 44.\n",
            "<ipython-input-50-4975fbfa3d8d>:27: ExperimentalWarning:\n",
            "\n",
            "CatBoostPruningCallback is experimental (supported from v3.0.0). The interface can change in the future.\n",
            "\n",
            "[I 2024-05-27 00:39:42,554] Trial 16 pruned. Trial was pruned at iteration 8.\n",
            "<ipython-input-50-4975fbfa3d8d>:27: ExperimentalWarning:\n",
            "\n",
            "CatBoostPruningCallback is experimental (supported from v3.0.0). The interface can change in the future.\n",
            "\n",
            "[I 2024-05-27 00:39:42,767] Trial 15 pruned. Trial was pruned at iteration 39.\n",
            "<ipython-input-50-4975fbfa3d8d>:27: ExperimentalWarning:\n",
            "\n",
            "CatBoostPruningCallback is experimental (supported from v3.0.0). The interface can change in the future.\n",
            "\n",
            "[I 2024-05-27 00:39:43,033] Trial 17 pruned. Trial was pruned at iteration 8.\n",
            "[I 2024-05-27 00:39:43,159] Trial 18 pruned. Trial was pruned at iteration 8.\n",
            "<ipython-input-50-4975fbfa3d8d>:27: ExperimentalWarning:\n",
            "\n",
            "CatBoostPruningCallback is experimental (supported from v3.0.0). The interface can change in the future.\n",
            "\n",
            "<ipython-input-50-4975fbfa3d8d>:27: ExperimentalWarning:\n",
            "\n",
            "CatBoostPruningCallback is experimental (supported from v3.0.0). The interface can change in the future.\n",
            "\n",
            "[I 2024-05-27 00:39:43,797] Trial 20 finished with value: 0.41765039227591466 and parameters: {'learning_rate': 0.28407411740877225, 'colsample_bylevel': 0.07588734646005908, 'depth': 5, 'boosting_type': 'Plain', 'bootstrap_type': 'MVS'}. Best is trial 13 with value: 0.5108030829332644.\n",
            "<ipython-input-50-4975fbfa3d8d>:27: ExperimentalWarning:\n",
            "\n",
            "CatBoostPruningCallback is experimental (supported from v3.0.0). The interface can change in the future.\n",
            "\n",
            "[I 2024-05-27 00:39:44,080] Trial 21 pruned. Trial was pruned at iteration 6.\n",
            "<ipython-input-50-4975fbfa3d8d>:27: ExperimentalWarning:\n",
            "\n",
            "CatBoostPruningCallback is experimental (supported from v3.0.0). The interface can change in the future.\n",
            "\n",
            "[I 2024-05-27 00:39:44,447] Trial 22 pruned. Trial was pruned at iteration 22.\n",
            "[I 2024-05-27 00:39:44,491] Trial 19 finished with value: 0.4849742977870584 and parameters: {'learning_rate': 0.8090281292059608, 'colsample_bylevel': 0.07800397615937135, 'depth': 9, 'boosting_type': 'Plain', 'bootstrap_type': 'MVS'}. Best is trial 13 with value: 0.5108030829332644.\n",
            "<ipython-input-50-4975fbfa3d8d>:27: ExperimentalWarning:\n",
            "\n",
            "CatBoostPruningCallback is experimental (supported from v3.0.0). The interface can change in the future.\n",
            "\n",
            "[I 2024-05-27 00:39:45,445] Trial 23 finished with value: 0.5085558285558285 and parameters: {'learning_rate': 0.5435288599442936, 'colsample_bylevel': 0.09516571053819745, 'depth': 2, 'boosting_type': 'Plain', 'bootstrap_type': 'MVS'}. Best is trial 13 with value: 0.5108030829332644.\n",
            "[I 2024-05-27 00:39:45,624] Trial 24 finished with value: 0.4732907851022906 and parameters: {'learning_rate': 0.5562473627509998, 'colsample_bylevel': 0.07860508534202003, 'depth': 10, 'boosting_type': 'Plain', 'bootstrap_type': 'MVS'}. Best is trial 13 with value: 0.5108030829332644.\n",
            "<ipython-input-50-4975fbfa3d8d>:27: ExperimentalWarning:\n",
            "\n",
            "CatBoostPruningCallback is experimental (supported from v3.0.0). The interface can change in the future.\n",
            "\n",
            "[I 2024-05-27 00:39:45,790] Trial 25 pruned. Trial was pruned at iteration 5.\n",
            "<ipython-input-50-4975fbfa3d8d>:27: ExperimentalWarning:\n",
            "\n",
            "CatBoostPruningCallback is experimental (supported from v3.0.0). The interface can change in the future.\n",
            "\n",
            "[I 2024-05-27 00:39:45,961] Trial 26 pruned. Trial was pruned at iteration 5.\n",
            "<ipython-input-50-4975fbfa3d8d>:27: ExperimentalWarning:\n",
            "\n",
            "CatBoostPruningCallback is experimental (supported from v3.0.0). The interface can change in the future.\n",
            "\n",
            "[I 2024-05-27 00:39:46,299] Trial 28 pruned. Trial was pruned at iteration 5.\n",
            "<ipython-input-50-4975fbfa3d8d>:27: ExperimentalWarning:\n",
            "\n",
            "CatBoostPruningCallback is experimental (supported from v3.0.0). The interface can change in the future.\n",
            "\n",
            "[I 2024-05-27 00:39:46,385] Trial 27 finished with value: 0.5028017982314855 and parameters: {'learning_rate': 0.3593426588346653, 'colsample_bylevel': 0.09884665275244094, 'depth': 4, 'boosting_type': 'Plain', 'bootstrap_type': 'MVS'}. Best is trial 13 with value: 0.5108030829332644.\n",
            "<ipython-input-50-4975fbfa3d8d>:27: ExperimentalWarning:\n",
            "\n",
            "CatBoostPruningCallback is experimental (supported from v3.0.0). The interface can change in the future.\n",
            "\n",
            "[I 2024-05-27 00:39:46,561] Trial 30 pruned. Trial was pruned at iteration 5.\n",
            "[I 2024-05-27 00:39:46,640] Trial 29 pruned. Trial was pruned at iteration 44.\n",
            "<ipython-input-50-4975fbfa3d8d>:27: ExperimentalWarning:\n",
            "\n",
            "CatBoostPruningCallback is experimental (supported from v3.0.0). The interface can change in the future.\n",
            "\n",
            "[I 2024-05-27 00:39:46,764] Trial 31 pruned. Trial was pruned at iteration 5.\n",
            "[I 2024-05-27 00:39:46,834] Trial 32 pruned. Trial was pruned at iteration 5.\n",
            "<ipython-input-50-4975fbfa3d8d>:27: ExperimentalWarning:\n",
            "\n",
            "CatBoostPruningCallback is experimental (supported from v3.0.0). The interface can change in the future.\n",
            "\n",
            "[I 2024-05-27 00:39:47,178] Trial 33 finished with value: 0.4752900555139361 and parameters: {'learning_rate': 0.6539425032328723, 'colsample_bylevel': 0.08528716680290456, 'depth': 3, 'boosting_type': 'Plain', 'bootstrap_type': 'MVS'}. Best is trial 13 with value: 0.5108030829332644.\n",
            "[I 2024-05-27 00:39:47,200] Trial 34 pruned. Trial was pruned at iteration 33.\n",
            "<ipython-input-50-4975fbfa3d8d>:27: ExperimentalWarning:\n",
            "\n",
            "CatBoostPruningCallback is experimental (supported from v3.0.0). The interface can change in the future.\n",
            "\n",
            "[I 2024-05-27 00:39:48,010] Trial 36 finished with value: 0.5114102561344865 and parameters: {'learning_rate': 0.4049175329260322, 'colsample_bylevel': 0.0689028294633342, 'depth': 4, 'boosting_type': 'Ordered', 'bootstrap_type': 'MVS'}. Best is trial 36 with value: 0.5114102561344865.\n",
            "[I 2024-05-27 00:39:48,182] Trial 35 finished with value: 0.5007110008468776 and parameters: {'learning_rate': 0.39434729161227405, 'colsample_bylevel': 0.06994073600237914, 'depth': 6, 'boosting_type': 'Ordered', 'bootstrap_type': 'MVS'}. Best is trial 36 with value: 0.5114102561344865.\n",
            "<ipython-input-50-4975fbfa3d8d>:27: ExperimentalWarning:\n",
            "\n",
            "CatBoostPruningCallback is experimental (supported from v3.0.0). The interface can change in the future.\n",
            "\n",
            "<ipython-input-50-4975fbfa3d8d>:27: ExperimentalWarning:\n",
            "\n",
            "CatBoostPruningCallback is experimental (supported from v3.0.0). The interface can change in the future.\n",
            "\n",
            "[I 2024-05-27 00:39:48,365] Trial 38 pruned. Trial was pruned at iteration 8.\n",
            "<ipython-input-50-4975fbfa3d8d>:27: ExperimentalWarning:\n",
            "\n",
            "CatBoostPruningCallback is experimental (supported from v3.0.0). The interface can change in the future.\n",
            "\n",
            "[I 2024-05-27 00:39:48,927] Trial 37 finished with value: 0.5031824546537993 and parameters: {'learning_rate': 0.37169897467596164, 'colsample_bylevel': 0.07010747696176821, 'depth': 6, 'boosting_type': 'Ordered', 'bootstrap_type': 'Bernoulli', 'subsample': 0.996693417892472}. Best is trial 36 with value: 0.5114102561344865.\n",
            "<ipython-input-50-4975fbfa3d8d>:27: ExperimentalWarning:\n",
            "\n",
            "CatBoostPruningCallback is experimental (supported from v3.0.0). The interface can change in the future.\n",
            "\n",
            "[I 2024-05-27 00:39:49,093] Trial 39 pruned. Trial was pruned at iteration 33.\n",
            "[I 2024-05-27 00:39:49,164] Trial 40 pruned. Trial was pruned at iteration 5.\n",
            "<ipython-input-50-4975fbfa3d8d>:27: ExperimentalWarning:\n",
            "\n",
            "CatBoostPruningCallback is experimental (supported from v3.0.0). The interface can change in the future.\n",
            "\n",
            "[I 2024-05-27 00:39:49,565] Trial 41 pruned. Trial was pruned at iteration 21.\n",
            "<ipython-input-50-4975fbfa3d8d>:27: ExperimentalWarning:\n",
            "\n",
            "CatBoostPruningCallback is experimental (supported from v3.0.0). The interface can change in the future.\n",
            "\n",
            "[I 2024-05-27 00:39:49,755] Trial 42 finished with value: 0.4822857819767722 and parameters: {'learning_rate': 0.44330976794542576, 'colsample_bylevel': 0.0768047841414775, 'depth': 5, 'boosting_type': 'Ordered', 'bootstrap_type': 'Bernoulli', 'subsample': 0.9878298166601099}. Best is trial 36 with value: 0.5114102561344865.\n",
            "<ipython-input-50-4975fbfa3d8d>:27: ExperimentalWarning:\n",
            "\n",
            "CatBoostPruningCallback is experimental (supported from v3.0.0). The interface can change in the future.\n",
            "\n",
            "[I 2024-05-27 00:39:50,600] Trial 44 pruned. Trial was pruned at iteration 21.\n",
            "<ipython-input-50-4975fbfa3d8d>:27: ExperimentalWarning:\n",
            "\n",
            "CatBoostPruningCallback is experimental (supported from v3.0.0). The interface can change in the future.\n",
            "\n",
            "[I 2024-05-27 00:39:50,723] Trial 43 pruned. Trial was pruned at iteration 45.\n",
            "<ipython-input-50-4975fbfa3d8d>:27: ExperimentalWarning:\n",
            "\n",
            "CatBoostPruningCallback is experimental (supported from v3.0.0). The interface can change in the future.\n",
            "\n",
            "[I 2024-05-27 00:39:50,823] Trial 45 pruned. Trial was pruned at iteration 5.\n",
            "<ipython-input-50-4975fbfa3d8d>:27: ExperimentalWarning:\n",
            "\n",
            "CatBoostPruningCallback is experimental (supported from v3.0.0). The interface can change in the future.\n",
            "\n",
            "[I 2024-05-27 00:39:50,918] Trial 46 pruned. Trial was pruned at iteration 5.\n",
            "<ipython-input-50-4975fbfa3d8d>:27: ExperimentalWarning:\n",
            "\n",
            "CatBoostPruningCallback is experimental (supported from v3.0.0). The interface can change in the future.\n",
            "\n",
            "[I 2024-05-27 00:39:51,040] Trial 47 pruned. Trial was pruned at iteration 5.\n",
            "<ipython-input-50-4975fbfa3d8d>:27: ExperimentalWarning:\n",
            "\n",
            "CatBoostPruningCallback is experimental (supported from v3.0.0). The interface can change in the future.\n",
            "\n",
            "[I 2024-05-27 00:39:51,208] Trial 48 pruned. Trial was pruned at iteration 11.\n",
            "[I 2024-05-27 00:39:51,291] Trial 49 pruned. Trial was pruned at iteration 6.\n",
            "<ipython-input-50-4975fbfa3d8d>:27: ExperimentalWarning:\n",
            "\n",
            "CatBoostPruningCallback is experimental (supported from v3.0.0). The interface can change in the future.\n",
            "\n",
            "[I 2024-05-27 00:39:51,518] Trial 51 pruned. Trial was pruned at iteration 5.\n",
            "[I 2024-05-27 00:39:51,524] Trial 50 pruned. Trial was pruned at iteration 9.\n",
            "<ipython-input-50-4975fbfa3d8d>:27: ExperimentalWarning:\n",
            "\n",
            "CatBoostPruningCallback is experimental (supported from v3.0.0). The interface can change in the future.\n",
            "\n",
            "[I 2024-05-27 00:39:51,844] Trial 53 pruned. Trial was pruned at iteration 8.\n",
            "<ipython-input-50-4975fbfa3d8d>:27: ExperimentalWarning:\n",
            "\n",
            "CatBoostPruningCallback is experimental (supported from v3.0.0). The interface can change in the future.\n",
            "\n",
            "[I 2024-05-27 00:39:52,232] Trial 52 finished with value: 0.49405337848734077 and parameters: {'learning_rate': 0.6800360490241352, 'colsample_bylevel': 0.07045339021741909, 'depth': 7, 'boosting_type': 'Ordered', 'bootstrap_type': 'MVS'}. Best is trial 36 with value: 0.5114102561344865.\n",
            "<ipython-input-50-4975fbfa3d8d>:27: ExperimentalWarning:\n",
            "\n",
            "CatBoostPruningCallback is experimental (supported from v3.0.0). The interface can change in the future.\n",
            "\n",
            "[I 2024-05-27 00:39:52,906] Trial 54 finished with value: 0.4918326224595211 and parameters: {'learning_rate': 0.34208987572432603, 'colsample_bylevel': 0.07012800690470494, 'depth': 6, 'boosting_type': 'Ordered', 'bootstrap_type': 'MVS'}. Best is trial 36 with value: 0.5114102561344865.\n",
            "<ipython-input-50-4975fbfa3d8d>:27: ExperimentalWarning:\n",
            "\n",
            "CatBoostPruningCallback is experimental (supported from v3.0.0). The interface can change in the future.\n",
            "\n",
            "[I 2024-05-27 00:39:53,169] Trial 55 finished with value: 0.4951690878901748 and parameters: {'learning_rate': 0.3353394359663631, 'colsample_bylevel': 0.09303037830681876, 'depth': 6, 'boosting_type': 'Ordered', 'bootstrap_type': 'MVS'}. Best is trial 36 with value: 0.5114102561344865.\n",
            "[I 2024-05-27 00:39:53,197] Trial 56 pruned. Trial was pruned at iteration 5.\n",
            "<ipython-input-50-4975fbfa3d8d>:27: ExperimentalWarning:\n",
            "\n",
            "CatBoostPruningCallback is experimental (supported from v3.0.0). The interface can change in the future.\n",
            "\n",
            "[I 2024-05-27 00:39:53,364] Trial 58 pruned. Trial was pruned at iteration 5.\n",
            "[I 2024-05-27 00:39:53,418] Trial 57 pruned. Trial was pruned at iteration 5.\n",
            "<ipython-input-50-4975fbfa3d8d>:27: ExperimentalWarning:\n",
            "\n",
            "CatBoostPruningCallback is experimental (supported from v3.0.0). The interface can change in the future.\n",
            "\n",
            "[I 2024-05-27 00:39:53,563] Trial 59 pruned. Trial was pruned at iteration 8.\n",
            "[I 2024-05-27 00:39:53,590] Trial 60 pruned. Trial was pruned at iteration 6.\n",
            "<ipython-input-50-4975fbfa3d8d>:27: ExperimentalWarning:\n",
            "\n",
            "CatBoostPruningCallback is experimental (supported from v3.0.0). The interface can change in the future.\n",
            "\n",
            "[I 2024-05-27 00:39:53,732] Trial 61 pruned. Trial was pruned at iteration 5.\n",
            "<ipython-input-50-4975fbfa3d8d>:27: ExperimentalWarning:\n",
            "\n",
            "CatBoostPruningCallback is experimental (supported from v3.0.0). The interface can change in the future.\n",
            "\n",
            "[I 2024-05-27 00:39:54,224] Trial 62 finished with value: 0.4512263114435262 and parameters: {'learning_rate': 0.35723601298674573, 'colsample_bylevel': 0.09379364086625479, 'depth': 6, 'boosting_type': 'Ordered', 'bootstrap_type': 'MVS'}. Best is trial 36 with value: 0.5114102561344865.\n",
            "<ipython-input-50-4975fbfa3d8d>:27: ExperimentalWarning:\n",
            "\n",
            "CatBoostPruningCallback is experimental (supported from v3.0.0). The interface can change in the future.\n",
            "\n",
            "[I 2024-05-27 00:39:54,641] Trial 63 finished with value: 0.47872918508694373 and parameters: {'learning_rate': 0.34356830541447847, 'colsample_bylevel': 0.09254874430543147, 'depth': 6, 'boosting_type': 'Ordered', 'bootstrap_type': 'MVS'}. Best is trial 36 with value: 0.5114102561344865.\n",
            "<ipython-input-50-4975fbfa3d8d>:27: ExperimentalWarning:\n",
            "\n",
            "CatBoostPruningCallback is experimental (supported from v3.0.0). The interface can change in the future.\n",
            "\n",
            "[I 2024-05-27 00:39:55,203] Trial 65 finished with value: 0.4959165631164916 and parameters: {'learning_rate': 0.6097649947846142, 'colsample_bylevel': 0.0734472539250338, 'depth': 5, 'boosting_type': 'Ordered', 'bootstrap_type': 'MVS'}. Best is trial 36 with value: 0.5114102561344865.\n",
            "[I 2024-05-27 00:39:55,229] Trial 64 finished with value: 0.4894345907977265 and parameters: {'learning_rate': 0.17798082547698038, 'colsample_bylevel': 0.09272849035412961, 'depth': 7, 'boosting_type': 'Ordered', 'bootstrap_type': 'MVS'}. Best is trial 36 with value: 0.5114102561344865.\n",
            "<ipython-input-50-4975fbfa3d8d>:27: ExperimentalWarning:\n",
            "\n",
            "CatBoostPruningCallback is experimental (supported from v3.0.0). The interface can change in the future.\n",
            "\n",
            "[I 2024-05-27 00:39:55,479] Trial 66 pruned. Trial was pruned at iteration 6.\n",
            "<ipython-input-50-4975fbfa3d8d>:27: ExperimentalWarning:\n",
            "\n",
            "CatBoostPruningCallback is experimental (supported from v3.0.0). The interface can change in the future.\n",
            "\n",
            "[I 2024-05-27 00:39:55,642] Trial 68 pruned. Trial was pruned at iteration 5.\n",
            "[I 2024-05-27 00:39:55,710] Trial 67 finished with value: 0.5013547698176128 and parameters: {'learning_rate': 0.7111445469118503, 'colsample_bylevel': 0.061535830492558466, 'depth': 5, 'boosting_type': 'Ordered', 'bootstrap_type': 'MVS'}. Best is trial 36 with value: 0.5114102561344865.\n",
            "<ipython-input-50-4975fbfa3d8d>:27: ExperimentalWarning:\n",
            "\n",
            "CatBoostPruningCallback is experimental (supported from v3.0.0). The interface can change in the future.\n",
            "\n",
            "[I 2024-05-27 00:39:55,903] Trial 70 pruned. Trial was pruned at iteration 5.\n",
            "[I 2024-05-27 00:39:55,940] Trial 69 pruned. Trial was pruned at iteration 9.\n",
            "<ipython-input-50-4975fbfa3d8d>:27: ExperimentalWarning:\n",
            "\n",
            "CatBoostPruningCallback is experimental (supported from v3.0.0). The interface can change in the future.\n",
            "\n",
            "[I 2024-05-27 00:39:56,138] Trial 71 pruned. Trial was pruned at iteration 6.\n",
            "<ipython-input-50-4975fbfa3d8d>:27: ExperimentalWarning:\n",
            "\n",
            "CatBoostPruningCallback is experimental (supported from v3.0.0). The interface can change in the future.\n",
            "\n",
            "[I 2024-05-27 00:39:56,423] Trial 72 pruned. Trial was pruned at iteration 33.\n",
            "<ipython-input-50-4975fbfa3d8d>:27: ExperimentalWarning:\n",
            "\n",
            "CatBoostPruningCallback is experimental (supported from v3.0.0). The interface can change in the future.\n",
            "\n",
            "[I 2024-05-27 00:39:56,708] Trial 74 pruned. Trial was pruned at iteration 11.\n",
            "[I 2024-05-27 00:39:56,727] Trial 73 finished with value: 0.4783507008312425 and parameters: {'learning_rate': 0.6639651712005676, 'colsample_bylevel': 0.058579653934935125, 'depth': 4, 'boosting_type': 'Ordered', 'bootstrap_type': 'MVS'}. Best is trial 36 with value: 0.5114102561344865.\n",
            "<ipython-input-50-4975fbfa3d8d>:27: ExperimentalWarning:\n",
            "\n",
            "CatBoostPruningCallback is experimental (supported from v3.0.0). The interface can change in the future.\n",
            "\n",
            "[I 2024-05-27 00:39:56,872] Trial 75 pruned. Trial was pruned at iteration 5.\n",
            "<ipython-input-50-4975fbfa3d8d>:27: ExperimentalWarning:\n",
            "\n",
            "CatBoostPruningCallback is experimental (supported from v3.0.0). The interface can change in the future.\n",
            "\n",
            "[I 2024-05-27 00:39:56,951] Trial 76 pruned. Trial was pruned at iteration 5.\n",
            "<ipython-input-50-4975fbfa3d8d>:27: ExperimentalWarning:\n",
            "\n",
            "CatBoostPruningCallback is experimental (supported from v3.0.0). The interface can change in the future.\n",
            "\n",
            "[I 2024-05-27 00:39:57,165] Trial 77 pruned. Trial was pruned at iteration 10.\n",
            "<ipython-input-50-4975fbfa3d8d>:27: ExperimentalWarning:\n",
            "\n",
            "CatBoostPruningCallback is experimental (supported from v3.0.0). The interface can change in the future.\n",
            "\n",
            "[I 2024-05-27 00:39:57,781] Trial 78 finished with value: 0.5144574419815232 and parameters: {'learning_rate': 0.5740110283756216, 'colsample_bylevel': 0.07233891150849797, 'depth': 6, 'boosting_type': 'Ordered', 'bootstrap_type': 'Bayesian', 'bagging_temperature': 1.9072492513603367}. Best is trial 78 with value: 0.5144574419815232.\n",
            "[I 2024-05-27 00:39:57,839] Trial 79 pruned. Trial was pruned at iteration 29.\n",
            "<ipython-input-50-4975fbfa3d8d>:27: ExperimentalWarning:\n",
            "\n",
            "CatBoostPruningCallback is experimental (supported from v3.0.0). The interface can change in the future.\n",
            "\n",
            "[I 2024-05-27 00:39:58,021] Trial 81 pruned. Trial was pruned at iteration 5.\n",
            "[I 2024-05-27 00:39:58,022] Trial 80 pruned. Trial was pruned at iteration 5.\n",
            "<ipython-input-50-4975fbfa3d8d>:27: ExperimentalWarning:\n",
            "\n",
            "CatBoostPruningCallback is experimental (supported from v3.0.0). The interface can change in the future.\n",
            "\n",
            "[I 2024-05-27 00:39:58,648] Trial 83 pruned. Trial was pruned at iteration 22.\n",
            "<ipython-input-50-4975fbfa3d8d>:27: ExperimentalWarning:\n",
            "\n",
            "CatBoostPruningCallback is experimental (supported from v3.0.0). The interface can change in the future.\n",
            "\n",
            "[I 2024-05-27 00:39:58,883] Trial 82 finished with value: 0.5059826271208384 and parameters: {'learning_rate': 0.8130634187947684, 'colsample_bylevel': 0.06620162734214623, 'depth': 6, 'boosting_type': 'Ordered', 'bootstrap_type': 'Bayesian', 'bagging_temperature': 6.062045700825557}. Best is trial 78 with value: 0.5144574419815232.\n",
            "<ipython-input-50-4975fbfa3d8d>:27: ExperimentalWarning:\n",
            "\n",
            "CatBoostPruningCallback is experimental (supported from v3.0.0). The interface can change in the future.\n",
            "\n",
            "[I 2024-05-27 00:40:00,001] Trial 84 finished with value: 0.5136003061830808 and parameters: {'learning_rate': 0.5860596486452769, 'colsample_bylevel': 0.06466251330262794, 'depth': 5, 'boosting_type': 'Ordered', 'bootstrap_type': 'Bayesian', 'bagging_temperature': 4.890782011101934}. Best is trial 78 with value: 0.5144574419815232.\n",
            "<ipython-input-50-4975fbfa3d8d>:27: ExperimentalWarning:\n",
            "\n",
            "CatBoostPruningCallback is experimental (supported from v3.0.0). The interface can change in the future.\n",
            "\n",
            "[I 2024-05-27 00:40:00,208] Trial 85 finished with value: 0.5106657911464147 and parameters: {'learning_rate': 0.39246258605436013, 'colsample_bylevel': 0.06580319381420785, 'depth': 6, 'boosting_type': 'Ordered', 'bootstrap_type': 'Bayesian', 'bagging_temperature': 5.354101674887055}. Best is trial 78 with value: 0.5144574419815232.\n",
            "<ipython-input-50-4975fbfa3d8d>:27: ExperimentalWarning:\n",
            "\n",
            "CatBoostPruningCallback is experimental (supported from v3.0.0). The interface can change in the future.\n",
            "\n",
            "[I 2024-05-27 00:40:00,355] Trial 86 pruned. Trial was pruned at iteration 11.\n",
            "<ipython-input-50-4975fbfa3d8d>:27: ExperimentalWarning:\n",
            "\n",
            "CatBoostPruningCallback is experimental (supported from v3.0.0). The interface can change in the future.\n",
            "\n",
            "[I 2024-05-27 00:40:00,574] Trial 87 pruned. Trial was pruned at iteration 6.\n",
            "[I 2024-05-27 00:40:00,671] Trial 88 pruned. Trial was pruned at iteration 5.\n",
            "<ipython-input-50-4975fbfa3d8d>:27: ExperimentalWarning:\n",
            "\n",
            "CatBoostPruningCallback is experimental (supported from v3.0.0). The interface can change in the future.\n",
            "\n",
            "[I 2024-05-27 00:40:00,826] Trial 89 pruned. Trial was pruned at iteration 5.\n",
            "[I 2024-05-27 00:40:00,867] Trial 90 pruned. Trial was pruned at iteration 5.\n",
            "<ipython-input-50-4975fbfa3d8d>:27: ExperimentalWarning:\n",
            "\n",
            "CatBoostPruningCallback is experimental (supported from v3.0.0). The interface can change in the future.\n",
            "\n",
            "[I 2024-05-27 00:40:01,039] Trial 91 pruned. Trial was pruned at iteration 5.\n",
            "<ipython-input-50-4975fbfa3d8d>:27: ExperimentalWarning:\n",
            "\n",
            "CatBoostPruningCallback is experimental (supported from v3.0.0). The interface can change in the future.\n",
            "\n",
            "[I 2024-05-27 00:40:01,168] Trial 92 pruned. Trial was pruned at iteration 9.\n",
            "[I 2024-05-27 00:40:01,201] Trial 93 pruned. Trial was pruned at iteration 5.\n",
            "<ipython-input-50-4975fbfa3d8d>:27: ExperimentalWarning:\n",
            "\n",
            "CatBoostPruningCallback is experimental (supported from v3.0.0). The interface can change in the future.\n",
            "\n",
            "[I 2024-05-27 00:40:01,464] Trial 95 pruned. Trial was pruned at iteration 11.\n",
            "<ipython-input-50-4975fbfa3d8d>:27: ExperimentalWarning:\n",
            "\n",
            "CatBoostPruningCallback is experimental (supported from v3.0.0). The interface can change in the future.\n",
            "\n",
            "[I 2024-05-27 00:40:01,674] Trial 96 pruned. Trial was pruned at iteration 10.\n",
            "[I 2024-05-27 00:40:01,714] Trial 94 finished with value: 0.48670336180198803 and parameters: {'learning_rate': 0.7630545024927577, 'colsample_bylevel': 0.06650279652597386, 'depth': 4, 'boosting_type': 'Ordered', 'bootstrap_type': 'Bayesian', 'bagging_temperature': 6.004448907983157}. Best is trial 78 with value: 0.5144574419815232.\n",
            "<ipython-input-50-4975fbfa3d8d>:27: ExperimentalWarning:\n",
            "\n",
            "CatBoostPruningCallback is experimental (supported from v3.0.0). The interface can change in the future.\n",
            "\n",
            "[I 2024-05-27 00:40:02,313] Trial 97 finished with value: 0.47323701410388713 and parameters: {'learning_rate': 0.6158879368658701, 'colsample_bylevel': 0.08921700442776438, 'depth': 6, 'boosting_type': 'Ordered', 'bootstrap_type': 'Bernoulli', 'subsample': 0.7098313198598162}. Best is trial 78 with value: 0.5144574419815232.\n",
            "<ipython-input-50-4975fbfa3d8d>:27: ExperimentalWarning:\n",
            "\n",
            "CatBoostPruningCallback is experimental (supported from v3.0.0). The interface can change in the future.\n",
            "\n",
            "[I 2024-05-27 00:40:02,555] Trial 99 pruned. Trial was pruned at iteration 12.\n",
            "[I 2024-05-27 00:40:04,114] Trial 98 pruned. Trial was pruned at iteration 21.\n"
          ]
        },
        {
          "output_type": "stream",
          "name": "stdout",
          "text": [
            "Number of finished trials: 100\n",
            "Best trial:\n",
            "  Value: 0.5144574419815232\n",
            "  Params: \n",
            "    learning_rate: 0.5740110283756216\n",
            "    colsample_bylevel: 0.07233891150849797\n",
            "    depth: 6\n",
            "    boosting_type: Ordered\n",
            "    bootstrap_type: Bayesian\n",
            "    bagging_temperature: 1.9072492513603367\n"
          ]
        }
      ]
    },
    {
      "cell_type": "code",
      "source": [
        "# 探索履歴のプロット\n",
        "opt_history = vis.plot_optimization_history(study)\n",
        "opt_history.show()\n",
        "\n",
        "# ハイパーパラメータの重要度のプロット\n",
        "param_importances = vis.plot_param_importances(study)\n",
        "param_importances.show()"
      ],
      "metadata": {
        "colab": {
          "base_uri": "https://localhost:8080/",
          "height": 1000
        },
        "outputId": "87f0646e-8a0e-43be-f69c-80dcf4d054e4",
        "collapsed": true,
        "id": "mi6V71Qre3bp"
      },
      "execution_count": null,
      "outputs": [
        {
          "output_type": "display_data",
          "data": {
            "text/html": [
              "<html>\n",
              "<head><meta charset=\"utf-8\" /></head>\n",
              "<body>\n",
              "    <div>            <script src=\"https://cdnjs.cloudflare.com/ajax/libs/mathjax/2.7.5/MathJax.js?config=TeX-AMS-MML_SVG\"></script><script type=\"text/javascript\">if (window.MathJax && window.MathJax.Hub && window.MathJax.Hub.Config) {window.MathJax.Hub.Config({SVG: {font: \"STIX-Web\"}});}</script>                <script type=\"text/javascript\">window.PlotlyConfig = {MathJaxConfig: 'local'};</script>\n",
              "        <script charset=\"utf-8\" src=\"https://cdn.plot.ly/plotly-2.24.1.min.js\"></script>                <div id=\"f07324ef-f1be-453d-ba1f-40d724fe2291\" class=\"plotly-graph-div\" style=\"height:525px; width:100%;\"></div>            <script type=\"text/javascript\">                                    window.PLOTLYENV=window.PLOTLYENV || {};                                    if (document.getElementById(\"f07324ef-f1be-453d-ba1f-40d724fe2291\")) {                    Plotly.newPlot(                        \"f07324ef-f1be-453d-ba1f-40d724fe2291\",                        [{\"mode\":\"markers\",\"name\":\"Objective Value\",\"x\":[0,1,2,3,4,5,6,7,8,11,12,13,19,20,23,24,27,33,35,36,37,42,52,54,55,62,63,64,65,67,73,78,82,84,85,94,97],\"y\":[0.25952185792349725,0.12962962962962962,0.2638757115749526,0.12962962962962962,0.2505537098560354,0.27567729300402566,0.4813886017819528,0.2706227006404142,0.3681600547195622,0.48662424337907306,0.4486088119716378,0.5108030829332644,0.4849742977870584,0.41765039227591466,0.5085558285558285,0.4732907851022906,0.5028017982314855,0.4752900555139361,0.5007110008468776,0.5114102561344865,0.5031824546537993,0.4822857819767722,0.49405337848734077,0.4918326224595211,0.4951690878901748,0.4512263114435262,0.47872918508694373,0.4894345907977265,0.4959165631164916,0.5013547698176128,0.4783507008312425,0.5144574419815232,0.5059826271208384,0.5136003061830808,0.5106657911464147,0.48670336180198803,0.47323701410388713],\"type\":\"scatter\"},{\"mode\":\"lines\",\"name\":\"Best Value\",\"x\":[0,1,2,3,4,5,6,7,8,9,10,11,12,13,14,15,16,17,18,19,20,21,22,23,24,25,26,27,28,29,30,31,32,33,34,35,36,37,38,39,40,41,42,43,44,45,46,47,48,49,50,51,52,53,54,55,56,57,58,59,60,61,62,63,64,65,66,67,68,69,70,71,72,73,74,75,76,77,78,79,80,81,82,83,84,85,86,87,88,89,90,91,92,93,94,95,96,97,98,99],\"y\":[0.25952185792349725,0.25952185792349725,0.2638757115749526,0.2638757115749526,0.2638757115749526,0.27567729300402566,0.4813886017819528,0.4813886017819528,0.4813886017819528,0.4813886017819528,0.4813886017819528,0.48662424337907306,0.48662424337907306,0.5108030829332644,0.5108030829332644,0.5108030829332644,0.5108030829332644,0.5108030829332644,0.5108030829332644,0.5108030829332644,0.5108030829332644,0.5108030829332644,0.5108030829332644,0.5108030829332644,0.5108030829332644,0.5108030829332644,0.5108030829332644,0.5108030829332644,0.5108030829332644,0.5108030829332644,0.5108030829332644,0.5108030829332644,0.5108030829332644,0.5108030829332644,0.5108030829332644,0.5108030829332644,0.5114102561344865,0.5114102561344865,0.5114102561344865,0.5114102561344865,0.5114102561344865,0.5114102561344865,0.5114102561344865,0.5114102561344865,0.5114102561344865,0.5114102561344865,0.5114102561344865,0.5114102561344865,0.5114102561344865,0.5114102561344865,0.5114102561344865,0.5114102561344865,0.5114102561344865,0.5114102561344865,0.5114102561344865,0.5114102561344865,0.5114102561344865,0.5114102561344865,0.5114102561344865,0.5114102561344865,0.5114102561344865,0.5114102561344865,0.5114102561344865,0.5114102561344865,0.5114102561344865,0.5114102561344865,0.5114102561344865,0.5114102561344865,0.5114102561344865,0.5114102561344865,0.5114102561344865,0.5114102561344865,0.5114102561344865,0.5114102561344865,0.5114102561344865,0.5114102561344865,0.5114102561344865,0.5114102561344865,0.5144574419815232,0.5144574419815232,0.5144574419815232,0.5144574419815232,0.5144574419815232,0.5144574419815232,0.5144574419815232,0.5144574419815232,0.5144574419815232,0.5144574419815232,0.5144574419815232,0.5144574419815232,0.5144574419815232,0.5144574419815232,0.5144574419815232,0.5144574419815232,0.5144574419815232,0.5144574419815232,0.5144574419815232,0.5144574419815232,0.5144574419815232,0.5144574419815232],\"type\":\"scatter\"},{\"marker\":{\"color\":\"#cccccc\"},\"mode\":\"markers\",\"name\":\"Infeasible Trial\",\"showlegend\":false,\"x\":[],\"y\":[],\"type\":\"scatter\"}],                        {\"title\":{\"text\":\"Optimization History Plot\"},\"xaxis\":{\"title\":{\"text\":\"Trial\"}},\"yaxis\":{\"title\":{\"text\":\"Objective Value\"}},\"template\":{\"data\":{\"histogram2dcontour\":[{\"type\":\"histogram2dcontour\",\"colorbar\":{\"outlinewidth\":0,\"ticks\":\"\"},\"colorscale\":[[0.0,\"#0d0887\"],[0.1111111111111111,\"#46039f\"],[0.2222222222222222,\"#7201a8\"],[0.3333333333333333,\"#9c179e\"],[0.4444444444444444,\"#bd3786\"],[0.5555555555555556,\"#d8576b\"],[0.6666666666666666,\"#ed7953\"],[0.7777777777777778,\"#fb9f3a\"],[0.8888888888888888,\"#fdca26\"],[1.0,\"#f0f921\"]]}],\"choropleth\":[{\"type\":\"choropleth\",\"colorbar\":{\"outlinewidth\":0,\"ticks\":\"\"}}],\"histogram2d\":[{\"type\":\"histogram2d\",\"colorbar\":{\"outlinewidth\":0,\"ticks\":\"\"},\"colorscale\":[[0.0,\"#0d0887\"],[0.1111111111111111,\"#46039f\"],[0.2222222222222222,\"#7201a8\"],[0.3333333333333333,\"#9c179e\"],[0.4444444444444444,\"#bd3786\"],[0.5555555555555556,\"#d8576b\"],[0.6666666666666666,\"#ed7953\"],[0.7777777777777778,\"#fb9f3a\"],[0.8888888888888888,\"#fdca26\"],[1.0,\"#f0f921\"]]}],\"heatmap\":[{\"type\":\"heatmap\",\"colorbar\":{\"outlinewidth\":0,\"ticks\":\"\"},\"colorscale\":[[0.0,\"#0d0887\"],[0.1111111111111111,\"#46039f\"],[0.2222222222222222,\"#7201a8\"],[0.3333333333333333,\"#9c179e\"],[0.4444444444444444,\"#bd3786\"],[0.5555555555555556,\"#d8576b\"],[0.6666666666666666,\"#ed7953\"],[0.7777777777777778,\"#fb9f3a\"],[0.8888888888888888,\"#fdca26\"],[1.0,\"#f0f921\"]]}],\"heatmapgl\":[{\"type\":\"heatmapgl\",\"colorbar\":{\"outlinewidth\":0,\"ticks\":\"\"},\"colorscale\":[[0.0,\"#0d0887\"],[0.1111111111111111,\"#46039f\"],[0.2222222222222222,\"#7201a8\"],[0.3333333333333333,\"#9c179e\"],[0.4444444444444444,\"#bd3786\"],[0.5555555555555556,\"#d8576b\"],[0.6666666666666666,\"#ed7953\"],[0.7777777777777778,\"#fb9f3a\"],[0.8888888888888888,\"#fdca26\"],[1.0,\"#f0f921\"]]}],\"contourcarpet\":[{\"type\":\"contourcarpet\",\"colorbar\":{\"outlinewidth\":0,\"ticks\":\"\"}}],\"contour\":[{\"type\":\"contour\",\"colorbar\":{\"outlinewidth\":0,\"ticks\":\"\"},\"colorscale\":[[0.0,\"#0d0887\"],[0.1111111111111111,\"#46039f\"],[0.2222222222222222,\"#7201a8\"],[0.3333333333333333,\"#9c179e\"],[0.4444444444444444,\"#bd3786\"],[0.5555555555555556,\"#d8576b\"],[0.6666666666666666,\"#ed7953\"],[0.7777777777777778,\"#fb9f3a\"],[0.8888888888888888,\"#fdca26\"],[1.0,\"#f0f921\"]]}],\"surface\":[{\"type\":\"surface\",\"colorbar\":{\"outlinewidth\":0,\"ticks\":\"\"},\"colorscale\":[[0.0,\"#0d0887\"],[0.1111111111111111,\"#46039f\"],[0.2222222222222222,\"#7201a8\"],[0.3333333333333333,\"#9c179e\"],[0.4444444444444444,\"#bd3786\"],[0.5555555555555556,\"#d8576b\"],[0.6666666666666666,\"#ed7953\"],[0.7777777777777778,\"#fb9f3a\"],[0.8888888888888888,\"#fdca26\"],[1.0,\"#f0f921\"]]}],\"mesh3d\":[{\"type\":\"mesh3d\",\"colorbar\":{\"outlinewidth\":0,\"ticks\":\"\"}}],\"scatter\":[{\"fillpattern\":{\"fillmode\":\"overlay\",\"size\":10,\"solidity\":0.2},\"type\":\"scatter\"}],\"parcoords\":[{\"type\":\"parcoords\",\"line\":{\"colorbar\":{\"outlinewidth\":0,\"ticks\":\"\"}}}],\"scatterpolargl\":[{\"type\":\"scatterpolargl\",\"marker\":{\"colorbar\":{\"outlinewidth\":0,\"ticks\":\"\"}}}],\"bar\":[{\"error_x\":{\"color\":\"#2a3f5f\"},\"error_y\":{\"color\":\"#2a3f5f\"},\"marker\":{\"line\":{\"color\":\"#E5ECF6\",\"width\":0.5},\"pattern\":{\"fillmode\":\"overlay\",\"size\":10,\"solidity\":0.2}},\"type\":\"bar\"}],\"scattergeo\":[{\"type\":\"scattergeo\",\"marker\":{\"colorbar\":{\"outlinewidth\":0,\"ticks\":\"\"}}}],\"scatterpolar\":[{\"type\":\"scatterpolar\",\"marker\":{\"colorbar\":{\"outlinewidth\":0,\"ticks\":\"\"}}}],\"histogram\":[{\"marker\":{\"pattern\":{\"fillmode\":\"overlay\",\"size\":10,\"solidity\":0.2}},\"type\":\"histogram\"}],\"scattergl\":[{\"type\":\"scattergl\",\"marker\":{\"colorbar\":{\"outlinewidth\":0,\"ticks\":\"\"}}}],\"scatter3d\":[{\"type\":\"scatter3d\",\"line\":{\"colorbar\":{\"outlinewidth\":0,\"ticks\":\"\"}},\"marker\":{\"colorbar\":{\"outlinewidth\":0,\"ticks\":\"\"}}}],\"scattermapbox\":[{\"type\":\"scattermapbox\",\"marker\":{\"colorbar\":{\"outlinewidth\":0,\"ticks\":\"\"}}}],\"scatterternary\":[{\"type\":\"scatterternary\",\"marker\":{\"colorbar\":{\"outlinewidth\":0,\"ticks\":\"\"}}}],\"scattercarpet\":[{\"type\":\"scattercarpet\",\"marker\":{\"colorbar\":{\"outlinewidth\":0,\"ticks\":\"\"}}}],\"carpet\":[{\"aaxis\":{\"endlinecolor\":\"#2a3f5f\",\"gridcolor\":\"white\",\"linecolor\":\"white\",\"minorgridcolor\":\"white\",\"startlinecolor\":\"#2a3f5f\"},\"baxis\":{\"endlinecolor\":\"#2a3f5f\",\"gridcolor\":\"white\",\"linecolor\":\"white\",\"minorgridcolor\":\"white\",\"startlinecolor\":\"#2a3f5f\"},\"type\":\"carpet\"}],\"table\":[{\"cells\":{\"fill\":{\"color\":\"#EBF0F8\"},\"line\":{\"color\":\"white\"}},\"header\":{\"fill\":{\"color\":\"#C8D4E3\"},\"line\":{\"color\":\"white\"}},\"type\":\"table\"}],\"barpolar\":[{\"marker\":{\"line\":{\"color\":\"#E5ECF6\",\"width\":0.5},\"pattern\":{\"fillmode\":\"overlay\",\"size\":10,\"solidity\":0.2}},\"type\":\"barpolar\"}],\"pie\":[{\"automargin\":true,\"type\":\"pie\"}]},\"layout\":{\"autotypenumbers\":\"strict\",\"colorway\":[\"#636efa\",\"#EF553B\",\"#00cc96\",\"#ab63fa\",\"#FFA15A\",\"#19d3f3\",\"#FF6692\",\"#B6E880\",\"#FF97FF\",\"#FECB52\"],\"font\":{\"color\":\"#2a3f5f\"},\"hovermode\":\"closest\",\"hoverlabel\":{\"align\":\"left\"},\"paper_bgcolor\":\"white\",\"plot_bgcolor\":\"#E5ECF6\",\"polar\":{\"bgcolor\":\"#E5ECF6\",\"angularaxis\":{\"gridcolor\":\"white\",\"linecolor\":\"white\",\"ticks\":\"\"},\"radialaxis\":{\"gridcolor\":\"white\",\"linecolor\":\"white\",\"ticks\":\"\"}},\"ternary\":{\"bgcolor\":\"#E5ECF6\",\"aaxis\":{\"gridcolor\":\"white\",\"linecolor\":\"white\",\"ticks\":\"\"},\"baxis\":{\"gridcolor\":\"white\",\"linecolor\":\"white\",\"ticks\":\"\"},\"caxis\":{\"gridcolor\":\"white\",\"linecolor\":\"white\",\"ticks\":\"\"}},\"coloraxis\":{\"colorbar\":{\"outlinewidth\":0,\"ticks\":\"\"}},\"colorscale\":{\"sequential\":[[0.0,\"#0d0887\"],[0.1111111111111111,\"#46039f\"],[0.2222222222222222,\"#7201a8\"],[0.3333333333333333,\"#9c179e\"],[0.4444444444444444,\"#bd3786\"],[0.5555555555555556,\"#d8576b\"],[0.6666666666666666,\"#ed7953\"],[0.7777777777777778,\"#fb9f3a\"],[0.8888888888888888,\"#fdca26\"],[1.0,\"#f0f921\"]],\"sequentialminus\":[[0.0,\"#0d0887\"],[0.1111111111111111,\"#46039f\"],[0.2222222222222222,\"#7201a8\"],[0.3333333333333333,\"#9c179e\"],[0.4444444444444444,\"#bd3786\"],[0.5555555555555556,\"#d8576b\"],[0.6666666666666666,\"#ed7953\"],[0.7777777777777778,\"#fb9f3a\"],[0.8888888888888888,\"#fdca26\"],[1.0,\"#f0f921\"]],\"diverging\":[[0,\"#8e0152\"],[0.1,\"#c51b7d\"],[0.2,\"#de77ae\"],[0.3,\"#f1b6da\"],[0.4,\"#fde0ef\"],[0.5,\"#f7f7f7\"],[0.6,\"#e6f5d0\"],[0.7,\"#b8e186\"],[0.8,\"#7fbc41\"],[0.9,\"#4d9221\"],[1,\"#276419\"]]},\"xaxis\":{\"gridcolor\":\"white\",\"linecolor\":\"white\",\"ticks\":\"\",\"title\":{\"standoff\":15},\"zerolinecolor\":\"white\",\"automargin\":true,\"zerolinewidth\":2},\"yaxis\":{\"gridcolor\":\"white\",\"linecolor\":\"white\",\"ticks\":\"\",\"title\":{\"standoff\":15},\"zerolinecolor\":\"white\",\"automargin\":true,\"zerolinewidth\":2},\"scene\":{\"xaxis\":{\"backgroundcolor\":\"#E5ECF6\",\"gridcolor\":\"white\",\"linecolor\":\"white\",\"showbackground\":true,\"ticks\":\"\",\"zerolinecolor\":\"white\",\"gridwidth\":2},\"yaxis\":{\"backgroundcolor\":\"#E5ECF6\",\"gridcolor\":\"white\",\"linecolor\":\"white\",\"showbackground\":true,\"ticks\":\"\",\"zerolinecolor\":\"white\",\"gridwidth\":2},\"zaxis\":{\"backgroundcolor\":\"#E5ECF6\",\"gridcolor\":\"white\",\"linecolor\":\"white\",\"showbackground\":true,\"ticks\":\"\",\"zerolinecolor\":\"white\",\"gridwidth\":2}},\"shapedefaults\":{\"line\":{\"color\":\"#2a3f5f\"}},\"annotationdefaults\":{\"arrowcolor\":\"#2a3f5f\",\"arrowhead\":0,\"arrowwidth\":1},\"geo\":{\"bgcolor\":\"white\",\"landcolor\":\"#E5ECF6\",\"subunitcolor\":\"white\",\"showland\":true,\"showlakes\":true,\"lakecolor\":\"white\"},\"title\":{\"x\":0.05},\"mapbox\":{\"style\":\"light\"}}}},                        {\"responsive\": true}                    ).then(function(){\n",
              "                            \n",
              "var gd = document.getElementById('f07324ef-f1be-453d-ba1f-40d724fe2291');\n",
              "var x = new MutationObserver(function (mutations, observer) {{\n",
              "        var display = window.getComputedStyle(gd).display;\n",
              "        if (!display || display === 'none') {{\n",
              "            console.log([gd, 'removed!']);\n",
              "            Plotly.purge(gd);\n",
              "            observer.disconnect();\n",
              "        }}\n",
              "}});\n",
              "\n",
              "// Listen for the removal of the full notebook cells\n",
              "var notebookContainer = gd.closest('#notebook-container');\n",
              "if (notebookContainer) {{\n",
              "    x.observe(notebookContainer, {childList: true});\n",
              "}}\n",
              "\n",
              "// Listen for the clearing of the current output cell\n",
              "var outputEl = gd.closest('.output');\n",
              "if (outputEl) {{\n",
              "    x.observe(outputEl, {childList: true});\n",
              "}}\n",
              "\n",
              "                        })                };                            </script>        </div>\n",
              "</body>\n",
              "</html>"
            ]
          },
          "metadata": {}
        },
        {
          "output_type": "display_data",
          "data": {
            "text/html": [
              "<html>\n",
              "<head><meta charset=\"utf-8\" /></head>\n",
              "<body>\n",
              "    <div>            <script src=\"https://cdnjs.cloudflare.com/ajax/libs/mathjax/2.7.5/MathJax.js?config=TeX-AMS-MML_SVG\"></script><script type=\"text/javascript\">if (window.MathJax && window.MathJax.Hub && window.MathJax.Hub.Config) {window.MathJax.Hub.Config({SVG: {font: \"STIX-Web\"}});}</script>                <script type=\"text/javascript\">window.PlotlyConfig = {MathJaxConfig: 'local'};</script>\n",
              "        <script charset=\"utf-8\" src=\"https://cdn.plot.ly/plotly-2.24.1.min.js\"></script>                <div id=\"f70cbb98-c214-4e60-89b6-776867b24080\" class=\"plotly-graph-div\" style=\"height:525px; width:100%;\"></div>            <script type=\"text/javascript\">                                    window.PLOTLYENV=window.PLOTLYENV || {};                                    if (document.getElementById(\"f70cbb98-c214-4e60-89b6-776867b24080\")) {                    Plotly.newPlot(                        \"f70cbb98-c214-4e60-89b6-776867b24080\",                        [{\"cliponaxis\":false,\"hovertemplate\":[\"depth (IntDistribution): 0.003440708950629437\\u003cextra\\u003e\\u003c\\u002fextra\\u003e\",\"bootstrap_type (CategoricalDistribution): 0.009321986858601406\\u003cextra\\u003e\\u003c\\u002fextra\\u003e\",\"boosting_type (CategoricalDistribution): 0.012327766366722216\\u003cextra\\u003e\\u003c\\u002fextra\\u003e\",\"learning_rate (FloatDistribution): 0.47629327156992035\\u003cextra\\u003e\\u003c\\u002fextra\\u003e\",\"colsample_bylevel (FloatDistribution): 0.4986162662541267\\u003cextra\\u003e\\u003c\\u002fextra\\u003e\"],\"name\":\"Objective Value\",\"orientation\":\"h\",\"text\":[\"\\u003c0.01\",\"\\u003c0.01\",\"0.01\",\"0.48\",\"0.50\"],\"textposition\":\"outside\",\"x\":[0.003440708950629437,0.009321986858601406,0.012327766366722216,0.47629327156992035,0.4986162662541267],\"y\":[\"depth\",\"bootstrap_type\",\"boosting_type\",\"learning_rate\",\"colsample_bylevel\"],\"type\":\"bar\"}],                        {\"title\":{\"text\":\"Hyperparameter Importances\"},\"xaxis\":{\"title\":{\"text\":\"Hyperparameter Importance\"}},\"yaxis\":{\"title\":{\"text\":\"Hyperparameter\"}},\"template\":{\"data\":{\"histogram2dcontour\":[{\"type\":\"histogram2dcontour\",\"colorbar\":{\"outlinewidth\":0,\"ticks\":\"\"},\"colorscale\":[[0.0,\"#0d0887\"],[0.1111111111111111,\"#46039f\"],[0.2222222222222222,\"#7201a8\"],[0.3333333333333333,\"#9c179e\"],[0.4444444444444444,\"#bd3786\"],[0.5555555555555556,\"#d8576b\"],[0.6666666666666666,\"#ed7953\"],[0.7777777777777778,\"#fb9f3a\"],[0.8888888888888888,\"#fdca26\"],[1.0,\"#f0f921\"]]}],\"choropleth\":[{\"type\":\"choropleth\",\"colorbar\":{\"outlinewidth\":0,\"ticks\":\"\"}}],\"histogram2d\":[{\"type\":\"histogram2d\",\"colorbar\":{\"outlinewidth\":0,\"ticks\":\"\"},\"colorscale\":[[0.0,\"#0d0887\"],[0.1111111111111111,\"#46039f\"],[0.2222222222222222,\"#7201a8\"],[0.3333333333333333,\"#9c179e\"],[0.4444444444444444,\"#bd3786\"],[0.5555555555555556,\"#d8576b\"],[0.6666666666666666,\"#ed7953\"],[0.7777777777777778,\"#fb9f3a\"],[0.8888888888888888,\"#fdca26\"],[1.0,\"#f0f921\"]]}],\"heatmap\":[{\"type\":\"heatmap\",\"colorbar\":{\"outlinewidth\":0,\"ticks\":\"\"},\"colorscale\":[[0.0,\"#0d0887\"],[0.1111111111111111,\"#46039f\"],[0.2222222222222222,\"#7201a8\"],[0.3333333333333333,\"#9c179e\"],[0.4444444444444444,\"#bd3786\"],[0.5555555555555556,\"#d8576b\"],[0.6666666666666666,\"#ed7953\"],[0.7777777777777778,\"#fb9f3a\"],[0.8888888888888888,\"#fdca26\"],[1.0,\"#f0f921\"]]}],\"heatmapgl\":[{\"type\":\"heatmapgl\",\"colorbar\":{\"outlinewidth\":0,\"ticks\":\"\"},\"colorscale\":[[0.0,\"#0d0887\"],[0.1111111111111111,\"#46039f\"],[0.2222222222222222,\"#7201a8\"],[0.3333333333333333,\"#9c179e\"],[0.4444444444444444,\"#bd3786\"],[0.5555555555555556,\"#d8576b\"],[0.6666666666666666,\"#ed7953\"],[0.7777777777777778,\"#fb9f3a\"],[0.8888888888888888,\"#fdca26\"],[1.0,\"#f0f921\"]]}],\"contourcarpet\":[{\"type\":\"contourcarpet\",\"colorbar\":{\"outlinewidth\":0,\"ticks\":\"\"}}],\"contour\":[{\"type\":\"contour\",\"colorbar\":{\"outlinewidth\":0,\"ticks\":\"\"},\"colorscale\":[[0.0,\"#0d0887\"],[0.1111111111111111,\"#46039f\"],[0.2222222222222222,\"#7201a8\"],[0.3333333333333333,\"#9c179e\"],[0.4444444444444444,\"#bd3786\"],[0.5555555555555556,\"#d8576b\"],[0.6666666666666666,\"#ed7953\"],[0.7777777777777778,\"#fb9f3a\"],[0.8888888888888888,\"#fdca26\"],[1.0,\"#f0f921\"]]}],\"surface\":[{\"type\":\"surface\",\"colorbar\":{\"outlinewidth\":0,\"ticks\":\"\"},\"colorscale\":[[0.0,\"#0d0887\"],[0.1111111111111111,\"#46039f\"],[0.2222222222222222,\"#7201a8\"],[0.3333333333333333,\"#9c179e\"],[0.4444444444444444,\"#bd3786\"],[0.5555555555555556,\"#d8576b\"],[0.6666666666666666,\"#ed7953\"],[0.7777777777777778,\"#fb9f3a\"],[0.8888888888888888,\"#fdca26\"],[1.0,\"#f0f921\"]]}],\"mesh3d\":[{\"type\":\"mesh3d\",\"colorbar\":{\"outlinewidth\":0,\"ticks\":\"\"}}],\"scatter\":[{\"fillpattern\":{\"fillmode\":\"overlay\",\"size\":10,\"solidity\":0.2},\"type\":\"scatter\"}],\"parcoords\":[{\"type\":\"parcoords\",\"line\":{\"colorbar\":{\"outlinewidth\":0,\"ticks\":\"\"}}}],\"scatterpolargl\":[{\"type\":\"scatterpolargl\",\"marker\":{\"colorbar\":{\"outlinewidth\":0,\"ticks\":\"\"}}}],\"bar\":[{\"error_x\":{\"color\":\"#2a3f5f\"},\"error_y\":{\"color\":\"#2a3f5f\"},\"marker\":{\"line\":{\"color\":\"#E5ECF6\",\"width\":0.5},\"pattern\":{\"fillmode\":\"overlay\",\"size\":10,\"solidity\":0.2}},\"type\":\"bar\"}],\"scattergeo\":[{\"type\":\"scattergeo\",\"marker\":{\"colorbar\":{\"outlinewidth\":0,\"ticks\":\"\"}}}],\"scatterpolar\":[{\"type\":\"scatterpolar\",\"marker\":{\"colorbar\":{\"outlinewidth\":0,\"ticks\":\"\"}}}],\"histogram\":[{\"marker\":{\"pattern\":{\"fillmode\":\"overlay\",\"size\":10,\"solidity\":0.2}},\"type\":\"histogram\"}],\"scattergl\":[{\"type\":\"scattergl\",\"marker\":{\"colorbar\":{\"outlinewidth\":0,\"ticks\":\"\"}}}],\"scatter3d\":[{\"type\":\"scatter3d\",\"line\":{\"colorbar\":{\"outlinewidth\":0,\"ticks\":\"\"}},\"marker\":{\"colorbar\":{\"outlinewidth\":0,\"ticks\":\"\"}}}],\"scattermapbox\":[{\"type\":\"scattermapbox\",\"marker\":{\"colorbar\":{\"outlinewidth\":0,\"ticks\":\"\"}}}],\"scatterternary\":[{\"type\":\"scatterternary\",\"marker\":{\"colorbar\":{\"outlinewidth\":0,\"ticks\":\"\"}}}],\"scattercarpet\":[{\"type\":\"scattercarpet\",\"marker\":{\"colorbar\":{\"outlinewidth\":0,\"ticks\":\"\"}}}],\"carpet\":[{\"aaxis\":{\"endlinecolor\":\"#2a3f5f\",\"gridcolor\":\"white\",\"linecolor\":\"white\",\"minorgridcolor\":\"white\",\"startlinecolor\":\"#2a3f5f\"},\"baxis\":{\"endlinecolor\":\"#2a3f5f\",\"gridcolor\":\"white\",\"linecolor\":\"white\",\"minorgridcolor\":\"white\",\"startlinecolor\":\"#2a3f5f\"},\"type\":\"carpet\"}],\"table\":[{\"cells\":{\"fill\":{\"color\":\"#EBF0F8\"},\"line\":{\"color\":\"white\"}},\"header\":{\"fill\":{\"color\":\"#C8D4E3\"},\"line\":{\"color\":\"white\"}},\"type\":\"table\"}],\"barpolar\":[{\"marker\":{\"line\":{\"color\":\"#E5ECF6\",\"width\":0.5},\"pattern\":{\"fillmode\":\"overlay\",\"size\":10,\"solidity\":0.2}},\"type\":\"barpolar\"}],\"pie\":[{\"automargin\":true,\"type\":\"pie\"}]},\"layout\":{\"autotypenumbers\":\"strict\",\"colorway\":[\"#636efa\",\"#EF553B\",\"#00cc96\",\"#ab63fa\",\"#FFA15A\",\"#19d3f3\",\"#FF6692\",\"#B6E880\",\"#FF97FF\",\"#FECB52\"],\"font\":{\"color\":\"#2a3f5f\"},\"hovermode\":\"closest\",\"hoverlabel\":{\"align\":\"left\"},\"paper_bgcolor\":\"white\",\"plot_bgcolor\":\"#E5ECF6\",\"polar\":{\"bgcolor\":\"#E5ECF6\",\"angularaxis\":{\"gridcolor\":\"white\",\"linecolor\":\"white\",\"ticks\":\"\"},\"radialaxis\":{\"gridcolor\":\"white\",\"linecolor\":\"white\",\"ticks\":\"\"}},\"ternary\":{\"bgcolor\":\"#E5ECF6\",\"aaxis\":{\"gridcolor\":\"white\",\"linecolor\":\"white\",\"ticks\":\"\"},\"baxis\":{\"gridcolor\":\"white\",\"linecolor\":\"white\",\"ticks\":\"\"},\"caxis\":{\"gridcolor\":\"white\",\"linecolor\":\"white\",\"ticks\":\"\"}},\"coloraxis\":{\"colorbar\":{\"outlinewidth\":0,\"ticks\":\"\"}},\"colorscale\":{\"sequential\":[[0.0,\"#0d0887\"],[0.1111111111111111,\"#46039f\"],[0.2222222222222222,\"#7201a8\"],[0.3333333333333333,\"#9c179e\"],[0.4444444444444444,\"#bd3786\"],[0.5555555555555556,\"#d8576b\"],[0.6666666666666666,\"#ed7953\"],[0.7777777777777778,\"#fb9f3a\"],[0.8888888888888888,\"#fdca26\"],[1.0,\"#f0f921\"]],\"sequentialminus\":[[0.0,\"#0d0887\"],[0.1111111111111111,\"#46039f\"],[0.2222222222222222,\"#7201a8\"],[0.3333333333333333,\"#9c179e\"],[0.4444444444444444,\"#bd3786\"],[0.5555555555555556,\"#d8576b\"],[0.6666666666666666,\"#ed7953\"],[0.7777777777777778,\"#fb9f3a\"],[0.8888888888888888,\"#fdca26\"],[1.0,\"#f0f921\"]],\"diverging\":[[0,\"#8e0152\"],[0.1,\"#c51b7d\"],[0.2,\"#de77ae\"],[0.3,\"#f1b6da\"],[0.4,\"#fde0ef\"],[0.5,\"#f7f7f7\"],[0.6,\"#e6f5d0\"],[0.7,\"#b8e186\"],[0.8,\"#7fbc41\"],[0.9,\"#4d9221\"],[1,\"#276419\"]]},\"xaxis\":{\"gridcolor\":\"white\",\"linecolor\":\"white\",\"ticks\":\"\",\"title\":{\"standoff\":15},\"zerolinecolor\":\"white\",\"automargin\":true,\"zerolinewidth\":2},\"yaxis\":{\"gridcolor\":\"white\",\"linecolor\":\"white\",\"ticks\":\"\",\"title\":{\"standoff\":15},\"zerolinecolor\":\"white\",\"automargin\":true,\"zerolinewidth\":2},\"scene\":{\"xaxis\":{\"backgroundcolor\":\"#E5ECF6\",\"gridcolor\":\"white\",\"linecolor\":\"white\",\"showbackground\":true,\"ticks\":\"\",\"zerolinecolor\":\"white\",\"gridwidth\":2},\"yaxis\":{\"backgroundcolor\":\"#E5ECF6\",\"gridcolor\":\"white\",\"linecolor\":\"white\",\"showbackground\":true,\"ticks\":\"\",\"zerolinecolor\":\"white\",\"gridwidth\":2},\"zaxis\":{\"backgroundcolor\":\"#E5ECF6\",\"gridcolor\":\"white\",\"linecolor\":\"white\",\"showbackground\":true,\"ticks\":\"\",\"zerolinecolor\":\"white\",\"gridwidth\":2}},\"shapedefaults\":{\"line\":{\"color\":\"#2a3f5f\"}},\"annotationdefaults\":{\"arrowcolor\":\"#2a3f5f\",\"arrowhead\":0,\"arrowwidth\":1},\"geo\":{\"bgcolor\":\"white\",\"landcolor\":\"#E5ECF6\",\"subunitcolor\":\"white\",\"showland\":true,\"showlakes\":true,\"lakecolor\":\"white\"},\"title\":{\"x\":0.05},\"mapbox\":{\"style\":\"light\"}}}},                        {\"responsive\": true}                    ).then(function(){\n",
              "                            \n",
              "var gd = document.getElementById('f70cbb98-c214-4e60-89b6-776867b24080');\n",
              "var x = new MutationObserver(function (mutations, observer) {{\n",
              "        var display = window.getComputedStyle(gd).display;\n",
              "        if (!display || display === 'none') {{\n",
              "            console.log([gd, 'removed!']);\n",
              "            Plotly.purge(gd);\n",
              "            observer.disconnect();\n",
              "        }}\n",
              "}});\n",
              "\n",
              "// Listen for the removal of the full notebook cells\n",
              "var notebookContainer = gd.closest('#notebook-container');\n",
              "if (notebookContainer) {{\n",
              "    x.observe(notebookContainer, {childList: true});\n",
              "}}\n",
              "\n",
              "// Listen for the clearing of the current output cell\n",
              "var outputEl = gd.closest('.output');\n",
              "if (outputEl) {{\n",
              "    x.observe(outputEl, {childList: true});\n",
              "}}\n",
              "\n",
              "                        })                };                            </script>        </div>\n",
              "</body>\n",
              "</html>"
            ]
          },
          "metadata": {}
        }
      ]
    },
    {
      "cell_type": "code",
      "source": [
        "# ベストパラメータを使ってモデルの訓練\n",
        "\n",
        "# Best trial: {learning_rate: 0.5740110283756216\n",
        "    # colsample_bylevel: 0.07233891150849797\n",
        "    # depth: 6\n",
        "    # boosting_type: Ordered\n",
        "    # bootstrap_type: Bayesian\n",
        "    # bagging_temperature: 1.9072492513603367}\n",
        "# Best score:  0.5144574419815232\n",
        "\n",
        "param = {\n",
        "        'loss_function': 'MultiClass',\n",
        "        'learning_rate': 0.5740110283756216,\n",
        "        \"colsample_bylevel\": 0.07233891150849797,\n",
        "        \"depth\": 6,\n",
        "        \"boosting_type\": \"Ordered\",\n",
        "        \"bootstrap_type\": \"Bayesian\",\n",
        "        \"used_ram_limit\": \"3gb\",\n",
        "        \"eval_metric\": \"Accuracy\",\n",
        "        \"random_state\": 42\n",
        "        }\n",
        "\n",
        "cat_model = cb.CatBoostClassifier(**param)\n",
        "\n",
        "# pruning_callback = CatBoostPruningCallback(trial, \"Accuracy\")\n",
        "# cat_model.fit(\n",
        "#     X_train,\n",
        "#     y_train,\n",
        "#     # X, y,\n",
        "#     eval_set=[(X_valid, y_valid)],\n",
        "#     verbose=2,\n",
        "#     early_stopping_rounds=20,\n",
        "#     callbacks=[pruning_callback],\n",
        "# )\n",
        "\n",
        "# テストデータでの推論\n",
        "# cat_preds = np.reshape(cat_model.predict(df_test), -1)\n",
        "\n",
        "# print(cat_preds.shape)\n",
        "# print(cat_preds)"
      ],
      "metadata": {
        "collapsed": true,
        "id": "raPsryvBfgfv"
      },
      "execution_count": 14,
      "outputs": []
    },
    {
      "cell_type": "markdown",
      "source": [
        "## StackingClassifier を使ってアンサンブル学習"
      ],
      "metadata": {
        "id": "Hmblty2Ja7ZR"
      }
    },
    {
      "cell_type": "code",
      "source": [
        "estimators = [('rf', rf), ('xgb', xgb_model), ('lgb', lgb_model), ('cat', cat_model)]\n",
        "\n",
        "stack = StackingClassifier(\n",
        "    estimators=estimators,\n",
        "    final_estimator=LogisticRegression(),\n",
        "    n_jobs=-1\n",
        ")\n",
        "\n",
        "stack.fit(X_train, y_train)\n",
        "\n",
        "y_pred = stack.predict(X_valid)\n",
        "\n",
        "# 評価メトリックの計算\n",
        "accuracy = accuracy_score(y_valid, y_pred)\n",
        "f1_macro = f1_score(y_valid, y_pred, average='macro')\n",
        "\n",
        "# 結果の表示\n",
        "print('Accuracy:', accuracy)\n",
        "print('F1 Macro:', f1_macro)"
      ],
      "metadata": {
        "colab": {
          "base_uri": "https://localhost:8080/"
        },
        "id": "VRLhfGHyR52W",
        "outputId": "4114fc84-7b58-421c-fabd-27bd58ceb6ea"
      },
      "execution_count": 24,
      "outputs": [
        {
          "output_type": "stream",
          "name": "stdout",
          "text": [
            "Accuracy: 0.5333333333333333\n",
            "F1 Macro: 0.4985685651342925\n"
          ]
        }
      ]
    },
    {
      "cell_type": "markdown",
      "source": [
        "## モデルの評価： テストデータを用いた推論"
      ],
      "metadata": {
        "id": "quIqyc8j-r8y"
      }
    },
    {
      "cell_type": "code",
      "source": [
        "stack.fit(X, y)  # 全データを用いて訓練"
      ],
      "metadata": {
        "colab": {
          "base_uri": "https://localhost:8080/",
          "height": 163
        },
        "id": "qp5mzimsB4L1",
        "outputId": "3c9b63bc-8384-45e4-c3b9-a33964535354"
      },
      "execution_count": 25,
      "outputs": [
        {
          "output_type": "execute_result",
          "data": {
            "text/plain": [
              "StackingClassifier(estimators=[('rf',\n",
              "                                RandomForestClassifier(max_depth=13,\n",
              "                                                       min_samples_leaf=13,\n",
              "                                                       min_samples_split=18,\n",
              "                                                       n_estimators=166,\n",
              "                                                       n_jobs=-1,\n",
              "                                                       random_state=42)),\n",
              "                               ('xgb',\n",
              "                                XGBClassifier(base_score=None, booster=None,\n",
              "                                              callbacks=None,\n",
              "                                              colsample_bylevel=None,\n",
              "                                              colsample_bynode=None,\n",
              "                                              colsample_bytree=0.46905238052158094,\n",
              "                                              device=None,\n",
              "                                              early_stopping_rounds=None,\n",
              "                                              enabl...\n",
              "                                               feature_fraction=0.7763349478313206,\n",
              "                                               lambda_l1=2.9738782603185556,\n",
              "                                               lambda_l2=1.5159321612358156,\n",
              "                                               learning_rate=0.02333208305281641,\n",
              "                                               metric='multi_logloss',\n",
              "                                               min_child_samples=66,\n",
              "                                               num_class=4, num_iterations=390,\n",
              "                                               num_leaves=14,\n",
              "                                               objective='multiclass',\n",
              "                                               random_state=42, verbose=-1)),\n",
              "                               ('cat',\n",
              "                                <catboost.core.CatBoostClassifier object at 0x7ba731a0b970>)],\n",
              "                   final_estimator=LogisticRegression(), n_jobs=-1)"
            ],
            "text/html": [
              "<style>#sk-container-id-1 {color: black;background-color: white;}#sk-container-id-1 pre{padding: 0;}#sk-container-id-1 div.sk-toggleable {background-color: white;}#sk-container-id-1 label.sk-toggleable__label {cursor: pointer;display: block;width: 100%;margin-bottom: 0;padding: 0.3em;box-sizing: border-box;text-align: center;}#sk-container-id-1 label.sk-toggleable__label-arrow:before {content: \"▸\";float: left;margin-right: 0.25em;color: #696969;}#sk-container-id-1 label.sk-toggleable__label-arrow:hover:before {color: black;}#sk-container-id-1 div.sk-estimator:hover label.sk-toggleable__label-arrow:before {color: black;}#sk-container-id-1 div.sk-toggleable__content {max-height: 0;max-width: 0;overflow: hidden;text-align: left;background-color: #f0f8ff;}#sk-container-id-1 div.sk-toggleable__content pre {margin: 0.2em;color: black;border-radius: 0.25em;background-color: #f0f8ff;}#sk-container-id-1 input.sk-toggleable__control:checked~div.sk-toggleable__content {max-height: 200px;max-width: 100%;overflow: auto;}#sk-container-id-1 input.sk-toggleable__control:checked~label.sk-toggleable__label-arrow:before {content: \"▾\";}#sk-container-id-1 div.sk-estimator input.sk-toggleable__control:checked~label.sk-toggleable__label {background-color: #d4ebff;}#sk-container-id-1 div.sk-label input.sk-toggleable__control:checked~label.sk-toggleable__label {background-color: #d4ebff;}#sk-container-id-1 input.sk-hidden--visually {border: 0;clip: rect(1px 1px 1px 1px);clip: rect(1px, 1px, 1px, 1px);height: 1px;margin: -1px;overflow: hidden;padding: 0;position: absolute;width: 1px;}#sk-container-id-1 div.sk-estimator {font-family: monospace;background-color: #f0f8ff;border: 1px dotted black;border-radius: 0.25em;box-sizing: border-box;margin-bottom: 0.5em;}#sk-container-id-1 div.sk-estimator:hover {background-color: #d4ebff;}#sk-container-id-1 div.sk-parallel-item::after {content: \"\";width: 100%;border-bottom: 1px solid gray;flex-grow: 1;}#sk-container-id-1 div.sk-label:hover label.sk-toggleable__label {background-color: #d4ebff;}#sk-container-id-1 div.sk-serial::before {content: \"\";position: absolute;border-left: 1px solid gray;box-sizing: border-box;top: 0;bottom: 0;left: 50%;z-index: 0;}#sk-container-id-1 div.sk-serial {display: flex;flex-direction: column;align-items: center;background-color: white;padding-right: 0.2em;padding-left: 0.2em;position: relative;}#sk-container-id-1 div.sk-item {position: relative;z-index: 1;}#sk-container-id-1 div.sk-parallel {display: flex;align-items: stretch;justify-content: center;background-color: white;position: relative;}#sk-container-id-1 div.sk-item::before, #sk-container-id-1 div.sk-parallel-item::before {content: \"\";position: absolute;border-left: 1px solid gray;box-sizing: border-box;top: 0;bottom: 0;left: 50%;z-index: -1;}#sk-container-id-1 div.sk-parallel-item {display: flex;flex-direction: column;z-index: 1;position: relative;background-color: white;}#sk-container-id-1 div.sk-parallel-item:first-child::after {align-self: flex-end;width: 50%;}#sk-container-id-1 div.sk-parallel-item:last-child::after {align-self: flex-start;width: 50%;}#sk-container-id-1 div.sk-parallel-item:only-child::after {width: 0;}#sk-container-id-1 div.sk-dashed-wrapped {border: 1px dashed gray;margin: 0 0.4em 0.5em 0.4em;box-sizing: border-box;padding-bottom: 0.4em;background-color: white;}#sk-container-id-1 div.sk-label label {font-family: monospace;font-weight: bold;display: inline-block;line-height: 1.2em;}#sk-container-id-1 div.sk-label-container {text-align: center;}#sk-container-id-1 div.sk-container {/* jupyter's `normalize.less` sets `[hidden] { display: none; }` but bootstrap.min.css set `[hidden] { display: none !important; }` so we also need the `!important` here to be able to override the default hidden behavior on the sphinx rendered scikit-learn.org. See: https://github.com/scikit-learn/scikit-learn/issues/21755 */display: inline-block !important;position: relative;}#sk-container-id-1 div.sk-text-repr-fallback {display: none;}</style><div id=\"sk-container-id-1\" class=\"sk-top-container\"><div class=\"sk-text-repr-fallback\"><pre>StackingClassifier(estimators=[(&#x27;rf&#x27;,\n",
              "                                RandomForestClassifier(max_depth=13,\n",
              "                                                       min_samples_leaf=13,\n",
              "                                                       min_samples_split=18,\n",
              "                                                       n_estimators=166,\n",
              "                                                       n_jobs=-1,\n",
              "                                                       random_state=42)),\n",
              "                               (&#x27;xgb&#x27;,\n",
              "                                XGBClassifier(base_score=None, booster=None,\n",
              "                                              callbacks=None,\n",
              "                                              colsample_bylevel=None,\n",
              "                                              colsample_bynode=None,\n",
              "                                              colsample_bytree=0.46905238052158094,\n",
              "                                              device=None,\n",
              "                                              early_stopping_rounds=None,\n",
              "                                              enabl...\n",
              "                                               feature_fraction=0.7763349478313206,\n",
              "                                               lambda_l1=2.9738782603185556,\n",
              "                                               lambda_l2=1.5159321612358156,\n",
              "                                               learning_rate=0.02333208305281641,\n",
              "                                               metric=&#x27;multi_logloss&#x27;,\n",
              "                                               min_child_samples=66,\n",
              "                                               num_class=4, num_iterations=390,\n",
              "                                               num_leaves=14,\n",
              "                                               objective=&#x27;multiclass&#x27;,\n",
              "                                               random_state=42, verbose=-1)),\n",
              "                               (&#x27;cat&#x27;,\n",
              "                                &lt;catboost.core.CatBoostClassifier object at 0x7ba731a0b970&gt;)],\n",
              "                   final_estimator=LogisticRegression(), n_jobs=-1)</pre><b>In a Jupyter environment, please rerun this cell to show the HTML representation or trust the notebook. <br />On GitHub, the HTML representation is unable to render, please try loading this page with nbviewer.org.</b></div><div class=\"sk-container\" hidden><div class=\"sk-item sk-dashed-wrapped\"><div class=\"sk-label-container\"><div class=\"sk-label sk-toggleable\"><input class=\"sk-toggleable__control sk-hidden--visually\" id=\"sk-estimator-id-1\" type=\"checkbox\" ><label for=\"sk-estimator-id-1\" class=\"sk-toggleable__label sk-toggleable__label-arrow\">StackingClassifier</label><div class=\"sk-toggleable__content\"><pre>StackingClassifier(estimators=[(&#x27;rf&#x27;,\n",
              "                                RandomForestClassifier(max_depth=13,\n",
              "                                                       min_samples_leaf=13,\n",
              "                                                       min_samples_split=18,\n",
              "                                                       n_estimators=166,\n",
              "                                                       n_jobs=-1,\n",
              "                                                       random_state=42)),\n",
              "                               (&#x27;xgb&#x27;,\n",
              "                                XGBClassifier(base_score=None, booster=None,\n",
              "                                              callbacks=None,\n",
              "                                              colsample_bylevel=None,\n",
              "                                              colsample_bynode=None,\n",
              "                                              colsample_bytree=0.46905238052158094,\n",
              "                                              device=None,\n",
              "                                              early_stopping_rounds=None,\n",
              "                                              enabl...\n",
              "                                               feature_fraction=0.7763349478313206,\n",
              "                                               lambda_l1=2.9738782603185556,\n",
              "                                               lambda_l2=1.5159321612358156,\n",
              "                                               learning_rate=0.02333208305281641,\n",
              "                                               metric=&#x27;multi_logloss&#x27;,\n",
              "                                               min_child_samples=66,\n",
              "                                               num_class=4, num_iterations=390,\n",
              "                                               num_leaves=14,\n",
              "                                               objective=&#x27;multiclass&#x27;,\n",
              "                                               random_state=42, verbose=-1)),\n",
              "                               (&#x27;cat&#x27;,\n",
              "                                &lt;catboost.core.CatBoostClassifier object at 0x7ba731a0b970&gt;)],\n",
              "                   final_estimator=LogisticRegression(), n_jobs=-1)</pre></div></div></div><div class=\"sk-serial\"><div class=\"sk-item\"><div class=\"sk-parallel\"><div class=\"sk-parallel-item\"><div class=\"sk-item\"><div class=\"sk-label-container\"><div class=\"sk-label sk-toggleable\"><label>rf</label></div></div><div class=\"sk-serial\"><div class=\"sk-item\"><div class=\"sk-estimator sk-toggleable\"><input class=\"sk-toggleable__control sk-hidden--visually\" id=\"sk-estimator-id-2\" type=\"checkbox\" ><label for=\"sk-estimator-id-2\" class=\"sk-toggleable__label sk-toggleable__label-arrow\">RandomForestClassifier</label><div class=\"sk-toggleable__content\"><pre>RandomForestClassifier(max_depth=13, min_samples_leaf=13, min_samples_split=18,\n",
              "                       n_estimators=166, n_jobs=-1, random_state=42)</pre></div></div></div></div></div></div><div class=\"sk-parallel-item\"><div class=\"sk-item\"><div class=\"sk-label-container\"><div class=\"sk-label sk-toggleable\"><label>xgb</label></div></div><div class=\"sk-serial\"><div class=\"sk-item\"><div class=\"sk-estimator sk-toggleable\"><input class=\"sk-toggleable__control sk-hidden--visually\" id=\"sk-estimator-id-3\" type=\"checkbox\" ><label for=\"sk-estimator-id-3\" class=\"sk-toggleable__label sk-toggleable__label-arrow\">XGBClassifier</label><div class=\"sk-toggleable__content\"><pre>XGBClassifier(base_score=None, booster=None, callbacks=None,\n",
              "              colsample_bylevel=None, colsample_bynode=None,\n",
              "              colsample_bytree=0.46905238052158094, device=None,\n",
              "              early_stopping_rounds=None, enable_categorical=False,\n",
              "              eval_metric=None, feature_types=None, gamma=0.0002250569171273546,\n",
              "              grow_policy=None, importance_type=None,\n",
              "              interaction_constraints=None, learning_rate=0.12383207707591747,\n",
              "              max_bin=None, max_cat_threshold=None, max_cat_to_onehot=None,\n",
              "              max_delta_step=None, max_depth=4, max_leaves=None,\n",
              "              min_child_weight=5, missing=nan, monotone_constraints=None,\n",
              "              multi_strategy=None, n_estimators=None, n_jobs=-1,\n",
              "              num_parallel_tree=None, objective=&#x27;multi:softprob&#x27;, ...)</pre></div></div></div></div></div></div><div class=\"sk-parallel-item\"><div class=\"sk-item\"><div class=\"sk-label-container\"><div class=\"sk-label sk-toggleable\"><label>lgb</label></div></div><div class=\"sk-serial\"><div class=\"sk-item\"><div class=\"sk-estimator sk-toggleable\"><input class=\"sk-toggleable__control sk-hidden--visually\" id=\"sk-estimator-id-4\" type=\"checkbox\" ><label for=\"sk-estimator-id-4\" class=\"sk-toggleable__label sk-toggleable__label-arrow\">LGBMClassifier</label><div class=\"sk-toggleable__content\"><pre>LGBMClassifier(bagging_fraction=0.6964851869230628, bagging_freq=4,\n",
              "               feature_fraction=0.7763349478313206,\n",
              "               lambda_l1=2.9738782603185556, lambda_l2=1.5159321612358156,\n",
              "               learning_rate=0.02333208305281641, metric=&#x27;multi_logloss&#x27;,\n",
              "               min_child_samples=66, num_class=4, num_iterations=390,\n",
              "               num_leaves=14, objective=&#x27;multiclass&#x27;, random_state=42,\n",
              "               verbose=-1)</pre></div></div></div></div></div></div><div class=\"sk-parallel-item\"><div class=\"sk-item\"><div class=\"sk-label-container\"><div class=\"sk-label sk-toggleable\"><label>cat</label></div></div><div class=\"sk-serial\"><div class=\"sk-item\"><div class=\"sk-estimator sk-toggleable\"><input class=\"sk-toggleable__control sk-hidden--visually\" id=\"sk-estimator-id-5\" type=\"checkbox\" ><label for=\"sk-estimator-id-5\" class=\"sk-toggleable__label sk-toggleable__label-arrow\">CatBoostClassifier</label><div class=\"sk-toggleable__content\"><pre>&lt;catboost.core.CatBoostClassifier object at 0x7ba731a0b970&gt;</pre></div></div></div></div></div></div></div></div><div class=\"sk-item\"><div class=\"sk-parallel\"><div class=\"sk-parallel-item\"><div class=\"sk-item\"><div class=\"sk-label-container\"><div class=\"sk-label sk-toggleable\"><label>final_estimator</label></div></div><div class=\"sk-serial\"><div class=\"sk-item\"><div class=\"sk-estimator sk-toggleable\"><input class=\"sk-toggleable__control sk-hidden--visually\" id=\"sk-estimator-id-6\" type=\"checkbox\" ><label for=\"sk-estimator-id-6\" class=\"sk-toggleable__label sk-toggleable__label-arrow\">LogisticRegression</label><div class=\"sk-toggleable__content\"><pre>LogisticRegression()</pre></div></div></div></div></div></div></div></div></div></div></div></div>"
            ]
          },
          "metadata": {},
          "execution_count": 25
        }
      ]
    },
    {
      "cell_type": "code",
      "source": [
        "# テストデータを用いた推論\n",
        "\n",
        "pred_test = stack.predict(df_test)\n",
        "\n",
        "pred_test = pred_test.astype(int)  # float => int\n",
        "print(pred_test[:20])"
      ],
      "metadata": {
        "id": "n-HFx-DYasqn",
        "colab": {
          "base_uri": "https://localhost:8080/"
        },
        "outputId": "f9ce1a94-86fb-4070-88f7-bf8733dcb259"
      },
      "execution_count": 26,
      "outputs": [
        {
          "output_type": "stream",
          "name": "stdout",
          "text": [
            "[3 0 3 1 1 3 0 1 1 1 2 2 3 1 2 1 1 3 3 1]\n"
          ]
        }
      ]
    },
    {
      "cell_type": "code",
      "source": [
        "# submission ファイル作成\n",
        "\n",
        "df_submission = pd.DataFrame({'id': df_test_id, 'price_range': pred_test})\n",
        "df_submission.to_csv('submission.csv', index=False, header=None)"
      ],
      "metadata": {
        "id": "BTXLQZAngv-1"
      },
      "execution_count": 27,
      "outputs": []
    }
  ]
}